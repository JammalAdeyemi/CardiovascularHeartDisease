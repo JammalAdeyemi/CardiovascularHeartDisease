{
 "cells": [
  {
   "cell_type": "code",
   "execution_count": 8,
   "metadata": {
    "cell_id": "867bd2a17c9042f5bfd7a15d6be8b241",
    "deepnote_cell_type": "code",
    "deepnote_to_be_reexecuted": false,
    "execution_millis": 1205,
    "execution_start": 1677757291736,
    "source_hash": "264e894"
   },
   "outputs": [],
   "source": [
    "import pandas as pd\n",
    "import numpy as np\n",
    "import matplotlib.pyplot as plt\n",
    "from scipy.stats import uniform, randint\n",
    "\n",
    "from sklearn.model_selection import train_test_split, cross_val_score, RandomizedSearchCV, GridSearchCV\n",
    "from sklearn.ensemble import RandomForestClassifier, AdaBoostClassifier, GradientBoostingClassifier, VotingClassifier\n",
    "from sklearn.linear_model import LogisticRegression\n",
    "from sklearn.feature_selection import SelectKBest, chi2, f_classif\n",
    "from sklearn.preprocessing import RobustScaler\n",
    "from sklearn.metrics import accuracy_score, precision_score, precision_recall_fscore_support, confusion_matrix, plot_confusion_matrix\n",
    "from sklearn.metrics import auc, roc_curve, classification_report\n",
    "\n",
    "import warnings\n",
    "warnings.filterwarnings(\"ignore\")\n",
    "\n",
    "RANDOM_STATE = 42"
   ]
  },
  {
   "cell_type": "markdown",
   "metadata": {
    "cell_id": "4a57a20c0f9a4c1ea0eb5592de49e828",
    "deepnote_cell_type": "text-cell-h2",
    "formattedRanges": [],
    "is_collapsed": false,
    "tags": []
   },
   "source": [
    "## Datasets"
   ]
  },
  {
   "cell_type": "code",
   "execution_count": 9,
   "metadata": {},
   "outputs": [
    {
     "data": {
      "text/html": [
       "<div>\n",
       "<style scoped>\n",
       "    .dataframe tbody tr th:only-of-type {\n",
       "        vertical-align: middle;\n",
       "    }\n",
       "\n",
       "    .dataframe tbody tr th {\n",
       "        vertical-align: top;\n",
       "    }\n",
       "\n",
       "    .dataframe thead th {\n",
       "        text-align: right;\n",
       "    }\n",
       "</style>\n",
       "<table border=\"1\" class=\"dataframe\">\n",
       "  <thead>\n",
       "    <tr style=\"text-align: right;\">\n",
       "      <th></th>\n",
       "      <th>age</th>\n",
       "      <th>gender</th>\n",
       "      <th>height</th>\n",
       "      <th>weight</th>\n",
       "      <th>systolic</th>\n",
       "      <th>diastolic</th>\n",
       "      <th>cholesterol</th>\n",
       "      <th>glucose</th>\n",
       "      <th>smoke</th>\n",
       "      <th>alcohol</th>\n",
       "      <th>active</th>\n",
       "      <th>cardiovascular_disease</th>\n",
       "      <th>BMI</th>\n",
       "    </tr>\n",
       "  </thead>\n",
       "  <tbody>\n",
       "    <tr>\n",
       "      <th>0</th>\n",
       "      <td>50</td>\n",
       "      <td>2</td>\n",
       "      <td>168</td>\n",
       "      <td>62</td>\n",
       "      <td>110</td>\n",
       "      <td>80</td>\n",
       "      <td>1</td>\n",
       "      <td>1</td>\n",
       "      <td>0</td>\n",
       "      <td>0</td>\n",
       "      <td>1</td>\n",
       "      <td>0</td>\n",
       "      <td>21</td>\n",
       "    </tr>\n",
       "    <tr>\n",
       "      <th>1</th>\n",
       "      <td>55</td>\n",
       "      <td>1</td>\n",
       "      <td>156</td>\n",
       "      <td>85</td>\n",
       "      <td>140</td>\n",
       "      <td>90</td>\n",
       "      <td>3</td>\n",
       "      <td>1</td>\n",
       "      <td>0</td>\n",
       "      <td>0</td>\n",
       "      <td>1</td>\n",
       "      <td>1</td>\n",
       "      <td>34</td>\n",
       "    </tr>\n",
       "    <tr>\n",
       "      <th>2</th>\n",
       "      <td>51</td>\n",
       "      <td>1</td>\n",
       "      <td>165</td>\n",
       "      <td>64</td>\n",
       "      <td>130</td>\n",
       "      <td>70</td>\n",
       "      <td>3</td>\n",
       "      <td>1</td>\n",
       "      <td>0</td>\n",
       "      <td>0</td>\n",
       "      <td>0</td>\n",
       "      <td>1</td>\n",
       "      <td>23</td>\n",
       "    </tr>\n",
       "    <tr>\n",
       "      <th>3</th>\n",
       "      <td>48</td>\n",
       "      <td>2</td>\n",
       "      <td>169</td>\n",
       "      <td>82</td>\n",
       "      <td>150</td>\n",
       "      <td>100</td>\n",
       "      <td>1</td>\n",
       "      <td>1</td>\n",
       "      <td>0</td>\n",
       "      <td>0</td>\n",
       "      <td>1</td>\n",
       "      <td>1</td>\n",
       "      <td>28</td>\n",
       "    </tr>\n",
       "    <tr>\n",
       "      <th>4</th>\n",
       "      <td>47</td>\n",
       "      <td>1</td>\n",
       "      <td>156</td>\n",
       "      <td>56</td>\n",
       "      <td>100</td>\n",
       "      <td>60</td>\n",
       "      <td>1</td>\n",
       "      <td>1</td>\n",
       "      <td>0</td>\n",
       "      <td>0</td>\n",
       "      <td>0</td>\n",
       "      <td>0</td>\n",
       "      <td>23</td>\n",
       "    </tr>\n",
       "  </tbody>\n",
       "</table>\n",
       "</div>"
      ],
      "text/plain": [
       "   age  gender  height  weight  systolic  diastolic  cholesterol  glucose  \\\n",
       "0   50       2     168      62       110         80            1        1   \n",
       "1   55       1     156      85       140         90            3        1   \n",
       "2   51       1     165      64       130         70            3        1   \n",
       "3   48       2     169      82       150        100            1        1   \n",
       "4   47       1     156      56       100         60            1        1   \n",
       "\n",
       "   smoke  alcohol  active  cardiovascular_disease  BMI  \n",
       "0      0        0       1                       0   21  \n",
       "1      0        0       1                       1   34  \n",
       "2      0        0       0                       1   23  \n",
       "3      0        0       1                       1   28  \n",
       "4      0        0       0                       0   23  "
      ]
     },
     "execution_count": 9,
     "metadata": {},
     "output_type": "execute_result"
    }
   ],
   "source": [
    "df = pd.read_csv('../../Data/heart_data_1.csv')\n",
    "df.head()"
   ]
  },
  {
   "cell_type": "code",
   "execution_count": 16,
   "metadata": {},
   "outputs": [
    {
     "data": {
      "text/plain": [
       "(70000, 13)"
      ]
     },
     "execution_count": 16,
     "metadata": {},
     "output_type": "execute_result"
    }
   ],
   "source": [
    "df.shape"
   ]
  },
  {
   "cell_type": "markdown",
   "metadata": {
    "cell_id": "99e25cbbf17f4548b3fdfd6395550993",
    "deepnote_cell_type": "markdown"
   },
   "source": [
    "## Train | Validation | Test Split Procedure"
   ]
  },
  {
   "cell_type": "code",
   "execution_count": 11,
   "metadata": {
    "cell_id": "aab11bb1d7d246548a7d89982bc51a36",
    "deepnote_cell_type": "code",
    "deepnote_to_be_reexecuted": false,
    "execution_millis": 32,
    "execution_start": 1677757299292,
    "source_hash": "1d679b9f"
   },
   "outputs": [],
   "source": [
    "# Splitting the datasets and choosing 7 columns that are correlated with the target Column\n",
    "selector = SelectKBest(k=7, score_func=f_classif)\n",
    "x = df.drop('cardiovascular_disease', axis=1)\n",
    "y = df['cardiovascular_disease']\n",
    "X = selector.fit_transform(x, y)"
   ]
  },
  {
   "cell_type": "markdown",
   "metadata": {},
   "source": [
    "The `SelectKBest` function is used to select the `k` best features from the dataset, where `k` is specified as `7` in this case. The `f_classif` score function is used to evaluate the significance of each feature based on the correlation between the feature and the target variable.\n",
    "\n",
    "In the next two lines, the `x` variable is created by dropping the target variable ('cardiovascular_disease') from the dataframe `df`. The `y` variable is set to the target variable.\n",
    "\n",
    "Finally, the `fit_transform()` method is used to fit the selector to the `x` and `y` data and transform the data to the selected features, which is then stored in the `X` variable."
   ]
  },
  {
   "cell_type": "code",
   "execution_count": 12,
   "metadata": {},
   "outputs": [
    {
     "name": "stdout",
     "output_type": "stream",
     "text": [
      "    Feat_names     F_Scores\n",
      "0          age  4202.465728\n",
      "4  cholesterol  3599.361137\n",
      "1       weight  2388.711779\n",
      "6          BMI  1965.669669\n",
      "5      glucose   562.772977\n",
      "3    diastolic   303.629011\n",
      "2     systolic   208.339524\n"
     ]
    }
   ],
   "source": [
    "names = x.columns.values[selector.get_support()]\n",
    "scores = selector.scores_[selector.get_support()]\n",
    "names_scores = list(zip(names, scores))\n",
    "ns_df = pd.DataFrame(data = names_scores, columns=['Feat_names', 'F_Scores'])\n",
    "# Sort the dataframe for better visualization\n",
    "ns_df_sorted = ns_df.sort_values(['F_Scores', 'Feat_names'], ascending = [False, True])\n",
    "print(ns_df_sorted)"
   ]
  },
  {
   "cell_type": "code",
   "execution_count": 13,
   "metadata": {},
   "outputs": [],
   "source": [
    "# Split the data into training and testing sets. 80% of data is training data, set aside other 20% for test\n",
    "X_train_val, X_test, y_train_val, y_test = train_test_split(X, y, test_size=0.2)\n",
    "\n",
    "# Remaining 80% is split into valuation and test sets. \n",
    "X_train, X_val, y_train, y_val = train_test_split(X_train_val, y_train_val, test_size=0.25)"
   ]
  },
  {
   "cell_type": "markdown",
   "metadata": {},
   "source": [
    "We use the `train_test_split` function to split the data into `training` and `testing` sets. We are using `80%` of the data for training and `20%` for testing. The `training` dataset was further splitted into `train` and `validation` sets with the `validation` set taking `25%`. The `random_state` parameter is set to 42, which ensures that the data is split in the same way every time the code is run."
   ]
  },
  {
   "cell_type": "code",
   "execution_count": 14,
   "metadata": {},
   "outputs": [],
   "source": [
    "# Scale the X data\n",
    "scaler = RobustScaler()\n",
    "X_train = scaler.fit_transform(X_train)\n",
    "X_val = scaler.transform(X_val)\n",
    "X_test = scaler.transform(X_test)"
   ]
  },
  {
   "cell_type": "markdown",
   "metadata": {
    "cell_id": "208b1b2a5b50420bb3e277b00c342399",
    "deepnote_cell_type": "markdown"
   },
   "source": [
    "The `RobustScaler` is a type of scaling method that is more robust to outliers in the data than other scaling methods, aand since we didn't drop outliers initially this is the best option to use to scale our datasets. It scales the features based on the `median` and `interquartile range (IQR)` of the feature values, which makes it less sensitive to outliers. By scaling the data, the features are transformed to have similar scales, which can improve the performance of some machine learning algorithms that are sensitive to the scale of the data."
   ]
  },
  {
   "cell_type": "code",
   "execution_count": 17,
   "metadata": {},
   "outputs": [
    {
     "name": "stdout",
     "output_type": "stream",
     "text": [
      "X_train: (42000, 7)\n",
      "X_val: (14000, 7)\n",
      "X_test: (14000, 7)\n"
     ]
    }
   ],
   "source": [
    "print(f\"X_train: {X_train.shape}\")\n",
    "print(f\"X_val: {X_val.shape}\")\n",
    "print(f\"X_test: {X_test.shape}\")"
   ]
  },
  {
   "cell_type": "markdown",
   "metadata": {
    "cell_id": "3d5125db202449c0867f9ac02cc4828c",
    "deepnote_cell_type": "markdown"
   },
   "source": [
    "## Modelling"
   ]
  },
  {
   "cell_type": "markdown",
   "metadata": {},
   "source": [
    "### Logistic Regression"
   ]
  },
  {
   "cell_type": "code",
   "execution_count": 18,
   "metadata": {
    "cell_id": "8c725a8b7f2644ba90de7163a77623f3",
    "deepnote_cell_type": "code",
    "deepnote_to_be_reexecuted": false,
    "execution_millis": 15420,
    "execution_start": 1677757318561,
    "source_hash": "9785ee1a",
    "tags": []
   },
   "outputs": [
    {
     "name": "stdout",
     "output_type": "stream",
     "text": [
      "Logistic Regression\n",
      "Accuracy on validation set: 0.7179285714285715\n",
      "Accuracy on test set: 0.7182142857142857\n",
      "Cross-validation score: 0.6956785714285715\n",
      "Confusion matrix:\n",
      "[[5330 1658]\n",
      " [2287 4725]]\n",
      "Classification report:\n",
      "              precision    recall  f1-score   support\n",
      "\n",
      "           0       0.70      0.76      0.73      6988\n",
      "           1       0.74      0.67      0.71      7012\n",
      "\n",
      "    accuracy                           0.72     14000\n",
      "   macro avg       0.72      0.72      0.72     14000\n",
      "weighted avg       0.72      0.72      0.72     14000\n",
      "\n",
      "\n"
     ]
    }
   ],
   "source": [
    "# Instantiate the models\n",
    "log_reg = LogisticRegression()\n",
    "# Fit and evaluate the Logistic Regression model\n",
    "log_reg.fit(X_train, y_train)\n",
    "y_val_pred = log_reg.predict(X_val)\n",
    "y_test_pred = log_reg.predict(X_test)\n",
    "print(\"Logistic Regression\")\n",
    "print(f\"Accuracy on validation set: {accuracy_score(y_val, y_val_pred)}\")\n",
    "print(f\"Accuracy on test set: {accuracy_score(y_test, y_test_pred)}\")\n",
    "print(f\"Cross-validation score: {cross_val_score(log_reg, X_train_val, y_train_val, cv=5).mean()}\")\n",
    "print(f\"Confusion matrix:\\n{confusion_matrix(y_test, y_test_pred)}\")\n",
    "print(f\"Classification report:\\n{classification_report(y_test, y_test_pred)}\\n\")"
   ]
  },
  {
   "cell_type": "markdown",
   "metadata": {
    "cell_id": "acc3fbabf38a4d18817c3c5707e9feda",
    "deepnote_cell_type": "markdown",
    "tags": []
   },
   "source": [
    "* Accuracy on validation set - 0.7179285714285715: \n",
    "This means that the logistic regression model correctly classified `71.79%` of the instances in the validation set.\n",
    "\n",
    "* Accuracy on test set - 0.7182142857142857: \n",
    "This means that the logistic regression model correctly classified `71.82%` of the instances in the test set.\n",
    "\n",
    "* Cross-validation score - 0.6956785714285715: \n",
    "This is the average accuracy score of the logistic regression model during cross-validation, which is approximately `69.57%`.\n",
    "\n",
    "* The classification report provides a summary of the model's performance on each class. The precision, recall, and F1-score metrics are calculated for both classes (0 and 1), as well as the macro and weighted averages across classes. In this case, the logistic regression model achieved a precision of `0.70` and recall of `0.76` for class 0, and a precision of `0.74` and recall of `0.67` for class 1. The overall accuracy on the test set was `0.72`."
   ]
  },
  {
   "cell_type": "code",
   "execution_count": 19,
   "metadata": {
    "cell_id": "0bf4c56e8bf14e4cba41c037394ffb95",
    "deepnote_cell_type": "code",
    "deepnote_to_be_reexecuted": false,
    "execution_millis": 1101,
    "execution_start": 1677757333976,
    "source_hash": "57d12c95",
    "tags": []
   },
   "outputs": [
    {
     "data": {
      "image/png": "[encoded data removed]",
      "text/plain": [
       "<Figure size 640x480 with 2 Axes>"
      ]
     },
     "metadata": {},
     "output_type": "display_data"
    }
   ],
   "source": [
    "plot_confusion_matrix(log_reg, X_test, y_test);"
   ]
  },
  {
   "cell_type": "markdown",
   "metadata": {},
   "source": [
    "* Confusion matrix: The confusion matrix shows the number of true positives (TP), true negatives (TN), false positives (FP), and false negatives (FN) that the model predicted on the test set. In this case, the model correctly predicted `5330` true negatives and `4725` true positives, but incorrectly predicted `1658` false positives and `2287` false negatives."
   ]
  },
  {
   "cell_type": "markdown",
   "metadata": {},
   "source": [
    "### Adaboost Classifier"
   ]
  },
  {
   "cell_type": "code",
   "execution_count": 20,
   "metadata": {
    "cell_id": "74024aa4b3c74d66881bde230e9f5fe2",
    "deepnote_cell_type": "code",
    "deepnote_to_be_reexecuted": false,
    "execution_millis": 5244,
    "execution_start": 1677757338727,
    "source_hash": "59051baa",
    "tags": []
   },
   "outputs": [
    {
     "name": "stdout",
     "output_type": "stream",
     "text": [
      "Adaboost Classifier\n",
      "Accuracy on validation set: 0.7331428571428571\n",
      "Accuracy on test set: 0.733\n",
      "Cross-validation score: 0.7270357142857142\n",
      "Confusion matrix:\n",
      "[[5625 1363]\n",
      " [2375 4637]]\n",
      "Classification report:\n",
      "              precision    recall  f1-score   support\n",
      "\n",
      "           0       0.70      0.80      0.75      6988\n",
      "           1       0.77      0.66      0.71      7012\n",
      "\n",
      "    accuracy                           0.73     14000\n",
      "   macro avg       0.74      0.73      0.73     14000\n",
      "weighted avg       0.74      0.73      0.73     14000\n",
      "\n",
      "\n"
     ]
    }
   ],
   "source": [
    "# Instantiate the models\n",
    "ada_boost = AdaBoostClassifier()\n",
    "# Fit and evaluate the Adaboost Classifier model\n",
    "ada_boost.fit(X_train, y_train)\n",
    "y_val_pred = ada_boost.predict(X_val)\n",
    "y_test_pred = ada_boost.predict(X_test)\n",
    "print(\"Adaboost Classifier\")\n",
    "print(f\"Accuracy on validation set: {accuracy_score(y_val, y_val_pred)}\")\n",
    "print(f\"Accuracy on test set: {accuracy_score(y_test, y_test_pred)}\")\n",
    "print(f\"Cross-validation score: {cross_val_score(ada_boost, X_train_val, y_train_val, cv=5).mean()}\")\n",
    "print(f\"Confusion matrix:\\n{confusion_matrix(y_test, y_test_pred)}\")\n",
    "print(f\"Classification report:\\n{classification_report(y_test, y_test_pred)}\\n\")"
   ]
  },
  {
   "cell_type": "markdown",
   "metadata": {},
   "source": [
    "* Accuracy on validation set - 0.7331428571428571 :\n",
    "This means that the Adaboost Classifier model correctly classified `73.31%` of the instances in the validation set.\n",
    "\n",
    "* Accuracy on test set - 0.733 :\n",
    "This means that the Adaboost Classifier model correctly classified `73.3%` of the instances in the test set.\n",
    "\n",
    "* Cross-validation score - 0.7270357142857142 :\n",
    "This is the average accuracy score of the Adaboost Classifier model during cross-validation, which is approximately `72.70%`.\n",
    "\n",
    "\n",
    "* The classification report provides a summary of the model's performance on each class. The precision, recall, and F1-score metrics are calculated for both classes (0 and 1), as well as the macro and weighted averages across classes. In this case, the logistic regression model achieved a precision of 0.70 and recall of 0.80 for class 0, and a precision of 0.77 and recall of 0.66 for class 1. The overall accuracy on the test set was `0.73`."
   ]
  },
  {
   "cell_type": "code",
   "execution_count": 21,
   "metadata": {
    "cell_id": "b66fc2ff8fb9499193b288fef8b107f2",
    "deepnote_cell_type": "code",
    "deepnote_to_be_reexecuted": false,
    "execution_millis": 303,
    "execution_start": 1677266701959,
    "source_hash": "816c38f3",
    "tags": []
   },
   "outputs": [
    {
     "data": {
      "image/png": "[encoded data removed]",
      "text/plain": [
       "<Figure size 640x480 with 2 Axes>"
      ]
     },
     "metadata": {},
     "output_type": "display_data"
    }
   ],
   "source": [
    "plot_confusion_matrix(ada_boost, X_test, y_test);"
   ]
  },
  {
   "cell_type": "markdown",
   "metadata": {
    "cell_id": "621fe1ea464245db8418e45976762def",
    "deepnote_cell_type": "markdown",
    "tags": []
   },
   "source": [
    "* Confusion matrix: The confusion matrix shows the number of true positives (TP), true negatives (TN), false positives (FP), and false negatives (FN) that the model predicted on the test set. In this case, the model correctly predicted `5625` true negatives and `4637` true positives, but incorrectly predicted `1363` false positives and `2375` false negatives."
   ]
  },
  {
   "cell_type": "markdown",
   "metadata": {},
   "source": [
    "### Gradientboost Classifier"
   ]
  },
  {
   "cell_type": "code",
   "execution_count": 22,
   "metadata": {
    "cell_id": "d9432391a9b64fb295ebfa55e9760a18",
    "deepnote_cell_type": "code",
    "deepnote_to_be_reexecuted": false,
    "execution_millis": 17003,
    "execution_start": 1677266702261,
    "source_hash": "e1f40237",
    "tags": []
   },
   "outputs": [
    {
     "name": "stdout",
     "output_type": "stream",
     "text": [
      "Gradientboost Classifier\n",
      "Accuracy on validation set: 0.7376428571428572\n",
      "Accuracy on test set: 0.7385714285714285\n",
      "Cross-validation score: 0.733375\n",
      "Confusion matrix:\n",
      "[[5388 1600]\n",
      " [2060 4952]]\n",
      "Classification report:\n",
      "              precision    recall  f1-score   support\n",
      "\n",
      "           0       0.72      0.77      0.75      6988\n",
      "           1       0.76      0.71      0.73      7012\n",
      "\n",
      "    accuracy                           0.74     14000\n",
      "   macro avg       0.74      0.74      0.74     14000\n",
      "weighted avg       0.74      0.74      0.74     14000\n",
      "\n",
      "\n"
     ]
    }
   ],
   "source": [
    "# Instantiate the models\n",
    "grad_boost = GradientBoostingClassifier()\n",
    "# Fit and evaluate the Gradientboost Classifier model\n",
    "grad_boost.fit(X_train, y_train)\n",
    "y_val_pred = grad_boost.predict(X_val)\n",
    "y_test_pred = grad_boost.predict(X_test)\n",
    "print(\"Gradientboost Classifier\")\n",
    "print(f\"Accuracy on validation set: {accuracy_score(y_val, y_val_pred)}\")\n",
    "print(f\"Accuracy on test set: {accuracy_score(y_test, y_test_pred)}\")\n",
    "print(f\"Cross-validation score: {cross_val_score(grad_boost, X_train_val, y_train_val, cv=5).mean()}\")\n",
    "print(f\"Confusion matrix:\\n{confusion_matrix(y_test, y_test_pred)}\")\n",
    "print(f\"Classification report:\\n{classification_report(y_test, y_test_pred)}\\n\")"
   ]
  },
  {
   "cell_type": "markdown",
   "metadata": {},
   "source": [
    "* Accuracy on validation set: 0.7376428571428572\n",
    "This means that the Gradientboost Classifier model correctly classified `73.76%` of the instances in the validation set.\n",
    "\n",
    "* Accuracy on test set: 0.7385714285714285\n",
    "This means that the Gradientboost Classifier model correctly classified `73.86%` of the instances in the test set.\n",
    "\n",
    "* Cross-validation score: 0.733375\n",
    "This is the average accuracy score of the Gradientboost Classifier model during cross-validation, which is approximately `73.34%`.\n",
    "\n",
    "* The classification report provides a summary of the model's performance on each class. The precision, recall, and F1-score metrics are calculated for both classes (0 and 1), as well as the macro and weighted averages across classes. In this case, the logistic regression model achieved a precision of `0.72` and recall of `0.77` for class 0, and a precision of `0.76` and recall of `0.71` for class 1. The overall accuracy on the test set was `0.74`."
   ]
  },
  {
   "cell_type": "code",
   "execution_count": 23,
   "metadata": {
    "cell_id": "5e4b498272984463b5769a757b35bf99",
    "deepnote_cell_type": "code",
    "deepnote_to_be_reexecuted": false,
    "execution_millis": 273,
    "execution_start": 1677266719265,
    "source_hash": "8a888e3a",
    "tags": []
   },
   "outputs": [
    {
     "data": {
      "image/png": "[encoded data removed]",
      "text/plain": [
       "<Figure size 640x480 with 2 Axes>"
      ]
     },
     "metadata": {},
     "output_type": "display_data"
    }
   ],
   "source": [
    "plot_confusion_matrix(grad_boost, X_test, y_test);"
   ]
  },
  {
   "cell_type": "markdown",
   "metadata": {
    "cell_id": "1a0800b525574e7988a0ba811200777c",
    "deepnote_cell_type": "markdown",
    "tags": []
   },
   "source": [
    "* Confusion matrix: The confusion matrix shows the number of true positives (TP), true negatives (TN), false positives (FP), and false negatives (FN) that the model predicted on the test set. In this case, the model correctly predicted `5388` true negatives and `4952` true positives, but incorrectly predicted `1600` false positives and `2060` false negatives."
   ]
  },
  {
   "cell_type": "markdown",
   "metadata": {},
   "source": [
    "### Random Forest Classifier"
   ]
  },
  {
   "cell_type": "code",
   "execution_count": 24,
   "metadata": {
    "cell_id": "f6ad889e4b3741b5afe8d05ece7971cb",
    "deepnote_cell_type": "code",
    "deepnote_to_be_reexecuted": false,
    "execution_millis": 21947,
    "execution_start": 1677266719536,
    "source_hash": "a7f7963",
    "tags": []
   },
   "outputs": [
    {
     "name": "stdout",
     "output_type": "stream",
     "text": [
      "Random Forest Classifier\n",
      "Accuracy on validation set: 0.7015714285714286\n",
      "Accuracy on test set: 0.7013571428571429\n",
      "Cross-validation score: 0.6955357142857143\n",
      "Confusion matrix:\n",
      "[[4923 2065]\n",
      " [2116 4896]]\n",
      "Classification report:\n",
      "              precision    recall  f1-score   support\n",
      "\n",
      "           0       0.70      0.70      0.70      6988\n",
      "           1       0.70      0.70      0.70      7012\n",
      "\n",
      "    accuracy                           0.70     14000\n",
      "   macro avg       0.70      0.70      0.70     14000\n",
      "weighted avg       0.70      0.70      0.70     14000\n",
      "\n",
      "\n"
     ]
    }
   ],
   "source": [
    "# Instantiate the models\n",
    "rf = RandomForestClassifier()\n",
    "# Fit and evaluate the Random Forest Classifier model\n",
    "rf.fit(X_train, y_train)\n",
    "y_val_pred = rf.predict(X_val)\n",
    "y_test_pred = rf.predict(X_test)\n",
    "print(\"Random Forest Classifier\")\n",
    "print(f\"Accuracy on validation set: {accuracy_score(y_val, y_val_pred)}\")\n",
    "print(f\"Accuracy on test set: {accuracy_score(y_test, y_test_pred)}\")\n",
    "print(f\"Cross-validation score: {cross_val_score(rf, X_train_val, y_train_val, cv=5).mean()}\")\n",
    "print(f\"Confusion matrix:\\n{confusion_matrix(y_test, y_test_pred)}\")\n",
    "print(f\"Classification report:\\n{classification_report(y_test, y_test_pred)}\\n\")"
   ]
  },
  {
   "cell_type": "markdown",
   "metadata": {},
   "source": [
    "* Accuracy on validation set:  0.7015714285714286\n",
    "This means that the Random Forest Classifier model correctly classified `70.15%` of the instances in the validation set.\n",
    "\n",
    "* Accuracy on test set: 0.7013571428571429\n",
    "This means that the Random Forest Classifier model correctly classified `70.16%` of the instances in the test set.\n",
    "\n",
    "* Cross-validation score: 0.6955357142857143\n",
    "This is the average accuracy score of the Random Forest Classifier model during cross-validation, which is approximately `69.55%`.\n",
    "\n",
    "* The classification report provides a summary of the model's performance on each class. The precision, recall, and F1-score metrics are calculated for both classes (0 and 1), as well as the macro and weighted averages across classes. In this case, the logistic regression model achieved a precision of `0.70` and recall of `0.70` for class 0, and a precision of `0.70` and recall of `0.70` for class 1. The overall accuracy on the test set was `0.70`."
   ]
  },
  {
   "cell_type": "code",
   "execution_count": 25,
   "metadata": {
    "cell_id": "54e166508d894405b150c276ba752746",
    "deepnote_cell_type": "code",
    "deepnote_to_be_reexecuted": false,
    "execution_millis": 500,
    "execution_start": 1677266741527,
    "source_hash": "e01af347",
    "tags": []
   },
   "outputs": [
    {
     "data": {
      "image/png": "[encoded data removed]",
      "text/plain": [
       "<Figure size 640x480 with 2 Axes>"
      ]
     },
     "metadata": {},
     "output_type": "display_data"
    }
   ],
   "source": [
    "plot_confusion_matrix(rf, X_test, y_test);"
   ]
  },
  {
   "cell_type": "markdown",
   "metadata": {
    "cell_id": "627f1adf1fe64d049ea55c0ffa2019b0",
    "deepnote_cell_type": "markdown",
    "tags": []
   },
   "source": [
    "* Confusion matrix: The confusion matrix shows the number of true positives (TP), true negatives (TN), false positives (FP), and false negatives (FN) that the model predicted on the test set. In this case, the model correctly predicted `4923` true negatives and `4896` true positives, but incorrectly predicted `2116` false positives and `2065` false negatives."
   ]
  },
  {
   "cell_type": "markdown",
   "metadata": {
    "cell_id": "ac0b03f2a9b64fddab2dfcab591a8703",
    "deepnote_cell_type": "text-cell-h3",
    "formattedRanges": [],
    "is_collapsed": false,
    "tags": []
   },
   "source": [
    "### Hyperparameter Tuning"
   ]
  },
  {
   "cell_type": "markdown",
   "metadata": {
    "cell_id": "a8f01f8414c04525823a7fbe2996d588",
    "deepnote_cell_type": "markdown",
    "tags": []
   },
   "source": [
    "After checking the performance metrics of each of our model, `Adaboost Classifier` and `Gradientboost Classifier` showed promising results and had higher accuracy, cross-validation scores compared to the other models, therefore we selected them for hyperparameter tuning to further optimize their performance."
   ]
  },
  {
   "cell_type": "markdown",
   "metadata": {},
   "source": [
    "#### RandomizedSearchCV"
   ]
  },
  {
   "cell_type": "code",
   "execution_count": 13,
   "metadata": {
    "cell_id": "08b0795c7d764757a83c8961056ad37e",
    "deepnote_cell_type": "code",
    "deepnote_to_be_reexecuted": false,
    "execution_millis": 1,
    "execution_start": 1677266742075,
    "source_hash": "fabb5032",
    "tags": []
   },
   "outputs": [],
   "source": [
    "# Define parameter distributions for RandomizedSearchCV\n",
    "ada_param_dist = {\n",
    "    'n_estimators': randint(50, 300),\n",
    "    'learning_rate': uniform(0.01, 0.5),\n",
    "    'algorithm': ['SAMME', 'SAMME.R']\n",
    "}\n",
    "\n",
    "gb_param_dist = {\n",
    "    'n_estimators': randint(50, 300),\n",
    "    'learning_rate': uniform(0.01, 0.5),\n",
    "    'subsample': uniform(0.1, 0.9),\n",
    "    'max_depth': randint(3, 10),\n",
    "    'max_features': ['sqrt', 'log2', None]\n",
    "}"
   ]
  },
  {
   "cell_type": "code",
   "execution_count": 14,
   "metadata": {
    "cell_id": "3268b74b0a5b43bd913f40373090b98f",
    "deepnote_cell_type": "code",
    "deepnote_to_be_reexecuted": false,
    "execution_millis": 529384,
    "execution_start": 1677266742076,
    "source_hash": "941d6a15",
    "tags": []
   },
   "outputs": [
    {
     "name": "stdout",
     "output_type": "stream",
     "text": [
      "Fitting 5 folds for each of 50 candidates, totalling 250 fits\n",
      "[CV] END algorithm=SAMME, learning_rate=0.40827149343011643, n_estimators=64; total time=   0.7s\n",
      "[CV] END algorithm=SAMME, learning_rate=0.40827149343011643, n_estimators=64; total time=   0.7s\n",
      "[CV] END algorithm=SAMME, learning_rate=0.40827149343011643, n_estimators=64; total time=   0.7s\n",
      "[CV] END algorithm=SAMME, learning_rate=0.40827149343011643, n_estimators=64; total time=   0.7s\n",
      "[CV] END algorithm=SAMME, learning_rate=0.40827149343011643, n_estimators=64; total time=   0.7s\n",
      "[CV] END algorithm=SAMME, learning_rate=0.39984550013638465, n_estimators=70; total time=   0.7s\n",
      "[CV] END algorithm=SAMME, learning_rate=0.39984550013638465, n_estimators=70; total time=   0.7s\n",
      "[CV] END algorithm=SAMME, learning_rate=0.39984550013638465, n_estimators=70; total time=   0.7s\n",
      "[CV] END algorithm=SAMME, learning_rate=0.39984550013638465, n_estimators=70; total time=   0.7s\n",
      "[CV] END algorithm=SAMME, learning_rate=0.39984550013638465, n_estimators=70; total time=   0.8s\n",
      "[CV] END algorithm=SAMME, learning_rate=0.23291637642679558, n_estimators=264; total time=   2.8s\n",
      "[CV] END algorithm=SAMME, learning_rate=0.23291637642679558, n_estimators=264; total time=   2.8s\n",
      "[CV] END algorithm=SAMME, learning_rate=0.23291637642679558, n_estimators=264; total time=   2.8s\n",
      "[CV] END algorithm=SAMME, learning_rate=0.23291637642679558, n_estimators=264; total time=   2.8s\n",
      "[CV] END algorithm=SAMME, learning_rate=0.23291637642679558, n_estimators=264; total time=   2.8s\n",
      "[CV] END algorithm=SAMME, learning_rate=0.2396244459829336, n_estimators=166; total time=   1.7s\n",
      "[CV] END algorithm=SAMME, learning_rate=0.2396244459829336, n_estimators=166; total time=   1.7s\n",
      "[CV] END algorithm=SAMME, learning_rate=0.2396244459829336, n_estimators=166; total time=   1.8s\n",
      "[CV] END algorithm=SAMME, learning_rate=0.2396244459829336, n_estimators=166; total time=   1.8s\n",
      "[CV] END algorithm=SAMME, learning_rate=0.2396244459829336, n_estimators=166; total time=   1.8s\n",
      "[CV] END algorithm=SAMME.R, learning_rate=0.08143340896097039, n_estimators=180; total time=   2.5s\n",
      "[CV] END algorithm=SAMME.R, learning_rate=0.08143340896097039, n_estimators=180; total time=   2.5s\n",
      "[CV] END algorithm=SAMME.R, learning_rate=0.08143340896097039, n_estimators=180; total time=   2.5s\n",
      "[CV] END algorithm=SAMME.R, learning_rate=0.08143340896097039, n_estimators=180; total time=   2.5s\n",
      "[CV] END algorithm=SAMME.R, learning_rate=0.08143340896097039, n_estimators=180; total time=   2.5s\n",
      "[CV] END algorithm=SAMME.R, learning_rate=0.03820578951355013, n_estimators=137; total time=   1.9s\n",
      "[CV] END algorithm=SAMME.R, learning_rate=0.03820578951355013, n_estimators=137; total time=   1.9s\n",
      "[CV] END algorithm=SAMME.R, learning_rate=0.03820578951355013, n_estimators=137; total time=   1.9s\n",
      "[CV] END algorithm=SAMME.R, learning_rate=0.03820578951355013, n_estimators=137; total time=   1.9s\n",
      "[CV] END algorithm=SAMME.R, learning_rate=0.03820578951355013, n_estimators=137; total time=   1.9s\n",
      "[CV] END algorithm=SAMME.R, learning_rate=0.4792763545078751, n_estimators=179; total time=   2.4s\n",
      "[CV] END algorithm=SAMME.R, learning_rate=0.4792763545078751, n_estimators=179; total time=   2.4s\n",
      "[CV] END algorithm=SAMME.R, learning_rate=0.4792763545078751, n_estimators=179; total time=   2.4s\n",
      "[CV] END algorithm=SAMME.R, learning_rate=0.4792763545078751, n_estimators=179; total time=   2.4s\n",
      "[CV] END algorithm=SAMME.R, learning_rate=0.4792763545078751, n_estimators=179; total time=   2.4s\n",
      "[CV] END algorithm=SAMME.R, learning_rate=0.5061057796456088, n_estimators=210; total time=   2.8s\n",
      "[CV] END algorithm=SAMME.R, learning_rate=0.5061057796456088, n_estimators=210; total time=   2.8s\n",
      "[CV] END algorithm=SAMME.R, learning_rate=0.5061057796456088, n_estimators=210; total time=   2.8s\n",
      "[CV] END algorithm=SAMME.R, learning_rate=0.5061057796456088, n_estimators=210; total time=   2.8s\n",
      "[CV] END algorithm=SAMME.R, learning_rate=0.5061057796456088, n_estimators=210; total time=   2.8s\n",
      "[CV] END algorithm=SAMME.R, learning_rate=0.31582658024414045, n_estimators=285; total time=   3.8s\n",
      "[CV] END algorithm=SAMME.R, learning_rate=0.31582658024414045, n_estimators=285; total time=   3.8s\n",
      "[CV] END algorithm=SAMME.R, learning_rate=0.31582658024414045, n_estimators=285; total time=   3.9s\n",
      "[CV] END algorithm=SAMME.R, learning_rate=0.31582658024414045, n_estimators=285; total time=   3.8s\n",
      "[CV] END algorithm=SAMME.R, learning_rate=0.31582658024414045, n_estimators=285; total time=   3.8s\n",
      "[CV] END algorithm=SAMME, learning_rate=0.15561457009902097, n_estimators=108; total time=   1.2s\n",
      "[CV] END algorithm=SAMME, learning_rate=0.15561457009902097, n_estimators=108; total time=   1.1s\n",
      "[CV] END algorithm=SAMME, learning_rate=0.15561457009902097, n_estimators=108; total time=   1.1s\n",
      "[CV] END algorithm=SAMME, learning_rate=0.15561457009902097, n_estimators=108; total time=   1.1s\n",
      "[CV] END algorithm=SAMME, learning_rate=0.15561457009902097, n_estimators=108; total time=   1.1s\n",
      "[CV] END algorithm=SAMME, learning_rate=0.07974693032602091, n_estimators=269; total time=   2.8s\n",
      "[CV] END algorithm=SAMME, learning_rate=0.07974693032602091, n_estimators=269; total time=   2.9s\n",
      "[CV] END algorithm=SAMME, learning_rate=0.07974693032602091, n_estimators=269; total time=   2.8s\n",
      "[CV] END algorithm=SAMME, learning_rate=0.07974693032602091, n_estimators=269; total time=   2.8s\n",
      "[CV] END algorithm=SAMME, learning_rate=0.07974693032602091, n_estimators=269; total time=   2.9s\n",
      "[CV] END algorithm=SAMME.R, learning_rate=0.19318092164684586, n_estimators=239; total time=   3.2s\n",
      "[CV] END algorithm=SAMME.R, learning_rate=0.19318092164684586, n_estimators=239; total time=   3.2s\n",
      "[CV] END algorithm=SAMME.R, learning_rate=0.19318092164684586, n_estimators=239; total time=   3.2s\n",
      "[CV] END algorithm=SAMME.R, learning_rate=0.19318092164684586, n_estimators=239; total time=   3.2s\n",
      "[CV] END algorithm=SAMME.R, learning_rate=0.19318092164684586, n_estimators=239; total time=   3.2s\n",
      "[CV] END algorithm=SAMME.R, learning_rate=0.4025879806965068, n_estimators=100; total time=   1.4s\n",
      "[CV] END algorithm=SAMME.R, learning_rate=0.4025879806965068, n_estimators=100; total time=   1.4s\n",
      "[CV] END algorithm=SAMME.R, learning_rate=0.4025879806965068, n_estimators=100; total time=   1.4s\n",
      "[CV] END algorithm=SAMME.R, learning_rate=0.4025879806965068, n_estimators=100; total time=   1.4s\n",
      "[CV] END algorithm=SAMME.R, learning_rate=0.4025879806965068, n_estimators=100; total time=   1.4s\n",
      "[CV] END algorithm=SAMME.R, learning_rate=0.2671172192068058, n_estimators=113; total time=   1.5s\n",
      "[CV] END algorithm=SAMME.R, learning_rate=0.2671172192068058, n_estimators=113; total time=   1.5s\n",
      "[CV] END algorithm=SAMME.R, learning_rate=0.2671172192068058, n_estimators=113; total time=   1.5s\n",
      "[CV] END algorithm=SAMME.R, learning_rate=0.2671172192068058, n_estimators=113; total time=   1.5s\n",
      "[CV] END algorithm=SAMME.R, learning_rate=0.2671172192068058, n_estimators=113; total time=   1.5s\n",
      "[CV] END algorithm=SAMME, learning_rate=0.033225206359998864, n_estimators=100; total time=   1.1s\n",
      "[CV] END algorithm=SAMME, learning_rate=0.033225206359998864, n_estimators=100; total time=   1.1s\n",
      "[CV] END algorithm=SAMME, learning_rate=0.033225206359998864, n_estimators=100; total time=   1.1s\n",
      "[CV] END algorithm=SAMME, learning_rate=0.033225206359998864, n_estimators=100; total time=   1.1s\n",
      "[CV] END algorithm=SAMME, learning_rate=0.033225206359998864, n_estimators=100; total time=   1.1s\n",
      "[CV] END algorithm=SAMME, learning_rate=0.09526206184364576, n_estimators=216; total time=   2.3s\n",
      "[CV] END algorithm=SAMME, learning_rate=0.09526206184364576, n_estimators=216; total time=   2.3s\n",
      "[CV] END algorithm=SAMME, learning_rate=0.09526206184364576, n_estimators=216; total time=   2.3s\n",
      "[CV] END algorithm=SAMME, learning_rate=0.09526206184364576, n_estimators=216; total time=   2.3s\n",
      "[CV] END algorithm=SAMME, learning_rate=0.09526206184364576, n_estimators=216; total time=   2.3s\n",
      "[CV] END algorithm=SAMME.R, learning_rate=0.48444276862666663, n_estimators=109; total time=   1.5s\n",
      "[CV] END algorithm=SAMME.R, learning_rate=0.48444276862666663, n_estimators=109; total time=   1.5s\n",
      "[CV] END algorithm=SAMME.R, learning_rate=0.48444276862666663, n_estimators=109; total time=   1.5s\n",
      "[CV] END algorithm=SAMME.R, learning_rate=0.48444276862666663, n_estimators=109; total time=   1.5s\n",
      "[CV] END algorithm=SAMME.R, learning_rate=0.48444276862666663, n_estimators=109; total time=   1.5s\n",
      "[CV] END algorithm=SAMME.R, learning_rate=0.4141986740582306, n_estimators=58; total time=   0.8s\n",
      "[CV] END algorithm=SAMME.R, learning_rate=0.4141986740582306, n_estimators=58; total time=   0.8s\n",
      "[CV] END algorithm=SAMME.R, learning_rate=0.4141986740582306, n_estimators=58; total time=   0.8s\n",
      "[CV] END algorithm=SAMME.R, learning_rate=0.4141986740582306, n_estimators=58; total time=   0.8s\n",
      "[CV] END algorithm=SAMME.R, learning_rate=0.4141986740582306, n_estimators=58; total time=   0.8s\n",
      "[CV] END algorithm=SAMME.R, learning_rate=0.05883605700319194, n_estimators=133; total time=   1.8s\n",
      "[CV] END algorithm=SAMME.R, learning_rate=0.05883605700319194, n_estimators=133; total time=   1.8s\n",
      "[CV] END algorithm=SAMME.R, learning_rate=0.05883605700319194, n_estimators=133; total time=   1.8s\n",
      "[CV] END algorithm=SAMME.R, learning_rate=0.05883605700319194, n_estimators=133; total time=   1.8s\n",
      "[CV] END algorithm=SAMME.R, learning_rate=0.05883605700319194, n_estimators=133; total time=   1.8s\n",
      "[CV] END algorithm=SAMME.R, learning_rate=0.23007624686980066, n_estimators=248; total time=   3.4s\n",
      "[CV] END algorithm=SAMME.R, learning_rate=0.23007624686980066, n_estimators=248; total time=   3.3s\n",
      "[CV] END algorithm=SAMME.R, learning_rate=0.23007624686980066, n_estimators=248; total time=   3.3s\n",
      "[CV] END algorithm=SAMME.R, learning_rate=0.23007624686980066, n_estimators=248; total time=   3.4s\n",
      "[CV] END algorithm=SAMME.R, learning_rate=0.23007624686980066, n_estimators=248; total time=   3.3s\n",
      "[CV] END algorithm=SAMME.R, learning_rate=0.2575884550556351, n_estimators=224; total time=   3.0s\n",
      "[CV] END algorithm=SAMME.R, learning_rate=0.2575884550556351, n_estimators=224; total time=   3.0s\n",
      "[CV] END algorithm=SAMME.R, learning_rate=0.2575884550556351, n_estimators=224; total time=   3.0s\n",
      "[CV] END algorithm=SAMME.R, learning_rate=0.2575884550556351, n_estimators=224; total time=   3.0s\n",
      "[CV] END algorithm=SAMME.R, learning_rate=0.2575884550556351, n_estimators=224; total time=   3.1s\n",
      "[CV] END algorithm=SAMME, learning_rate=0.46466020103939104, n_estimators=213; total time=   2.2s\n",
      "[CV] END algorithm=SAMME, learning_rate=0.46466020103939104, n_estimators=213; total time=   2.2s\n",
      "[CV] END algorithm=SAMME, learning_rate=0.46466020103939104, n_estimators=213; total time=   2.2s\n",
      "[CV] END algorithm=SAMME, learning_rate=0.46466020103939104, n_estimators=213; total time=   2.2s\n",
      "[CV] END algorithm=SAMME, learning_rate=0.46466020103939104, n_estimators=213; total time=   2.2s\n",
      "[CV] END algorithm=SAMME.R, learning_rate=0.341261142176991, n_estimators=51; total time=   0.7s\n",
      "[CV] END algorithm=SAMME.R, learning_rate=0.341261142176991, n_estimators=51; total time=   0.7s\n",
      "[CV] END algorithm=SAMME.R, learning_rate=0.341261142176991, n_estimators=51; total time=   0.7s\n",
      "[CV] END algorithm=SAMME.R, learning_rate=0.341261142176991, n_estimators=51; total time=   0.7s\n",
      "[CV] END algorithm=SAMME.R, learning_rate=0.341261142176991, n_estimators=51; total time=   0.7s\n",
      "[CV] END algorithm=SAMME.R, learning_rate=0.2700340105889054, n_estimators=155; total time=   2.1s\n",
      "[CV] END algorithm=SAMME.R, learning_rate=0.2700340105889054, n_estimators=155; total time=   2.1s\n",
      "[CV] END algorithm=SAMME.R, learning_rate=0.2700340105889054, n_estimators=155; total time=   2.1s\n",
      "[CV] END algorithm=SAMME.R, learning_rate=0.2700340105889054, n_estimators=155; total time=   2.1s\n",
      "[CV] END algorithm=SAMME.R, learning_rate=0.2700340105889054, n_estimators=155; total time=   2.1s\n",
      "[CV] END algorithm=SAMME.R, learning_rate=0.10242722776276351, n_estimators=240; total time=   3.2s\n",
      "[CV] END algorithm=SAMME.R, learning_rate=0.10242722776276351, n_estimators=240; total time=   3.2s\n",
      "[CV] END algorithm=SAMME.R, learning_rate=0.10242722776276351, n_estimators=240; total time=   3.2s\n",
      "[CV] END algorithm=SAMME.R, learning_rate=0.10242722776276351, n_estimators=240; total time=   3.2s\n",
      "[CV] END algorithm=SAMME.R, learning_rate=0.10242722776276351, n_estimators=240; total time=   3.3s\n",
      "[CV] END algorithm=SAMME.R, learning_rate=0.3975664116805573, n_estimators=211; total time=   2.8s\n",
      "[CV] END algorithm=SAMME.R, learning_rate=0.3975664116805573, n_estimators=211; total time=   2.8s\n",
      "[CV] END algorithm=SAMME.R, learning_rate=0.3975664116805573, n_estimators=211; total time=   2.9s\n",
      "[CV] END algorithm=SAMME.R, learning_rate=0.3975664116805573, n_estimators=211; total time=   2.9s\n",
      "[CV] END algorithm=SAMME.R, learning_rate=0.3975664116805573, n_estimators=211; total time=   2.8s\n",
      "[CV] END algorithm=SAMME.R, learning_rate=0.4574136752138244, n_estimators=63; total time=   0.9s\n",
      "[CV] END algorithm=SAMME.R, learning_rate=0.4574136752138244, n_estimators=63; total time=   0.9s\n",
      "[CV] END algorithm=SAMME.R, learning_rate=0.4574136752138244, n_estimators=63; total time=   0.9s\n",
      "[CV] END algorithm=SAMME.R, learning_rate=0.4574136752138244, n_estimators=63; total time=   0.9s\n",
      "[CV] END algorithm=SAMME.R, learning_rate=0.4574136752138244, n_estimators=63; total time=   0.9s\n",
      "[CV] END algorithm=SAMME, learning_rate=0.4709371175115584, n_estimators=249; total time=   2.6s\n",
      "[CV] END algorithm=SAMME, learning_rate=0.4709371175115584, n_estimators=249; total time=   2.6s\n",
      "[CV] END algorithm=SAMME, learning_rate=0.4709371175115584, n_estimators=249; total time=   2.6s\n",
      "[CV] END algorithm=SAMME, learning_rate=0.4709371175115584, n_estimators=249; total time=   2.6s\n",
      "[CV] END algorithm=SAMME, learning_rate=0.4709371175115584, n_estimators=249; total time=   2.6s\n",
      "[CV] END algorithm=SAMME.R, learning_rate=0.1079914312095726, n_estimators=298; total time=   4.0s\n",
      "[CV] END algorithm=SAMME.R, learning_rate=0.1079914312095726, n_estimators=298; total time=   4.1s\n",
      "[CV] END algorithm=SAMME.R, learning_rate=0.1079914312095726, n_estimators=298; total time=   4.0s\n",
      "[CV] END algorithm=SAMME.R, learning_rate=0.1079914312095726, n_estimators=298; total time=   4.0s\n",
      "[CV] END algorithm=SAMME.R, learning_rate=0.1079914312095726, n_estimators=298; total time=   4.0s\n",
      "[CV] END algorithm=SAMME.R, learning_rate=0.17266516538163218, n_estimators=257; total time=   3.5s\n",
      "[CV] END algorithm=SAMME.R, learning_rate=0.17266516538163218, n_estimators=257; total time=   3.5s\n",
      "[CV] END algorithm=SAMME.R, learning_rate=0.17266516538163218, n_estimators=257; total time=   3.5s\n",
      "[CV] END algorithm=SAMME.R, learning_rate=0.17266516538163218, n_estimators=257; total time=   3.5s\n",
      "[CV] END algorithm=SAMME.R, learning_rate=0.17266516538163218, n_estimators=257; total time=   3.5s\n",
      "[CV] END algorithm=SAMME, learning_rate=0.14567451588694796, n_estimators=102; total time=   1.1s\n",
      "[CV] END algorithm=SAMME, learning_rate=0.14567451588694796, n_estimators=102; total time=   1.1s\n",
      "[CV] END algorithm=SAMME, learning_rate=0.14567451588694796, n_estimators=102; total time=   1.1s\n",
      "[CV] END algorithm=SAMME, learning_rate=0.14567451588694796, n_estimators=102; total time=   1.1s\n",
      "[CV] END algorithm=SAMME, learning_rate=0.14567451588694796, n_estimators=102; total time=   1.1s\n",
      "[CV] END algorithm=SAMME.R, learning_rate=0.18837666334679465, n_estimators=237; total time=   3.2s\n",
      "[CV] END algorithm=SAMME.R, learning_rate=0.18837666334679465, n_estimators=237; total time=   3.2s\n",
      "[CV] END algorithm=SAMME.R, learning_rate=0.18837666334679465, n_estimators=237; total time=   3.2s\n",
      "[CV] END algorithm=SAMME.R, learning_rate=0.18837666334679465, n_estimators=237; total time=   3.2s\n",
      "[CV] END algorithm=SAMME.R, learning_rate=0.18837666334679465, n_estimators=237; total time=   3.2s\n",
      "[CV] END algorithm=SAMME.R, learning_rate=0.1479995910112717, n_estimators=206; total time=   2.8s\n",
      "[CV] END algorithm=SAMME.R, learning_rate=0.1479995910112717, n_estimators=206; total time=   2.8s\n",
      "[CV] END algorithm=SAMME.R, learning_rate=0.1479995910112717, n_estimators=206; total time=   2.8s\n",
      "[CV] END algorithm=SAMME.R, learning_rate=0.1479995910112717, n_estimators=206; total time=   2.8s\n",
      "[CV] END algorithm=SAMME.R, learning_rate=0.1479995910112717, n_estimators=206; total time=   2.8s\n",
      "[CV] END algorithm=SAMME, learning_rate=0.09263346953150124, n_estimators=138; total time=   1.5s\n",
      "[CV] END algorithm=SAMME, learning_rate=0.09263346953150124, n_estimators=138; total time=   1.5s\n",
      "[CV] END algorithm=SAMME, learning_rate=0.09263346953150124, n_estimators=138; total time=   1.5s\n",
      "[CV] END algorithm=SAMME, learning_rate=0.09263346953150124, n_estimators=138; total time=   1.5s\n",
      "[CV] END algorithm=SAMME, learning_rate=0.09263346953150124, n_estimators=138; total time=   1.5s\n",
      "[CV] END algorithm=SAMME, learning_rate=0.22170074035318482, n_estimators=178; total time=   1.9s\n",
      "[CV] END algorithm=SAMME, learning_rate=0.22170074035318482, n_estimators=178; total time=   1.9s\n",
      "[CV] END algorithm=SAMME, learning_rate=0.22170074035318482, n_estimators=178; total time=   1.9s\n",
      "[CV] END algorithm=SAMME, learning_rate=0.22170074035318482, n_estimators=178; total time=   1.9s\n",
      "[CV] END algorithm=SAMME, learning_rate=0.22170074035318482, n_estimators=178; total time=   1.9s\n",
      "[CV] END algorithm=SAMME.R, learning_rate=0.15674408735901907, n_estimators=112; total time=   1.5s\n",
      "[CV] END algorithm=SAMME.R, learning_rate=0.15674408735901907, n_estimators=112; total time=   1.5s\n",
      "[CV] END algorithm=SAMME.R, learning_rate=0.15674408735901907, n_estimators=112; total time=   1.5s\n",
      "[CV] END algorithm=SAMME.R, learning_rate=0.15674408735901907, n_estimators=112; total time=   1.5s\n",
      "[CV] END algorithm=SAMME.R, learning_rate=0.15674408735901907, n_estimators=112; total time=   1.5s\n",
      "[CV] END algorithm=SAMME, learning_rate=0.10942120204440257, n_estimators=185; total time=   2.0s\n",
      "[CV] END algorithm=SAMME, learning_rate=0.10942120204440257, n_estimators=185; total time=   2.0s\n",
      "[CV] END algorithm=SAMME, learning_rate=0.10942120204440257, n_estimators=185; total time=   2.0s\n",
      "[CV] END algorithm=SAMME, learning_rate=0.10942120204440257, n_estimators=185; total time=   2.0s\n",
      "[CV] END algorithm=SAMME, learning_rate=0.10942120204440257, n_estimators=185; total time=   2.0s\n",
      "[CV] END algorithm=SAMME, learning_rate=0.40508777026560283, n_estimators=172; total time=   1.8s\n",
      "[CV] END algorithm=SAMME, learning_rate=0.40508777026560283, n_estimators=172; total time=   1.8s\n",
      "[CV] END algorithm=SAMME, learning_rate=0.40508777026560283, n_estimators=172; total time=   1.8s\n",
      "[CV] END algorithm=SAMME, learning_rate=0.40508777026560283, n_estimators=172; total time=   1.8s\n",
      "[CV] END algorithm=SAMME, learning_rate=0.40508777026560283, n_estimators=172; total time=   1.8s\n",
      "[CV] END algorithm=SAMME, learning_rate=0.4731504392566745, n_estimators=299; total time=   3.1s\n",
      "[CV] END algorithm=SAMME, learning_rate=0.4731504392566745, n_estimators=299; total time=   3.1s\n",
      "[CV] END algorithm=SAMME, learning_rate=0.4731504392566745, n_estimators=299; total time=   3.1s\n",
      "[CV] END algorithm=SAMME, learning_rate=0.4731504392566745, n_estimators=299; total time=   3.1s\n",
      "[CV] END algorithm=SAMME, learning_rate=0.4731504392566745, n_estimators=299; total time=   3.1s\n",
      "[CV] END algorithm=SAMME, learning_rate=0.4674798377718904, n_estimators=250; total time=   2.6s\n",
      "[CV] END algorithm=SAMME, learning_rate=0.4674798377718904, n_estimators=250; total time=   2.6s\n",
      "[CV] END algorithm=SAMME, learning_rate=0.4674798377718904, n_estimators=250; total time=   2.6s\n",
      "[CV] END algorithm=SAMME, learning_rate=0.4674798377718904, n_estimators=250; total time=   2.6s\n",
      "[CV] END algorithm=SAMME, learning_rate=0.4674798377718904, n_estimators=250; total time=   2.6s\n",
      "[CV] END algorithm=SAMME.R, learning_rate=0.2347253370691017, n_estimators=82; total time=   1.1s\n",
      "[CV] END algorithm=SAMME.R, learning_rate=0.2347253370691017, n_estimators=82; total time=   1.1s\n",
      "[CV] END algorithm=SAMME.R, learning_rate=0.2347253370691017, n_estimators=82; total time=   1.1s\n",
      "[CV] END algorithm=SAMME.R, learning_rate=0.2347253370691017, n_estimators=82; total time=   1.1s\n",
      "[CV] END algorithm=SAMME.R, learning_rate=0.2347253370691017, n_estimators=82; total time=   1.1s\n",
      "[CV] END algorithm=SAMME.R, learning_rate=0.1954091260991332, n_estimators=111; total time=   1.5s\n",
      "[CV] END algorithm=SAMME.R, learning_rate=0.1954091260991332, n_estimators=111; total time=   1.5s\n",
      "[CV] END algorithm=SAMME.R, learning_rate=0.1954091260991332, n_estimators=111; total time=   1.5s\n",
      "[CV] END algorithm=SAMME.R, learning_rate=0.1954091260991332, n_estimators=111; total time=   1.5s\n",
      "[CV] END algorithm=SAMME.R, learning_rate=0.1954091260991332, n_estimators=111; total time=   1.5s\n",
      "[CV] END algorithm=SAMME.R, learning_rate=0.34296117830874834, n_estimators=221; total time=   3.0s\n",
      "[CV] END algorithm=SAMME.R, learning_rate=0.34296117830874834, n_estimators=221; total time=   3.0s\n",
      "[CV] END algorithm=SAMME.R, learning_rate=0.34296117830874834, n_estimators=221; total time=   3.0s\n",
      "[CV] END algorithm=SAMME.R, learning_rate=0.34296117830874834, n_estimators=221; total time=   3.0s\n",
      "[CV] END algorithm=SAMME.R, learning_rate=0.34296117830874834, n_estimators=221; total time=   3.0s\n",
      "[CV] END algorithm=SAMME.R, learning_rate=0.1473608964950321, n_estimators=84; total time=   1.1s\n",
      "[CV] END algorithm=SAMME.R, learning_rate=0.1473608964950321, n_estimators=84; total time=   1.1s\n",
      "[CV] END algorithm=SAMME.R, learning_rate=0.1473608964950321, n_estimators=84; total time=   1.1s\n",
      "[CV] END algorithm=SAMME.R, learning_rate=0.1473608964950321, n_estimators=84; total time=   1.1s\n",
      "[CV] END algorithm=SAMME.R, learning_rate=0.1473608964950321, n_estimators=84; total time=   1.1s\n",
      "[CV] END algorithm=SAMME, learning_rate=0.20146343737689493, n_estimators=224; total time=   2.3s\n",
      "[CV] END algorithm=SAMME, learning_rate=0.20146343737689493, n_estimators=224; total time=   2.3s\n",
      "[CV] END algorithm=SAMME, learning_rate=0.20146343737689493, n_estimators=224; total time=   2.3s\n",
      "[CV] END algorithm=SAMME, learning_rate=0.20146343737689493, n_estimators=224; total time=   2.4s\n",
      "[CV] END algorithm=SAMME, learning_rate=0.20146343737689493, n_estimators=224; total time=   2.4s\n",
      "[CV] END algorithm=SAMME.R, learning_rate=0.43445691213304194, n_estimators=54; total time=   0.7s\n",
      "[CV] END algorithm=SAMME.R, learning_rate=0.43445691213304194, n_estimators=54; total time=   0.7s\n",
      "[CV] END algorithm=SAMME.R, learning_rate=0.43445691213304194, n_estimators=54; total time=   0.7s\n",
      "[CV] END algorithm=SAMME.R, learning_rate=0.43445691213304194, n_estimators=54; total time=   0.7s\n",
      "[CV] END algorithm=SAMME.R, learning_rate=0.43445691213304194, n_estimators=54; total time=   0.7s\n",
      "[CV] END algorithm=SAMME.R, learning_rate=0.12799245987447788, n_estimators=191; total time=   2.6s\n",
      "[CV] END algorithm=SAMME.R, learning_rate=0.12799245987447788, n_estimators=191; total time=   2.6s\n",
      "[CV] END algorithm=SAMME.R, learning_rate=0.12799245987447788, n_estimators=191; total time=   2.6s\n",
      "[CV] END algorithm=SAMME.R, learning_rate=0.12799245987447788, n_estimators=191; total time=   2.6s\n",
      "[CV] END algorithm=SAMME.R, learning_rate=0.12799245987447788, n_estimators=191; total time=   2.6s\n",
      "[CV] END algorithm=SAMME, learning_rate=0.030216794769215675, n_estimators=256; total time=   2.7s\n",
      "[CV] END algorithm=SAMME, learning_rate=0.030216794769215675, n_estimators=256; total time=   2.7s\n",
      "[CV] END algorithm=SAMME, learning_rate=0.030216794769215675, n_estimators=256; total time=   2.7s\n",
      "[CV] END algorithm=SAMME, learning_rate=0.030216794769215675, n_estimators=256; total time=   2.7s\n",
      "[CV] END algorithm=SAMME, learning_rate=0.030216794769215675, n_estimators=256; total time=   2.7s\n",
      "[CV] END algorithm=SAMME, learning_rate=0.06544541040591566, n_estimators=173; total time=   1.8s\n",
      "[CV] END algorithm=SAMME, learning_rate=0.06544541040591566, n_estimators=173; total time=   1.8s\n",
      "[CV] END algorithm=SAMME, learning_rate=0.06544541040591566, n_estimators=173; total time=   1.8s\n",
      "[CV] END algorithm=SAMME, learning_rate=0.06544541040591566, n_estimators=173; total time=   1.8s\n",
      "[CV] END algorithm=SAMME, learning_rate=0.06544541040591566, n_estimators=173; total time=   1.8s\n",
      "[CV] END algorithm=SAMME, learning_rate=0.1108596011676981, n_estimators=145; total time=   1.5s\n",
      "[CV] END algorithm=SAMME, learning_rate=0.1108596011676981, n_estimators=145; total time=   1.5s\n",
      "[CV] END algorithm=SAMME, learning_rate=0.1108596011676981, n_estimators=145; total time=   1.5s\n",
      "[CV] END algorithm=SAMME, learning_rate=0.1108596011676981, n_estimators=145; total time=   1.5s\n",
      "[CV] END algorithm=SAMME, learning_rate=0.1108596011676981, n_estimators=145; total time=   1.5s\n",
      "Best parameters for Adaboost: {'algorithm': 'SAMME.R', 'learning_rate': 0.3975664116805573, 'n_estimators': 211}\n",
      "Best score for Adaboost: 0.7285952380952381\n"
     ]
    }
   ],
   "source": [
    "# Create the Adaboost classifier and perform RandomizedSearchCV\n",
    "ada = AdaBoostClassifier(random_state=42)\n",
    "ada_random = RandomizedSearchCV(estimator=ada, param_distributions=ada_param_dist, n_iter=50,\n",
    "                                cv=5, random_state=42, n_jobs=-1, verbose=2)\n",
    "ada_random.fit(X_train, y_train)\n",
    "\n",
    "# Print the best parameters and score for each classifier\n",
    "print(\"Best parameters for Adaboost:\", ada_random.best_params_)\n",
    "print(\"Best score for Adaboost:\", ada_random.best_score_)"
   ]
  },
  {
   "cell_type": "code",
   "execution_count": 35,
   "metadata": {
    "cell_id": "1bcdecb79a0d4d299b1f7ddd2f563859",
    "deepnote_cell_type": "code",
    "deepnote_to_be_reexecuted": false,
    "execution_millis": 21650,
    "execution_start": 1677267271461,
    "source_hash": "d97c1c0c",
    "tags": []
   },
   "outputs": [
    {
     "name": "stdout",
     "output_type": "stream",
     "text": [
      "AdaBoost Classifier\n",
      "Accuracy on validation set: 73.59%\n",
      "Accuracy on test set: 73.51%\n",
      "Cross-validation score: 72.92% (+/- 0.62%)\n",
      "Classification report:\n",
      "               precision    recall  f1-score   support\n",
      "\n",
      "           0       0.70      0.81      0.75      6988\n",
      "           1       0.78      0.66      0.71      7012\n",
      "\n",
      "    accuracy                           0.74     14000\n",
      "   macro avg       0.74      0.74      0.73     14000\n",
      "weighted avg       0.74      0.74      0.73     14000\n",
      "\n"
     ]
    }
   ],
   "source": [
    "# Train Adaboost Classifier with the best hyperparameters\n",
    "ada_best = AdaBoostClassifier(algorithm='SAMME.R', learning_rate=0.3975664116805573, n_estimators=211, random_state=42)\n",
    "ada_best.fit(X_train, y_train)\n",
    "\n",
    "# Evaluate the model on validation set\n",
    "y_pred = ada_best.predict(X_val)\n",
    "acc_val = accuracy_score(y_val, y_pred)\n",
    "\n",
    "# Evaluate the model on test set\n",
    "y_pred = ada_best.predict(X_test)\n",
    "acc_test = accuracy_score(y_test, y_pred)\n",
    "\n",
    "# Evaluate the model using cross-validation\n",
    "cv_scores = cross_val_score(ada_best, X_train_val, y_train_val, cv=5)\n",
    "\n",
    "# ROC_AUC Score\n",
    "fpr, tpr, thresholds = roc_curve(y_test, y_pred)\n",
    "roc_auc = auc(fpr, tpr)\n",
    "\n",
    "# Print the performance metrics\n",
    "print(\"AdaBoost Classifier\")\n",
    "print(\"Accuracy on validation set: {:.2f}%\".format(acc_val*100))\n",
    "print(\"Accuracy on test set: {:.2f}%\".format(acc_test*100))\n",
    "print(\"Cross-validation score: {:.2f}% (+/- {:.2f}%)\".format(cv_scores.mean()*100, cv_scores.std()*2*100))\n",
    "print(\"Classification report:\\n\", classification_report(y_test, y_pred))"
   ]
  },
  {
   "cell_type": "code",
   "execution_count": 36,
   "metadata": {},
   "outputs": [
    {
     "data": {
      "image/png": "[encoded data removed]",
      "text/plain": [
       "<Figure size 640x480 with 1 Axes>"
      ]
     },
     "metadata": {},
     "output_type": "display_data"
    }
   ],
   "source": [
    "# Plot ROC-AUC curve\n",
    "plt.plot(fpr, tpr, color='darkorange', lw=2, label='ROC curve (AUC = %0.2f)' % roc_auc)\n",
    "plt.plot([0, 1], [0, 1], color='navy', lw=2, linestyle='--')\n",
    "plt.xlim([0.0, 1.0])\n",
    "plt.ylim([0.0, 1.05])\n",
    "plt.xlabel('False Positive Rate')\n",
    "plt.ylabel('True Positive Rate')\n",
    "plt.title('Receiver operating characteristic')\n",
    "plt.legend(loc=\"lower right\")\n",
    "# save the plot as a JPG image\n",
    "plt.savefig('adaboost_randomcv_roc_auc_curve.jpg')\n",
    "plt.show()"
   ]
  },
  {
   "cell_type": "code",
   "execution_count": 16,
   "metadata": {
    "cell_id": "e8df6e72cbc840daa2878794cc9bf218",
    "deepnote_cell_type": "code",
    "deepnote_to_be_reexecuted": false,
    "execution_millis": 480,
    "execution_start": 1677267293115,
    "source_hash": "da89326a",
    "tags": []
   },
   "outputs": [
    {
     "data": {
      "image/png": "[encoded data removed]",
      "text/plain": [
       "<Figure size 640x480 with 2 Axes>"
      ]
     },
     "metadata": {},
     "output_type": "display_data"
    }
   ],
   "source": [
    "plot_confusion_matrix(ada_best, X_test, y_test);"
   ]
  },
  {
   "cell_type": "code",
   "execution_count": 17,
   "metadata": {
    "cell_id": "b8dd1378036e43588dd2fc0d6b510065",
    "deepnote_cell_type": "code",
    "deepnote_to_be_reexecuted": false,
    "execution_millis": 1040152,
    "execution_start": 1677267293597,
    "source_hash": "e80c88e4",
    "tags": []
   },
   "outputs": [
    {
     "name": "stdout",
     "output_type": "stream",
     "text": [
      "Fitting 5 folds for each of 50 candidates, totalling 250 fits\n",
      "[CV] END learning_rate=0.19727005942368125, max_depth=7, max_features=None, n_estimators=156, subsample=0.8017219002454924; total time=   6.7s\n",
      "[CV] END learning_rate=0.19727005942368125, max_depth=7, max_features=None, n_estimators=156, subsample=0.8017219002454924; total time=   6.7s\n",
      "[CV] END learning_rate=0.19727005942368125, max_depth=7, max_features=None, n_estimators=156, subsample=0.8017219002454924; total time=   6.7s\n",
      "[CV] END learning_rate=0.19727005942368125, max_depth=7, max_features=None, n_estimators=156, subsample=0.8017219002454924; total time=   6.7s\n",
      "[CV] END learning_rate=0.19727005942368125, max_depth=7, max_features=None, n_estimators=156, subsample=0.8017219002454924; total time=   6.7s\n",
      "[CV] END learning_rate=0.3084250789732435, max_depth=4, max_features=None, n_estimators=264, subsample=0.15227525095137953; total time=   2.5s\n",
      "[CV] END learning_rate=0.3084250789732435, max_depth=4, max_features=None, n_estimators=264, subsample=0.15227525095137953; total time=   2.5s\n",
      "[CV] END learning_rate=0.3084250789732435, max_depth=4, max_features=None, n_estimators=264, subsample=0.15227525095137953; total time=   2.5s\n",
      "[CV] END learning_rate=0.3084250789732435, max_depth=4, max_features=None, n_estimators=264, subsample=0.15227525095137953; total time=   2.5s\n",
      "[CV] END learning_rate=0.3084250789732435, max_depth=4, max_features=None, n_estimators=264, subsample=0.15227525095137953; total time=   2.5s\n",
      "[CV] END learning_rate=0.4430880728874676, max_depth=6, max_features=None, n_estimators=199, subsample=0.15077042112439024; total time=   2.3s\n",
      "[CV] END learning_rate=0.4430880728874676, max_depth=6, max_features=None, n_estimators=199, subsample=0.15077042112439024; total time=   2.4s\n",
      "[CV] END learning_rate=0.4430880728874676, max_depth=6, max_features=None, n_estimators=199, subsample=0.15077042112439024; total time=   2.4s\n",
      "[CV] END learning_rate=0.4430880728874676, max_depth=6, max_features=None, n_estimators=199, subsample=0.15077042112439024; total time=   2.4s\n",
      "[CV] END learning_rate=0.4430880728874676, max_depth=6, max_features=None, n_estimators=199, subsample=0.15077042112439024; total time=   2.4s\n",
      "[CV] END learning_rate=0.3709993861334124, max_depth=8, max_features=log2, n_estimators=179, subsample=0.26364247048639056; total time=   2.3s\n",
      "[CV] END learning_rate=0.3709993861334124, max_depth=8, max_features=log2, n_estimators=179, subsample=0.26364247048639056; total time=   2.3s\n",
      "[CV] END learning_rate=0.3709993861334124, max_depth=8, max_features=log2, n_estimators=179, subsample=0.26364247048639056; total time=   2.3s\n",
      "[CV] END learning_rate=0.3709993861334124, max_depth=8, max_features=log2, n_estimators=179, subsample=0.26364247048639056; total time=   2.3s\n",
      "[CV] END learning_rate=0.3709993861334124, max_depth=8, max_features=log2, n_estimators=179, subsample=0.26364247048639056; total time=   2.3s\n",
      "[CV] END learning_rate=0.1017022549267169, max_depth=6, max_features=log2, n_estimators=71, subsample=0.10635967469774567; total time=   0.6s\n",
      "[CV] END learning_rate=0.1017022549267169, max_depth=6, max_features=log2, n_estimators=71, subsample=0.10635967469774567; total time=   0.6s\n",
      "[CV] END learning_rate=0.1017022549267169, max_depth=6, max_features=log2, n_estimators=71, subsample=0.10635967469774567; total time=   0.6s\n",
      "[CV] END learning_rate=0.1017022549267169, max_depth=6, max_features=log2, n_estimators=71, subsample=0.10635967469774567; total time=   0.6s\n",
      "[CV] END learning_rate=0.1017022549267169, max_depth=6, max_features=log2, n_estimators=71, subsample=0.10635967469774567; total time=   0.6s\n",
      "[CV] END learning_rate=0.02153121252070788, max_depth=5, max_features=None, n_estimators=219, subsample=0.1419990968922539; total time=   2.4s\n",
      "[CV] END learning_rate=0.02153121252070788, max_depth=5, max_features=None, n_estimators=219, subsample=0.1419990968922539; total time=   2.4s\n",
      "[CV] END learning_rate=0.02153121252070788, max_depth=5, max_features=None, n_estimators=219, subsample=0.1419990968922539; total time=   2.4s\n",
      "[CV] END learning_rate=0.02153121252070788, max_depth=5, max_features=None, n_estimators=219, subsample=0.1419990968922539; total time=   2.4s\n",
      "[CV] END learning_rate=0.02153121252070788, max_depth=5, max_features=None, n_estimators=219, subsample=0.1419990968922539; total time=   2.4s\n",
      "[CV] END learning_rate=0.4968777594207296, max_depth=9, max_features=log2, n_estimators=239, subsample=0.8066583652537123; total time=   6.9s\n",
      "[CV] END learning_rate=0.4968777594207296, max_depth=9, max_features=log2, n_estimators=239, subsample=0.8066583652537123; total time=   7.8s\n",
      "[CV] END learning_rate=0.4968777594207296, max_depth=9, max_features=log2, n_estimators=239, subsample=0.8066583652537123; total time=   7.8s\n",
      "[CV] END learning_rate=0.4968777594207296, max_depth=9, max_features=log2, n_estimators=239, subsample=0.8066583652537123; total time=   7.7s\n",
      "[CV] END learning_rate=0.4968777594207296, max_depth=9, max_features=log2, n_estimators=239, subsample=0.8066583652537123; total time=   6.7s\n",
      "[CV] END learning_rate=0.10983689107917986, max_depth=9, max_features=sqrt, n_estimators=180, subsample=0.8739463660626885; total time=   5.6s\n",
      "[CV] END learning_rate=0.10983689107917986, max_depth=9, max_features=sqrt, n_estimators=180, subsample=0.8739463660626885; total time=   5.5s\n",
      "[CV] END learning_rate=0.10983689107917986, max_depth=9, max_features=sqrt, n_estimators=180, subsample=0.8739463660626885; total time=   5.6s\n",
      "[CV] END learning_rate=0.10983689107917986, max_depth=9, max_features=sqrt, n_estimators=180, subsample=0.8739463660626885; total time=   5.5s\n",
      "[CV] END learning_rate=0.10983689107917986, max_depth=9, max_features=sqrt, n_estimators=180, subsample=0.8739463660626885; total time=   5.6s\n",
      "[CV] END learning_rate=0.35015376929388986, max_depth=3, max_features=None, n_estimators=67, subsample=0.9539969835279999; total time=   1.6s\n",
      "[CV] END learning_rate=0.35015376929388986, max_depth=3, max_features=None, n_estimators=67, subsample=0.9539969835279999; total time=   1.6s\n",
      "[CV] END learning_rate=0.35015376929388986, max_depth=3, max_features=None, n_estimators=67, subsample=0.9539969835279999; total time=   1.6s\n",
      "[CV] END learning_rate=0.35015376929388986, max_depth=3, max_features=None, n_estimators=67, subsample=0.9539969835279999; total time=   1.6s\n",
      "[CV] END learning_rate=0.35015376929388986, max_depth=3, max_features=None, n_estimators=67, subsample=0.9539969835279999; total time=   1.6s\n",
      "[CV] END learning_rate=0.4928160165372797, max_depth=4, max_features=log2, n_estimators=58, subsample=0.11436962699819278; total time=   0.4s\n",
      "[CV] END learning_rate=0.4928160165372797, max_depth=4, max_features=log2, n_estimators=58, subsample=0.11436962699819278; total time=   0.4s\n",
      "[CV] END learning_rate=0.4928160165372797, max_depth=4, max_features=log2, n_estimators=58, subsample=0.11436962699819278; total time=   0.4s\n",
      "[CV] END learning_rate=0.4928160165372797, max_depth=4, max_features=log2, n_estimators=58, subsample=0.11436962699819278; total time=   0.4s\n",
      "[CV] END learning_rate=0.4928160165372797, max_depth=4, max_features=log2, n_estimators=58, subsample=0.11436962699819278; total time=   0.4s\n",
      "[CV] END learning_rate=0.1254469128110745, max_depth=6, max_features=None, n_estimators=237, subsample=0.20983441136030095; total time=   3.6s\n",
      "[CV] END learning_rate=0.1254469128110745, max_depth=6, max_features=None, n_estimators=237, subsample=0.20983441136030095; total time=   3.7s\n",
      "[CV] END learning_rate=0.1254469128110745, max_depth=6, max_features=None, n_estimators=237, subsample=0.20983441136030095; total time=   3.7s\n",
      "[CV] END learning_rate=0.1254469128110745, max_depth=6, max_features=None, n_estimators=237, subsample=0.20983441136030095; total time=   3.7s\n",
      "[CV] END learning_rate=0.1254469128110745, max_depth=6, max_features=None, n_estimators=237, subsample=0.20983441136030095; total time=   3.6s\n",
      "[CV] END learning_rate=0.2575884550556351, max_depth=9, max_features=None, n_estimators=255, subsample=0.45195454681591674; total time=  10.4s\n",
      "[CV] END learning_rate=0.2575884550556351, max_depth=9, max_features=None, n_estimators=255, subsample=0.45195454681591674; total time=   9.8s\n",
      "[CV] END learning_rate=0.2575884550556351, max_depth=9, max_features=None, n_estimators=255, subsample=0.45195454681591674; total time=  10.0s\n",
      "[CV] END learning_rate=0.2575884550556351, max_depth=9, max_features=None, n_estimators=255, subsample=0.45195454681591674; total time=  10.1s\n",
      "[CV] END learning_rate=0.2575884550556351, max_depth=9, max_features=None, n_estimators=255, subsample=0.45195454681591674; total time=  10.5s\n",
      "[CV] END learning_rate=0.10111804389403116, max_depth=6, max_features=log2, n_estimators=183, subsample=0.28714749658136995; total time=   2.1s\n",
      "[CV] END learning_rate=0.10111804389403116, max_depth=6, max_features=log2, n_estimators=183, subsample=0.28714749658136995; total time=   2.1s\n",
      "[CV] END learning_rate=0.10111804389403116, max_depth=6, max_features=log2, n_estimators=183, subsample=0.28714749658136995; total time=   2.1s\n",
      "[CV] END learning_rate=0.10111804389403116, max_depth=6, max_features=log2, n_estimators=183, subsample=0.28714749658136995; total time=   2.1s\n",
      "[CV] END learning_rate=0.10111804389403116, max_depth=6, max_features=log2, n_estimators=183, subsample=0.28714749658136995; total time=   2.1s\n",
      "[CV] END learning_rate=0.29385016390999574, max_depth=7, max_features=None, n_estimators=195, subsample=0.7976195410250031; total time=   8.3s\n",
      "[CV] END learning_rate=0.29385016390999574, max_depth=7, max_features=None, n_estimators=195, subsample=0.7976195410250031; total time=   8.3s\n",
      "[CV] END learning_rate=0.29385016390999574, max_depth=7, max_features=None, n_estimators=195, subsample=0.7976195410250031; total time=   8.3s\n",
      "[CV] END learning_rate=0.29385016390999574, max_depth=7, max_features=None, n_estimators=195, subsample=0.7976195410250031; total time=   8.4s\n",
      "[CV] END learning_rate=0.29385016390999574, max_depth=7, max_features=None, n_estimators=195, subsample=0.7976195410250031; total time=   8.4s\n",
      "[CV] END learning_rate=0.47974947078209457, max_depth=8, max_features=log2, n_estimators=144, subsample=0.9296868115208051; total time=   3.6s\n",
      "[CV] END learning_rate=0.47974947078209457, max_depth=8, max_features=log2, n_estimators=144, subsample=0.9296868115208051; total time=   3.6s\n",
      "[CV] END learning_rate=0.47974947078209457, max_depth=8, max_features=log2, n_estimators=144, subsample=0.9296868115208051; total time=   3.7s\n",
      "[CV] END learning_rate=0.47974947078209457, max_depth=8, max_features=log2, n_estimators=144, subsample=0.9296868115208051; total time=   3.6s\n",
      "[CV] END learning_rate=0.47974947078209457, max_depth=8, max_features=log2, n_estimators=144, subsample=0.9296868115208051; total time=   3.7s\n",
      "[CV] END learning_rate=0.05424625102595975, max_depth=9, max_features=sqrt, n_estimators=239, subsample=0.39279729768693794; total time=   5.5s\n",
      "[CV] END learning_rate=0.05424625102595975, max_depth=9, max_features=sqrt, n_estimators=239, subsample=0.39279729768693794; total time=   5.5s\n",
      "[CV] END learning_rate=0.05424625102595975, max_depth=9, max_features=sqrt, n_estimators=239, subsample=0.39279729768693794; total time=   5.7s\n",
      "[CV] END learning_rate=0.05424625102595975, max_depth=9, max_features=sqrt, n_estimators=239, subsample=0.39279729768693794; total time=   5.8s\n",
      "[CV] END learning_rate=0.05424625102595975, max_depth=9, max_features=sqrt, n_estimators=239, subsample=0.39279729768693794; total time=   5.9s\n",
      "[CV] END learning_rate=0.204338644844741, max_depth=4, max_features=None, n_estimators=102, subsample=0.6280760490974634; total time=   2.3s\n",
      "[CV] END learning_rate=0.204338644844741, max_depth=4, max_features=None, n_estimators=102, subsample=0.6280760490974634; total time=   2.3s\n",
      "[CV] END learning_rate=0.204338644844741, max_depth=4, max_features=None, n_estimators=102, subsample=0.6280760490974634; total time=   2.3s\n",
      "[CV] END learning_rate=0.204338644844741, max_depth=4, max_features=None, n_estimators=102, subsample=0.6280760490974634; total time=   2.4s\n",
      "[CV] END learning_rate=0.204338644844741, max_depth=4, max_features=None, n_estimators=102, subsample=0.6280760490974634; total time=   2.3s\n",
      "[CV] END learning_rate=0.492627653632069, max_depth=6, max_features=sqrt, n_estimators=90, subsample=0.36664615513367416; total time=   1.1s\n",
      "[CV] END learning_rate=0.492627653632069, max_depth=6, max_features=sqrt, n_estimators=90, subsample=0.36664615513367416; total time=   1.1s\n",
      "[CV] END learning_rate=0.492627653632069, max_depth=6, max_features=sqrt, n_estimators=90, subsample=0.36664615513367416; total time=   1.1s\n",
      "[CV] END learning_rate=0.492627653632069, max_depth=6, max_features=sqrt, n_estimators=90, subsample=0.36664615513367416; total time=   1.1s\n",
      "[CV] END learning_rate=0.492627653632069, max_depth=6, max_features=sqrt, n_estimators=90, subsample=0.36664615513367416; total time=   1.1s\n",
      "[CV] END learning_rate=0.09263346953150124, max_depth=3, max_features=None, n_estimators=58, subsample=0.7950202923669917; total time=   1.2s\n",
      "[CV] END learning_rate=0.09263346953150124, max_depth=3, max_features=None, n_estimators=58, subsample=0.7950202923669917; total time=   1.2s\n",
      "[CV] END learning_rate=0.09263346953150124, max_depth=3, max_features=None, n_estimators=58, subsample=0.7950202923669917; total time=   1.2s\n",
      "[CV] END learning_rate=0.09263346953150124, max_depth=3, max_features=None, n_estimators=58, subsample=0.7950202923669917; total time=   1.2s\n",
      "[CV] END learning_rate=0.09263346953150124, max_depth=3, max_features=None, n_estimators=58, subsample=0.7950202923669917; total time=   1.2s\n",
      "[CV] END learning_rate=0.1093578407670862, max_depth=9, max_features=None, n_estimators=292, subsample=0.7361716094628554; total time=  16.8s\n",
      "[CV] END learning_rate=0.1093578407670862, max_depth=9, max_features=None, n_estimators=292, subsample=0.7361716094628554; total time=  16.8s\n",
      "[CV] END learning_rate=0.1093578407670862, max_depth=9, max_features=None, n_estimators=292, subsample=0.7361716094628554; total time=  16.8s\n",
      "[CV] END learning_rate=0.1093578407670862, max_depth=9, max_features=None, n_estimators=292, subsample=0.7361716094628554; total time=  16.8s\n",
      "[CV] END learning_rate=0.1093578407670862, max_depth=9, max_features=None, n_estimators=292, subsample=0.7361716094628554; total time=  16.9s\n",
      "[CV] END learning_rate=0.37450358402049366, max_depth=3, max_features=None, n_estimators=54, subsample=0.9336707906620141; total time=   1.3s\n",
      "[CV] END learning_rate=0.37450358402049366, max_depth=3, max_features=None, n_estimators=54, subsample=0.9336707906620141; total time=   1.2s\n",
      "[CV] END learning_rate=0.37450358402049366, max_depth=3, max_features=None, n_estimators=54, subsample=0.9336707906620141; total time=   1.3s\n",
      "[CV] END learning_rate=0.37450358402049366, max_depth=3, max_features=None, n_estimators=54, subsample=0.9336707906620141; total time=   1.3s\n",
      "[CV] END learning_rate=0.37450358402049366, max_depth=3, max_features=None, n_estimators=54, subsample=0.9336707906620141; total time=   1.3s\n",
      "[CV] END learning_rate=0.33553851275097224, max_depth=6, max_features=None, n_estimators=250, subsample=0.6609683141448022; total time=   8.4s\n",
      "[CV] END learning_rate=0.33553851275097224, max_depth=6, max_features=None, n_estimators=250, subsample=0.6609683141448022; total time=   8.1s\n",
      "[CV] END learning_rate=0.33553851275097224, max_depth=6, max_features=None, n_estimators=250, subsample=0.6609683141448022; total time=   8.1s\n",
      "[CV] END learning_rate=0.33553851275097224, max_depth=6, max_features=None, n_estimators=250, subsample=0.6609683141448022; total time=   8.0s\n",
      "[CV] END learning_rate=0.33553851275097224, max_depth=6, max_features=None, n_estimators=250, subsample=0.6609683141448022; total time=   8.0s\n",
      "[CV] END learning_rate=0.1754490124263246, max_depth=9, max_features=None, n_estimators=111, subsample=0.3926649898240724; total time=   4.2s\n",
      "[CV] END learning_rate=0.1754490124263246, max_depth=9, max_features=None, n_estimators=111, subsample=0.3926649898240724; total time=   4.2s\n",
      "[CV] END learning_rate=0.1754490124263246, max_depth=9, max_features=None, n_estimators=111, subsample=0.3926649898240724; total time=   4.2s\n",
      "[CV] END learning_rate=0.1754490124263246, max_depth=9, max_features=None, n_estimators=111, subsample=0.3926649898240724; total time=   4.2s\n",
      "[CV] END learning_rate=0.1754490124263246, max_depth=9, max_features=None, n_estimators=111, subsample=0.3926649898240724; total time=   4.2s\n",
      "[CV] END learning_rate=0.37480308916903204, max_depth=8, max_features=None, n_estimators=84, subsample=0.5249934326457544; total time=   3.2s\n",
      "[CV] END learning_rate=0.37480308916903204, max_depth=8, max_features=None, n_estimators=84, subsample=0.5249934326457544; total time=   3.1s\n",
      "[CV] END learning_rate=0.37480308916903204, max_depth=8, max_features=None, n_estimators=84, subsample=0.5249934326457544; total time=   3.1s\n",
      "[CV] END learning_rate=0.37480308916903204, max_depth=8, max_features=None, n_estimators=84, subsample=0.5249934326457544; total time=   3.2s\n",
      "[CV] END learning_rate=0.37480308916903204, max_depth=8, max_features=None, n_estimators=84, subsample=0.5249934326457544; total time=   3.1s\n",
      "[CV] END learning_rate=0.06979712296915085, max_depth=8, max_features=None, n_estimators=50, subsample=0.7495565690483859; total time=   2.4s\n",
      "[CV] END learning_rate=0.06979712296915085, max_depth=8, max_features=None, n_estimators=50, subsample=0.7495565690483859; total time=   2.4s\n",
      "[CV] END learning_rate=0.06979712296915085, max_depth=8, max_features=None, n_estimators=50, subsample=0.7495565690483859; total time=   2.4s\n",
      "[CV] END learning_rate=0.06979712296915085, max_depth=8, max_features=None, n_estimators=50, subsample=0.7495565690483859; total time=   2.4s\n",
      "[CV] END learning_rate=0.06979712296915085, max_depth=8, max_features=None, n_estimators=50, subsample=0.7495565690483859; total time=   2.4s\n",
      "[CV] END learning_rate=0.12799245987447788, max_depth=8, max_features=None, n_estimators=76, subsample=0.5704595464437947; total time=   3.0s\n",
      "[CV] END learning_rate=0.12799245987447788, max_depth=8, max_features=None, n_estimators=76, subsample=0.5704595464437947; total time=   3.1s\n",
      "[CV] END learning_rate=0.12799245987447788, max_depth=8, max_features=None, n_estimators=76, subsample=0.5704595464437947; total time=   3.1s\n",
      "[CV] END learning_rate=0.12799245987447788, max_depth=8, max_features=None, n_estimators=76, subsample=0.5704595464437947; total time=   3.0s\n",
      "[CV] END learning_rate=0.12799245987447788, max_depth=8, max_features=None, n_estimators=76, subsample=0.5704595464437947; total time=   3.0s\n",
      "[CV] END learning_rate=0.22377050917927482, max_depth=4, max_features=sqrt, n_estimators=228, subsample=0.12828626711806082; total time=   1.5s\n",
      "[CV] END learning_rate=0.22377050917927482, max_depth=4, max_features=sqrt, n_estimators=228, subsample=0.12828626711806082; total time=   1.5s\n",
      "[CV] END learning_rate=0.22377050917927482, max_depth=4, max_features=sqrt, n_estimators=228, subsample=0.12828626711806082; total time=   1.5s\n",
      "[CV] END learning_rate=0.22377050917927482, max_depth=4, max_features=sqrt, n_estimators=228, subsample=0.12828626711806082; total time=   1.5s\n",
      "[CV] END learning_rate=0.22377050917927482, max_depth=4, max_features=sqrt, n_estimators=228, subsample=0.12828626711806082; total time=   1.5s\n",
      "[CV] END learning_rate=0.3282052056318902, max_depth=6, max_features=sqrt, n_estimators=145, subsample=0.7259644777835147; total time=   2.3s\n",
      "[CV] END learning_rate=0.3282052056318902, max_depth=6, max_features=sqrt, n_estimators=145, subsample=0.7259644777835147; total time=   2.3s\n",
      "[CV] END learning_rate=0.3282052056318902, max_depth=6, max_features=sqrt, n_estimators=145, subsample=0.7259644777835147; total time=   2.3s\n",
      "[CV] END learning_rate=0.3282052056318902, max_depth=6, max_features=sqrt, n_estimators=145, subsample=0.7259644777835147; total time=   2.3s\n",
      "[CV] END learning_rate=0.3282052056318902, max_depth=6, max_features=sqrt, n_estimators=145, subsample=0.7259644777835147; total time=   2.3s\n",
      "[CV] END learning_rate=0.07966572720293784, max_depth=9, max_features=sqrt, n_estimators=192, subsample=0.7799960246887438; total time=   5.7s\n",
      "[CV] END learning_rate=0.07966572720293784, max_depth=9, max_features=sqrt, n_estimators=192, subsample=0.7799960246887438; total time=   5.7s\n",
      "[CV] END learning_rate=0.07966572720293784, max_depth=9, max_features=sqrt, n_estimators=192, subsample=0.7799960246887438; total time=   5.7s\n",
      "[CV] END learning_rate=0.07966572720293784, max_depth=9, max_features=sqrt, n_estimators=192, subsample=0.7799960246887438; total time=   5.6s\n",
      "[CV] END learning_rate=0.07966572720293784, max_depth=9, max_features=sqrt, n_estimators=192, subsample=0.7799960246887438; total time=   5.6s\n",
      "[CV] END learning_rate=0.12439908274581123, max_depth=9, max_features=None, n_estimators=292, subsample=0.24509915852860398; total time=   8.1s\n",
      "[CV] END learning_rate=0.12439908274581123, max_depth=9, max_features=None, n_estimators=292, subsample=0.24509915852860398; total time=   8.7s\n",
      "[CV] END learning_rate=0.12439908274581123, max_depth=9, max_features=None, n_estimators=292, subsample=0.24509915852860398; total time=   9.1s\n",
      "[CV] END learning_rate=0.12439908274581123, max_depth=9, max_features=None, n_estimators=292, subsample=0.24509915852860398; total time=   8.6s\n",
      "[CV] END learning_rate=0.12439908274581123, max_depth=9, max_features=None, n_estimators=292, subsample=0.24509915852860398; total time=   8.6s\n",
      "[CV] END learning_rate=0.47484882617128654, max_depth=7, max_features=log2, n_estimators=234, subsample=0.19494483384724354; total time=   2.3s\n",
      "[CV] END learning_rate=0.47484882617128654, max_depth=7, max_features=log2, n_estimators=234, subsample=0.19494483384724354; total time=   2.4s\n",
      "[CV] END learning_rate=0.47484882617128654, max_depth=7, max_features=log2, n_estimators=234, subsample=0.19494483384724354; total time=   2.4s\n",
      "[CV] END learning_rate=0.47484882617128654, max_depth=7, max_features=log2, n_estimators=234, subsample=0.19494483384724354; total time=   2.4s\n",
      "[CV] END learning_rate=0.47484882617128654, max_depth=7, max_features=log2, n_estimators=234, subsample=0.19494483384724354; total time=   2.4s\n",
      "[CV] END learning_rate=0.23826728524145513, max_depth=6, max_features=log2, n_estimators=239, subsample=0.5854080177240857; total time=   3.5s\n",
      "[CV] END learning_rate=0.23826728524145513, max_depth=6, max_features=log2, n_estimators=239, subsample=0.5854080177240857; total time=   3.6s\n",
      "[CV] END learning_rate=0.23826728524145513, max_depth=6, max_features=log2, n_estimators=239, subsample=0.5854080177240857; total time=   3.6s\n",
      "[CV] END learning_rate=0.23826728524145513, max_depth=6, max_features=log2, n_estimators=239, subsample=0.5854080177240857; total time=   3.7s\n",
      "[CV] END learning_rate=0.23826728524145513, max_depth=6, max_features=log2, n_estimators=239, subsample=0.5854080177240857; total time=   3.6s\n",
      "[CV] END learning_rate=0.4137200775820313, max_depth=6, max_features=sqrt, n_estimators=280, subsample=0.9161455973911786; total time=   4.7s\n",
      "[CV] END learning_rate=0.4137200775820313, max_depth=6, max_features=sqrt, n_estimators=280, subsample=0.9161455973911786; total time=   4.7s\n",
      "[CV] END learning_rate=0.4137200775820313, max_depth=6, max_features=sqrt, n_estimators=280, subsample=0.9161455973911786; total time=   4.7s\n",
      "[CV] END learning_rate=0.4137200775820313, max_depth=6, max_features=sqrt, n_estimators=280, subsample=0.9161455973911786; total time=   4.7s\n",
      "[CV] END learning_rate=0.4137200775820313, max_depth=6, max_features=sqrt, n_estimators=280, subsample=0.9161455973911786; total time=   4.8s\n",
      "[CV] END learning_rate=0.14606612469231767, max_depth=5, max_features=log2, n_estimators=170, subsample=0.8362132893302437; total time=   2.4s\n",
      "[CV] END learning_rate=0.14606612469231767, max_depth=5, max_features=log2, n_estimators=170, subsample=0.8362132893302437; total time=   2.4s\n",
      "[CV] END learning_rate=0.14606612469231767, max_depth=5, max_features=log2, n_estimators=170, subsample=0.8362132893302437; total time=   2.4s\n",
      "[CV] END learning_rate=0.14606612469231767, max_depth=5, max_features=log2, n_estimators=170, subsample=0.8362132893302437; total time=   2.4s\n",
      "[CV] END learning_rate=0.14606612469231767, max_depth=5, max_features=log2, n_estimators=170, subsample=0.8362132893302437; total time=   2.4s\n",
      "[CV] END learning_rate=0.44036529162817173, max_depth=9, max_features=log2, n_estimators=249, subsample=0.5806804774378977; total time=   6.7s\n",
      "[CV] END learning_rate=0.44036529162817173, max_depth=9, max_features=log2, n_estimators=249, subsample=0.5806804774378977; total time=   5.7s\n",
      "[CV] END learning_rate=0.44036529162817173, max_depth=9, max_features=log2, n_estimators=249, subsample=0.5806804774378977; total time=   5.3s\n",
      "[CV] END learning_rate=0.44036529162817173, max_depth=9, max_features=log2, n_estimators=249, subsample=0.5806804774378977; total time=   6.4s\n",
      "[CV] END learning_rate=0.44036529162817173, max_depth=9, max_features=log2, n_estimators=249, subsample=0.5806804774378977; total time=   5.6s\n",
      "[CV] END learning_rate=0.2524149856794916, max_depth=3, max_features=None, n_estimators=283, subsample=0.40385365426326514; total time=   4.0s\n",
      "[CV] END learning_rate=0.2524149856794916, max_depth=3, max_features=None, n_estimators=283, subsample=0.40385365426326514; total time=   4.0s\n",
      "[CV] END learning_rate=0.2524149856794916, max_depth=3, max_features=None, n_estimators=283, subsample=0.40385365426326514; total time=   4.0s\n",
      "[CV] END learning_rate=0.2524149856794916, max_depth=3, max_features=None, n_estimators=283, subsample=0.40385365426326514; total time=   4.0s\n",
      "[CV] END learning_rate=0.2524149856794916, max_depth=3, max_features=None, n_estimators=283, subsample=0.40385365426326514; total time=   4.0s\n",
      "[CV] END learning_rate=0.4814548519562596, max_depth=8, max_features=sqrt, n_estimators=229, subsample=0.42726664214136456; total time=   3.6s\n",
      "[CV] END learning_rate=0.4814548519562596, max_depth=8, max_features=sqrt, n_estimators=229, subsample=0.42726664214136456; total time=   3.7s\n",
      "[CV] END learning_rate=0.4814548519562596, max_depth=8, max_features=sqrt, n_estimators=229, subsample=0.42726664214136456; total time=   3.6s\n",
      "[CV] END learning_rate=0.4814548519562596, max_depth=8, max_features=sqrt, n_estimators=229, subsample=0.42726664214136456; total time=   3.7s\n",
      "[CV] END learning_rate=0.4814548519562596, max_depth=8, max_features=sqrt, n_estimators=229, subsample=0.42726664214136456; total time=   3.5s\n",
      "[CV] END learning_rate=0.49589104136048034, max_depth=6, max_features=log2, n_estimators=88, subsample=0.547523655303147; total time=   1.3s\n",
      "[CV] END learning_rate=0.49589104136048034, max_depth=6, max_features=log2, n_estimators=88, subsample=0.547523655303147; total time=   1.3s\n",
      "[CV] END learning_rate=0.49589104136048034, max_depth=6, max_features=log2, n_estimators=88, subsample=0.547523655303147; total time=   1.3s\n",
      "[CV] END learning_rate=0.49589104136048034, max_depth=6, max_features=log2, n_estimators=88, subsample=0.547523655303147; total time=   1.3s\n",
      "[CV] END learning_rate=0.49589104136048034, max_depth=6, max_features=log2, n_estimators=88, subsample=0.547523655303147; total time=   1.3s\n",
      "[CV] END learning_rate=0.16043915490838484, max_depth=3, max_features=sqrt, n_estimators=236, subsample=0.6486079005819072; total time=   2.3s\n",
      "[CV] END learning_rate=0.16043915490838484, max_depth=3, max_features=sqrt, n_estimators=236, subsample=0.6486079005819072; total time=   2.3s\n",
      "[CV] END learning_rate=0.16043915490838484, max_depth=3, max_features=sqrt, n_estimators=236, subsample=0.6486079005819072; total time=   2.3s\n",
      "[CV] END learning_rate=0.16043915490838484, max_depth=3, max_features=sqrt, n_estimators=236, subsample=0.6486079005819072; total time=   2.3s\n",
      "[CV] END learning_rate=0.16043915490838484, max_depth=3, max_features=sqrt, n_estimators=236, subsample=0.6486079005819072; total time=   2.3s\n",
      "[CV] END learning_rate=0.26133951161443075, max_depth=8, max_features=None, n_estimators=278, subsample=0.4105641232240147; total time=   8.0s\n",
      "[CV] END learning_rate=0.26133951161443075, max_depth=8, max_features=None, n_estimators=278, subsample=0.4105641232240147; total time=   8.3s\n",
      "[CV] END learning_rate=0.26133951161443075, max_depth=8, max_features=None, n_estimators=278, subsample=0.4105641232240147; total time=   8.3s\n",
      "[CV] END learning_rate=0.26133951161443075, max_depth=8, max_features=None, n_estimators=278, subsample=0.4105641232240147; total time=   8.8s\n",
      "[CV] END learning_rate=0.26133951161443075, max_depth=8, max_features=None, n_estimators=278, subsample=0.4105641232240147; total time=   8.6s\n",
      "[CV] END learning_rate=0.3271756723506819, max_depth=8, max_features=log2, n_estimators=102, subsample=0.5405074842498068; total time=   2.1s\n",
      "[CV] END learning_rate=0.3271756723506819, max_depth=8, max_features=log2, n_estimators=102, subsample=0.5405074842498068; total time=   2.2s\n",
      "[CV] END learning_rate=0.3271756723506819, max_depth=8, max_features=log2, n_estimators=102, subsample=0.5405074842498068; total time=   2.1s\n",
      "[CV] END learning_rate=0.3271756723506819, max_depth=8, max_features=log2, n_estimators=102, subsample=0.5405074842498068; total time=   2.2s\n",
      "[CV] END learning_rate=0.3271756723506819, max_depth=8, max_features=log2, n_estimators=102, subsample=0.5405074842498068; total time=   2.2s\n",
      "[CV] END learning_rate=0.5028252270553003, max_depth=9, max_features=None, n_estimators=252, subsample=0.432689010455264; total time=   8.3s\n",
      "[CV] END learning_rate=0.5028252270553003, max_depth=9, max_features=None, n_estimators=252, subsample=0.432689010455264; total time=   8.5s\n",
      "[CV] END learning_rate=0.5028252270553003, max_depth=9, max_features=None, n_estimators=252, subsample=0.432689010455264; total time=   8.2s\n",
      "[CV] END learning_rate=0.5028252270553003, max_depth=9, max_features=None, n_estimators=252, subsample=0.432689010455264; total time=   8.2s\n",
      "[CV] END learning_rate=0.5028252270553003, max_depth=9, max_features=None, n_estimators=252, subsample=0.432689010455264; total time=   8.3s\n",
      "[CV] END learning_rate=0.13107996913871295, max_depth=8, max_features=sqrt, n_estimators=165, subsample=0.9850808268053587; total time=   4.1s\n",
      "[CV] END learning_rate=0.13107996913871295, max_depth=8, max_features=sqrt, n_estimators=165, subsample=0.9850808268053587; total time=   4.1s\n",
      "[CV] END learning_rate=0.13107996913871295, max_depth=8, max_features=sqrt, n_estimators=165, subsample=0.9850808268053587; total time=   4.1s\n",
      "[CV] END learning_rate=0.13107996913871295, max_depth=8, max_features=sqrt, n_estimators=165, subsample=0.9850808268053587; total time=   4.1s\n",
      "[CV] END learning_rate=0.13107996913871295, max_depth=8, max_features=sqrt, n_estimators=165, subsample=0.9850808268053587; total time=   4.1s\n",
      "[CV] END learning_rate=0.20941222122227654, max_depth=9, max_features=sqrt, n_estimators=250, subsample=0.3887020584745623; total time=   6.0s\n",
      "[CV] END learning_rate=0.20941222122227654, max_depth=9, max_features=sqrt, n_estimators=250, subsample=0.3887020584745623; total time=   6.0s\n",
      "[CV] END learning_rate=0.20941222122227654, max_depth=9, max_features=sqrt, n_estimators=250, subsample=0.3887020584745623; total time=   6.1s\n",
      "[CV] END learning_rate=0.20941222122227654, max_depth=9, max_features=sqrt, n_estimators=250, subsample=0.3887020584745623; total time=   6.2s\n",
      "[CV] END learning_rate=0.20941222122227654, max_depth=9, max_features=sqrt, n_estimators=250, subsample=0.3887020584745623; total time=   6.0s\n",
      "[CV] END learning_rate=0.10325925519992711, max_depth=7, max_features=None, n_estimators=197, subsample=0.3933630146816963; total time=   5.3s\n",
      "[CV] END learning_rate=0.10325925519992711, max_depth=7, max_features=None, n_estimators=197, subsample=0.3933630146816963; total time=   5.3s\n",
      "[CV] END learning_rate=0.10325925519992711, max_depth=7, max_features=None, n_estimators=197, subsample=0.3933630146816963; total time=   5.3s\n",
      "[CV] END learning_rate=0.10325925519992711, max_depth=7, max_features=None, n_estimators=197, subsample=0.3933630146816963; total time=   5.3s\n",
      "[CV] END learning_rate=0.10325925519992711, max_depth=7, max_features=None, n_estimators=197, subsample=0.3933630146816963; total time=   5.3s\n",
      "[CV] END learning_rate=0.12012052378277414, max_depth=4, max_features=None, n_estimators=196, subsample=0.4137993885625565; total time=   3.4s\n",
      "[CV] END learning_rate=0.12012052378277414, max_depth=4, max_features=None, n_estimators=196, subsample=0.4137993885625565; total time=   3.3s\n",
      "[CV] END learning_rate=0.12012052378277414, max_depth=4, max_features=None, n_estimators=196, subsample=0.4137993885625565; total time=   3.4s\n",
      "[CV] END learning_rate=0.12012052378277414, max_depth=4, max_features=None, n_estimators=196, subsample=0.4137993885625565; total time=   3.4s\n",
      "[CV] END learning_rate=0.12012052378277414, max_depth=4, max_features=None, n_estimators=196, subsample=0.4137993885625565; total time=   3.3s\n",
      "[CV] END learning_rate=0.05808827554571038, max_depth=3, max_features=sqrt, n_estimators=217, subsample=0.44806181167048365; total time=   2.0s\n",
      "[CV] END learning_rate=0.05808827554571038, max_depth=3, max_features=sqrt, n_estimators=217, subsample=0.44806181167048365; total time=   2.0s\n",
      "[CV] END learning_rate=0.05808827554571038, max_depth=3, max_features=sqrt, n_estimators=217, subsample=0.44806181167048365; total time=   2.0s\n",
      "[CV] END learning_rate=0.05808827554571038, max_depth=3, max_features=sqrt, n_estimators=217, subsample=0.44806181167048365; total time=   2.0s\n",
      "[CV] END learning_rate=0.05808827554571038, max_depth=3, max_features=sqrt, n_estimators=217, subsample=0.44806181167048365; total time=   2.0s\n",
      "[CV] END learning_rate=0.47836499436836727, max_depth=3, max_features=None, n_estimators=269, subsample=0.7616945073166949; total time=   5.4s\n",
      "[CV] END learning_rate=0.47836499436836727, max_depth=3, max_features=None, n_estimators=269, subsample=0.7616945073166949; total time=   5.4s\n",
      "[CV] END learning_rate=0.47836499436836727, max_depth=3, max_features=None, n_estimators=269, subsample=0.7616945073166949; total time=   5.4s\n",
      "[CV] END learning_rate=0.47836499436836727, max_depth=3, max_features=None, n_estimators=269, subsample=0.7616945073166949; total time=   5.4s\n",
      "[CV] END learning_rate=0.47836499436836727, max_depth=3, max_features=None, n_estimators=269, subsample=0.7616945073166949; total time=   5.5s\n",
      "[CV] END learning_rate=0.11453581036885684, max_depth=9, max_features=log2, n_estimators=91, subsample=0.33214746494364006; total time=   1.9s\n",
      "[CV] END learning_rate=0.11453581036885684, max_depth=9, max_features=log2, n_estimators=91, subsample=0.33214746494364006; total time=   2.0s\n",
      "[CV] END learning_rate=0.11453581036885684, max_depth=9, max_features=log2, n_estimators=91, subsample=0.33214746494364006; total time=   1.9s\n",
      "[CV] END learning_rate=0.11453581036885684, max_depth=9, max_features=log2, n_estimators=91, subsample=0.33214746494364006; total time=   1.9s\n",
      "[CV] END learning_rate=0.11453581036885684, max_depth=9, max_features=log2, n_estimators=91, subsample=0.33214746494364006; total time=   1.9s\n",
      "[CV] END learning_rate=0.33999202301708953, max_depth=4, max_features=sqrt, n_estimators=293, subsample=0.5766855205204059; total time=   3.2s\n",
      "[CV] END learning_rate=0.33999202301708953, max_depth=4, max_features=sqrt, n_estimators=293, subsample=0.5766855205204059; total time=   3.3s\n",
      "[CV] END learning_rate=0.33999202301708953, max_depth=4, max_features=sqrt, n_estimators=293, subsample=0.5766855205204059; total time=   3.3s\n",
      "[CV] END learning_rate=0.33999202301708953, max_depth=4, max_features=sqrt, n_estimators=293, subsample=0.5766855205204059; total time=   3.2s\n",
      "[CV] END learning_rate=0.33999202301708953, max_depth=4, max_features=sqrt, n_estimators=293, subsample=0.5766855205204059; total time=   3.2s\n",
      "Best parameters for GradientBoost: {'learning_rate': 0.02153121252070788, 'max_depth': 5, 'max_features': None, 'n_estimators': 219, 'subsample': 0.1419990968922539}\n",
      "Best score for GradientBoost: 0.7344285714285714\n"
     ]
    }
   ],
   "source": [
    "# Create the Gradientboost classifier and perform RandomizedSearchCV\n",
    "gb = GradientBoostingClassifier(random_state=42)\n",
    "gb_random = RandomizedSearchCV(estimator=gb, param_distributions=gb_param_dist, n_iter=50,\n",
    "                               cv=5, random_state=42, n_jobs=-1, verbose=2)\n",
    "gb_random.fit(X_train, y_train)\n",
    "print(\"Best parameters for GradientBoost:\", gb_random.best_params_)\n",
    "print(\"Best score for GradientBoost:\", gb_random.best_score_)"
   ]
  },
  {
   "cell_type": "code",
   "execution_count": 17,
   "metadata": {
    "cell_id": "417a1838ffd545bb99219e2c18e46b14",
    "deepnote_cell_type": "code",
    "deepnote_to_be_reexecuted": false,
    "execution_millis": 18993,
    "execution_start": 1677268333753,
    "source_hash": "b29c4e50",
    "tags": []
   },
   "outputs": [
    {
     "name": "stdout",
     "output_type": "stream",
     "text": [
      "GradientBoost Classifier\n",
      "Accuracy on validation set: 73.89%\n",
      "Accuracy on test set: 73.76%\n",
      "Cross-validation score: 73.54% (+/- 0.75%)\n",
      "Classification report:\n",
      "               precision    recall  f1-score   support\n",
      "\n",
      "           0       0.72      0.77      0.75      6988\n",
      "           1       0.75      0.71      0.73      7012\n",
      "\n",
      "    accuracy                           0.74     14000\n",
      "   macro avg       0.74      0.74      0.74     14000\n",
      "weighted avg       0.74      0.74      0.74     14000\n",
      "\n"
     ]
    }
   ],
   "source": [
    "# Train GradientBoosting Classifier with the best hyperparameters\n",
    "gradboost_best = GradientBoostingClassifier(learning_rate= 0.02153121252070788, max_depth= 5, max_features= None, n_estimators= 219, subsample= 0.1419990968922539, random_state=42)\n",
    "gradboost_best.fit(X_train, y_train)\n",
    "\n",
    "# Evaluate the model on validation set\n",
    "y_pred = gradboost_best.predict(X_val)\n",
    "acc_val = accuracy_score(y_val, y_pred)\n",
    "\n",
    "# Evaluate the model on test set\n",
    "y_pred = gradboost_best.predict(X_test)\n",
    "acc_test = accuracy_score(y_test, y_pred)\n",
    "\n",
    "# Evaluate the model using cross-validation\n",
    "cv_scores = cross_val_score(gradboost_best, X_train_val, y_train_val, cv=5)\n",
    "\n",
    "# Print the performance metrics\n",
    "print(\"GradientBoost Classifier\")\n",
    "print(\"Accuracy on validation set: {:.2f}%\".format(acc_val*100))\n",
    "print(\"Accuracy on test set: {:.2f}%\".format(acc_test*100))\n",
    "print(\"Cross-validation score: {:.2f}% (+/- {:.2f}%)\".format(cv_scores.mean()*100, cv_scores.std()*2*100))\n",
    "print(\"Classification report:\\n\", classification_report(y_test, y_pred))"
   ]
  },
  {
   "cell_type": "code",
   "execution_count": 18,
   "metadata": {
    "cell_id": "8bd8b00cc2b2440d8b3fbb5f7569131f",
    "deepnote_cell_type": "code",
    "deepnote_to_be_reexecuted": false,
    "execution_millis": 287,
    "execution_start": 1677268352747,
    "source_hash": "eb837ee8",
    "tags": []
   },
   "outputs": [
    {
     "data": {
      "image/png": "[encoded data removed]",
      "text/plain": [
       "<Figure size 640x480 with 2 Axes>"
      ]
     },
     "metadata": {},
     "output_type": "display_data"
    }
   ],
   "source": [
    "plot_confusion_matrix(gradboost_best, X_test, y_test);"
   ]
  },
  {
   "cell_type": "markdown",
   "metadata": {
    "cell_id": "d8ad11c5ab3843fc86e8e341938be867",
    "deepnote_cell_type": "markdown",
    "tags": []
   },
   "source": [
    "In this code, we define parameter distributions for `AdaBoostClassifier` and `GradientBoostingClassifier` using the `randint` and `uniform` functions from the scipy.stats module. Then, we create the classifiers and perform RandomizedSearchCV using the `RandomizedSearchCV` function from scikit-learn. Finally, we print the best parameters and score for each classifier. You can adjust the parameter distributions and other settings as needed for your specific use case."
   ]
  },
  {
   "cell_type": "markdown",
   "metadata": {},
   "source": [
    "#### GridSearchCV"
   ]
  },
  {
   "cell_type": "code",
   "execution_count": 20,
   "metadata": {
    "cell_id": "f66748fc97d64694b59539f0b30fbe0e",
    "deepnote_cell_type": "code",
    "deepnote_to_be_reexecuted": false,
    "execution_millis": 1,
    "execution_start": 1677268353032,
    "source_hash": "ee3572ef",
    "tags": []
   },
   "outputs": [],
   "source": [
    "# Adaboost Classifier\n",
    "ada_params = {\n",
    "    'n_estimators': [50, 100, 150],\n",
    "    'learning_rate': [0.01, 0.1, 1],\n",
    "    'algorithm': ['SAMME', 'SAMME.R']\n",
    "}\n",
    "\n",
    "# Gradientboost Classifier\n",
    "gb_params = {\n",
    "    'n_estimators': [50, 100, 150],\n",
    "    'learning_rate': [0.01, 0.1, 1],\n",
    "    'max_depth': [3, 5, 7],\n",
    "    'max_features': ['sqrt', 'log2', None],\n",
    "    'min_samples_split': [2, 5, 10]\n",
    "}"
   ]
  },
  {
   "cell_type": "code",
   "execution_count": 21,
   "metadata": {
    "cell_id": "24706eab687a4790a83d4bfb45ee9faa",
    "deepnote_cell_type": "code",
    "deepnote_to_be_reexecuted": false,
    "execution_millis": 111531,
    "execution_start": 1677268353035,
    "source_hash": "3399b100",
    "tags": []
   },
   "outputs": [
    {
     "name": "stdout",
     "output_type": "stream",
     "text": [
      "Best Adaboost params: {'algorithm': 'SAMME.R', 'learning_rate': 1, 'n_estimators': 150}\n",
      "Best Adaboost accuracy: 0.7284761904761905\n"
     ]
    }
   ],
   "source": [
    "ada_clf = AdaBoostClassifier(random_state=42)\n",
    "\n",
    "ada_grid = GridSearchCV(ada_clf, param_grid=ada_params, cv=5, n_jobs=-1, scoring='accuracy')\n",
    "ada_grid.fit(X_train, y_train)\n",
    "\n",
    "print(\"Best Adaboost params:\", ada_grid.best_params_)\n",
    "print(\"Best Adaboost accuracy:\", ada_grid.best_score_)"
   ]
  },
  {
   "cell_type": "code",
   "execution_count": 19,
   "metadata": {
    "cell_id": "e6207374adce4e2cadb16d2a8623bed4",
    "deepnote_cell_type": "code",
    "deepnote_to_be_reexecuted": false,
    "execution_millis": 15469,
    "execution_start": 1677268464564,
    "source_hash": "8ebc1087",
    "tags": []
   },
   "outputs": [
    {
     "name": "stdout",
     "output_type": "stream",
     "text": [
      "AdaBoost Classifier\n",
      "Accuracy on validation set: 73.49%\n",
      "Accuracy on test set: 73.30%\n",
      "Cross-validation score: 72.99% (+/- 0.76%)\n",
      "Classification report:\n",
      "               precision    recall  f1-score   support\n",
      "\n",
      "           0       0.70      0.80      0.75      6988\n",
      "           1       0.77      0.66      0.71      7012\n",
      "\n",
      "    accuracy                           0.73     14000\n",
      "   macro avg       0.74      0.73      0.73     14000\n",
      "weighted avg       0.74      0.73      0.73     14000\n",
      "\n"
     ]
    }
   ],
   "source": [
    "# Train Adaboost Classifier with the best hyperparameters\n",
    "ada_grid_best = AdaBoostClassifier(algorithm='SAMME.R', learning_rate=1, n_estimators=150, random_state=42)\n",
    "ada_grid_best.fit(X_train, y_train)\n",
    "\n",
    "# Evaluate the model on validation set\n",
    "y_pred = ada_grid_best.predict(X_val)\n",
    "acc_val = accuracy_score(y_val, y_pred)\n",
    "\n",
    "# Evaluate the model on test set\n",
    "y_pred = ada_grid_best.predict(X_test)\n",
    "acc_test = accuracy_score(y_test, y_pred)\n",
    "\n",
    "# Evaluate the model using cross-validation\n",
    "cv_scores = cross_val_score(ada_grid_best, X_train_val, y_train_val, cv=5)\n",
    "\n",
    "# Print the performance metrics\n",
    "print(\"AdaBoost Classifier\")\n",
    "print(\"Accuracy on validation set: {:.2f}%\".format(acc_val*100))\n",
    "print(\"Accuracy on test set: {:.2f}%\".format(acc_test*100))\n",
    "print(\"Cross-validation score: {:.2f}% (+/- {:.2f}%)\".format(cv_scores.mean()*100, cv_scores.std()*2*100))\n",
    "print(\"Classification report:\\n\", classification_report(y_test, y_pred))"
   ]
  },
  {
   "cell_type": "code",
   "execution_count": 20,
   "metadata": {
    "cell_id": "b1ec01d42b184f408316e5579ee512cb",
    "deepnote_cell_type": "code",
    "deepnote_to_be_reexecuted": false,
    "execution_millis": 406,
    "execution_start": 1677268480032,
    "source_hash": "6408e47a",
    "tags": []
   },
   "outputs": [
    {
     "data": {
      "image/png": "[encoded data removed]",
      "text/plain": [
       "<Figure size 640x480 with 2 Axes>"
      ]
     },
     "metadata": {},
     "output_type": "display_data"
    }
   ],
   "source": [
    "plot_confusion_matrix(ada_grid_best, X_test, y_test);"
   ]
  },
  {
   "cell_type": "code",
   "execution_count": 24,
   "metadata": {
    "cell_id": "a2b2f2aebac644aeb562e26c8917bd8e",
    "deepnote_cell_type": "code",
    "deepnote_to_be_reexecuted": false,
    "execution_millis": 2604645,
    "execution_start": 1677268480441,
    "source_hash": "fccedcc3",
    "tags": []
   },
   "outputs": [
    {
     "name": "stdout",
     "output_type": "stream",
     "text": [
      "Best GradientBoosting params: {'learning_rate': 0.1, 'max_depth': 5, 'max_features': None, 'min_samples_split': 10, 'n_estimators': 50}\n",
      "Best GradientBoosting accuracy: 0.7342857142857142\n"
     ]
    }
   ],
   "source": [
    "gb_clf = GradientBoostingClassifier(random_state=42)\n",
    "\n",
    "gb_grid = GridSearchCV(gb_clf, param_grid=gb_params, cv=5, n_jobs=-1, scoring='accuracy')\n",
    "gb_grid.fit(X_train, y_train)\n",
    "\n",
    "print(\"Best GradientBoosting params:\", gb_grid.best_params_)\n",
    "print(\"Best GradientBoosting accuracy:\", gb_grid.best_score_)"
   ]
  },
  {
   "cell_type": "code",
   "execution_count": 31,
   "metadata": {
    "cell_id": "e1780b6b0596478980bd23d16c435f1c",
    "deepnote_cell_type": "code",
    "deepnote_to_be_reexecuted": false,
    "execution_millis": 13366,
    "execution_start": 1677271085085,
    "source_hash": "18164268",
    "tags": []
   },
   "outputs": [
    {
     "name": "stdout",
     "output_type": "stream",
     "text": [
      "GradientBoosting Classifier \n",
      "Accuracy on validation set: 73.85%\n",
      "Accuracy on test set: 73.96%\n",
      "Cross-validation score: 73.47% (+/- 0.56%)\n",
      "Classification report:\n",
      "               precision    recall  f1-score   support\n",
      "\n",
      "           0       0.72      0.78      0.75      6988\n",
      "           1       0.76      0.70      0.73      7012\n",
      "\n",
      "    accuracy                           0.74     14000\n",
      "   macro avg       0.74      0.74      0.74     14000\n",
      "weighted avg       0.74      0.74      0.74     14000\n",
      "\n"
     ]
    }
   ],
   "source": [
    "# Train GradientBoosting Classifier with the best hyperparameters\n",
    "gradboost_grid_best = GradientBoostingClassifier(learning_rate= 0.1, max_depth= 5, max_features= None, min_samples_split = 10, n_estimators=50, random_state=42)\n",
    "gradboost_grid_best.fit(X_train, y_train)\n",
    "\n",
    "# Evaluate the model on validation set\n",
    "y_pred = gradboost_grid_best.predict(X_val)\n",
    "acc_val = accuracy_score(y_val, y_pred)\n",
    "\n",
    "# Evaluate the model on test set\n",
    "y_pred = gradboost_grid_best.predict(X_test)\n",
    "acc_test = accuracy_score(y_test, y_pred)\n",
    "\n",
    "# Evaluate the model using cross-validation\n",
    "cv_scores = cross_val_score(gradboost_grid_best, X_train_val, y_train_val, cv=5)\n",
    "\n",
    "# ROC_AUC Score\n",
    "fpr, tpr, thresholds = roc_curve(y_test, y_pred)\n",
    "roc_auc = auc(fpr, tpr)\n",
    "\n",
    "# Print the performance metrics\n",
    "print(\"GradientBoosting Classifier \")\n",
    "print(\"Accuracy on validation set: {:.2f}%\".format(acc_val*100))\n",
    "print(\"Accuracy on test set: {:.2f}%\".format(acc_test*100))\n",
    "print(\"Cross-validation score: {:.2f}% (+/- {:.2f}%)\".format(cv_scores.mean()*100, cv_scores.std()*2*100))\n",
    "print(\"Classification report:\\n\", classification_report(y_test, y_pred))"
   ]
  },
  {
   "cell_type": "code",
   "execution_count": 34,
   "metadata": {},
   "outputs": [
    {
     "data": {
      "image/png": "[encoded data removed]",
      "text/plain": [
       "<Figure size 640x480 with 1 Axes>"
      ]
     },
     "metadata": {},
     "output_type": "display_data"
    }
   ],
   "source": [
    "# Plot ROC-AUC curve\n",
    "plt.plot(fpr, tpr, color='darkorange', lw=2, label='ROC curve (AUC = %0.2f)' % roc_auc)\n",
    "plt.plot([0, 1], [0, 1], color='navy', lw=2, linestyle='--')\n",
    "plt.xlim([0.0, 1.0])\n",
    "plt.ylim([0.0, 1.05])\n",
    "plt.xlabel('False Positive Rate')\n",
    "plt.ylabel('True Positive Rate')\n",
    "plt.title('Receiver operating characteristic')\n",
    "plt.legend(loc=\"lower right\")\n",
    "# save the plot as a JPG image\n",
    "plt.savefig('gradboost_gridcv_roc_auc_curve.jpg')\n",
    "plt.show()"
   ]
  },
  {
   "cell_type": "code",
   "execution_count": 22,
   "metadata": {
    "cell_id": "f85755c8b5a841b59db974cc13ce8814",
    "deepnote_cell_type": "code",
    "deepnote_to_be_reexecuted": false,
    "execution_millis": 270,
    "execution_start": 1677271098452,
    "source_hash": "e6980902",
    "tags": []
   },
   "outputs": [
    {
     "data": {
      "image/png": "[encoded data removed]",
      "text/plain": [
       "<Figure size 640x480 with 2 Axes>"
      ]
     },
     "metadata": {},
     "output_type": "display_data"
    }
   ],
   "source": [
    "plot_confusion_matrix(gradboost_grid_best, X_test, y_test);"
   ]
  },
  {
   "cell_type": "markdown",
   "metadata": {
    "cell_id": "1b0f7732e4824e2ebf746a93c9fe5c26",
    "deepnote_cell_type": "markdown",
    "tags": []
   },
   "source": [
    "This code defines a range of hyperparameters for both `Adaboost` and `GradientBoosting` classifiers and performs a grid search with cross-validation to find the best set of hyperparameters that maximize accuracy. The `GridSearchCV` object is defined with `cv=5` to use 5-fold cross-validation and `n_jobs=-1` to use all available CPU cores for parallel processing. The scoring parameter is set to `'accuracy'` to optimize for accuracy.\n",
    "\n",
    "After running the code, the best set of hyperparameters and the corresponding `accuracy` score are printed for each model."
   ]
  },
  {
   "cell_type": "markdown",
   "metadata": {
    "cell_id": "1b41ec6ba8ac401d97cee4c51bd9749b",
    "deepnote_cell_type": "text-cell-h3",
    "formattedRanges": [],
    "is_collapsed": false,
    "tags": []
   },
   "source": [
    "## Appending all models"
   ]
  },
  {
   "cell_type": "code",
   "execution_count": 23,
   "metadata": {
    "cell_id": "b447cad3c64c49d6a45583f2aac308de",
    "deepnote_cell_type": "code",
    "deepnote_to_be_reexecuted": false,
    "execution_millis": 19486,
    "execution_start": 1677271098725,
    "source_hash": "b7ab2f7f",
    "tags": []
   },
   "outputs": [
    {
     "data": {
      "text/html": [
       "<div>\n",
       "<style scoped>\n",
       "    .dataframe tbody tr th:only-of-type {\n",
       "        vertical-align: middle;\n",
       "    }\n",
       "\n",
       "    .dataframe tbody tr th {\n",
       "        vertical-align: top;\n",
       "    }\n",
       "\n",
       "    .dataframe thead th {\n",
       "        text-align: right;\n",
       "    }\n",
       "</style>\n",
       "<table border=\"1\" class=\"dataframe\">\n",
       "  <thead>\n",
       "    <tr style=\"text-align: right;\">\n",
       "      <th></th>\n",
       "      <th>Model</th>\n",
       "      <th>Accuracy</th>\n",
       "      <th>Precision</th>\n",
       "      <th>Recall</th>\n",
       "      <th>F1-Score</th>\n",
       "    </tr>\n",
       "  </thead>\n",
       "  <tbody>\n",
       "    <tr>\n",
       "      <th>0</th>\n",
       "      <td>Logistic Regression</td>\n",
       "      <td>Val: 0.720, Test: 0.720</td>\n",
       "      <td>Val: 0.721, Test: 0.722</td>\n",
       "      <td>Val: 0.720, Test: 0.720</td>\n",
       "      <td>Val: 0.719, Test: 0.720</td>\n",
       "    </tr>\n",
       "    <tr>\n",
       "      <th>1</th>\n",
       "      <td>Adaboost Classifier</td>\n",
       "      <td>Val: 0.734, Test: 0.735</td>\n",
       "      <td>Val: 0.739, Test: 0.739</td>\n",
       "      <td>Val: 0.734, Test: 0.735</td>\n",
       "      <td>Val: 0.733, Test: 0.733</td>\n",
       "    </tr>\n",
       "    <tr>\n",
       "      <th>2</th>\n",
       "      <td>Gradientboost Classifier</td>\n",
       "      <td>Val: 0.737, Test: 0.738</td>\n",
       "      <td>Val: 0.738, Test: 0.739</td>\n",
       "      <td>Val: 0.737, Test: 0.738</td>\n",
       "      <td>Val: 0.736, Test: 0.738</td>\n",
       "    </tr>\n",
       "    <tr>\n",
       "      <th>3</th>\n",
       "      <td>Random Forest Classifier</td>\n",
       "      <td>Val: 0.714, Test: 0.710</td>\n",
       "      <td>Val: 0.714, Test: 0.710</td>\n",
       "      <td>Val: 0.714, Test: 0.710</td>\n",
       "      <td>Val: 0.714, Test: 0.710</td>\n",
       "    </tr>\n",
       "    <tr>\n",
       "      <th>4</th>\n",
       "      <td>AdaBoost Classifier Best</td>\n",
       "      <td>Val: 0.736, Test: 0.735</td>\n",
       "      <td>Val: 0.742, Test: 0.741</td>\n",
       "      <td>Val: 0.736, Test: 0.735</td>\n",
       "      <td>Val: 0.734, Test: 0.734</td>\n",
       "    </tr>\n",
       "    <tr>\n",
       "      <th>5</th>\n",
       "      <td>GradientBoost Classifier Best</td>\n",
       "      <td>Val: 0.739, Test: 0.738</td>\n",
       "      <td>Val: 0.740, Test: 0.739</td>\n",
       "      <td>Val: 0.739, Test: 0.738</td>\n",
       "      <td>Val: 0.739, Test: 0.737</td>\n",
       "    </tr>\n",
       "    <tr>\n",
       "      <th>6</th>\n",
       "      <td>AdaBoost Classifier GridSearch Best</td>\n",
       "      <td>Val: 0.735, Test: 0.733</td>\n",
       "      <td>Val: 0.740, Test: 0.738</td>\n",
       "      <td>Val: 0.735, Test: 0.733</td>\n",
       "      <td>Val: 0.734, Test: 0.732</td>\n",
       "    </tr>\n",
       "    <tr>\n",
       "      <th>7</th>\n",
       "      <td>GradientBoost Classifier GridSearch Best</td>\n",
       "      <td>Val: 0.739, Test: 0.740</td>\n",
       "      <td>Val: 0.741, Test: 0.741</td>\n",
       "      <td>Val: 0.739, Test: 0.740</td>\n",
       "      <td>Val: 0.738, Test: 0.739</td>\n",
       "    </tr>\n",
       "  </tbody>\n",
       "</table>\n",
       "</div>"
      ],
      "text/plain": [
       "                                      Model                 Accuracy  \\\n",
       "0                       Logistic Regression  Val: 0.720, Test: 0.720   \n",
       "1                       Adaboost Classifier  Val: 0.734, Test: 0.735   \n",
       "2                  Gradientboost Classifier  Val: 0.737, Test: 0.738   \n",
       "3                  Random Forest Classifier  Val: 0.714, Test: 0.710   \n",
       "4                  AdaBoost Classifier Best  Val: 0.736, Test: 0.735   \n",
       "5             GradientBoost Classifier Best  Val: 0.739, Test: 0.738   \n",
       "6       AdaBoost Classifier GridSearch Best  Val: 0.735, Test: 0.733   \n",
       "7  GradientBoost Classifier GridSearch Best  Val: 0.739, Test: 0.740   \n",
       "\n",
       "                 Precision                   Recall                 F1-Score  \n",
       "0  Val: 0.721, Test: 0.722  Val: 0.720, Test: 0.720  Val: 0.719, Test: 0.720  \n",
       "1  Val: 0.739, Test: 0.739  Val: 0.734, Test: 0.735  Val: 0.733, Test: 0.733  \n",
       "2  Val: 0.738, Test: 0.739  Val: 0.737, Test: 0.738  Val: 0.736, Test: 0.738  \n",
       "3  Val: 0.714, Test: 0.710  Val: 0.714, Test: 0.710  Val: 0.714, Test: 0.710  \n",
       "4  Val: 0.742, Test: 0.741  Val: 0.736, Test: 0.735  Val: 0.734, Test: 0.734  \n",
       "5  Val: 0.740, Test: 0.739  Val: 0.739, Test: 0.738  Val: 0.739, Test: 0.737  \n",
       "6  Val: 0.740, Test: 0.738  Val: 0.735, Test: 0.733  Val: 0.734, Test: 0.732  \n",
       "7  Val: 0.741, Test: 0.741  Val: 0.739, Test: 0.740  Val: 0.738, Test: 0.739  "
      ]
     },
     "execution_count": 23,
     "metadata": {},
     "output_type": "execute_result"
    }
   ],
   "source": [
    "# Define the models\n",
    "models = [\n",
    "    ('Logistic Regression', log_reg),\n",
    "    ('Adaboost Classifier', ada),\n",
    "    ('Gradientboost Classifier', gb),\n",
    "    ('Random Forest Classifier', rf),\n",
    "    ('AdaBoost Classifier Best', ada_best),\n",
    "    ('GradientBoost Classifier Best', gradboost_best),\n",
    "    ('AdaBoost Classifier GridSearch Best', ada_grid_best),\n",
    "    ('GradientBoost Classifier GridSearch Best', gradboost_grid_best)\n",
    "]\n",
    "\n",
    "# Create an empty DataFrame to store the results\n",
    "results_df = pd.DataFrame(columns=['Model', 'Accuracy', 'Precision', 'Recall', 'F1-Score'])\n",
    "\n",
    "# Evaluate each model and append the results to the DataFrame\n",
    "for model_name, model in models:\n",
    "    # Train the model\n",
    "    model.fit(X_train, y_train)\n",
    "\n",
    "    # Evaluate the model on the validation set\n",
    "    y_val_pred = model.predict(X_val)\n",
    "    acc_val = accuracy_score(y_val, y_val_pred)\n",
    "    p_val, r_val, f1_val, _ = precision_recall_fscore_support(y_val, y_val_pred, average='weighted')\n",
    "\n",
    "    # Evaluate the model on the test set\n",
    "    y_test_pred = model.predict(X_test)\n",
    "    acc_test = accuracy_score(y_test, y_test_pred)\n",
    "    p_test, r_test, f1_test, _ = precision_recall_fscore_support(y_test, y_test_pred, average='weighted')\n",
    "\n",
    "    # Append the results to the DataFrame\n",
    "    results_df = results_df.append({\n",
    "        'Model': model_name,\n",
    "        'Accuracy': f'Val: {acc_val:.3f}, Test: {acc_test:.3f}',\n",
    "        'Precision': f'Val: {p_val:.3f}, Test: {p_test:.3f}',\n",
    "        'Recall': f'Val: {r_val:.3f}, Test: {r_test:.3f}',\n",
    "        'F1-Score': f'Val: {f1_val:.3f}, Test: {f1_test:.3f}'\n",
    "    }, ignore_index=True)\n",
    "\n",
    "# Print the results\n",
    "results_df"
   ]
  },
  {
   "cell_type": "code",
   "execution_count": 24,
   "metadata": {
    "cell_id": "e2f75a9846504d259c282293e7301000",
    "deepnote_cell_type": "code",
    "deepnote_to_be_reexecuted": false,
    "execution_millis": 5,
    "execution_start": 1677271118227,
    "source_hash": "5f5f1941",
    "tags": []
   },
   "outputs": [
    {
     "data": {
      "text/html": [
       "<div>\n",
       "<style scoped>\n",
       "    .dataframe tbody tr th:only-of-type {\n",
       "        vertical-align: middle;\n",
       "    }\n",
       "\n",
       "    .dataframe tbody tr th {\n",
       "        vertical-align: top;\n",
       "    }\n",
       "\n",
       "    .dataframe thead th {\n",
       "        text-align: right;\n",
       "    }\n",
       "</style>\n",
       "<table border=\"1\" class=\"dataframe\">\n",
       "  <thead>\n",
       "    <tr style=\"text-align: right;\">\n",
       "      <th></th>\n",
       "      <th>Model</th>\n",
       "      <th>Accuracy</th>\n",
       "      <th>Precision</th>\n",
       "      <th>Recall</th>\n",
       "      <th>F1-Score</th>\n",
       "    </tr>\n",
       "  </thead>\n",
       "  <tbody>\n",
       "    <tr>\n",
       "      <th>4</th>\n",
       "      <td>AdaBoost Classifier Best</td>\n",
       "      <td>Val: 0.736, Test: 0.735</td>\n",
       "      <td>Val: 0.742, Test: 0.741</td>\n",
       "      <td>Val: 0.736, Test: 0.735</td>\n",
       "      <td>Val: 0.734, Test: 0.734</td>\n",
       "    </tr>\n",
       "    <tr>\n",
       "      <th>7</th>\n",
       "      <td>GradientBoost Classifier GridSearch Best</td>\n",
       "      <td>Val: 0.739, Test: 0.740</td>\n",
       "      <td>Val: 0.741, Test: 0.741</td>\n",
       "      <td>Val: 0.739, Test: 0.740</td>\n",
       "      <td>Val: 0.738, Test: 0.739</td>\n",
       "    </tr>\n",
       "    <tr>\n",
       "      <th>5</th>\n",
       "      <td>GradientBoost Classifier Best</td>\n",
       "      <td>Val: 0.739, Test: 0.738</td>\n",
       "      <td>Val: 0.740, Test: 0.739</td>\n",
       "      <td>Val: 0.739, Test: 0.738</td>\n",
       "      <td>Val: 0.739, Test: 0.737</td>\n",
       "    </tr>\n",
       "    <tr>\n",
       "      <th>6</th>\n",
       "      <td>AdaBoost Classifier GridSearch Best</td>\n",
       "      <td>Val: 0.735, Test: 0.733</td>\n",
       "      <td>Val: 0.740, Test: 0.738</td>\n",
       "      <td>Val: 0.735, Test: 0.733</td>\n",
       "      <td>Val: 0.734, Test: 0.732</td>\n",
       "    </tr>\n",
       "    <tr>\n",
       "      <th>1</th>\n",
       "      <td>Adaboost Classifier</td>\n",
       "      <td>Val: 0.734, Test: 0.735</td>\n",
       "      <td>Val: 0.739, Test: 0.739</td>\n",
       "      <td>Val: 0.734, Test: 0.735</td>\n",
       "      <td>Val: 0.733, Test: 0.733</td>\n",
       "    </tr>\n",
       "    <tr>\n",
       "      <th>2</th>\n",
       "      <td>Gradientboost Classifier</td>\n",
       "      <td>Val: 0.737, Test: 0.738</td>\n",
       "      <td>Val: 0.738, Test: 0.739</td>\n",
       "      <td>Val: 0.737, Test: 0.738</td>\n",
       "      <td>Val: 0.736, Test: 0.738</td>\n",
       "    </tr>\n",
       "    <tr>\n",
       "      <th>0</th>\n",
       "      <td>Logistic Regression</td>\n",
       "      <td>Val: 0.720, Test: 0.720</td>\n",
       "      <td>Val: 0.721, Test: 0.722</td>\n",
       "      <td>Val: 0.720, Test: 0.720</td>\n",
       "      <td>Val: 0.719, Test: 0.720</td>\n",
       "    </tr>\n",
       "    <tr>\n",
       "      <th>3</th>\n",
       "      <td>Random Forest Classifier</td>\n",
       "      <td>Val: 0.714, Test: 0.710</td>\n",
       "      <td>Val: 0.714, Test: 0.710</td>\n",
       "      <td>Val: 0.714, Test: 0.710</td>\n",
       "      <td>Val: 0.714, Test: 0.710</td>\n",
       "    </tr>\n",
       "  </tbody>\n",
       "</table>\n",
       "</div>"
      ],
      "text/plain": [
       "                                      Model                 Accuracy  \\\n",
       "4                  AdaBoost Classifier Best  Val: 0.736, Test: 0.735   \n",
       "7  GradientBoost Classifier GridSearch Best  Val: 0.739, Test: 0.740   \n",
       "5             GradientBoost Classifier Best  Val: 0.739, Test: 0.738   \n",
       "6       AdaBoost Classifier GridSearch Best  Val: 0.735, Test: 0.733   \n",
       "1                       Adaboost Classifier  Val: 0.734, Test: 0.735   \n",
       "2                  Gradientboost Classifier  Val: 0.737, Test: 0.738   \n",
       "0                       Logistic Regression  Val: 0.720, Test: 0.720   \n",
       "3                  Random Forest Classifier  Val: 0.714, Test: 0.710   \n",
       "\n",
       "                 Precision                   Recall                 F1-Score  \n",
       "4  Val: 0.742, Test: 0.741  Val: 0.736, Test: 0.735  Val: 0.734, Test: 0.734  \n",
       "7  Val: 0.741, Test: 0.741  Val: 0.739, Test: 0.740  Val: 0.738, Test: 0.739  \n",
       "5  Val: 0.740, Test: 0.739  Val: 0.739, Test: 0.738  Val: 0.739, Test: 0.737  \n",
       "6  Val: 0.740, Test: 0.738  Val: 0.735, Test: 0.733  Val: 0.734, Test: 0.732  \n",
       "1  Val: 0.739, Test: 0.739  Val: 0.734, Test: 0.735  Val: 0.733, Test: 0.733  \n",
       "2  Val: 0.738, Test: 0.739  Val: 0.737, Test: 0.738  Val: 0.736, Test: 0.738  \n",
       "0  Val: 0.721, Test: 0.722  Val: 0.720, Test: 0.720  Val: 0.719, Test: 0.720  \n",
       "3  Val: 0.714, Test: 0.710  Val: 0.714, Test: 0.710  Val: 0.714, Test: 0.710  "
      ]
     },
     "execution_count": 24,
     "metadata": {},
     "output_type": "execute_result"
    }
   ],
   "source": [
    "sorted_results_df = results_df.sort_values('Precision', ascending=False)\n",
    "sorted_results_df"
   ]
  },
  {
   "cell_type": "code",
   "execution_count": 25,
   "metadata": {
    "cell_id": "ae77a874bd1942d69e4e450e4b2691bc",
    "deepnote_cell_type": "code",
    "deepnote_to_be_reexecuted": false,
    "execution_millis": 4,
    "execution_start": 1677271118518,
    "source_hash": "5989d758",
    "tags": []
   },
   "outputs": [
    {
     "data": {
      "text/html": [
       "<div>\n",
       "<style scoped>\n",
       "    .dataframe tbody tr th:only-of-type {\n",
       "        vertical-align: middle;\n",
       "    }\n",
       "\n",
       "    .dataframe tbody tr th {\n",
       "        vertical-align: top;\n",
       "    }\n",
       "\n",
       "    .dataframe thead th {\n",
       "        text-align: right;\n",
       "    }\n",
       "</style>\n",
       "<table border=\"1\" class=\"dataframe\">\n",
       "  <thead>\n",
       "    <tr style=\"text-align: right;\">\n",
       "      <th></th>\n",
       "      <th>Model</th>\n",
       "      <th>Accuracy</th>\n",
       "      <th>Precision</th>\n",
       "      <th>Recall</th>\n",
       "      <th>F1-Score</th>\n",
       "    </tr>\n",
       "  </thead>\n",
       "  <tbody>\n",
       "    <tr>\n",
       "      <th>7</th>\n",
       "      <td>GradientBoost Classifier GridSearch Best</td>\n",
       "      <td>Val: 0.739, Test: 0.740</td>\n",
       "      <td>Val: 0.741, Test: 0.741</td>\n",
       "      <td>Val: 0.739, Test: 0.740</td>\n",
       "      <td>Val: 0.738, Test: 0.739</td>\n",
       "    </tr>\n",
       "    <tr>\n",
       "      <th>5</th>\n",
       "      <td>GradientBoost Classifier Best</td>\n",
       "      <td>Val: 0.739, Test: 0.738</td>\n",
       "      <td>Val: 0.740, Test: 0.739</td>\n",
       "      <td>Val: 0.739, Test: 0.738</td>\n",
       "      <td>Val: 0.739, Test: 0.737</td>\n",
       "    </tr>\n",
       "    <tr>\n",
       "      <th>2</th>\n",
       "      <td>Gradientboost Classifier</td>\n",
       "      <td>Val: 0.737, Test: 0.738</td>\n",
       "      <td>Val: 0.738, Test: 0.739</td>\n",
       "      <td>Val: 0.737, Test: 0.738</td>\n",
       "      <td>Val: 0.736, Test: 0.738</td>\n",
       "    </tr>\n",
       "    <tr>\n",
       "      <th>4</th>\n",
       "      <td>AdaBoost Classifier Best</td>\n",
       "      <td>Val: 0.736, Test: 0.735</td>\n",
       "      <td>Val: 0.742, Test: 0.741</td>\n",
       "      <td>Val: 0.736, Test: 0.735</td>\n",
       "      <td>Val: 0.734, Test: 0.734</td>\n",
       "    </tr>\n",
       "    <tr>\n",
       "      <th>6</th>\n",
       "      <td>AdaBoost Classifier GridSearch Best</td>\n",
       "      <td>Val: 0.735, Test: 0.733</td>\n",
       "      <td>Val: 0.740, Test: 0.738</td>\n",
       "      <td>Val: 0.735, Test: 0.733</td>\n",
       "      <td>Val: 0.734, Test: 0.732</td>\n",
       "    </tr>\n",
       "    <tr>\n",
       "      <th>1</th>\n",
       "      <td>Adaboost Classifier</td>\n",
       "      <td>Val: 0.734, Test: 0.735</td>\n",
       "      <td>Val: 0.739, Test: 0.739</td>\n",
       "      <td>Val: 0.734, Test: 0.735</td>\n",
       "      <td>Val: 0.733, Test: 0.733</td>\n",
       "    </tr>\n",
       "    <tr>\n",
       "      <th>0</th>\n",
       "      <td>Logistic Regression</td>\n",
       "      <td>Val: 0.720, Test: 0.720</td>\n",
       "      <td>Val: 0.721, Test: 0.722</td>\n",
       "      <td>Val: 0.720, Test: 0.720</td>\n",
       "      <td>Val: 0.719, Test: 0.720</td>\n",
       "    </tr>\n",
       "    <tr>\n",
       "      <th>3</th>\n",
       "      <td>Random Forest Classifier</td>\n",
       "      <td>Val: 0.714, Test: 0.710</td>\n",
       "      <td>Val: 0.714, Test: 0.710</td>\n",
       "      <td>Val: 0.714, Test: 0.710</td>\n",
       "      <td>Val: 0.714, Test: 0.710</td>\n",
       "    </tr>\n",
       "  </tbody>\n",
       "</table>\n",
       "</div>"
      ],
      "text/plain": [
       "                                      Model                 Accuracy  \\\n",
       "7  GradientBoost Classifier GridSearch Best  Val: 0.739, Test: 0.740   \n",
       "5             GradientBoost Classifier Best  Val: 0.739, Test: 0.738   \n",
       "2                  Gradientboost Classifier  Val: 0.737, Test: 0.738   \n",
       "4                  AdaBoost Classifier Best  Val: 0.736, Test: 0.735   \n",
       "6       AdaBoost Classifier GridSearch Best  Val: 0.735, Test: 0.733   \n",
       "1                       Adaboost Classifier  Val: 0.734, Test: 0.735   \n",
       "0                       Logistic Regression  Val: 0.720, Test: 0.720   \n",
       "3                  Random Forest Classifier  Val: 0.714, Test: 0.710   \n",
       "\n",
       "                 Precision                   Recall                 F1-Score  \n",
       "7  Val: 0.741, Test: 0.741  Val: 0.739, Test: 0.740  Val: 0.738, Test: 0.739  \n",
       "5  Val: 0.740, Test: 0.739  Val: 0.739, Test: 0.738  Val: 0.739, Test: 0.737  \n",
       "2  Val: 0.738, Test: 0.739  Val: 0.737, Test: 0.738  Val: 0.736, Test: 0.738  \n",
       "4  Val: 0.742, Test: 0.741  Val: 0.736, Test: 0.735  Val: 0.734, Test: 0.734  \n",
       "6  Val: 0.740, Test: 0.738  Val: 0.735, Test: 0.733  Val: 0.734, Test: 0.732  \n",
       "1  Val: 0.739, Test: 0.739  Val: 0.734, Test: 0.735  Val: 0.733, Test: 0.733  \n",
       "0  Val: 0.721, Test: 0.722  Val: 0.720, Test: 0.720  Val: 0.719, Test: 0.720  \n",
       "3  Val: 0.714, Test: 0.710  Val: 0.714, Test: 0.710  Val: 0.714, Test: 0.710  "
      ]
     },
     "execution_count": 25,
     "metadata": {},
     "output_type": "execute_result"
    }
   ],
   "source": [
    "# results_df = results_df.sort_values('Precision', ascending=False)\n",
    "sorted_results_df = results_df.sort_values('Accuracy', ascending=False)\n",
    "sorted_results_df"
   ]
  },
  {
   "cell_type": "markdown",
   "metadata": {
    "cell_id": "229e75634d6d48ba8e079bf1a7611624",
    "deepnote_cell_type": "markdown",
    "tags": []
   },
   "source": [
    "This created a DataFrame with columns for the model name, accuracy, precision, recall, and f1-score for both the validation and test sets. With `GradientBoost Classifier GridSearchCV` performing better across all performance metrics."
   ]
  },
  {
   "cell_type": "markdown",
   "metadata": {
    "cell_id": "278dff0f62524585b3b5cb7afabd7ec4",
    "deepnote_cell_type": "text-cell-h3",
    "formattedRanges": [],
    "is_collapsed": false,
    "tags": []
   },
   "source": [
    "## Implementing Voting-Classifier"
   ]
  },
  {
   "cell_type": "code",
   "execution_count": 26,
   "metadata": {
    "cell_id": "6abcb190a0f34c31838c365f32370b88",
    "deepnote_cell_type": "code",
    "deepnote_to_be_reexecuted": false,
    "execution_millis": 54275,
    "execution_start": 1677271118579,
    "source_hash": "9ebc6a35",
    "tags": []
   },
   "outputs": [
    {
     "name": "stdout",
     "output_type": "stream",
     "text": [
      "Voting Classifier \n",
      "Accuracy on validation set: 73.79%\n",
      "Accuracy on test set: 73.99%\n",
      "Cross-validation score: 73.53% (+/- 0.73%)\n",
      "Classification report:\n",
      "               precision    recall  f1-score   support\n",
      "\n",
      "           0       0.72      0.78      0.75      6988\n",
      "           1       0.76      0.70      0.73      7012\n",
      "\n",
      "    accuracy                           0.74     14000\n",
      "   macro avg       0.74      0.74      0.74     14000\n",
      "weighted avg       0.74      0.74      0.74     14000\n",
      "\n"
     ]
    }
   ],
   "source": [
    "vc = VotingClassifier(estimators=[('AdaBoost Classifier Best', ada_best),\n",
    "                                ('GradientBoost Classifier GridSearch Best', gradboost_grid_best),\n",
    "                                ('GradientBoost Classifier Best', gradboost_best)], \n",
    "                                voting='hard')\n",
    "vc.fit(X_train,y_train)\n",
    "\n",
    "# Evaluate the model on validation set\n",
    "y_val_pred = vc.predict(X_val)\n",
    "acc_val = accuracy_score(y_val, y_val_pred)\n",
    "p_val, r_val, f1_val, _ = precision_recall_fscore_support(y_val, y_val_pred, average='weighted')\n",
    "\n",
    "# Evaluate the model on test set\n",
    "y_test_pred = vc.predict(X_test)\n",
    "acc_test = accuracy_score(y_test, y_test_pred)\n",
    "p_test, r_test, f1_test, _ = precision_recall_fscore_support(y_test, y_test_pred, average='weighted')\n",
    "\n",
    "# Evaluate the model using cross-validation\n",
    "cv_scores = cross_val_score(vc, X_train_val, y_train_val, cv=5)\n",
    "\n",
    "# Append the results to the DataFrame\n",
    "results_df = results_df.append({\n",
    "    'Model': 'Voting Classifier',\n",
    "    'Accuracy': f'Val: {acc_val:.3f}, Test: {acc_test:.3f}',\n",
    "    'Precision': f'Val: {p_val:.3f}, Test: {p_test:.3f}',\n",
    "    'Recall': f'Val: {r_val:.3f}, Test: {r_test:.3f}',\n",
    "    'F1-Score': f'Val: {f1_val:.3f}, Test: {f1_test:.3f}'\n",
    "}, ignore_index=True)\n",
    "\n",
    "# Print the performance metrics\n",
    "print(\"Voting Classifier \")\n",
    "print(\"Accuracy on validation set: {:.2f}%\".format(acc_val*100))\n",
    "print(\"Accuracy on test set: {:.2f}%\".format(acc_test*100))\n",
    "print(\"Cross-validation score: {:.2f}% (+/- {:.2f}%)\".format(cv_scores.mean()*100, cv_scores.std()*2*100))\n",
    "print(\"Classification report:\\n\", classification_report(y_test, y_pred))"
   ]
  },
  {
   "cell_type": "code",
   "execution_count": 27,
   "metadata": {
    "cell_id": "88180bf1899749da97b3bdcf12f21711",
    "deepnote_cell_type": "code",
    "deepnote_to_be_reexecuted": false,
    "execution_millis": 580,
    "execution_start": 1677271172853,
    "source_hash": "190b90d8",
    "tags": []
   },
   "outputs": [
    {
     "data": {
      "image/png": "[encoded data removed]",
      "text/plain": [
       "<Figure size 640x480 with 2 Axes>"
      ]
     },
     "metadata": {},
     "output_type": "display_data"
    }
   ],
   "source": [
    "plot_confusion_matrix(vc, X_test, y_test);"
   ]
  },
  {
   "cell_type": "code",
   "execution_count": 28,
   "metadata": {
    "cell_id": "220493d38c824882835cdb63baea1d3c",
    "deepnote_cell_type": "code",
    "deepnote_to_be_reexecuted": false,
    "execution_millis": 16,
    "execution_start": 1677271173435,
    "source_hash": "5f5f1941",
    "tags": []
   },
   "outputs": [
    {
     "data": {
      "text/html": [
       "<div>\n",
       "<style scoped>\n",
       "    .dataframe tbody tr th:only-of-type {\n",
       "        vertical-align: middle;\n",
       "    }\n",
       "\n",
       "    .dataframe tbody tr th {\n",
       "        vertical-align: top;\n",
       "    }\n",
       "\n",
       "    .dataframe thead th {\n",
       "        text-align: right;\n",
       "    }\n",
       "</style>\n",
       "<table border=\"1\" class=\"dataframe\">\n",
       "  <thead>\n",
       "    <tr style=\"text-align: right;\">\n",
       "      <th></th>\n",
       "      <th>Model</th>\n",
       "      <th>Accuracy</th>\n",
       "      <th>Precision</th>\n",
       "      <th>Recall</th>\n",
       "      <th>F1-Score</th>\n",
       "    </tr>\n",
       "  </thead>\n",
       "  <tbody>\n",
       "    <tr>\n",
       "      <th>4</th>\n",
       "      <td>AdaBoost Classifier Best</td>\n",
       "      <td>Val: 0.736, Test: 0.735</td>\n",
       "      <td>Val: 0.742, Test: 0.741</td>\n",
       "      <td>Val: 0.736, Test: 0.735</td>\n",
       "      <td>Val: 0.734, Test: 0.734</td>\n",
       "    </tr>\n",
       "    <tr>\n",
       "      <th>7</th>\n",
       "      <td>GradientBoost Classifier GridSearch Best</td>\n",
       "      <td>Val: 0.739, Test: 0.740</td>\n",
       "      <td>Val: 0.741, Test: 0.741</td>\n",
       "      <td>Val: 0.739, Test: 0.740</td>\n",
       "      <td>Val: 0.738, Test: 0.739</td>\n",
       "    </tr>\n",
       "    <tr>\n",
       "      <th>8</th>\n",
       "      <td>Voting Classifier</td>\n",
       "      <td>Val: 0.738, Test: 0.740</td>\n",
       "      <td>Val: 0.740, Test: 0.741</td>\n",
       "      <td>Val: 0.738, Test: 0.740</td>\n",
       "      <td>Val: 0.737, Test: 0.739</td>\n",
       "    </tr>\n",
       "    <tr>\n",
       "      <th>5</th>\n",
       "      <td>GradientBoost Classifier Best</td>\n",
       "      <td>Val: 0.739, Test: 0.738</td>\n",
       "      <td>Val: 0.740, Test: 0.739</td>\n",
       "      <td>Val: 0.739, Test: 0.738</td>\n",
       "      <td>Val: 0.739, Test: 0.737</td>\n",
       "    </tr>\n",
       "    <tr>\n",
       "      <th>6</th>\n",
       "      <td>AdaBoost Classifier GridSearch Best</td>\n",
       "      <td>Val: 0.735, Test: 0.733</td>\n",
       "      <td>Val: 0.740, Test: 0.738</td>\n",
       "      <td>Val: 0.735, Test: 0.733</td>\n",
       "      <td>Val: 0.734, Test: 0.732</td>\n",
       "    </tr>\n",
       "    <tr>\n",
       "      <th>1</th>\n",
       "      <td>Adaboost Classifier</td>\n",
       "      <td>Val: 0.734, Test: 0.735</td>\n",
       "      <td>Val: 0.739, Test: 0.739</td>\n",
       "      <td>Val: 0.734, Test: 0.735</td>\n",
       "      <td>Val: 0.733, Test: 0.733</td>\n",
       "    </tr>\n",
       "    <tr>\n",
       "      <th>2</th>\n",
       "      <td>Gradientboost Classifier</td>\n",
       "      <td>Val: 0.737, Test: 0.738</td>\n",
       "      <td>Val: 0.738, Test: 0.739</td>\n",
       "      <td>Val: 0.737, Test: 0.738</td>\n",
       "      <td>Val: 0.736, Test: 0.738</td>\n",
       "    </tr>\n",
       "    <tr>\n",
       "      <th>0</th>\n",
       "      <td>Logistic Regression</td>\n",
       "      <td>Val: 0.720, Test: 0.720</td>\n",
       "      <td>Val: 0.721, Test: 0.722</td>\n",
       "      <td>Val: 0.720, Test: 0.720</td>\n",
       "      <td>Val: 0.719, Test: 0.720</td>\n",
       "    </tr>\n",
       "    <tr>\n",
       "      <th>3</th>\n",
       "      <td>Random Forest Classifier</td>\n",
       "      <td>Val: 0.714, Test: 0.710</td>\n",
       "      <td>Val: 0.714, Test: 0.710</td>\n",
       "      <td>Val: 0.714, Test: 0.710</td>\n",
       "      <td>Val: 0.714, Test: 0.710</td>\n",
       "    </tr>\n",
       "  </tbody>\n",
       "</table>\n",
       "</div>"
      ],
      "text/plain": [
       "                                      Model                 Accuracy  \\\n",
       "4                  AdaBoost Classifier Best  Val: 0.736, Test: 0.735   \n",
       "7  GradientBoost Classifier GridSearch Best  Val: 0.739, Test: 0.740   \n",
       "8                         Voting Classifier  Val: 0.738, Test: 0.740   \n",
       "5             GradientBoost Classifier Best  Val: 0.739, Test: 0.738   \n",
       "6       AdaBoost Classifier GridSearch Best  Val: 0.735, Test: 0.733   \n",
       "1                       Adaboost Classifier  Val: 0.734, Test: 0.735   \n",
       "2                  Gradientboost Classifier  Val: 0.737, Test: 0.738   \n",
       "0                       Logistic Regression  Val: 0.720, Test: 0.720   \n",
       "3                  Random Forest Classifier  Val: 0.714, Test: 0.710   \n",
       "\n",
       "                 Precision                   Recall                 F1-Score  \n",
       "4  Val: 0.742, Test: 0.741  Val: 0.736, Test: 0.735  Val: 0.734, Test: 0.734  \n",
       "7  Val: 0.741, Test: 0.741  Val: 0.739, Test: 0.740  Val: 0.738, Test: 0.739  \n",
       "8  Val: 0.740, Test: 0.741  Val: 0.738, Test: 0.740  Val: 0.737, Test: 0.739  \n",
       "5  Val: 0.740, Test: 0.739  Val: 0.739, Test: 0.738  Val: 0.739, Test: 0.737  \n",
       "6  Val: 0.740, Test: 0.738  Val: 0.735, Test: 0.733  Val: 0.734, Test: 0.732  \n",
       "1  Val: 0.739, Test: 0.739  Val: 0.734, Test: 0.735  Val: 0.733, Test: 0.733  \n",
       "2  Val: 0.738, Test: 0.739  Val: 0.737, Test: 0.738  Val: 0.736, Test: 0.738  \n",
       "0  Val: 0.721, Test: 0.722  Val: 0.720, Test: 0.720  Val: 0.719, Test: 0.720  \n",
       "3  Val: 0.714, Test: 0.710  Val: 0.714, Test: 0.710  Val: 0.714, Test: 0.710  "
      ]
     },
     "execution_count": 28,
     "metadata": {},
     "output_type": "execute_result"
    }
   ],
   "source": [
    "sorted_results_df = results_df.sort_values('Precision', ascending=False)\n",
    "sorted_results_df"
   ]
  },
  {
   "cell_type": "code",
   "execution_count": 29,
   "metadata": {},
   "outputs": [
    {
     "data": {
      "text/html": [
       "<div>\n",
       "<style scoped>\n",
       "    .dataframe tbody tr th:only-of-type {\n",
       "        vertical-align: middle;\n",
       "    }\n",
       "\n",
       "    .dataframe tbody tr th {\n",
       "        vertical-align: top;\n",
       "    }\n",
       "\n",
       "    .dataframe thead th {\n",
       "        text-align: right;\n",
       "    }\n",
       "</style>\n",
       "<table border=\"1\" class=\"dataframe\">\n",
       "  <thead>\n",
       "    <tr style=\"text-align: right;\">\n",
       "      <th></th>\n",
       "      <th>Model</th>\n",
       "      <th>Accuracy</th>\n",
       "      <th>Precision</th>\n",
       "      <th>Recall</th>\n",
       "      <th>F1-Score</th>\n",
       "    </tr>\n",
       "  </thead>\n",
       "  <tbody>\n",
       "    <tr>\n",
       "      <th>7</th>\n",
       "      <td>GradientBoost Classifier GridSearch Best</td>\n",
       "      <td>Val: 0.739, Test: 0.740</td>\n",
       "      <td>Val: 0.741, Test: 0.741</td>\n",
       "      <td>Val: 0.739, Test: 0.740</td>\n",
       "      <td>Val: 0.738, Test: 0.739</td>\n",
       "    </tr>\n",
       "    <tr>\n",
       "      <th>5</th>\n",
       "      <td>GradientBoost Classifier Best</td>\n",
       "      <td>Val: 0.739, Test: 0.738</td>\n",
       "      <td>Val: 0.740, Test: 0.739</td>\n",
       "      <td>Val: 0.739, Test: 0.738</td>\n",
       "      <td>Val: 0.739, Test: 0.737</td>\n",
       "    </tr>\n",
       "    <tr>\n",
       "      <th>8</th>\n",
       "      <td>Voting Classifier</td>\n",
       "      <td>Val: 0.738, Test: 0.740</td>\n",
       "      <td>Val: 0.740, Test: 0.741</td>\n",
       "      <td>Val: 0.738, Test: 0.740</td>\n",
       "      <td>Val: 0.737, Test: 0.739</td>\n",
       "    </tr>\n",
       "    <tr>\n",
       "      <th>2</th>\n",
       "      <td>Gradientboost Classifier</td>\n",
       "      <td>Val: 0.737, Test: 0.738</td>\n",
       "      <td>Val: 0.738, Test: 0.739</td>\n",
       "      <td>Val: 0.737, Test: 0.738</td>\n",
       "      <td>Val: 0.736, Test: 0.738</td>\n",
       "    </tr>\n",
       "    <tr>\n",
       "      <th>4</th>\n",
       "      <td>AdaBoost Classifier Best</td>\n",
       "      <td>Val: 0.736, Test: 0.735</td>\n",
       "      <td>Val: 0.742, Test: 0.741</td>\n",
       "      <td>Val: 0.736, Test: 0.735</td>\n",
       "      <td>Val: 0.734, Test: 0.734</td>\n",
       "    </tr>\n",
       "    <tr>\n",
       "      <th>6</th>\n",
       "      <td>AdaBoost Classifier GridSearch Best</td>\n",
       "      <td>Val: 0.735, Test: 0.733</td>\n",
       "      <td>Val: 0.740, Test: 0.738</td>\n",
       "      <td>Val: 0.735, Test: 0.733</td>\n",
       "      <td>Val: 0.734, Test: 0.732</td>\n",
       "    </tr>\n",
       "    <tr>\n",
       "      <th>1</th>\n",
       "      <td>Adaboost Classifier</td>\n",
       "      <td>Val: 0.734, Test: 0.735</td>\n",
       "      <td>Val: 0.739, Test: 0.739</td>\n",
       "      <td>Val: 0.734, Test: 0.735</td>\n",
       "      <td>Val: 0.733, Test: 0.733</td>\n",
       "    </tr>\n",
       "    <tr>\n",
       "      <th>0</th>\n",
       "      <td>Logistic Regression</td>\n",
       "      <td>Val: 0.720, Test: 0.720</td>\n",
       "      <td>Val: 0.721, Test: 0.722</td>\n",
       "      <td>Val: 0.720, Test: 0.720</td>\n",
       "      <td>Val: 0.719, Test: 0.720</td>\n",
       "    </tr>\n",
       "    <tr>\n",
       "      <th>3</th>\n",
       "      <td>Random Forest Classifier</td>\n",
       "      <td>Val: 0.714, Test: 0.710</td>\n",
       "      <td>Val: 0.714, Test: 0.710</td>\n",
       "      <td>Val: 0.714, Test: 0.710</td>\n",
       "      <td>Val: 0.714, Test: 0.710</td>\n",
       "    </tr>\n",
       "  </tbody>\n",
       "</table>\n",
       "</div>"
      ],
      "text/plain": [
       "                                      Model                 Accuracy  \\\n",
       "7  GradientBoost Classifier GridSearch Best  Val: 0.739, Test: 0.740   \n",
       "5             GradientBoost Classifier Best  Val: 0.739, Test: 0.738   \n",
       "8                         Voting Classifier  Val: 0.738, Test: 0.740   \n",
       "2                  Gradientboost Classifier  Val: 0.737, Test: 0.738   \n",
       "4                  AdaBoost Classifier Best  Val: 0.736, Test: 0.735   \n",
       "6       AdaBoost Classifier GridSearch Best  Val: 0.735, Test: 0.733   \n",
       "1                       Adaboost Classifier  Val: 0.734, Test: 0.735   \n",
       "0                       Logistic Regression  Val: 0.720, Test: 0.720   \n",
       "3                  Random Forest Classifier  Val: 0.714, Test: 0.710   \n",
       "\n",
       "                 Precision                   Recall                 F1-Score  \n",
       "7  Val: 0.741, Test: 0.741  Val: 0.739, Test: 0.740  Val: 0.738, Test: 0.739  \n",
       "5  Val: 0.740, Test: 0.739  Val: 0.739, Test: 0.738  Val: 0.739, Test: 0.737  \n",
       "8  Val: 0.740, Test: 0.741  Val: 0.738, Test: 0.740  Val: 0.737, Test: 0.739  \n",
       "2  Val: 0.738, Test: 0.739  Val: 0.737, Test: 0.738  Val: 0.736, Test: 0.738  \n",
       "4  Val: 0.742, Test: 0.741  Val: 0.736, Test: 0.735  Val: 0.734, Test: 0.734  \n",
       "6  Val: 0.740, Test: 0.738  Val: 0.735, Test: 0.733  Val: 0.734, Test: 0.732  \n",
       "1  Val: 0.739, Test: 0.739  Val: 0.734, Test: 0.735  Val: 0.733, Test: 0.733  \n",
       "0  Val: 0.721, Test: 0.722  Val: 0.720, Test: 0.720  Val: 0.719, Test: 0.720  \n",
       "3  Val: 0.714, Test: 0.710  Val: 0.714, Test: 0.710  Val: 0.714, Test: 0.710  "
      ]
     },
     "execution_count": 29,
     "metadata": {},
     "output_type": "execute_result"
    }
   ],
   "source": [
    "sorted_results_df = results_df.sort_values('Accuracy', ascending=False)\n",
    "sorted_results_df"
   ]
  },
  {
   "cell_type": "markdown",
   "metadata": {
    "created_in_deepnote_cell": true,
    "deepnote_cell_type": "markdown",
    "tags": []
   },
   "source": [
    "<a style='text-decoration:none;line-height:16px;display:flex;color:#5B5B62;padding:10px;justify-content:end;' href='https://deepnote.com?utm_source=created-in-deepnote-cell&projectId=ff326574-3ec1-47f6-99a1-8d027e4792c0' target=\"_blank\">\n",
    "<img alt='Created in deepnote.com' style='display:inline;max-height:16px;margin:0px;margin-right:7.5px;' src='data:image/svg+xml;base64,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' > </img>\n",
    "Created in <span style='font-weight:600;margin-left:4px;'>Deepnote</span></a>"
   ]
  }
 ],
 "metadata": {
  "deepnote": {},
  "deepnote_execution_queue": [],
  "deepnote_notebook_id": "316ee557e7cb43cb8294b3b2afafeb40",
  "kernelspec": {
   "display_name": "Python 3 (ipykernel)",
   "language": "python",
   "name": "python3"
  },
  "language_info": {
   "codemirror_mode": {
    "name": "ipython",
    "version": 3
   },
   "file_extension": ".py",
   "mimetype": "text/x-python",
   "name": "python",
   "nbconvert_exporter": "python",
   "pygments_lexer": "ipython3",
   "version": "3.9.13"
  }
 },
 "nbformat": 4,
 "nbformat_minor": 4
}
