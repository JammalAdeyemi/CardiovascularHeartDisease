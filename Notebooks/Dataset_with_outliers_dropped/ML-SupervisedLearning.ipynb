{
 "cells": [
  {
   "cell_type": "code",
   "execution_count": 13,
   "metadata": {
    "cell_id": "8145243cc8a0473da6c4e794d99f63b7",
    "deepnote_cell_type": "code",
    "deepnote_to_be_reexecuted": false,
    "execution_millis": 623,
    "execution_start": 1677524255213,
    "source_hash": "c9dc3e77"
   },
   "outputs": [],
   "source": [
    "import pandas as pd\n",
    "import numpy as np\n",
    "import matplotlib.pyplot as plt\n",
    "import seaborn as sns\n",
    "\n",
    "from sklearn.model_selection import train_test_split, cross_val_score\n",
    "from sklearn.tree import DecisionTreeClassifier\n",
    "from sklearn.ensemble import ExtraTreesClassifier, AdaBoostClassifier, GradientBoostingClassifier\n",
    "from sklearn.linear_model import LogisticRegression, RidgeClassifier\n",
    "from sklearn.preprocessing import StandardScaler, LabelEncoder\n",
    "from sklearn.metrics import accuracy_score, precision_score, precision_recall_fscore_support, confusion_matrix, classification_report, plot_confusion_matrix\n",
    "\n",
    "import warnings\n",
    "warnings.filterwarnings(\"ignore\")"
   ]
  },
  {
   "cell_type": "markdown",
   "metadata": {
    "cell_id": "22280a5f85104c7592e79773b3f9b2dc",
    "deepnote_cell_type": "text-cell-h2",
    "formattedRanges": [],
    "is_collapsed": false,
    "tags": []
   },
   "source": [
    "## Datasets"
   ]
  },
  {
   "cell_type": "code",
   "execution_count": 3,
   "metadata": {
    "cell_id": "3474a8b050d6479397e8f7b0f1a5934d",
    "deepnote_cell_type": "code",
    "deepnote_to_be_reexecuted": false,
    "execution_millis": 90,
    "execution_start": 1677486335184,
    "source_hash": "a2339cfb"
   },
   "outputs": [
    {
     "data": {
      "text/html": [
       "<div>\n",
       "<style scoped>\n",
       "    .dataframe tbody tr th:only-of-type {\n",
       "        vertical-align: middle;\n",
       "    }\n",
       "\n",
       "    .dataframe tbody tr th {\n",
       "        vertical-align: top;\n",
       "    }\n",
       "\n",
       "    .dataframe thead th {\n",
       "        text-align: right;\n",
       "    }\n",
       "</style>\n",
       "<table border=\"1\" class=\"dataframe\">\n",
       "  <thead>\n",
       "    <tr style=\"text-align: right;\">\n",
       "      <th></th>\n",
       "      <th>age</th>\n",
       "      <th>gender</th>\n",
       "      <th>height</th>\n",
       "      <th>weight</th>\n",
       "      <th>systolic</th>\n",
       "      <th>diastolic</th>\n",
       "      <th>cholesterol</th>\n",
       "      <th>glucose</th>\n",
       "      <th>smoke</th>\n",
       "      <th>alcohol</th>\n",
       "      <th>active</th>\n",
       "      <th>cardiovascular_disease</th>\n",
       "      <th>BMI</th>\n",
       "    </tr>\n",
       "  </thead>\n",
       "  <tbody>\n",
       "    <tr>\n",
       "      <th>0</th>\n",
       "      <td>50</td>\n",
       "      <td>2</td>\n",
       "      <td>168</td>\n",
       "      <td>62</td>\n",
       "      <td>110</td>\n",
       "      <td>80</td>\n",
       "      <td>1</td>\n",
       "      <td>1</td>\n",
       "      <td>0</td>\n",
       "      <td>0</td>\n",
       "      <td>1</td>\n",
       "      <td>0</td>\n",
       "      <td>21</td>\n",
       "    </tr>\n",
       "    <tr>\n",
       "      <th>1</th>\n",
       "      <td>55</td>\n",
       "      <td>1</td>\n",
       "      <td>156</td>\n",
       "      <td>85</td>\n",
       "      <td>140</td>\n",
       "      <td>90</td>\n",
       "      <td>3</td>\n",
       "      <td>1</td>\n",
       "      <td>0</td>\n",
       "      <td>0</td>\n",
       "      <td>1</td>\n",
       "      <td>1</td>\n",
       "      <td>34</td>\n",
       "    </tr>\n",
       "    <tr>\n",
       "      <th>2</th>\n",
       "      <td>51</td>\n",
       "      <td>1</td>\n",
       "      <td>165</td>\n",
       "      <td>64</td>\n",
       "      <td>130</td>\n",
       "      <td>70</td>\n",
       "      <td>3</td>\n",
       "      <td>1</td>\n",
       "      <td>0</td>\n",
       "      <td>0</td>\n",
       "      <td>0</td>\n",
       "      <td>1</td>\n",
       "      <td>23</td>\n",
       "    </tr>\n",
       "    <tr>\n",
       "      <th>3</th>\n",
       "      <td>48</td>\n",
       "      <td>2</td>\n",
       "      <td>169</td>\n",
       "      <td>82</td>\n",
       "      <td>150</td>\n",
       "      <td>100</td>\n",
       "      <td>1</td>\n",
       "      <td>1</td>\n",
       "      <td>0</td>\n",
       "      <td>0</td>\n",
       "      <td>1</td>\n",
       "      <td>1</td>\n",
       "      <td>28</td>\n",
       "    </tr>\n",
       "    <tr>\n",
       "      <th>4</th>\n",
       "      <td>47</td>\n",
       "      <td>1</td>\n",
       "      <td>156</td>\n",
       "      <td>56</td>\n",
       "      <td>100</td>\n",
       "      <td>60</td>\n",
       "      <td>1</td>\n",
       "      <td>1</td>\n",
       "      <td>0</td>\n",
       "      <td>0</td>\n",
       "      <td>0</td>\n",
       "      <td>0</td>\n",
       "      <td>23</td>\n",
       "    </tr>\n",
       "  </tbody>\n",
       "</table>\n",
       "</div>"
      ],
      "text/plain": [
       "   age  gender  height  weight  systolic  diastolic  cholesterol  glucose  \\\n",
       "0   50       2     168      62       110         80            1        1   \n",
       "1   55       1     156      85       140         90            3        1   \n",
       "2   51       1     165      64       130         70            3        1   \n",
       "3   48       2     169      82       150        100            1        1   \n",
       "4   47       1     156      56       100         60            1        1   \n",
       "\n",
       "   smoke  alcohol  active  cardiovascular_disease  BMI  \n",
       "0      0        0       1                       0   21  \n",
       "1      0        0       1                       1   34  \n",
       "2      0        0       0                       1   23  \n",
       "3      0        0       1                       1   28  \n",
       "4      0        0       0                       0   23  "
      ]
     },
     "execution_count": 3,
     "metadata": {},
     "output_type": "execute_result"
    }
   ],
   "source": [
    "df = pd.read_csv('../../Data/cardio_data.csv')\n",
    "df.head()"
   ]
  },
  {
   "cell_type": "markdown",
   "metadata": {},
   "source": [
    "## Pycaret Experimentation"
   ]
  },
  {
   "cell_type": "code",
   "execution_count": 4,
   "metadata": {},
   "outputs": [],
   "source": [
    "import pycaret\n",
    "from pycaret.classification import *\n",
    "from pycaret.classification import ClassificationExperiment"
   ]
  },
  {
   "cell_type": "code",
   "execution_count": 6,
   "metadata": {},
   "outputs": [
    {
     "data": {
      "text/html": [
       "<style type=\"text/css\">\n",
       "#T_04aa8_row8_col1 {\n",
       "  background-color: lightgreen;\n",
       "}\n",
       "</style>\n",
       "<table id=\"T_04aa8\">\n",
       "  <thead>\n",
       "    <tr>\n",
       "      <th class=\"blank level0\" >&nbsp;</th>\n",
       "      <th id=\"T_04aa8_level0_col0\" class=\"col_heading level0 col0\" >Description</th>\n",
       "      <th id=\"T_04aa8_level0_col1\" class=\"col_heading level0 col1\" >Value</th>\n",
       "    </tr>\n",
       "  </thead>\n",
       "  <tbody>\n",
       "    <tr>\n",
       "      <th id=\"T_04aa8_level0_row0\" class=\"row_heading level0 row0\" >0</th>\n",
       "      <td id=\"T_04aa8_row0_col0\" class=\"data row0 col0\" >Session id</td>\n",
       "      <td id=\"T_04aa8_row0_col1\" class=\"data row0 col1\" >123</td>\n",
       "    </tr>\n",
       "    <tr>\n",
       "      <th id=\"T_04aa8_level0_row1\" class=\"row_heading level0 row1\" >1</th>\n",
       "      <td id=\"T_04aa8_row1_col0\" class=\"data row1 col0\" >Target</td>\n",
       "      <td id=\"T_04aa8_row1_col1\" class=\"data row1 col1\" >cardiovascular_disease</td>\n",
       "    </tr>\n",
       "    <tr>\n",
       "      <th id=\"T_04aa8_level0_row2\" class=\"row_heading level0 row2\" >2</th>\n",
       "      <td id=\"T_04aa8_row2_col0\" class=\"data row2 col0\" >Target type</td>\n",
       "      <td id=\"T_04aa8_row2_col1\" class=\"data row2 col1\" >Binary</td>\n",
       "    </tr>\n",
       "    <tr>\n",
       "      <th id=\"T_04aa8_level0_row3\" class=\"row_heading level0 row3\" >3</th>\n",
       "      <td id=\"T_04aa8_row3_col0\" class=\"data row3 col0\" >Original data shape</td>\n",
       "      <td id=\"T_04aa8_row3_col1\" class=\"data row3 col1\" >(60144, 13)</td>\n",
       "    </tr>\n",
       "    <tr>\n",
       "      <th id=\"T_04aa8_level0_row4\" class=\"row_heading level0 row4\" >4</th>\n",
       "      <td id=\"T_04aa8_row4_col0\" class=\"data row4 col0\" >Transformed data shape</td>\n",
       "      <td id=\"T_04aa8_row4_col1\" class=\"data row4 col1\" >(60144, 13)</td>\n",
       "    </tr>\n",
       "    <tr>\n",
       "      <th id=\"T_04aa8_level0_row5\" class=\"row_heading level0 row5\" >5</th>\n",
       "      <td id=\"T_04aa8_row5_col0\" class=\"data row5 col0\" >Transformed train set shape</td>\n",
       "      <td id=\"T_04aa8_row5_col1\" class=\"data row5 col1\" >(42100, 13)</td>\n",
       "    </tr>\n",
       "    <tr>\n",
       "      <th id=\"T_04aa8_level0_row6\" class=\"row_heading level0 row6\" >6</th>\n",
       "      <td id=\"T_04aa8_row6_col0\" class=\"data row6 col0\" >Transformed test set shape</td>\n",
       "      <td id=\"T_04aa8_row6_col1\" class=\"data row6 col1\" >(18044, 13)</td>\n",
       "    </tr>\n",
       "    <tr>\n",
       "      <th id=\"T_04aa8_level0_row7\" class=\"row_heading level0 row7\" >7</th>\n",
       "      <td id=\"T_04aa8_row7_col0\" class=\"data row7 col0\" >Numeric features</td>\n",
       "      <td id=\"T_04aa8_row7_col1\" class=\"data row7 col1\" >12</td>\n",
       "    </tr>\n",
       "    <tr>\n",
       "      <th id=\"T_04aa8_level0_row8\" class=\"row_heading level0 row8\" >8</th>\n",
       "      <td id=\"T_04aa8_row8_col0\" class=\"data row8 col0\" >Preprocess</td>\n",
       "      <td id=\"T_04aa8_row8_col1\" class=\"data row8 col1\" >True</td>\n",
       "    </tr>\n",
       "    <tr>\n",
       "      <th id=\"T_04aa8_level0_row9\" class=\"row_heading level0 row9\" >9</th>\n",
       "      <td id=\"T_04aa8_row9_col0\" class=\"data row9 col0\" >Imputation type</td>\n",
       "      <td id=\"T_04aa8_row9_col1\" class=\"data row9 col1\" >simple</td>\n",
       "    </tr>\n",
       "    <tr>\n",
       "      <th id=\"T_04aa8_level0_row10\" class=\"row_heading level0 row10\" >10</th>\n",
       "      <td id=\"T_04aa8_row10_col0\" class=\"data row10 col0\" >Numeric imputation</td>\n",
       "      <td id=\"T_04aa8_row10_col1\" class=\"data row10 col1\" >mean</td>\n",
       "    </tr>\n",
       "    <tr>\n",
       "      <th id=\"T_04aa8_level0_row11\" class=\"row_heading level0 row11\" >11</th>\n",
       "      <td id=\"T_04aa8_row11_col0\" class=\"data row11 col0\" >Categorical imputation</td>\n",
       "      <td id=\"T_04aa8_row11_col1\" class=\"data row11 col1\" >mode</td>\n",
       "    </tr>\n",
       "    <tr>\n",
       "      <th id=\"T_04aa8_level0_row12\" class=\"row_heading level0 row12\" >12</th>\n",
       "      <td id=\"T_04aa8_row12_col0\" class=\"data row12 col0\" >Fold Generator</td>\n",
       "      <td id=\"T_04aa8_row12_col1\" class=\"data row12 col1\" >StratifiedKFold</td>\n",
       "    </tr>\n",
       "    <tr>\n",
       "      <th id=\"T_04aa8_level0_row13\" class=\"row_heading level0 row13\" >13</th>\n",
       "      <td id=\"T_04aa8_row13_col0\" class=\"data row13 col0\" >Fold Number</td>\n",
       "      <td id=\"T_04aa8_row13_col1\" class=\"data row13 col1\" >10</td>\n",
       "    </tr>\n",
       "    <tr>\n",
       "      <th id=\"T_04aa8_level0_row14\" class=\"row_heading level0 row14\" >14</th>\n",
       "      <td id=\"T_04aa8_row14_col0\" class=\"data row14 col0\" >CPU Jobs</td>\n",
       "      <td id=\"T_04aa8_row14_col1\" class=\"data row14 col1\" >-1</td>\n",
       "    </tr>\n",
       "    <tr>\n",
       "      <th id=\"T_04aa8_level0_row15\" class=\"row_heading level0 row15\" >15</th>\n",
       "      <td id=\"T_04aa8_row15_col0\" class=\"data row15 col0\" >Use GPU</td>\n",
       "      <td id=\"T_04aa8_row15_col1\" class=\"data row15 col1\" >False</td>\n",
       "    </tr>\n",
       "    <tr>\n",
       "      <th id=\"T_04aa8_level0_row16\" class=\"row_heading level0 row16\" >16</th>\n",
       "      <td id=\"T_04aa8_row16_col0\" class=\"data row16 col0\" >Log Experiment</td>\n",
       "      <td id=\"T_04aa8_row16_col1\" class=\"data row16 col1\" >False</td>\n",
       "    </tr>\n",
       "    <tr>\n",
       "      <th id=\"T_04aa8_level0_row17\" class=\"row_heading level0 row17\" >17</th>\n",
       "      <td id=\"T_04aa8_row17_col0\" class=\"data row17 col0\" >Experiment Name</td>\n",
       "      <td id=\"T_04aa8_row17_col1\" class=\"data row17 col1\" >clf-default-name</td>\n",
       "    </tr>\n",
       "    <tr>\n",
       "      <th id=\"T_04aa8_level0_row18\" class=\"row_heading level0 row18\" >18</th>\n",
       "      <td id=\"T_04aa8_row18_col0\" class=\"data row18 col0\" >USI</td>\n",
       "      <td id=\"T_04aa8_row18_col1\" class=\"data row18 col1\" >016c</td>\n",
       "    </tr>\n",
       "  </tbody>\n",
       "</table>\n"
      ],
      "text/plain": [
       "<pandas.io.formats.style.Styler at 0x1f07000fbe0>"
      ]
     },
     "metadata": {},
     "output_type": "display_data"
    }
   ],
   "source": [
    "clf_exp = setup(data = df, target = 'cardiovascular_disease', session_id=123)"
   ]
  },
  {
   "cell_type": "code",
   "execution_count": 7,
   "metadata": {},
   "outputs": [
    {
     "data": {
      "text/html": [],
      "text/plain": [
       "<IPython.core.display.HTML object>"
      ]
     },
     "metadata": {},
     "output_type": "display_data"
    },
    {
     "data": {
      "text/html": [
       "<style type=\"text/css\">\n",
       "#T_aafb6 th {\n",
       "  text-align: left;\n",
       "}\n",
       "#T_aafb6_row0_col0, #T_aafb6_row0_col1, #T_aafb6_row0_col2, #T_aafb6_row0_col3, #T_aafb6_row0_col5, #T_aafb6_row0_col6, #T_aafb6_row0_col7, #T_aafb6_row1_col0, #T_aafb6_row1_col1, #T_aafb6_row1_col2, #T_aafb6_row1_col3, #T_aafb6_row1_col4, #T_aafb6_row1_col5, #T_aafb6_row1_col6, #T_aafb6_row1_col7, #T_aafb6_row2_col0, #T_aafb6_row2_col1, #T_aafb6_row2_col2, #T_aafb6_row2_col3, #T_aafb6_row2_col4, #T_aafb6_row2_col5, #T_aafb6_row2_col6, #T_aafb6_row2_col7, #T_aafb6_row3_col0, #T_aafb6_row3_col2, #T_aafb6_row3_col3, #T_aafb6_row3_col4, #T_aafb6_row3_col5, #T_aafb6_row4_col0, #T_aafb6_row4_col1, #T_aafb6_row4_col2, #T_aafb6_row4_col3, #T_aafb6_row4_col4, #T_aafb6_row4_col5, #T_aafb6_row4_col6, #T_aafb6_row4_col7, #T_aafb6_row5_col0, #T_aafb6_row5_col1, #T_aafb6_row5_col3, #T_aafb6_row5_col4, #T_aafb6_row5_col6, #T_aafb6_row5_col7, #T_aafb6_row6_col0, #T_aafb6_row6_col1, #T_aafb6_row6_col2, #T_aafb6_row6_col3, #T_aafb6_row6_col4, #T_aafb6_row6_col5, #T_aafb6_row6_col6, #T_aafb6_row6_col7, #T_aafb6_row7_col0, #T_aafb6_row7_col1, #T_aafb6_row7_col2, #T_aafb6_row7_col3, #T_aafb6_row7_col4, #T_aafb6_row7_col5, #T_aafb6_row7_col6, #T_aafb6_row7_col7, #T_aafb6_row8_col0, #T_aafb6_row8_col1, #T_aafb6_row8_col2, #T_aafb6_row8_col3, #T_aafb6_row8_col4, #T_aafb6_row8_col5, #T_aafb6_row8_col6, #T_aafb6_row8_col7, #T_aafb6_row9_col0, #T_aafb6_row9_col1, #T_aafb6_row9_col2, #T_aafb6_row9_col3, #T_aafb6_row9_col4, #T_aafb6_row9_col5, #T_aafb6_row9_col6, #T_aafb6_row9_col7, #T_aafb6_row10_col0, #T_aafb6_row10_col1, #T_aafb6_row10_col2, #T_aafb6_row10_col3, #T_aafb6_row10_col4, #T_aafb6_row10_col5, #T_aafb6_row10_col6, #T_aafb6_row10_col7, #T_aafb6_row11_col0, #T_aafb6_row11_col1, #T_aafb6_row11_col2, #T_aafb6_row11_col3, #T_aafb6_row11_col4, #T_aafb6_row11_col5, #T_aafb6_row11_col6, #T_aafb6_row11_col7, #T_aafb6_row12_col0, #T_aafb6_row12_col1, #T_aafb6_row12_col2, #T_aafb6_row12_col4, #T_aafb6_row12_col5, #T_aafb6_row12_col6, #T_aafb6_row12_col7, #T_aafb6_row13_col0, #T_aafb6_row13_col1, #T_aafb6_row13_col2, #T_aafb6_row13_col3, #T_aafb6_row13_col4, #T_aafb6_row13_col5, #T_aafb6_row13_col6, #T_aafb6_row13_col7, #T_aafb6_row14_col0, #T_aafb6_row14_col1, #T_aafb6_row14_col2, #T_aafb6_row14_col3, #T_aafb6_row14_col4, #T_aafb6_row14_col5, #T_aafb6_row14_col6, #T_aafb6_row14_col7 {\n",
       "  text-align: left;\n",
       "}\n",
       "#T_aafb6_row0_col4, #T_aafb6_row3_col1, #T_aafb6_row3_col6, #T_aafb6_row3_col7, #T_aafb6_row5_col2, #T_aafb6_row5_col5, #T_aafb6_row12_col3 {\n",
       "  text-align: left;\n",
       "  background-color: yellow;\n",
       "}\n",
       "#T_aafb6_row0_col8, #T_aafb6_row2_col8, #T_aafb6_row3_col8, #T_aafb6_row4_col8, #T_aafb6_row5_col8, #T_aafb6_row6_col8, #T_aafb6_row7_col8, #T_aafb6_row8_col8, #T_aafb6_row9_col8, #T_aafb6_row10_col8, #T_aafb6_row11_col8, #T_aafb6_row12_col8, #T_aafb6_row13_col8, #T_aafb6_row14_col8 {\n",
       "  text-align: left;\n",
       "  background-color: lightgrey;\n",
       "}\n",
       "#T_aafb6_row1_col8 {\n",
       "  text-align: left;\n",
       "  background-color: yellow;\n",
       "  background-color: lightgrey;\n",
       "}\n",
       "</style>\n",
       "<table id=\"T_aafb6\">\n",
       "  <thead>\n",
       "    <tr>\n",
       "      <th class=\"blank level0\" >&nbsp;</th>\n",
       "      <th id=\"T_aafb6_level0_col0\" class=\"col_heading level0 col0\" >Model</th>\n",
       "      <th id=\"T_aafb6_level0_col1\" class=\"col_heading level0 col1\" >Accuracy</th>\n",
       "      <th id=\"T_aafb6_level0_col2\" class=\"col_heading level0 col2\" >AUC</th>\n",
       "      <th id=\"T_aafb6_level0_col3\" class=\"col_heading level0 col3\" >Recall</th>\n",
       "      <th id=\"T_aafb6_level0_col4\" class=\"col_heading level0 col4\" >Prec.</th>\n",
       "      <th id=\"T_aafb6_level0_col5\" class=\"col_heading level0 col5\" >F1</th>\n",
       "      <th id=\"T_aafb6_level0_col6\" class=\"col_heading level0 col6\" >Kappa</th>\n",
       "      <th id=\"T_aafb6_level0_col7\" class=\"col_heading level0 col7\" >MCC</th>\n",
       "      <th id=\"T_aafb6_level0_col8\" class=\"col_heading level0 col8\" >TT (Sec)</th>\n",
       "    </tr>\n",
       "  </thead>\n",
       "  <tbody>\n",
       "    <tr>\n",
       "      <th id=\"T_aafb6_level0_row0\" class=\"row_heading level0 row0\" >ada</th>\n",
       "      <td id=\"T_aafb6_row0_col0\" class=\"data row0 col0\" >Ada Boost Classifier</td>\n",
       "      <td id=\"T_aafb6_row0_col1\" class=\"data row0 col1\" >0.7232</td>\n",
       "      <td id=\"T_aafb6_row0_col2\" class=\"data row0 col2\" >0.7884</td>\n",
       "      <td id=\"T_aafb6_row0_col3\" class=\"data row0 col3\" >0.6322</td>\n",
       "      <td id=\"T_aafb6_row0_col4\" class=\"data row0 col4\" >0.7606</td>\n",
       "      <td id=\"T_aafb6_row0_col5\" class=\"data row0 col5\" >0.6904</td>\n",
       "      <td id=\"T_aafb6_row0_col6\" class=\"data row0 col6\" >0.4440</td>\n",
       "      <td id=\"T_aafb6_row0_col7\" class=\"data row0 col7\" >0.4502</td>\n",
       "      <td id=\"T_aafb6_row0_col8\" class=\"data row0 col8\" >0.9230</td>\n",
       "    </tr>\n",
       "    <tr>\n",
       "      <th id=\"T_aafb6_level0_row1\" class=\"row_heading level0 row1\" >ridge</th>\n",
       "      <td id=\"T_aafb6_row1_col0\" class=\"data row1 col0\" >Ridge Classifier</td>\n",
       "      <td id=\"T_aafb6_row1_col1\" class=\"data row1 col1\" >0.7206</td>\n",
       "      <td id=\"T_aafb6_row1_col2\" class=\"data row1 col2\" >0.0000</td>\n",
       "      <td id=\"T_aafb6_row1_col3\" class=\"data row1 col3\" >0.6400</td>\n",
       "      <td id=\"T_aafb6_row1_col4\" class=\"data row1 col4\" >0.7510</td>\n",
       "      <td id=\"T_aafb6_row1_col5\" class=\"data row1 col5\" >0.6911</td>\n",
       "      <td id=\"T_aafb6_row1_col6\" class=\"data row1 col6\" >0.4390</td>\n",
       "      <td id=\"T_aafb6_row1_col7\" class=\"data row1 col7\" >0.4437</td>\n",
       "      <td id=\"T_aafb6_row1_col8\" class=\"data row1 col8\" >0.0710</td>\n",
       "    </tr>\n",
       "    <tr>\n",
       "      <th id=\"T_aafb6_level0_row2\" class=\"row_heading level0 row2\" >lda</th>\n",
       "      <td id=\"T_aafb6_row2_col0\" class=\"data row2 col0\" >Linear Discriminant Analysis</td>\n",
       "      <td id=\"T_aafb6_row2_col1\" class=\"data row2 col1\" >0.7206</td>\n",
       "      <td id=\"T_aafb6_row2_col2\" class=\"data row2 col2\" >0.7838</td>\n",
       "      <td id=\"T_aafb6_row2_col3\" class=\"data row2 col3\" >0.6400</td>\n",
       "      <td id=\"T_aafb6_row2_col4\" class=\"data row2 col4\" >0.7510</td>\n",
       "      <td id=\"T_aafb6_row2_col5\" class=\"data row2 col5\" >0.6911</td>\n",
       "      <td id=\"T_aafb6_row2_col6\" class=\"data row2 col6\" >0.4390</td>\n",
       "      <td id=\"T_aafb6_row2_col7\" class=\"data row2 col7\" >0.4437</td>\n",
       "      <td id=\"T_aafb6_row2_col8\" class=\"data row2 col8\" >0.2940</td>\n",
       "    </tr>\n",
       "    <tr>\n",
       "      <th id=\"T_aafb6_level0_row3\" class=\"row_heading level0 row3\" >lightgbm</th>\n",
       "      <td id=\"T_aafb6_row3_col0\" class=\"data row3 col0\" >Light Gradient Boosting Machine</td>\n",
       "      <td id=\"T_aafb6_row3_col1\" class=\"data row3 col1\" >0.7274</td>\n",
       "      <td id=\"T_aafb6_row3_col2\" class=\"data row3 col2\" >0.7931</td>\n",
       "      <td id=\"T_aafb6_row3_col3\" class=\"data row3 col3\" >0.6688</td>\n",
       "      <td id=\"T_aafb6_row3_col4\" class=\"data row3 col4\" >0.7466</td>\n",
       "      <td id=\"T_aafb6_row3_col5\" class=\"data row3 col5\" >0.7055</td>\n",
       "      <td id=\"T_aafb6_row3_col6\" class=\"data row3 col6\" >0.4532</td>\n",
       "      <td id=\"T_aafb6_row3_col7\" class=\"data row3 col7\" >0.4556</td>\n",
       "      <td id=\"T_aafb6_row3_col8\" class=\"data row3 col8\" >0.5940</td>\n",
       "    </tr>\n",
       "    <tr>\n",
       "      <th id=\"T_aafb6_level0_row4\" class=\"row_heading level0 row4\" >lr</th>\n",
       "      <td id=\"T_aafb6_row4_col0\" class=\"data row4 col0\" >Logistic Regression</td>\n",
       "      <td id=\"T_aafb6_row4_col1\" class=\"data row4 col1\" >0.7208</td>\n",
       "      <td id=\"T_aafb6_row4_col2\" class=\"data row4 col2\" >0.7827</td>\n",
       "      <td id=\"T_aafb6_row4_col3\" class=\"data row4 col3\" >0.6522</td>\n",
       "      <td id=\"T_aafb6_row4_col4\" class=\"data row4 col4\" >0.7443</td>\n",
       "      <td id=\"T_aafb6_row4_col5\" class=\"data row4 col5\" >0.6952</td>\n",
       "      <td id=\"T_aafb6_row4_col6\" class=\"data row4 col6\" >0.4397</td>\n",
       "      <td id=\"T_aafb6_row4_col7\" class=\"data row4 col7\" >0.4429</td>\n",
       "      <td id=\"T_aafb6_row4_col8\" class=\"data row4 col8\" >4.7310</td>\n",
       "    </tr>\n",
       "    <tr>\n",
       "      <th id=\"T_aafb6_level0_row5\" class=\"row_heading level0 row5\" >gbc</th>\n",
       "      <td id=\"T_aafb6_row5_col0\" class=\"data row5 col0\" >Gradient Boosting Classifier</td>\n",
       "      <td id=\"T_aafb6_row5_col1\" class=\"data row5 col1\" >0.7267</td>\n",
       "      <td id=\"T_aafb6_row5_col2\" class=\"data row5 col2\" >0.7941</td>\n",
       "      <td id=\"T_aafb6_row5_col3\" class=\"data row5 col3\" >0.6728</td>\n",
       "      <td id=\"T_aafb6_row5_col4\" class=\"data row5 col4\" >0.7431</td>\n",
       "      <td id=\"T_aafb6_row5_col5\" class=\"data row5 col5\" >0.7062</td>\n",
       "      <td id=\"T_aafb6_row5_col6\" class=\"data row5 col6\" >0.4519</td>\n",
       "      <td id=\"T_aafb6_row5_col7\" class=\"data row5 col7\" >0.4538</td>\n",
       "      <td id=\"T_aafb6_row5_col8\" class=\"data row5 col8\" >1.9590</td>\n",
       "    </tr>\n",
       "    <tr>\n",
       "      <th id=\"T_aafb6_level0_row6\" class=\"row_heading level0 row6\" >nb</th>\n",
       "      <td id=\"T_aafb6_row6_col0\" class=\"data row6 col0\" >Naive Bayes</td>\n",
       "      <td id=\"T_aafb6_row6_col1\" class=\"data row6 col1\" >0.7087</td>\n",
       "      <td id=\"T_aafb6_row6_col2\" class=\"data row6 col2\" >0.7680</td>\n",
       "      <td id=\"T_aafb6_row6_col3\" class=\"data row6 col3\" >0.6170</td>\n",
       "      <td id=\"T_aafb6_row6_col4\" class=\"data row6 col4\" >0.7428</td>\n",
       "      <td id=\"T_aafb6_row6_col5\" class=\"data row6 col5\" >0.6741</td>\n",
       "      <td id=\"T_aafb6_row6_col6\" class=\"data row6 col6\" >0.4147</td>\n",
       "      <td id=\"T_aafb6_row6_col7\" class=\"data row6 col7\" >0.4206</td>\n",
       "      <td id=\"T_aafb6_row6_col8\" class=\"data row6 col8\" >0.0780</td>\n",
       "    </tr>\n",
       "    <tr>\n",
       "      <th id=\"T_aafb6_level0_row7\" class=\"row_heading level0 row7\" >xgboost</th>\n",
       "      <td id=\"T_aafb6_row7_col0\" class=\"data row7 col0\" >Extreme Gradient Boosting</td>\n",
       "      <td id=\"T_aafb6_row7_col1\" class=\"data row7 col1\" >0.7194</td>\n",
       "      <td id=\"T_aafb6_row7_col2\" class=\"data row7 col2\" >0.7832</td>\n",
       "      <td id=\"T_aafb6_row7_col3\" class=\"data row7 col3\" >0.6642</td>\n",
       "      <td id=\"T_aafb6_row7_col4\" class=\"data row7 col4\" >0.7355</td>\n",
       "      <td id=\"T_aafb6_row7_col5\" class=\"data row7 col5\" >0.6980</td>\n",
       "      <td id=\"T_aafb6_row7_col6\" class=\"data row7 col6\" >0.4372</td>\n",
       "      <td id=\"T_aafb6_row7_col7\" class=\"data row7 col7\" >0.4393</td>\n",
       "      <td id=\"T_aafb6_row7_col8\" class=\"data row7 col8\" >1.0200</td>\n",
       "    </tr>\n",
       "    <tr>\n",
       "      <th id=\"T_aafb6_level0_row8\" class=\"row_heading level0 row8\" >qda</th>\n",
       "      <td id=\"T_aafb6_row8_col0\" class=\"data row8 col0\" >Quadratic Discriminant Analysis</td>\n",
       "      <td id=\"T_aafb6_row8_col1\" class=\"data row8 col1\" >0.7028</td>\n",
       "      <td id=\"T_aafb6_row8_col2\" class=\"data row8 col2\" >0.7646</td>\n",
       "      <td id=\"T_aafb6_row8_col3\" class=\"data row8 col3\" >0.6137</td>\n",
       "      <td id=\"T_aafb6_row8_col4\" class=\"data row8 col4\" >0.7341</td>\n",
       "      <td id=\"T_aafb6_row8_col5\" class=\"data row8 col5\" >0.6685</td>\n",
       "      <td id=\"T_aafb6_row8_col6\" class=\"data row8 col6\" >0.4031</td>\n",
       "      <td id=\"T_aafb6_row8_col7\" class=\"data row8 col7\" >0.4084</td>\n",
       "      <td id=\"T_aafb6_row8_col8\" class=\"data row8 col8\" >0.1250</td>\n",
       "    </tr>\n",
       "    <tr>\n",
       "      <th id=\"T_aafb6_level0_row9\" class=\"row_heading level0 row9\" >rf</th>\n",
       "      <td id=\"T_aafb6_row9_col0\" class=\"data row9 col0\" >Random Forest Classifier</td>\n",
       "      <td id=\"T_aafb6_row9_col1\" class=\"data row9 col1\" >0.6996</td>\n",
       "      <td id=\"T_aafb6_row9_col2\" class=\"data row9 col2\" >0.7562</td>\n",
       "      <td id=\"T_aafb6_row9_col3\" class=\"data row9 col3\" >0.6813</td>\n",
       "      <td id=\"T_aafb6_row9_col4\" class=\"data row9 col4\" >0.6968</td>\n",
       "      <td id=\"T_aafb6_row9_col5\" class=\"data row9 col5\" >0.6889</td>\n",
       "      <td id=\"T_aafb6_row9_col6\" class=\"data row9 col6\" >0.3986</td>\n",
       "      <td id=\"T_aafb6_row9_col7\" class=\"data row9 col7\" >0.3988</td>\n",
       "      <td id=\"T_aafb6_row9_col8\" class=\"data row9 col8\" >2.7500</td>\n",
       "    </tr>\n",
       "    <tr>\n",
       "      <th id=\"T_aafb6_level0_row10\" class=\"row_heading level0 row10\" >et</th>\n",
       "      <td id=\"T_aafb6_row10_col0\" class=\"data row10 col0\" >Extra Trees Classifier</td>\n",
       "      <td id=\"T_aafb6_row10_col1\" class=\"data row10 col1\" >0.6868</td>\n",
       "      <td id=\"T_aafb6_row10_col2\" class=\"data row10 col2\" >0.7345</td>\n",
       "      <td id=\"T_aafb6_row10_col3\" class=\"data row10 col3\" >0.6706</td>\n",
       "      <td id=\"T_aafb6_row10_col4\" class=\"data row10 col4\" >0.6825</td>\n",
       "      <td id=\"T_aafb6_row10_col5\" class=\"data row10 col5\" >0.6765</td>\n",
       "      <td id=\"T_aafb6_row10_col6\" class=\"data row10 col6\" >0.3730</td>\n",
       "      <td id=\"T_aafb6_row10_col7\" class=\"data row10 col7\" >0.3731</td>\n",
       "      <td id=\"T_aafb6_row10_col8\" class=\"data row10 col8\" >8.6910</td>\n",
       "    </tr>\n",
       "    <tr>\n",
       "      <th id=\"T_aafb6_level0_row11\" class=\"row_heading level0 row11\" >knn</th>\n",
       "      <td id=\"T_aafb6_row11_col0\" class=\"data row11 col0\" >K Neighbors Classifier</td>\n",
       "      <td id=\"T_aafb6_row11_col1\" class=\"data row11 col1\" >0.6807</td>\n",
       "      <td id=\"T_aafb6_row11_col2\" class=\"data row11 col2\" >0.7261</td>\n",
       "      <td id=\"T_aafb6_row11_col3\" class=\"data row11 col3\" >0.6476</td>\n",
       "      <td id=\"T_aafb6_row11_col4\" class=\"data row11 col4\" >0.6824</td>\n",
       "      <td id=\"T_aafb6_row11_col5\" class=\"data row11 col5\" >0.6645</td>\n",
       "      <td id=\"T_aafb6_row11_col6\" class=\"data row11 col6\" >0.3604</td>\n",
       "      <td id=\"T_aafb6_row11_col7\" class=\"data row11 col7\" >0.3608</td>\n",
       "      <td id=\"T_aafb6_row11_col8\" class=\"data row11 col8\" >0.3380</td>\n",
       "    </tr>\n",
       "    <tr>\n",
       "      <th id=\"T_aafb6_level0_row12\" class=\"row_heading level0 row12\" >svm</th>\n",
       "      <td id=\"T_aafb6_row12_col0\" class=\"data row12 col0\" >SVM - Linear Kernel</td>\n",
       "      <td id=\"T_aafb6_row12_col1\" class=\"data row12 col1\" >0.6289</td>\n",
       "      <td id=\"T_aafb6_row12_col2\" class=\"data row12 col2\" >0.0000</td>\n",
       "      <td id=\"T_aafb6_row12_col3\" class=\"data row12 col3\" >0.7229</td>\n",
       "      <td id=\"T_aafb6_row12_col4\" class=\"data row12 col4\" >0.6665</td>\n",
       "      <td id=\"T_aafb6_row12_col5\" class=\"data row12 col5\" >0.6398</td>\n",
       "      <td id=\"T_aafb6_row12_col6\" class=\"data row12 col6\" >0.2622</td>\n",
       "      <td id=\"T_aafb6_row12_col7\" class=\"data row12 col7\" >0.3203</td>\n",
       "      <td id=\"T_aafb6_row12_col8\" class=\"data row12 col8\" >0.6720</td>\n",
       "    </tr>\n",
       "    <tr>\n",
       "      <th id=\"T_aafb6_level0_row13\" class=\"row_heading level0 row13\" >dt</th>\n",
       "      <td id=\"T_aafb6_row13_col0\" class=\"data row13 col0\" >Decision Tree Classifier</td>\n",
       "      <td id=\"T_aafb6_row13_col1\" class=\"data row13 col1\" >0.6270</td>\n",
       "      <td id=\"T_aafb6_row13_col2\" class=\"data row13 col2\" >0.6263</td>\n",
       "      <td id=\"T_aafb6_row13_col3\" class=\"data row13 col3\" >0.6075</td>\n",
       "      <td id=\"T_aafb6_row13_col4\" class=\"data row13 col4\" >0.6205</td>\n",
       "      <td id=\"T_aafb6_row13_col5\" class=\"data row13 col5\" >0.6139</td>\n",
       "      <td id=\"T_aafb6_row13_col6\" class=\"data row13 col6\" >0.2532</td>\n",
       "      <td id=\"T_aafb6_row13_col7\" class=\"data row13 col7\" >0.2533</td>\n",
       "      <td id=\"T_aafb6_row13_col8\" class=\"data row13 col8\" >0.1380</td>\n",
       "    </tr>\n",
       "    <tr>\n",
       "      <th id=\"T_aafb6_level0_row14\" class=\"row_heading level0 row14\" >dummy</th>\n",
       "      <td id=\"T_aafb6_row14_col0\" class=\"data row14 col0\" >Dummy Classifier</td>\n",
       "      <td id=\"T_aafb6_row14_col1\" class=\"data row14 col1\" >0.5118</td>\n",
       "      <td id=\"T_aafb6_row14_col2\" class=\"data row14 col2\" >0.5000</td>\n",
       "      <td id=\"T_aafb6_row14_col3\" class=\"data row14 col3\" >0.0000</td>\n",
       "      <td id=\"T_aafb6_row14_col4\" class=\"data row14 col4\" >0.0000</td>\n",
       "      <td id=\"T_aafb6_row14_col5\" class=\"data row14 col5\" >0.0000</td>\n",
       "      <td id=\"T_aafb6_row14_col6\" class=\"data row14 col6\" >0.0000</td>\n",
       "      <td id=\"T_aafb6_row14_col7\" class=\"data row14 col7\" >0.0000</td>\n",
       "      <td id=\"T_aafb6_row14_col8\" class=\"data row14 col8\" >2.9910</td>\n",
       "    </tr>\n",
       "  </tbody>\n",
       "</table>\n"
      ],
      "text/plain": [
       "<pandas.io.formats.style.Styler at 0x1f06fa9d310>"
      ]
     },
     "metadata": {},
     "output_type": "display_data"
    },
    {
     "data": {
      "application/vnd.jupyter.widget-view+json": {
       "model_id": "",
       "version_major": 2,
       "version_minor": 0
      },
      "text/plain": [
       "Processing:   0%|          | 0/65 [00:00<?, ?it/s]"
      ]
     },
     "metadata": {},
     "output_type": "display_data"
    }
   ],
   "source": [
    "best_model = compare_models(sort = 'precision')"
   ]
  },
  {
   "cell_type": "code",
   "execution_count": 8,
   "metadata": {},
   "outputs": [
    {
     "data": {
      "text/html": [
       "<style type=\"text/css\">\n",
       "#T_5ebed_row8_col1 {\n",
       "  background-color: lightgreen;\n",
       "}\n",
       "</style>\n",
       "<table id=\"T_5ebed\">\n",
       "  <thead>\n",
       "    <tr>\n",
       "      <th class=\"blank level0\" >&nbsp;</th>\n",
       "      <th id=\"T_5ebed_level0_col0\" class=\"col_heading level0 col0\" >Description</th>\n",
       "      <th id=\"T_5ebed_level0_col1\" class=\"col_heading level0 col1\" >Value</th>\n",
       "    </tr>\n",
       "  </thead>\n",
       "  <tbody>\n",
       "    <tr>\n",
       "      <th id=\"T_5ebed_level0_row0\" class=\"row_heading level0 row0\" >0</th>\n",
       "      <td id=\"T_5ebed_row0_col0\" class=\"data row0 col0\" >Session id</td>\n",
       "      <td id=\"T_5ebed_row0_col1\" class=\"data row0 col1\" >123</td>\n",
       "    </tr>\n",
       "    <tr>\n",
       "      <th id=\"T_5ebed_level0_row1\" class=\"row_heading level0 row1\" >1</th>\n",
       "      <td id=\"T_5ebed_row1_col0\" class=\"data row1 col0\" >Target</td>\n",
       "      <td id=\"T_5ebed_row1_col1\" class=\"data row1 col1\" >cardiovascular_disease</td>\n",
       "    </tr>\n",
       "    <tr>\n",
       "      <th id=\"T_5ebed_level0_row2\" class=\"row_heading level0 row2\" >2</th>\n",
       "      <td id=\"T_5ebed_row2_col0\" class=\"data row2 col0\" >Target type</td>\n",
       "      <td id=\"T_5ebed_row2_col1\" class=\"data row2 col1\" >Binary</td>\n",
       "    </tr>\n",
       "    <tr>\n",
       "      <th id=\"T_5ebed_level0_row3\" class=\"row_heading level0 row3\" >3</th>\n",
       "      <td id=\"T_5ebed_row3_col0\" class=\"data row3 col0\" >Original data shape</td>\n",
       "      <td id=\"T_5ebed_row3_col1\" class=\"data row3 col1\" >(60144, 13)</td>\n",
       "    </tr>\n",
       "    <tr>\n",
       "      <th id=\"T_5ebed_level0_row4\" class=\"row_heading level0 row4\" >4</th>\n",
       "      <td id=\"T_5ebed_row4_col0\" class=\"data row4 col0\" >Transformed data shape</td>\n",
       "      <td id=\"T_5ebed_row4_col1\" class=\"data row4 col1\" >(60144, 13)</td>\n",
       "    </tr>\n",
       "    <tr>\n",
       "      <th id=\"T_5ebed_level0_row5\" class=\"row_heading level0 row5\" >5</th>\n",
       "      <td id=\"T_5ebed_row5_col0\" class=\"data row5 col0\" >Transformed train set shape</td>\n",
       "      <td id=\"T_5ebed_row5_col1\" class=\"data row5 col1\" >(42100, 13)</td>\n",
       "    </tr>\n",
       "    <tr>\n",
       "      <th id=\"T_5ebed_level0_row6\" class=\"row_heading level0 row6\" >6</th>\n",
       "      <td id=\"T_5ebed_row6_col0\" class=\"data row6 col0\" >Transformed test set shape</td>\n",
       "      <td id=\"T_5ebed_row6_col1\" class=\"data row6 col1\" >(18044, 13)</td>\n",
       "    </tr>\n",
       "    <tr>\n",
       "      <th id=\"T_5ebed_level0_row7\" class=\"row_heading level0 row7\" >7</th>\n",
       "      <td id=\"T_5ebed_row7_col0\" class=\"data row7 col0\" >Numeric features</td>\n",
       "      <td id=\"T_5ebed_row7_col1\" class=\"data row7 col1\" >12</td>\n",
       "    </tr>\n",
       "    <tr>\n",
       "      <th id=\"T_5ebed_level0_row8\" class=\"row_heading level0 row8\" >8</th>\n",
       "      <td id=\"T_5ebed_row8_col0\" class=\"data row8 col0\" >Preprocess</td>\n",
       "      <td id=\"T_5ebed_row8_col1\" class=\"data row8 col1\" >True</td>\n",
       "    </tr>\n",
       "    <tr>\n",
       "      <th id=\"T_5ebed_level0_row9\" class=\"row_heading level0 row9\" >9</th>\n",
       "      <td id=\"T_5ebed_row9_col0\" class=\"data row9 col0\" >Imputation type</td>\n",
       "      <td id=\"T_5ebed_row9_col1\" class=\"data row9 col1\" >simple</td>\n",
       "    </tr>\n",
       "    <tr>\n",
       "      <th id=\"T_5ebed_level0_row10\" class=\"row_heading level0 row10\" >10</th>\n",
       "      <td id=\"T_5ebed_row10_col0\" class=\"data row10 col0\" >Numeric imputation</td>\n",
       "      <td id=\"T_5ebed_row10_col1\" class=\"data row10 col1\" >mean</td>\n",
       "    </tr>\n",
       "    <tr>\n",
       "      <th id=\"T_5ebed_level0_row11\" class=\"row_heading level0 row11\" >11</th>\n",
       "      <td id=\"T_5ebed_row11_col0\" class=\"data row11 col0\" >Categorical imputation</td>\n",
       "      <td id=\"T_5ebed_row11_col1\" class=\"data row11 col1\" >mode</td>\n",
       "    </tr>\n",
       "    <tr>\n",
       "      <th id=\"T_5ebed_level0_row12\" class=\"row_heading level0 row12\" >12</th>\n",
       "      <td id=\"T_5ebed_row12_col0\" class=\"data row12 col0\" >Fold Generator</td>\n",
       "      <td id=\"T_5ebed_row12_col1\" class=\"data row12 col1\" >StratifiedKFold</td>\n",
       "    </tr>\n",
       "    <tr>\n",
       "      <th id=\"T_5ebed_level0_row13\" class=\"row_heading level0 row13\" >13</th>\n",
       "      <td id=\"T_5ebed_row13_col0\" class=\"data row13 col0\" >Fold Number</td>\n",
       "      <td id=\"T_5ebed_row13_col1\" class=\"data row13 col1\" >10</td>\n",
       "    </tr>\n",
       "    <tr>\n",
       "      <th id=\"T_5ebed_level0_row14\" class=\"row_heading level0 row14\" >14</th>\n",
       "      <td id=\"T_5ebed_row14_col0\" class=\"data row14 col0\" >CPU Jobs</td>\n",
       "      <td id=\"T_5ebed_row14_col1\" class=\"data row14 col1\" >-1</td>\n",
       "    </tr>\n",
       "    <tr>\n",
       "      <th id=\"T_5ebed_level0_row15\" class=\"row_heading level0 row15\" >15</th>\n",
       "      <td id=\"T_5ebed_row15_col0\" class=\"data row15 col0\" >Use GPU</td>\n",
       "      <td id=\"T_5ebed_row15_col1\" class=\"data row15 col1\" >False</td>\n",
       "    </tr>\n",
       "    <tr>\n",
       "      <th id=\"T_5ebed_level0_row16\" class=\"row_heading level0 row16\" >16</th>\n",
       "      <td id=\"T_5ebed_row16_col0\" class=\"data row16 col0\" >Log Experiment</td>\n",
       "      <td id=\"T_5ebed_row16_col1\" class=\"data row16 col1\" >False</td>\n",
       "    </tr>\n",
       "    <tr>\n",
       "      <th id=\"T_5ebed_level0_row17\" class=\"row_heading level0 row17\" >17</th>\n",
       "      <td id=\"T_5ebed_row17_col0\" class=\"data row17 col0\" >Experiment Name</td>\n",
       "      <td id=\"T_5ebed_row17_col1\" class=\"data row17 col1\" >clf-default-name</td>\n",
       "    </tr>\n",
       "    <tr>\n",
       "      <th id=\"T_5ebed_level0_row18\" class=\"row_heading level0 row18\" >18</th>\n",
       "      <td id=\"T_5ebed_row18_col0\" class=\"data row18 col0\" >USI</td>\n",
       "      <td id=\"T_5ebed_row18_col1\" class=\"data row18 col1\" >61f8</td>\n",
       "    </tr>\n",
       "  </tbody>\n",
       "</table>\n"
      ],
      "text/plain": [
       "<pandas.io.formats.style.Styler at 0x1f06ed15310>"
      ]
     },
     "metadata": {},
     "output_type": "display_data"
    },
    {
     "data": {
      "text/plain": [
       "<pycaret.classification.oop.ClassificationExperiment at 0x1f06fffbd60>"
      ]
     },
     "execution_count": 8,
     "metadata": {},
     "output_type": "execute_result"
    }
   ],
   "source": [
    "# init the class\n",
    "exp = ClassificationExperiment()\n",
    "# init setup on exp\n",
    "exp.setup(df, target = 'cardiovascular_disease', session_id = 123)"
   ]
  },
  {
   "cell_type": "code",
   "execution_count": 9,
   "metadata": {},
   "outputs": [
    {
     "data": {
      "text/html": [],
      "text/plain": [
       "<IPython.core.display.HTML object>"
      ]
     },
     "metadata": {},
     "output_type": "display_data"
    },
    {
     "data": {
      "text/html": [
       "<style type=\"text/css\">\n",
       "#T_cc69e th {\n",
       "  text-align: left;\n",
       "}\n",
       "#T_cc69e_row0_col0, #T_cc69e_row0_col2, #T_cc69e_row0_col3, #T_cc69e_row0_col4, #T_cc69e_row0_col5, #T_cc69e_row1_col0, #T_cc69e_row1_col1, #T_cc69e_row1_col3, #T_cc69e_row1_col4, #T_cc69e_row1_col6, #T_cc69e_row1_col7, #T_cc69e_row2_col0, #T_cc69e_row2_col1, #T_cc69e_row2_col2, #T_cc69e_row2_col3, #T_cc69e_row2_col5, #T_cc69e_row2_col6, #T_cc69e_row2_col7, #T_cc69e_row3_col0, #T_cc69e_row3_col1, #T_cc69e_row3_col2, #T_cc69e_row3_col3, #T_cc69e_row3_col4, #T_cc69e_row3_col5, #T_cc69e_row3_col6, #T_cc69e_row3_col7, #T_cc69e_row4_col0, #T_cc69e_row4_col1, #T_cc69e_row4_col2, #T_cc69e_row4_col3, #T_cc69e_row4_col4, #T_cc69e_row4_col5, #T_cc69e_row4_col6, #T_cc69e_row4_col7, #T_cc69e_row5_col0, #T_cc69e_row5_col1, #T_cc69e_row5_col2, #T_cc69e_row5_col3, #T_cc69e_row5_col4, #T_cc69e_row5_col5, #T_cc69e_row5_col6, #T_cc69e_row5_col7, #T_cc69e_row6_col0, #T_cc69e_row6_col1, #T_cc69e_row6_col2, #T_cc69e_row6_col3, #T_cc69e_row6_col4, #T_cc69e_row6_col5, #T_cc69e_row6_col6, #T_cc69e_row6_col7, #T_cc69e_row7_col0, #T_cc69e_row7_col1, #T_cc69e_row7_col2, #T_cc69e_row7_col3, #T_cc69e_row7_col4, #T_cc69e_row7_col5, #T_cc69e_row7_col6, #T_cc69e_row7_col7, #T_cc69e_row8_col0, #T_cc69e_row8_col1, #T_cc69e_row8_col2, #T_cc69e_row8_col3, #T_cc69e_row8_col4, #T_cc69e_row8_col5, #T_cc69e_row8_col6, #T_cc69e_row8_col7, #T_cc69e_row9_col0, #T_cc69e_row9_col1, #T_cc69e_row9_col2, #T_cc69e_row9_col3, #T_cc69e_row9_col4, #T_cc69e_row9_col5, #T_cc69e_row9_col6, #T_cc69e_row9_col7, #T_cc69e_row10_col0, #T_cc69e_row10_col1, #T_cc69e_row10_col2, #T_cc69e_row10_col3, #T_cc69e_row10_col4, #T_cc69e_row10_col5, #T_cc69e_row10_col6, #T_cc69e_row10_col7, #T_cc69e_row11_col0, #T_cc69e_row11_col1, #T_cc69e_row11_col2, #T_cc69e_row11_col3, #T_cc69e_row11_col4, #T_cc69e_row11_col5, #T_cc69e_row11_col6, #T_cc69e_row11_col7, #T_cc69e_row12_col0, #T_cc69e_row12_col1, #T_cc69e_row12_col2, #T_cc69e_row12_col4, #T_cc69e_row12_col5, #T_cc69e_row12_col6, #T_cc69e_row12_col7, #T_cc69e_row13_col0, #T_cc69e_row13_col1, #T_cc69e_row13_col2, #T_cc69e_row13_col3, #T_cc69e_row13_col4, #T_cc69e_row13_col5, #T_cc69e_row13_col6, #T_cc69e_row13_col7, #T_cc69e_row14_col0, #T_cc69e_row14_col1, #T_cc69e_row14_col2, #T_cc69e_row14_col3, #T_cc69e_row14_col4, #T_cc69e_row14_col5, #T_cc69e_row14_col6, #T_cc69e_row14_col7 {\n",
       "  text-align: left;\n",
       "}\n",
       "#T_cc69e_row0_col1, #T_cc69e_row0_col6, #T_cc69e_row0_col7, #T_cc69e_row1_col2, #T_cc69e_row1_col5, #T_cc69e_row2_col4, #T_cc69e_row12_col3 {\n",
       "  text-align: left;\n",
       "  background-color: yellow;\n",
       "}\n",
       "#T_cc69e_row0_col8, #T_cc69e_row1_col8, #T_cc69e_row2_col8, #T_cc69e_row3_col8, #T_cc69e_row4_col8, #T_cc69e_row5_col8, #T_cc69e_row6_col8, #T_cc69e_row7_col8, #T_cc69e_row8_col8, #T_cc69e_row9_col8, #T_cc69e_row10_col8, #T_cc69e_row11_col8, #T_cc69e_row13_col8, #T_cc69e_row14_col8 {\n",
       "  text-align: left;\n",
       "  background-color: lightgrey;\n",
       "}\n",
       "#T_cc69e_row12_col8 {\n",
       "  text-align: left;\n",
       "  background-color: yellow;\n",
       "  background-color: lightgrey;\n",
       "}\n",
       "</style>\n",
       "<table id=\"T_cc69e\">\n",
       "  <thead>\n",
       "    <tr>\n",
       "      <th class=\"blank level0\" >&nbsp;</th>\n",
       "      <th id=\"T_cc69e_level0_col0\" class=\"col_heading level0 col0\" >Model</th>\n",
       "      <th id=\"T_cc69e_level0_col1\" class=\"col_heading level0 col1\" >Accuracy</th>\n",
       "      <th id=\"T_cc69e_level0_col2\" class=\"col_heading level0 col2\" >AUC</th>\n",
       "      <th id=\"T_cc69e_level0_col3\" class=\"col_heading level0 col3\" >Recall</th>\n",
       "      <th id=\"T_cc69e_level0_col4\" class=\"col_heading level0 col4\" >Prec.</th>\n",
       "      <th id=\"T_cc69e_level0_col5\" class=\"col_heading level0 col5\" >F1</th>\n",
       "      <th id=\"T_cc69e_level0_col6\" class=\"col_heading level0 col6\" >Kappa</th>\n",
       "      <th id=\"T_cc69e_level0_col7\" class=\"col_heading level0 col7\" >MCC</th>\n",
       "      <th id=\"T_cc69e_level0_col8\" class=\"col_heading level0 col8\" >TT (Sec)</th>\n",
       "    </tr>\n",
       "  </thead>\n",
       "  <tbody>\n",
       "    <tr>\n",
       "      <th id=\"T_cc69e_level0_row0\" class=\"row_heading level0 row0\" >lightgbm</th>\n",
       "      <td id=\"T_cc69e_row0_col0\" class=\"data row0 col0\" >Light Gradient Boosting Machine</td>\n",
       "      <td id=\"T_cc69e_row0_col1\" class=\"data row0 col1\" >0.7274</td>\n",
       "      <td id=\"T_cc69e_row0_col2\" class=\"data row0 col2\" >0.7931</td>\n",
       "      <td id=\"T_cc69e_row0_col3\" class=\"data row0 col3\" >0.6688</td>\n",
       "      <td id=\"T_cc69e_row0_col4\" class=\"data row0 col4\" >0.7466</td>\n",
       "      <td id=\"T_cc69e_row0_col5\" class=\"data row0 col5\" >0.7055</td>\n",
       "      <td id=\"T_cc69e_row0_col6\" class=\"data row0 col6\" >0.4532</td>\n",
       "      <td id=\"T_cc69e_row0_col7\" class=\"data row0 col7\" >0.4556</td>\n",
       "      <td id=\"T_cc69e_row0_col8\" class=\"data row0 col8\" >0.7520</td>\n",
       "    </tr>\n",
       "    <tr>\n",
       "      <th id=\"T_cc69e_level0_row1\" class=\"row_heading level0 row1\" >gbc</th>\n",
       "      <td id=\"T_cc69e_row1_col0\" class=\"data row1 col0\" >Gradient Boosting Classifier</td>\n",
       "      <td id=\"T_cc69e_row1_col1\" class=\"data row1 col1\" >0.7267</td>\n",
       "      <td id=\"T_cc69e_row1_col2\" class=\"data row1 col2\" >0.7941</td>\n",
       "      <td id=\"T_cc69e_row1_col3\" class=\"data row1 col3\" >0.6728</td>\n",
       "      <td id=\"T_cc69e_row1_col4\" class=\"data row1 col4\" >0.7431</td>\n",
       "      <td id=\"T_cc69e_row1_col5\" class=\"data row1 col5\" >0.7062</td>\n",
       "      <td id=\"T_cc69e_row1_col6\" class=\"data row1 col6\" >0.4519</td>\n",
       "      <td id=\"T_cc69e_row1_col7\" class=\"data row1 col7\" >0.4538</td>\n",
       "      <td id=\"T_cc69e_row1_col8\" class=\"data row1 col8\" >0.0900</td>\n",
       "    </tr>\n",
       "    <tr>\n",
       "      <th id=\"T_cc69e_level0_row2\" class=\"row_heading level0 row2\" >ada</th>\n",
       "      <td id=\"T_cc69e_row2_col0\" class=\"data row2 col0\" >Ada Boost Classifier</td>\n",
       "      <td id=\"T_cc69e_row2_col1\" class=\"data row2 col1\" >0.7232</td>\n",
       "      <td id=\"T_cc69e_row2_col2\" class=\"data row2 col2\" >0.7884</td>\n",
       "      <td id=\"T_cc69e_row2_col3\" class=\"data row2 col3\" >0.6322</td>\n",
       "      <td id=\"T_cc69e_row2_col4\" class=\"data row2 col4\" >0.7606</td>\n",
       "      <td id=\"T_cc69e_row2_col5\" class=\"data row2 col5\" >0.6904</td>\n",
       "      <td id=\"T_cc69e_row2_col6\" class=\"data row2 col6\" >0.4440</td>\n",
       "      <td id=\"T_cc69e_row2_col7\" class=\"data row2 col7\" >0.4502</td>\n",
       "      <td id=\"T_cc69e_row2_col8\" class=\"data row2 col8\" >0.1160</td>\n",
       "    </tr>\n",
       "    <tr>\n",
       "      <th id=\"T_cc69e_level0_row3\" class=\"row_heading level0 row3\" >lr</th>\n",
       "      <td id=\"T_cc69e_row3_col0\" class=\"data row3 col0\" >Logistic Regression</td>\n",
       "      <td id=\"T_cc69e_row3_col1\" class=\"data row3 col1\" >0.7208</td>\n",
       "      <td id=\"T_cc69e_row3_col2\" class=\"data row3 col2\" >0.7827</td>\n",
       "      <td id=\"T_cc69e_row3_col3\" class=\"data row3 col3\" >0.6522</td>\n",
       "      <td id=\"T_cc69e_row3_col4\" class=\"data row3 col4\" >0.7443</td>\n",
       "      <td id=\"T_cc69e_row3_col5\" class=\"data row3 col5\" >0.6952</td>\n",
       "      <td id=\"T_cc69e_row3_col6\" class=\"data row3 col6\" >0.4397</td>\n",
       "      <td id=\"T_cc69e_row3_col7\" class=\"data row3 col7\" >0.4429</td>\n",
       "      <td id=\"T_cc69e_row3_col8\" class=\"data row3 col8\" >1.4710</td>\n",
       "    </tr>\n",
       "    <tr>\n",
       "      <th id=\"T_cc69e_level0_row4\" class=\"row_heading level0 row4\" >ridge</th>\n",
       "      <td id=\"T_cc69e_row4_col0\" class=\"data row4 col0\" >Ridge Classifier</td>\n",
       "      <td id=\"T_cc69e_row4_col1\" class=\"data row4 col1\" >0.7206</td>\n",
       "      <td id=\"T_cc69e_row4_col2\" class=\"data row4 col2\" >0.0000</td>\n",
       "      <td id=\"T_cc69e_row4_col3\" class=\"data row4 col3\" >0.6400</td>\n",
       "      <td id=\"T_cc69e_row4_col4\" class=\"data row4 col4\" >0.7510</td>\n",
       "      <td id=\"T_cc69e_row4_col5\" class=\"data row4 col5\" >0.6911</td>\n",
       "      <td id=\"T_cc69e_row4_col6\" class=\"data row4 col6\" >0.4390</td>\n",
       "      <td id=\"T_cc69e_row4_col7\" class=\"data row4 col7\" >0.4437</td>\n",
       "      <td id=\"T_cc69e_row4_col8\" class=\"data row4 col8\" >0.0500</td>\n",
       "    </tr>\n",
       "    <tr>\n",
       "      <th id=\"T_cc69e_level0_row5\" class=\"row_heading level0 row5\" >lda</th>\n",
       "      <td id=\"T_cc69e_row5_col0\" class=\"data row5 col0\" >Linear Discriminant Analysis</td>\n",
       "      <td id=\"T_cc69e_row5_col1\" class=\"data row5 col1\" >0.7206</td>\n",
       "      <td id=\"T_cc69e_row5_col2\" class=\"data row5 col2\" >0.7838</td>\n",
       "      <td id=\"T_cc69e_row5_col3\" class=\"data row5 col3\" >0.6400</td>\n",
       "      <td id=\"T_cc69e_row5_col4\" class=\"data row5 col4\" >0.7510</td>\n",
       "      <td id=\"T_cc69e_row5_col5\" class=\"data row5 col5\" >0.6911</td>\n",
       "      <td id=\"T_cc69e_row5_col6\" class=\"data row5 col6\" >0.4390</td>\n",
       "      <td id=\"T_cc69e_row5_col7\" class=\"data row5 col7\" >0.4437</td>\n",
       "      <td id=\"T_cc69e_row5_col8\" class=\"data row5 col8\" >0.0520</td>\n",
       "    </tr>\n",
       "    <tr>\n",
       "      <th id=\"T_cc69e_level0_row6\" class=\"row_heading level0 row6\" >xgboost</th>\n",
       "      <td id=\"T_cc69e_row6_col0\" class=\"data row6 col0\" >Extreme Gradient Boosting</td>\n",
       "      <td id=\"T_cc69e_row6_col1\" class=\"data row6 col1\" >0.7194</td>\n",
       "      <td id=\"T_cc69e_row6_col2\" class=\"data row6 col2\" >0.7832</td>\n",
       "      <td id=\"T_cc69e_row6_col3\" class=\"data row6 col3\" >0.6642</td>\n",
       "      <td id=\"T_cc69e_row6_col4\" class=\"data row6 col4\" >0.7355</td>\n",
       "      <td id=\"T_cc69e_row6_col5\" class=\"data row6 col5\" >0.6980</td>\n",
       "      <td id=\"T_cc69e_row6_col6\" class=\"data row6 col6\" >0.4372</td>\n",
       "      <td id=\"T_cc69e_row6_col7\" class=\"data row6 col7\" >0.4393</td>\n",
       "      <td id=\"T_cc69e_row6_col8\" class=\"data row6 col8\" >0.1830</td>\n",
       "    </tr>\n",
       "    <tr>\n",
       "      <th id=\"T_cc69e_level0_row7\" class=\"row_heading level0 row7\" >nb</th>\n",
       "      <td id=\"T_cc69e_row7_col0\" class=\"data row7 col0\" >Naive Bayes</td>\n",
       "      <td id=\"T_cc69e_row7_col1\" class=\"data row7 col1\" >0.7087</td>\n",
       "      <td id=\"T_cc69e_row7_col2\" class=\"data row7 col2\" >0.7680</td>\n",
       "      <td id=\"T_cc69e_row7_col3\" class=\"data row7 col3\" >0.6170</td>\n",
       "      <td id=\"T_cc69e_row7_col4\" class=\"data row7 col4\" >0.7428</td>\n",
       "      <td id=\"T_cc69e_row7_col5\" class=\"data row7 col5\" >0.6741</td>\n",
       "      <td id=\"T_cc69e_row7_col6\" class=\"data row7 col6\" >0.4147</td>\n",
       "      <td id=\"T_cc69e_row7_col7\" class=\"data row7 col7\" >0.4206</td>\n",
       "      <td id=\"T_cc69e_row7_col8\" class=\"data row7 col8\" >0.0550</td>\n",
       "    </tr>\n",
       "    <tr>\n",
       "      <th id=\"T_cc69e_level0_row8\" class=\"row_heading level0 row8\" >qda</th>\n",
       "      <td id=\"T_cc69e_row8_col0\" class=\"data row8 col0\" >Quadratic Discriminant Analysis</td>\n",
       "      <td id=\"T_cc69e_row8_col1\" class=\"data row8 col1\" >0.7028</td>\n",
       "      <td id=\"T_cc69e_row8_col2\" class=\"data row8 col2\" >0.7646</td>\n",
       "      <td id=\"T_cc69e_row8_col3\" class=\"data row8 col3\" >0.6137</td>\n",
       "      <td id=\"T_cc69e_row8_col4\" class=\"data row8 col4\" >0.7341</td>\n",
       "      <td id=\"T_cc69e_row8_col5\" class=\"data row8 col5\" >0.6685</td>\n",
       "      <td id=\"T_cc69e_row8_col6\" class=\"data row8 col6\" >0.4031</td>\n",
       "      <td id=\"T_cc69e_row8_col7\" class=\"data row8 col7\" >0.4084</td>\n",
       "      <td id=\"T_cc69e_row8_col8\" class=\"data row8 col8\" >0.0760</td>\n",
       "    </tr>\n",
       "    <tr>\n",
       "      <th id=\"T_cc69e_level0_row9\" class=\"row_heading level0 row9\" >rf</th>\n",
       "      <td id=\"T_cc69e_row9_col0\" class=\"data row9 col0\" >Random Forest Classifier</td>\n",
       "      <td id=\"T_cc69e_row9_col1\" class=\"data row9 col1\" >0.6997</td>\n",
       "      <td id=\"T_cc69e_row9_col2\" class=\"data row9 col2\" >0.7562</td>\n",
       "      <td id=\"T_cc69e_row9_col3\" class=\"data row9 col3\" >0.6813</td>\n",
       "      <td id=\"T_cc69e_row9_col4\" class=\"data row9 col4\" >0.6969</td>\n",
       "      <td id=\"T_cc69e_row9_col5\" class=\"data row9 col5\" >0.6890</td>\n",
       "      <td id=\"T_cc69e_row9_col6\" class=\"data row9 col6\" >0.3987</td>\n",
       "      <td id=\"T_cc69e_row9_col7\" class=\"data row9 col7\" >0.3988</td>\n",
       "      <td id=\"T_cc69e_row9_col8\" class=\"data row9 col8\" >0.9840</td>\n",
       "    </tr>\n",
       "    <tr>\n",
       "      <th id=\"T_cc69e_level0_row10\" class=\"row_heading level0 row10\" >et</th>\n",
       "      <td id=\"T_cc69e_row10_col0\" class=\"data row10 col0\" >Extra Trees Classifier</td>\n",
       "      <td id=\"T_cc69e_row10_col1\" class=\"data row10 col1\" >0.6868</td>\n",
       "      <td id=\"T_cc69e_row10_col2\" class=\"data row10 col2\" >0.7345</td>\n",
       "      <td id=\"T_cc69e_row10_col3\" class=\"data row10 col3\" >0.6706</td>\n",
       "      <td id=\"T_cc69e_row10_col4\" class=\"data row10 col4\" >0.6825</td>\n",
       "      <td id=\"T_cc69e_row10_col5\" class=\"data row10 col5\" >0.6765</td>\n",
       "      <td id=\"T_cc69e_row10_col6\" class=\"data row10 col6\" >0.3730</td>\n",
       "      <td id=\"T_cc69e_row10_col7\" class=\"data row10 col7\" >0.3731</td>\n",
       "      <td id=\"T_cc69e_row10_col8\" class=\"data row10 col8\" >5.2280</td>\n",
       "    </tr>\n",
       "    <tr>\n",
       "      <th id=\"T_cc69e_level0_row11\" class=\"row_heading level0 row11\" >knn</th>\n",
       "      <td id=\"T_cc69e_row11_col0\" class=\"data row11 col0\" >K Neighbors Classifier</td>\n",
       "      <td id=\"T_cc69e_row11_col1\" class=\"data row11 col1\" >0.6807</td>\n",
       "      <td id=\"T_cc69e_row11_col2\" class=\"data row11 col2\" >0.7261</td>\n",
       "      <td id=\"T_cc69e_row11_col3\" class=\"data row11 col3\" >0.6476</td>\n",
       "      <td id=\"T_cc69e_row11_col4\" class=\"data row11 col4\" >0.6824</td>\n",
       "      <td id=\"T_cc69e_row11_col5\" class=\"data row11 col5\" >0.6645</td>\n",
       "      <td id=\"T_cc69e_row11_col6\" class=\"data row11 col6\" >0.3604</td>\n",
       "      <td id=\"T_cc69e_row11_col7\" class=\"data row11 col7\" >0.3608</td>\n",
       "      <td id=\"T_cc69e_row11_col8\" class=\"data row11 col8\" >0.2400</td>\n",
       "    </tr>\n",
       "    <tr>\n",
       "      <th id=\"T_cc69e_level0_row12\" class=\"row_heading level0 row12\" >svm</th>\n",
       "      <td id=\"T_cc69e_row12_col0\" class=\"data row12 col0\" >SVM - Linear Kernel</td>\n",
       "      <td id=\"T_cc69e_row12_col1\" class=\"data row12 col1\" >0.6289</td>\n",
       "      <td id=\"T_cc69e_row12_col2\" class=\"data row12 col2\" >0.0000</td>\n",
       "      <td id=\"T_cc69e_row12_col3\" class=\"data row12 col3\" >0.7229</td>\n",
       "      <td id=\"T_cc69e_row12_col4\" class=\"data row12 col4\" >0.6665</td>\n",
       "      <td id=\"T_cc69e_row12_col5\" class=\"data row12 col5\" >0.6398</td>\n",
       "      <td id=\"T_cc69e_row12_col6\" class=\"data row12 col6\" >0.2622</td>\n",
       "      <td id=\"T_cc69e_row12_col7\" class=\"data row12 col7\" >0.3203</td>\n",
       "      <td id=\"T_cc69e_row12_col8\" class=\"data row12 col8\" >0.0420</td>\n",
       "    </tr>\n",
       "    <tr>\n",
       "      <th id=\"T_cc69e_level0_row13\" class=\"row_heading level0 row13\" >dt</th>\n",
       "      <td id=\"T_cc69e_row13_col0\" class=\"data row13 col0\" >Decision Tree Classifier</td>\n",
       "      <td id=\"T_cc69e_row13_col1\" class=\"data row13 col1\" >0.6270</td>\n",
       "      <td id=\"T_cc69e_row13_col2\" class=\"data row13 col2\" >0.6263</td>\n",
       "      <td id=\"T_cc69e_row13_col3\" class=\"data row13 col3\" >0.6075</td>\n",
       "      <td id=\"T_cc69e_row13_col4\" class=\"data row13 col4\" >0.6205</td>\n",
       "      <td id=\"T_cc69e_row13_col5\" class=\"data row13 col5\" >0.6139</td>\n",
       "      <td id=\"T_cc69e_row13_col6\" class=\"data row13 col6\" >0.2532</td>\n",
       "      <td id=\"T_cc69e_row13_col7\" class=\"data row13 col7\" >0.2533</td>\n",
       "      <td id=\"T_cc69e_row13_col8\" class=\"data row13 col8\" >0.0520</td>\n",
       "    </tr>\n",
       "    <tr>\n",
       "      <th id=\"T_cc69e_level0_row14\" class=\"row_heading level0 row14\" >dummy</th>\n",
       "      <td id=\"T_cc69e_row14_col0\" class=\"data row14 col0\" >Dummy Classifier</td>\n",
       "      <td id=\"T_cc69e_row14_col1\" class=\"data row14 col1\" >0.5118</td>\n",
       "      <td id=\"T_cc69e_row14_col2\" class=\"data row14 col2\" >0.5000</td>\n",
       "      <td id=\"T_cc69e_row14_col3\" class=\"data row14 col3\" >0.0000</td>\n",
       "      <td id=\"T_cc69e_row14_col4\" class=\"data row14 col4\" >0.0000</td>\n",
       "      <td id=\"T_cc69e_row14_col5\" class=\"data row14 col5\" >0.0000</td>\n",
       "      <td id=\"T_cc69e_row14_col6\" class=\"data row14 col6\" >0.0000</td>\n",
       "      <td id=\"T_cc69e_row14_col7\" class=\"data row14 col7\" >0.0000</td>\n",
       "      <td id=\"T_cc69e_row14_col8\" class=\"data row14 col8\" >0.0990</td>\n",
       "    </tr>\n",
       "  </tbody>\n",
       "</table>\n"
      ],
      "text/plain": [
       "<pandas.io.formats.style.Styler at 0x1f06fafa4c0>"
      ]
     },
     "metadata": {},
     "output_type": "display_data"
    },
    {
     "data": {
      "application/vnd.jupyter.widget-view+json": {
       "model_id": "",
       "version_major": 2,
       "version_minor": 0
      },
      "text/plain": [
       "Processing:   0%|          | 0/65 [00:00<?, ?it/s]"
      ]
     },
     "metadata": {},
     "output_type": "display_data"
    },
    {
     "data": {
      "text/plain": [
       "LGBMClassifier(boosting_type='gbdt', class_weight=None, colsample_bytree=1.0,\n",
       "               importance_type='split', learning_rate=0.1, max_depth=-1,\n",
       "               min_child_samples=20, min_child_weight=0.001, min_split_gain=0.0,\n",
       "               n_estimators=100, n_jobs=-1, num_leaves=31, objective=None,\n",
       "               random_state=123, reg_alpha=0.0, reg_lambda=0.0, silent='warn',\n",
       "               subsample=1.0, subsample_for_bin=200000, subsample_freq=0)"
      ]
     },
     "execution_count": 9,
     "metadata": {},
     "output_type": "execute_result"
    }
   ],
   "source": [
    "# compare models using OOP\n",
    "exp.compare_models()"
   ]
  },
  {
   "cell_type": "markdown",
   "metadata": {},
   "source": [
    "Using `Pycaret` we see that the top performing models are: `Gradient Boosting Classifier`, `Adaboost Classifier`, `Logistic Regression` and `Ridge Classifier`. We would be focusing our attention on the 4 models and see how they perform."
   ]
  },
  {
   "cell_type": "markdown",
   "metadata": {
    "cell_id": "244b9114be6c4124ac743abe37194d19",
    "deepnote_cell_type": "markdown"
   },
   "source": [
    "## Train | Validation | Test Split Procedure"
   ]
  },
  {
   "cell_type": "code",
   "execution_count": 14,
   "metadata": {
    "cell_id": "2e845b29770b4e6892702344f5507712",
    "deepnote_cell_type": "code",
    "deepnote_to_be_reexecuted": false,
    "execution_millis": 23,
    "execution_start": 1677486340401,
    "source_hash": "8e21bca7"
   },
   "outputs": [],
   "source": [
    "X = df.drop('cardiovascular_disease', axis=1)\n",
    "y = df['cardiovascular_disease']\n",
    "\n",
    "# Split the data into training and testing sets. 80% of data is training data, set aside other 20% for test\n",
    "X_train_val, X_test, y_train_val, y_test = train_test_split(X, y, test_size=0.2, random_state=42)\n",
    "\n",
    "# Remaining 80% is split into valuation and test sets. \n",
    "X_train, X_val, y_train, y_val = train_test_split(X_train_val, y_train_val, test_size=0.25, random_state=42)\n",
    "\n",
    "# Scale the data using standardization\n",
    "scaler = StandardScaler()\n",
    "X_train = scaler.fit_transform(X_train)\n",
    "X_val = scaler.transform(X_val)\n",
    "X_test = scaler.transform(X_test)"
   ]
  },
  {
   "cell_type": "markdown",
   "metadata": {
    "cell_id": "be093afcae2e48df8dbb3e49ff9a38a5",
    "deepnote_cell_type": "markdown"
   },
   "source": [
    "Here, we are preparing data for use in a machine learning model that will predict whether someone has cardiovascular disease or not, based on various health-related features. Here is a breakdown of each step:\n",
    "\n",
    "1. The first line `X = df.drop('cardio', axis=1)` selects all columns from the input dataframe except for the 'cardio' column. These are the features that the machine learning model will use to make its predictions. The second line `y = df['cardio']` selects only the 'cardio' column from the input dataframe. This is the column that contains the labels or outcomes we are trying to predict.\n",
    "\n",
    "2. The third line uses the `train_test_split` function from the `sklearn library` to split the data into training and testing sets. We are using 80% of the data for training and 20% for testing. The `random_state` parameter is set to 42, which ensures that the data is split in the same way every time the code is run.\n",
    "\n",
    "3. The fourth line further splits the training data into training and validation sets. We are using a `75/25` split (60% for training, 20% for validation) to tune our model's hyperparameters later.\n",
    "\n",
    "4. The next three lines scale the data using standardization. Standardization scales the data to have a mean of 0 and a standard deviation of 1. This is useful for machine learning algorithms that assume the features are normally distributed. The `fit_transform` method fits the scaler on the training data and applies it to the training, validation, and testing data. We are overwriting the original `X_train` variable with the transformed data."
   ]
  },
  {
   "cell_type": "markdown",
   "metadata": {
    "cell_id": "7ea799033516446797d9ade4720278ab",
    "deepnote_cell_type": "markdown"
   },
   "source": [
    "## ML Modelling"
   ]
  },
  {
   "cell_type": "markdown",
   "metadata": {},
   "source": [
    "### LogisticRegression"
   ]
  },
  {
   "cell_type": "code",
   "execution_count": 15,
   "metadata": {
    "cell_id": "03b8bf66ee8c4abb91872d2e4423951b",
    "deepnote_cell_type": "code",
    "deepnote_to_be_reexecuted": false,
    "execution_millis": 24256,
    "execution_start": 1677472525241,
    "source_hash": "9785ee1a",
    "tags": []
   },
   "outputs": [
    {
     "name": "stdout",
     "output_type": "stream",
     "text": [
      "Logistic Regression\n",
      "Accuracy on validation set: 0.723834067669798\n",
      "Accuracy on test set: 0.7225039487904231\n",
      "Cross-validation score: 0.7197547542346462\n",
      "Confusion matrix:\n",
      "[[4872 1287]\n",
      " [2051 3819]]\n",
      "Classification report:\n",
      "              precision    recall  f1-score   support\n",
      "\n",
      "           0       0.70      0.79      0.74      6159\n",
      "           1       0.75      0.65      0.70      5870\n",
      "\n",
      "    accuracy                           0.72     12029\n",
      "   macro avg       0.73      0.72      0.72     12029\n",
      "weighted avg       0.73      0.72      0.72     12029\n",
      "\n",
      "\n"
     ]
    }
   ],
   "source": [
    "# Instantiate the models\n",
    "log_reg = LogisticRegression()\n",
    "# Fit and evaluate the Logistic Regression model\n",
    "log_reg.fit(X_train, y_train)\n",
    "y_val_pred = log_reg.predict(X_val)\n",
    "y_test_pred = log_reg.predict(X_test)\n",
    "print(\"Logistic Regression\")\n",
    "print(f\"Accuracy on validation set: {accuracy_score(y_val, y_val_pred)}\")\n",
    "print(f\"Accuracy on test set: {accuracy_score(y_test, y_test_pred)}\")\n",
    "print(f\"Cross-validation score: {cross_val_score(log_reg, X_train_val, y_train_val, cv=5).mean()}\")\n",
    "print(f\"Confusion matrix:\\n{confusion_matrix(y_test, y_test_pred)}\")\n",
    "print(f\"Classification report:\\n{classification_report(y_test, y_test_pred)}\\n\")"
   ]
  },
  {
   "cell_type": "markdown",
   "metadata": {},
   "source": [
    "* Accuracy on validation set: 0.723834067669798 -\n",
    "This means that the logistic regression model correctly classified `72.38%` of the instances in the validation set.\n",
    "\n",
    "* Accuracy on test set: 0.7225039487904231 -\n",
    "This means that the logistic regression model correctly classified `72.22%` of the instances in the test set.\n",
    "\n",
    "* Cross-validation score: 0.719775537774083 -\n",
    "This is the average accuracy score of the logistic regression model during cross-validation, which is approximately `71.98%`.\n",
    "\n",
    "* The classification report provides a summary of the model's performance on each class. The precision, recall, and F1-score metrics are calculated for both classes (0 and 1), as well as the macro and weighted averages across classes. In this case, the logistic regression model achieved a precision of `0.70` and recall of `0.79` for class 0, and a precision of `0.75` and recall of `0.65` for class 1. The overall accuracy on the test set was `0.72 = 72%`."
   ]
  },
  {
   "cell_type": "code",
   "execution_count": 16,
   "metadata": {
    "cell_id": "9af1d8cb301945f5b9c12f8653c2132c",
    "deepnote_cell_type": "code",
    "deepnote_to_be_reexecuted": false,
    "execution_millis": 1394,
    "execution_start": 1677472549498,
    "source_hash": "57d12c95",
    "tags": []
   },
   "outputs": [
    {
     "data": {
      "image/png": "[encoded data removed]",
      "text/plain": [
       "<Figure size 800x550 with 2 Axes>"
      ]
     },
     "metadata": {},
     "output_type": "display_data"
    }
   ],
   "source": [
    "plot_confusion_matrix(log_reg, X_test, y_test);"
   ]
  },
  {
   "cell_type": "markdown",
   "metadata": {
    "cell_id": "a337d64408924f25967e5e684df85cd3",
    "deepnote_cell_type": "markdown",
    "tags": []
   },
   "source": [
    "* Confusion matrix: The confusion matrix shows the number of true positives (TP), true negatives (TN), false positives (FP), and false negatives (FN) that the model predicted on the test set. In this case, the model correctly predicted `4872` true negatives and `3819` true positives, but incorrectly predicted `1287` false positives and `2051` false negatives."
   ]
  },
  {
   "cell_type": "markdown",
   "metadata": {},
   "source": [
    "### Adaboost Classifier"
   ]
  },
  {
   "cell_type": "code",
   "execution_count": 17,
   "metadata": {
    "cell_id": "109ebf3595a348b3ba40998fe4662db1",
    "deepnote_cell_type": "code",
    "deepnote_to_be_reexecuted": false,
    "execution_millis": 5366,
    "execution_start": 1677472550900,
    "source_hash": "59051baa",
    "tags": []
   },
   "outputs": [
    {
     "name": "stdout",
     "output_type": "stream",
     "text": [
      "Adaboost Classifier\n",
      "Accuracy on validation set: 0.7258292459888602\n",
      "Accuracy on test set: 0.7246653919694073\n",
      "Cross-validation score: 0.722352696664242\n",
      "Confusion matrix:\n",
      "[[5016 1143]\n",
      " [2169 3701]]\n",
      "Classification report:\n",
      "              precision    recall  f1-score   support\n",
      "\n",
      "           0       0.70      0.81      0.75      6159\n",
      "           1       0.76      0.63      0.69      5870\n",
      "\n",
      "    accuracy                           0.72     12029\n",
      "   macro avg       0.73      0.72      0.72     12029\n",
      "weighted avg       0.73      0.72      0.72     12029\n",
      "\n",
      "\n"
     ]
    }
   ],
   "source": [
    "# Instantiate the models\n",
    "ada = AdaBoostClassifier()\n",
    "# Fit and evaluate the Adaboost Classifier model\n",
    "ada.fit(X_train, y_train)\n",
    "y_val_pred = ada.predict(X_val)\n",
    "y_test_pred = ada.predict(X_test)\n",
    "print(\"Adaboost Classifier\")\n",
    "print(f\"Accuracy on validation set: {accuracy_score(y_val, y_val_pred)}\")\n",
    "print(f\"Accuracy on test set: {accuracy_score(y_test, y_test_pred)}\")\n",
    "print(f\"Cross-validation score: {cross_val_score(ada, X_train_val, y_train_val, cv=5).mean()}\")\n",
    "print(f\"Confusion matrix:\\n{confusion_matrix(y_test, y_test_pred)}\")\n",
    "print(f\"Classification report:\\n{classification_report(y_test, y_test_pred)}\\n\")"
   ]
  },
  {
   "cell_type": "markdown",
   "metadata": {},
   "source": [
    "* Accuracy on validation set: 0.7258292459888602\n",
    "This means that the Adaboost Classifier model correctly classified `72.58%` of the instances in the validation set.\n",
    "\n",
    "* Accuracy on test set: 0.7246653919694073\n",
    "This means that the Adaboost Classifier model correctly classified `72.46%` of the instances in the test set.\n",
    "\n",
    "* Cross-validation score: 0.722352696664242\n",
    "This is the average accuracy score of the Adaboost Classifier model during cross-validation, which is approximately `72.22%`.\n",
    "\n",
    "* The classification report provides a summary of the model's performance on each class. The precision, recall, and F1-score metrics are calculated for both classes (0 and 1), as well as the macro and weighted averages across classes. In this case, the logistic regression model achieved a precision of `0.70` and recall of `0.81` for class 0, and a precision of `0.76` and recall of `0.63` for class 1. The overall accuracy on the test set was `0.72 = 72%`."
   ]
  },
  {
   "cell_type": "code",
   "execution_count": 18,
   "metadata": {
    "cell_id": "6d291d164af044a89447daddd552484a",
    "deepnote_cell_type": "code",
    "deepnote_to_be_reexecuted": false,
    "execution_millis": 352,
    "execution_start": 1677472556273,
    "source_hash": "816c38f3",
    "tags": []
   },
   "outputs": [
    {
     "data": {
      "image/png": "[encoded data removed]",
      "text/plain": [
       "<Figure size 800x550 with 2 Axes>"
      ]
     },
     "metadata": {},
     "output_type": "display_data"
    }
   ],
   "source": [
    "plot_confusion_matrix(ada, X_test, y_test);"
   ]
  },
  {
   "cell_type": "markdown",
   "metadata": {
    "cell_id": "d67c249a023b41129a2bac17d429f14f",
    "deepnote_cell_type": "markdown",
    "tags": []
   },
   "source": [
    "* Confusion matrix: The confusion matrix shows the number of true positives (TP), true negatives (TN), false positives (FP), and false negatives (FN) that the model predicted on the test set. In this case, the model correctly predicted `5016` true negatives and `3701` true positives, but incorrectly predicted `1143` false positives and `2169` false negatives."
   ]
  },
  {
   "cell_type": "markdown",
   "metadata": {},
   "source": [
    "### Gradientboost Classifier"
   ]
  },
  {
   "cell_type": "code",
   "execution_count": 19,
   "metadata": {
    "cell_id": "53d4c3f665bb4cf3b2a45476ed386af3",
    "deepnote_cell_type": "code",
    "deepnote_to_be_reexecuted": false,
    "execution_millis": 14981,
    "execution_start": 1677472556619,
    "source_hash": "e1f40237",
    "tags": []
   },
   "outputs": [
    {
     "name": "stdout",
     "output_type": "stream",
     "text": [
      "Gradientboost Classifier\n",
      "Accuracy on validation set: 0.7269099675783524\n",
      "Accuracy on test set: 0.7294039404771802\n",
      "Cross-validation score: 0.7279226852332953\n",
      "Confusion matrix:\n",
      "[[4746 1413]\n",
      " [1842 4028]]\n",
      "Classification report:\n",
      "              precision    recall  f1-score   support\n",
      "\n",
      "           0       0.72      0.77      0.74      6159\n",
      "           1       0.74      0.69      0.71      5870\n",
      "\n",
      "    accuracy                           0.73     12029\n",
      "   macro avg       0.73      0.73      0.73     12029\n",
      "weighted avg       0.73      0.73      0.73     12029\n",
      "\n",
      "\n"
     ]
    }
   ],
   "source": [
    "# Instantiate the models\n",
    "gb = GradientBoostingClassifier()\n",
    "# Fit and evaluate the Gradientboost Classifier model\n",
    "gb.fit(X_train, y_train)\n",
    "y_val_pred = gb.predict(X_val)\n",
    "y_test_pred = gb.predict(X_test)\n",
    "print(\"Gradientboost Classifier\")\n",
    "print(f\"Accuracy on validation set: {accuracy_score(y_val, y_val_pred)}\")\n",
    "print(f\"Accuracy on test set: {accuracy_score(y_test, y_test_pred)}\")\n",
    "print(f\"Cross-validation score: {cross_val_score(gb, X_train_val, y_train_val, cv=5).mean()}\")\n",
    "print(f\"Confusion matrix:\\n{confusion_matrix(y_test, y_test_pred)}\")\n",
    "print(f\"Classification report:\\n{classification_report(y_test, y_test_pred)}\\n\")"
   ]
  },
  {
   "cell_type": "markdown",
   "metadata": {},
   "source": [
    "* Accuracy on validation set: 0.7269099675783524\n",
    "This means that the Gradientboost Classifier model correctly classified `72.69%` of the instances in the validation set.\n",
    "\n",
    "* Accuracy on test set: 0.7294870729071411\n",
    "This means that the Gradientboost Classifier model correctly classified `72.94%` of the instances in the test set.\n",
    "\n",
    "* Cross-validation score: 0.7278811181544216\n",
    "This is the average accuracy score of the Gradientboost Classifier model during cross-validation, which is approximately `72.79`.\n",
    "\n",
    "* The classification report provides a summary of the model's performance on each class. The precision, recall, and F1-score metrics are calculated for both classes (0 and 1), as well as the macro and weighted averages across classes. In this case, the logistic regression model achieved a precision of `0.72` and recall of `0.77` for class 0, and a precision of `0.74` and recall of `0.69` for class 1. The overall accuracy on the test set was `0.73 = 73%`."
   ]
  },
  {
   "cell_type": "code",
   "execution_count": 20,
   "metadata": {
    "cell_id": "db60778c29cb4caf9ad9ebc30b71747c",
    "deepnote_cell_type": "code",
    "deepnote_to_be_reexecuted": false,
    "execution_millis": 195,
    "execution_start": 1677472571644,
    "source_hash": "8a888e3a",
    "tags": []
   },
   "outputs": [
    {
     "data": {
      "image/png": "[encoded data removed]",
      "text/plain": [
       "<Figure size 800x550 with 2 Axes>"
      ]
     },
     "metadata": {},
     "output_type": "display_data"
    }
   ],
   "source": [
    "plot_confusion_matrix(gb, X_test, y_test);"
   ]
  },
  {
   "cell_type": "markdown",
   "metadata": {
    "cell_id": "2f9b0ea99eea4bd19ab37b25db7b9cc2",
    "deepnote_cell_type": "markdown",
    "tags": []
   },
   "source": [
    "* Confusion matrix: The confusion matrix shows the number of true positives (TP), true negatives (TN), false positives (FP), and false negatives (FN) that the model predicted on the test set. In this case, the model correctly predicted `4746` true negatives and `4028` true positives, but incorrectly predicted `1413` false positives and `1842` false negatives."
   ]
  },
  {
   "cell_type": "markdown",
   "metadata": {},
   "source": [
    "### Ridge Classifier"
   ]
  },
  {
   "cell_type": "code",
   "execution_count": 21,
   "metadata": {
    "cell_id": "61d65d49ce374ac19c0e9507a2bd4f5e",
    "deepnote_cell_type": "code",
    "deepnote_to_be_reexecuted": false,
    "execution_millis": 19826,
    "execution_start": 1677472571840,
    "source_hash": "a7f7963",
    "tags": []
   },
   "outputs": [
    {
     "name": "stdout",
     "output_type": "stream",
     "text": [
      "Random Forest Classifier\n",
      "Accuracy on validation set: 0.7230027433701887\n",
      "Accuracy on test set: 0.7197605786017125\n",
      "Cross-validation score: 0.7198171048529565\n",
      "Confusion matrix:\n",
      "[[4912 1247]\n",
      " [2124 3746]]\n",
      "Classification report:\n",
      "              precision    recall  f1-score   support\n",
      "\n",
      "           0       0.70      0.80      0.74      6159\n",
      "           1       0.75      0.64      0.69      5870\n",
      "\n",
      "    accuracy                           0.72     12029\n",
      "   macro avg       0.72      0.72      0.72     12029\n",
      "weighted avg       0.72      0.72      0.72     12029\n",
      "\n",
      "\n"
     ]
    }
   ],
   "source": [
    "# Instantiate the models\n",
    "ridge_class = RidgeClassifier()\n",
    "# Fit and evaluate the Ridge Classifier model\n",
    "ridge_class.fit(X_train, y_train)\n",
    "y_val_pred = ridge_class.predict(X_val)\n",
    "y_test_pred = ridge_class.predict(X_test)\n",
    "print(\"Ridge Classifier\")\n",
    "print(f\"Accuracy on validation set: {accuracy_score(y_val, y_val_pred)}\")\n",
    "print(f\"Accuracy on test set: {accuracy_score(y_test, y_test_pred)}\")\n",
    "print(f\"Cross-validation score: {cross_val_score(ridge_class, X_train_val, y_train_val, cv=5).mean()}\")\n",
    "print(f\"Confusion matrix:\\n{confusion_matrix(y_test, y_test_pred)}\")\n",
    "print(f\"Classification report:\\n{classification_report(y_test, y_test_pred)}\\n\")"
   ]
  },
  {
   "cell_type": "markdown",
   "metadata": {},
   "source": [
    "* Accuracy on validation set:  0.7230027433701887\n",
    "This means that the Random Forest Classifier model correctly classified `72.30%` of the instances in the validation set.\n",
    "\n",
    "* Accuracy on test set: 0.7197605786017125\n",
    "This means that the Random Forest Classifier model correctly classified `72%` of the instances in the test set.\n",
    "\n",
    "* Cross-validation score: 0.7198171048529565\n",
    "This is the average accuracy score of the Random Forest Classifier model during cross-validation, which is approximately `71.98%`.\n",
    "\n",
    "* The classification report provides a summary of the model's performance on each class. The precision, recall, and F1-score metrics are calculated for both classes (0 and 1), as well as the macro and weighted averages across classes. In this case, the logistic regression model achieved a precision of `0.70` and recall of `0.80` for class 0, and a precision of `0.75` and recall of `0.64` for class 1. The overall accuracy on the test set was `0.72 = 72%`."
   ]
  },
  {
   "cell_type": "code",
   "execution_count": 22,
   "metadata": {
    "cell_id": "8f2ef5f548354bc9860b493dea733f59",
    "deepnote_cell_type": "code",
    "deepnote_to_be_reexecuted": false,
    "execution_millis": 449,
    "execution_start": 1677472591665,
    "source_hash": "e01af347",
    "tags": []
   },
   "outputs": [
    {
     "data": {
      "image/png": "[encoded data removed]",
      "text/plain": [
       "<Figure size 800x550 with 2 Axes>"
      ]
     },
     "metadata": {},
     "output_type": "display_data"
    }
   ],
   "source": [
    "plot_confusion_matrix(ridge_class, X_test, y_test);"
   ]
  },
  {
   "cell_type": "markdown",
   "metadata": {
    "cell_id": "f27e1af918034953a763997814195e99",
    "deepnote_cell_type": "markdown",
    "tags": []
   },
   "source": [
    "* Confusion matrix: The confusion matrix shows the number of true positives (TP), true negatives (TN), false positives (FP), and false negatives (FN) that the model predicted on the test set. In this case, the model correctly predicted `4912` true negatives and `3746` true positives, but incorrectly predicted `2124` false positives and `1247` false negatives."
   ]
  },
  {
   "cell_type": "code",
   "execution_count": 23,
   "metadata": {},
   "outputs": [
    {
     "data": {
      "text/html": [
       "<div>\n",
       "<style scoped>\n",
       "    .dataframe tbody tr th:only-of-type {\n",
       "        vertical-align: middle;\n",
       "    }\n",
       "\n",
       "    .dataframe tbody tr th {\n",
       "        vertical-align: top;\n",
       "    }\n",
       "\n",
       "    .dataframe thead th {\n",
       "        text-align: right;\n",
       "    }\n",
       "</style>\n",
       "<table border=\"1\" class=\"dataframe\">\n",
       "  <thead>\n",
       "    <tr style=\"text-align: right;\">\n",
       "      <th></th>\n",
       "      <th>Model</th>\n",
       "      <th>Accuracy</th>\n",
       "      <th>Precision</th>\n",
       "      <th>Recall</th>\n",
       "      <th>F1-Score</th>\n",
       "    </tr>\n",
       "  </thead>\n",
       "  <tbody>\n",
       "    <tr>\n",
       "      <th>0</th>\n",
       "      <td>Logistic Regression</td>\n",
       "      <td>Val: 0.724, Test: 0.723</td>\n",
       "      <td>Val: 0.726, Test: 0.725</td>\n",
       "      <td>Val: 0.724, Test: 0.723</td>\n",
       "      <td>Val: 0.722, Test: 0.721</td>\n",
       "    </tr>\n",
       "    <tr>\n",
       "      <th>1</th>\n",
       "      <td>Adaboost Classifier</td>\n",
       "      <td>Val: 0.726, Test: 0.725</td>\n",
       "      <td>Val: 0.730, Test: 0.730</td>\n",
       "      <td>Val: 0.726, Test: 0.725</td>\n",
       "      <td>Val: 0.724, Test: 0.722</td>\n",
       "    </tr>\n",
       "    <tr>\n",
       "      <th>2</th>\n",
       "      <td>Gradientboost Classifier</td>\n",
       "      <td>Val: 0.727, Test: 0.729</td>\n",
       "      <td>Val: 0.727, Test: 0.730</td>\n",
       "      <td>Val: 0.727, Test: 0.729</td>\n",
       "      <td>Val: 0.726, Test: 0.729</td>\n",
       "    </tr>\n",
       "    <tr>\n",
       "      <th>3</th>\n",
       "      <td>Ridge Classifier</td>\n",
       "      <td>Val: 0.723, Test: 0.720</td>\n",
       "      <td>Val: 0.726, Test: 0.724</td>\n",
       "      <td>Val: 0.723, Test: 0.720</td>\n",
       "      <td>Val: 0.721, Test: 0.718</td>\n",
       "    </tr>\n",
       "  </tbody>\n",
       "</table>\n",
       "</div>"
      ],
      "text/plain": [
       "                      Model                 Accuracy                Precision  \\\n",
       "0       Logistic Regression  Val: 0.724, Test: 0.723  Val: 0.726, Test: 0.725   \n",
       "1       Adaboost Classifier  Val: 0.726, Test: 0.725  Val: 0.730, Test: 0.730   \n",
       "2  Gradientboost Classifier  Val: 0.727, Test: 0.729  Val: 0.727, Test: 0.730   \n",
       "3          Ridge Classifier  Val: 0.723, Test: 0.720  Val: 0.726, Test: 0.724   \n",
       "\n",
       "                    Recall                 F1-Score  \n",
       "0  Val: 0.724, Test: 0.723  Val: 0.722, Test: 0.721  \n",
       "1  Val: 0.726, Test: 0.725  Val: 0.724, Test: 0.722  \n",
       "2  Val: 0.727, Test: 0.729  Val: 0.726, Test: 0.729  \n",
       "3  Val: 0.723, Test: 0.720  Val: 0.721, Test: 0.718  "
      ]
     },
     "execution_count": 23,
     "metadata": {},
     "output_type": "execute_result"
    }
   ],
   "source": [
    "# Define the models\n",
    "models = [\n",
    "    ('Logistic Regression', log_reg),\n",
    "    ('Adaboost Classifier', ada),\n",
    "    ('Gradientboost Classifier', gb),\n",
    "    ('Ridge Classifier', ridge_class)\n",
    "]\n",
    "\n",
    "# Create an empty DataFrame to store the results\n",
    "results_df = pd.DataFrame(columns=['Model', 'Accuracy', 'Precision', 'Recall', 'F1-Score'])\n",
    "\n",
    "# Evaluate each model and append the results to the DataFrame\n",
    "for model_name, model in models:\n",
    "    # Train the model\n",
    "    model.fit(X_train, y_train)\n",
    "\n",
    "    # Evaluate the model on the validation set\n",
    "    y_val_pred = model.predict(X_val)\n",
    "    acc_val = accuracy_score(y_val, y_val_pred)\n",
    "    p_val, r_val, f1_val, _ = precision_recall_fscore_support(y_val, y_val_pred, average='weighted')\n",
    "\n",
    "    # Evaluate the model on the test set\n",
    "    y_test_pred = model.predict(X_test)\n",
    "    acc_test = accuracy_score(y_test, y_test_pred)\n",
    "    p_test, r_test, f1_test, _ = precision_recall_fscore_support(y_test, y_test_pred, average='weighted')\n",
    "\n",
    "    # Append the results to the DataFrame\n",
    "    results_df = results_df.append({\n",
    "        'Model': model_name,\n",
    "        'Accuracy': f'Val: {acc_val:.3f}, Test: {acc_test:.3f}',\n",
    "        'Precision': f'Val: {p_val:.3f}, Test: {p_test:.3f}',\n",
    "        'Recall': f'Val: {r_val:.3f}, Test: {r_test:.3f}',\n",
    "        'F1-Score': f'Val: {f1_val:.3f}, Test: {f1_test:.3f}'\n",
    "    }, ignore_index=True)\n",
    "\n",
    "# Print the results\n",
    "results_df"
   ]
  },
  {
   "cell_type": "markdown",
   "metadata": {
    "cell_id": "0cd7b5172cca40d2ad2923164b1efc6e",
    "deepnote_cell_type": "text-cell-h3",
    "formattedRanges": [],
    "is_collapsed": false,
    "tags": []
   },
   "source": [
    "### Hyperparameter Tuning"
   ]
  },
  {
   "cell_type": "markdown",
   "metadata": {
    "cell_id": "90a6ddcb8904434b9af3c05bb030c01a",
    "deepnote_cell_type": "markdown",
    "tags": []
   },
   "source": [
    "After checking the performance metrics of each of our model, `Adaboost Classifier` and `Gradientboost Classifier` showed promising results and had higher accuracy, cross-validation scores compared to the other models, therefore we selected them for hyperparameter tuning to further optimize their performance."
   ]
  },
  {
   "cell_type": "code",
   "execution_count": 14,
   "metadata": {
    "cell_id": "ac01e680e9af42a6af7c7d58e02e0d87",
    "deepnote_cell_type": "code",
    "deepnote_to_be_reexecuted": false,
    "execution_millis": 1,
    "execution_start": 1677472592168,
    "source_hash": "fabb5032",
    "tags": []
   },
   "outputs": [],
   "source": [
    "from sklearn.model_selection import RandomizedSearchCV\n",
    "from scipy.stats import uniform, randint\n",
    "\n",
    "# Define parameter distributions for RandomizedSearchCV\n",
    "ada_param_dist = {\n",
    "    'n_estimators': randint(50, 300),\n",
    "    'learning_rate': uniform(0.01, 0.5),\n",
    "    'algorithm': ['SAMME', 'SAMME.R']\n",
    "}\n",
    "\n",
    "gb_param_dist = {\n",
    "    'n_estimators': randint(50, 300),\n",
    "    'learning_rate': uniform(0.01, 0.5),\n",
    "    'subsample': uniform(0.1, 0.9),\n",
    "    'max_depth': randint(3, 10),\n",
    "    'max_features': ['sqrt', 'log2', None]\n",
    "}"
   ]
  },
  {
   "cell_type": "code",
   "execution_count": 14,
   "metadata": {
    "cell_id": "b8285d8587474fdda5a81cb892d75eed",
    "deepnote_cell_type": "code",
    "deepnote_to_be_reexecuted": false,
    "execution_millis": 446922,
    "execution_start": 1677351655006,
    "source_hash": "941d6a15",
    "tags": []
   },
   "outputs": [
    {
     "name": "stdout",
     "output_type": "stream",
     "text": [
      "Fitting 5 folds for each of 50 candidates, totalling 250 fits\n",
      "[CV] END algorithm=SAMME, learning_rate=0.40827149343011643, n_estimators=64; total time=   0.6s\n",
      "[CV] END algorithm=SAMME, learning_rate=0.40827149343011643, n_estimators=64; total time=   0.6s\n",
      "[CV] END algorithm=SAMME, learning_rate=0.40827149343011643, n_estimators=64; total time=   0.6s\n",
      "[CV] END algorithm=SAMME, learning_rate=0.40827149343011643, n_estimators=64; total time=   0.6s\n",
      "[CV] END algorithm=SAMME, learning_rate=0.40827149343011643, n_estimators=64; total time=   0.6s\n",
      "[CV] END algorithm=SAMME, learning_rate=0.39984550013638465, n_estimators=70; total time=   0.6s\n",
      "[CV] END algorithm=SAMME, learning_rate=0.39984550013638465, n_estimators=70; total time=   0.6s\n",
      "[CV] END algorithm=SAMME, learning_rate=0.39984550013638465, n_estimators=70; total time=   0.6s\n",
      "[CV] END algorithm=SAMME, learning_rate=0.39984550013638465, n_estimators=70; total time=   0.6s\n",
      "[CV] END algorithm=SAMME, learning_rate=0.39984550013638465, n_estimators=70; total time=   0.6s\n",
      "[CV] END algorithm=SAMME, learning_rate=0.23291637642679558, n_estimators=264; total time=   2.3s\n",
      "[CV] END algorithm=SAMME, learning_rate=0.23291637642679558, n_estimators=264; total time=   2.3s\n",
      "[CV] END algorithm=SAMME, learning_rate=0.23291637642679558, n_estimators=264; total time=   2.3s\n",
      "[CV] END algorithm=SAMME, learning_rate=0.23291637642679558, n_estimators=264; total time=   2.3s\n",
      "[CV] END algorithm=SAMME, learning_rate=0.23291637642679558, n_estimators=264; total time=   2.3s\n",
      "[CV] END algorithm=SAMME, learning_rate=0.2396244459829336, n_estimators=166; total time=   1.5s\n",
      "[CV] END algorithm=SAMME, learning_rate=0.2396244459829336, n_estimators=166; total time=   1.5s\n",
      "[CV] END algorithm=SAMME, learning_rate=0.2396244459829336, n_estimators=166; total time=   1.5s\n",
      "[CV] END algorithm=SAMME, learning_rate=0.2396244459829336, n_estimators=166; total time=   1.5s\n",
      "[CV] END algorithm=SAMME, learning_rate=0.2396244459829336, n_estimators=166; total time=   1.5s\n",
      "[CV] END algorithm=SAMME.R, learning_rate=0.08143340896097039, n_estimators=180; total time=   2.1s\n",
      "[CV] END algorithm=SAMME.R, learning_rate=0.08143340896097039, n_estimators=180; total time=   2.1s\n",
      "[CV] END algorithm=SAMME.R, learning_rate=0.08143340896097039, n_estimators=180; total time=   2.1s\n",
      "[CV] END algorithm=SAMME.R, learning_rate=0.08143340896097039, n_estimators=180; total time=   2.1s\n",
      "[CV] END algorithm=SAMME.R, learning_rate=0.08143340896097039, n_estimators=180; total time=   2.1s\n",
      "[CV] END algorithm=SAMME.R, learning_rate=0.03820578951355013, n_estimators=137; total time=   1.6s\n",
      "[CV] END algorithm=SAMME.R, learning_rate=0.03820578951355013, n_estimators=137; total time=   1.6s\n",
      "[CV] END algorithm=SAMME.R, learning_rate=0.03820578951355013, n_estimators=137; total time=   1.6s\n",
      "[CV] END algorithm=SAMME.R, learning_rate=0.03820578951355013, n_estimators=137; total time=   1.6s\n",
      "[CV] END algorithm=SAMME.R, learning_rate=0.03820578951355013, n_estimators=137; total time=   1.6s\n",
      "[CV] END algorithm=SAMME.R, learning_rate=0.4792763545078751, n_estimators=179; total time=   2.1s\n",
      "[CV] END algorithm=SAMME.R, learning_rate=0.4792763545078751, n_estimators=179; total time=   2.1s\n",
      "[CV] END algorithm=SAMME.R, learning_rate=0.4792763545078751, n_estimators=179; total time=   2.1s\n",
      "[CV] END algorithm=SAMME.R, learning_rate=0.4792763545078751, n_estimators=179; total time=   2.1s\n",
      "[CV] END algorithm=SAMME.R, learning_rate=0.4792763545078751, n_estimators=179; total time=   2.1s\n",
      "[CV] END algorithm=SAMME.R, learning_rate=0.5061057796456088, n_estimators=210; total time=   2.5s\n",
      "[CV] END algorithm=SAMME.R, learning_rate=0.5061057796456088, n_estimators=210; total time=   2.4s\n",
      "[CV] END algorithm=SAMME.R, learning_rate=0.5061057796456088, n_estimators=210; total time=   2.4s\n",
      "[CV] END algorithm=SAMME.R, learning_rate=0.5061057796456088, n_estimators=210; total time=   2.4s\n",
      "[CV] END algorithm=SAMME.R, learning_rate=0.5061057796456088, n_estimators=210; total time=   2.5s\n",
      "[CV] END algorithm=SAMME.R, learning_rate=0.31582658024414045, n_estimators=285; total time=   3.3s\n",
      "[CV] END algorithm=SAMME.R, learning_rate=0.31582658024414045, n_estimators=285; total time=   3.3s\n",
      "[CV] END algorithm=SAMME.R, learning_rate=0.31582658024414045, n_estimators=285; total time=   3.4s\n",
      "[CV] END algorithm=SAMME.R, learning_rate=0.31582658024414045, n_estimators=285; total time=   3.3s\n",
      "[CV] END algorithm=SAMME.R, learning_rate=0.31582658024414045, n_estimators=285; total time=   3.4s\n",
      "[CV] END algorithm=SAMME, learning_rate=0.15561457009902097, n_estimators=108; total time=   1.0s\n",
      "[CV] END algorithm=SAMME, learning_rate=0.15561457009902097, n_estimators=108; total time=   1.0s\n",
      "[CV] END algorithm=SAMME, learning_rate=0.15561457009902097, n_estimators=108; total time=   1.0s\n",
      "[CV] END algorithm=SAMME, learning_rate=0.15561457009902097, n_estimators=108; total time=   1.0s\n",
      "[CV] END algorithm=SAMME, learning_rate=0.15561457009902097, n_estimators=108; total time=   1.0s\n",
      "[CV] END algorithm=SAMME, learning_rate=0.07974693032602091, n_estimators=269; total time=   2.5s\n",
      "[CV] END algorithm=SAMME, learning_rate=0.07974693032602091, n_estimators=269; total time=   2.5s\n",
      "[CV] END algorithm=SAMME, learning_rate=0.07974693032602091, n_estimators=269; total time=   2.4s\n",
      "[CV] END algorithm=SAMME, learning_rate=0.07974693032602091, n_estimators=269; total time=   2.4s\n",
      "[CV] END algorithm=SAMME, learning_rate=0.07974693032602091, n_estimators=269; total time=   2.4s\n",
      "[CV] END algorithm=SAMME.R, learning_rate=0.19318092164684586, n_estimators=239; total time=   2.8s\n",
      "[CV] END algorithm=SAMME.R, learning_rate=0.19318092164684586, n_estimators=239; total time=   2.7s\n",
      "[CV] END algorithm=SAMME.R, learning_rate=0.19318092164684586, n_estimators=239; total time=   2.7s\n",
      "[CV] END algorithm=SAMME.R, learning_rate=0.19318092164684586, n_estimators=239; total time=   2.8s\n",
      "[CV] END algorithm=SAMME.R, learning_rate=0.19318092164684586, n_estimators=239; total time=   2.8s\n",
      "[CV] END algorithm=SAMME.R, learning_rate=0.4025879806965068, n_estimators=100; total time=   1.2s\n",
      "[CV] END algorithm=SAMME.R, learning_rate=0.4025879806965068, n_estimators=100; total time=   1.1s\n",
      "[CV] END algorithm=SAMME.R, learning_rate=0.4025879806965068, n_estimators=100; total time=   1.1s\n",
      "[CV] END algorithm=SAMME.R, learning_rate=0.4025879806965068, n_estimators=100; total time=   1.1s\n",
      "[CV] END algorithm=SAMME.R, learning_rate=0.4025879806965068, n_estimators=100; total time=   1.1s\n",
      "[CV] END algorithm=SAMME.R, learning_rate=0.2671172192068058, n_estimators=113; total time=   1.3s\n",
      "[CV] END algorithm=SAMME.R, learning_rate=0.2671172192068058, n_estimators=113; total time=   1.3s\n",
      "[CV] END algorithm=SAMME.R, learning_rate=0.2671172192068058, n_estimators=113; total time=   1.3s\n",
      "[CV] END algorithm=SAMME.R, learning_rate=0.2671172192068058, n_estimators=113; total time=   1.3s\n",
      "[CV] END algorithm=SAMME.R, learning_rate=0.2671172192068058, n_estimators=113; total time=   1.3s\n",
      "[CV] END algorithm=SAMME, learning_rate=0.033225206359998864, n_estimators=100; total time=   0.9s\n",
      "[CV] END algorithm=SAMME, learning_rate=0.033225206359998864, n_estimators=100; total time=   0.9s\n",
      "[CV] END algorithm=SAMME, learning_rate=0.033225206359998864, n_estimators=100; total time=   0.9s\n",
      "[CV] END algorithm=SAMME, learning_rate=0.033225206359998864, n_estimators=100; total time=   0.9s\n",
      "[CV] END algorithm=SAMME, learning_rate=0.033225206359998864, n_estimators=100; total time=   0.9s\n",
      "[CV] END algorithm=SAMME, learning_rate=0.09526206184364576, n_estimators=216; total time=   1.9s\n",
      "[CV] END algorithm=SAMME, learning_rate=0.09526206184364576, n_estimators=216; total time=   1.9s\n",
      "[CV] END algorithm=SAMME, learning_rate=0.09526206184364576, n_estimators=216; total time=   1.9s\n",
      "[CV] END algorithm=SAMME, learning_rate=0.09526206184364576, n_estimators=216; total time=   1.9s\n",
      "[CV] END algorithm=SAMME, learning_rate=0.09526206184364576, n_estimators=216; total time=   1.9s\n",
      "[CV] END algorithm=SAMME.R, learning_rate=0.48444276862666663, n_estimators=109; total time=   1.2s\n",
      "[CV] END algorithm=SAMME.R, learning_rate=0.48444276862666663, n_estimators=109; total time=   1.2s\n",
      "[CV] END algorithm=SAMME.R, learning_rate=0.48444276862666663, n_estimators=109; total time=   1.2s\n",
      "[CV] END algorithm=SAMME.R, learning_rate=0.48444276862666663, n_estimators=109; total time=   1.2s\n",
      "[CV] END algorithm=SAMME.R, learning_rate=0.48444276862666663, n_estimators=109; total time=   1.2s\n",
      "[CV] END algorithm=SAMME.R, learning_rate=0.4141986740582306, n_estimators=58; total time=   0.6s\n",
      "[CV] END algorithm=SAMME.R, learning_rate=0.4141986740582306, n_estimators=58; total time=   0.7s\n",
      "[CV] END algorithm=SAMME.R, learning_rate=0.4141986740582306, n_estimators=58; total time=   0.7s\n",
      "[CV] END algorithm=SAMME.R, learning_rate=0.4141986740582306, n_estimators=58; total time=   0.7s\n",
      "[CV] END algorithm=SAMME.R, learning_rate=0.4141986740582306, n_estimators=58; total time=   0.7s\n",
      "[CV] END algorithm=SAMME.R, learning_rate=0.05883605700319194, n_estimators=133; total time=   1.5s\n",
      "[CV] END algorithm=SAMME.R, learning_rate=0.05883605700319194, n_estimators=133; total time=   1.5s\n",
      "[CV] END algorithm=SAMME.R, learning_rate=0.05883605700319194, n_estimators=133; total time=   1.5s\n",
      "[CV] END algorithm=SAMME.R, learning_rate=0.05883605700319194, n_estimators=133; total time=   1.5s\n",
      "[CV] END algorithm=SAMME.R, learning_rate=0.05883605700319194, n_estimators=133; total time=   1.6s\n",
      "[CV] END algorithm=SAMME.R, learning_rate=0.23007624686980066, n_estimators=248; total time=   2.9s\n",
      "[CV] END algorithm=SAMME.R, learning_rate=0.23007624686980066, n_estimators=248; total time=   2.9s\n",
      "[CV] END algorithm=SAMME.R, learning_rate=0.23007624686980066, n_estimators=248; total time=   2.9s\n",
      "[CV] END algorithm=SAMME.R, learning_rate=0.23007624686980066, n_estimators=248; total time=   2.9s\n",
      "[CV] END algorithm=SAMME.R, learning_rate=0.23007624686980066, n_estimators=248; total time=   2.9s\n",
      "[CV] END algorithm=SAMME.R, learning_rate=0.2575884550556351, n_estimators=224; total time=   2.5s\n",
      "[CV] END algorithm=SAMME.R, learning_rate=0.2575884550556351, n_estimators=224; total time=   2.5s\n",
      "[CV] END algorithm=SAMME.R, learning_rate=0.2575884550556351, n_estimators=224; total time=   2.5s\n",
      "[CV] END algorithm=SAMME.R, learning_rate=0.2575884550556351, n_estimators=224; total time=   2.5s\n",
      "[CV] END algorithm=SAMME.R, learning_rate=0.2575884550556351, n_estimators=224; total time=   2.5s\n",
      "[CV] END algorithm=SAMME, learning_rate=0.46466020103939104, n_estimators=213; total time=   1.8s\n",
      "[CV] END algorithm=SAMME, learning_rate=0.46466020103939104, n_estimators=213; total time=   1.9s\n",
      "[CV] END algorithm=SAMME, learning_rate=0.46466020103939104, n_estimators=213; total time=   1.9s\n",
      "[CV] END algorithm=SAMME, learning_rate=0.46466020103939104, n_estimators=213; total time=   1.9s\n",
      "[CV] END algorithm=SAMME, learning_rate=0.46466020103939104, n_estimators=213; total time=   1.9s\n",
      "[CV] END algorithm=SAMME.R, learning_rate=0.341261142176991, n_estimators=51; total time=   0.6s\n",
      "[CV] END algorithm=SAMME.R, learning_rate=0.341261142176991, n_estimators=51; total time=   0.6s\n",
      "[CV] END algorithm=SAMME.R, learning_rate=0.341261142176991, n_estimators=51; total time=   0.6s\n",
      "[CV] END algorithm=SAMME.R, learning_rate=0.341261142176991, n_estimators=51; total time=   0.6s\n",
      "[CV] END algorithm=SAMME.R, learning_rate=0.341261142176991, n_estimators=51; total time=   0.6s\n",
      "[CV] END algorithm=SAMME.R, learning_rate=0.2700340105889054, n_estimators=155; total time=   1.8s\n",
      "[CV] END algorithm=SAMME.R, learning_rate=0.2700340105889054, n_estimators=155; total time=   1.7s\n",
      "[CV] END algorithm=SAMME.R, learning_rate=0.2700340105889054, n_estimators=155; total time=   1.8s\n",
      "[CV] END algorithm=SAMME.R, learning_rate=0.2700340105889054, n_estimators=155; total time=   1.8s\n",
      "[CV] END algorithm=SAMME.R, learning_rate=0.2700340105889054, n_estimators=155; total time=   1.8s\n",
      "[CV] END algorithm=SAMME.R, learning_rate=0.10242722776276351, n_estimators=240; total time=   2.7s\n",
      "[CV] END algorithm=SAMME.R, learning_rate=0.10242722776276351, n_estimators=240; total time=   2.7s\n",
      "[CV] END algorithm=SAMME.R, learning_rate=0.10242722776276351, n_estimators=240; total time=   2.7s\n",
      "[CV] END algorithm=SAMME.R, learning_rate=0.10242722776276351, n_estimators=240; total time=   2.7s\n",
      "[CV] END algorithm=SAMME.R, learning_rate=0.10242722776276351, n_estimators=240; total time=   2.7s\n",
      "[CV] END algorithm=SAMME.R, learning_rate=0.3975664116805573, n_estimators=211; total time=   2.4s\n",
      "[CV] END algorithm=SAMME.R, learning_rate=0.3975664116805573, n_estimators=211; total time=   2.4s\n",
      "[CV] END algorithm=SAMME.R, learning_rate=0.3975664116805573, n_estimators=211; total time=   2.4s\n",
      "[CV] END algorithm=SAMME.R, learning_rate=0.3975664116805573, n_estimators=211; total time=   2.4s\n",
      "[CV] END algorithm=SAMME.R, learning_rate=0.3975664116805573, n_estimators=211; total time=   2.4s\n",
      "[CV] END algorithm=SAMME.R, learning_rate=0.4574136752138244, n_estimators=63; total time=   0.7s\n",
      "[CV] END algorithm=SAMME.R, learning_rate=0.4574136752138244, n_estimators=63; total time=   0.7s\n",
      "[CV] END algorithm=SAMME.R, learning_rate=0.4574136752138244, n_estimators=63; total time=   0.7s\n",
      "[CV] END algorithm=SAMME.R, learning_rate=0.4574136752138244, n_estimators=63; total time=   0.7s\n",
      "[CV] END algorithm=SAMME.R, learning_rate=0.4574136752138244, n_estimators=63; total time=   0.7s\n",
      "[CV] END algorithm=SAMME, learning_rate=0.4709371175115584, n_estimators=249; total time=   2.2s\n",
      "[CV] END algorithm=SAMME, learning_rate=0.4709371175115584, n_estimators=249; total time=   2.1s\n",
      "[CV] END algorithm=SAMME, learning_rate=0.4709371175115584, n_estimators=249; total time=   2.2s\n",
      "[CV] END algorithm=SAMME, learning_rate=0.4709371175115584, n_estimators=249; total time=   2.2s\n",
      "[CV] END algorithm=SAMME, learning_rate=0.4709371175115584, n_estimators=249; total time=   2.2s\n",
      "[CV] END algorithm=SAMME.R, learning_rate=0.1079914312095726, n_estimators=298; total time=   3.4s\n",
      "[CV] END algorithm=SAMME.R, learning_rate=0.1079914312095726, n_estimators=298; total time=   3.4s\n",
      "[CV] END algorithm=SAMME.R, learning_rate=0.1079914312095726, n_estimators=298; total time=   3.4s\n",
      "[CV] END algorithm=SAMME.R, learning_rate=0.1079914312095726, n_estimators=298; total time=   3.4s\n",
      "[CV] END algorithm=SAMME.R, learning_rate=0.1079914312095726, n_estimators=298; total time=   3.5s\n",
      "[CV] END algorithm=SAMME.R, learning_rate=0.17266516538163218, n_estimators=257; total time=   2.9s\n",
      "[CV] END algorithm=SAMME.R, learning_rate=0.17266516538163218, n_estimators=257; total time=   2.9s\n",
      "[CV] END algorithm=SAMME.R, learning_rate=0.17266516538163218, n_estimators=257; total time=   3.0s\n",
      "[CV] END algorithm=SAMME.R, learning_rate=0.17266516538163218, n_estimators=257; total time=   3.0s\n",
      "[CV] END algorithm=SAMME.R, learning_rate=0.17266516538163218, n_estimators=257; total time=   3.0s\n",
      "[CV] END algorithm=SAMME, learning_rate=0.14567451588694796, n_estimators=102; total time=   0.9s\n",
      "[CV] END algorithm=SAMME, learning_rate=0.14567451588694796, n_estimators=102; total time=   0.9s\n",
      "[CV] END algorithm=SAMME, learning_rate=0.14567451588694796, n_estimators=102; total time=   0.9s\n",
      "[CV] END algorithm=SAMME, learning_rate=0.14567451588694796, n_estimators=102; total time=   0.9s\n",
      "[CV] END algorithm=SAMME, learning_rate=0.14567451588694796, n_estimators=102; total time=   0.9s\n",
      "[CV] END algorithm=SAMME.R, learning_rate=0.18837666334679465, n_estimators=237; total time=   2.7s\n",
      "[CV] END algorithm=SAMME.R, learning_rate=0.18837666334679465, n_estimators=237; total time=   2.7s\n",
      "[CV] END algorithm=SAMME.R, learning_rate=0.18837666334679465, n_estimators=237; total time=   2.7s\n",
      "[CV] END algorithm=SAMME.R, learning_rate=0.18837666334679465, n_estimators=237; total time=   2.8s\n",
      "[CV] END algorithm=SAMME.R, learning_rate=0.18837666334679465, n_estimators=237; total time=   2.7s\n",
      "[CV] END algorithm=SAMME.R, learning_rate=0.1479995910112717, n_estimators=206; total time=   2.4s\n",
      "[CV] END algorithm=SAMME.R, learning_rate=0.1479995910112717, n_estimators=206; total time=   2.4s\n",
      "[CV] END algorithm=SAMME.R, learning_rate=0.1479995910112717, n_estimators=206; total time=   2.4s\n",
      "[CV] END algorithm=SAMME.R, learning_rate=0.1479995910112717, n_estimators=206; total time=   2.4s\n",
      "[CV] END algorithm=SAMME.R, learning_rate=0.1479995910112717, n_estimators=206; total time=   2.4s\n",
      "[CV] END algorithm=SAMME, learning_rate=0.09263346953150124, n_estimators=138; total time=   1.2s\n",
      "[CV] END algorithm=SAMME, learning_rate=0.09263346953150124, n_estimators=138; total time=   1.2s\n",
      "[CV] END algorithm=SAMME, learning_rate=0.09263346953150124, n_estimators=138; total time=   1.2s\n",
      "[CV] END algorithm=SAMME, learning_rate=0.09263346953150124, n_estimators=138; total time=   1.2s\n",
      "[CV] END algorithm=SAMME, learning_rate=0.09263346953150124, n_estimators=138; total time=   1.2s\n",
      "[CV] END algorithm=SAMME, learning_rate=0.22170074035318482, n_estimators=178; total time=   1.6s\n",
      "[CV] END algorithm=SAMME, learning_rate=0.22170074035318482, n_estimators=178; total time=   1.5s\n",
      "[CV] END algorithm=SAMME, learning_rate=0.22170074035318482, n_estimators=178; total time=   1.6s\n",
      "[CV] END algorithm=SAMME, learning_rate=0.22170074035318482, n_estimators=178; total time=   1.6s\n",
      "[CV] END algorithm=SAMME, learning_rate=0.22170074035318482, n_estimators=178; total time=   1.6s\n",
      "[CV] END algorithm=SAMME.R, learning_rate=0.15674408735901907, n_estimators=112; total time=   1.3s\n",
      "[CV] END algorithm=SAMME.R, learning_rate=0.15674408735901907, n_estimators=112; total time=   1.3s\n",
      "[CV] END algorithm=SAMME.R, learning_rate=0.15674408735901907, n_estimators=112; total time=   1.3s\n",
      "[CV] END algorithm=SAMME.R, learning_rate=0.15674408735901907, n_estimators=112; total time=   1.3s\n",
      "[CV] END algorithm=SAMME.R, learning_rate=0.15674408735901907, n_estimators=112; total time=   1.3s\n",
      "[CV] END algorithm=SAMME, learning_rate=0.10942120204440257, n_estimators=185; total time=   1.6s\n",
      "[CV] END algorithm=SAMME, learning_rate=0.10942120204440257, n_estimators=185; total time=   1.6s\n",
      "[CV] END algorithm=SAMME, learning_rate=0.10942120204440257, n_estimators=185; total time=   1.6s\n",
      "[CV] END algorithm=SAMME, learning_rate=0.10942120204440257, n_estimators=185; total time=   1.7s\n",
      "[CV] END algorithm=SAMME, learning_rate=0.10942120204440257, n_estimators=185; total time=   1.6s\n",
      "[CV] END algorithm=SAMME, learning_rate=0.40508777026560283, n_estimators=172; total time=   1.5s\n",
      "[CV] END algorithm=SAMME, learning_rate=0.40508777026560283, n_estimators=172; total time=   1.5s\n",
      "[CV] END algorithm=SAMME, learning_rate=0.40508777026560283, n_estimators=172; total time=   1.5s\n",
      "[CV] END algorithm=SAMME, learning_rate=0.40508777026560283, n_estimators=172; total time=   1.5s\n",
      "[CV] END algorithm=SAMME, learning_rate=0.40508777026560283, n_estimators=172; total time=   1.5s\n",
      "[CV] END algorithm=SAMME, learning_rate=0.4731504392566745, n_estimators=299; total time=   2.6s\n",
      "[CV] END algorithm=SAMME, learning_rate=0.4731504392566745, n_estimators=299; total time=   2.6s\n",
      "[CV] END algorithm=SAMME, learning_rate=0.4731504392566745, n_estimators=299; total time=   2.6s\n",
      "[CV] END algorithm=SAMME, learning_rate=0.4731504392566745, n_estimators=299; total time=   2.6s\n",
      "[CV] END algorithm=SAMME, learning_rate=0.4731504392566745, n_estimators=299; total time=   2.6s\n",
      "[CV] END algorithm=SAMME, learning_rate=0.4674798377718904, n_estimators=250; total time=   2.2s\n",
      "[CV] END algorithm=SAMME, learning_rate=0.4674798377718904, n_estimators=250; total time=   2.2s\n",
      "[CV] END algorithm=SAMME, learning_rate=0.4674798377718904, n_estimators=250; total time=   2.2s\n",
      "[CV] END algorithm=SAMME, learning_rate=0.4674798377718904, n_estimators=250; total time=   2.2s\n",
      "[CV] END algorithm=SAMME, learning_rate=0.4674798377718904, n_estimators=250; total time=   2.2s\n",
      "[CV] END algorithm=SAMME.R, learning_rate=0.2347253370691017, n_estimators=82; total time=   0.9s\n",
      "[CV] END algorithm=SAMME.R, learning_rate=0.2347253370691017, n_estimators=82; total time=   0.9s\n",
      "[CV] END algorithm=SAMME.R, learning_rate=0.2347253370691017, n_estimators=82; total time=   0.9s\n",
      "[CV] END algorithm=SAMME.R, learning_rate=0.2347253370691017, n_estimators=82; total time=   0.9s\n",
      "[CV] END algorithm=SAMME.R, learning_rate=0.2347253370691017, n_estimators=82; total time=   0.9s\n",
      "[CV] END algorithm=SAMME.R, learning_rate=0.1954091260991332, n_estimators=111; total time=   1.2s\n",
      "[CV] END algorithm=SAMME.R, learning_rate=0.1954091260991332, n_estimators=111; total time=   1.2s\n",
      "[CV] END algorithm=SAMME.R, learning_rate=0.1954091260991332, n_estimators=111; total time=   1.3s\n",
      "[CV] END algorithm=SAMME.R, learning_rate=0.1954091260991332, n_estimators=111; total time=   1.2s\n",
      "[CV] END algorithm=SAMME.R, learning_rate=0.1954091260991332, n_estimators=111; total time=   1.2s\n",
      "[CV] END algorithm=SAMME.R, learning_rate=0.34296117830874834, n_estimators=221; total time=   2.5s\n",
      "[CV] END algorithm=SAMME.R, learning_rate=0.34296117830874834, n_estimators=221; total time=   2.5s\n",
      "[CV] END algorithm=SAMME.R, learning_rate=0.34296117830874834, n_estimators=221; total time=   2.5s\n",
      "[CV] END algorithm=SAMME.R, learning_rate=0.34296117830874834, n_estimators=221; total time=   2.5s\n",
      "[CV] END algorithm=SAMME.R, learning_rate=0.34296117830874834, n_estimators=221; total time=   2.5s\n",
      "[CV] END algorithm=SAMME.R, learning_rate=0.1473608964950321, n_estimators=84; total time=   0.9s\n",
      "[CV] END algorithm=SAMME.R, learning_rate=0.1473608964950321, n_estimators=84; total time=   0.9s\n",
      "[CV] END algorithm=SAMME.R, learning_rate=0.1473608964950321, n_estimators=84; total time=   1.0s\n",
      "[CV] END algorithm=SAMME.R, learning_rate=0.1473608964950321, n_estimators=84; total time=   1.0s\n",
      "[CV] END algorithm=SAMME.R, learning_rate=0.1473608964950321, n_estimators=84; total time=   1.0s\n",
      "[CV] END algorithm=SAMME, learning_rate=0.20146343737689493, n_estimators=224; total time=   2.0s\n",
      "[CV] END algorithm=SAMME, learning_rate=0.20146343737689493, n_estimators=224; total time=   1.9s\n",
      "[CV] END algorithm=SAMME, learning_rate=0.20146343737689493, n_estimators=224; total time=   2.0s\n",
      "[CV] END algorithm=SAMME, learning_rate=0.20146343737689493, n_estimators=224; total time=   2.0s\n",
      "[CV] END algorithm=SAMME, learning_rate=0.20146343737689493, n_estimators=224; total time=   2.0s\n",
      "[CV] END algorithm=SAMME.R, learning_rate=0.43445691213304194, n_estimators=54; total time=   0.6s\n",
      "[CV] END algorithm=SAMME.R, learning_rate=0.43445691213304194, n_estimators=54; total time=   0.6s\n",
      "[CV] END algorithm=SAMME.R, learning_rate=0.43445691213304194, n_estimators=54; total time=   0.6s\n",
      "[CV] END algorithm=SAMME.R, learning_rate=0.43445691213304194, n_estimators=54; total time=   0.6s\n",
      "[CV] END algorithm=SAMME.R, learning_rate=0.43445691213304194, n_estimators=54; total time=   0.6s\n",
      "[CV] END algorithm=SAMME.R, learning_rate=0.12799245987447788, n_estimators=191; total time=   2.2s\n",
      "[CV] END algorithm=SAMME.R, learning_rate=0.12799245987447788, n_estimators=191; total time=   2.2s\n",
      "[CV] END algorithm=SAMME.R, learning_rate=0.12799245987447788, n_estimators=191; total time=   2.2s\n",
      "[CV] END algorithm=SAMME.R, learning_rate=0.12799245987447788, n_estimators=191; total time=   2.2s\n",
      "[CV] END algorithm=SAMME.R, learning_rate=0.12799245987447788, n_estimators=191; total time=   2.2s\n",
      "[CV] END algorithm=SAMME, learning_rate=0.030216794769215675, n_estimators=256; total time=   2.3s\n",
      "[CV] END algorithm=SAMME, learning_rate=0.030216794769215675, n_estimators=256; total time=   2.2s\n",
      "[CV] END algorithm=SAMME, learning_rate=0.030216794769215675, n_estimators=256; total time=   2.3s\n",
      "[CV] END algorithm=SAMME, learning_rate=0.030216794769215675, n_estimators=256; total time=   2.2s\n",
      "[CV] END algorithm=SAMME, learning_rate=0.030216794769215675, n_estimators=256; total time=   2.3s\n",
      "[CV] END algorithm=SAMME, learning_rate=0.06544541040591566, n_estimators=173; total time=   1.5s\n",
      "[CV] END algorithm=SAMME, learning_rate=0.06544541040591566, n_estimators=173; total time=   1.5s\n",
      "[CV] END algorithm=SAMME, learning_rate=0.06544541040591566, n_estimators=173; total time=   1.5s\n",
      "[CV] END algorithm=SAMME, learning_rate=0.06544541040591566, n_estimators=173; total time=   1.5s\n",
      "[CV] END algorithm=SAMME, learning_rate=0.06544541040591566, n_estimators=173; total time=   1.5s\n",
      "[CV] END algorithm=SAMME, learning_rate=0.1108596011676981, n_estimators=145; total time=   1.3s\n",
      "[CV] END algorithm=SAMME, learning_rate=0.1108596011676981, n_estimators=145; total time=   1.3s\n",
      "[CV] END algorithm=SAMME, learning_rate=0.1108596011676981, n_estimators=145; total time=   1.3s\n",
      "[CV] END algorithm=SAMME, learning_rate=0.1108596011676981, n_estimators=145; total time=   1.3s\n",
      "[CV] END algorithm=SAMME, learning_rate=0.1108596011676981, n_estimators=145; total time=   1.3s\n",
      "Best parameters for Adaboost: {'algorithm': 'SAMME.R', 'learning_rate': 0.2575884550556351, 'n_estimators': 224}\n",
      "Best score for Adaboost: 0.7227178769931975\n"
     ]
    }
   ],
   "source": [
    "# Create the Adaboost classifier and perform RandomizedSearchCV\n",
    "ada = AdaBoostClassifier(random_state=42)\n",
    "ada_random = RandomizedSearchCV(estimator=ada, param_distributions=ada_param_dist, n_iter=50,\n",
    "                                cv=5, random_state=42, n_jobs=-1, verbose=2)\n",
    "ada_random.fit(X_train, y_train)\n",
    "\n",
    "# Print the best parameters and score for each classifier\n",
    "print(\"Best parameters for Adaboost:\", ada_random.best_params_)\n",
    "print(\"Best score for Adaboost:\", ada_random.best_score_)"
   ]
  },
  {
   "cell_type": "code",
   "execution_count": 15,
   "metadata": {
    "cell_id": "6f28484b08794706b4b3a8eb99fbbee8",
    "deepnote_cell_type": "code",
    "deepnote_to_be_reexecuted": false,
    "execution_millis": 22720,
    "execution_start": 1677472592169,
    "source_hash": "e157953d",
    "tags": []
   },
   "outputs": [
    {
     "name": "stdout",
     "output_type": "stream",
     "text": [
      "AdaBoost Classifier\n",
      "Accuracy on validation set: 72.65%\n",
      "Accuracy on test set: 72.62%\n",
      "Cross-validation score: 72.27% (+/- 1.13%)\n",
      "Classification report:\n",
      "               precision    recall  f1-score   support\n",
      "\n",
      "           0       0.70      0.82      0.75      6159\n",
      "           1       0.77      0.63      0.69      5870\n",
      "\n",
      "    accuracy                           0.73     12029\n",
      "   macro avg       0.73      0.72      0.72     12029\n",
      "weighted avg       0.73      0.73      0.72     12029\n",
      "\n"
     ]
    }
   ],
   "source": [
    "# # Train Adaboost Classifier with the best hyperparameters\n",
    "# ada_best = AdaBoostClassifier(algorithm='SAMME.R', learning_rate=0.2575884550556351, n_estimators=224, random_state=42)\n",
    "# ada_best.fit(X_train, y_train)\n",
    "\n",
    "# # Evaluate the model on validation set\n",
    "# y_pred = ada_best.predict(X_val)\n",
    "# acc_val = accuracy_score(y_val, y_pred)\n",
    "\n",
    "# # Evaluate the model on test set\n",
    "# y_pred = ada_best.predict(X_test)\n",
    "# acc_test = accuracy_score(y_test, y_pred)\n",
    "\n",
    "# # Evaluate the model using cross-validation\n",
    "# cv_scores = cross_val_score(ada_best, X_train_val, y_train_val, cv=5)\n",
    "\n",
    "# # Print the performance metrics\n",
    "# print(\"AdaBoost Classifier\")\n",
    "# print(\"Accuracy on validation set: {:.2f}%\".format(acc_val*100))\n",
    "# print(\"Accuracy on test set: {:.2f}%\".format(acc_test*100))\n",
    "# print(\"Cross-validation score: {:.2f}% (+/- {:.2f}%)\".format(cv_scores.mean()*100, cv_scores.std()*2*100))\n",
    "# print(\"Classification report:\\n\", classification_report(y_test, y_pred))"
   ]
  },
  {
   "cell_type": "code",
   "execution_count": 16,
   "metadata": {
    "cell_id": "b42517c083004a349daeecfe9fc76ad0",
    "deepnote_cell_type": "code",
    "deepnote_to_be_reexecuted": false,
    "execution_millis": 455,
    "execution_start": 1677472614889,
    "source_hash": "da89326a",
    "tags": []
   },
   "outputs": [
    {
     "data": {
      "image/png": "[encoded data removed]",
      "text/plain": [
       "<Figure size 640x480 with 2 Axes>"
      ]
     },
     "metadata": {
      "image/png": {
       "height": 435,
       "width": 515
      }
     },
     "output_type": "display_data"
    }
   ],
   "source": [
    "# plot_confusion_matrix(ada_best, X_test, y_test);"
   ]
  },
  {
   "cell_type": "code",
   "execution_count": 17,
   "metadata": {
    "cell_id": "1726fb3afdfb42ec84855c7f7af705a2",
    "deepnote_cell_type": "code",
    "deepnote_to_be_reexecuted": false,
    "execution_millis": 902766,
    "execution_start": 1677352101935,
    "source_hash": "e80c88e4",
    "tags": []
   },
   "outputs": [
    {
     "name": "stdout",
     "output_type": "stream",
     "text": [
      "Fitting 5 folds for each of 50 candidates, totalling 250 fits\n",
      "[CV] END learning_rate=0.19727005942368125, max_depth=7, max_features=None, n_estimators=156, subsample=0.8017219002454924; total time=   5.5s\n",
      "[CV] END learning_rate=0.19727005942368125, max_depth=7, max_features=None, n_estimators=156, subsample=0.8017219002454924; total time=   5.6s\n",
      "[CV] END learning_rate=0.19727005942368125, max_depth=7, max_features=None, n_estimators=156, subsample=0.8017219002454924; total time=   5.6s\n",
      "[CV] END learning_rate=0.19727005942368125, max_depth=7, max_features=None, n_estimators=156, subsample=0.8017219002454924; total time=   5.5s\n",
      "[CV] END learning_rate=0.19727005942368125, max_depth=7, max_features=None, n_estimators=156, subsample=0.8017219002454924; total time=   5.5s\n",
      "[CV] END learning_rate=0.3084250789732435, max_depth=4, max_features=None, n_estimators=264, subsample=0.15227525095137953; total time=   2.2s\n",
      "[CV] END learning_rate=0.3084250789732435, max_depth=4, max_features=None, n_estimators=264, subsample=0.15227525095137953; total time=   2.2s\n",
      "[CV] END learning_rate=0.3084250789732435, max_depth=4, max_features=None, n_estimators=264, subsample=0.15227525095137953; total time=   2.2s\n",
      "[CV] END learning_rate=0.3084250789732435, max_depth=4, max_features=None, n_estimators=264, subsample=0.15227525095137953; total time=   2.2s\n",
      "[CV] END learning_rate=0.3084250789732435, max_depth=4, max_features=None, n_estimators=264, subsample=0.15227525095137953; total time=   2.2s\n",
      "[CV] END learning_rate=0.4430880728874676, max_depth=6, max_features=None, n_estimators=199, subsample=0.15077042112439024; total time=   2.2s\n",
      "[CV] END learning_rate=0.4430880728874676, max_depth=6, max_features=None, n_estimators=199, subsample=0.15077042112439024; total time=   2.1s\n",
      "[CV] END learning_rate=0.4430880728874676, max_depth=6, max_features=None, n_estimators=199, subsample=0.15077042112439024; total time=   2.1s\n",
      "[CV] END learning_rate=0.4430880728874676, max_depth=6, max_features=None, n_estimators=199, subsample=0.15077042112439024; total time=   2.1s\n",
      "[CV] END learning_rate=0.4430880728874676, max_depth=6, max_features=None, n_estimators=199, subsample=0.15077042112439024; total time=   2.1s\n",
      "[CV] END learning_rate=0.3709993861334124, max_depth=8, max_features=log2, n_estimators=179, subsample=0.26364247048639056; total time=   2.3s\n",
      "[CV] END learning_rate=0.3709993861334124, max_depth=8, max_features=log2, n_estimators=179, subsample=0.26364247048639056; total time=   2.3s\n",
      "[CV] END learning_rate=0.3709993861334124, max_depth=8, max_features=log2, n_estimators=179, subsample=0.26364247048639056; total time=   2.3s\n",
      "[CV] END learning_rate=0.3709993861334124, max_depth=8, max_features=log2, n_estimators=179, subsample=0.26364247048639056; total time=   2.3s\n",
      "[CV] END learning_rate=0.3709993861334124, max_depth=8, max_features=log2, n_estimators=179, subsample=0.26364247048639056; total time=   2.3s\n",
      "[CV] END learning_rate=0.1017022549267169, max_depth=6, max_features=log2, n_estimators=71, subsample=0.10635967469774567; total time=   0.5s\n",
      "[CV] END learning_rate=0.1017022549267169, max_depth=6, max_features=log2, n_estimators=71, subsample=0.10635967469774567; total time=   0.5s\n",
      "[CV] END learning_rate=0.1017022549267169, max_depth=6, max_features=log2, n_estimators=71, subsample=0.10635967469774567; total time=   0.5s\n",
      "[CV] END learning_rate=0.1017022549267169, max_depth=6, max_features=log2, n_estimators=71, subsample=0.10635967469774567; total time=   0.5s\n",
      "[CV] END learning_rate=0.1017022549267169, max_depth=6, max_features=log2, n_estimators=71, subsample=0.10635967469774567; total time=   0.5s\n",
      "[CV] END learning_rate=0.02153121252070788, max_depth=5, max_features=None, n_estimators=219, subsample=0.1419990968922539; total time=   2.1s\n",
      "[CV] END learning_rate=0.02153121252070788, max_depth=5, max_features=None, n_estimators=219, subsample=0.1419990968922539; total time=   2.1s\n",
      "[CV] END learning_rate=0.02153121252070788, max_depth=5, max_features=None, n_estimators=219, subsample=0.1419990968922539; total time=   2.1s\n",
      "[CV] END learning_rate=0.02153121252070788, max_depth=5, max_features=None, n_estimators=219, subsample=0.1419990968922539; total time=   2.1s\n",
      "[CV] END learning_rate=0.02153121252070788, max_depth=5, max_features=None, n_estimators=219, subsample=0.1419990968922539; total time=   2.1s\n",
      "[CV] END learning_rate=0.4968777594207296, max_depth=9, max_features=log2, n_estimators=239, subsample=0.8066583652537123; total time=   6.3s\n",
      "[CV] END learning_rate=0.4968777594207296, max_depth=9, max_features=log2, n_estimators=239, subsample=0.8066583652537123; total time=   6.7s\n",
      "[CV] END learning_rate=0.4968777594207296, max_depth=9, max_features=log2, n_estimators=239, subsample=0.8066583652537123; total time=   6.8s\n",
      "[CV] END learning_rate=0.4968777594207296, max_depth=9, max_features=log2, n_estimators=239, subsample=0.8066583652537123; total time=   6.7s\n",
      "[CV] END learning_rate=0.4968777594207296, max_depth=9, max_features=log2, n_estimators=239, subsample=0.8066583652537123; total time=   6.3s\n",
      "[CV] END learning_rate=0.10983689107917986, max_depth=9, max_features=sqrt, n_estimators=180, subsample=0.8739463660626885; total time=   5.0s\n",
      "[CV] END learning_rate=0.10983689107917986, max_depth=9, max_features=sqrt, n_estimators=180, subsample=0.8739463660626885; total time=   5.1s\n",
      "[CV] END learning_rate=0.10983689107917986, max_depth=9, max_features=sqrt, n_estimators=180, subsample=0.8739463660626885; total time=   4.9s\n",
      "[CV] END learning_rate=0.10983689107917986, max_depth=9, max_features=sqrt, n_estimators=180, subsample=0.8739463660626885; total time=   4.9s\n",
      "[CV] END learning_rate=0.10983689107917986, max_depth=9, max_features=sqrt, n_estimators=180, subsample=0.8739463660626885; total time=   5.0s\n",
      "[CV] END learning_rate=0.35015376929388986, max_depth=3, max_features=None, n_estimators=67, subsample=0.9539969835279999; total time=   1.3s\n",
      "[CV] END learning_rate=0.35015376929388986, max_depth=3, max_features=None, n_estimators=67, subsample=0.9539969835279999; total time=   1.3s\n",
      "[CV] END learning_rate=0.35015376929388986, max_depth=3, max_features=None, n_estimators=67, subsample=0.9539969835279999; total time=   1.3s\n",
      "[CV] END learning_rate=0.35015376929388986, max_depth=3, max_features=None, n_estimators=67, subsample=0.9539969835279999; total time=   1.3s\n",
      "[CV] END learning_rate=0.35015376929388986, max_depth=3, max_features=None, n_estimators=67, subsample=0.9539969835279999; total time=   1.3s\n",
      "[CV] END learning_rate=0.4928160165372797, max_depth=4, max_features=log2, n_estimators=58, subsample=0.11436962699819278; total time=   0.3s\n",
      "[CV] END learning_rate=0.4928160165372797, max_depth=4, max_features=log2, n_estimators=58, subsample=0.11436962699819278; total time=   0.3s\n",
      "[CV] END learning_rate=0.4928160165372797, max_depth=4, max_features=log2, n_estimators=58, subsample=0.11436962699819278; total time=   0.3s\n",
      "[CV] END learning_rate=0.4928160165372797, max_depth=4, max_features=log2, n_estimators=58, subsample=0.11436962699819278; total time=   0.3s\n",
      "[CV] END learning_rate=0.4928160165372797, max_depth=4, max_features=log2, n_estimators=58, subsample=0.11436962699819278; total time=   0.3s\n",
      "[CV] END learning_rate=0.1254469128110745, max_depth=6, max_features=None, n_estimators=237, subsample=0.20983441136030095; total time=   3.1s\n",
      "[CV] END learning_rate=0.1254469128110745, max_depth=6, max_features=None, n_estimators=237, subsample=0.20983441136030095; total time=   3.2s\n",
      "[CV] END learning_rate=0.1254469128110745, max_depth=6, max_features=None, n_estimators=237, subsample=0.20983441136030095; total time=   3.2s\n",
      "[CV] END learning_rate=0.1254469128110745, max_depth=6, max_features=None, n_estimators=237, subsample=0.20983441136030095; total time=   3.1s\n",
      "[CV] END learning_rate=0.1254469128110745, max_depth=6, max_features=None, n_estimators=237, subsample=0.20983441136030095; total time=   3.2s\n",
      "[CV] END learning_rate=0.2575884550556351, max_depth=9, max_features=None, n_estimators=255, subsample=0.45195454681591674; total time=   9.2s\n",
      "[CV] END learning_rate=0.2575884550556351, max_depth=9, max_features=None, n_estimators=255, subsample=0.45195454681591674; total time=   8.8s\n",
      "[CV] END learning_rate=0.2575884550556351, max_depth=9, max_features=None, n_estimators=255, subsample=0.45195454681591674; total time=   8.8s\n",
      "[CV] END learning_rate=0.2575884550556351, max_depth=9, max_features=None, n_estimators=255, subsample=0.45195454681591674; total time=   9.3s\n",
      "[CV] END learning_rate=0.2575884550556351, max_depth=9, max_features=None, n_estimators=255, subsample=0.45195454681591674; total time=   9.1s\n",
      "[CV] END learning_rate=0.10111804389403116, max_depth=6, max_features=log2, n_estimators=183, subsample=0.28714749658136995; total time=   1.8s\n",
      "[CV] END learning_rate=0.10111804389403116, max_depth=6, max_features=log2, n_estimators=183, subsample=0.28714749658136995; total time=   1.8s\n",
      "[CV] END learning_rate=0.10111804389403116, max_depth=6, max_features=log2, n_estimators=183, subsample=0.28714749658136995; total time=   1.8s\n",
      "[CV] END learning_rate=0.10111804389403116, max_depth=6, max_features=log2, n_estimators=183, subsample=0.28714749658136995; total time=   1.8s\n",
      "[CV] END learning_rate=0.10111804389403116, max_depth=6, max_features=log2, n_estimators=183, subsample=0.28714749658136995; total time=   1.8s\n",
      "[CV] END learning_rate=0.29385016390999574, max_depth=7, max_features=None, n_estimators=195, subsample=0.7976195410250031; total time=   6.9s\n",
      "[CV] END learning_rate=0.29385016390999574, max_depth=7, max_features=None, n_estimators=195, subsample=0.7976195410250031; total time=   6.9s\n",
      "[CV] END learning_rate=0.29385016390999574, max_depth=7, max_features=None, n_estimators=195, subsample=0.7976195410250031; total time=   6.9s\n",
      "[CV] END learning_rate=0.29385016390999574, max_depth=7, max_features=None, n_estimators=195, subsample=0.7976195410250031; total time=   6.9s\n",
      "[CV] END learning_rate=0.29385016390999574, max_depth=7, max_features=None, n_estimators=195, subsample=0.7976195410250031; total time=   6.9s\n",
      "[CV] END learning_rate=0.47974947078209457, max_depth=8, max_features=log2, n_estimators=144, subsample=0.9296868115208051; total time=   3.1s\n",
      "[CV] END learning_rate=0.47974947078209457, max_depth=8, max_features=log2, n_estimators=144, subsample=0.9296868115208051; total time=   3.2s\n",
      "[CV] END learning_rate=0.47974947078209457, max_depth=8, max_features=log2, n_estimators=144, subsample=0.9296868115208051; total time=   3.1s\n",
      "[CV] END learning_rate=0.47974947078209457, max_depth=8, max_features=log2, n_estimators=144, subsample=0.9296868115208051; total time=   3.1s\n",
      "[CV] END learning_rate=0.47974947078209457, max_depth=8, max_features=log2, n_estimators=144, subsample=0.9296868115208051; total time=   3.1s\n",
      "[CV] END learning_rate=0.05424625102595975, max_depth=9, max_features=sqrt, n_estimators=239, subsample=0.39279729768693794; total time=   5.1s\n",
      "[CV] END learning_rate=0.05424625102595975, max_depth=9, max_features=sqrt, n_estimators=239, subsample=0.39279729768693794; total time=   5.1s\n",
      "[CV] END learning_rate=0.05424625102595975, max_depth=9, max_features=sqrt, n_estimators=239, subsample=0.39279729768693794; total time=   5.0s\n",
      "[CV] END learning_rate=0.05424625102595975, max_depth=9, max_features=sqrt, n_estimators=239, subsample=0.39279729768693794; total time=   5.0s\n",
      "[CV] END learning_rate=0.05424625102595975, max_depth=9, max_features=sqrt, n_estimators=239, subsample=0.39279729768693794; total time=   5.0s\n",
      "[CV] END learning_rate=0.204338644844741, max_depth=4, max_features=None, n_estimators=102, subsample=0.6280760490974634; total time=   1.9s\n",
      "[CV] END learning_rate=0.204338644844741, max_depth=4, max_features=None, n_estimators=102, subsample=0.6280760490974634; total time=   1.9s\n",
      "[CV] END learning_rate=0.204338644844741, max_depth=4, max_features=None, n_estimators=102, subsample=0.6280760490974634; total time=   1.9s\n",
      "[CV] END learning_rate=0.204338644844741, max_depth=4, max_features=None, n_estimators=102, subsample=0.6280760490974634; total time=   1.9s\n",
      "[CV] END learning_rate=0.204338644844741, max_depth=4, max_features=None, n_estimators=102, subsample=0.6280760490974634; total time=   1.9s\n",
      "[CV] END learning_rate=0.492627653632069, max_depth=6, max_features=sqrt, n_estimators=90, subsample=0.36664615513367416; total time=   1.0s\n",
      "[CV] END learning_rate=0.492627653632069, max_depth=6, max_features=sqrt, n_estimators=90, subsample=0.36664615513367416; total time=   1.0s\n",
      "[CV] END learning_rate=0.492627653632069, max_depth=6, max_features=sqrt, n_estimators=90, subsample=0.36664615513367416; total time=   1.0s\n",
      "[CV] END learning_rate=0.492627653632069, max_depth=6, max_features=sqrt, n_estimators=90, subsample=0.36664615513367416; total time=   1.0s\n",
      "[CV] END learning_rate=0.492627653632069, max_depth=6, max_features=sqrt, n_estimators=90, subsample=0.36664615513367416; total time=   1.0s\n",
      "[CV] END learning_rate=0.09263346953150124, max_depth=3, max_features=None, n_estimators=58, subsample=0.7950202923669917; total time=   1.0s\n",
      "[CV] END learning_rate=0.09263346953150124, max_depth=3, max_features=None, n_estimators=58, subsample=0.7950202923669917; total time=   1.0s\n",
      "[CV] END learning_rate=0.09263346953150124, max_depth=3, max_features=None, n_estimators=58, subsample=0.7950202923669917; total time=   1.0s\n",
      "[CV] END learning_rate=0.09263346953150124, max_depth=3, max_features=None, n_estimators=58, subsample=0.7950202923669917; total time=   1.0s\n",
      "[CV] END learning_rate=0.09263346953150124, max_depth=3, max_features=None, n_estimators=58, subsample=0.7950202923669917; total time=   1.0s\n",
      "[CV] END learning_rate=0.1093578407670862, max_depth=9, max_features=None, n_estimators=292, subsample=0.7361716094628554; total time=  14.3s\n",
      "[CV] END learning_rate=0.1093578407670862, max_depth=9, max_features=None, n_estimators=292, subsample=0.7361716094628554; total time=  14.2s\n",
      "[CV] END learning_rate=0.1093578407670862, max_depth=9, max_features=None, n_estimators=292, subsample=0.7361716094628554; total time=  14.1s\n",
      "[CV] END learning_rate=0.1093578407670862, max_depth=9, max_features=None, n_estimators=292, subsample=0.7361716094628554; total time=  14.1s\n",
      "[CV] END learning_rate=0.1093578407670862, max_depth=9, max_features=None, n_estimators=292, subsample=0.7361716094628554; total time=  14.2s\n",
      "[CV] END learning_rate=0.37450358402049366, max_depth=3, max_features=None, n_estimators=54, subsample=0.9336707906620141; total time=   1.0s\n",
      "[CV] END learning_rate=0.37450358402049366, max_depth=3, max_features=None, n_estimators=54, subsample=0.9336707906620141; total time=   1.0s\n",
      "[CV] END learning_rate=0.37450358402049366, max_depth=3, max_features=None, n_estimators=54, subsample=0.9336707906620141; total time=   1.0s\n",
      "[CV] END learning_rate=0.37450358402049366, max_depth=3, max_features=None, n_estimators=54, subsample=0.9336707906620141; total time=   1.0s\n",
      "[CV] END learning_rate=0.37450358402049366, max_depth=3, max_features=None, n_estimators=54, subsample=0.9336707906620141; total time=   1.0s\n",
      "[CV] END learning_rate=0.33553851275097224, max_depth=6, max_features=None, n_estimators=250, subsample=0.6609683141448022; total time=   6.7s\n",
      "[CV] END learning_rate=0.33553851275097224, max_depth=6, max_features=None, n_estimators=250, subsample=0.6609683141448022; total time=   6.7s\n",
      "[CV] END learning_rate=0.33553851275097224, max_depth=6, max_features=None, n_estimators=250, subsample=0.6609683141448022; total time=   6.6s\n",
      "[CV] END learning_rate=0.33553851275097224, max_depth=6, max_features=None, n_estimators=250, subsample=0.6609683141448022; total time=   6.6s\n",
      "[CV] END learning_rate=0.33553851275097224, max_depth=6, max_features=None, n_estimators=250, subsample=0.6609683141448022; total time=   6.6s\n",
      "[CV] END learning_rate=0.1754490124263246, max_depth=9, max_features=None, n_estimators=111, subsample=0.3926649898240724; total time=   3.7s\n",
      "[CV] END learning_rate=0.1754490124263246, max_depth=9, max_features=None, n_estimators=111, subsample=0.3926649898240724; total time=   3.7s\n",
      "[CV] END learning_rate=0.1754490124263246, max_depth=9, max_features=None, n_estimators=111, subsample=0.3926649898240724; total time=   3.7s\n",
      "[CV] END learning_rate=0.1754490124263246, max_depth=9, max_features=None, n_estimators=111, subsample=0.3926649898240724; total time=   3.7s\n",
      "[CV] END learning_rate=0.1754490124263246, max_depth=9, max_features=None, n_estimators=111, subsample=0.3926649898240724; total time=   3.7s\n",
      "[CV] END learning_rate=0.37480308916903204, max_depth=8, max_features=None, n_estimators=84, subsample=0.5249934326457544; total time=   2.7s\n",
      "[CV] END learning_rate=0.37480308916903204, max_depth=8, max_features=None, n_estimators=84, subsample=0.5249934326457544; total time=   2.7s\n",
      "[CV] END learning_rate=0.37480308916903204, max_depth=8, max_features=None, n_estimators=84, subsample=0.5249934326457544; total time=   2.7s\n",
      "[CV] END learning_rate=0.37480308916903204, max_depth=8, max_features=None, n_estimators=84, subsample=0.5249934326457544; total time=   2.7s\n",
      "[CV] END learning_rate=0.37480308916903204, max_depth=8, max_features=None, n_estimators=84, subsample=0.5249934326457544; total time=   2.7s\n",
      "[CV] END learning_rate=0.06979712296915085, max_depth=8, max_features=None, n_estimators=50, subsample=0.7495565690483859; total time=   2.1s\n",
      "[CV] END learning_rate=0.06979712296915085, max_depth=8, max_features=None, n_estimators=50, subsample=0.7495565690483859; total time=   2.0s\n",
      "[CV] END learning_rate=0.06979712296915085, max_depth=8, max_features=None, n_estimators=50, subsample=0.7495565690483859; total time=   2.0s\n",
      "[CV] END learning_rate=0.06979712296915085, max_depth=8, max_features=None, n_estimators=50, subsample=0.7495565690483859; total time=   2.0s\n",
      "[CV] END learning_rate=0.06979712296915085, max_depth=8, max_features=None, n_estimators=50, subsample=0.7495565690483859; total time=   2.0s\n",
      "[CV] END learning_rate=0.12799245987447788, max_depth=8, max_features=None, n_estimators=76, subsample=0.5704595464437947; total time=   2.6s\n",
      "[CV] END learning_rate=0.12799245987447788, max_depth=8, max_features=None, n_estimators=76, subsample=0.5704595464437947; total time=   2.5s\n",
      "[CV] END learning_rate=0.12799245987447788, max_depth=8, max_features=None, n_estimators=76, subsample=0.5704595464437947; total time=   2.6s\n",
      "[CV] END learning_rate=0.12799245987447788, max_depth=8, max_features=None, n_estimators=76, subsample=0.5704595464437947; total time=   2.6s\n",
      "[CV] END learning_rate=0.12799245987447788, max_depth=8, max_features=None, n_estimators=76, subsample=0.5704595464437947; total time=   2.6s\n",
      "[CV] END learning_rate=0.22377050917927482, max_depth=4, max_features=sqrt, n_estimators=228, subsample=0.12828626711806082; total time=   1.3s\n",
      "[CV] END learning_rate=0.22377050917927482, max_depth=4, max_features=sqrt, n_estimators=228, subsample=0.12828626711806082; total time=   1.4s\n",
      "[CV] END learning_rate=0.22377050917927482, max_depth=4, max_features=sqrt, n_estimators=228, subsample=0.12828626711806082; total time=   1.4s\n",
      "[CV] END learning_rate=0.22377050917927482, max_depth=4, max_features=sqrt, n_estimators=228, subsample=0.12828626711806082; total time=   1.4s\n",
      "[CV] END learning_rate=0.22377050917927482, max_depth=4, max_features=sqrt, n_estimators=228, subsample=0.12828626711806082; total time=   1.4s\n",
      "[CV] END learning_rate=0.3282052056318902, max_depth=6, max_features=sqrt, n_estimators=145, subsample=0.7259644777835147; total time=   1.9s\n",
      "[CV] END learning_rate=0.3282052056318902, max_depth=6, max_features=sqrt, n_estimators=145, subsample=0.7259644777835147; total time=   1.9s\n",
      "[CV] END learning_rate=0.3282052056318902, max_depth=6, max_features=sqrt, n_estimators=145, subsample=0.7259644777835147; total time=   1.9s\n",
      "[CV] END learning_rate=0.3282052056318902, max_depth=6, max_features=sqrt, n_estimators=145, subsample=0.7259644777835147; total time=   1.9s\n",
      "[CV] END learning_rate=0.3282052056318902, max_depth=6, max_features=sqrt, n_estimators=145, subsample=0.7259644777835147; total time=   1.9s\n",
      "[CV] END learning_rate=0.07966572720293784, max_depth=9, max_features=sqrt, n_estimators=192, subsample=0.7799960246887438; total time=   5.0s\n",
      "[CV] END learning_rate=0.07966572720293784, max_depth=9, max_features=sqrt, n_estimators=192, subsample=0.7799960246887438; total time=   5.0s\n",
      "[CV] END learning_rate=0.07966572720293784, max_depth=9, max_features=sqrt, n_estimators=192, subsample=0.7799960246887438; total time=   5.1s\n",
      "[CV] END learning_rate=0.07966572720293784, max_depth=9, max_features=sqrt, n_estimators=192, subsample=0.7799960246887438; total time=   5.0s\n",
      "[CV] END learning_rate=0.07966572720293784, max_depth=9, max_features=sqrt, n_estimators=192, subsample=0.7799960246887438; total time=   5.0s\n",
      "[CV] END learning_rate=0.12439908274581123, max_depth=9, max_features=None, n_estimators=292, subsample=0.24509915852860398; total time=   7.6s\n",
      "[CV] END learning_rate=0.12439908274581123, max_depth=9, max_features=None, n_estimators=292, subsample=0.24509915852860398; total time=   7.5s\n",
      "[CV] END learning_rate=0.12439908274581123, max_depth=9, max_features=None, n_estimators=292, subsample=0.24509915852860398; total time=   7.3s\n",
      "[CV] END learning_rate=0.12439908274581123, max_depth=9, max_features=None, n_estimators=292, subsample=0.24509915852860398; total time=   7.6s\n",
      "[CV] END learning_rate=0.12439908274581123, max_depth=9, max_features=None, n_estimators=292, subsample=0.24509915852860398; total time=   7.6s\n",
      "[CV] END learning_rate=0.47484882617128654, max_depth=7, max_features=log2, n_estimators=234, subsample=0.19494483384724354; total time=   2.3s\n",
      "[CV] END learning_rate=0.47484882617128654, max_depth=7, max_features=log2, n_estimators=234, subsample=0.19494483384724354; total time=   2.3s\n",
      "[CV] END learning_rate=0.47484882617128654, max_depth=7, max_features=log2, n_estimators=234, subsample=0.19494483384724354; total time=   2.3s\n",
      "[CV] END learning_rate=0.47484882617128654, max_depth=7, max_features=log2, n_estimators=234, subsample=0.19494483384724354; total time=   2.3s\n",
      "[CV] END learning_rate=0.47484882617128654, max_depth=7, max_features=log2, n_estimators=234, subsample=0.19494483384724354; total time=   2.3s\n",
      "[CV] END learning_rate=0.23826728524145513, max_depth=6, max_features=log2, n_estimators=239, subsample=0.5854080177240857; total time=   3.1s\n",
      "[CV] END learning_rate=0.23826728524145513, max_depth=6, max_features=log2, n_estimators=239, subsample=0.5854080177240857; total time=   3.1s\n",
      "[CV] END learning_rate=0.23826728524145513, max_depth=6, max_features=log2, n_estimators=239, subsample=0.5854080177240857; total time=   3.1s\n",
      "[CV] END learning_rate=0.23826728524145513, max_depth=6, max_features=log2, n_estimators=239, subsample=0.5854080177240857; total time=   3.1s\n",
      "[CV] END learning_rate=0.23826728524145513, max_depth=6, max_features=log2, n_estimators=239, subsample=0.5854080177240857; total time=   3.1s\n",
      "[CV] END learning_rate=0.4137200775820313, max_depth=6, max_features=sqrt, n_estimators=280, subsample=0.9161455973911786; total time=   3.9s\n",
      "[CV] END learning_rate=0.4137200775820313, max_depth=6, max_features=sqrt, n_estimators=280, subsample=0.9161455973911786; total time=   3.9s\n",
      "[CV] END learning_rate=0.4137200775820313, max_depth=6, max_features=sqrt, n_estimators=280, subsample=0.9161455973911786; total time=   3.9s\n",
      "[CV] END learning_rate=0.4137200775820313, max_depth=6, max_features=sqrt, n_estimators=280, subsample=0.9161455973911786; total time=   3.9s\n",
      "[CV] END learning_rate=0.4137200775820313, max_depth=6, max_features=sqrt, n_estimators=280, subsample=0.9161455973911786; total time=   4.0s\n",
      "[CV] END learning_rate=0.14606612469231767, max_depth=5, max_features=log2, n_estimators=170, subsample=0.8362132893302437; total time=   2.0s\n",
      "[CV] END learning_rate=0.14606612469231767, max_depth=5, max_features=log2, n_estimators=170, subsample=0.8362132893302437; total time=   2.0s\n",
      "[CV] END learning_rate=0.14606612469231767, max_depth=5, max_features=log2, n_estimators=170, subsample=0.8362132893302437; total time=   2.0s\n",
      "[CV] END learning_rate=0.14606612469231767, max_depth=5, max_features=log2, n_estimators=170, subsample=0.8362132893302437; total time=   2.0s\n",
      "[CV] END learning_rate=0.14606612469231767, max_depth=5, max_features=log2, n_estimators=170, subsample=0.8362132893302437; total time=   2.0s\n",
      "[CV] END learning_rate=0.44036529162817173, max_depth=9, max_features=log2, n_estimators=249, subsample=0.5806804774378977; total time=   5.4s\n",
      "[CV] END learning_rate=0.44036529162817173, max_depth=9, max_features=log2, n_estimators=249, subsample=0.5806804774378977; total time=   5.6s\n",
      "[CV] END learning_rate=0.44036529162817173, max_depth=9, max_features=log2, n_estimators=249, subsample=0.5806804774378977; total time=   5.7s\n",
      "[CV] END learning_rate=0.44036529162817173, max_depth=9, max_features=log2, n_estimators=249, subsample=0.5806804774378977; total time=   5.5s\n",
      "[CV] END learning_rate=0.44036529162817173, max_depth=9, max_features=log2, n_estimators=249, subsample=0.5806804774378977; total time=   5.6s\n",
      "[CV] END learning_rate=0.2524149856794916, max_depth=3, max_features=None, n_estimators=283, subsample=0.40385365426326514; total time=   3.3s\n",
      "[CV] END learning_rate=0.2524149856794916, max_depth=3, max_features=None, n_estimators=283, subsample=0.40385365426326514; total time=   3.3s\n",
      "[CV] END learning_rate=0.2524149856794916, max_depth=3, max_features=None, n_estimators=283, subsample=0.40385365426326514; total time=   3.3s\n",
      "[CV] END learning_rate=0.2524149856794916, max_depth=3, max_features=None, n_estimators=283, subsample=0.40385365426326514; total time=   3.3s\n",
      "[CV] END learning_rate=0.2524149856794916, max_depth=3, max_features=None, n_estimators=283, subsample=0.40385365426326514; total time=   3.3s\n",
      "[CV] END learning_rate=0.4814548519562596, max_depth=8, max_features=sqrt, n_estimators=229, subsample=0.42726664214136456; total time=   3.5s\n",
      "[CV] END learning_rate=0.4814548519562596, max_depth=8, max_features=sqrt, n_estimators=229, subsample=0.42726664214136456; total time=   3.5s\n",
      "[CV] END learning_rate=0.4814548519562596, max_depth=8, max_features=sqrt, n_estimators=229, subsample=0.42726664214136456; total time=   3.6s\n",
      "[CV] END learning_rate=0.4814548519562596, max_depth=8, max_features=sqrt, n_estimators=229, subsample=0.42726664214136456; total time=   3.6s\n",
      "[CV] END learning_rate=0.4814548519562596, max_depth=8, max_features=sqrt, n_estimators=229, subsample=0.42726664214136456; total time=   3.6s\n",
      "[CV] END learning_rate=0.49589104136048034, max_depth=6, max_features=log2, n_estimators=88, subsample=0.547523655303147; total time=   1.1s\n",
      "[CV] END learning_rate=0.49589104136048034, max_depth=6, max_features=log2, n_estimators=88, subsample=0.547523655303147; total time=   1.1s\n",
      "[CV] END learning_rate=0.49589104136048034, max_depth=6, max_features=log2, n_estimators=88, subsample=0.547523655303147; total time=   1.1s\n",
      "[CV] END learning_rate=0.49589104136048034, max_depth=6, max_features=log2, n_estimators=88, subsample=0.547523655303147; total time=   1.1s\n",
      "[CV] END learning_rate=0.49589104136048034, max_depth=6, max_features=log2, n_estimators=88, subsample=0.547523655303147; total time=   1.1s\n",
      "[CV] END learning_rate=0.16043915490838484, max_depth=3, max_features=sqrt, n_estimators=236, subsample=0.6486079005819072; total time=   2.0s\n",
      "[CV] END learning_rate=0.16043915490838484, max_depth=3, max_features=sqrt, n_estimators=236, subsample=0.6486079005819072; total time=   2.0s\n",
      "[CV] END learning_rate=0.16043915490838484, max_depth=3, max_features=sqrt, n_estimators=236, subsample=0.6486079005819072; total time=   2.0s\n",
      "[CV] END learning_rate=0.16043915490838484, max_depth=3, max_features=sqrt, n_estimators=236, subsample=0.6486079005819072; total time=   2.0s\n",
      "[CV] END learning_rate=0.16043915490838484, max_depth=3, max_features=sqrt, n_estimators=236, subsample=0.6486079005819072; total time=   2.0s\n",
      "[CV] END learning_rate=0.26133951161443075, max_depth=8, max_features=None, n_estimators=278, subsample=0.4105641232240147; total time=   7.4s\n",
      "[CV] END learning_rate=0.26133951161443075, max_depth=8, max_features=None, n_estimators=278, subsample=0.4105641232240147; total time=   7.8s\n",
      "[CV] END learning_rate=0.26133951161443075, max_depth=8, max_features=None, n_estimators=278, subsample=0.4105641232240147; total time=   7.4s\n",
      "[CV] END learning_rate=0.26133951161443075, max_depth=8, max_features=None, n_estimators=278, subsample=0.4105641232240147; total time=   7.5s\n",
      "[CV] END learning_rate=0.26133951161443075, max_depth=8, max_features=None, n_estimators=278, subsample=0.4105641232240147; total time=   7.2s\n",
      "[CV] END learning_rate=0.3271756723506819, max_depth=8, max_features=log2, n_estimators=102, subsample=0.5405074842498068; total time=   1.9s\n",
      "[CV] END learning_rate=0.3271756723506819, max_depth=8, max_features=log2, n_estimators=102, subsample=0.5405074842498068; total time=   1.9s\n",
      "[CV] END learning_rate=0.3271756723506819, max_depth=8, max_features=log2, n_estimators=102, subsample=0.5405074842498068; total time=   1.8s\n",
      "[CV] END learning_rate=0.3271756723506819, max_depth=8, max_features=log2, n_estimators=102, subsample=0.5405074842498068; total time=   1.9s\n",
      "[CV] END learning_rate=0.3271756723506819, max_depth=8, max_features=log2, n_estimators=102, subsample=0.5405074842498068; total time=   1.9s\n",
      "[CV] END learning_rate=0.5028252270553003, max_depth=9, max_features=None, n_estimators=252, subsample=0.432689010455264; total time=   7.4s\n",
      "[CV] END learning_rate=0.5028252270553003, max_depth=9, max_features=None, n_estimators=252, subsample=0.432689010455264; total time=   7.6s\n",
      "[CV] END learning_rate=0.5028252270553003, max_depth=9, max_features=None, n_estimators=252, subsample=0.432689010455264; total time=   7.6s\n",
      "[CV] END learning_rate=0.5028252270553003, max_depth=9, max_features=None, n_estimators=252, subsample=0.432689010455264; total time=   7.6s\n",
      "[CV] END learning_rate=0.5028252270553003, max_depth=9, max_features=None, n_estimators=252, subsample=0.432689010455264; total time=   7.6s\n",
      "[CV] END learning_rate=0.13107996913871295, max_depth=8, max_features=sqrt, n_estimators=165, subsample=0.9850808268053587; total time=   3.5s\n",
      "[CV] END learning_rate=0.13107996913871295, max_depth=8, max_features=sqrt, n_estimators=165, subsample=0.9850808268053587; total time=   3.6s\n",
      "[CV] END learning_rate=0.13107996913871295, max_depth=8, max_features=sqrt, n_estimators=165, subsample=0.9850808268053587; total time=   3.6s\n",
      "[CV] END learning_rate=0.13107996913871295, max_depth=8, max_features=sqrt, n_estimators=165, subsample=0.9850808268053587; total time=   3.5s\n",
      "[CV] END learning_rate=0.13107996913871295, max_depth=8, max_features=sqrt, n_estimators=165, subsample=0.9850808268053587; total time=   3.5s\n",
      "[CV] END learning_rate=0.20941222122227654, max_depth=9, max_features=sqrt, n_estimators=250, subsample=0.3887020584745623; total time=   5.3s\n",
      "[CV] END learning_rate=0.20941222122227654, max_depth=9, max_features=sqrt, n_estimators=250, subsample=0.3887020584745623; total time=   5.5s\n",
      "[CV] END learning_rate=0.20941222122227654, max_depth=9, max_features=sqrt, n_estimators=250, subsample=0.3887020584745623; total time=   5.5s\n",
      "[CV] END learning_rate=0.20941222122227654, max_depth=9, max_features=sqrt, n_estimators=250, subsample=0.3887020584745623; total time=   5.5s\n",
      "[CV] END learning_rate=0.20941222122227654, max_depth=9, max_features=sqrt, n_estimators=250, subsample=0.3887020584745623; total time=   5.0s\n",
      "[CV] END learning_rate=0.10325925519992711, max_depth=7, max_features=None, n_estimators=197, subsample=0.3933630146816963; total time=   4.5s\n",
      "[CV] END learning_rate=0.10325925519992711, max_depth=7, max_features=None, n_estimators=197, subsample=0.3933630146816963; total time=   4.4s\n",
      "[CV] END learning_rate=0.10325925519992711, max_depth=7, max_features=None, n_estimators=197, subsample=0.3933630146816963; total time=   4.4s\n",
      "[CV] END learning_rate=0.10325925519992711, max_depth=7, max_features=None, n_estimators=197, subsample=0.3933630146816963; total time=   4.5s\n",
      "[CV] END learning_rate=0.10325925519992711, max_depth=7, max_features=None, n_estimators=197, subsample=0.3933630146816963; total time=   4.4s\n",
      "[CV] END learning_rate=0.12012052378277414, max_depth=4, max_features=None, n_estimators=196, subsample=0.4137993885625565; total time=   2.8s\n",
      "[CV] END learning_rate=0.12012052378277414, max_depth=4, max_features=None, n_estimators=196, subsample=0.4137993885625565; total time=   2.8s\n",
      "[CV] END learning_rate=0.12012052378277414, max_depth=4, max_features=None, n_estimators=196, subsample=0.4137993885625565; total time=   2.8s\n",
      "[CV] END learning_rate=0.12012052378277414, max_depth=4, max_features=None, n_estimators=196, subsample=0.4137993885625565; total time=   2.8s\n",
      "[CV] END learning_rate=0.12012052378277414, max_depth=4, max_features=None, n_estimators=196, subsample=0.4137993885625565; total time=   2.8s\n",
      "[CV] END learning_rate=0.05808827554571038, max_depth=3, max_features=sqrt, n_estimators=217, subsample=0.44806181167048365; total time=   1.7s\n",
      "[CV] END learning_rate=0.05808827554571038, max_depth=3, max_features=sqrt, n_estimators=217, subsample=0.44806181167048365; total time=   1.7s\n",
      "[CV] END learning_rate=0.05808827554571038, max_depth=3, max_features=sqrt, n_estimators=217, subsample=0.44806181167048365; total time=   1.7s\n",
      "[CV] END learning_rate=0.05808827554571038, max_depth=3, max_features=sqrt, n_estimators=217, subsample=0.44806181167048365; total time=   1.8s\n",
      "[CV] END learning_rate=0.05808827554571038, max_depth=3, max_features=sqrt, n_estimators=217, subsample=0.44806181167048365; total time=   1.7s\n",
      "[CV] END learning_rate=0.47836499436836727, max_depth=3, max_features=None, n_estimators=269, subsample=0.7616945073166949; total time=   4.4s\n",
      "[CV] END learning_rate=0.47836499436836727, max_depth=3, max_features=None, n_estimators=269, subsample=0.7616945073166949; total time=   4.4s\n",
      "[CV] END learning_rate=0.47836499436836727, max_depth=3, max_features=None, n_estimators=269, subsample=0.7616945073166949; total time=   4.4s\n",
      "[CV] END learning_rate=0.47836499436836727, max_depth=3, max_features=None, n_estimators=269, subsample=0.7616945073166949; total time=   4.4s\n",
      "[CV] END learning_rate=0.47836499436836727, max_depth=3, max_features=None, n_estimators=269, subsample=0.7616945073166949; total time=   4.4s\n",
      "[CV] END learning_rate=0.11453581036885684, max_depth=9, max_features=log2, n_estimators=91, subsample=0.33214746494364006; total time=   1.8s\n",
      "[CV] END learning_rate=0.11453581036885684, max_depth=9, max_features=log2, n_estimators=91, subsample=0.33214746494364006; total time=   1.7s\n",
      "[CV] END learning_rate=0.11453581036885684, max_depth=9, max_features=log2, n_estimators=91, subsample=0.33214746494364006; total time=   1.8s\n",
      "[CV] END learning_rate=0.11453581036885684, max_depth=9, max_features=log2, n_estimators=91, subsample=0.33214746494364006; total time=   1.8s\n",
      "[CV] END learning_rate=0.11453581036885684, max_depth=9, max_features=log2, n_estimators=91, subsample=0.33214746494364006; total time=   1.7s\n",
      "[CV] END learning_rate=0.33999202301708953, max_depth=4, max_features=sqrt, n_estimators=293, subsample=0.5766855205204059; total time=   2.8s\n",
      "[CV] END learning_rate=0.33999202301708953, max_depth=4, max_features=sqrt, n_estimators=293, subsample=0.5766855205204059; total time=   2.8s\n",
      "[CV] END learning_rate=0.33999202301708953, max_depth=4, max_features=sqrt, n_estimators=293, subsample=0.5766855205204059; total time=   2.8s\n",
      "[CV] END learning_rate=0.33999202301708953, max_depth=4, max_features=sqrt, n_estimators=293, subsample=0.5766855205204059; total time=   2.8s\n",
      "[CV] END learning_rate=0.33999202301708953, max_depth=4, max_features=sqrt, n_estimators=293, subsample=0.5766855205204059; total time=   2.8s\n",
      "Best parameters for GradientBoost: {'learning_rate': 0.02153121252070788, 'max_depth': 5, 'max_features': None, 'n_estimators': 219, 'subsample': 0.1419990968922539}\n",
      "Best score for GradientBoost: 0.728287874220811\n"
     ]
    }
   ],
   "source": [
    "# Create the Gradientboost classifier and perform RandomizedSearchCV\n",
    "gb = GradientBoostingClassifier(random_state=42)\n",
    "gb_random = RandomizedSearchCV(estimator=gb, param_distributions=gb_param_dist, n_iter=50,\n",
    "                               cv=5, random_state=42, n_jobs=-1, verbose=2)\n",
    "gb_random.fit(X_train, y_train)\n",
    "print(\"Best parameters for GradientBoost:\", gb_random.best_params_)\n",
    "print(\"Best score for GradientBoost:\", gb_random.best_score_)"
   ]
  },
  {
   "cell_type": "code",
   "execution_count": 17,
   "metadata": {
    "cell_id": "2541ae1895fe4ed081766138343f64f8",
    "deepnote_cell_type": "code",
    "deepnote_to_be_reexecuted": false,
    "execution_millis": 17491,
    "execution_start": 1677472615347,
    "source_hash": "b29c4e50",
    "tags": []
   },
   "outputs": [
    {
     "name": "stdout",
     "output_type": "stream",
     "text": [
      "GradientBoost Classifier\n",
      "Accuracy on validation set: 72.72%\n",
      "Accuracy on test set: 73.01%\n",
      "Cross-validation score: 72.79% (+/- 1.15%)\n",
      "Classification report:\n",
      "               precision    recall  f1-score   support\n",
      "\n",
      "           0       0.72      0.78      0.75      6159\n",
      "           1       0.74      0.68      0.71      5870\n",
      "\n",
      "    accuracy                           0.73     12029\n",
      "   macro avg       0.73      0.73      0.73     12029\n",
      "weighted avg       0.73      0.73      0.73     12029\n",
      "\n"
     ]
    }
   ],
   "source": [
    "# # Train GradientBoosting Classifier with the best hyperparameters\n",
    "# gradboost_best = GradientBoostingClassifier(learning_rate= 0.02153121252070788, max_depth= 5, max_features= None, n_estimators= 219, subsample= 0.1419990968922539, random_state=42)\n",
    "# gradboost_best.fit(X_train, y_train)\n",
    "\n",
    "# # Evaluate the model on validation set\n",
    "# y_pred = gradboost_best.predict(X_val)\n",
    "# acc_val = accuracy_score(y_val, y_pred)\n",
    "\n",
    "# # Evaluate the model on test set\n",
    "# y_pred = gradboost_best.predict(X_test)\n",
    "# acc_test = accuracy_score(y_test, y_pred)\n",
    "\n",
    "# # Evaluate the model using cross-validation\n",
    "# cv_scores = cross_val_score(gradboost_best, X_train_val, y_train_val, cv=5)\n",
    "\n",
    "# # Print the performance metrics\n",
    "# print(\"GradientBoost Classifier\")\n",
    "# print(\"Accuracy on validation set: {:.2f}%\".format(acc_val*100))\n",
    "# print(\"Accuracy on test set: {:.2f}%\".format(acc_test*100))\n",
    "# print(\"Cross-validation score: {:.2f}% (+/- {:.2f}%)\".format(cv_scores.mean()*100, cv_scores.std()*2*100))\n",
    "# print(\"Classification report:\\n\", classification_report(y_test, y_pred))"
   ]
  },
  {
   "cell_type": "code",
   "execution_count": 18,
   "metadata": {
    "cell_id": "f0fddb3577e44331be427cc2e68b1f11",
    "deepnote_cell_type": "code",
    "deepnote_to_be_reexecuted": false,
    "execution_millis": 239,
    "execution_start": 1677472632881,
    "source_hash": "eb837ee8",
    "tags": []
   },
   "outputs": [
    {
     "data": {
      "image/png": "[encoded data removed]",
      "text/plain": [
       "<Figure size 640x480 with 2 Axes>"
      ]
     },
     "metadata": {
      "image/png": {
       "height": 432,
       "width": 515
      }
     },
     "output_type": "display_data"
    }
   ],
   "source": [
    "plot_confusion_matrix(gradboost_best, X_test, y_test);"
   ]
  },
  {
   "cell_type": "markdown",
   "metadata": {
    "cell_id": "a070fa79444045878a69638fb6d2a2c8",
    "deepnote_cell_type": "markdown",
    "tags": []
   },
   "source": [
    "In this code, we define parameter distributions for `AdaBoostClassifier` and `GradientBoostingClassifier` using the `randint` and `uniform` functions from the scipy.stats module. Then, we create the classifiers and perform RandomizedSearchCV using the `RandomizedSearchCV` function from scikit-learn. Finally, we print the best parameters and score for each classifier. You can adjust the parameter distributions and other settings as needed for your specific use case."
   ]
  },
  {
   "cell_type": "code",
   "execution_count": 20,
   "metadata": {
    "cell_id": "e413b6cd456347518c247a35d0593513",
    "deepnote_cell_type": "code",
    "deepnote_to_be_reexecuted": false,
    "execution_millis": 1,
    "execution_start": 1677353004711,
    "source_hash": "ee3572ef",
    "tags": []
   },
   "outputs": [],
   "source": [
    "from sklearn.model_selection import GridSearchCV\n",
    "\n",
    "# Define parameter distributions for GridSearchCV\n",
    "\n",
    "# Adaboost Classifier\n",
    "ada_params = {\n",
    "    'n_estimators': [50, 100, 150],\n",
    "    'learning_rate': [0.01, 0.1, 1],\n",
    "    'algorithm': ['SAMME', 'SAMME.R']\n",
    "}\n",
    "\n",
    "# Gradientboost Classifier\n",
    "gb_params = {\n",
    "    'n_estimators': [50, 100, 150],\n",
    "    'learning_rate': [0.01, 0.1, 1],\n",
    "    'max_depth': [3, 5, 7],\n",
    "    'max_features': ['sqrt', 'log2', None],\n",
    "    'min_samples_split': [2, 5, 10]\n",
    "}"
   ]
  },
  {
   "cell_type": "code",
   "execution_count": 21,
   "metadata": {
    "cell_id": "a0e1cb2f5d524f00a3d1a5e226d39e8e",
    "deepnote_cell_type": "code",
    "deepnote_to_be_reexecuted": false,
    "execution_millis": 94699,
    "execution_start": 1677353004715,
    "source_hash": "3399b100",
    "tags": []
   },
   "outputs": [
    {
     "name": "stdout",
     "output_type": "stream",
     "text": [
      "Best Adaboost params: {'algorithm': 'SAMME.R', 'learning_rate': 1, 'n_estimators': 100}\n",
      "Best Adaboost accuracy: 0.7229949966123597\n"
     ]
    }
   ],
   "source": [
    "ada_clf = AdaBoostClassifier(random_state=42)\n",
    "\n",
    "ada_grid = GridSearchCV(ada_clf, param_grid=ada_params, cv=5, n_jobs=-1, scoring='accuracy')\n",
    "ada_grid.fit(X_train, y_train)\n",
    "\n",
    "print(\"Best Adaboost params:\", ada_grid.best_params_)\n",
    "print(\"Best Adaboost accuracy:\", ada_grid.best_score_)"
   ]
  },
  {
   "cell_type": "code",
   "execution_count": 19,
   "metadata": {
    "cell_id": "cdef5de6a7994b6f9173f80ba9d37b51",
    "deepnote_cell_type": "code",
    "deepnote_to_be_reexecuted": false,
    "execution_millis": 9790,
    "execution_start": 1677472633123,
    "source_hash": "9b8244a2",
    "tags": []
   },
   "outputs": [
    {
     "name": "stdout",
     "output_type": "stream",
     "text": [
      "AdaBoost Classifier\n",
      "Accuracy on validation set: 72.57%\n",
      "Accuracy on test set: 72.52%\n",
      "Cross-validation score: 72.26% (+/- 1.22%)\n",
      "Classification report:\n",
      "               precision    recall  f1-score   support\n",
      "\n",
      "           0       0.70      0.81      0.75      6159\n",
      "           1       0.76      0.63      0.69      5870\n",
      "\n",
      "    accuracy                           0.73     12029\n",
      "   macro avg       0.73      0.72      0.72     12029\n",
      "weighted avg       0.73      0.73      0.72     12029\n",
      "\n"
     ]
    }
   ],
   "source": [
    "# # Train Adaboost Classifier with the best hyperparameters\n",
    "# ada_grid_best = AdaBoostClassifier(algorithm='SAMME.R', learning_rate=1, n_estimators=100, random_state=42)\n",
    "# ada_grid_best.fit(X_train, y_train)\n",
    "\n",
    "# # Evaluate the model on validation set\n",
    "# y_pred = ada_grid_best.predict(X_val)\n",
    "# acc_val = accuracy_score(y_val, y_pred)\n",
    "\n",
    "# # Evaluate the model on test set\n",
    "# y_pred = ada_grid_best.predict(X_test)\n",
    "# acc_test = accuracy_score(y_test, y_pred)\n",
    "\n",
    "# # Evaluate the model using cross-validation\n",
    "# cv_scores = cross_val_score(ada_grid_best, X_train_val, y_train_val, cv=5)\n",
    "\n",
    "# # Print the performance metrics\n",
    "# print(\"AdaBoost Classifier\")\n",
    "# print(\"Accuracy on validation set: {:.2f}%\".format(acc_val*100))\n",
    "# print(\"Accuracy on test set: {:.2f}%\".format(acc_test*100))\n",
    "# print(\"Cross-validation score: {:.2f}% (+/- {:.2f}%)\".format(cv_scores.mean()*100, cv_scores.std()*2*100))\n",
    "# print(\"Classification report:\\n\", classification_report(y_test, y_pred))"
   ]
  },
  {
   "cell_type": "code",
   "execution_count": 20,
   "metadata": {
    "cell_id": "7d87996185e94108abf1ab4702a91d09",
    "deepnote_cell_type": "code",
    "deepnote_to_be_reexecuted": false,
    "execution_millis": 287,
    "execution_start": 1677472642956,
    "source_hash": "6408e47a",
    "tags": []
   },
   "outputs": [
    {
     "data": {
      "image/png": "[encoded data removed]",
      "text/plain": [
       "<Figure size 640x480 with 2 Axes>"
      ]
     },
     "metadata": {
      "image/png": {
       "height": 438,
       "width": 515
      }
     },
     "output_type": "display_data"
    }
   ],
   "source": [
    "plot_confusion_matrix(ada_grid_best, X_test, y_test);"
   ]
  },
  {
   "cell_type": "code",
   "execution_count": 24,
   "metadata": {
    "cell_id": "9b068a2172d04159a814e5b7d23ece09",
    "deepnote_cell_type": "code",
    "deepnote_to_be_reexecuted": false,
    "execution_millis": 2165937,
    "execution_start": 1677353099414,
    "source_hash": "fccedcc3",
    "tags": []
   },
   "outputs": [
    {
     "name": "stdout",
     "output_type": "stream",
     "text": [
      "Best GradientBoosting params: {'learning_rate': 0.1, 'max_depth': 5, 'max_features': 'sqrt', 'min_samples_split': 10, 'n_estimators': 150}\n",
      "Best GradientBoosting accuracy: 0.7288975919015757\n"
     ]
    }
   ],
   "source": [
    "gb_clf = GradientBoostingClassifier(random_state=42)\n",
    "\n",
    "gb_grid = GridSearchCV(gb_clf, param_grid=gb_params, cv=5, n_jobs=-1, scoring='accuracy')\n",
    "gb_grid.fit(X_train, y_train)\n",
    "\n",
    "print(\"Best GradientBoosting params:\", gb_grid.best_params_)\n",
    "print(\"Best GradientBoosting accuracy:\", gb_grid.best_score_)"
   ]
  },
  {
   "cell_type": "code",
   "execution_count": 21,
   "metadata": {
    "cell_id": "39be3890bf644738a7fa104d05f5bd7b",
    "deepnote_cell_type": "code",
    "deepnote_to_be_reexecuted": false,
    "execution_millis": 13665,
    "execution_start": 1677472643244,
    "source_hash": "2e5b693f",
    "tags": []
   },
   "outputs": [
    {
     "name": "stdout",
     "output_type": "stream",
     "text": [
      "GradientBoosting Classifier \n",
      "Accuracy on validation set: 72.41%\n",
      "Accuracy on test set: 72.89%\n",
      "Cross-validation score: 72.79% (+/- 1.05%)\n",
      "Classification report:\n",
      "               precision    recall  f1-score   support\n",
      "\n",
      "           0       0.72      0.78      0.75      6159\n",
      "           1       0.75      0.67      0.71      5870\n",
      "\n",
      "    accuracy                           0.73     12029\n",
      "   macro avg       0.73      0.73      0.73     12029\n",
      "weighted avg       0.73      0.73      0.73     12029\n",
      "\n"
     ]
    }
   ],
   "source": [
    "# # Train GradientBoosting Classifier with the best hyperparameters\n",
    "# gradboost_grid_best = GradientBoostingClassifier(learning_rate= 0.1, max_depth= 5, max_features= 'sqrt', min_samples_split = 10, n_estimators=150, random_state=42)\n",
    "# gradboost_grid_best.fit(X_train, y_train)\n",
    "\n",
    "# # Evaluate the model on validation set\n",
    "# y_pred = gradboost_grid_best.predict(X_val)\n",
    "# acc_val = accuracy_score(y_val, y_pred)\n",
    "\n",
    "# # Evaluate the model on test set\n",
    "# y_pred = gradboost_grid_best.predict(X_test)\n",
    "# acc_test = accuracy_score(y_test, y_pred)\n",
    "\n",
    "# # Evaluate the model using cross-validation\n",
    "# cv_scores = cross_val_score(gradboost_grid_best, X_train_val, y_train_val, cv=5)\n",
    "\n",
    "# # Print the performance metrics\n",
    "# print(\"GradientBoosting Classifier \")\n",
    "# print(\"Accuracy on validation set: {:.2f}%\".format(acc_val*100))\n",
    "# print(\"Accuracy on test set: {:.2f}%\".format(acc_test*100))\n",
    "# print(\"Cross-validation score: {:.2f}% (+/- {:.2f}%)\".format(cv_scores.mean()*100, cv_scores.std()*2*100))\n",
    "# print(\"Classification report:\\n\", classification_report(y_test, y_pred))"
   ]
  },
  {
   "cell_type": "code",
   "execution_count": 22,
   "metadata": {
    "cell_id": "99a77f589a86441389c2f128c9be3800",
    "deepnote_cell_type": "code",
    "deepnote_to_be_reexecuted": false,
    "execution_millis": 295,
    "execution_start": 1677472656911,
    "source_hash": "e6980902",
    "tags": []
   },
   "outputs": [
    {
     "data": {
      "image/png": "[encoded data removed]",
      "text/plain": [
       "<Figure size 640x480 with 2 Axes>"
      ]
     },
     "metadata": {
      "image/png": {
       "height": 432,
       "width": 515
      }
     },
     "output_type": "display_data"
    }
   ],
   "source": [
    "# plot_confusion_matrix(gradboost_grid_best, X_test, y_test);"
   ]
  },
  {
   "cell_type": "markdown",
   "metadata": {
    "cell_id": "352278ad692d4b2eb35514c5b25f981a",
    "deepnote_cell_type": "markdown",
    "tags": []
   },
   "source": [
    "This code defines a range of hyperparameters for both `Adaboost` and `GradientBoosting` classifiers and performs a grid search with cross-validation to find the best set of hyperparameters that maximize accuracy. The `GridSearchCV` object is defined with `cv=5` to use 5-fold cross-validation and `n_jobs=-1` to use all available CPU cores for parallel processing. The scoring parameter is set to `'accuracy'` to optimize for accuracy.\n",
    "\n",
    "After running the code, the best set of hyperparameters and the corresponding `accuracy` score are printed for each model."
   ]
  },
  {
   "cell_type": "markdown",
   "metadata": {
    "cell_id": "2638ac837bb746dbb89a749946ab36c8",
    "deepnote_cell_type": "text-cell-h3",
    "formattedRanges": [],
    "is_collapsed": false,
    "jp-MarkdownHeadingCollapsed": true,
    "tags": []
   },
   "source": [
    "## Implementing Voting-Classifier"
   ]
  },
  {
   "cell_type": "code",
   "execution_count": 24,
   "metadata": {
    "cell_id": "9e297a386e1548a8a85316c7d4393570",
    "deepnote_cell_type": "code",
    "deepnote_to_be_reexecuted": false,
    "execution_millis": 38801,
    "execution_start": 1677472675285,
    "source_hash": "efb78a51",
    "tags": []
   },
   "outputs": [
    {
     "name": "stdout",
     "output_type": "stream",
     "text": [
      "Voting Classifier \n",
      "Accuracy on validation set: 72.57%\n",
      "Accuracy on test set: 72.67%\n",
      "Cross-validation score: 72.33% (+/- 1.08%)\n",
      "Classification report:\n",
      "               precision    recall  f1-score   support\n",
      "\n",
      "           0       0.72      0.78      0.75      6159\n",
      "           1       0.75      0.67      0.71      5870\n",
      "\n",
      "    accuracy                           0.73     12029\n",
      "   macro avg       0.73      0.73      0.73     12029\n",
      "weighted avg       0.73      0.73      0.73     12029\n",
      "\n"
     ]
    }
   ],
   "source": [
    "# from sklearn.ensemble import VotingClassifier\n",
    "\n",
    "# vc = VotingClassifier(estimators=[('AdaBoost Classifier Best', ada_best),\n",
    "#                                 ('GradientBoost Classifier Best', gradboost_best)], \n",
    "#                                 voting='hard')\n",
    "# vc.fit(X_train,y_train)\n",
    "\n",
    "# # Evaluate the model on validation set\n",
    "# y_val_pred = vc.predict(X_val)\n",
    "# acc_val = accuracy_score(y_val, y_val_pred)\n",
    "# p_val, r_val, f1_val, _ = precision_recall_fscore_support(y_val, y_val_pred, average='weighted')\n",
    "\n",
    "# # Evaluate the model on test set\n",
    "# y_test_pred = vc.predict(X_test)\n",
    "# acc_test = accuracy_score(y_test, y_test_pred)\n",
    "# p_test, r_test, f1_test, _ = precision_recall_fscore_support(y_test, y_test_pred, average='weighted')\n",
    "\n",
    "# # Evaluate the model using cross-validation\n",
    "# cv_scores = cross_val_score(vc, X_train_val, y_train_val, cv=5)\n",
    "\n",
    "# # Append the results to the DataFrame\n",
    "# results_df = results_df.append({\n",
    "#     'Model': 'Voting Classifier',\n",
    "#     'Accuracy': f'Val: {acc_val:.3f}, Test: {acc_test:.3f}',\n",
    "#     'Precision': f'Val: {p_val:.3f}, Test: {p_test:.3f}',\n",
    "#     'Recall': f'Val: {r_val:.3f}, Test: {r_test:.3f}',\n",
    "#     'F1-Score': f'Val: {f1_val:.3f}, Test: {f1_test:.3f}'\n",
    "# }, ignore_index=True)\n",
    "\n",
    "# # Print the performance metrics\n",
    "# print(\"Voting Classifier \")\n",
    "# print(\"Accuracy on validation set: {:.2f}%\".format(acc_val*100))\n",
    "# print(\"Accuracy on test set: {:.2f}%\".format(acc_test*100))\n",
    "# print(\"Cross-validation score: {:.2f}% (+/- {:.2f}%)\".format(cv_scores.mean()*100, cv_scores.std()*2*100))\n",
    "# print(\"Classification report:\\n\", classification_report(y_test, y_pred))"
   ]
  },
  {
   "cell_type": "code",
   "execution_count": 25,
   "metadata": {
    "cell_id": "f1daa5cc2b7d47be8110ac89ceaacd86",
    "deepnote_cell_type": "code",
    "deepnote_to_be_reexecuted": false,
    "execution_millis": 601,
    "execution_start": 1677472714086,
    "source_hash": "190b90d8",
    "tags": []
   },
   "outputs": [
    {
     "data": {
      "image/png": "[encoded data removed]",
      "text/plain": [
       "<Figure size 640x480 with 2 Axes>"
      ]
     },
     "metadata": {
      "image/png": {
       "height": 432,
       "width": 515
      }
     },
     "output_type": "display_data"
    }
   ],
   "source": [
    "# plot_confusion_matrix(vc, X_test, y_test);"
   ]
  },
  {
   "cell_type": "code",
   "execution_count": 26,
   "metadata": {
    "cell_id": "78ab760965984d1c9c4c43a6eee2d905",
    "deepnote_cell_type": "code",
    "deepnote_to_be_reexecuted": false,
    "execution_millis": 4,
    "execution_start": 1677472714701,
    "source_hash": "5f5f1941",
    "tags": []
   },
   "outputs": [
    {
     "data": {
      "application/vnd.deepnote.dataframe.v3+json": {
       "column_count": 5,
       "columns": [
        {
         "dtype": "object",
         "name": "Model",
         "stats": {
          "categories": [
           {
            "count": 1,
            "name": "Voting Classifier"
           },
           {
            "count": 1,
            "name": "AdaBoost Classifier Best"
           },
           {
            "count": 7,
            "name": "7 others"
           }
          ],
          "nan_count": 0,
          "unique_count": 9
         }
        },
        {
         "dtype": "object",
         "name": "Accuracy",
         "stats": {
          "categories": [
           {
            "count": 2,
            "name": "Val: 0.726, Test: 0.725"
           },
           {
            "count": 1,
            "name": "Val: 0.726, Test: 0.727"
           },
           {
            "count": 6,
            "name": "6 others"
           }
          ],
          "nan_count": 0,
          "unique_count": 8
         }
        },
        {
         "dtype": "object",
         "name": "Precision",
         "stats": {
          "categories": [
           {
            "count": 1,
            "name": "Val: 0.731, Test: 0.734"
           },
           {
            "count": 1,
            "name": "Val: 0.731, Test: 0.732"
           },
           {
            "count": 7,
            "name": "7 others"
           }
          ],
          "nan_count": 0,
          "unique_count": 9
         }
        },
        {
         "dtype": "object",
         "name": "Recall",
         "stats": {
          "categories": [
           {
            "count": 2,
            "name": "Val: 0.726, Test: 0.725"
           },
           {
            "count": 1,
            "name": "Val: 0.726, Test: 0.727"
           },
           {
            "count": 6,
            "name": "6 others"
           }
          ],
          "nan_count": 0,
          "unique_count": 8
         }
        },
        {
         "dtype": "object",
         "name": "F1-Score",
         "stats": {
          "categories": [
           {
            "count": 2,
            "name": "Val: 0.726, Test: 0.729"
           },
           {
            "count": 1,
            "name": "Val: 0.723, Test: 0.724"
           },
           {
            "count": 6,
            "name": "6 others"
           }
          ],
          "nan_count": 0,
          "unique_count": 8
         }
        },
        {
         "dtype": "int64",
         "name": "_deepnote_index_column"
        }
       ],
       "row_count": 9,
       "rows": [
        {
         "Accuracy": "Val: 0.726, Test: 0.727",
         "F1-Score": "Val: 0.723, Test: 0.724",
         "Model": "Voting Classifier",
         "Precision": "Val: 0.731, Test: 0.734",
         "Recall": "Val: 0.726, Test: 0.727",
         "_deepnote_index_column": "8"
        },
        {
         "Accuracy": "Val: 0.726, Test: 0.726",
         "F1-Score": "Val: 0.724, Test: 0.724",
         "Model": "AdaBoost Classifier Best",
         "Precision": "Val: 0.731, Test: 0.732",
         "Recall": "Val: 0.726, Test: 0.726",
         "_deepnote_index_column": "4"
        },
        {
         "Accuracy": "Val: 0.726, Test: 0.725",
         "F1-Score": "Val: 0.724, Test: 0.722",
         "Model": "Adaboost Classifier",
         "Precision": "Val: 0.730, Test: 0.730",
         "Recall": "Val: 0.726, Test: 0.725",
         "_deepnote_index_column": "1"
        },
        {
         "Accuracy": "Val: 0.726, Test: 0.725",
         "F1-Score": "Val: 0.723, Test: 0.723",
         "Model": "AdaBoost Classifier GridSearch Best",
         "Precision": "Val: 0.729, Test: 0.730",
         "Recall": "Val: 0.726, Test: 0.725",
         "_deepnote_index_column": "6"
        },
        {
         "Accuracy": "Val: 0.727, Test: 0.730",
         "F1-Score": "Val: 0.726, Test: 0.729",
         "Model": "GradientBoost Classifier Best",
         "Precision": "Val: 0.728, Test: 0.731",
         "Recall": "Val: 0.727, Test: 0.730",
         "_deepnote_index_column": "5"
        },
        {
         "Accuracy": "Val: 0.727, Test: 0.729",
         "F1-Score": "Val: 0.726, Test: 0.729",
         "Model": "Gradientboost Classifier",
         "Precision": "Val: 0.727, Test: 0.730",
         "Recall": "Val: 0.727, Test: 0.729",
         "_deepnote_index_column": "2"
        },
        {
         "Accuracy": "Val: 0.724, Test: 0.723",
         "F1-Score": "Val: 0.722, Test: 0.721",
         "Model": "Logistic Regression",
         "Precision": "Val: 0.726, Test: 0.725",
         "Recall": "Val: 0.724, Test: 0.723",
         "_deepnote_index_column": "0"
        },
        {
         "Accuracy": "Val: 0.724, Test: 0.729",
         "F1-Score": "Val: 0.723, Test: 0.728",
         "Model": "GradientBoost Classifier GridSearch Best",
         "Precision": "Val: 0.725, Test: 0.730",
         "Recall": "Val: 0.724, Test: 0.729",
         "_deepnote_index_column": "7"
        },
        {
         "Accuracy": "Val: 0.699, Test: 0.703",
         "F1-Score": "Val: 0.699, Test: 0.703",
         "Model": "Random Forest Classifier",
         "Precision": "Val: 0.699, Test: 0.703",
         "Recall": "Val: 0.699, Test: 0.703",
         "_deepnote_index_column": "3"
        }
       ]
      },
      "text/html": [
       "<div>\n",
       "<style scoped>\n",
       "    .dataframe tbody tr th:only-of-type {\n",
       "        vertical-align: middle;\n",
       "    }\n",
       "\n",
       "    .dataframe tbody tr th {\n",
       "        vertical-align: top;\n",
       "    }\n",
       "\n",
       "    .dataframe thead th {\n",
       "        text-align: right;\n",
       "    }\n",
       "</style>\n",
       "<table border=\"1\" class=\"dataframe\">\n",
       "  <thead>\n",
       "    <tr style=\"text-align: right;\">\n",
       "      <th></th>\n",
       "      <th>Model</th>\n",
       "      <th>Accuracy</th>\n",
       "      <th>Precision</th>\n",
       "      <th>Recall</th>\n",
       "      <th>F1-Score</th>\n",
       "    </tr>\n",
       "  </thead>\n",
       "  <tbody>\n",
       "    <tr>\n",
       "      <th>8</th>\n",
       "      <td>Voting Classifier</td>\n",
       "      <td>Val: 0.726, Test: 0.727</td>\n",
       "      <td>Val: 0.731, Test: 0.734</td>\n",
       "      <td>Val: 0.726, Test: 0.727</td>\n",
       "      <td>Val: 0.723, Test: 0.724</td>\n",
       "    </tr>\n",
       "    <tr>\n",
       "      <th>4</th>\n",
       "      <td>AdaBoost Classifier Best</td>\n",
       "      <td>Val: 0.726, Test: 0.726</td>\n",
       "      <td>Val: 0.731, Test: 0.732</td>\n",
       "      <td>Val: 0.726, Test: 0.726</td>\n",
       "      <td>Val: 0.724, Test: 0.724</td>\n",
       "    </tr>\n",
       "    <tr>\n",
       "      <th>1</th>\n",
       "      <td>Adaboost Classifier</td>\n",
       "      <td>Val: 0.726, Test: 0.725</td>\n",
       "      <td>Val: 0.730, Test: 0.730</td>\n",
       "      <td>Val: 0.726, Test: 0.725</td>\n",
       "      <td>Val: 0.724, Test: 0.722</td>\n",
       "    </tr>\n",
       "    <tr>\n",
       "      <th>6</th>\n",
       "      <td>AdaBoost Classifier GridSearch Best</td>\n",
       "      <td>Val: 0.726, Test: 0.725</td>\n",
       "      <td>Val: 0.729, Test: 0.730</td>\n",
       "      <td>Val: 0.726, Test: 0.725</td>\n",
       "      <td>Val: 0.723, Test: 0.723</td>\n",
       "    </tr>\n",
       "    <tr>\n",
       "      <th>5</th>\n",
       "      <td>GradientBoost Classifier Best</td>\n",
       "      <td>Val: 0.727, Test: 0.730</td>\n",
       "      <td>Val: 0.728, Test: 0.731</td>\n",
       "      <td>Val: 0.727, Test: 0.730</td>\n",
       "      <td>Val: 0.726, Test: 0.729</td>\n",
       "    </tr>\n",
       "    <tr>\n",
       "      <th>2</th>\n",
       "      <td>Gradientboost Classifier</td>\n",
       "      <td>Val: 0.727, Test: 0.729</td>\n",
       "      <td>Val: 0.727, Test: 0.730</td>\n",
       "      <td>Val: 0.727, Test: 0.729</td>\n",
       "      <td>Val: 0.726, Test: 0.729</td>\n",
       "    </tr>\n",
       "    <tr>\n",
       "      <th>0</th>\n",
       "      <td>Logistic Regression</td>\n",
       "      <td>Val: 0.724, Test: 0.723</td>\n",
       "      <td>Val: 0.726, Test: 0.725</td>\n",
       "      <td>Val: 0.724, Test: 0.723</td>\n",
       "      <td>Val: 0.722, Test: 0.721</td>\n",
       "    </tr>\n",
       "    <tr>\n",
       "      <th>7</th>\n",
       "      <td>GradientBoost Classifier GridSearch Best</td>\n",
       "      <td>Val: 0.724, Test: 0.729</td>\n",
       "      <td>Val: 0.725, Test: 0.730</td>\n",
       "      <td>Val: 0.724, Test: 0.729</td>\n",
       "      <td>Val: 0.723, Test: 0.728</td>\n",
       "    </tr>\n",
       "    <tr>\n",
       "      <th>3</th>\n",
       "      <td>Random Forest Classifier</td>\n",
       "      <td>Val: 0.699, Test: 0.703</td>\n",
       "      <td>Val: 0.699, Test: 0.703</td>\n",
       "      <td>Val: 0.699, Test: 0.703</td>\n",
       "      <td>Val: 0.699, Test: 0.703</td>\n",
       "    </tr>\n",
       "  </tbody>\n",
       "</table>\n",
       "</div>"
      ],
      "text/plain": [
       "                                      Model                 Accuracy  \\\n",
       "8                         Voting Classifier  Val: 0.726, Test: 0.727   \n",
       "4                  AdaBoost Classifier Best  Val: 0.726, Test: 0.726   \n",
       "1                       Adaboost Classifier  Val: 0.726, Test: 0.725   \n",
       "6       AdaBoost Classifier GridSearch Best  Val: 0.726, Test: 0.725   \n",
       "5             GradientBoost Classifier Best  Val: 0.727, Test: 0.730   \n",
       "2                  Gradientboost Classifier  Val: 0.727, Test: 0.729   \n",
       "0                       Logistic Regression  Val: 0.724, Test: 0.723   \n",
       "7  GradientBoost Classifier GridSearch Best  Val: 0.724, Test: 0.729   \n",
       "3                  Random Forest Classifier  Val: 0.699, Test: 0.703   \n",
       "\n",
       "                 Precision                   Recall                 F1-Score  \n",
       "8  Val: 0.731, Test: 0.734  Val: 0.726, Test: 0.727  Val: 0.723, Test: 0.724  \n",
       "4  Val: 0.731, Test: 0.732  Val: 0.726, Test: 0.726  Val: 0.724, Test: 0.724  \n",
       "1  Val: 0.730, Test: 0.730  Val: 0.726, Test: 0.725  Val: 0.724, Test: 0.722  \n",
       "6  Val: 0.729, Test: 0.730  Val: 0.726, Test: 0.725  Val: 0.723, Test: 0.723  \n",
       "5  Val: 0.728, Test: 0.731  Val: 0.727, Test: 0.730  Val: 0.726, Test: 0.729  \n",
       "2  Val: 0.727, Test: 0.730  Val: 0.727, Test: 0.729  Val: 0.726, Test: 0.729  \n",
       "0  Val: 0.726, Test: 0.725  Val: 0.724, Test: 0.723  Val: 0.722, Test: 0.721  \n",
       "7  Val: 0.725, Test: 0.730  Val: 0.724, Test: 0.729  Val: 0.723, Test: 0.728  \n",
       "3  Val: 0.699, Test: 0.703  Val: 0.699, Test: 0.703  Val: 0.699, Test: 0.703  "
      ]
     },
     "execution_count": 26,
     "metadata": {},
     "output_type": "execute_result"
    }
   ],
   "source": [
    "# sorted_results_df = results_df.sort_values('Precision', ascending=False)\n",
    "# sorted_results_df"
   ]
  },
  {
   "cell_type": "markdown",
   "metadata": {
    "cell_id": "8862cfbb62bd423180e83db1766cff02",
    "deepnote_cell_type": "text-cell-h3",
    "formattedRanges": [],
    "is_collapsed": false,
    "jp-MarkdownHeadingCollapsed": true,
    "tags": []
   },
   "source": [
    "## Appending all models"
   ]
  },
  {
   "cell_type": "code",
   "execution_count": 23,
   "metadata": {
    "cell_id": "a7648acdefa146c28b1a5546fc848607",
    "deepnote_cell_type": "code",
    "deepnote_to_be_reexecuted": false,
    "execution_millis": 18030,
    "execution_start": 1677472657256,
    "source_hash": "b7ab2f7f",
    "tags": []
   },
   "outputs": [
    {
     "name": "stdout",
     "output_type": "stream",
     "text": [
      "                                      Model                 Accuracy  \\\n",
      "0                       Logistic Regression  Val: 0.724, Test: 0.723   \n",
      "1                       Adaboost Classifier  Val: 0.726, Test: 0.725   \n",
      "2                  Gradientboost Classifier  Val: 0.727, Test: 0.729   \n",
      "3                  Random Forest Classifier  Val: 0.699, Test: 0.703   \n",
      "4                  AdaBoost Classifier Best  Val: 0.726, Test: 0.726   \n",
      "5             GradientBoost Classifier Best  Val: 0.727, Test: 0.730   \n",
      "6       AdaBoost Classifier GridSearch Best  Val: 0.726, Test: 0.725   \n",
      "7  GradientBoost Classifier GridSearch Best  Val: 0.724, Test: 0.729   \n",
      "\n",
      "                 Precision                   Recall                 F1-Score  \n",
      "0  Val: 0.726, Test: 0.725  Val: 0.724, Test: 0.723  Val: 0.722, Test: 0.721  \n",
      "1  Val: 0.730, Test: 0.730  Val: 0.726, Test: 0.725  Val: 0.724, Test: 0.722  \n",
      "2  Val: 0.727, Test: 0.730  Val: 0.727, Test: 0.729  Val: 0.726, Test: 0.729  \n",
      "3  Val: 0.699, Test: 0.703  Val: 0.699, Test: 0.703  Val: 0.699, Test: 0.703  \n",
      "4  Val: 0.731, Test: 0.732  Val: 0.726, Test: 0.726  Val: 0.724, Test: 0.724  \n",
      "5  Val: 0.728, Test: 0.731  Val: 0.727, Test: 0.730  Val: 0.726, Test: 0.729  \n",
      "6  Val: 0.729, Test: 0.730  Val: 0.726, Test: 0.725  Val: 0.723, Test: 0.723  \n",
      "7  Val: 0.725, Test: 0.730  Val: 0.724, Test: 0.729  Val: 0.723, Test: 0.728  \n"
     ]
    }
   ],
   "source": [
    "# # Define the models\n",
    "# models = [\n",
    "#     ('Logistic Regression', log_reg),\n",
    "#     ('Adaboost Classifier', ada),\n",
    "#     ('Gradientboost Classifier', gb),\n",
    "#     ('Random Forest Classifier', rf),\n",
    "#     ('AdaBoost Classifier Best', ada_best),\n",
    "#     ('GradientBoost Classifier Best', gradboost_best),\n",
    "#     ('AdaBoost Classifier GridSearch Best', ada_grid_best),\n",
    "#     ('GradientBoost Classifier GridSearch Best', gradboost_grid_best)\n",
    "# ]\n",
    "\n",
    "# # Create an empty DataFrame to store the results\n",
    "# results_df = pd.DataFrame(columns=['Model', 'Accuracy', 'Precision', 'Recall', 'F1-Score'])\n",
    "\n",
    "# # Evaluate each model and append the results to the DataFrame\n",
    "# for model_name, model in models:\n",
    "#     # Train the model\n",
    "#     model.fit(X_train, y_train)\n",
    "\n",
    "#     # Evaluate the model on the validation set\n",
    "#     y_val_pred = model.predict(X_val)\n",
    "#     acc_val = accuracy_score(y_val, y_val_pred)\n",
    "#     p_val, r_val, f1_val, _ = precision_recall_fscore_support(y_val, y_val_pred, average='weighted')\n",
    "\n",
    "#     # Evaluate the model on the test set\n",
    "#     y_test_pred = model.predict(X_test)\n",
    "#     acc_test = accuracy_score(y_test, y_test_pred)\n",
    "#     p_test, r_test, f1_test, _ = precision_recall_fscore_support(y_test, y_test_pred, average='weighted')\n",
    "\n",
    "#     # Append the results to the DataFrame\n",
    "#     results_df = results_df.append({\n",
    "#         'Model': model_name,\n",
    "#         'Accuracy': f'Val: {acc_val:.3f}, Test: {acc_test:.3f}',\n",
    "#         'Precision': f'Val: {p_val:.3f}, Test: {p_test:.3f}',\n",
    "#         'Recall': f'Val: {r_val:.3f}, Test: {r_test:.3f}',\n",
    "#         'F1-Score': f'Val: {f1_val:.3f}, Test: {f1_test:.3f}'\n",
    "#     }, ignore_index=True)\n",
    "\n",
    "# # Print the results\n",
    "# print(results_df)"
   ]
  },
  {
   "cell_type": "code",
   "execution_count": 39,
   "metadata": {
    "cell_id": "8602b3a5c4784fb0aefa67fc474656ad",
    "deepnote_cell_type": "code",
    "deepnote_to_be_reexecuted": false,
    "execution_millis": 4,
    "execution_start": 1677357246691,
    "source_hash": "5f5f1941",
    "tags": []
   },
   "outputs": [
    {
     "data": {
      "application/vnd.deepnote.dataframe.v3+json": {
       "column_count": 5,
       "columns": [
        {
         "dtype": "object",
         "name": "Model",
         "stats": {
          "categories": [
           {
            "count": 1,
            "name": "AdaBoost Classifier Best"
           },
           {
            "count": 1,
            "name": "Adaboost Classifier"
           },
           {
            "count": 6,
            "name": "6 others"
           }
          ],
          "nan_count": 0,
          "unique_count": 8
         }
        },
        {
         "dtype": "object",
         "name": "Accuracy",
         "stats": {
          "categories": [
           {
            "count": 2,
            "name": "Val: 0.726, Test: 0.725"
           },
           {
            "count": 1,
            "name": "Val: 0.726, Test: 0.726"
           },
           {
            "count": 5,
            "name": "5 others"
           }
          ],
          "nan_count": 0,
          "unique_count": 7
         }
        },
        {
         "dtype": "object",
         "name": "Precision",
         "stats": {
          "categories": [
           {
            "count": 1,
            "name": "Val: 0.731, Test: 0.732"
           },
           {
            "count": 1,
            "name": "Val: 0.730, Test: 0.730"
           },
           {
            "count": 6,
            "name": "6 others"
           }
          ],
          "nan_count": 0,
          "unique_count": 8
         }
        },
        {
         "dtype": "object",
         "name": "Recall",
         "stats": {
          "categories": [
           {
            "count": 2,
            "name": "Val: 0.726, Test: 0.725"
           },
           {
            "count": 1,
            "name": "Val: 0.726, Test: 0.726"
           },
           {
            "count": 5,
            "name": "5 others"
           }
          ],
          "nan_count": 0,
          "unique_count": 7
         }
        },
        {
         "dtype": "object",
         "name": "F1-Score",
         "stats": {
          "categories": [
           {
            "count": 2,
            "name": "Val: 0.726, Test: 0.729"
           },
           {
            "count": 1,
            "name": "Val: 0.724, Test: 0.724"
           },
           {
            "count": 5,
            "name": "5 others"
           }
          ],
          "nan_count": 0,
          "unique_count": 7
         }
        },
        {
         "dtype": "int64",
         "name": "_deepnote_index_column"
        }
       ],
       "row_count": 8,
       "rows": [
        {
         "Accuracy": "Val: 0.726, Test: 0.726",
         "F1-Score": "Val: 0.724, Test: 0.724",
         "Model": "AdaBoost Classifier Best",
         "Precision": "Val: 0.731, Test: 0.732",
         "Recall": "Val: 0.726, Test: 0.726",
         "_deepnote_index_column": "4"
        },
        {
         "Accuracy": "Val: 0.726, Test: 0.725",
         "F1-Score": "Val: 0.724, Test: 0.722",
         "Model": "Adaboost Classifier",
         "Precision": "Val: 0.730, Test: 0.730",
         "Recall": "Val: 0.726, Test: 0.725",
         "_deepnote_index_column": "1"
        },
        {
         "Accuracy": "Val: 0.726, Test: 0.725",
         "F1-Score": "Val: 0.723, Test: 0.723",
         "Model": "AdaBoost Classifier GridSearch Best",
         "Precision": "Val: 0.729, Test: 0.730",
         "Recall": "Val: 0.726, Test: 0.725",
         "_deepnote_index_column": "6"
        },
        {
         "Accuracy": "Val: 0.727, Test: 0.730",
         "F1-Score": "Val: 0.726, Test: 0.729",
         "Model": "GradientBoost Classifier Best",
         "Precision": "Val: 0.728, Test: 0.731",
         "Recall": "Val: 0.727, Test: 0.730",
         "_deepnote_index_column": "5"
        },
        {
         "Accuracy": "Val: 0.727, Test: 0.729",
         "F1-Score": "Val: 0.726, Test: 0.729",
         "Model": "Gradientboost Classifier",
         "Precision": "Val: 0.727, Test: 0.730",
         "Recall": "Val: 0.727, Test: 0.729",
         "_deepnote_index_column": "2"
        },
        {
         "Accuracy": "Val: 0.724, Test: 0.723",
         "F1-Score": "Val: 0.722, Test: 0.721",
         "Model": "Logistic Regression",
         "Precision": "Val: 0.726, Test: 0.725",
         "Recall": "Val: 0.724, Test: 0.723",
         "_deepnote_index_column": "0"
        },
        {
         "Accuracy": "Val: 0.724, Test: 0.729",
         "F1-Score": "Val: 0.723, Test: 0.728",
         "Model": "GradientBoost Classifier GridSearch Best",
         "Precision": "Val: 0.725, Test: 0.730",
         "Recall": "Val: 0.724, Test: 0.729",
         "_deepnote_index_column": "7"
        },
        {
         "Accuracy": "Val: 0.698, Test: 0.702",
         "F1-Score": "Val: 0.698, Test: 0.702",
         "Model": "Random Forest Classifier",
         "Precision": "Val: 0.698, Test: 0.702",
         "Recall": "Val: 0.698, Test: 0.702",
         "_deepnote_index_column": "3"
        }
       ]
      },
      "text/html": [
       "<div>\n",
       "<style scoped>\n",
       "    .dataframe tbody tr th:only-of-type {\n",
       "        vertical-align: middle;\n",
       "    }\n",
       "\n",
       "    .dataframe tbody tr th {\n",
       "        vertical-align: top;\n",
       "    }\n",
       "\n",
       "    .dataframe thead th {\n",
       "        text-align: right;\n",
       "    }\n",
       "</style>\n",
       "<table border=\"1\" class=\"dataframe\">\n",
       "  <thead>\n",
       "    <tr style=\"text-align: right;\">\n",
       "      <th></th>\n",
       "      <th>Model</th>\n",
       "      <th>Accuracy</th>\n",
       "      <th>Precision</th>\n",
       "      <th>Recall</th>\n",
       "      <th>F1-Score</th>\n",
       "    </tr>\n",
       "  </thead>\n",
       "  <tbody>\n",
       "    <tr>\n",
       "      <th>4</th>\n",
       "      <td>AdaBoost Classifier Best</td>\n",
       "      <td>Val: 0.726, Test: 0.726</td>\n",
       "      <td>Val: 0.731, Test: 0.732</td>\n",
       "      <td>Val: 0.726, Test: 0.726</td>\n",
       "      <td>Val: 0.724, Test: 0.724</td>\n",
       "    </tr>\n",
       "    <tr>\n",
       "      <th>1</th>\n",
       "      <td>Adaboost Classifier</td>\n",
       "      <td>Val: 0.726, Test: 0.725</td>\n",
       "      <td>Val: 0.730, Test: 0.730</td>\n",
       "      <td>Val: 0.726, Test: 0.725</td>\n",
       "      <td>Val: 0.724, Test: 0.722</td>\n",
       "    </tr>\n",
       "    <tr>\n",
       "      <th>6</th>\n",
       "      <td>AdaBoost Classifier GridSearch Best</td>\n",
       "      <td>Val: 0.726, Test: 0.725</td>\n",
       "      <td>Val: 0.729, Test: 0.730</td>\n",
       "      <td>Val: 0.726, Test: 0.725</td>\n",
       "      <td>Val: 0.723, Test: 0.723</td>\n",
       "    </tr>\n",
       "    <tr>\n",
       "      <th>5</th>\n",
       "      <td>GradientBoost Classifier Best</td>\n",
       "      <td>Val: 0.727, Test: 0.730</td>\n",
       "      <td>Val: 0.728, Test: 0.731</td>\n",
       "      <td>Val: 0.727, Test: 0.730</td>\n",
       "      <td>Val: 0.726, Test: 0.729</td>\n",
       "    </tr>\n",
       "    <tr>\n",
       "      <th>2</th>\n",
       "      <td>Gradientboost Classifier</td>\n",
       "      <td>Val: 0.727, Test: 0.729</td>\n",
       "      <td>Val: 0.727, Test: 0.730</td>\n",
       "      <td>Val: 0.727, Test: 0.729</td>\n",
       "      <td>Val: 0.726, Test: 0.729</td>\n",
       "    </tr>\n",
       "    <tr>\n",
       "      <th>0</th>\n",
       "      <td>Logistic Regression</td>\n",
       "      <td>Val: 0.724, Test: 0.723</td>\n",
       "      <td>Val: 0.726, Test: 0.725</td>\n",
       "      <td>Val: 0.724, Test: 0.723</td>\n",
       "      <td>Val: 0.722, Test: 0.721</td>\n",
       "    </tr>\n",
       "    <tr>\n",
       "      <th>7</th>\n",
       "      <td>GradientBoost Classifier GridSearch Best</td>\n",
       "      <td>Val: 0.724, Test: 0.729</td>\n",
       "      <td>Val: 0.725, Test: 0.730</td>\n",
       "      <td>Val: 0.724, Test: 0.729</td>\n",
       "      <td>Val: 0.723, Test: 0.728</td>\n",
       "    </tr>\n",
       "    <tr>\n",
       "      <th>3</th>\n",
       "      <td>Random Forest Classifier</td>\n",
       "      <td>Val: 0.698, Test: 0.702</td>\n",
       "      <td>Val: 0.698, Test: 0.702</td>\n",
       "      <td>Val: 0.698, Test: 0.702</td>\n",
       "      <td>Val: 0.698, Test: 0.702</td>\n",
       "    </tr>\n",
       "  </tbody>\n",
       "</table>\n",
       "</div>"
      ],
      "text/plain": [
       "                                      Model                 Accuracy  \\\n",
       "4                  AdaBoost Classifier Best  Val: 0.726, Test: 0.726   \n",
       "1                       Adaboost Classifier  Val: 0.726, Test: 0.725   \n",
       "6       AdaBoost Classifier GridSearch Best  Val: 0.726, Test: 0.725   \n",
       "5             GradientBoost Classifier Best  Val: 0.727, Test: 0.730   \n",
       "2                  Gradientboost Classifier  Val: 0.727, Test: 0.729   \n",
       "0                       Logistic Regression  Val: 0.724, Test: 0.723   \n",
       "7  GradientBoost Classifier GridSearch Best  Val: 0.724, Test: 0.729   \n",
       "3                  Random Forest Classifier  Val: 0.698, Test: 0.702   \n",
       "\n",
       "                 Precision                   Recall                 F1-Score  \n",
       "4  Val: 0.731, Test: 0.732  Val: 0.726, Test: 0.726  Val: 0.724, Test: 0.724  \n",
       "1  Val: 0.730, Test: 0.730  Val: 0.726, Test: 0.725  Val: 0.724, Test: 0.722  \n",
       "6  Val: 0.729, Test: 0.730  Val: 0.726, Test: 0.725  Val: 0.723, Test: 0.723  \n",
       "5  Val: 0.728, Test: 0.731  Val: 0.727, Test: 0.730  Val: 0.726, Test: 0.729  \n",
       "2  Val: 0.727, Test: 0.730  Val: 0.727, Test: 0.729  Val: 0.726, Test: 0.729  \n",
       "0  Val: 0.726, Test: 0.725  Val: 0.724, Test: 0.723  Val: 0.722, Test: 0.721  \n",
       "7  Val: 0.725, Test: 0.730  Val: 0.724, Test: 0.729  Val: 0.723, Test: 0.728  \n",
       "3  Val: 0.698, Test: 0.702  Val: 0.698, Test: 0.702  Val: 0.698, Test: 0.702  "
      ]
     },
     "execution_count": 39,
     "metadata": {},
     "output_type": "execute_result"
    }
   ],
   "source": [
    "# sorted_results_df = results_df.sort_values('Precision', ascending=False)\n",
    "# sorted_results_df"
   ]
  },
  {
   "cell_type": "code",
   "execution_count": 41,
   "metadata": {
    "cell_id": "f28ece9f921f4717846317f44513c982",
    "deepnote_cell_type": "code",
    "deepnote_to_be_reexecuted": false,
    "execution_millis": 1,
    "execution_start": 1677357309063,
    "source_hash": "5989d758",
    "tags": []
   },
   "outputs": [
    {
     "data": {
      "application/vnd.deepnote.dataframe.v3+json": {
       "column_count": 5,
       "columns": [
        {
         "dtype": "object",
         "name": "Model",
         "stats": {
          "categories": [
           {
            "count": 1,
            "name": "GradientBoost Classifier Best"
           },
           {
            "count": 1,
            "name": "Gradientboost Classifier"
           },
           {
            "count": 6,
            "name": "6 others"
           }
          ],
          "nan_count": 0,
          "unique_count": 8
         }
        },
        {
         "dtype": "object",
         "name": "Accuracy",
         "stats": {
          "categories": [
           {
            "count": 2,
            "name": "Val: 0.726, Test: 0.725"
           },
           {
            "count": 1,
            "name": "Val: 0.727, Test: 0.730"
           },
           {
            "count": 5,
            "name": "5 others"
           }
          ],
          "nan_count": 0,
          "unique_count": 7
         }
        },
        {
         "dtype": "object",
         "name": "Precision",
         "stats": {
          "categories": [
           {
            "count": 1,
            "name": "Val: 0.728, Test: 0.731"
           },
           {
            "count": 1,
            "name": "Val: 0.727, Test: 0.730"
           },
           {
            "count": 6,
            "name": "6 others"
           }
          ],
          "nan_count": 0,
          "unique_count": 8
         }
        },
        {
         "dtype": "object",
         "name": "Recall",
         "stats": {
          "categories": [
           {
            "count": 2,
            "name": "Val: 0.726, Test: 0.725"
           },
           {
            "count": 1,
            "name": "Val: 0.727, Test: 0.730"
           },
           {
            "count": 5,
            "name": "5 others"
           }
          ],
          "nan_count": 0,
          "unique_count": 7
         }
        },
        {
         "dtype": "object",
         "name": "F1-Score",
         "stats": {
          "categories": [
           {
            "count": 2,
            "name": "Val: 0.726, Test: 0.729"
           },
           {
            "count": 1,
            "name": "Val: 0.724, Test: 0.724"
           },
           {
            "count": 5,
            "name": "5 others"
           }
          ],
          "nan_count": 0,
          "unique_count": 7
         }
        },
        {
         "dtype": "int64",
         "name": "_deepnote_index_column"
        }
       ],
       "row_count": 8,
       "rows": [
        {
         "Accuracy": "Val: 0.727, Test: 0.730",
         "F1-Score": "Val: 0.726, Test: 0.729",
         "Model": "GradientBoost Classifier Best",
         "Precision": "Val: 0.728, Test: 0.731",
         "Recall": "Val: 0.727, Test: 0.730",
         "_deepnote_index_column": "5"
        },
        {
         "Accuracy": "Val: 0.727, Test: 0.729",
         "F1-Score": "Val: 0.726, Test: 0.729",
         "Model": "Gradientboost Classifier",
         "Precision": "Val: 0.727, Test: 0.730",
         "Recall": "Val: 0.727, Test: 0.729",
         "_deepnote_index_column": "2"
        },
        {
         "Accuracy": "Val: 0.726, Test: 0.726",
         "F1-Score": "Val: 0.724, Test: 0.724",
         "Model": "AdaBoost Classifier Best",
         "Precision": "Val: 0.731, Test: 0.732",
         "Recall": "Val: 0.726, Test: 0.726",
         "_deepnote_index_column": "4"
        },
        {
         "Accuracy": "Val: 0.726, Test: 0.725",
         "F1-Score": "Val: 0.724, Test: 0.722",
         "Model": "Adaboost Classifier",
         "Precision": "Val: 0.730, Test: 0.730",
         "Recall": "Val: 0.726, Test: 0.725",
         "_deepnote_index_column": "1"
        },
        {
         "Accuracy": "Val: 0.726, Test: 0.725",
         "F1-Score": "Val: 0.723, Test: 0.723",
         "Model": "AdaBoost Classifier GridSearch Best",
         "Precision": "Val: 0.729, Test: 0.730",
         "Recall": "Val: 0.726, Test: 0.725",
         "_deepnote_index_column": "6"
        },
        {
         "Accuracy": "Val: 0.724, Test: 0.729",
         "F1-Score": "Val: 0.723, Test: 0.728",
         "Model": "GradientBoost Classifier GridSearch Best",
         "Precision": "Val: 0.725, Test: 0.730",
         "Recall": "Val: 0.724, Test: 0.729",
         "_deepnote_index_column": "7"
        },
        {
         "Accuracy": "Val: 0.724, Test: 0.723",
         "F1-Score": "Val: 0.722, Test: 0.721",
         "Model": "Logistic Regression",
         "Precision": "Val: 0.726, Test: 0.725",
         "Recall": "Val: 0.724, Test: 0.723",
         "_deepnote_index_column": "0"
        },
        {
         "Accuracy": "Val: 0.698, Test: 0.702",
         "F1-Score": "Val: 0.698, Test: 0.702",
         "Model": "Random Forest Classifier",
         "Precision": "Val: 0.698, Test: 0.702",
         "Recall": "Val: 0.698, Test: 0.702",
         "_deepnote_index_column": "3"
        }
       ]
      },
      "text/html": [
       "<div>\n",
       "<style scoped>\n",
       "    .dataframe tbody tr th:only-of-type {\n",
       "        vertical-align: middle;\n",
       "    }\n",
       "\n",
       "    .dataframe tbody tr th {\n",
       "        vertical-align: top;\n",
       "    }\n",
       "\n",
       "    .dataframe thead th {\n",
       "        text-align: right;\n",
       "    }\n",
       "</style>\n",
       "<table border=\"1\" class=\"dataframe\">\n",
       "  <thead>\n",
       "    <tr style=\"text-align: right;\">\n",
       "      <th></th>\n",
       "      <th>Model</th>\n",
       "      <th>Accuracy</th>\n",
       "      <th>Precision</th>\n",
       "      <th>Recall</th>\n",
       "      <th>F1-Score</th>\n",
       "    </tr>\n",
       "  </thead>\n",
       "  <tbody>\n",
       "    <tr>\n",
       "      <th>5</th>\n",
       "      <td>GradientBoost Classifier Best</td>\n",
       "      <td>Val: 0.727, Test: 0.730</td>\n",
       "      <td>Val: 0.728, Test: 0.731</td>\n",
       "      <td>Val: 0.727, Test: 0.730</td>\n",
       "      <td>Val: 0.726, Test: 0.729</td>\n",
       "    </tr>\n",
       "    <tr>\n",
       "      <th>2</th>\n",
       "      <td>Gradientboost Classifier</td>\n",
       "      <td>Val: 0.727, Test: 0.729</td>\n",
       "      <td>Val: 0.727, Test: 0.730</td>\n",
       "      <td>Val: 0.727, Test: 0.729</td>\n",
       "      <td>Val: 0.726, Test: 0.729</td>\n",
       "    </tr>\n",
       "    <tr>\n",
       "      <th>4</th>\n",
       "      <td>AdaBoost Classifier Best</td>\n",
       "      <td>Val: 0.726, Test: 0.726</td>\n",
       "      <td>Val: 0.731, Test: 0.732</td>\n",
       "      <td>Val: 0.726, Test: 0.726</td>\n",
       "      <td>Val: 0.724, Test: 0.724</td>\n",
       "    </tr>\n",
       "    <tr>\n",
       "      <th>1</th>\n",
       "      <td>Adaboost Classifier</td>\n",
       "      <td>Val: 0.726, Test: 0.725</td>\n",
       "      <td>Val: 0.730, Test: 0.730</td>\n",
       "      <td>Val: 0.726, Test: 0.725</td>\n",
       "      <td>Val: 0.724, Test: 0.722</td>\n",
       "    </tr>\n",
       "    <tr>\n",
       "      <th>6</th>\n",
       "      <td>AdaBoost Classifier GridSearch Best</td>\n",
       "      <td>Val: 0.726, Test: 0.725</td>\n",
       "      <td>Val: 0.729, Test: 0.730</td>\n",
       "      <td>Val: 0.726, Test: 0.725</td>\n",
       "      <td>Val: 0.723, Test: 0.723</td>\n",
       "    </tr>\n",
       "    <tr>\n",
       "      <th>7</th>\n",
       "      <td>GradientBoost Classifier GridSearch Best</td>\n",
       "      <td>Val: 0.724, Test: 0.729</td>\n",
       "      <td>Val: 0.725, Test: 0.730</td>\n",
       "      <td>Val: 0.724, Test: 0.729</td>\n",
       "      <td>Val: 0.723, Test: 0.728</td>\n",
       "    </tr>\n",
       "    <tr>\n",
       "      <th>0</th>\n",
       "      <td>Logistic Regression</td>\n",
       "      <td>Val: 0.724, Test: 0.723</td>\n",
       "      <td>Val: 0.726, Test: 0.725</td>\n",
       "      <td>Val: 0.724, Test: 0.723</td>\n",
       "      <td>Val: 0.722, Test: 0.721</td>\n",
       "    </tr>\n",
       "    <tr>\n",
       "      <th>3</th>\n",
       "      <td>Random Forest Classifier</td>\n",
       "      <td>Val: 0.698, Test: 0.702</td>\n",
       "      <td>Val: 0.698, Test: 0.702</td>\n",
       "      <td>Val: 0.698, Test: 0.702</td>\n",
       "      <td>Val: 0.698, Test: 0.702</td>\n",
       "    </tr>\n",
       "  </tbody>\n",
       "</table>\n",
       "</div>"
      ],
      "text/plain": [
       "                                      Model                 Accuracy  \\\n",
       "5             GradientBoost Classifier Best  Val: 0.727, Test: 0.730   \n",
       "2                  Gradientboost Classifier  Val: 0.727, Test: 0.729   \n",
       "4                  AdaBoost Classifier Best  Val: 0.726, Test: 0.726   \n",
       "1                       Adaboost Classifier  Val: 0.726, Test: 0.725   \n",
       "6       AdaBoost Classifier GridSearch Best  Val: 0.726, Test: 0.725   \n",
       "7  GradientBoost Classifier GridSearch Best  Val: 0.724, Test: 0.729   \n",
       "0                       Logistic Regression  Val: 0.724, Test: 0.723   \n",
       "3                  Random Forest Classifier  Val: 0.698, Test: 0.702   \n",
       "\n",
       "                 Precision                   Recall                 F1-Score  \n",
       "5  Val: 0.728, Test: 0.731  Val: 0.727, Test: 0.730  Val: 0.726, Test: 0.729  \n",
       "2  Val: 0.727, Test: 0.730  Val: 0.727, Test: 0.729  Val: 0.726, Test: 0.729  \n",
       "4  Val: 0.731, Test: 0.732  Val: 0.726, Test: 0.726  Val: 0.724, Test: 0.724  \n",
       "1  Val: 0.730, Test: 0.730  Val: 0.726, Test: 0.725  Val: 0.724, Test: 0.722  \n",
       "6  Val: 0.729, Test: 0.730  Val: 0.726, Test: 0.725  Val: 0.723, Test: 0.723  \n",
       "7  Val: 0.725, Test: 0.730  Val: 0.724, Test: 0.729  Val: 0.723, Test: 0.728  \n",
       "0  Val: 0.726, Test: 0.725  Val: 0.724, Test: 0.723  Val: 0.722, Test: 0.721  \n",
       "3  Val: 0.698, Test: 0.702  Val: 0.698, Test: 0.702  Val: 0.698, Test: 0.702  "
      ]
     },
     "execution_count": 41,
     "metadata": {},
     "output_type": "execute_result"
    }
   ],
   "source": [
    "# sorted_results_df = results_df.sort_values('Accuracy', ascending=False)\n",
    "# sorted_results_df"
   ]
  },
  {
   "cell_type": "markdown",
   "metadata": {
    "cell_id": "6c3adb093d2542c6b24ae093a573e368",
    "deepnote_cell_type": "markdown",
    "tags": []
   },
   "source": [
    "This created a DataFrame with columns for the model name, accuracy, precision, recall, and f1-score for both the validation and test sets. With `GradientBoost Classifier GridSearchCV` performing better across all performance metrics."
   ]
  },
  {
   "cell_type": "markdown",
   "metadata": {
    "created_in_deepnote_cell": true,
    "deepnote_cell_type": "markdown",
    "tags": []
   },
   "source": [
    "<a style='text-decoration:none;line-height:16px;display:flex;color:#5B5B62;padding:10px;justify-content:end;' href='https://deepnote.com?utm_source=created-in-deepnote-cell&projectId=ce76747e-b0f1-459f-822a-5c7e53ff363d' target=\"_blank\">\n",
    "<img alt='Created in deepnote.com' style='display:inline;max-height:16px;margin:0px;margin-right:7.5px;' src='data:image/svg+xml;base64,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' > </img>\n",
    "Created in <span style='font-weight:600;margin-left:4px;'>Deepnote</span></a>"
   ]
  }
 ],
 "metadata": {
  "deepnote": {},
  "deepnote_execution_queue": [],
  "deepnote_notebook_id": "456c3ad6c87b4840939da90a98f9afdd",
  "kernelspec": {
   "display_name": "Python 3 (ipykernel)",
   "language": "python",
   "name": "python3"
  },
  "language_info": {
   "codemirror_mode": {
    "name": "ipython",
    "version": 3
   },
   "file_extension": ".py",
   "mimetype": "text/x-python",
   "name": "python",
   "nbconvert_exporter": "python",
   "pygments_lexer": "ipython3",
   "version": "3.9.13"
  }
 },
 "nbformat": 4,
 "nbformat_minor": 4
}
