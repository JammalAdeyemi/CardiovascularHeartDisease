{
 "cells": [
  {
   "cell_type": "code",
   "execution_count": 32,
   "metadata": {
    "cell_id": "8145243cc8a0473da6c4e794d99f63b7",
    "deepnote_cell_type": "code",
    "deepnote_to_be_reexecuted": false,
    "execution_millis": 623,
    "execution_start": 1677524255213,
    "source_hash": "c9dc3e77"
   },
   "outputs": [],
   "source": [
    "import pandas as pd\n",
    "import numpy as np\n",
    "import matplotlib.pyplot as plt\n",
    "import seaborn as sns\n",
    "import pandas_profiling as pp\n",
    "\n",
    "from kmodes.kmodes import KModes\n",
    "from sklearn.model_selection import train_test_split, cross_val_score\n",
    "from sklearn.tree import DecisionTreeClassifier\n",
    "from sklearn.ensemble import RandomForestClassifier,ExtraTreesClassifier, AdaBoostClassifier, GradientBoostingClassifier\n",
    "from sklearn.linear_model import LogisticRegression\n",
    "from sklearn.preprocessing import StandardScaler, LabelEncoder\n",
    "from sklearn.metrics import accuracy_score, precision_score, precision_recall_fscore_support, confusion_matrix, classification_report, plot_confusion_matrix\n",
    "\n",
    "import warnings\n",
    "warnings.filterwarnings(\"ignore\")"
   ]
  },
  {
   "cell_type": "markdown",
   "metadata": {
    "cell_id": "22280a5f85104c7592e79773b3f9b2dc",
    "deepnote_cell_type": "text-cell-h2",
    "formattedRanges": [],
    "is_collapsed": false,
    "tags": []
   },
   "source": [
    "## Datasets"
   ]
  },
  {
   "cell_type": "code",
   "execution_count": 2,
   "metadata": {
    "cell_id": "3474a8b050d6479397e8f7b0f1a5934d",
    "deepnote_cell_type": "code",
    "deepnote_to_be_reexecuted": false,
    "execution_millis": 90,
    "execution_start": 1677486335184,
    "source_hash": "a2339cfb"
   },
   "outputs": [
    {
     "data": {
      "application/vnd.deepnote.dataframe.v3+json": {
       "column_count": 13,
       "columns": [
        {
         "dtype": "int64",
         "name": "age",
         "stats": {
          "histogram": [
           {
            "bin_end": 47.8,
            "bin_start": 47,
            "count": 1
           },
           {
            "bin_end": 48.6,
            "bin_start": 47.8,
            "count": 1
           },
           {
            "bin_end": 49.4,
            "bin_start": 48.6,
            "count": 0
           },
           {
            "bin_end": 50.2,
            "bin_start": 49.4,
            "count": 1
           },
           {
            "bin_end": 51,
            "bin_start": 50.2,
            "count": 0
           },
           {
            "bin_end": 51.8,
            "bin_start": 51,
            "count": 1
           },
           {
            "bin_end": 52.6,
            "bin_start": 51.8,
            "count": 0
           },
           {
            "bin_end": 53.4,
            "bin_start": 52.6,
            "count": 0
           },
           {
            "bin_end": 54.2,
            "bin_start": 53.4,
            "count": 0
           },
           {
            "bin_end": 55,
            "bin_start": 54.2,
            "count": 1
           }
          ],
          "max": "55",
          "min": "47",
          "nan_count": 0,
          "unique_count": 5
         }
        },
        {
         "dtype": "int64",
         "name": "gender",
         "stats": {
          "histogram": [
           {
            "bin_end": 1.1,
            "bin_start": 1,
            "count": 3
           },
           {
            "bin_end": 1.2,
            "bin_start": 1.1,
            "count": 0
           },
           {
            "bin_end": 1.3,
            "bin_start": 1.2,
            "count": 0
           },
           {
            "bin_end": 1.4,
            "bin_start": 1.3,
            "count": 0
           },
           {
            "bin_end": 1.5,
            "bin_start": 1.4,
            "count": 0
           },
           {
            "bin_end": 1.6,
            "bin_start": 1.5,
            "count": 0
           },
           {
            "bin_end": 1.7000000000000002,
            "bin_start": 1.6,
            "count": 0
           },
           {
            "bin_end": 1.8,
            "bin_start": 1.7000000000000002,
            "count": 0
           },
           {
            "bin_end": 1.9,
            "bin_start": 1.8,
            "count": 0
           },
           {
            "bin_end": 2,
            "bin_start": 1.9,
            "count": 2
           }
          ],
          "max": "2",
          "min": "1",
          "nan_count": 0,
          "unique_count": 2
         }
        },
        {
         "dtype": "int64",
         "name": "height",
         "stats": {
          "histogram": [
           {
            "bin_end": 157.3,
            "bin_start": 156,
            "count": 2
           },
           {
            "bin_end": 158.6,
            "bin_start": 157.3,
            "count": 0
           },
           {
            "bin_end": 159.9,
            "bin_start": 158.6,
            "count": 0
           },
           {
            "bin_end": 161.2,
            "bin_start": 159.9,
            "count": 0
           },
           {
            "bin_end": 162.5,
            "bin_start": 161.2,
            "count": 0
           },
           {
            "bin_end": 163.8,
            "bin_start": 162.5,
            "count": 0
           },
           {
            "bin_end": 165.1,
            "bin_start": 163.8,
            "count": 1
           },
           {
            "bin_end": 166.4,
            "bin_start": 165.1,
            "count": 0
           },
           {
            "bin_end": 167.7,
            "bin_start": 166.4,
            "count": 0
           },
           {
            "bin_end": 169,
            "bin_start": 167.7,
            "count": 2
           }
          ],
          "max": "169",
          "min": "156",
          "nan_count": 0,
          "unique_count": 4
         }
        },
        {
         "dtype": "int64",
         "name": "weight",
         "stats": {
          "histogram": [
           {
            "bin_end": 58.9,
            "bin_start": 56,
            "count": 1
           },
           {
            "bin_end": 61.8,
            "bin_start": 58.9,
            "count": 0
           },
           {
            "bin_end": 64.7,
            "bin_start": 61.8,
            "count": 2
           },
           {
            "bin_end": 67.6,
            "bin_start": 64.7,
            "count": 0
           },
           {
            "bin_end": 70.5,
            "bin_start": 67.6,
            "count": 0
           },
           {
            "bin_end": 73.4,
            "bin_start": 70.5,
            "count": 0
           },
           {
            "bin_end": 76.3,
            "bin_start": 73.4,
            "count": 0
           },
           {
            "bin_end": 79.2,
            "bin_start": 76.3,
            "count": 0
           },
           {
            "bin_end": 82.1,
            "bin_start": 79.2,
            "count": 1
           },
           {
            "bin_end": 85,
            "bin_start": 82.1,
            "count": 1
           }
          ],
          "max": "85",
          "min": "56",
          "nan_count": 0,
          "unique_count": 5
         }
        },
        {
         "dtype": "int64",
         "name": "systolic",
         "stats": {
          "histogram": [
           {
            "bin_end": 105,
            "bin_start": 100,
            "count": 1
           },
           {
            "bin_end": 110,
            "bin_start": 105,
            "count": 0
           },
           {
            "bin_end": 115,
            "bin_start": 110,
            "count": 1
           },
           {
            "bin_end": 120,
            "bin_start": 115,
            "count": 0
           },
           {
            "bin_end": 125,
            "bin_start": 120,
            "count": 0
           },
           {
            "bin_end": 130,
            "bin_start": 125,
            "count": 0
           },
           {
            "bin_end": 135,
            "bin_start": 130,
            "count": 1
           },
           {
            "bin_end": 140,
            "bin_start": 135,
            "count": 0
           },
           {
            "bin_end": 145,
            "bin_start": 140,
            "count": 1
           },
           {
            "bin_end": 150,
            "bin_start": 145,
            "count": 1
           }
          ],
          "max": "150",
          "min": "100",
          "nan_count": 0,
          "unique_count": 5
         }
        },
        {
         "dtype": "int64",
         "name": "diastolic",
         "stats": {
          "histogram": [
           {
            "bin_end": 64,
            "bin_start": 60,
            "count": 1
           },
           {
            "bin_end": 68,
            "bin_start": 64,
            "count": 0
           },
           {
            "bin_end": 72,
            "bin_start": 68,
            "count": 1
           },
           {
            "bin_end": 76,
            "bin_start": 72,
            "count": 0
           },
           {
            "bin_end": 80,
            "bin_start": 76,
            "count": 0
           },
           {
            "bin_end": 84,
            "bin_start": 80,
            "count": 1
           },
           {
            "bin_end": 88,
            "bin_start": 84,
            "count": 0
           },
           {
            "bin_end": 92,
            "bin_start": 88,
            "count": 1
           },
           {
            "bin_end": 96,
            "bin_start": 92,
            "count": 0
           },
           {
            "bin_end": 100,
            "bin_start": 96,
            "count": 1
           }
          ],
          "max": "100",
          "min": "60",
          "nan_count": 0,
          "unique_count": 5
         }
        },
        {
         "dtype": "int64",
         "name": "cholesterol",
         "stats": {
          "histogram": [
           {
            "bin_end": 1.2,
            "bin_start": 1,
            "count": 3
           },
           {
            "bin_end": 1.4,
            "bin_start": 1.2,
            "count": 0
           },
           {
            "bin_end": 1.6,
            "bin_start": 1.4,
            "count": 0
           },
           {
            "bin_end": 1.8,
            "bin_start": 1.6,
            "count": 0
           },
           {
            "bin_end": 2,
            "bin_start": 1.8,
            "count": 0
           },
           {
            "bin_end": 2.2,
            "bin_start": 2,
            "count": 0
           },
           {
            "bin_end": 2.4000000000000004,
            "bin_start": 2.2,
            "count": 0
           },
           {
            "bin_end": 2.6,
            "bin_start": 2.4000000000000004,
            "count": 0
           },
           {
            "bin_end": 2.8,
            "bin_start": 2.6,
            "count": 0
           },
           {
            "bin_end": 3,
            "bin_start": 2.8,
            "count": 2
           }
          ],
          "max": "3",
          "min": "1",
          "nan_count": 0,
          "unique_count": 2
         }
        },
        {
         "dtype": "int64",
         "name": "glucose",
         "stats": {
          "histogram": [
           {
            "bin_end": 0.6,
            "bin_start": 0.5,
            "count": 0
           },
           {
            "bin_end": 0.7,
            "bin_start": 0.6,
            "count": 0
           },
           {
            "bin_end": 0.8,
            "bin_start": 0.7,
            "count": 0
           },
           {
            "bin_end": 0.9,
            "bin_start": 0.8,
            "count": 0
           },
           {
            "bin_end": 1,
            "bin_start": 0.9,
            "count": 0
           },
           {
            "bin_end": 1.1,
            "bin_start": 1,
            "count": 5
           },
           {
            "bin_end": 1.2000000000000002,
            "bin_start": 1.1,
            "count": 0
           },
           {
            "bin_end": 1.3,
            "bin_start": 1.2000000000000002,
            "count": 0
           },
           {
            "bin_end": 1.4,
            "bin_start": 1.3,
            "count": 0
           },
           {
            "bin_end": 1.5,
            "bin_start": 1.4,
            "count": 0
           }
          ],
          "max": "1",
          "min": "1",
          "nan_count": 0,
          "unique_count": 1
         }
        },
        {
         "dtype": "int64",
         "name": "smoke",
         "stats": {
          "histogram": [
           {
            "bin_end": -0.4,
            "bin_start": -0.5,
            "count": 0
           },
           {
            "bin_end": -0.3,
            "bin_start": -0.4,
            "count": 0
           },
           {
            "bin_end": -0.19999999999999996,
            "bin_start": -0.3,
            "count": 0
           },
           {
            "bin_end": -0.09999999999999998,
            "bin_start": -0.19999999999999996,
            "count": 0
           },
           {
            "bin_end": 0,
            "bin_start": -0.09999999999999998,
            "count": 0
           },
           {
            "bin_end": 0.10000000000000009,
            "bin_start": 0,
            "count": 5
           },
           {
            "bin_end": 0.20000000000000007,
            "bin_start": 0.10000000000000009,
            "count": 0
           },
           {
            "bin_end": 0.30000000000000004,
            "bin_start": 0.20000000000000007,
            "count": 0
           },
           {
            "bin_end": 0.4,
            "bin_start": 0.30000000000000004,
            "count": 0
           },
           {
            "bin_end": 0.5,
            "bin_start": 0.4,
            "count": 0
           }
          ],
          "max": "0",
          "min": "0",
          "nan_count": 0,
          "unique_count": 1
         }
        },
        {
         "dtype": "int64",
         "name": "alcohol",
         "stats": {
          "histogram": [
           {
            "bin_end": -0.4,
            "bin_start": -0.5,
            "count": 0
           },
           {
            "bin_end": -0.3,
            "bin_start": -0.4,
            "count": 0
           },
           {
            "bin_end": -0.19999999999999996,
            "bin_start": -0.3,
            "count": 0
           },
           {
            "bin_end": -0.09999999999999998,
            "bin_start": -0.19999999999999996,
            "count": 0
           },
           {
            "bin_end": 0,
            "bin_start": -0.09999999999999998,
            "count": 0
           },
           {
            "bin_end": 0.10000000000000009,
            "bin_start": 0,
            "count": 5
           },
           {
            "bin_end": 0.20000000000000007,
            "bin_start": 0.10000000000000009,
            "count": 0
           },
           {
            "bin_end": 0.30000000000000004,
            "bin_start": 0.20000000000000007,
            "count": 0
           },
           {
            "bin_end": 0.4,
            "bin_start": 0.30000000000000004,
            "count": 0
           },
           {
            "bin_end": 0.5,
            "bin_start": 0.4,
            "count": 0
           }
          ],
          "max": "0",
          "min": "0",
          "nan_count": 0,
          "unique_count": 1
         }
        },
        {
         "dtype": "int64",
         "name": "active",
         "stats": {
          "histogram": [
           {
            "bin_end": 0.1,
            "bin_start": 0,
            "count": 2
           },
           {
            "bin_end": 0.2,
            "bin_start": 0.1,
            "count": 0
           },
           {
            "bin_end": 0.30000000000000004,
            "bin_start": 0.2,
            "count": 0
           },
           {
            "bin_end": 0.4,
            "bin_start": 0.30000000000000004,
            "count": 0
           },
           {
            "bin_end": 0.5,
            "bin_start": 0.4,
            "count": 0
           },
           {
            "bin_end": 0.6000000000000001,
            "bin_start": 0.5,
            "count": 0
           },
           {
            "bin_end": 0.7000000000000001,
            "bin_start": 0.6000000000000001,
            "count": 0
           },
           {
            "bin_end": 0.8,
            "bin_start": 0.7000000000000001,
            "count": 0
           },
           {
            "bin_end": 0.9,
            "bin_start": 0.8,
            "count": 0
           },
           {
            "bin_end": 1,
            "bin_start": 0.9,
            "count": 3
           }
          ],
          "max": "1",
          "min": "0",
          "nan_count": 0,
          "unique_count": 2
         }
        },
        {
         "dtype": "int64",
         "name": "cardiovascular_disease",
         "stats": {
          "histogram": [
           {
            "bin_end": 0.1,
            "bin_start": 0,
            "count": 2
           },
           {
            "bin_end": 0.2,
            "bin_start": 0.1,
            "count": 0
           },
           {
            "bin_end": 0.30000000000000004,
            "bin_start": 0.2,
            "count": 0
           },
           {
            "bin_end": 0.4,
            "bin_start": 0.30000000000000004,
            "count": 0
           },
           {
            "bin_end": 0.5,
            "bin_start": 0.4,
            "count": 0
           },
           {
            "bin_end": 0.6000000000000001,
            "bin_start": 0.5,
            "count": 0
           },
           {
            "bin_end": 0.7000000000000001,
            "bin_start": 0.6000000000000001,
            "count": 0
           },
           {
            "bin_end": 0.8,
            "bin_start": 0.7000000000000001,
            "count": 0
           },
           {
            "bin_end": 0.9,
            "bin_start": 0.8,
            "count": 0
           },
           {
            "bin_end": 1,
            "bin_start": 0.9,
            "count": 3
           }
          ],
          "max": "1",
          "min": "0",
          "nan_count": 0,
          "unique_count": 2
         }
        },
        {
         "dtype": "int64",
         "name": "BMI",
         "stats": {
          "histogram": [
           {
            "bin_end": 22.3,
            "bin_start": 21,
            "count": 1
           },
           {
            "bin_end": 23.6,
            "bin_start": 22.3,
            "count": 2
           },
           {
            "bin_end": 24.9,
            "bin_start": 23.6,
            "count": 0
           },
           {
            "bin_end": 26.2,
            "bin_start": 24.9,
            "count": 0
           },
           {
            "bin_end": 27.5,
            "bin_start": 26.2,
            "count": 0
           },
           {
            "bin_end": 28.8,
            "bin_start": 27.5,
            "count": 1
           },
           {
            "bin_end": 30.1,
            "bin_start": 28.8,
            "count": 0
           },
           {
            "bin_end": 31.4,
            "bin_start": 30.1,
            "count": 0
           },
           {
            "bin_end": 32.7,
            "bin_start": 31.4,
            "count": 0
           },
           {
            "bin_end": 34,
            "bin_start": 32.7,
            "count": 1
           }
          ],
          "max": "34",
          "min": "21",
          "nan_count": 0,
          "unique_count": 4
         }
        },
        {
         "dtype": "int64",
         "name": "_deepnote_index_column"
        }
       ],
       "row_count": 5,
       "rows": [
        {
         "BMI": "21",
         "_deepnote_index_column": "0",
         "active": "1",
         "age": "50",
         "alcohol": "0",
         "cardiovascular_disease": "0",
         "cholesterol": "1",
         "diastolic": "80",
         "gender": "2",
         "glucose": "1",
         "height": "168",
         "smoke": "0",
         "systolic": "110",
         "weight": "62"
        },
        {
         "BMI": "34",
         "_deepnote_index_column": "1",
         "active": "1",
         "age": "55",
         "alcohol": "0",
         "cardiovascular_disease": "1",
         "cholesterol": "3",
         "diastolic": "90",
         "gender": "1",
         "glucose": "1",
         "height": "156",
         "smoke": "0",
         "systolic": "140",
         "weight": "85"
        },
        {
         "BMI": "23",
         "_deepnote_index_column": "2",
         "active": "0",
         "age": "51",
         "alcohol": "0",
         "cardiovascular_disease": "1",
         "cholesterol": "3",
         "diastolic": "70",
         "gender": "1",
         "glucose": "1",
         "height": "165",
         "smoke": "0",
         "systolic": "130",
         "weight": "64"
        },
        {
         "BMI": "28",
         "_deepnote_index_column": "3",
         "active": "1",
         "age": "48",
         "alcohol": "0",
         "cardiovascular_disease": "1",
         "cholesterol": "1",
         "diastolic": "100",
         "gender": "2",
         "glucose": "1",
         "height": "169",
         "smoke": "0",
         "systolic": "150",
         "weight": "82"
        },
        {
         "BMI": "23",
         "_deepnote_index_column": "4",
         "active": "0",
         "age": "47",
         "alcohol": "0",
         "cardiovascular_disease": "0",
         "cholesterol": "1",
         "diastolic": "60",
         "gender": "1",
         "glucose": "1",
         "height": "156",
         "smoke": "0",
         "systolic": "100",
         "weight": "56"
        }
       ]
      },
      "text/html": [
       "<div>\n",
       "<style scoped>\n",
       "    .dataframe tbody tr th:only-of-type {\n",
       "        vertical-align: middle;\n",
       "    }\n",
       "\n",
       "    .dataframe tbody tr th {\n",
       "        vertical-align: top;\n",
       "    }\n",
       "\n",
       "    .dataframe thead th {\n",
       "        text-align: right;\n",
       "    }\n",
       "</style>\n",
       "<table border=\"1\" class=\"dataframe\">\n",
       "  <thead>\n",
       "    <tr style=\"text-align: right;\">\n",
       "      <th></th>\n",
       "      <th>age</th>\n",
       "      <th>gender</th>\n",
       "      <th>height</th>\n",
       "      <th>weight</th>\n",
       "      <th>systolic</th>\n",
       "      <th>diastolic</th>\n",
       "      <th>cholesterol</th>\n",
       "      <th>glucose</th>\n",
       "      <th>smoke</th>\n",
       "      <th>alcohol</th>\n",
       "      <th>active</th>\n",
       "      <th>cardiovascular_disease</th>\n",
       "      <th>BMI</th>\n",
       "    </tr>\n",
       "  </thead>\n",
       "  <tbody>\n",
       "    <tr>\n",
       "      <th>0</th>\n",
       "      <td>50</td>\n",
       "      <td>2</td>\n",
       "      <td>168</td>\n",
       "      <td>62</td>\n",
       "      <td>110</td>\n",
       "      <td>80</td>\n",
       "      <td>1</td>\n",
       "      <td>1</td>\n",
       "      <td>0</td>\n",
       "      <td>0</td>\n",
       "      <td>1</td>\n",
       "      <td>0</td>\n",
       "      <td>21</td>\n",
       "    </tr>\n",
       "    <tr>\n",
       "      <th>1</th>\n",
       "      <td>55</td>\n",
       "      <td>1</td>\n",
       "      <td>156</td>\n",
       "      <td>85</td>\n",
       "      <td>140</td>\n",
       "      <td>90</td>\n",
       "      <td>3</td>\n",
       "      <td>1</td>\n",
       "      <td>0</td>\n",
       "      <td>0</td>\n",
       "      <td>1</td>\n",
       "      <td>1</td>\n",
       "      <td>34</td>\n",
       "    </tr>\n",
       "    <tr>\n",
       "      <th>2</th>\n",
       "      <td>51</td>\n",
       "      <td>1</td>\n",
       "      <td>165</td>\n",
       "      <td>64</td>\n",
       "      <td>130</td>\n",
       "      <td>70</td>\n",
       "      <td>3</td>\n",
       "      <td>1</td>\n",
       "      <td>0</td>\n",
       "      <td>0</td>\n",
       "      <td>0</td>\n",
       "      <td>1</td>\n",
       "      <td>23</td>\n",
       "    </tr>\n",
       "    <tr>\n",
       "      <th>3</th>\n",
       "      <td>48</td>\n",
       "      <td>2</td>\n",
       "      <td>169</td>\n",
       "      <td>82</td>\n",
       "      <td>150</td>\n",
       "      <td>100</td>\n",
       "      <td>1</td>\n",
       "      <td>1</td>\n",
       "      <td>0</td>\n",
       "      <td>0</td>\n",
       "      <td>1</td>\n",
       "      <td>1</td>\n",
       "      <td>28</td>\n",
       "    </tr>\n",
       "    <tr>\n",
       "      <th>4</th>\n",
       "      <td>47</td>\n",
       "      <td>1</td>\n",
       "      <td>156</td>\n",
       "      <td>56</td>\n",
       "      <td>100</td>\n",
       "      <td>60</td>\n",
       "      <td>1</td>\n",
       "      <td>1</td>\n",
       "      <td>0</td>\n",
       "      <td>0</td>\n",
       "      <td>0</td>\n",
       "      <td>0</td>\n",
       "      <td>23</td>\n",
       "    </tr>\n",
       "  </tbody>\n",
       "</table>\n",
       "</div>"
      ],
      "text/plain": [
       "   age  gender  height  weight  systolic  diastolic  cholesterol  glucose  \\\n",
       "0   50       2     168      62       110         80            1        1   \n",
       "1   55       1     156      85       140         90            3        1   \n",
       "2   51       1     165      64       130         70            3        1   \n",
       "3   48       2     169      82       150        100            1        1   \n",
       "4   47       1     156      56       100         60            1        1   \n",
       "\n",
       "   smoke  alcohol  active  cardiovascular_disease  BMI  \n",
       "0      0        0       1                       0   21  \n",
       "1      0        0       1                       1   34  \n",
       "2      0        0       0                       1   23  \n",
       "3      0        0       1                       1   28  \n",
       "4      0        0       0                       0   23  "
      ]
     },
     "execution_count": 2,
     "metadata": {},
     "output_type": "execute_result"
    }
   ],
   "source": [
    "df = pd.read_csv('../Data/cardio_data.csv')\n",
    "df.head()"
   ]
  },
  {
   "cell_type": "markdown",
   "metadata": {
    "cell_id": "4687288da4294f859cd891f8a5aa13e5",
    "deepnote_cell_type": "markdown"
   },
   "source": [
    "## Machine Learning"
   ]
  },
  {
   "cell_type": "markdown",
   "metadata": {
    "cell_id": "244b9114be6c4124ac743abe37194d19",
    "deepnote_cell_type": "markdown"
   },
   "source": [
    "### Train | Validation | Test Split Procedure"
   ]
  },
  {
   "cell_type": "code",
   "execution_count": 3,
   "metadata": {
    "cell_id": "2e845b29770b4e6892702344f5507712",
    "deepnote_cell_type": "code",
    "deepnote_to_be_reexecuted": false,
    "execution_millis": 23,
    "execution_start": 1677486340401,
    "source_hash": "8e21bca7"
   },
   "outputs": [],
   "source": [
    "X = df.drop('cardiovascular_disease', axis=1)\n",
    "y = df['cardiovascular_disease']\n",
    "\n",
    "# Split the data into training and testing sets. 80% of data is training data, set aside other 20% for test\n",
    "X_train_val, X_test, y_train_val, y_test = train_test_split(X, y, test_size=0.2, random_state=42)\n",
    "\n",
    "# Remaining 80% is split into valuation and test sets. \n",
    "X_train, X_val, y_train, y_val = train_test_split(X_train_val, y_train_val, test_size=0.25, random_state=42)\n",
    "\n",
    "# Scale the data using standardization\n",
    "scaler = StandardScaler()\n",
    "X_train = scaler.fit_transform(X_train)\n",
    "X_val = scaler.transform(X_val)\n",
    "X_test = scaler.transform(X_test)"
   ]
  },
  {
   "cell_type": "markdown",
   "metadata": {
    "cell_id": "be093afcae2e48df8dbb3e49ff9a38a5",
    "deepnote_cell_type": "markdown"
   },
   "source": [
    "Here, we are preparing data for use in a machine learning model that will predict whether someone has cardiovascular disease or not, based on various health-related features. Here is a breakdown of each step:\n",
    "\n",
    "1. The first line `X = df.drop('cardio', axis=1)` selects all columns from the input dataframe except for the 'cardio' column. These are the features that the machine learning model will use to make its predictions. The second line `y = df['cardio']` selects only the 'cardio' column from the input dataframe. This is the column that contains the labels or outcomes we are trying to predict.\n",
    "\n",
    "2. The third line uses the `train_test_split` function from the `sklearn library` to split the data into training and testing sets. We are using 80% of the data for training and 20% for testing. The `random_state` parameter is set to 42, which ensures that the data is split in the same way every time the code is run.\n",
    "\n",
    "3. The fourth line further splits the training data into training and validation sets. We are using a `75/25` split (60% for training, 20% for validation) to tune our model's hyperparameters later.\n",
    "\n",
    "4. The next three lines scale the data using standardization. Standardization scales the data to have a mean of 0 and a standard deviation of 1. This is useful for machine learning algorithms that assume the features are normally distributed. The `fit_transform` method fits the scaler on the training data and applies it to the training, validation, and testing data. We are overwriting the original `X_train` variable with the transformed data."
   ]
  },
  {
   "cell_type": "markdown",
   "metadata": {
    "cell_id": "7ea799033516446797d9ade4720278ab",
    "deepnote_cell_type": "markdown"
   },
   "source": [
    "### Modelling"
   ]
  },
  {
   "cell_type": "code",
   "execution_count": 5,
   "metadata": {
    "cell_id": "41cd8e18dcb746d08c44900be9577b0c",
    "deepnote_cell_type": "code",
    "deepnote_to_be_reexecuted": false,
    "execution_millis": 1,
    "execution_start": 1677472522745,
    "source_hash": "5429716c"
   },
   "outputs": [],
   "source": [
    "# Instantiate the models\n",
    "log_reg = LogisticRegression()\n",
    "ada = AdaBoostClassifier()\n",
    "gb = GradientBoostingClassifier()\n",
    "rf = RandomForestClassifier()"
   ]
  },
  {
   "cell_type": "code",
   "execution_count": 6,
   "metadata": {
    "cell_id": "03b8bf66ee8c4abb91872d2e4423951b",
    "deepnote_cell_type": "code",
    "deepnote_to_be_reexecuted": false,
    "execution_millis": 24256,
    "execution_start": 1677472525241,
    "source_hash": "9785ee1a",
    "tags": []
   },
   "outputs": [
    {
     "name": "stdout",
     "output_type": "stream",
     "text": [
      "Logistic Regression\n",
      "Accuracy on validation set: 0.723834067669798\n",
      "Accuracy on test set: 0.7225039487904231\n",
      "Cross-validation score: 0.719775537774083\n",
      "Confusion matrix:\n",
      "[[4872 1287]\n",
      " [2051 3819]]\n",
      "Classification report:\n",
      "              precision    recall  f1-score   support\n",
      "\n",
      "           0       0.70      0.79      0.74      6159\n",
      "           1       0.75      0.65      0.70      5870\n",
      "\n",
      "    accuracy                           0.72     12029\n",
      "   macro avg       0.73      0.72      0.72     12029\n",
      "weighted avg       0.73      0.72      0.72     12029\n",
      "\n",
      "\n"
     ]
    }
   ],
   "source": [
    "# Fit and evaluate the Logistic Regression model\n",
    "log_reg.fit(X_train, y_train)\n",
    "y_val_pred = log_reg.predict(X_val)\n",
    "y_test_pred = log_reg.predict(X_test)\n",
    "print(\"Logistic Regression\")\n",
    "print(f\"Accuracy on validation set: {accuracy_score(y_val, y_val_pred)}\")\n",
    "print(f\"Accuracy on test set: {accuracy_score(y_test, y_test_pred)}\")\n",
    "print(f\"Cross-validation score: {cross_val_score(log_reg, X_train_val, y_train_val, cv=5).mean()}\")\n",
    "print(f\"Confusion matrix:\\n{confusion_matrix(y_test, y_test_pred)}\")\n",
    "print(f\"Classification report:\\n{classification_report(y_test, y_test_pred)}\\n\")"
   ]
  },
  {
   "cell_type": "code",
   "execution_count": 7,
   "metadata": {
    "cell_id": "9af1d8cb301945f5b9c12f8653c2132c",
    "deepnote_cell_type": "code",
    "deepnote_to_be_reexecuted": false,
    "execution_millis": 1394,
    "execution_start": 1677472549498,
    "source_hash": "57d12c95",
    "tags": []
   },
   "outputs": [
    {
     "data": {
      "image/png": "[encoded data removed]",
      "text/plain": [
       "<Figure size 640x480 with 2 Axes>"
      ]
     },
     "metadata": {
      "image/png": {
       "height": 432,
       "width": 515
      }
     },
     "output_type": "display_data"
    }
   ],
   "source": [
    "plot_confusion_matrix(log_reg, X_test, y_test);"
   ]
  },
  {
   "cell_type": "markdown",
   "metadata": {
    "cell_id": "a337d64408924f25967e5e684df85cd3",
    "deepnote_cell_type": "markdown",
    "tags": []
   },
   "source": [
    "* Accuracy on validation set: 0.723834067669798\n",
    "This means that the logistic regression model correctly classified `72.38%` of the instances in the validation set.\n",
    "\n",
    "* Accuracy on test set: 0.7225039487904231\n",
    "This means that the logistic regression model correctly classified `72.22%` of the instances in the test set.\n",
    "\n",
    "* Cross-validation score: 0.719775537774083\n",
    "This is the average accuracy score of the logistic regression model during cross-validation, which is approximately `71.98%`.\n",
    "\n",
    "* Confusion matrix: The confusion matrix shows the number of true positives (TP), true negatives (TN), false positives (FP), and false negatives (FN) that the model predicted on the test set. In this case, the model correctly predicted `4872` true negatives and `3819` true positives, but incorrectly predicted `1287` false positives and `2051` false negatives.\n",
    "\n",
    "* The classification report provides a summary of the model's performance on each class. The precision, recall, and F1-score metrics are calculated for both classes (0 and 1), as well as the macro and weighted averages across classes. In this case, the logistic regression model achieved a precision of `0.70` and recall of `0.79` for class 0, and a precision of `0.75` and recall of `0.65` for class 1. The overall accuracy on the test set was `0.72 = 72%`."
   ]
  },
  {
   "cell_type": "code",
   "execution_count": 8,
   "metadata": {
    "cell_id": "109ebf3595a348b3ba40998fe4662db1",
    "deepnote_cell_type": "code",
    "deepnote_to_be_reexecuted": false,
    "execution_millis": 5366,
    "execution_start": 1677472550900,
    "source_hash": "59051baa",
    "tags": []
   },
   "outputs": [
    {
     "name": "stdout",
     "output_type": "stream",
     "text": [
      "Adaboost Classifier\n",
      "Accuracy on validation set: 0.7258292459888602\n",
      "Accuracy on test set: 0.7246653919694073\n",
      "Cross-validation score: 0.722352696664242\n",
      "Confusion matrix:\n",
      "[[5016 1143]\n",
      " [2169 3701]]\n",
      "Classification report:\n",
      "              precision    recall  f1-score   support\n",
      "\n",
      "           0       0.70      0.81      0.75      6159\n",
      "           1       0.76      0.63      0.69      5870\n",
      "\n",
      "    accuracy                           0.72     12029\n",
      "   macro avg       0.73      0.72      0.72     12029\n",
      "weighted avg       0.73      0.72      0.72     12029\n",
      "\n",
      "\n"
     ]
    }
   ],
   "source": [
    "# Fit and evaluate the Adaboost Classifier model\n",
    "ada.fit(X_train, y_train)\n",
    "y_val_pred = ada.predict(X_val)\n",
    "y_test_pred = ada.predict(X_test)\n",
    "print(\"Adaboost Classifier\")\n",
    "print(f\"Accuracy on validation set: {accuracy_score(y_val, y_val_pred)}\")\n",
    "print(f\"Accuracy on test set: {accuracy_score(y_test, y_test_pred)}\")\n",
    "print(f\"Cross-validation score: {cross_val_score(ada, X_train_val, y_train_val, cv=5).mean()}\")\n",
    "print(f\"Confusion matrix:\\n{confusion_matrix(y_test, y_test_pred)}\")\n",
    "print(f\"Classification report:\\n{classification_report(y_test, y_test_pred)}\\n\")"
   ]
  },
  {
   "cell_type": "code",
   "execution_count": 9,
   "metadata": {
    "cell_id": "6d291d164af044a89447daddd552484a",
    "deepnote_cell_type": "code",
    "deepnote_to_be_reexecuted": false,
    "execution_millis": 352,
    "execution_start": 1677472556273,
    "source_hash": "816c38f3",
    "tags": []
   },
   "outputs": [
    {
     "data": {
      "image/png": "[encoded data removed]",
      "text/plain": [
       "<Figure size 640x480 with 2 Axes>"
      ]
     },
     "metadata": {
      "image/png": {
       "height": 436,
       "width": 515
      }
     },
     "output_type": "display_data"
    }
   ],
   "source": [
    "plot_confusion_matrix(ada, X_test, y_test);"
   ]
  },
  {
   "cell_type": "markdown",
   "metadata": {
    "cell_id": "d67c249a023b41129a2bac17d429f14f",
    "deepnote_cell_type": "markdown",
    "tags": []
   },
   "source": [
    "* Accuracy on validation set: 0.7258292459888602\n",
    "This means that the Adaboost Classifier model correctly classified `72.58%` of the instances in the validation set.\n",
    "\n",
    "* Accuracy on test set: 0.7246653919694073\n",
    "This means that the Adaboost Classifier model correctly classified `72.46%` of the instances in the test set.\n",
    "\n",
    "* Cross-validation score: 0.722352696664242\n",
    "This is the average accuracy score of the Adaboost Classifier model during cross-validation, which is approximately `72.22%`.\n",
    "\n",
    "* Confusion matrix: The confusion matrix shows the number of true positives (TP), true negatives (TN), false positives (FP), and false negatives (FN) that the model predicted on the test set. In this case, the model correctly predicted `5016` true negatives and `3701` true positives, but incorrectly predicted `1143` false positives and `2169` false negatives.\n",
    "\n",
    "* The classification report provides a summary of the model's performance on each class. The precision, recall, and F1-score metrics are calculated for both classes (0 and 1), as well as the macro and weighted averages across classes. In this case, the logistic regression model achieved a precision of `0.70` and recall of `0.81` for class 0, and a precision of `0.76` and recall of `0.63` for class 1. The overall accuracy on the test set was `0.72 = 72%`."
   ]
  },
  {
   "cell_type": "code",
   "execution_count": 10,
   "metadata": {
    "cell_id": "53d4c3f665bb4cf3b2a45476ed386af3",
    "deepnote_cell_type": "code",
    "deepnote_to_be_reexecuted": false,
    "execution_millis": 14981,
    "execution_start": 1677472556619,
    "source_hash": "e1f40237",
    "tags": []
   },
   "outputs": [
    {
     "name": "stdout",
     "output_type": "stream",
     "text": [
      "Gradientboost Classifier\n",
      "Accuracy on validation set: 0.7269099675783524\n",
      "Accuracy on test set: 0.7294870729071411\n",
      "Cross-validation score: 0.7279226852332953\n",
      "Confusion matrix:\n",
      "[[4747 1412]\n",
      " [1842 4028]]\n",
      "Classification report:\n",
      "              precision    recall  f1-score   support\n",
      "\n",
      "           0       0.72      0.77      0.74      6159\n",
      "           1       0.74      0.69      0.71      5870\n",
      "\n",
      "    accuracy                           0.73     12029\n",
      "   macro avg       0.73      0.73      0.73     12029\n",
      "weighted avg       0.73      0.73      0.73     12029\n",
      "\n",
      "\n"
     ]
    }
   ],
   "source": [
    "# Fit and evaluate the Gradientboost Classifier model\n",
    "gb.fit(X_train, y_train)\n",
    "y_val_pred = gb.predict(X_val)\n",
    "y_test_pred = gb.predict(X_test)\n",
    "print(\"Gradientboost Classifier\")\n",
    "print(f\"Accuracy on validation set: {accuracy_score(y_val, y_val_pred)}\")\n",
    "print(f\"Accuracy on test set: {accuracy_score(y_test, y_test_pred)}\")\n",
    "print(f\"Cross-validation score: {cross_val_score(gb, X_train_val, y_train_val, cv=5).mean()}\")\n",
    "print(f\"Confusion matrix:\\n{confusion_matrix(y_test, y_test_pred)}\")\n",
    "print(f\"Classification report:\\n{classification_report(y_test, y_test_pred)}\\n\")"
   ]
  },
  {
   "cell_type": "code",
   "execution_count": 11,
   "metadata": {
    "cell_id": "db60778c29cb4caf9ad9ebc30b71747c",
    "deepnote_cell_type": "code",
    "deepnote_to_be_reexecuted": false,
    "execution_millis": 195,
    "execution_start": 1677472571644,
    "source_hash": "8a888e3a",
    "tags": []
   },
   "outputs": [
    {
     "data": {
      "image/png": "[encoded data removed]",
      "text/plain": [
       "<Figure size 640x480 with 2 Axes>"
      ]
     },
     "metadata": {
      "image/png": {
       "height": 432,
       "width": 515
      }
     },
     "output_type": "display_data"
    }
   ],
   "source": [
    "plot_confusion_matrix(gb, X_test, y_test);"
   ]
  },
  {
   "cell_type": "markdown",
   "metadata": {
    "cell_id": "2f9b0ea99eea4bd19ab37b25db7b9cc2",
    "deepnote_cell_type": "markdown",
    "tags": []
   },
   "source": [
    "* Accuracy on validation set: 0.7269099675783524\n",
    "This means that the Gradientboost Classifier model correctly classified `72.69%` of the instances in the validation set.\n",
    "\n",
    "* Accuracy on test set: 0.7294870729071411\n",
    "This means that the Gradientboost Classifier model correctly classified `72.94%` of the instances in the test set.\n",
    "\n",
    "* Cross-validation score: 0.7278811181544216\n",
    "This is the average accuracy score of the Gradientboost Classifier model during cross-validation, which is approximately `72.79`.\n",
    "\n",
    "* Confusion matrix: The confusion matrix shows the number of true positives (TP), true negatives (TN), false positives (FP), and false negatives (FN) that the model predicted on the test set. In this case, the model correctly predicted `4747` true negatives and `4028` true positives, but incorrectly predicted `1412` false positives and `1842` false negatives.\n",
    "\n",
    "* The classification report provides a summary of the model's performance on each class. The precision, recall, and F1-score metrics are calculated for both classes (0 and 1), as well as the macro and weighted averages across classes. In this case, the logistic regression model achieved a precision of `0.72` and recall of `0.77` for class 0, and a precision of `0.74` and recall of `0.69` for class 1. The overall accuracy on the test set was `0.73 = 73%`."
   ]
  },
  {
   "cell_type": "code",
   "execution_count": 12,
   "metadata": {
    "cell_id": "61d65d49ce374ac19c0e9507a2bd4f5e",
    "deepnote_cell_type": "code",
    "deepnote_to_be_reexecuted": false,
    "execution_millis": 19826,
    "execution_start": 1677472571840,
    "source_hash": "a7f7963",
    "tags": []
   },
   "outputs": [
    {
     "name": "stdout",
     "output_type": "stream",
     "text": [
      "Random Forest Classifier\n",
      "Accuracy on validation set: 0.696150968492809\n",
      "Accuracy on test set: 0.702053371020035\n",
      "Cross-validation score: 0.6994076691260521\n",
      "Confusion matrix:\n",
      "[[4405 1754]\n",
      " [1830 4040]]\n",
      "Classification report:\n",
      "              precision    recall  f1-score   support\n",
      "\n",
      "           0       0.71      0.72      0.71      6159\n",
      "           1       0.70      0.69      0.69      5870\n",
      "\n",
      "    accuracy                           0.70     12029\n",
      "   macro avg       0.70      0.70      0.70     12029\n",
      "weighted avg       0.70      0.70      0.70     12029\n",
      "\n",
      "\n"
     ]
    }
   ],
   "source": [
    "# Fit and evaluate the Random Forest Classifier model\n",
    "rf.fit(X_train, y_train)\n",
    "y_val_pred = rf.predict(X_val)\n",
    "y_test_pred = rf.predict(X_test)\n",
    "print(\"Random Forest Classifier\")\n",
    "print(f\"Accuracy on validation set: {accuracy_score(y_val, y_val_pred)}\")\n",
    "print(f\"Accuracy on test set: {accuracy_score(y_test, y_test_pred)}\")\n",
    "print(f\"Cross-validation score: {cross_val_score(rf, X_train_val, y_train_val, cv=5).mean()}\")\n",
    "print(f\"Confusion matrix:\\n{confusion_matrix(y_test, y_test_pred)}\")\n",
    "print(f\"Classification report:\\n{classification_report(y_test, y_test_pred)}\\n\")"
   ]
  },
  {
   "cell_type": "code",
   "execution_count": 13,
   "metadata": {
    "cell_id": "8f2ef5f548354bc9860b493dea733f59",
    "deepnote_cell_type": "code",
    "deepnote_to_be_reexecuted": false,
    "execution_millis": 449,
    "execution_start": 1677472591665,
    "source_hash": "e01af347",
    "tags": []
   },
   "outputs": [
    {
     "data": {
      "image/png": "[encoded data removed]",
      "text/plain": [
       "<Figure size 640x480 with 2 Axes>"
      ]
     },
     "metadata": {
      "image/png": {
       "height": 432,
       "width": 515
      }
     },
     "output_type": "display_data"
    }
   ],
   "source": [
    "plot_confusion_matrix(rf, X_test, y_test);"
   ]
  },
  {
   "cell_type": "markdown",
   "metadata": {
    "cell_id": "f27e1af918034953a763997814195e99",
    "deepnote_cell_type": "markdown",
    "tags": []
   },
   "source": [
    "* Accuracy on validation set:  0.6979798819519495\n",
    "This means that the Random Forest Classifier model correctly classified `69.79%` of the instances in the validation set.\n",
    "\n",
    "* Accuracy on test set: 0.7016377088702302\n",
    "This means that the Random Forest Classifier model correctly classified `70%` of the instances in the test set.\n",
    "\n",
    "* Cross-validation score: 0.6993453185077418\n",
    "This is the average accuracy score of the Random Forest Classifier model during cross-validation, which is approximately `69.93%`.\n",
    "\n",
    "* Confusion matrix: The confusion matrix shows the number of true positives (TP), true negatives (TN), false positives (FP), and false negatives (FN) that the model predicted on the test set. In this case, the model correctly predicted `4405` true negatives and `4045` true positives, but incorrectly predicted `1754` false positives and `1835` false negatives.\n",
    "\n",
    "* The classification report provides a summary of the model's performance on each class. The precision, recall, and F1-score metrics are calculated for both classes (0 and 1), as well as the macro and weighted averages across classes. In this case, the logistic regression model achieved a precision of `0.71` and recall of `0.72` for class 0, and a precision of `0.70` and recall of `0.69` for class 1. The overall accuracy on the test set was `0.70 = 70%`."
   ]
  },
  {
   "cell_type": "markdown",
   "metadata": {
    "cell_id": "0cd7b5172cca40d2ad2923164b1efc6e",
    "deepnote_cell_type": "text-cell-h3",
    "formattedRanges": [],
    "is_collapsed": false,
    "tags": []
   },
   "source": [
    "### Hyperparameter Tuning"
   ]
  },
  {
   "cell_type": "markdown",
   "metadata": {
    "cell_id": "90a6ddcb8904434b9af3c05bb030c01a",
    "deepnote_cell_type": "markdown",
    "tags": []
   },
   "source": [
    "After checking the performance metrics of each of our model, `Adaboost Classifier` and `Gradientboost Classifier` showed promising results and had higher accuracy, cross-validation scores compared to the other models, therefore we selected them for hyperparameter tuning to further optimize their performance."
   ]
  },
  {
   "cell_type": "code",
   "execution_count": 14,
   "metadata": {
    "cell_id": "ac01e680e9af42a6af7c7d58e02e0d87",
    "deepnote_cell_type": "code",
    "deepnote_to_be_reexecuted": false,
    "execution_millis": 1,
    "execution_start": 1677472592168,
    "source_hash": "fabb5032",
    "tags": []
   },
   "outputs": [],
   "source": [
    "from sklearn.model_selection import RandomizedSearchCV\n",
    "from scipy.stats import uniform, randint\n",
    "\n",
    "# Define parameter distributions for RandomizedSearchCV\n",
    "ada_param_dist = {\n",
    "    'n_estimators': randint(50, 300),\n",
    "    'learning_rate': uniform(0.01, 0.5),\n",
    "    'algorithm': ['SAMME', 'SAMME.R']\n",
    "}\n",
    "\n",
    "gb_param_dist = {\n",
    "    'n_estimators': randint(50, 300),\n",
    "    'learning_rate': uniform(0.01, 0.5),\n",
    "    'subsample': uniform(0.1, 0.9),\n",
    "    'max_depth': randint(3, 10),\n",
    "    'max_features': ['sqrt', 'log2', None]\n",
    "}"
   ]
  },
  {
   "cell_type": "code",
   "execution_count": 14,
   "metadata": {
    "cell_id": "b8285d8587474fdda5a81cb892d75eed",
    "deepnote_cell_type": "code",
    "deepnote_to_be_reexecuted": false,
    "execution_millis": 446922,
    "execution_start": 1677351655006,
    "source_hash": "941d6a15",
    "tags": []
   },
   "outputs": [
    {
     "name": "stdout",
     "output_type": "stream",
     "text": [
      "Fitting 5 folds for each of 50 candidates, totalling 250 fits\n",
      "[CV] END algorithm=SAMME, learning_rate=0.40827149343011643, n_estimators=64; total time=   0.6s\n",
      "[CV] END algorithm=SAMME, learning_rate=0.40827149343011643, n_estimators=64; total time=   0.6s\n",
      "[CV] END algorithm=SAMME, learning_rate=0.40827149343011643, n_estimators=64; total time=   0.6s\n",
      "[CV] END algorithm=SAMME, learning_rate=0.40827149343011643, n_estimators=64; total time=   0.6s\n",
      "[CV] END algorithm=SAMME, learning_rate=0.40827149343011643, n_estimators=64; total time=   0.6s\n",
      "[CV] END algorithm=SAMME, learning_rate=0.39984550013638465, n_estimators=70; total time=   0.6s\n",
      "[CV] END algorithm=SAMME, learning_rate=0.39984550013638465, n_estimators=70; total time=   0.6s\n",
      "[CV] END algorithm=SAMME, learning_rate=0.39984550013638465, n_estimators=70; total time=   0.6s\n",
      "[CV] END algorithm=SAMME, learning_rate=0.39984550013638465, n_estimators=70; total time=   0.6s\n",
      "[CV] END algorithm=SAMME, learning_rate=0.39984550013638465, n_estimators=70; total time=   0.6s\n",
      "[CV] END algorithm=SAMME, learning_rate=0.23291637642679558, n_estimators=264; total time=   2.3s\n",
      "[CV] END algorithm=SAMME, learning_rate=0.23291637642679558, n_estimators=264; total time=   2.3s\n",
      "[CV] END algorithm=SAMME, learning_rate=0.23291637642679558, n_estimators=264; total time=   2.3s\n",
      "[CV] END algorithm=SAMME, learning_rate=0.23291637642679558, n_estimators=264; total time=   2.3s\n",
      "[CV] END algorithm=SAMME, learning_rate=0.23291637642679558, n_estimators=264; total time=   2.3s\n",
      "[CV] END algorithm=SAMME, learning_rate=0.2396244459829336, n_estimators=166; total time=   1.5s\n",
      "[CV] END algorithm=SAMME, learning_rate=0.2396244459829336, n_estimators=166; total time=   1.5s\n",
      "[CV] END algorithm=SAMME, learning_rate=0.2396244459829336, n_estimators=166; total time=   1.5s\n",
      "[CV] END algorithm=SAMME, learning_rate=0.2396244459829336, n_estimators=166; total time=   1.5s\n",
      "[CV] END algorithm=SAMME, learning_rate=0.2396244459829336, n_estimators=166; total time=   1.5s\n",
      "[CV] END algorithm=SAMME.R, learning_rate=0.08143340896097039, n_estimators=180; total time=   2.1s\n",
      "[CV] END algorithm=SAMME.R, learning_rate=0.08143340896097039, n_estimators=180; total time=   2.1s\n",
      "[CV] END algorithm=SAMME.R, learning_rate=0.08143340896097039, n_estimators=180; total time=   2.1s\n",
      "[CV] END algorithm=SAMME.R, learning_rate=0.08143340896097039, n_estimators=180; total time=   2.1s\n",
      "[CV] END algorithm=SAMME.R, learning_rate=0.08143340896097039, n_estimators=180; total time=   2.1s\n",
      "[CV] END algorithm=SAMME.R, learning_rate=0.03820578951355013, n_estimators=137; total time=   1.6s\n",
      "[CV] END algorithm=SAMME.R, learning_rate=0.03820578951355013, n_estimators=137; total time=   1.6s\n",
      "[CV] END algorithm=SAMME.R, learning_rate=0.03820578951355013, n_estimators=137; total time=   1.6s\n",
      "[CV] END algorithm=SAMME.R, learning_rate=0.03820578951355013, n_estimators=137; total time=   1.6s\n",
      "[CV] END algorithm=SAMME.R, learning_rate=0.03820578951355013, n_estimators=137; total time=   1.6s\n",
      "[CV] END algorithm=SAMME.R, learning_rate=0.4792763545078751, n_estimators=179; total time=   2.1s\n",
      "[CV] END algorithm=SAMME.R, learning_rate=0.4792763545078751, n_estimators=179; total time=   2.1s\n",
      "[CV] END algorithm=SAMME.R, learning_rate=0.4792763545078751, n_estimators=179; total time=   2.1s\n",
      "[CV] END algorithm=SAMME.R, learning_rate=0.4792763545078751, n_estimators=179; total time=   2.1s\n",
      "[CV] END algorithm=SAMME.R, learning_rate=0.4792763545078751, n_estimators=179; total time=   2.1s\n",
      "[CV] END algorithm=SAMME.R, learning_rate=0.5061057796456088, n_estimators=210; total time=   2.5s\n",
      "[CV] END algorithm=SAMME.R, learning_rate=0.5061057796456088, n_estimators=210; total time=   2.4s\n",
      "[CV] END algorithm=SAMME.R, learning_rate=0.5061057796456088, n_estimators=210; total time=   2.4s\n",
      "[CV] END algorithm=SAMME.R, learning_rate=0.5061057796456088, n_estimators=210; total time=   2.4s\n",
      "[CV] END algorithm=SAMME.R, learning_rate=0.5061057796456088, n_estimators=210; total time=   2.5s\n",
      "[CV] END algorithm=SAMME.R, learning_rate=0.31582658024414045, n_estimators=285; total time=   3.3s\n",
      "[CV] END algorithm=SAMME.R, learning_rate=0.31582658024414045, n_estimators=285; total time=   3.3s\n",
      "[CV] END algorithm=SAMME.R, learning_rate=0.31582658024414045, n_estimators=285; total time=   3.4s\n",
      "[CV] END algorithm=SAMME.R, learning_rate=0.31582658024414045, n_estimators=285; total time=   3.3s\n",
      "[CV] END algorithm=SAMME.R, learning_rate=0.31582658024414045, n_estimators=285; total time=   3.4s\n",
      "[CV] END algorithm=SAMME, learning_rate=0.15561457009902097, n_estimators=108; total time=   1.0s\n",
      "[CV] END algorithm=SAMME, learning_rate=0.15561457009902097, n_estimators=108; total time=   1.0s\n",
      "[CV] END algorithm=SAMME, learning_rate=0.15561457009902097, n_estimators=108; total time=   1.0s\n",
      "[CV] END algorithm=SAMME, learning_rate=0.15561457009902097, n_estimators=108; total time=   1.0s\n",
      "[CV] END algorithm=SAMME, learning_rate=0.15561457009902097, n_estimators=108; total time=   1.0s\n",
      "[CV] END algorithm=SAMME, learning_rate=0.07974693032602091, n_estimators=269; total time=   2.5s\n",
      "[CV] END algorithm=SAMME, learning_rate=0.07974693032602091, n_estimators=269; total time=   2.5s\n",
      "[CV] END algorithm=SAMME, learning_rate=0.07974693032602091, n_estimators=269; total time=   2.4s\n",
      "[CV] END algorithm=SAMME, learning_rate=0.07974693032602091, n_estimators=269; total time=   2.4s\n",
      "[CV] END algorithm=SAMME, learning_rate=0.07974693032602091, n_estimators=269; total time=   2.4s\n",
      "[CV] END algorithm=SAMME.R, learning_rate=0.19318092164684586, n_estimators=239; total time=   2.8s\n",
      "[CV] END algorithm=SAMME.R, learning_rate=0.19318092164684586, n_estimators=239; total time=   2.7s\n",
      "[CV] END algorithm=SAMME.R, learning_rate=0.19318092164684586, n_estimators=239; total time=   2.7s\n",
      "[CV] END algorithm=SAMME.R, learning_rate=0.19318092164684586, n_estimators=239; total time=   2.8s\n",
      "[CV] END algorithm=SAMME.R, learning_rate=0.19318092164684586, n_estimators=239; total time=   2.8s\n",
      "[CV] END algorithm=SAMME.R, learning_rate=0.4025879806965068, n_estimators=100; total time=   1.2s\n",
      "[CV] END algorithm=SAMME.R, learning_rate=0.4025879806965068, n_estimators=100; total time=   1.1s\n",
      "[CV] END algorithm=SAMME.R, learning_rate=0.4025879806965068, n_estimators=100; total time=   1.1s\n",
      "[CV] END algorithm=SAMME.R, learning_rate=0.4025879806965068, n_estimators=100; total time=   1.1s\n",
      "[CV] END algorithm=SAMME.R, learning_rate=0.4025879806965068, n_estimators=100; total time=   1.1s\n",
      "[CV] END algorithm=SAMME.R, learning_rate=0.2671172192068058, n_estimators=113; total time=   1.3s\n",
      "[CV] END algorithm=SAMME.R, learning_rate=0.2671172192068058, n_estimators=113; total time=   1.3s\n",
      "[CV] END algorithm=SAMME.R, learning_rate=0.2671172192068058, n_estimators=113; total time=   1.3s\n",
      "[CV] END algorithm=SAMME.R, learning_rate=0.2671172192068058, n_estimators=113; total time=   1.3s\n",
      "[CV] END algorithm=SAMME.R, learning_rate=0.2671172192068058, n_estimators=113; total time=   1.3s\n",
      "[CV] END algorithm=SAMME, learning_rate=0.033225206359998864, n_estimators=100; total time=   0.9s\n",
      "[CV] END algorithm=SAMME, learning_rate=0.033225206359998864, n_estimators=100; total time=   0.9s\n",
      "[CV] END algorithm=SAMME, learning_rate=0.033225206359998864, n_estimators=100; total time=   0.9s\n",
      "[CV] END algorithm=SAMME, learning_rate=0.033225206359998864, n_estimators=100; total time=   0.9s\n",
      "[CV] END algorithm=SAMME, learning_rate=0.033225206359998864, n_estimators=100; total time=   0.9s\n",
      "[CV] END algorithm=SAMME, learning_rate=0.09526206184364576, n_estimators=216; total time=   1.9s\n",
      "[CV] END algorithm=SAMME, learning_rate=0.09526206184364576, n_estimators=216; total time=   1.9s\n",
      "[CV] END algorithm=SAMME, learning_rate=0.09526206184364576, n_estimators=216; total time=   1.9s\n",
      "[CV] END algorithm=SAMME, learning_rate=0.09526206184364576, n_estimators=216; total time=   1.9s\n",
      "[CV] END algorithm=SAMME, learning_rate=0.09526206184364576, n_estimators=216; total time=   1.9s\n",
      "[CV] END algorithm=SAMME.R, learning_rate=0.48444276862666663, n_estimators=109; total time=   1.2s\n",
      "[CV] END algorithm=SAMME.R, learning_rate=0.48444276862666663, n_estimators=109; total time=   1.2s\n",
      "[CV] END algorithm=SAMME.R, learning_rate=0.48444276862666663, n_estimators=109; total time=   1.2s\n",
      "[CV] END algorithm=SAMME.R, learning_rate=0.48444276862666663, n_estimators=109; total time=   1.2s\n",
      "[CV] END algorithm=SAMME.R, learning_rate=0.48444276862666663, n_estimators=109; total time=   1.2s\n",
      "[CV] END algorithm=SAMME.R, learning_rate=0.4141986740582306, n_estimators=58; total time=   0.6s\n",
      "[CV] END algorithm=SAMME.R, learning_rate=0.4141986740582306, n_estimators=58; total time=   0.7s\n",
      "[CV] END algorithm=SAMME.R, learning_rate=0.4141986740582306, n_estimators=58; total time=   0.7s\n",
      "[CV] END algorithm=SAMME.R, learning_rate=0.4141986740582306, n_estimators=58; total time=   0.7s\n",
      "[CV] END algorithm=SAMME.R, learning_rate=0.4141986740582306, n_estimators=58; total time=   0.7s\n",
      "[CV] END algorithm=SAMME.R, learning_rate=0.05883605700319194, n_estimators=133; total time=   1.5s\n",
      "[CV] END algorithm=SAMME.R, learning_rate=0.05883605700319194, n_estimators=133; total time=   1.5s\n",
      "[CV] END algorithm=SAMME.R, learning_rate=0.05883605700319194, n_estimators=133; total time=   1.5s\n",
      "[CV] END algorithm=SAMME.R, learning_rate=0.05883605700319194, n_estimators=133; total time=   1.5s\n",
      "[CV] END algorithm=SAMME.R, learning_rate=0.05883605700319194, n_estimators=133; total time=   1.6s\n",
      "[CV] END algorithm=SAMME.R, learning_rate=0.23007624686980066, n_estimators=248; total time=   2.9s\n",
      "[CV] END algorithm=SAMME.R, learning_rate=0.23007624686980066, n_estimators=248; total time=   2.9s\n",
      "[CV] END algorithm=SAMME.R, learning_rate=0.23007624686980066, n_estimators=248; total time=   2.9s\n",
      "[CV] END algorithm=SAMME.R, learning_rate=0.23007624686980066, n_estimators=248; total time=   2.9s\n",
      "[CV] END algorithm=SAMME.R, learning_rate=0.23007624686980066, n_estimators=248; total time=   2.9s\n",
      "[CV] END algorithm=SAMME.R, learning_rate=0.2575884550556351, n_estimators=224; total time=   2.5s\n",
      "[CV] END algorithm=SAMME.R, learning_rate=0.2575884550556351, n_estimators=224; total time=   2.5s\n",
      "[CV] END algorithm=SAMME.R, learning_rate=0.2575884550556351, n_estimators=224; total time=   2.5s\n",
      "[CV] END algorithm=SAMME.R, learning_rate=0.2575884550556351, n_estimators=224; total time=   2.5s\n",
      "[CV] END algorithm=SAMME.R, learning_rate=0.2575884550556351, n_estimators=224; total time=   2.5s\n",
      "[CV] END algorithm=SAMME, learning_rate=0.46466020103939104, n_estimators=213; total time=   1.8s\n",
      "[CV] END algorithm=SAMME, learning_rate=0.46466020103939104, n_estimators=213; total time=   1.9s\n",
      "[CV] END algorithm=SAMME, learning_rate=0.46466020103939104, n_estimators=213; total time=   1.9s\n",
      "[CV] END algorithm=SAMME, learning_rate=0.46466020103939104, n_estimators=213; total time=   1.9s\n",
      "[CV] END algorithm=SAMME, learning_rate=0.46466020103939104, n_estimators=213; total time=   1.9s\n",
      "[CV] END algorithm=SAMME.R, learning_rate=0.341261142176991, n_estimators=51; total time=   0.6s\n",
      "[CV] END algorithm=SAMME.R, learning_rate=0.341261142176991, n_estimators=51; total time=   0.6s\n",
      "[CV] END algorithm=SAMME.R, learning_rate=0.341261142176991, n_estimators=51; total time=   0.6s\n",
      "[CV] END algorithm=SAMME.R, learning_rate=0.341261142176991, n_estimators=51; total time=   0.6s\n",
      "[CV] END algorithm=SAMME.R, learning_rate=0.341261142176991, n_estimators=51; total time=   0.6s\n",
      "[CV] END algorithm=SAMME.R, learning_rate=0.2700340105889054, n_estimators=155; total time=   1.8s\n",
      "[CV] END algorithm=SAMME.R, learning_rate=0.2700340105889054, n_estimators=155; total time=   1.7s\n",
      "[CV] END algorithm=SAMME.R, learning_rate=0.2700340105889054, n_estimators=155; total time=   1.8s\n",
      "[CV] END algorithm=SAMME.R, learning_rate=0.2700340105889054, n_estimators=155; total time=   1.8s\n",
      "[CV] END algorithm=SAMME.R, learning_rate=0.2700340105889054, n_estimators=155; total time=   1.8s\n",
      "[CV] END algorithm=SAMME.R, learning_rate=0.10242722776276351, n_estimators=240; total time=   2.7s\n",
      "[CV] END algorithm=SAMME.R, learning_rate=0.10242722776276351, n_estimators=240; total time=   2.7s\n",
      "[CV] END algorithm=SAMME.R, learning_rate=0.10242722776276351, n_estimators=240; total time=   2.7s\n",
      "[CV] END algorithm=SAMME.R, learning_rate=0.10242722776276351, n_estimators=240; total time=   2.7s\n",
      "[CV] END algorithm=SAMME.R, learning_rate=0.10242722776276351, n_estimators=240; total time=   2.7s\n",
      "[CV] END algorithm=SAMME.R, learning_rate=0.3975664116805573, n_estimators=211; total time=   2.4s\n",
      "[CV] END algorithm=SAMME.R, learning_rate=0.3975664116805573, n_estimators=211; total time=   2.4s\n",
      "[CV] END algorithm=SAMME.R, learning_rate=0.3975664116805573, n_estimators=211; total time=   2.4s\n",
      "[CV] END algorithm=SAMME.R, learning_rate=0.3975664116805573, n_estimators=211; total time=   2.4s\n",
      "[CV] END algorithm=SAMME.R, learning_rate=0.3975664116805573, n_estimators=211; total time=   2.4s\n",
      "[CV] END algorithm=SAMME.R, learning_rate=0.4574136752138244, n_estimators=63; total time=   0.7s\n",
      "[CV] END algorithm=SAMME.R, learning_rate=0.4574136752138244, n_estimators=63; total time=   0.7s\n",
      "[CV] END algorithm=SAMME.R, learning_rate=0.4574136752138244, n_estimators=63; total time=   0.7s\n",
      "[CV] END algorithm=SAMME.R, learning_rate=0.4574136752138244, n_estimators=63; total time=   0.7s\n",
      "[CV] END algorithm=SAMME.R, learning_rate=0.4574136752138244, n_estimators=63; total time=   0.7s\n",
      "[CV] END algorithm=SAMME, learning_rate=0.4709371175115584, n_estimators=249; total time=   2.2s\n",
      "[CV] END algorithm=SAMME, learning_rate=0.4709371175115584, n_estimators=249; total time=   2.1s\n",
      "[CV] END algorithm=SAMME, learning_rate=0.4709371175115584, n_estimators=249; total time=   2.2s\n",
      "[CV] END algorithm=SAMME, learning_rate=0.4709371175115584, n_estimators=249; total time=   2.2s\n",
      "[CV] END algorithm=SAMME, learning_rate=0.4709371175115584, n_estimators=249; total time=   2.2s\n",
      "[CV] END algorithm=SAMME.R, learning_rate=0.1079914312095726, n_estimators=298; total time=   3.4s\n",
      "[CV] END algorithm=SAMME.R, learning_rate=0.1079914312095726, n_estimators=298; total time=   3.4s\n",
      "[CV] END algorithm=SAMME.R, learning_rate=0.1079914312095726, n_estimators=298; total time=   3.4s\n",
      "[CV] END algorithm=SAMME.R, learning_rate=0.1079914312095726, n_estimators=298; total time=   3.4s\n",
      "[CV] END algorithm=SAMME.R, learning_rate=0.1079914312095726, n_estimators=298; total time=   3.5s\n",
      "[CV] END algorithm=SAMME.R, learning_rate=0.17266516538163218, n_estimators=257; total time=   2.9s\n",
      "[CV] END algorithm=SAMME.R, learning_rate=0.17266516538163218, n_estimators=257; total time=   2.9s\n",
      "[CV] END algorithm=SAMME.R, learning_rate=0.17266516538163218, n_estimators=257; total time=   3.0s\n",
      "[CV] END algorithm=SAMME.R, learning_rate=0.17266516538163218, n_estimators=257; total time=   3.0s\n",
      "[CV] END algorithm=SAMME.R, learning_rate=0.17266516538163218, n_estimators=257; total time=   3.0s\n",
      "[CV] END algorithm=SAMME, learning_rate=0.14567451588694796, n_estimators=102; total time=   0.9s\n",
      "[CV] END algorithm=SAMME, learning_rate=0.14567451588694796, n_estimators=102; total time=   0.9s\n",
      "[CV] END algorithm=SAMME, learning_rate=0.14567451588694796, n_estimators=102; total time=   0.9s\n",
      "[CV] END algorithm=SAMME, learning_rate=0.14567451588694796, n_estimators=102; total time=   0.9s\n",
      "[CV] END algorithm=SAMME, learning_rate=0.14567451588694796, n_estimators=102; total time=   0.9s\n",
      "[CV] END algorithm=SAMME.R, learning_rate=0.18837666334679465, n_estimators=237; total time=   2.7s\n",
      "[CV] END algorithm=SAMME.R, learning_rate=0.18837666334679465, n_estimators=237; total time=   2.7s\n",
      "[CV] END algorithm=SAMME.R, learning_rate=0.18837666334679465, n_estimators=237; total time=   2.7s\n",
      "[CV] END algorithm=SAMME.R, learning_rate=0.18837666334679465, n_estimators=237; total time=   2.8s\n",
      "[CV] END algorithm=SAMME.R, learning_rate=0.18837666334679465, n_estimators=237; total time=   2.7s\n",
      "[CV] END algorithm=SAMME.R, learning_rate=0.1479995910112717, n_estimators=206; total time=   2.4s\n",
      "[CV] END algorithm=SAMME.R, learning_rate=0.1479995910112717, n_estimators=206; total time=   2.4s\n",
      "[CV] END algorithm=SAMME.R, learning_rate=0.1479995910112717, n_estimators=206; total time=   2.4s\n",
      "[CV] END algorithm=SAMME.R, learning_rate=0.1479995910112717, n_estimators=206; total time=   2.4s\n",
      "[CV] END algorithm=SAMME.R, learning_rate=0.1479995910112717, n_estimators=206; total time=   2.4s\n",
      "[CV] END algorithm=SAMME, learning_rate=0.09263346953150124, n_estimators=138; total time=   1.2s\n",
      "[CV] END algorithm=SAMME, learning_rate=0.09263346953150124, n_estimators=138; total time=   1.2s\n",
      "[CV] END algorithm=SAMME, learning_rate=0.09263346953150124, n_estimators=138; total time=   1.2s\n",
      "[CV] END algorithm=SAMME, learning_rate=0.09263346953150124, n_estimators=138; total time=   1.2s\n",
      "[CV] END algorithm=SAMME, learning_rate=0.09263346953150124, n_estimators=138; total time=   1.2s\n",
      "[CV] END algorithm=SAMME, learning_rate=0.22170074035318482, n_estimators=178; total time=   1.6s\n",
      "[CV] END algorithm=SAMME, learning_rate=0.22170074035318482, n_estimators=178; total time=   1.5s\n",
      "[CV] END algorithm=SAMME, learning_rate=0.22170074035318482, n_estimators=178; total time=   1.6s\n",
      "[CV] END algorithm=SAMME, learning_rate=0.22170074035318482, n_estimators=178; total time=   1.6s\n",
      "[CV] END algorithm=SAMME, learning_rate=0.22170074035318482, n_estimators=178; total time=   1.6s\n",
      "[CV] END algorithm=SAMME.R, learning_rate=0.15674408735901907, n_estimators=112; total time=   1.3s\n",
      "[CV] END algorithm=SAMME.R, learning_rate=0.15674408735901907, n_estimators=112; total time=   1.3s\n",
      "[CV] END algorithm=SAMME.R, learning_rate=0.15674408735901907, n_estimators=112; total time=   1.3s\n",
      "[CV] END algorithm=SAMME.R, learning_rate=0.15674408735901907, n_estimators=112; total time=   1.3s\n",
      "[CV] END algorithm=SAMME.R, learning_rate=0.15674408735901907, n_estimators=112; total time=   1.3s\n",
      "[CV] END algorithm=SAMME, learning_rate=0.10942120204440257, n_estimators=185; total time=   1.6s\n",
      "[CV] END algorithm=SAMME, learning_rate=0.10942120204440257, n_estimators=185; total time=   1.6s\n",
      "[CV] END algorithm=SAMME, learning_rate=0.10942120204440257, n_estimators=185; total time=   1.6s\n",
      "[CV] END algorithm=SAMME, learning_rate=0.10942120204440257, n_estimators=185; total time=   1.7s\n",
      "[CV] END algorithm=SAMME, learning_rate=0.10942120204440257, n_estimators=185; total time=   1.6s\n",
      "[CV] END algorithm=SAMME, learning_rate=0.40508777026560283, n_estimators=172; total time=   1.5s\n",
      "[CV] END algorithm=SAMME, learning_rate=0.40508777026560283, n_estimators=172; total time=   1.5s\n",
      "[CV] END algorithm=SAMME, learning_rate=0.40508777026560283, n_estimators=172; total time=   1.5s\n",
      "[CV] END algorithm=SAMME, learning_rate=0.40508777026560283, n_estimators=172; total time=   1.5s\n",
      "[CV] END algorithm=SAMME, learning_rate=0.40508777026560283, n_estimators=172; total time=   1.5s\n",
      "[CV] END algorithm=SAMME, learning_rate=0.4731504392566745, n_estimators=299; total time=   2.6s\n",
      "[CV] END algorithm=SAMME, learning_rate=0.4731504392566745, n_estimators=299; total time=   2.6s\n",
      "[CV] END algorithm=SAMME, learning_rate=0.4731504392566745, n_estimators=299; total time=   2.6s\n",
      "[CV] END algorithm=SAMME, learning_rate=0.4731504392566745, n_estimators=299; total time=   2.6s\n",
      "[CV] END algorithm=SAMME, learning_rate=0.4731504392566745, n_estimators=299; total time=   2.6s\n",
      "[CV] END algorithm=SAMME, learning_rate=0.4674798377718904, n_estimators=250; total time=   2.2s\n",
      "[CV] END algorithm=SAMME, learning_rate=0.4674798377718904, n_estimators=250; total time=   2.2s\n",
      "[CV] END algorithm=SAMME, learning_rate=0.4674798377718904, n_estimators=250; total time=   2.2s\n",
      "[CV] END algorithm=SAMME, learning_rate=0.4674798377718904, n_estimators=250; total time=   2.2s\n",
      "[CV] END algorithm=SAMME, learning_rate=0.4674798377718904, n_estimators=250; total time=   2.2s\n",
      "[CV] END algorithm=SAMME.R, learning_rate=0.2347253370691017, n_estimators=82; total time=   0.9s\n",
      "[CV] END algorithm=SAMME.R, learning_rate=0.2347253370691017, n_estimators=82; total time=   0.9s\n",
      "[CV] END algorithm=SAMME.R, learning_rate=0.2347253370691017, n_estimators=82; total time=   0.9s\n",
      "[CV] END algorithm=SAMME.R, learning_rate=0.2347253370691017, n_estimators=82; total time=   0.9s\n",
      "[CV] END algorithm=SAMME.R, learning_rate=0.2347253370691017, n_estimators=82; total time=   0.9s\n",
      "[CV] END algorithm=SAMME.R, learning_rate=0.1954091260991332, n_estimators=111; total time=   1.2s\n",
      "[CV] END algorithm=SAMME.R, learning_rate=0.1954091260991332, n_estimators=111; total time=   1.2s\n",
      "[CV] END algorithm=SAMME.R, learning_rate=0.1954091260991332, n_estimators=111; total time=   1.3s\n",
      "[CV] END algorithm=SAMME.R, learning_rate=0.1954091260991332, n_estimators=111; total time=   1.2s\n",
      "[CV] END algorithm=SAMME.R, learning_rate=0.1954091260991332, n_estimators=111; total time=   1.2s\n",
      "[CV] END algorithm=SAMME.R, learning_rate=0.34296117830874834, n_estimators=221; total time=   2.5s\n",
      "[CV] END algorithm=SAMME.R, learning_rate=0.34296117830874834, n_estimators=221; total time=   2.5s\n",
      "[CV] END algorithm=SAMME.R, learning_rate=0.34296117830874834, n_estimators=221; total time=   2.5s\n",
      "[CV] END algorithm=SAMME.R, learning_rate=0.34296117830874834, n_estimators=221; total time=   2.5s\n",
      "[CV] END algorithm=SAMME.R, learning_rate=0.34296117830874834, n_estimators=221; total time=   2.5s\n",
      "[CV] END algorithm=SAMME.R, learning_rate=0.1473608964950321, n_estimators=84; total time=   0.9s\n",
      "[CV] END algorithm=SAMME.R, learning_rate=0.1473608964950321, n_estimators=84; total time=   0.9s\n",
      "[CV] END algorithm=SAMME.R, learning_rate=0.1473608964950321, n_estimators=84; total time=   1.0s\n",
      "[CV] END algorithm=SAMME.R, learning_rate=0.1473608964950321, n_estimators=84; total time=   1.0s\n",
      "[CV] END algorithm=SAMME.R, learning_rate=0.1473608964950321, n_estimators=84; total time=   1.0s\n",
      "[CV] END algorithm=SAMME, learning_rate=0.20146343737689493, n_estimators=224; total time=   2.0s\n",
      "[CV] END algorithm=SAMME, learning_rate=0.20146343737689493, n_estimators=224; total time=   1.9s\n",
      "[CV] END algorithm=SAMME, learning_rate=0.20146343737689493, n_estimators=224; total time=   2.0s\n",
      "[CV] END algorithm=SAMME, learning_rate=0.20146343737689493, n_estimators=224; total time=   2.0s\n",
      "[CV] END algorithm=SAMME, learning_rate=0.20146343737689493, n_estimators=224; total time=   2.0s\n",
      "[CV] END algorithm=SAMME.R, learning_rate=0.43445691213304194, n_estimators=54; total time=   0.6s\n",
      "[CV] END algorithm=SAMME.R, learning_rate=0.43445691213304194, n_estimators=54; total time=   0.6s\n",
      "[CV] END algorithm=SAMME.R, learning_rate=0.43445691213304194, n_estimators=54; total time=   0.6s\n",
      "[CV] END algorithm=SAMME.R, learning_rate=0.43445691213304194, n_estimators=54; total time=   0.6s\n",
      "[CV] END algorithm=SAMME.R, learning_rate=0.43445691213304194, n_estimators=54; total time=   0.6s\n",
      "[CV] END algorithm=SAMME.R, learning_rate=0.12799245987447788, n_estimators=191; total time=   2.2s\n",
      "[CV] END algorithm=SAMME.R, learning_rate=0.12799245987447788, n_estimators=191; total time=   2.2s\n",
      "[CV] END algorithm=SAMME.R, learning_rate=0.12799245987447788, n_estimators=191; total time=   2.2s\n",
      "[CV] END algorithm=SAMME.R, learning_rate=0.12799245987447788, n_estimators=191; total time=   2.2s\n",
      "[CV] END algorithm=SAMME.R, learning_rate=0.12799245987447788, n_estimators=191; total time=   2.2s\n",
      "[CV] END algorithm=SAMME, learning_rate=0.030216794769215675, n_estimators=256; total time=   2.3s\n",
      "[CV] END algorithm=SAMME, learning_rate=0.030216794769215675, n_estimators=256; total time=   2.2s\n",
      "[CV] END algorithm=SAMME, learning_rate=0.030216794769215675, n_estimators=256; total time=   2.3s\n",
      "[CV] END algorithm=SAMME, learning_rate=0.030216794769215675, n_estimators=256; total time=   2.2s\n",
      "[CV] END algorithm=SAMME, learning_rate=0.030216794769215675, n_estimators=256; total time=   2.3s\n",
      "[CV] END algorithm=SAMME, learning_rate=0.06544541040591566, n_estimators=173; total time=   1.5s\n",
      "[CV] END algorithm=SAMME, learning_rate=0.06544541040591566, n_estimators=173; total time=   1.5s\n",
      "[CV] END algorithm=SAMME, learning_rate=0.06544541040591566, n_estimators=173; total time=   1.5s\n",
      "[CV] END algorithm=SAMME, learning_rate=0.06544541040591566, n_estimators=173; total time=   1.5s\n",
      "[CV] END algorithm=SAMME, learning_rate=0.06544541040591566, n_estimators=173; total time=   1.5s\n",
      "[CV] END algorithm=SAMME, learning_rate=0.1108596011676981, n_estimators=145; total time=   1.3s\n",
      "[CV] END algorithm=SAMME, learning_rate=0.1108596011676981, n_estimators=145; total time=   1.3s\n",
      "[CV] END algorithm=SAMME, learning_rate=0.1108596011676981, n_estimators=145; total time=   1.3s\n",
      "[CV] END algorithm=SAMME, learning_rate=0.1108596011676981, n_estimators=145; total time=   1.3s\n",
      "[CV] END algorithm=SAMME, learning_rate=0.1108596011676981, n_estimators=145; total time=   1.3s\n",
      "Best parameters for Adaboost: {'algorithm': 'SAMME.R', 'learning_rate': 0.2575884550556351, 'n_estimators': 224}\n",
      "Best score for Adaboost: 0.7227178769931975\n"
     ]
    }
   ],
   "source": [
    "# Create the Adaboost classifier and perform RandomizedSearchCV\n",
    "ada = AdaBoostClassifier(random_state=42)\n",
    "ada_random = RandomizedSearchCV(estimator=ada, param_distributions=ada_param_dist, n_iter=50,\n",
    "                                cv=5, random_state=42, n_jobs=-1, verbose=2)\n",
    "ada_random.fit(X_train, y_train)\n",
    "\n",
    "# Print the best parameters and score for each classifier\n",
    "print(\"Best parameters for Adaboost:\", ada_random.best_params_)\n",
    "print(\"Best score for Adaboost:\", ada_random.best_score_)"
   ]
  },
  {
   "cell_type": "code",
   "execution_count": 15,
   "metadata": {
    "cell_id": "6f28484b08794706b4b3a8eb99fbbee8",
    "deepnote_cell_type": "code",
    "deepnote_to_be_reexecuted": false,
    "execution_millis": 22720,
    "execution_start": 1677472592169,
    "source_hash": "e157953d",
    "tags": []
   },
   "outputs": [
    {
     "name": "stdout",
     "output_type": "stream",
     "text": [
      "AdaBoost Classifier\n",
      "Accuracy on validation set: 72.65%\n",
      "Accuracy on test set: 72.62%\n",
      "Cross-validation score: 72.27% (+/- 1.13%)\n",
      "Classification report:\n",
      "               precision    recall  f1-score   support\n",
      "\n",
      "           0       0.70      0.82      0.75      6159\n",
      "           1       0.77      0.63      0.69      5870\n",
      "\n",
      "    accuracy                           0.73     12029\n",
      "   macro avg       0.73      0.72      0.72     12029\n",
      "weighted avg       0.73      0.73      0.72     12029\n",
      "\n"
     ]
    }
   ],
   "source": [
    "# Train Adaboost Classifier with the best hyperparameters\n",
    "ada_best = AdaBoostClassifier(algorithm='SAMME.R', learning_rate=0.2575884550556351, n_estimators=224, random_state=42)\n",
    "ada_best.fit(X_train, y_train)\n",
    "\n",
    "# Evaluate the model on validation set\n",
    "y_pred = ada_best.predict(X_val)\n",
    "acc_val = accuracy_score(y_val, y_pred)\n",
    "\n",
    "# Evaluate the model on test set\n",
    "y_pred = ada_best.predict(X_test)\n",
    "acc_test = accuracy_score(y_test, y_pred)\n",
    "\n",
    "# Evaluate the model using cross-validation\n",
    "cv_scores = cross_val_score(ada_best, X_train_val, y_train_val, cv=5)\n",
    "\n",
    "# Print the performance metrics\n",
    "print(\"AdaBoost Classifier\")\n",
    "print(\"Accuracy on validation set: {:.2f}%\".format(acc_val*100))\n",
    "print(\"Accuracy on test set: {:.2f}%\".format(acc_test*100))\n",
    "print(\"Cross-validation score: {:.2f}% (+/- {:.2f}%)\".format(cv_scores.mean()*100, cv_scores.std()*2*100))\n",
    "print(\"Classification report:\\n\", classification_report(y_test, y_pred))"
   ]
  },
  {
   "cell_type": "code",
   "execution_count": 16,
   "metadata": {
    "cell_id": "b42517c083004a349daeecfe9fc76ad0",
    "deepnote_cell_type": "code",
    "deepnote_to_be_reexecuted": false,
    "execution_millis": 455,
    "execution_start": 1677472614889,
    "source_hash": "da89326a",
    "tags": []
   },
   "outputs": [
    {
     "data": {
      "image/png": "[encoded data removed]",
      "text/plain": [
       "<Figure size 640x480 with 2 Axes>"
      ]
     },
     "metadata": {
      "image/png": {
       "height": 435,
       "width": 515
      }
     },
     "output_type": "display_data"
    }
   ],
   "source": [
    "plot_confusion_matrix(ada_best, X_test, y_test);"
   ]
  },
  {
   "cell_type": "code",
   "execution_count": 17,
   "metadata": {
    "cell_id": "1726fb3afdfb42ec84855c7f7af705a2",
    "deepnote_cell_type": "code",
    "deepnote_to_be_reexecuted": false,
    "execution_millis": 902766,
    "execution_start": 1677352101935,
    "source_hash": "e80c88e4",
    "tags": []
   },
   "outputs": [
    {
     "name": "stdout",
     "output_type": "stream",
     "text": [
      "Fitting 5 folds for each of 50 candidates, totalling 250 fits\n",
      "[CV] END learning_rate=0.19727005942368125, max_depth=7, max_features=None, n_estimators=156, subsample=0.8017219002454924; total time=   5.5s\n",
      "[CV] END learning_rate=0.19727005942368125, max_depth=7, max_features=None, n_estimators=156, subsample=0.8017219002454924; total time=   5.6s\n",
      "[CV] END learning_rate=0.19727005942368125, max_depth=7, max_features=None, n_estimators=156, subsample=0.8017219002454924; total time=   5.6s\n",
      "[CV] END learning_rate=0.19727005942368125, max_depth=7, max_features=None, n_estimators=156, subsample=0.8017219002454924; total time=   5.5s\n",
      "[CV] END learning_rate=0.19727005942368125, max_depth=7, max_features=None, n_estimators=156, subsample=0.8017219002454924; total time=   5.5s\n",
      "[CV] END learning_rate=0.3084250789732435, max_depth=4, max_features=None, n_estimators=264, subsample=0.15227525095137953; total time=   2.2s\n",
      "[CV] END learning_rate=0.3084250789732435, max_depth=4, max_features=None, n_estimators=264, subsample=0.15227525095137953; total time=   2.2s\n",
      "[CV] END learning_rate=0.3084250789732435, max_depth=4, max_features=None, n_estimators=264, subsample=0.15227525095137953; total time=   2.2s\n",
      "[CV] END learning_rate=0.3084250789732435, max_depth=4, max_features=None, n_estimators=264, subsample=0.15227525095137953; total time=   2.2s\n",
      "[CV] END learning_rate=0.3084250789732435, max_depth=4, max_features=None, n_estimators=264, subsample=0.15227525095137953; total time=   2.2s\n",
      "[CV] END learning_rate=0.4430880728874676, max_depth=6, max_features=None, n_estimators=199, subsample=0.15077042112439024; total time=   2.2s\n",
      "[CV] END learning_rate=0.4430880728874676, max_depth=6, max_features=None, n_estimators=199, subsample=0.15077042112439024; total time=   2.1s\n",
      "[CV] END learning_rate=0.4430880728874676, max_depth=6, max_features=None, n_estimators=199, subsample=0.15077042112439024; total time=   2.1s\n",
      "[CV] END learning_rate=0.4430880728874676, max_depth=6, max_features=None, n_estimators=199, subsample=0.15077042112439024; total time=   2.1s\n",
      "[CV] END learning_rate=0.4430880728874676, max_depth=6, max_features=None, n_estimators=199, subsample=0.15077042112439024; total time=   2.1s\n",
      "[CV] END learning_rate=0.3709993861334124, max_depth=8, max_features=log2, n_estimators=179, subsample=0.26364247048639056; total time=   2.3s\n",
      "[CV] END learning_rate=0.3709993861334124, max_depth=8, max_features=log2, n_estimators=179, subsample=0.26364247048639056; total time=   2.3s\n",
      "[CV] END learning_rate=0.3709993861334124, max_depth=8, max_features=log2, n_estimators=179, subsample=0.26364247048639056; total time=   2.3s\n",
      "[CV] END learning_rate=0.3709993861334124, max_depth=8, max_features=log2, n_estimators=179, subsample=0.26364247048639056; total time=   2.3s\n",
      "[CV] END learning_rate=0.3709993861334124, max_depth=8, max_features=log2, n_estimators=179, subsample=0.26364247048639056; total time=   2.3s\n",
      "[CV] END learning_rate=0.1017022549267169, max_depth=6, max_features=log2, n_estimators=71, subsample=0.10635967469774567; total time=   0.5s\n",
      "[CV] END learning_rate=0.1017022549267169, max_depth=6, max_features=log2, n_estimators=71, subsample=0.10635967469774567; total time=   0.5s\n",
      "[CV] END learning_rate=0.1017022549267169, max_depth=6, max_features=log2, n_estimators=71, subsample=0.10635967469774567; total time=   0.5s\n",
      "[CV] END learning_rate=0.1017022549267169, max_depth=6, max_features=log2, n_estimators=71, subsample=0.10635967469774567; total time=   0.5s\n",
      "[CV] END learning_rate=0.1017022549267169, max_depth=6, max_features=log2, n_estimators=71, subsample=0.10635967469774567; total time=   0.5s\n",
      "[CV] END learning_rate=0.02153121252070788, max_depth=5, max_features=None, n_estimators=219, subsample=0.1419990968922539; total time=   2.1s\n",
      "[CV] END learning_rate=0.02153121252070788, max_depth=5, max_features=None, n_estimators=219, subsample=0.1419990968922539; total time=   2.1s\n",
      "[CV] END learning_rate=0.02153121252070788, max_depth=5, max_features=None, n_estimators=219, subsample=0.1419990968922539; total time=   2.1s\n",
      "[CV] END learning_rate=0.02153121252070788, max_depth=5, max_features=None, n_estimators=219, subsample=0.1419990968922539; total time=   2.1s\n",
      "[CV] END learning_rate=0.02153121252070788, max_depth=5, max_features=None, n_estimators=219, subsample=0.1419990968922539; total time=   2.1s\n",
      "[CV] END learning_rate=0.4968777594207296, max_depth=9, max_features=log2, n_estimators=239, subsample=0.8066583652537123; total time=   6.3s\n",
      "[CV] END learning_rate=0.4968777594207296, max_depth=9, max_features=log2, n_estimators=239, subsample=0.8066583652537123; total time=   6.7s\n",
      "[CV] END learning_rate=0.4968777594207296, max_depth=9, max_features=log2, n_estimators=239, subsample=0.8066583652537123; total time=   6.8s\n",
      "[CV] END learning_rate=0.4968777594207296, max_depth=9, max_features=log2, n_estimators=239, subsample=0.8066583652537123; total time=   6.7s\n",
      "[CV] END learning_rate=0.4968777594207296, max_depth=9, max_features=log2, n_estimators=239, subsample=0.8066583652537123; total time=   6.3s\n",
      "[CV] END learning_rate=0.10983689107917986, max_depth=9, max_features=sqrt, n_estimators=180, subsample=0.8739463660626885; total time=   5.0s\n",
      "[CV] END learning_rate=0.10983689107917986, max_depth=9, max_features=sqrt, n_estimators=180, subsample=0.8739463660626885; total time=   5.1s\n",
      "[CV] END learning_rate=0.10983689107917986, max_depth=9, max_features=sqrt, n_estimators=180, subsample=0.8739463660626885; total time=   4.9s\n",
      "[CV] END learning_rate=0.10983689107917986, max_depth=9, max_features=sqrt, n_estimators=180, subsample=0.8739463660626885; total time=   4.9s\n",
      "[CV] END learning_rate=0.10983689107917986, max_depth=9, max_features=sqrt, n_estimators=180, subsample=0.8739463660626885; total time=   5.0s\n",
      "[CV] END learning_rate=0.35015376929388986, max_depth=3, max_features=None, n_estimators=67, subsample=0.9539969835279999; total time=   1.3s\n",
      "[CV] END learning_rate=0.35015376929388986, max_depth=3, max_features=None, n_estimators=67, subsample=0.9539969835279999; total time=   1.3s\n",
      "[CV] END learning_rate=0.35015376929388986, max_depth=3, max_features=None, n_estimators=67, subsample=0.9539969835279999; total time=   1.3s\n",
      "[CV] END learning_rate=0.35015376929388986, max_depth=3, max_features=None, n_estimators=67, subsample=0.9539969835279999; total time=   1.3s\n",
      "[CV] END learning_rate=0.35015376929388986, max_depth=3, max_features=None, n_estimators=67, subsample=0.9539969835279999; total time=   1.3s\n",
      "[CV] END learning_rate=0.4928160165372797, max_depth=4, max_features=log2, n_estimators=58, subsample=0.11436962699819278; total time=   0.3s\n",
      "[CV] END learning_rate=0.4928160165372797, max_depth=4, max_features=log2, n_estimators=58, subsample=0.11436962699819278; total time=   0.3s\n",
      "[CV] END learning_rate=0.4928160165372797, max_depth=4, max_features=log2, n_estimators=58, subsample=0.11436962699819278; total time=   0.3s\n",
      "[CV] END learning_rate=0.4928160165372797, max_depth=4, max_features=log2, n_estimators=58, subsample=0.11436962699819278; total time=   0.3s\n",
      "[CV] END learning_rate=0.4928160165372797, max_depth=4, max_features=log2, n_estimators=58, subsample=0.11436962699819278; total time=   0.3s\n",
      "[CV] END learning_rate=0.1254469128110745, max_depth=6, max_features=None, n_estimators=237, subsample=0.20983441136030095; total time=   3.1s\n",
      "[CV] END learning_rate=0.1254469128110745, max_depth=6, max_features=None, n_estimators=237, subsample=0.20983441136030095; total time=   3.2s\n",
      "[CV] END learning_rate=0.1254469128110745, max_depth=6, max_features=None, n_estimators=237, subsample=0.20983441136030095; total time=   3.2s\n",
      "[CV] END learning_rate=0.1254469128110745, max_depth=6, max_features=None, n_estimators=237, subsample=0.20983441136030095; total time=   3.1s\n",
      "[CV] END learning_rate=0.1254469128110745, max_depth=6, max_features=None, n_estimators=237, subsample=0.20983441136030095; total time=   3.2s\n",
      "[CV] END learning_rate=0.2575884550556351, max_depth=9, max_features=None, n_estimators=255, subsample=0.45195454681591674; total time=   9.2s\n",
      "[CV] END learning_rate=0.2575884550556351, max_depth=9, max_features=None, n_estimators=255, subsample=0.45195454681591674; total time=   8.8s\n",
      "[CV] END learning_rate=0.2575884550556351, max_depth=9, max_features=None, n_estimators=255, subsample=0.45195454681591674; total time=   8.8s\n",
      "[CV] END learning_rate=0.2575884550556351, max_depth=9, max_features=None, n_estimators=255, subsample=0.45195454681591674; total time=   9.3s\n",
      "[CV] END learning_rate=0.2575884550556351, max_depth=9, max_features=None, n_estimators=255, subsample=0.45195454681591674; total time=   9.1s\n",
      "[CV] END learning_rate=0.10111804389403116, max_depth=6, max_features=log2, n_estimators=183, subsample=0.28714749658136995; total time=   1.8s\n",
      "[CV] END learning_rate=0.10111804389403116, max_depth=6, max_features=log2, n_estimators=183, subsample=0.28714749658136995; total time=   1.8s\n",
      "[CV] END learning_rate=0.10111804389403116, max_depth=6, max_features=log2, n_estimators=183, subsample=0.28714749658136995; total time=   1.8s\n",
      "[CV] END learning_rate=0.10111804389403116, max_depth=6, max_features=log2, n_estimators=183, subsample=0.28714749658136995; total time=   1.8s\n",
      "[CV] END learning_rate=0.10111804389403116, max_depth=6, max_features=log2, n_estimators=183, subsample=0.28714749658136995; total time=   1.8s\n",
      "[CV] END learning_rate=0.29385016390999574, max_depth=7, max_features=None, n_estimators=195, subsample=0.7976195410250031; total time=   6.9s\n",
      "[CV] END learning_rate=0.29385016390999574, max_depth=7, max_features=None, n_estimators=195, subsample=0.7976195410250031; total time=   6.9s\n",
      "[CV] END learning_rate=0.29385016390999574, max_depth=7, max_features=None, n_estimators=195, subsample=0.7976195410250031; total time=   6.9s\n",
      "[CV] END learning_rate=0.29385016390999574, max_depth=7, max_features=None, n_estimators=195, subsample=0.7976195410250031; total time=   6.9s\n",
      "[CV] END learning_rate=0.29385016390999574, max_depth=7, max_features=None, n_estimators=195, subsample=0.7976195410250031; total time=   6.9s\n",
      "[CV] END learning_rate=0.47974947078209457, max_depth=8, max_features=log2, n_estimators=144, subsample=0.9296868115208051; total time=   3.1s\n",
      "[CV] END learning_rate=0.47974947078209457, max_depth=8, max_features=log2, n_estimators=144, subsample=0.9296868115208051; total time=   3.2s\n",
      "[CV] END learning_rate=0.47974947078209457, max_depth=8, max_features=log2, n_estimators=144, subsample=0.9296868115208051; total time=   3.1s\n",
      "[CV] END learning_rate=0.47974947078209457, max_depth=8, max_features=log2, n_estimators=144, subsample=0.9296868115208051; total time=   3.1s\n",
      "[CV] END learning_rate=0.47974947078209457, max_depth=8, max_features=log2, n_estimators=144, subsample=0.9296868115208051; total time=   3.1s\n",
      "[CV] END learning_rate=0.05424625102595975, max_depth=9, max_features=sqrt, n_estimators=239, subsample=0.39279729768693794; total time=   5.1s\n",
      "[CV] END learning_rate=0.05424625102595975, max_depth=9, max_features=sqrt, n_estimators=239, subsample=0.39279729768693794; total time=   5.1s\n",
      "[CV] END learning_rate=0.05424625102595975, max_depth=9, max_features=sqrt, n_estimators=239, subsample=0.39279729768693794; total time=   5.0s\n",
      "[CV] END learning_rate=0.05424625102595975, max_depth=9, max_features=sqrt, n_estimators=239, subsample=0.39279729768693794; total time=   5.0s\n",
      "[CV] END learning_rate=0.05424625102595975, max_depth=9, max_features=sqrt, n_estimators=239, subsample=0.39279729768693794; total time=   5.0s\n",
      "[CV] END learning_rate=0.204338644844741, max_depth=4, max_features=None, n_estimators=102, subsample=0.6280760490974634; total time=   1.9s\n",
      "[CV] END learning_rate=0.204338644844741, max_depth=4, max_features=None, n_estimators=102, subsample=0.6280760490974634; total time=   1.9s\n",
      "[CV] END learning_rate=0.204338644844741, max_depth=4, max_features=None, n_estimators=102, subsample=0.6280760490974634; total time=   1.9s\n",
      "[CV] END learning_rate=0.204338644844741, max_depth=4, max_features=None, n_estimators=102, subsample=0.6280760490974634; total time=   1.9s\n",
      "[CV] END learning_rate=0.204338644844741, max_depth=4, max_features=None, n_estimators=102, subsample=0.6280760490974634; total time=   1.9s\n",
      "[CV] END learning_rate=0.492627653632069, max_depth=6, max_features=sqrt, n_estimators=90, subsample=0.36664615513367416; total time=   1.0s\n",
      "[CV] END learning_rate=0.492627653632069, max_depth=6, max_features=sqrt, n_estimators=90, subsample=0.36664615513367416; total time=   1.0s\n",
      "[CV] END learning_rate=0.492627653632069, max_depth=6, max_features=sqrt, n_estimators=90, subsample=0.36664615513367416; total time=   1.0s\n",
      "[CV] END learning_rate=0.492627653632069, max_depth=6, max_features=sqrt, n_estimators=90, subsample=0.36664615513367416; total time=   1.0s\n",
      "[CV] END learning_rate=0.492627653632069, max_depth=6, max_features=sqrt, n_estimators=90, subsample=0.36664615513367416; total time=   1.0s\n",
      "[CV] END learning_rate=0.09263346953150124, max_depth=3, max_features=None, n_estimators=58, subsample=0.7950202923669917; total time=   1.0s\n",
      "[CV] END learning_rate=0.09263346953150124, max_depth=3, max_features=None, n_estimators=58, subsample=0.7950202923669917; total time=   1.0s\n",
      "[CV] END learning_rate=0.09263346953150124, max_depth=3, max_features=None, n_estimators=58, subsample=0.7950202923669917; total time=   1.0s\n",
      "[CV] END learning_rate=0.09263346953150124, max_depth=3, max_features=None, n_estimators=58, subsample=0.7950202923669917; total time=   1.0s\n",
      "[CV] END learning_rate=0.09263346953150124, max_depth=3, max_features=None, n_estimators=58, subsample=0.7950202923669917; total time=   1.0s\n",
      "[CV] END learning_rate=0.1093578407670862, max_depth=9, max_features=None, n_estimators=292, subsample=0.7361716094628554; total time=  14.3s\n",
      "[CV] END learning_rate=0.1093578407670862, max_depth=9, max_features=None, n_estimators=292, subsample=0.7361716094628554; total time=  14.2s\n",
      "[CV] END learning_rate=0.1093578407670862, max_depth=9, max_features=None, n_estimators=292, subsample=0.7361716094628554; total time=  14.1s\n",
      "[CV] END learning_rate=0.1093578407670862, max_depth=9, max_features=None, n_estimators=292, subsample=0.7361716094628554; total time=  14.1s\n",
      "[CV] END learning_rate=0.1093578407670862, max_depth=9, max_features=None, n_estimators=292, subsample=0.7361716094628554; total time=  14.2s\n",
      "[CV] END learning_rate=0.37450358402049366, max_depth=3, max_features=None, n_estimators=54, subsample=0.9336707906620141; total time=   1.0s\n",
      "[CV] END learning_rate=0.37450358402049366, max_depth=3, max_features=None, n_estimators=54, subsample=0.9336707906620141; total time=   1.0s\n",
      "[CV] END learning_rate=0.37450358402049366, max_depth=3, max_features=None, n_estimators=54, subsample=0.9336707906620141; total time=   1.0s\n",
      "[CV] END learning_rate=0.37450358402049366, max_depth=3, max_features=None, n_estimators=54, subsample=0.9336707906620141; total time=   1.0s\n",
      "[CV] END learning_rate=0.37450358402049366, max_depth=3, max_features=None, n_estimators=54, subsample=0.9336707906620141; total time=   1.0s\n",
      "[CV] END learning_rate=0.33553851275097224, max_depth=6, max_features=None, n_estimators=250, subsample=0.6609683141448022; total time=   6.7s\n",
      "[CV] END learning_rate=0.33553851275097224, max_depth=6, max_features=None, n_estimators=250, subsample=0.6609683141448022; total time=   6.7s\n",
      "[CV] END learning_rate=0.33553851275097224, max_depth=6, max_features=None, n_estimators=250, subsample=0.6609683141448022; total time=   6.6s\n",
      "[CV] END learning_rate=0.33553851275097224, max_depth=6, max_features=None, n_estimators=250, subsample=0.6609683141448022; total time=   6.6s\n",
      "[CV] END learning_rate=0.33553851275097224, max_depth=6, max_features=None, n_estimators=250, subsample=0.6609683141448022; total time=   6.6s\n",
      "[CV] END learning_rate=0.1754490124263246, max_depth=9, max_features=None, n_estimators=111, subsample=0.3926649898240724; total time=   3.7s\n",
      "[CV] END learning_rate=0.1754490124263246, max_depth=9, max_features=None, n_estimators=111, subsample=0.3926649898240724; total time=   3.7s\n",
      "[CV] END learning_rate=0.1754490124263246, max_depth=9, max_features=None, n_estimators=111, subsample=0.3926649898240724; total time=   3.7s\n",
      "[CV] END learning_rate=0.1754490124263246, max_depth=9, max_features=None, n_estimators=111, subsample=0.3926649898240724; total time=   3.7s\n",
      "[CV] END learning_rate=0.1754490124263246, max_depth=9, max_features=None, n_estimators=111, subsample=0.3926649898240724; total time=   3.7s\n",
      "[CV] END learning_rate=0.37480308916903204, max_depth=8, max_features=None, n_estimators=84, subsample=0.5249934326457544; total time=   2.7s\n",
      "[CV] END learning_rate=0.37480308916903204, max_depth=8, max_features=None, n_estimators=84, subsample=0.5249934326457544; total time=   2.7s\n",
      "[CV] END learning_rate=0.37480308916903204, max_depth=8, max_features=None, n_estimators=84, subsample=0.5249934326457544; total time=   2.7s\n",
      "[CV] END learning_rate=0.37480308916903204, max_depth=8, max_features=None, n_estimators=84, subsample=0.5249934326457544; total time=   2.7s\n",
      "[CV] END learning_rate=0.37480308916903204, max_depth=8, max_features=None, n_estimators=84, subsample=0.5249934326457544; total time=   2.7s\n",
      "[CV] END learning_rate=0.06979712296915085, max_depth=8, max_features=None, n_estimators=50, subsample=0.7495565690483859; total time=   2.1s\n",
      "[CV] END learning_rate=0.06979712296915085, max_depth=8, max_features=None, n_estimators=50, subsample=0.7495565690483859; total time=   2.0s\n",
      "[CV] END learning_rate=0.06979712296915085, max_depth=8, max_features=None, n_estimators=50, subsample=0.7495565690483859; total time=   2.0s\n",
      "[CV] END learning_rate=0.06979712296915085, max_depth=8, max_features=None, n_estimators=50, subsample=0.7495565690483859; total time=   2.0s\n",
      "[CV] END learning_rate=0.06979712296915085, max_depth=8, max_features=None, n_estimators=50, subsample=0.7495565690483859; total time=   2.0s\n",
      "[CV] END learning_rate=0.12799245987447788, max_depth=8, max_features=None, n_estimators=76, subsample=0.5704595464437947; total time=   2.6s\n",
      "[CV] END learning_rate=0.12799245987447788, max_depth=8, max_features=None, n_estimators=76, subsample=0.5704595464437947; total time=   2.5s\n",
      "[CV] END learning_rate=0.12799245987447788, max_depth=8, max_features=None, n_estimators=76, subsample=0.5704595464437947; total time=   2.6s\n",
      "[CV] END learning_rate=0.12799245987447788, max_depth=8, max_features=None, n_estimators=76, subsample=0.5704595464437947; total time=   2.6s\n",
      "[CV] END learning_rate=0.12799245987447788, max_depth=8, max_features=None, n_estimators=76, subsample=0.5704595464437947; total time=   2.6s\n",
      "[CV] END learning_rate=0.22377050917927482, max_depth=4, max_features=sqrt, n_estimators=228, subsample=0.12828626711806082; total time=   1.3s\n",
      "[CV] END learning_rate=0.22377050917927482, max_depth=4, max_features=sqrt, n_estimators=228, subsample=0.12828626711806082; total time=   1.4s\n",
      "[CV] END learning_rate=0.22377050917927482, max_depth=4, max_features=sqrt, n_estimators=228, subsample=0.12828626711806082; total time=   1.4s\n",
      "[CV] END learning_rate=0.22377050917927482, max_depth=4, max_features=sqrt, n_estimators=228, subsample=0.12828626711806082; total time=   1.4s\n",
      "[CV] END learning_rate=0.22377050917927482, max_depth=4, max_features=sqrt, n_estimators=228, subsample=0.12828626711806082; total time=   1.4s\n",
      "[CV] END learning_rate=0.3282052056318902, max_depth=6, max_features=sqrt, n_estimators=145, subsample=0.7259644777835147; total time=   1.9s\n",
      "[CV] END learning_rate=0.3282052056318902, max_depth=6, max_features=sqrt, n_estimators=145, subsample=0.7259644777835147; total time=   1.9s\n",
      "[CV] END learning_rate=0.3282052056318902, max_depth=6, max_features=sqrt, n_estimators=145, subsample=0.7259644777835147; total time=   1.9s\n",
      "[CV] END learning_rate=0.3282052056318902, max_depth=6, max_features=sqrt, n_estimators=145, subsample=0.7259644777835147; total time=   1.9s\n",
      "[CV] END learning_rate=0.3282052056318902, max_depth=6, max_features=sqrt, n_estimators=145, subsample=0.7259644777835147; total time=   1.9s\n",
      "[CV] END learning_rate=0.07966572720293784, max_depth=9, max_features=sqrt, n_estimators=192, subsample=0.7799960246887438; total time=   5.0s\n",
      "[CV] END learning_rate=0.07966572720293784, max_depth=9, max_features=sqrt, n_estimators=192, subsample=0.7799960246887438; total time=   5.0s\n",
      "[CV] END learning_rate=0.07966572720293784, max_depth=9, max_features=sqrt, n_estimators=192, subsample=0.7799960246887438; total time=   5.1s\n",
      "[CV] END learning_rate=0.07966572720293784, max_depth=9, max_features=sqrt, n_estimators=192, subsample=0.7799960246887438; total time=   5.0s\n",
      "[CV] END learning_rate=0.07966572720293784, max_depth=9, max_features=sqrt, n_estimators=192, subsample=0.7799960246887438; total time=   5.0s\n",
      "[CV] END learning_rate=0.12439908274581123, max_depth=9, max_features=None, n_estimators=292, subsample=0.24509915852860398; total time=   7.6s\n",
      "[CV] END learning_rate=0.12439908274581123, max_depth=9, max_features=None, n_estimators=292, subsample=0.24509915852860398; total time=   7.5s\n",
      "[CV] END learning_rate=0.12439908274581123, max_depth=9, max_features=None, n_estimators=292, subsample=0.24509915852860398; total time=   7.3s\n",
      "[CV] END learning_rate=0.12439908274581123, max_depth=9, max_features=None, n_estimators=292, subsample=0.24509915852860398; total time=   7.6s\n",
      "[CV] END learning_rate=0.12439908274581123, max_depth=9, max_features=None, n_estimators=292, subsample=0.24509915852860398; total time=   7.6s\n",
      "[CV] END learning_rate=0.47484882617128654, max_depth=7, max_features=log2, n_estimators=234, subsample=0.19494483384724354; total time=   2.3s\n",
      "[CV] END learning_rate=0.47484882617128654, max_depth=7, max_features=log2, n_estimators=234, subsample=0.19494483384724354; total time=   2.3s\n",
      "[CV] END learning_rate=0.47484882617128654, max_depth=7, max_features=log2, n_estimators=234, subsample=0.19494483384724354; total time=   2.3s\n",
      "[CV] END learning_rate=0.47484882617128654, max_depth=7, max_features=log2, n_estimators=234, subsample=0.19494483384724354; total time=   2.3s\n",
      "[CV] END learning_rate=0.47484882617128654, max_depth=7, max_features=log2, n_estimators=234, subsample=0.19494483384724354; total time=   2.3s\n",
      "[CV] END learning_rate=0.23826728524145513, max_depth=6, max_features=log2, n_estimators=239, subsample=0.5854080177240857; total time=   3.1s\n",
      "[CV] END learning_rate=0.23826728524145513, max_depth=6, max_features=log2, n_estimators=239, subsample=0.5854080177240857; total time=   3.1s\n",
      "[CV] END learning_rate=0.23826728524145513, max_depth=6, max_features=log2, n_estimators=239, subsample=0.5854080177240857; total time=   3.1s\n",
      "[CV] END learning_rate=0.23826728524145513, max_depth=6, max_features=log2, n_estimators=239, subsample=0.5854080177240857; total time=   3.1s\n",
      "[CV] END learning_rate=0.23826728524145513, max_depth=6, max_features=log2, n_estimators=239, subsample=0.5854080177240857; total time=   3.1s\n",
      "[CV] END learning_rate=0.4137200775820313, max_depth=6, max_features=sqrt, n_estimators=280, subsample=0.9161455973911786; total time=   3.9s\n",
      "[CV] END learning_rate=0.4137200775820313, max_depth=6, max_features=sqrt, n_estimators=280, subsample=0.9161455973911786; total time=   3.9s\n",
      "[CV] END learning_rate=0.4137200775820313, max_depth=6, max_features=sqrt, n_estimators=280, subsample=0.9161455973911786; total time=   3.9s\n",
      "[CV] END learning_rate=0.4137200775820313, max_depth=6, max_features=sqrt, n_estimators=280, subsample=0.9161455973911786; total time=   3.9s\n",
      "[CV] END learning_rate=0.4137200775820313, max_depth=6, max_features=sqrt, n_estimators=280, subsample=0.9161455973911786; total time=   4.0s\n",
      "[CV] END learning_rate=0.14606612469231767, max_depth=5, max_features=log2, n_estimators=170, subsample=0.8362132893302437; total time=   2.0s\n",
      "[CV] END learning_rate=0.14606612469231767, max_depth=5, max_features=log2, n_estimators=170, subsample=0.8362132893302437; total time=   2.0s\n",
      "[CV] END learning_rate=0.14606612469231767, max_depth=5, max_features=log2, n_estimators=170, subsample=0.8362132893302437; total time=   2.0s\n",
      "[CV] END learning_rate=0.14606612469231767, max_depth=5, max_features=log2, n_estimators=170, subsample=0.8362132893302437; total time=   2.0s\n",
      "[CV] END learning_rate=0.14606612469231767, max_depth=5, max_features=log2, n_estimators=170, subsample=0.8362132893302437; total time=   2.0s\n",
      "[CV] END learning_rate=0.44036529162817173, max_depth=9, max_features=log2, n_estimators=249, subsample=0.5806804774378977; total time=   5.4s\n",
      "[CV] END learning_rate=0.44036529162817173, max_depth=9, max_features=log2, n_estimators=249, subsample=0.5806804774378977; total time=   5.6s\n",
      "[CV] END learning_rate=0.44036529162817173, max_depth=9, max_features=log2, n_estimators=249, subsample=0.5806804774378977; total time=   5.7s\n",
      "[CV] END learning_rate=0.44036529162817173, max_depth=9, max_features=log2, n_estimators=249, subsample=0.5806804774378977; total time=   5.5s\n",
      "[CV] END learning_rate=0.44036529162817173, max_depth=9, max_features=log2, n_estimators=249, subsample=0.5806804774378977; total time=   5.6s\n",
      "[CV] END learning_rate=0.2524149856794916, max_depth=3, max_features=None, n_estimators=283, subsample=0.40385365426326514; total time=   3.3s\n",
      "[CV] END learning_rate=0.2524149856794916, max_depth=3, max_features=None, n_estimators=283, subsample=0.40385365426326514; total time=   3.3s\n",
      "[CV] END learning_rate=0.2524149856794916, max_depth=3, max_features=None, n_estimators=283, subsample=0.40385365426326514; total time=   3.3s\n",
      "[CV] END learning_rate=0.2524149856794916, max_depth=3, max_features=None, n_estimators=283, subsample=0.40385365426326514; total time=   3.3s\n",
      "[CV] END learning_rate=0.2524149856794916, max_depth=3, max_features=None, n_estimators=283, subsample=0.40385365426326514; total time=   3.3s\n",
      "[CV] END learning_rate=0.4814548519562596, max_depth=8, max_features=sqrt, n_estimators=229, subsample=0.42726664214136456; total time=   3.5s\n",
      "[CV] END learning_rate=0.4814548519562596, max_depth=8, max_features=sqrt, n_estimators=229, subsample=0.42726664214136456; total time=   3.5s\n",
      "[CV] END learning_rate=0.4814548519562596, max_depth=8, max_features=sqrt, n_estimators=229, subsample=0.42726664214136456; total time=   3.6s\n",
      "[CV] END learning_rate=0.4814548519562596, max_depth=8, max_features=sqrt, n_estimators=229, subsample=0.42726664214136456; total time=   3.6s\n",
      "[CV] END learning_rate=0.4814548519562596, max_depth=8, max_features=sqrt, n_estimators=229, subsample=0.42726664214136456; total time=   3.6s\n",
      "[CV] END learning_rate=0.49589104136048034, max_depth=6, max_features=log2, n_estimators=88, subsample=0.547523655303147; total time=   1.1s\n",
      "[CV] END learning_rate=0.49589104136048034, max_depth=6, max_features=log2, n_estimators=88, subsample=0.547523655303147; total time=   1.1s\n",
      "[CV] END learning_rate=0.49589104136048034, max_depth=6, max_features=log2, n_estimators=88, subsample=0.547523655303147; total time=   1.1s\n",
      "[CV] END learning_rate=0.49589104136048034, max_depth=6, max_features=log2, n_estimators=88, subsample=0.547523655303147; total time=   1.1s\n",
      "[CV] END learning_rate=0.49589104136048034, max_depth=6, max_features=log2, n_estimators=88, subsample=0.547523655303147; total time=   1.1s\n",
      "[CV] END learning_rate=0.16043915490838484, max_depth=3, max_features=sqrt, n_estimators=236, subsample=0.6486079005819072; total time=   2.0s\n",
      "[CV] END learning_rate=0.16043915490838484, max_depth=3, max_features=sqrt, n_estimators=236, subsample=0.6486079005819072; total time=   2.0s\n",
      "[CV] END learning_rate=0.16043915490838484, max_depth=3, max_features=sqrt, n_estimators=236, subsample=0.6486079005819072; total time=   2.0s\n",
      "[CV] END learning_rate=0.16043915490838484, max_depth=3, max_features=sqrt, n_estimators=236, subsample=0.6486079005819072; total time=   2.0s\n",
      "[CV] END learning_rate=0.16043915490838484, max_depth=3, max_features=sqrt, n_estimators=236, subsample=0.6486079005819072; total time=   2.0s\n",
      "[CV] END learning_rate=0.26133951161443075, max_depth=8, max_features=None, n_estimators=278, subsample=0.4105641232240147; total time=   7.4s\n",
      "[CV] END learning_rate=0.26133951161443075, max_depth=8, max_features=None, n_estimators=278, subsample=0.4105641232240147; total time=   7.8s\n",
      "[CV] END learning_rate=0.26133951161443075, max_depth=8, max_features=None, n_estimators=278, subsample=0.4105641232240147; total time=   7.4s\n",
      "[CV] END learning_rate=0.26133951161443075, max_depth=8, max_features=None, n_estimators=278, subsample=0.4105641232240147; total time=   7.5s\n",
      "[CV] END learning_rate=0.26133951161443075, max_depth=8, max_features=None, n_estimators=278, subsample=0.4105641232240147; total time=   7.2s\n",
      "[CV] END learning_rate=0.3271756723506819, max_depth=8, max_features=log2, n_estimators=102, subsample=0.5405074842498068; total time=   1.9s\n",
      "[CV] END learning_rate=0.3271756723506819, max_depth=8, max_features=log2, n_estimators=102, subsample=0.5405074842498068; total time=   1.9s\n",
      "[CV] END learning_rate=0.3271756723506819, max_depth=8, max_features=log2, n_estimators=102, subsample=0.5405074842498068; total time=   1.8s\n",
      "[CV] END learning_rate=0.3271756723506819, max_depth=8, max_features=log2, n_estimators=102, subsample=0.5405074842498068; total time=   1.9s\n",
      "[CV] END learning_rate=0.3271756723506819, max_depth=8, max_features=log2, n_estimators=102, subsample=0.5405074842498068; total time=   1.9s\n",
      "[CV] END learning_rate=0.5028252270553003, max_depth=9, max_features=None, n_estimators=252, subsample=0.432689010455264; total time=   7.4s\n",
      "[CV] END learning_rate=0.5028252270553003, max_depth=9, max_features=None, n_estimators=252, subsample=0.432689010455264; total time=   7.6s\n",
      "[CV] END learning_rate=0.5028252270553003, max_depth=9, max_features=None, n_estimators=252, subsample=0.432689010455264; total time=   7.6s\n",
      "[CV] END learning_rate=0.5028252270553003, max_depth=9, max_features=None, n_estimators=252, subsample=0.432689010455264; total time=   7.6s\n",
      "[CV] END learning_rate=0.5028252270553003, max_depth=9, max_features=None, n_estimators=252, subsample=0.432689010455264; total time=   7.6s\n",
      "[CV] END learning_rate=0.13107996913871295, max_depth=8, max_features=sqrt, n_estimators=165, subsample=0.9850808268053587; total time=   3.5s\n",
      "[CV] END learning_rate=0.13107996913871295, max_depth=8, max_features=sqrt, n_estimators=165, subsample=0.9850808268053587; total time=   3.6s\n",
      "[CV] END learning_rate=0.13107996913871295, max_depth=8, max_features=sqrt, n_estimators=165, subsample=0.9850808268053587; total time=   3.6s\n",
      "[CV] END learning_rate=0.13107996913871295, max_depth=8, max_features=sqrt, n_estimators=165, subsample=0.9850808268053587; total time=   3.5s\n",
      "[CV] END learning_rate=0.13107996913871295, max_depth=8, max_features=sqrt, n_estimators=165, subsample=0.9850808268053587; total time=   3.5s\n",
      "[CV] END learning_rate=0.20941222122227654, max_depth=9, max_features=sqrt, n_estimators=250, subsample=0.3887020584745623; total time=   5.3s\n",
      "[CV] END learning_rate=0.20941222122227654, max_depth=9, max_features=sqrt, n_estimators=250, subsample=0.3887020584745623; total time=   5.5s\n",
      "[CV] END learning_rate=0.20941222122227654, max_depth=9, max_features=sqrt, n_estimators=250, subsample=0.3887020584745623; total time=   5.5s\n",
      "[CV] END learning_rate=0.20941222122227654, max_depth=9, max_features=sqrt, n_estimators=250, subsample=0.3887020584745623; total time=   5.5s\n",
      "[CV] END learning_rate=0.20941222122227654, max_depth=9, max_features=sqrt, n_estimators=250, subsample=0.3887020584745623; total time=   5.0s\n",
      "[CV] END learning_rate=0.10325925519992711, max_depth=7, max_features=None, n_estimators=197, subsample=0.3933630146816963; total time=   4.5s\n",
      "[CV] END learning_rate=0.10325925519992711, max_depth=7, max_features=None, n_estimators=197, subsample=0.3933630146816963; total time=   4.4s\n",
      "[CV] END learning_rate=0.10325925519992711, max_depth=7, max_features=None, n_estimators=197, subsample=0.3933630146816963; total time=   4.4s\n",
      "[CV] END learning_rate=0.10325925519992711, max_depth=7, max_features=None, n_estimators=197, subsample=0.3933630146816963; total time=   4.5s\n",
      "[CV] END learning_rate=0.10325925519992711, max_depth=7, max_features=None, n_estimators=197, subsample=0.3933630146816963; total time=   4.4s\n",
      "[CV] END learning_rate=0.12012052378277414, max_depth=4, max_features=None, n_estimators=196, subsample=0.4137993885625565; total time=   2.8s\n",
      "[CV] END learning_rate=0.12012052378277414, max_depth=4, max_features=None, n_estimators=196, subsample=0.4137993885625565; total time=   2.8s\n",
      "[CV] END learning_rate=0.12012052378277414, max_depth=4, max_features=None, n_estimators=196, subsample=0.4137993885625565; total time=   2.8s\n",
      "[CV] END learning_rate=0.12012052378277414, max_depth=4, max_features=None, n_estimators=196, subsample=0.4137993885625565; total time=   2.8s\n",
      "[CV] END learning_rate=0.12012052378277414, max_depth=4, max_features=None, n_estimators=196, subsample=0.4137993885625565; total time=   2.8s\n",
      "[CV] END learning_rate=0.05808827554571038, max_depth=3, max_features=sqrt, n_estimators=217, subsample=0.44806181167048365; total time=   1.7s\n",
      "[CV] END learning_rate=0.05808827554571038, max_depth=3, max_features=sqrt, n_estimators=217, subsample=0.44806181167048365; total time=   1.7s\n",
      "[CV] END learning_rate=0.05808827554571038, max_depth=3, max_features=sqrt, n_estimators=217, subsample=0.44806181167048365; total time=   1.7s\n",
      "[CV] END learning_rate=0.05808827554571038, max_depth=3, max_features=sqrt, n_estimators=217, subsample=0.44806181167048365; total time=   1.8s\n",
      "[CV] END learning_rate=0.05808827554571038, max_depth=3, max_features=sqrt, n_estimators=217, subsample=0.44806181167048365; total time=   1.7s\n",
      "[CV] END learning_rate=0.47836499436836727, max_depth=3, max_features=None, n_estimators=269, subsample=0.7616945073166949; total time=   4.4s\n",
      "[CV] END learning_rate=0.47836499436836727, max_depth=3, max_features=None, n_estimators=269, subsample=0.7616945073166949; total time=   4.4s\n",
      "[CV] END learning_rate=0.47836499436836727, max_depth=3, max_features=None, n_estimators=269, subsample=0.7616945073166949; total time=   4.4s\n",
      "[CV] END learning_rate=0.47836499436836727, max_depth=3, max_features=None, n_estimators=269, subsample=0.7616945073166949; total time=   4.4s\n",
      "[CV] END learning_rate=0.47836499436836727, max_depth=3, max_features=None, n_estimators=269, subsample=0.7616945073166949; total time=   4.4s\n",
      "[CV] END learning_rate=0.11453581036885684, max_depth=9, max_features=log2, n_estimators=91, subsample=0.33214746494364006; total time=   1.8s\n",
      "[CV] END learning_rate=0.11453581036885684, max_depth=9, max_features=log2, n_estimators=91, subsample=0.33214746494364006; total time=   1.7s\n",
      "[CV] END learning_rate=0.11453581036885684, max_depth=9, max_features=log2, n_estimators=91, subsample=0.33214746494364006; total time=   1.8s\n",
      "[CV] END learning_rate=0.11453581036885684, max_depth=9, max_features=log2, n_estimators=91, subsample=0.33214746494364006; total time=   1.8s\n",
      "[CV] END learning_rate=0.11453581036885684, max_depth=9, max_features=log2, n_estimators=91, subsample=0.33214746494364006; total time=   1.7s\n",
      "[CV] END learning_rate=0.33999202301708953, max_depth=4, max_features=sqrt, n_estimators=293, subsample=0.5766855205204059; total time=   2.8s\n",
      "[CV] END learning_rate=0.33999202301708953, max_depth=4, max_features=sqrt, n_estimators=293, subsample=0.5766855205204059; total time=   2.8s\n",
      "[CV] END learning_rate=0.33999202301708953, max_depth=4, max_features=sqrt, n_estimators=293, subsample=0.5766855205204059; total time=   2.8s\n",
      "[CV] END learning_rate=0.33999202301708953, max_depth=4, max_features=sqrt, n_estimators=293, subsample=0.5766855205204059; total time=   2.8s\n",
      "[CV] END learning_rate=0.33999202301708953, max_depth=4, max_features=sqrt, n_estimators=293, subsample=0.5766855205204059; total time=   2.8s\n",
      "Best parameters for GradientBoost: {'learning_rate': 0.02153121252070788, 'max_depth': 5, 'max_features': None, 'n_estimators': 219, 'subsample': 0.1419990968922539}\n",
      "Best score for GradientBoost: 0.728287874220811\n"
     ]
    }
   ],
   "source": [
    "# Create the Gradientboost classifier and perform RandomizedSearchCV\n",
    "gb = GradientBoostingClassifier(random_state=42)\n",
    "gb_random = RandomizedSearchCV(estimator=gb, param_distributions=gb_param_dist, n_iter=50,\n",
    "                               cv=5, random_state=42, n_jobs=-1, verbose=2)\n",
    "gb_random.fit(X_train, y_train)\n",
    "print(\"Best parameters for GradientBoost:\", gb_random.best_params_)\n",
    "print(\"Best score for GradientBoost:\", gb_random.best_score_)"
   ]
  },
  {
   "cell_type": "code",
   "execution_count": 17,
   "metadata": {
    "cell_id": "2541ae1895fe4ed081766138343f64f8",
    "deepnote_cell_type": "code",
    "deepnote_to_be_reexecuted": false,
    "execution_millis": 17491,
    "execution_start": 1677472615347,
    "source_hash": "b29c4e50",
    "tags": []
   },
   "outputs": [
    {
     "name": "stdout",
     "output_type": "stream",
     "text": [
      "GradientBoost Classifier\n",
      "Accuracy on validation set: 72.72%\n",
      "Accuracy on test set: 73.01%\n",
      "Cross-validation score: 72.79% (+/- 1.15%)\n",
      "Classification report:\n",
      "               precision    recall  f1-score   support\n",
      "\n",
      "           0       0.72      0.78      0.75      6159\n",
      "           1       0.74      0.68      0.71      5870\n",
      "\n",
      "    accuracy                           0.73     12029\n",
      "   macro avg       0.73      0.73      0.73     12029\n",
      "weighted avg       0.73      0.73      0.73     12029\n",
      "\n"
     ]
    }
   ],
   "source": [
    "# Train GradientBoosting Classifier with the best hyperparameters\n",
    "gradboost_best = GradientBoostingClassifier(learning_rate= 0.02153121252070788, max_depth= 5, max_features= None, n_estimators= 219, subsample= 0.1419990968922539, random_state=42)\n",
    "gradboost_best.fit(X_train, y_train)\n",
    "\n",
    "# Evaluate the model on validation set\n",
    "y_pred = gradboost_best.predict(X_val)\n",
    "acc_val = accuracy_score(y_val, y_pred)\n",
    "\n",
    "# Evaluate the model on test set\n",
    "y_pred = gradboost_best.predict(X_test)\n",
    "acc_test = accuracy_score(y_test, y_pred)\n",
    "\n",
    "# Evaluate the model using cross-validation\n",
    "cv_scores = cross_val_score(gradboost_best, X_train_val, y_train_val, cv=5)\n",
    "\n",
    "# Print the performance metrics\n",
    "print(\"GradientBoost Classifier\")\n",
    "print(\"Accuracy on validation set: {:.2f}%\".format(acc_val*100))\n",
    "print(\"Accuracy on test set: {:.2f}%\".format(acc_test*100))\n",
    "print(\"Cross-validation score: {:.2f}% (+/- {:.2f}%)\".format(cv_scores.mean()*100, cv_scores.std()*2*100))\n",
    "print(\"Classification report:\\n\", classification_report(y_test, y_pred))"
   ]
  },
  {
   "cell_type": "code",
   "execution_count": 18,
   "metadata": {
    "cell_id": "f0fddb3577e44331be427cc2e68b1f11",
    "deepnote_cell_type": "code",
    "deepnote_to_be_reexecuted": false,
    "execution_millis": 239,
    "execution_start": 1677472632881,
    "source_hash": "eb837ee8",
    "tags": []
   },
   "outputs": [
    {
     "data": {
      "image/png": "[encoded data removed]",
      "text/plain": [
       "<Figure size 640x480 with 2 Axes>"
      ]
     },
     "metadata": {
      "image/png": {
       "height": 432,
       "width": 515
      }
     },
     "output_type": "display_data"
    }
   ],
   "source": [
    "plot_confusion_matrix(gradboost_best, X_test, y_test);"
   ]
  },
  {
   "cell_type": "markdown",
   "metadata": {
    "cell_id": "a070fa79444045878a69638fb6d2a2c8",
    "deepnote_cell_type": "markdown",
    "tags": []
   },
   "source": [
    "In this code, we define parameter distributions for `AdaBoostClassifier` and `GradientBoostingClassifier` using the `randint` and `uniform` functions from the scipy.stats module. Then, we create the classifiers and perform RandomizedSearchCV using the `RandomizedSearchCV` function from scikit-learn. Finally, we print the best parameters and score for each classifier. You can adjust the parameter distributions and other settings as needed for your specific use case."
   ]
  },
  {
   "cell_type": "code",
   "execution_count": 20,
   "metadata": {
    "cell_id": "e413b6cd456347518c247a35d0593513",
    "deepnote_cell_type": "code",
    "deepnote_to_be_reexecuted": false,
    "execution_millis": 1,
    "execution_start": 1677353004711,
    "source_hash": "ee3572ef",
    "tags": []
   },
   "outputs": [],
   "source": [
    "from sklearn.model_selection import GridSearchCV\n",
    "\n",
    "# Define parameter distributions for GridSearchCV\n",
    "\n",
    "# Adaboost Classifier\n",
    "ada_params = {\n",
    "    'n_estimators': [50, 100, 150],\n",
    "    'learning_rate': [0.01, 0.1, 1],\n",
    "    'algorithm': ['SAMME', 'SAMME.R']\n",
    "}\n",
    "\n",
    "# Gradientboost Classifier\n",
    "gb_params = {\n",
    "    'n_estimators': [50, 100, 150],\n",
    "    'learning_rate': [0.01, 0.1, 1],\n",
    "    'max_depth': [3, 5, 7],\n",
    "    'max_features': ['sqrt', 'log2', None],\n",
    "    'min_samples_split': [2, 5, 10]\n",
    "}"
   ]
  },
  {
   "cell_type": "code",
   "execution_count": 21,
   "metadata": {
    "cell_id": "a0e1cb2f5d524f00a3d1a5e226d39e8e",
    "deepnote_cell_type": "code",
    "deepnote_to_be_reexecuted": false,
    "execution_millis": 94699,
    "execution_start": 1677353004715,
    "source_hash": "3399b100",
    "tags": []
   },
   "outputs": [
    {
     "name": "stdout",
     "output_type": "stream",
     "text": [
      "Best Adaboost params: {'algorithm': 'SAMME.R', 'learning_rate': 1, 'n_estimators': 100}\n",
      "Best Adaboost accuracy: 0.7229949966123597\n"
     ]
    }
   ],
   "source": [
    "ada_clf = AdaBoostClassifier(random_state=42)\n",
    "\n",
    "ada_grid = GridSearchCV(ada_clf, param_grid=ada_params, cv=5, n_jobs=-1, scoring='accuracy')\n",
    "ada_grid.fit(X_train, y_train)\n",
    "\n",
    "print(\"Best Adaboost params:\", ada_grid.best_params_)\n",
    "print(\"Best Adaboost accuracy:\", ada_grid.best_score_)"
   ]
  },
  {
   "cell_type": "code",
   "execution_count": 19,
   "metadata": {
    "cell_id": "cdef5de6a7994b6f9173f80ba9d37b51",
    "deepnote_cell_type": "code",
    "deepnote_to_be_reexecuted": false,
    "execution_millis": 9790,
    "execution_start": 1677472633123,
    "source_hash": "9b8244a2",
    "tags": []
   },
   "outputs": [
    {
     "name": "stdout",
     "output_type": "stream",
     "text": [
      "AdaBoost Classifier\n",
      "Accuracy on validation set: 72.57%\n",
      "Accuracy on test set: 72.52%\n",
      "Cross-validation score: 72.26% (+/- 1.22%)\n",
      "Classification report:\n",
      "               precision    recall  f1-score   support\n",
      "\n",
      "           0       0.70      0.81      0.75      6159\n",
      "           1       0.76      0.63      0.69      5870\n",
      "\n",
      "    accuracy                           0.73     12029\n",
      "   macro avg       0.73      0.72      0.72     12029\n",
      "weighted avg       0.73      0.73      0.72     12029\n",
      "\n"
     ]
    }
   ],
   "source": [
    "# Train Adaboost Classifier with the best hyperparameters\n",
    "ada_grid_best = AdaBoostClassifier(algorithm='SAMME.R', learning_rate=1, n_estimators=100, random_state=42)\n",
    "ada_grid_best.fit(X_train, y_train)\n",
    "\n",
    "# Evaluate the model on validation set\n",
    "y_pred = ada_grid_best.predict(X_val)\n",
    "acc_val = accuracy_score(y_val, y_pred)\n",
    "\n",
    "# Evaluate the model on test set\n",
    "y_pred = ada_grid_best.predict(X_test)\n",
    "acc_test = accuracy_score(y_test, y_pred)\n",
    "\n",
    "# Evaluate the model using cross-validation\n",
    "cv_scores = cross_val_score(ada_grid_best, X_train_val, y_train_val, cv=5)\n",
    "\n",
    "# Print the performance metrics\n",
    "print(\"AdaBoost Classifier\")\n",
    "print(\"Accuracy on validation set: {:.2f}%\".format(acc_val*100))\n",
    "print(\"Accuracy on test set: {:.2f}%\".format(acc_test*100))\n",
    "print(\"Cross-validation score: {:.2f}% (+/- {:.2f}%)\".format(cv_scores.mean()*100, cv_scores.std()*2*100))\n",
    "print(\"Classification report:\\n\", classification_report(y_test, y_pred))"
   ]
  },
  {
   "cell_type": "code",
   "execution_count": 20,
   "metadata": {
    "cell_id": "7d87996185e94108abf1ab4702a91d09",
    "deepnote_cell_type": "code",
    "deepnote_to_be_reexecuted": false,
    "execution_millis": 287,
    "execution_start": 1677472642956,
    "source_hash": "6408e47a",
    "tags": []
   },
   "outputs": [
    {
     "data": {
      "image/png": "[encoded data removed]",
      "text/plain": [
       "<Figure size 640x480 with 2 Axes>"
      ]
     },
     "metadata": {
      "image/png": {
       "height": 438,
       "width": 515
      }
     },
     "output_type": "display_data"
    }
   ],
   "source": [
    "plot_confusion_matrix(ada_grid_best, X_test, y_test);"
   ]
  },
  {
   "cell_type": "code",
   "execution_count": 24,
   "metadata": {
    "cell_id": "9b068a2172d04159a814e5b7d23ece09",
    "deepnote_cell_type": "code",
    "deepnote_to_be_reexecuted": false,
    "execution_millis": 2165937,
    "execution_start": 1677353099414,
    "source_hash": "fccedcc3",
    "tags": []
   },
   "outputs": [
    {
     "name": "stdout",
     "output_type": "stream",
     "text": [
      "Best GradientBoosting params: {'learning_rate': 0.1, 'max_depth': 5, 'max_features': 'sqrt', 'min_samples_split': 10, 'n_estimators': 150}\n",
      "Best GradientBoosting accuracy: 0.7288975919015757\n"
     ]
    }
   ],
   "source": [
    "gb_clf = GradientBoostingClassifier(random_state=42)\n",
    "\n",
    "gb_grid = GridSearchCV(gb_clf, param_grid=gb_params, cv=5, n_jobs=-1, scoring='accuracy')\n",
    "gb_grid.fit(X_train, y_train)\n",
    "\n",
    "print(\"Best GradientBoosting params:\", gb_grid.best_params_)\n",
    "print(\"Best GradientBoosting accuracy:\", gb_grid.best_score_)"
   ]
  },
  {
   "cell_type": "code",
   "execution_count": 21,
   "metadata": {
    "cell_id": "39be3890bf644738a7fa104d05f5bd7b",
    "deepnote_cell_type": "code",
    "deepnote_to_be_reexecuted": false,
    "execution_millis": 13665,
    "execution_start": 1677472643244,
    "source_hash": "2e5b693f",
    "tags": []
   },
   "outputs": [
    {
     "name": "stdout",
     "output_type": "stream",
     "text": [
      "GradientBoosting Classifier \n",
      "Accuracy on validation set: 72.41%\n",
      "Accuracy on test set: 72.89%\n",
      "Cross-validation score: 72.79% (+/- 1.05%)\n",
      "Classification report:\n",
      "               precision    recall  f1-score   support\n",
      "\n",
      "           0       0.72      0.78      0.75      6159\n",
      "           1       0.75      0.67      0.71      5870\n",
      "\n",
      "    accuracy                           0.73     12029\n",
      "   macro avg       0.73      0.73      0.73     12029\n",
      "weighted avg       0.73      0.73      0.73     12029\n",
      "\n"
     ]
    }
   ],
   "source": [
    "# Train GradientBoosting Classifier with the best hyperparameters\n",
    "gradboost_grid_best = GradientBoostingClassifier(learning_rate= 0.1, max_depth= 5, max_features= 'sqrt', min_samples_split = 10, n_estimators=150, random_state=42)\n",
    "gradboost_grid_best.fit(X_train, y_train)\n",
    "\n",
    "# Evaluate the model on validation set\n",
    "y_pred = gradboost_grid_best.predict(X_val)\n",
    "acc_val = accuracy_score(y_val, y_pred)\n",
    "\n",
    "# Evaluate the model on test set\n",
    "y_pred = gradboost_grid_best.predict(X_test)\n",
    "acc_test = accuracy_score(y_test, y_pred)\n",
    "\n",
    "# Evaluate the model using cross-validation\n",
    "cv_scores = cross_val_score(gradboost_grid_best, X_train_val, y_train_val, cv=5)\n",
    "\n",
    "# Print the performance metrics\n",
    "print(\"GradientBoosting Classifier \")\n",
    "print(\"Accuracy on validation set: {:.2f}%\".format(acc_val*100))\n",
    "print(\"Accuracy on test set: {:.2f}%\".format(acc_test*100))\n",
    "print(\"Cross-validation score: {:.2f}% (+/- {:.2f}%)\".format(cv_scores.mean()*100, cv_scores.std()*2*100))\n",
    "print(\"Classification report:\\n\", classification_report(y_test, y_pred))"
   ]
  },
  {
   "cell_type": "code",
   "execution_count": 22,
   "metadata": {
    "cell_id": "99a77f589a86441389c2f128c9be3800",
    "deepnote_cell_type": "code",
    "deepnote_to_be_reexecuted": false,
    "execution_millis": 295,
    "execution_start": 1677472656911,
    "source_hash": "e6980902",
    "tags": []
   },
   "outputs": [
    {
     "data": {
      "image/png": "[encoded data removed]",
      "text/plain": [
       "<Figure size 640x480 with 2 Axes>"
      ]
     },
     "metadata": {
      "image/png": {
       "height": 432,
       "width": 515
      }
     },
     "output_type": "display_data"
    }
   ],
   "source": [
    "plot_confusion_matrix(gradboost_grid_best, X_test, y_test);"
   ]
  },
  {
   "cell_type": "markdown",
   "metadata": {
    "cell_id": "352278ad692d4b2eb35514c5b25f981a",
    "deepnote_cell_type": "markdown",
    "tags": []
   },
   "source": [
    "This code defines a range of hyperparameters for both `Adaboost` and `GradientBoosting` classifiers and performs a grid search with cross-validation to find the best set of hyperparameters that maximize accuracy. The `GridSearchCV` object is defined with `cv=5` to use 5-fold cross-validation and `n_jobs=-1` to use all available CPU cores for parallel processing. The scoring parameter is set to `'accuracy'` to optimize for accuracy.\n",
    "\n",
    "After running the code, the best set of hyperparameters and the corresponding `accuracy` score are printed for each model."
   ]
  },
  {
   "cell_type": "markdown",
   "metadata": {
    "cell_id": "8862cfbb62bd423180e83db1766cff02",
    "deepnote_cell_type": "text-cell-h3",
    "formattedRanges": [],
    "is_collapsed": false,
    "tags": []
   },
   "source": [
    "### Appending all models"
   ]
  },
  {
   "cell_type": "code",
   "execution_count": 23,
   "metadata": {
    "cell_id": "a7648acdefa146c28b1a5546fc848607",
    "deepnote_cell_type": "code",
    "deepnote_to_be_reexecuted": false,
    "execution_millis": 18030,
    "execution_start": 1677472657256,
    "source_hash": "b7ab2f7f",
    "tags": []
   },
   "outputs": [
    {
     "name": "stdout",
     "output_type": "stream",
     "text": [
      "                                      Model                 Accuracy  \\\n",
      "0                       Logistic Regression  Val: 0.724, Test: 0.723   \n",
      "1                       Adaboost Classifier  Val: 0.726, Test: 0.725   \n",
      "2                  Gradientboost Classifier  Val: 0.727, Test: 0.729   \n",
      "3                  Random Forest Classifier  Val: 0.699, Test: 0.703   \n",
      "4                  AdaBoost Classifier Best  Val: 0.726, Test: 0.726   \n",
      "5             GradientBoost Classifier Best  Val: 0.727, Test: 0.730   \n",
      "6       AdaBoost Classifier GridSearch Best  Val: 0.726, Test: 0.725   \n",
      "7  GradientBoost Classifier GridSearch Best  Val: 0.724, Test: 0.729   \n",
      "\n",
      "                 Precision                   Recall                 F1-Score  \n",
      "0  Val: 0.726, Test: 0.725  Val: 0.724, Test: 0.723  Val: 0.722, Test: 0.721  \n",
      "1  Val: 0.730, Test: 0.730  Val: 0.726, Test: 0.725  Val: 0.724, Test: 0.722  \n",
      "2  Val: 0.727, Test: 0.730  Val: 0.727, Test: 0.729  Val: 0.726, Test: 0.729  \n",
      "3  Val: 0.699, Test: 0.703  Val: 0.699, Test: 0.703  Val: 0.699, Test: 0.703  \n",
      "4  Val: 0.731, Test: 0.732  Val: 0.726, Test: 0.726  Val: 0.724, Test: 0.724  \n",
      "5  Val: 0.728, Test: 0.731  Val: 0.727, Test: 0.730  Val: 0.726, Test: 0.729  \n",
      "6  Val: 0.729, Test: 0.730  Val: 0.726, Test: 0.725  Val: 0.723, Test: 0.723  \n",
      "7  Val: 0.725, Test: 0.730  Val: 0.724, Test: 0.729  Val: 0.723, Test: 0.728  \n"
     ]
    }
   ],
   "source": [
    "# Define the models\n",
    "models = [\n",
    "    ('Logistic Regression', log_reg),\n",
    "    ('Adaboost Classifier', ada),\n",
    "    ('Gradientboost Classifier', gb),\n",
    "    ('Random Forest Classifier', rf),\n",
    "    ('AdaBoost Classifier Best', ada_best),\n",
    "    ('GradientBoost Classifier Best', gradboost_best),\n",
    "    ('AdaBoost Classifier GridSearch Best', ada_grid_best),\n",
    "    ('GradientBoost Classifier GridSearch Best', gradboost_grid_best)\n",
    "]\n",
    "\n",
    "# Create an empty DataFrame to store the results\n",
    "results_df = pd.DataFrame(columns=['Model', 'Accuracy', 'Precision', 'Recall', 'F1-Score'])\n",
    "\n",
    "# Evaluate each model and append the results to the DataFrame\n",
    "for model_name, model in models:\n",
    "    # Train the model\n",
    "    model.fit(X_train, y_train)\n",
    "\n",
    "    # Evaluate the model on the validation set\n",
    "    y_val_pred = model.predict(X_val)\n",
    "    acc_val = accuracy_score(y_val, y_val_pred)\n",
    "    p_val, r_val, f1_val, _ = precision_recall_fscore_support(y_val, y_val_pred, average='weighted')\n",
    "\n",
    "    # Evaluate the model on the test set\n",
    "    y_test_pred = model.predict(X_test)\n",
    "    acc_test = accuracy_score(y_test, y_test_pred)\n",
    "    p_test, r_test, f1_test, _ = precision_recall_fscore_support(y_test, y_test_pred, average='weighted')\n",
    "\n",
    "    # Append the results to the DataFrame\n",
    "    results_df = results_df.append({\n",
    "        'Model': model_name,\n",
    "        'Accuracy': f'Val: {acc_val:.3f}, Test: {acc_test:.3f}',\n",
    "        'Precision': f'Val: {p_val:.3f}, Test: {p_test:.3f}',\n",
    "        'Recall': f'Val: {r_val:.3f}, Test: {r_test:.3f}',\n",
    "        'F1-Score': f'Val: {f1_val:.3f}, Test: {f1_test:.3f}'\n",
    "    }, ignore_index=True)\n",
    "\n",
    "# Print the results\n",
    "print(results_df)"
   ]
  },
  {
   "cell_type": "code",
   "execution_count": 39,
   "metadata": {
    "cell_id": "8602b3a5c4784fb0aefa67fc474656ad",
    "deepnote_cell_type": "code",
    "deepnote_to_be_reexecuted": false,
    "execution_millis": 4,
    "execution_start": 1677357246691,
    "source_hash": "5f5f1941",
    "tags": []
   },
   "outputs": [
    {
     "data": {
      "application/vnd.deepnote.dataframe.v3+json": {
       "column_count": 5,
       "columns": [
        {
         "dtype": "object",
         "name": "Model",
         "stats": {
          "categories": [
           {
            "count": 1,
            "name": "AdaBoost Classifier Best"
           },
           {
            "count": 1,
            "name": "Adaboost Classifier"
           },
           {
            "count": 6,
            "name": "6 others"
           }
          ],
          "nan_count": 0,
          "unique_count": 8
         }
        },
        {
         "dtype": "object",
         "name": "Accuracy",
         "stats": {
          "categories": [
           {
            "count": 2,
            "name": "Val: 0.726, Test: 0.725"
           },
           {
            "count": 1,
            "name": "Val: 0.726, Test: 0.726"
           },
           {
            "count": 5,
            "name": "5 others"
           }
          ],
          "nan_count": 0,
          "unique_count": 7
         }
        },
        {
         "dtype": "object",
         "name": "Precision",
         "stats": {
          "categories": [
           {
            "count": 1,
            "name": "Val: 0.731, Test: 0.732"
           },
           {
            "count": 1,
            "name": "Val: 0.730, Test: 0.730"
           },
           {
            "count": 6,
            "name": "6 others"
           }
          ],
          "nan_count": 0,
          "unique_count": 8
         }
        },
        {
         "dtype": "object",
         "name": "Recall",
         "stats": {
          "categories": [
           {
            "count": 2,
            "name": "Val: 0.726, Test: 0.725"
           },
           {
            "count": 1,
            "name": "Val: 0.726, Test: 0.726"
           },
           {
            "count": 5,
            "name": "5 others"
           }
          ],
          "nan_count": 0,
          "unique_count": 7
         }
        },
        {
         "dtype": "object",
         "name": "F1-Score",
         "stats": {
          "categories": [
           {
            "count": 2,
            "name": "Val: 0.726, Test: 0.729"
           },
           {
            "count": 1,
            "name": "Val: 0.724, Test: 0.724"
           },
           {
            "count": 5,
            "name": "5 others"
           }
          ],
          "nan_count": 0,
          "unique_count": 7
         }
        },
        {
         "dtype": "int64",
         "name": "_deepnote_index_column"
        }
       ],
       "row_count": 8,
       "rows": [
        {
         "Accuracy": "Val: 0.726, Test: 0.726",
         "F1-Score": "Val: 0.724, Test: 0.724",
         "Model": "AdaBoost Classifier Best",
         "Precision": "Val: 0.731, Test: 0.732",
         "Recall": "Val: 0.726, Test: 0.726",
         "_deepnote_index_column": "4"
        },
        {
         "Accuracy": "Val: 0.726, Test: 0.725",
         "F1-Score": "Val: 0.724, Test: 0.722",
         "Model": "Adaboost Classifier",
         "Precision": "Val: 0.730, Test: 0.730",
         "Recall": "Val: 0.726, Test: 0.725",
         "_deepnote_index_column": "1"
        },
        {
         "Accuracy": "Val: 0.726, Test: 0.725",
         "F1-Score": "Val: 0.723, Test: 0.723",
         "Model": "AdaBoost Classifier GridSearch Best",
         "Precision": "Val: 0.729, Test: 0.730",
         "Recall": "Val: 0.726, Test: 0.725",
         "_deepnote_index_column": "6"
        },
        {
         "Accuracy": "Val: 0.727, Test: 0.730",
         "F1-Score": "Val: 0.726, Test: 0.729",
         "Model": "GradientBoost Classifier Best",
         "Precision": "Val: 0.728, Test: 0.731",
         "Recall": "Val: 0.727, Test: 0.730",
         "_deepnote_index_column": "5"
        },
        {
         "Accuracy": "Val: 0.727, Test: 0.729",
         "F1-Score": "Val: 0.726, Test: 0.729",
         "Model": "Gradientboost Classifier",
         "Precision": "Val: 0.727, Test: 0.730",
         "Recall": "Val: 0.727, Test: 0.729",
         "_deepnote_index_column": "2"
        },
        {
         "Accuracy": "Val: 0.724, Test: 0.723",
         "F1-Score": "Val: 0.722, Test: 0.721",
         "Model": "Logistic Regression",
         "Precision": "Val: 0.726, Test: 0.725",
         "Recall": "Val: 0.724, Test: 0.723",
         "_deepnote_index_column": "0"
        },
        {
         "Accuracy": "Val: 0.724, Test: 0.729",
         "F1-Score": "Val: 0.723, Test: 0.728",
         "Model": "GradientBoost Classifier GridSearch Best",
         "Precision": "Val: 0.725, Test: 0.730",
         "Recall": "Val: 0.724, Test: 0.729",
         "_deepnote_index_column": "7"
        },
        {
         "Accuracy": "Val: 0.698, Test: 0.702",
         "F1-Score": "Val: 0.698, Test: 0.702",
         "Model": "Random Forest Classifier",
         "Precision": "Val: 0.698, Test: 0.702",
         "Recall": "Val: 0.698, Test: 0.702",
         "_deepnote_index_column": "3"
        }
       ]
      },
      "text/html": [
       "<div>\n",
       "<style scoped>\n",
       "    .dataframe tbody tr th:only-of-type {\n",
       "        vertical-align: middle;\n",
       "    }\n",
       "\n",
       "    .dataframe tbody tr th {\n",
       "        vertical-align: top;\n",
       "    }\n",
       "\n",
       "    .dataframe thead th {\n",
       "        text-align: right;\n",
       "    }\n",
       "</style>\n",
       "<table border=\"1\" class=\"dataframe\">\n",
       "  <thead>\n",
       "    <tr style=\"text-align: right;\">\n",
       "      <th></th>\n",
       "      <th>Model</th>\n",
       "      <th>Accuracy</th>\n",
       "      <th>Precision</th>\n",
       "      <th>Recall</th>\n",
       "      <th>F1-Score</th>\n",
       "    </tr>\n",
       "  </thead>\n",
       "  <tbody>\n",
       "    <tr>\n",
       "      <th>4</th>\n",
       "      <td>AdaBoost Classifier Best</td>\n",
       "      <td>Val: 0.726, Test: 0.726</td>\n",
       "      <td>Val: 0.731, Test: 0.732</td>\n",
       "      <td>Val: 0.726, Test: 0.726</td>\n",
       "      <td>Val: 0.724, Test: 0.724</td>\n",
       "    </tr>\n",
       "    <tr>\n",
       "      <th>1</th>\n",
       "      <td>Adaboost Classifier</td>\n",
       "      <td>Val: 0.726, Test: 0.725</td>\n",
       "      <td>Val: 0.730, Test: 0.730</td>\n",
       "      <td>Val: 0.726, Test: 0.725</td>\n",
       "      <td>Val: 0.724, Test: 0.722</td>\n",
       "    </tr>\n",
       "    <tr>\n",
       "      <th>6</th>\n",
       "      <td>AdaBoost Classifier GridSearch Best</td>\n",
       "      <td>Val: 0.726, Test: 0.725</td>\n",
       "      <td>Val: 0.729, Test: 0.730</td>\n",
       "      <td>Val: 0.726, Test: 0.725</td>\n",
       "      <td>Val: 0.723, Test: 0.723</td>\n",
       "    </tr>\n",
       "    <tr>\n",
       "      <th>5</th>\n",
       "      <td>GradientBoost Classifier Best</td>\n",
       "      <td>Val: 0.727, Test: 0.730</td>\n",
       "      <td>Val: 0.728, Test: 0.731</td>\n",
       "      <td>Val: 0.727, Test: 0.730</td>\n",
       "      <td>Val: 0.726, Test: 0.729</td>\n",
       "    </tr>\n",
       "    <tr>\n",
       "      <th>2</th>\n",
       "      <td>Gradientboost Classifier</td>\n",
       "      <td>Val: 0.727, Test: 0.729</td>\n",
       "      <td>Val: 0.727, Test: 0.730</td>\n",
       "      <td>Val: 0.727, Test: 0.729</td>\n",
       "      <td>Val: 0.726, Test: 0.729</td>\n",
       "    </tr>\n",
       "    <tr>\n",
       "      <th>0</th>\n",
       "      <td>Logistic Regression</td>\n",
       "      <td>Val: 0.724, Test: 0.723</td>\n",
       "      <td>Val: 0.726, Test: 0.725</td>\n",
       "      <td>Val: 0.724, Test: 0.723</td>\n",
       "      <td>Val: 0.722, Test: 0.721</td>\n",
       "    </tr>\n",
       "    <tr>\n",
       "      <th>7</th>\n",
       "      <td>GradientBoost Classifier GridSearch Best</td>\n",
       "      <td>Val: 0.724, Test: 0.729</td>\n",
       "      <td>Val: 0.725, Test: 0.730</td>\n",
       "      <td>Val: 0.724, Test: 0.729</td>\n",
       "      <td>Val: 0.723, Test: 0.728</td>\n",
       "    </tr>\n",
       "    <tr>\n",
       "      <th>3</th>\n",
       "      <td>Random Forest Classifier</td>\n",
       "      <td>Val: 0.698, Test: 0.702</td>\n",
       "      <td>Val: 0.698, Test: 0.702</td>\n",
       "      <td>Val: 0.698, Test: 0.702</td>\n",
       "      <td>Val: 0.698, Test: 0.702</td>\n",
       "    </tr>\n",
       "  </tbody>\n",
       "</table>\n",
       "</div>"
      ],
      "text/plain": [
       "                                      Model                 Accuracy  \\\n",
       "4                  AdaBoost Classifier Best  Val: 0.726, Test: 0.726   \n",
       "1                       Adaboost Classifier  Val: 0.726, Test: 0.725   \n",
       "6       AdaBoost Classifier GridSearch Best  Val: 0.726, Test: 0.725   \n",
       "5             GradientBoost Classifier Best  Val: 0.727, Test: 0.730   \n",
       "2                  Gradientboost Classifier  Val: 0.727, Test: 0.729   \n",
       "0                       Logistic Regression  Val: 0.724, Test: 0.723   \n",
       "7  GradientBoost Classifier GridSearch Best  Val: 0.724, Test: 0.729   \n",
       "3                  Random Forest Classifier  Val: 0.698, Test: 0.702   \n",
       "\n",
       "                 Precision                   Recall                 F1-Score  \n",
       "4  Val: 0.731, Test: 0.732  Val: 0.726, Test: 0.726  Val: 0.724, Test: 0.724  \n",
       "1  Val: 0.730, Test: 0.730  Val: 0.726, Test: 0.725  Val: 0.724, Test: 0.722  \n",
       "6  Val: 0.729, Test: 0.730  Val: 0.726, Test: 0.725  Val: 0.723, Test: 0.723  \n",
       "5  Val: 0.728, Test: 0.731  Val: 0.727, Test: 0.730  Val: 0.726, Test: 0.729  \n",
       "2  Val: 0.727, Test: 0.730  Val: 0.727, Test: 0.729  Val: 0.726, Test: 0.729  \n",
       "0  Val: 0.726, Test: 0.725  Val: 0.724, Test: 0.723  Val: 0.722, Test: 0.721  \n",
       "7  Val: 0.725, Test: 0.730  Val: 0.724, Test: 0.729  Val: 0.723, Test: 0.728  \n",
       "3  Val: 0.698, Test: 0.702  Val: 0.698, Test: 0.702  Val: 0.698, Test: 0.702  "
      ]
     },
     "execution_count": 39,
     "metadata": {},
     "output_type": "execute_result"
    }
   ],
   "source": [
    "sorted_results_df = results_df.sort_values('Precision', ascending=False)\n",
    "sorted_results_df"
   ]
  },
  {
   "cell_type": "code",
   "execution_count": 40,
   "metadata": {
    "cell_id": "88f7e90bfdc44c6cb02e625539f80fa1",
    "deepnote_cell_type": "visualization",
    "deepnote_config_collapsed": true,
    "deepnote_to_be_reexecuted": false,
    "deepnote_variable_name": "sorted_results_df",
    "deepnote_visualization_spec": {
     "$schema": "https://vega.github.io/schema/vega-lite/v5.json",
     "config": {
      "legend": {}
     },
     "encoding": {},
     "layer": [
      {
       "layer": [
        {
         "encoding": {
          "x": {
           "field": "Model",
           "scale": {
            "type": "linear",
            "zero": false
           },
           "sort": null,
           "type": "nominal"
          },
          "y": {
           "field": "Precision",
           "scale": {
            "type": "linear",
            "zero": false
           },
           "sort": null,
           "type": "nominal"
          }
         },
         "mark": {
          "clip": true,
          "color": "#e45756",
          "tooltip": true,
          "type": "trail"
         }
        },
        {
         "encoding": {
          "x": {
           "field": "Model",
           "scale": {
            "type": "linear",
            "zero": false
           },
           "sort": null,
           "type": "nominal"
          },
          "y": {
           "field": "Precision",
           "scale": {
            "type": "linear",
            "zero": false
           },
           "sort": null,
           "type": "nominal"
          }
         },
         "mark": {
          "opacity": 0,
          "size": 100,
          "tooltip": true,
          "type": "point"
         }
        }
       ]
      }
     ],
     "title": ""
    },
    "execution_millis": 292,
    "execution_start": 1677357251509,
    "output_cleared": false,
    "source_hash": "945d29b0"
   },
   "outputs": [
    {
     "data": {
      "application/vnd.vegalite.v5+json": {
       "$schema": "https://vega.github.io/schema/vega-lite/v5.json",
       "config": {
        "legend": {}
       },
       "data": {
        "values": [
         {
          "Accuracy": "Val: 0.726, Test: 0.726",
          "F1-Score": "Val: 0.724, Test: 0.724",
          "Model": "AdaBoost Classifier Best",
          "Precision": "Val: 0.731, Test: 0.732",
          "Recall": "Val: 0.726, Test: 0.726"
         },
         {
          "Accuracy": "Val: 0.726, Test: 0.725",
          "F1-Score": "Val: 0.724, Test: 0.722",
          "Model": "Adaboost Classifier",
          "Precision": "Val: 0.730, Test: 0.730",
          "Recall": "Val: 0.726, Test: 0.725"
         },
         {
          "Accuracy": "Val: 0.726, Test: 0.725",
          "F1-Score": "Val: 0.723, Test: 0.723",
          "Model": "AdaBoost Classifier GridSearch Best",
          "Precision": "Val: 0.729, Test: 0.730",
          "Recall": "Val: 0.726, Test: 0.725"
         },
         {
          "Accuracy": "Val: 0.727, Test: 0.730",
          "F1-Score": "Val: 0.726, Test: 0.729",
          "Model": "GradientBoost Classifier Best",
          "Precision": "Val: 0.728, Test: 0.731",
          "Recall": "Val: 0.727, Test: 0.730"
         },
         {
          "Accuracy": "Val: 0.727, Test: 0.729",
          "F1-Score": "Val: 0.726, Test: 0.729",
          "Model": "Gradientboost Classifier",
          "Precision": "Val: 0.727, Test: 0.730",
          "Recall": "Val: 0.727, Test: 0.729"
         },
         {
          "Accuracy": "Val: 0.724, Test: 0.723",
          "F1-Score": "Val: 0.722, Test: 0.721",
          "Model": "Logistic Regression",
          "Precision": "Val: 0.726, Test: 0.725",
          "Recall": "Val: 0.724, Test: 0.723"
         },
         {
          "Accuracy": "Val: 0.724, Test: 0.729",
          "F1-Score": "Val: 0.723, Test: 0.728",
          "Model": "GradientBoost Classifier GridSearch Best",
          "Precision": "Val: 0.725, Test: 0.730",
          "Recall": "Val: 0.724, Test: 0.729"
         },
         {
          "Accuracy": "Val: 0.698, Test: 0.702",
          "F1-Score": "Val: 0.698, Test: 0.702",
          "Model": "Random Forest Classifier",
          "Precision": "Val: 0.698, Test: 0.702",
          "Recall": "Val: 0.698, Test: 0.702"
         }
        ]
       },
       "encoding": {},
       "layer": [
        {
         "layer": [
          {
           "encoding": {
            "x": {
             "field": "Model",
             "scale": {
              "type": "linear",
              "zero": false
             },
             "sort": null,
             "type": "nominal"
            },
            "y": {
             "field": "Precision",
             "scale": {
              "type": "linear",
              "zero": false
             },
             "sort": null,
             "type": "nominal"
            }
           },
           "mark": {
            "clip": true,
            "color": "#e45756",
            "tooltip": true,
            "type": "trail"
           }
          },
          {
           "encoding": {
            "x": {
             "field": "Model",
             "scale": {
              "type": "linear",
              "zero": false
             },
             "sort": null,
             "type": "nominal"
            },
            "y": {
             "field": "Precision",
             "scale": {
              "type": "linear",
              "zero": false
             },
             "sort": null,
             "type": "nominal"
            }
           },
           "mark": {
            "opacity": 0,
            "size": 100,
            "tooltip": true,
            "type": "point"
           }
          }
         ]
        }
       ],
       "title": ""
      },
      "text/plain": [
       "<__main__.DeepnoteChart at 0x7f13fcce5b80>"
      ]
     },
     "execution_count": 40,
     "metadata": {},
     "output_type": "execute_result"
    }
   ],
   "source": [
    "DeepnoteChart(sorted_results_df, \"\"\"{\"layer\":[{\"layer\":[{\"mark\":{\"clip\":true,\"type\":\"trail\",\"color\":\"#e45756\",\"tooltip\":true},\"encoding\":{\"x\":{\"sort\":null,\"type\":\"nominal\",\"field\":\"Model\",\"scale\":{\"type\":\"linear\",\"zero\":false}},\"y\":{\"sort\":null,\"type\":\"nominal\",\"field\":\"Precision\",\"scale\":{\"type\":\"linear\",\"zero\":false}}}},{\"mark\":{\"size\":100,\"type\":\"point\",\"opacity\":0,\"tooltip\":true},\"encoding\":{\"x\":{\"sort\":null,\"type\":\"nominal\",\"field\":\"Model\",\"scale\":{\"type\":\"linear\",\"zero\":false}},\"y\":{\"sort\":null,\"type\":\"nominal\",\"field\":\"Precision\",\"scale\":{\"type\":\"linear\",\"zero\":false}}}}]}],\"title\":\"\",\"config\":{\"legend\":{}},\"$schema\":\"https://vega.github.io/schema/vega-lite/v5.json\",\"encoding\":{}}\"\"\")"
   ]
  },
  {
   "cell_type": "code",
   "execution_count": 41,
   "metadata": {
    "cell_id": "f28ece9f921f4717846317f44513c982",
    "deepnote_cell_type": "code",
    "deepnote_to_be_reexecuted": false,
    "execution_millis": 1,
    "execution_start": 1677357309063,
    "source_hash": "5989d758",
    "tags": []
   },
   "outputs": [
    {
     "data": {
      "application/vnd.deepnote.dataframe.v3+json": {
       "column_count": 5,
       "columns": [
        {
         "dtype": "object",
         "name": "Model",
         "stats": {
          "categories": [
           {
            "count": 1,
            "name": "GradientBoost Classifier Best"
           },
           {
            "count": 1,
            "name": "Gradientboost Classifier"
           },
           {
            "count": 6,
            "name": "6 others"
           }
          ],
          "nan_count": 0,
          "unique_count": 8
         }
        },
        {
         "dtype": "object",
         "name": "Accuracy",
         "stats": {
          "categories": [
           {
            "count": 2,
            "name": "Val: 0.726, Test: 0.725"
           },
           {
            "count": 1,
            "name": "Val: 0.727, Test: 0.730"
           },
           {
            "count": 5,
            "name": "5 others"
           }
          ],
          "nan_count": 0,
          "unique_count": 7
         }
        },
        {
         "dtype": "object",
         "name": "Precision",
         "stats": {
          "categories": [
           {
            "count": 1,
            "name": "Val: 0.728, Test: 0.731"
           },
           {
            "count": 1,
            "name": "Val: 0.727, Test: 0.730"
           },
           {
            "count": 6,
            "name": "6 others"
           }
          ],
          "nan_count": 0,
          "unique_count": 8
         }
        },
        {
         "dtype": "object",
         "name": "Recall",
         "stats": {
          "categories": [
           {
            "count": 2,
            "name": "Val: 0.726, Test: 0.725"
           },
           {
            "count": 1,
            "name": "Val: 0.727, Test: 0.730"
           },
           {
            "count": 5,
            "name": "5 others"
           }
          ],
          "nan_count": 0,
          "unique_count": 7
         }
        },
        {
         "dtype": "object",
         "name": "F1-Score",
         "stats": {
          "categories": [
           {
            "count": 2,
            "name": "Val: 0.726, Test: 0.729"
           },
           {
            "count": 1,
            "name": "Val: 0.724, Test: 0.724"
           },
           {
            "count": 5,
            "name": "5 others"
           }
          ],
          "nan_count": 0,
          "unique_count": 7
         }
        },
        {
         "dtype": "int64",
         "name": "_deepnote_index_column"
        }
       ],
       "row_count": 8,
       "rows": [
        {
         "Accuracy": "Val: 0.727, Test: 0.730",
         "F1-Score": "Val: 0.726, Test: 0.729",
         "Model": "GradientBoost Classifier Best",
         "Precision": "Val: 0.728, Test: 0.731",
         "Recall": "Val: 0.727, Test: 0.730",
         "_deepnote_index_column": "5"
        },
        {
         "Accuracy": "Val: 0.727, Test: 0.729",
         "F1-Score": "Val: 0.726, Test: 0.729",
         "Model": "Gradientboost Classifier",
         "Precision": "Val: 0.727, Test: 0.730",
         "Recall": "Val: 0.727, Test: 0.729",
         "_deepnote_index_column": "2"
        },
        {
         "Accuracy": "Val: 0.726, Test: 0.726",
         "F1-Score": "Val: 0.724, Test: 0.724",
         "Model": "AdaBoost Classifier Best",
         "Precision": "Val: 0.731, Test: 0.732",
         "Recall": "Val: 0.726, Test: 0.726",
         "_deepnote_index_column": "4"
        },
        {
         "Accuracy": "Val: 0.726, Test: 0.725",
         "F1-Score": "Val: 0.724, Test: 0.722",
         "Model": "Adaboost Classifier",
         "Precision": "Val: 0.730, Test: 0.730",
         "Recall": "Val: 0.726, Test: 0.725",
         "_deepnote_index_column": "1"
        },
        {
         "Accuracy": "Val: 0.726, Test: 0.725",
         "F1-Score": "Val: 0.723, Test: 0.723",
         "Model": "AdaBoost Classifier GridSearch Best",
         "Precision": "Val: 0.729, Test: 0.730",
         "Recall": "Val: 0.726, Test: 0.725",
         "_deepnote_index_column": "6"
        },
        {
         "Accuracy": "Val: 0.724, Test: 0.729",
         "F1-Score": "Val: 0.723, Test: 0.728",
         "Model": "GradientBoost Classifier GridSearch Best",
         "Precision": "Val: 0.725, Test: 0.730",
         "Recall": "Val: 0.724, Test: 0.729",
         "_deepnote_index_column": "7"
        },
        {
         "Accuracy": "Val: 0.724, Test: 0.723",
         "F1-Score": "Val: 0.722, Test: 0.721",
         "Model": "Logistic Regression",
         "Precision": "Val: 0.726, Test: 0.725",
         "Recall": "Val: 0.724, Test: 0.723",
         "_deepnote_index_column": "0"
        },
        {
         "Accuracy": "Val: 0.698, Test: 0.702",
         "F1-Score": "Val: 0.698, Test: 0.702",
         "Model": "Random Forest Classifier",
         "Precision": "Val: 0.698, Test: 0.702",
         "Recall": "Val: 0.698, Test: 0.702",
         "_deepnote_index_column": "3"
        }
       ]
      },
      "text/html": [
       "<div>\n",
       "<style scoped>\n",
       "    .dataframe tbody tr th:only-of-type {\n",
       "        vertical-align: middle;\n",
       "    }\n",
       "\n",
       "    .dataframe tbody tr th {\n",
       "        vertical-align: top;\n",
       "    }\n",
       "\n",
       "    .dataframe thead th {\n",
       "        text-align: right;\n",
       "    }\n",
       "</style>\n",
       "<table border=\"1\" class=\"dataframe\">\n",
       "  <thead>\n",
       "    <tr style=\"text-align: right;\">\n",
       "      <th></th>\n",
       "      <th>Model</th>\n",
       "      <th>Accuracy</th>\n",
       "      <th>Precision</th>\n",
       "      <th>Recall</th>\n",
       "      <th>F1-Score</th>\n",
       "    </tr>\n",
       "  </thead>\n",
       "  <tbody>\n",
       "    <tr>\n",
       "      <th>5</th>\n",
       "      <td>GradientBoost Classifier Best</td>\n",
       "      <td>Val: 0.727, Test: 0.730</td>\n",
       "      <td>Val: 0.728, Test: 0.731</td>\n",
       "      <td>Val: 0.727, Test: 0.730</td>\n",
       "      <td>Val: 0.726, Test: 0.729</td>\n",
       "    </tr>\n",
       "    <tr>\n",
       "      <th>2</th>\n",
       "      <td>Gradientboost Classifier</td>\n",
       "      <td>Val: 0.727, Test: 0.729</td>\n",
       "      <td>Val: 0.727, Test: 0.730</td>\n",
       "      <td>Val: 0.727, Test: 0.729</td>\n",
       "      <td>Val: 0.726, Test: 0.729</td>\n",
       "    </tr>\n",
       "    <tr>\n",
       "      <th>4</th>\n",
       "      <td>AdaBoost Classifier Best</td>\n",
       "      <td>Val: 0.726, Test: 0.726</td>\n",
       "      <td>Val: 0.731, Test: 0.732</td>\n",
       "      <td>Val: 0.726, Test: 0.726</td>\n",
       "      <td>Val: 0.724, Test: 0.724</td>\n",
       "    </tr>\n",
       "    <tr>\n",
       "      <th>1</th>\n",
       "      <td>Adaboost Classifier</td>\n",
       "      <td>Val: 0.726, Test: 0.725</td>\n",
       "      <td>Val: 0.730, Test: 0.730</td>\n",
       "      <td>Val: 0.726, Test: 0.725</td>\n",
       "      <td>Val: 0.724, Test: 0.722</td>\n",
       "    </tr>\n",
       "    <tr>\n",
       "      <th>6</th>\n",
       "      <td>AdaBoost Classifier GridSearch Best</td>\n",
       "      <td>Val: 0.726, Test: 0.725</td>\n",
       "      <td>Val: 0.729, Test: 0.730</td>\n",
       "      <td>Val: 0.726, Test: 0.725</td>\n",
       "      <td>Val: 0.723, Test: 0.723</td>\n",
       "    </tr>\n",
       "    <tr>\n",
       "      <th>7</th>\n",
       "      <td>GradientBoost Classifier GridSearch Best</td>\n",
       "      <td>Val: 0.724, Test: 0.729</td>\n",
       "      <td>Val: 0.725, Test: 0.730</td>\n",
       "      <td>Val: 0.724, Test: 0.729</td>\n",
       "      <td>Val: 0.723, Test: 0.728</td>\n",
       "    </tr>\n",
       "    <tr>\n",
       "      <th>0</th>\n",
       "      <td>Logistic Regression</td>\n",
       "      <td>Val: 0.724, Test: 0.723</td>\n",
       "      <td>Val: 0.726, Test: 0.725</td>\n",
       "      <td>Val: 0.724, Test: 0.723</td>\n",
       "      <td>Val: 0.722, Test: 0.721</td>\n",
       "    </tr>\n",
       "    <tr>\n",
       "      <th>3</th>\n",
       "      <td>Random Forest Classifier</td>\n",
       "      <td>Val: 0.698, Test: 0.702</td>\n",
       "      <td>Val: 0.698, Test: 0.702</td>\n",
       "      <td>Val: 0.698, Test: 0.702</td>\n",
       "      <td>Val: 0.698, Test: 0.702</td>\n",
       "    </tr>\n",
       "  </tbody>\n",
       "</table>\n",
       "</div>"
      ],
      "text/plain": [
       "                                      Model                 Accuracy  \\\n",
       "5             GradientBoost Classifier Best  Val: 0.727, Test: 0.730   \n",
       "2                  Gradientboost Classifier  Val: 0.727, Test: 0.729   \n",
       "4                  AdaBoost Classifier Best  Val: 0.726, Test: 0.726   \n",
       "1                       Adaboost Classifier  Val: 0.726, Test: 0.725   \n",
       "6       AdaBoost Classifier GridSearch Best  Val: 0.726, Test: 0.725   \n",
       "7  GradientBoost Classifier GridSearch Best  Val: 0.724, Test: 0.729   \n",
       "0                       Logistic Regression  Val: 0.724, Test: 0.723   \n",
       "3                  Random Forest Classifier  Val: 0.698, Test: 0.702   \n",
       "\n",
       "                 Precision                   Recall                 F1-Score  \n",
       "5  Val: 0.728, Test: 0.731  Val: 0.727, Test: 0.730  Val: 0.726, Test: 0.729  \n",
       "2  Val: 0.727, Test: 0.730  Val: 0.727, Test: 0.729  Val: 0.726, Test: 0.729  \n",
       "4  Val: 0.731, Test: 0.732  Val: 0.726, Test: 0.726  Val: 0.724, Test: 0.724  \n",
       "1  Val: 0.730, Test: 0.730  Val: 0.726, Test: 0.725  Val: 0.724, Test: 0.722  \n",
       "6  Val: 0.729, Test: 0.730  Val: 0.726, Test: 0.725  Val: 0.723, Test: 0.723  \n",
       "7  Val: 0.725, Test: 0.730  Val: 0.724, Test: 0.729  Val: 0.723, Test: 0.728  \n",
       "0  Val: 0.726, Test: 0.725  Val: 0.724, Test: 0.723  Val: 0.722, Test: 0.721  \n",
       "3  Val: 0.698, Test: 0.702  Val: 0.698, Test: 0.702  Val: 0.698, Test: 0.702  "
      ]
     },
     "execution_count": 41,
     "metadata": {},
     "output_type": "execute_result"
    }
   ],
   "source": [
    "# results_df = results_df.sort_values('Precision', ascending=False)\n",
    "sorted_results_df = results_df.sort_values('Accuracy', ascending=False)\n",
    "sorted_results_df"
   ]
  },
  {
   "cell_type": "code",
   "execution_count": 31,
   "metadata": {
    "cell_id": "2e19d036d17240b1ac1fc23cfcf7b35a",
    "deepnote_cell_type": "visualization",
    "deepnote_config_collapsed": true,
    "deepnote_to_be_reexecuted": true,
    "deepnote_variable_name": "sorted_results_df",
    "deepnote_visualization_spec": {
     "$schema": "https://vega.github.io/schema/vega-lite/v5.json",
     "config": {
      "legend": {}
     },
     "encoding": {},
     "layer": [
      {
       "layer": [
        {
         "encoding": {
          "x": {
           "field": "Model",
           "scale": {
            "type": "linear",
            "zero": false
           },
           "sort": null,
           "type": "nominal"
          },
          "y": {
           "field": "Accuracy",
           "scale": {
            "type": "linear",
            "zero": false
           },
           "sort": null,
           "type": "nominal"
          }
         },
         "mark": {
          "clip": true,
          "color": "#f58518",
          "tooltip": true,
          "type": "trail"
         }
        },
        {
         "encoding": {
          "x": {
           "field": "Model",
           "scale": {
            "type": "linear",
            "zero": false
           },
           "sort": null,
           "type": "nominal"
          },
          "y": {
           "field": "Accuracy",
           "scale": {
            "type": "linear",
            "zero": false
           },
           "sort": null,
           "type": "nominal"
          }
         },
         "mark": {
          "opacity": 0,
          "size": 100,
          "tooltip": true,
          "type": "point"
         }
        }
       ]
      }
     ],
     "title": ""
    },
    "execution_millis": 6,
    "execution_start": 1677345364953,
    "output_cleared": false,
    "source_hash": "a864f7a2"
   },
   "outputs": [
    {
     "data": {
      "application/vnd.vegalite.v5+json": {
       "$schema": "https://vega.github.io/schema/vega-lite/v5.json",
       "config": {
        "legend": {}
       },
       "data": {
        "values": [
         {
          "Accuracy": "Val: 0.727, Test: 0.730",
          "F1-Score": "Val: 0.726, Test: 0.729",
          "Model": "GradientBoost Classifier Best",
          "Precision": "Val: 0.728, Test: 0.731",
          "Recall": "Val: 0.727, Test: 0.730"
         },
         {
          "Accuracy": "Val: 0.727, Test: 0.729",
          "F1-Score": "Val: 0.726, Test: 0.729",
          "Model": "Gradientboost Classifier",
          "Precision": "Val: 0.727, Test: 0.730",
          "Recall": "Val: 0.727, Test: 0.729"
         },
         {
          "Accuracy": "Val: 0.726, Test: 0.725",
          "F1-Score": "Val: 0.724, Test: 0.722",
          "Model": "Adaboost Classifier",
          "Precision": "Val: 0.730, Test: 0.730",
          "Recall": "Val: 0.726, Test: 0.725"
         },
         {
          "Accuracy": "Val: 0.726, Test: 0.725",
          "F1-Score": "Val: 0.724, Test: 0.722",
          "Model": "AdaBoost Classifier Best",
          "Precision": "Val: 0.731, Test: 0.731",
          "Recall": "Val: 0.726, Test: 0.725"
         },
         {
          "Accuracy": "Val: 0.726, Test: 0.725",
          "F1-Score": "Val: 0.724, Test: 0.723",
          "Model": "AdaBoost Classifier GridSearch Best",
          "Precision": "Val: 0.730, Test: 0.731",
          "Recall": "Val: 0.726, Test: 0.725"
         },
         {
          "Accuracy": "Val: 0.725, Test: 0.730",
          "F1-Score": "Val: 0.724, Test: 0.729",
          "Model": "GradientBoost Classifier GridSearch Best",
          "Precision": "Val: 0.726, Test: 0.732",
          "Recall": "Val: 0.725, Test: 0.730"
         },
         {
          "Accuracy": "Val: 0.724, Test: 0.723",
          "F1-Score": "Val: 0.722, Test: 0.721",
          "Model": "Logistic Regression",
          "Precision": "Val: 0.726, Test: 0.725",
          "Recall": "Val: 0.724, Test: 0.723"
         },
         {
          "Accuracy": "Val: 0.696, Test: 0.701",
          "F1-Score": "Val: 0.696, Test: 0.701",
          "Model": "Random Forest Classifier",
          "Precision": "Val: 0.696, Test: 0.701",
          "Recall": "Val: 0.696, Test: 0.701"
         }
        ]
       },
       "encoding": {},
       "layer": [
        {
         "layer": [
          {
           "encoding": {
            "x": {
             "field": "Model",
             "scale": {
              "type": "linear",
              "zero": false
             },
             "sort": null,
             "type": "nominal"
            },
            "y": {
             "field": "Accuracy",
             "scale": {
              "type": "linear",
              "zero": false
             },
             "sort": null,
             "type": "nominal"
            }
           },
           "mark": {
            "clip": true,
            "color": "#f58518",
            "tooltip": true,
            "type": "trail"
           }
          },
          {
           "encoding": {
            "x": {
             "field": "Model",
             "scale": {
              "type": "linear",
              "zero": false
             },
             "sort": null,
             "type": "nominal"
            },
            "y": {
             "field": "Accuracy",
             "scale": {
              "type": "linear",
              "zero": false
             },
             "sort": null,
             "type": "nominal"
            }
           },
           "mark": {
            "opacity": 0,
            "size": 100,
            "tooltip": true,
            "type": "point"
           }
          }
         ]
        }
       ],
       "title": ""
      },
      "text/plain": [
       "<__main__.DeepnoteChart at 0x7f684ea88cd0>"
      ]
     },
     "execution_count": 31,
     "metadata": {},
     "output_type": "execute_result"
    }
   ],
   "source": [
    "DeepnoteChart(sorted_results_df, \"\"\"{\"layer\":[{\"layer\":[{\"mark\":{\"clip\":true,\"type\":\"trail\",\"color\":\"#f58518\",\"tooltip\":true},\"encoding\":{\"x\":{\"sort\":null,\"type\":\"nominal\",\"field\":\"Model\",\"scale\":{\"type\":\"linear\",\"zero\":false}},\"y\":{\"sort\":null,\"type\":\"nominal\",\"field\":\"Accuracy\",\"scale\":{\"type\":\"linear\",\"zero\":false}}}},{\"mark\":{\"size\":100,\"type\":\"point\",\"opacity\":0,\"tooltip\":true},\"encoding\":{\"x\":{\"sort\":null,\"type\":\"nominal\",\"field\":\"Model\",\"scale\":{\"type\":\"linear\",\"zero\":false}},\"y\":{\"sort\":null,\"type\":\"nominal\",\"field\":\"Accuracy\",\"scale\":{\"type\":\"linear\",\"zero\":false}}}}]}],\"title\":\"\",\"config\":{\"legend\":{}},\"$schema\":\"https://vega.github.io/schema/vega-lite/v5.json\",\"encoding\":{}}\"\"\")"
   ]
  },
  {
   "cell_type": "markdown",
   "metadata": {
    "cell_id": "6c3adb093d2542c6b24ae093a573e368",
    "deepnote_cell_type": "markdown",
    "tags": []
   },
   "source": [
    "This created a DataFrame with columns for the model name, accuracy, precision, recall, and f1-score for both the validation and test sets. With `GradientBoost Classifier GridSearchCV` performing better across all performance metrics."
   ]
  },
  {
   "cell_type": "markdown",
   "metadata": {
    "cell_id": "2638ac837bb746dbb89a749946ab36c8",
    "deepnote_cell_type": "text-cell-h3",
    "formattedRanges": [],
    "is_collapsed": false,
    "tags": []
   },
   "source": [
    "### Implementing Voting-Classifier"
   ]
  },
  {
   "cell_type": "code",
   "execution_count": 24,
   "metadata": {
    "cell_id": "9e297a386e1548a8a85316c7d4393570",
    "deepnote_cell_type": "code",
    "deepnote_to_be_reexecuted": false,
    "execution_millis": 38801,
    "execution_start": 1677472675285,
    "source_hash": "efb78a51",
    "tags": []
   },
   "outputs": [
    {
     "name": "stdout",
     "output_type": "stream",
     "text": [
      "Voting Classifier \n",
      "Accuracy on validation set: 72.57%\n",
      "Accuracy on test set: 72.67%\n",
      "Cross-validation score: 72.33% (+/- 1.08%)\n",
      "Classification report:\n",
      "               precision    recall  f1-score   support\n",
      "\n",
      "           0       0.72      0.78      0.75      6159\n",
      "           1       0.75      0.67      0.71      5870\n",
      "\n",
      "    accuracy                           0.73     12029\n",
      "   macro avg       0.73      0.73      0.73     12029\n",
      "weighted avg       0.73      0.73      0.73     12029\n",
      "\n"
     ]
    }
   ],
   "source": [
    "from sklearn.ensemble import VotingClassifier\n",
    "\n",
    "vc = VotingClassifier(estimators=[('AdaBoost Classifier Best', ada_best),\n",
    "                                ('GradientBoost Classifier Best', gradboost_best)], \n",
    "                                voting='hard')\n",
    "vc.fit(X_train,y_train)\n",
    "\n",
    "# Evaluate the model on validation set\n",
    "y_val_pred = vc.predict(X_val)\n",
    "acc_val = accuracy_score(y_val, y_val_pred)\n",
    "p_val, r_val, f1_val, _ = precision_recall_fscore_support(y_val, y_val_pred, average='weighted')\n",
    "\n",
    "# Evaluate the model on test set\n",
    "y_test_pred = vc.predict(X_test)\n",
    "acc_test = accuracy_score(y_test, y_test_pred)\n",
    "p_test, r_test, f1_test, _ = precision_recall_fscore_support(y_test, y_test_pred, average='weighted')\n",
    "\n",
    "# Evaluate the model using cross-validation\n",
    "cv_scores = cross_val_score(vc, X_train_val, y_train_val, cv=5)\n",
    "\n",
    "# Append the results to the DataFrame\n",
    "results_df = results_df.append({\n",
    "    'Model': 'Voting Classifier',\n",
    "    'Accuracy': f'Val: {acc_val:.3f}, Test: {acc_test:.3f}',\n",
    "    'Precision': f'Val: {p_val:.3f}, Test: {p_test:.3f}',\n",
    "    'Recall': f'Val: {r_val:.3f}, Test: {r_test:.3f}',\n",
    "    'F1-Score': f'Val: {f1_val:.3f}, Test: {f1_test:.3f}'\n",
    "}, ignore_index=True)\n",
    "\n",
    "# Print the performance metrics\n",
    "print(\"Voting Classifier \")\n",
    "print(\"Accuracy on validation set: {:.2f}%\".format(acc_val*100))\n",
    "print(\"Accuracy on test set: {:.2f}%\".format(acc_test*100))\n",
    "print(\"Cross-validation score: {:.2f}% (+/- {:.2f}%)\".format(cv_scores.mean()*100, cv_scores.std()*2*100))\n",
    "print(\"Classification report:\\n\", classification_report(y_test, y_pred))"
   ]
  },
  {
   "cell_type": "code",
   "execution_count": 25,
   "metadata": {
    "cell_id": "f1daa5cc2b7d47be8110ac89ceaacd86",
    "deepnote_cell_type": "code",
    "deepnote_to_be_reexecuted": false,
    "execution_millis": 601,
    "execution_start": 1677472714086,
    "source_hash": "190b90d8",
    "tags": []
   },
   "outputs": [
    {
     "data": {
      "image/png": "[encoded data removed]",
      "text/plain": [
       "<Figure size 640x480 with 2 Axes>"
      ]
     },
     "metadata": {
      "image/png": {
       "height": 432,
       "width": 515
      }
     },
     "output_type": "display_data"
    }
   ],
   "source": [
    "plot_confusion_matrix(vc, X_test, y_test);"
   ]
  },
  {
   "cell_type": "code",
   "execution_count": 26,
   "metadata": {
    "cell_id": "78ab760965984d1c9c4c43a6eee2d905",
    "deepnote_cell_type": "code",
    "deepnote_to_be_reexecuted": false,
    "execution_millis": 4,
    "execution_start": 1677472714701,
    "source_hash": "5f5f1941",
    "tags": []
   },
   "outputs": [
    {
     "data": {
      "application/vnd.deepnote.dataframe.v3+json": {
       "column_count": 5,
       "columns": [
        {
         "dtype": "object",
         "name": "Model",
         "stats": {
          "categories": [
           {
            "count": 1,
            "name": "Voting Classifier"
           },
           {
            "count": 1,
            "name": "AdaBoost Classifier Best"
           },
           {
            "count": 7,
            "name": "7 others"
           }
          ],
          "nan_count": 0,
          "unique_count": 9
         }
        },
        {
         "dtype": "object",
         "name": "Accuracy",
         "stats": {
          "categories": [
           {
            "count": 2,
            "name": "Val: 0.726, Test: 0.725"
           },
           {
            "count": 1,
            "name": "Val: 0.726, Test: 0.727"
           },
           {
            "count": 6,
            "name": "6 others"
           }
          ],
          "nan_count": 0,
          "unique_count": 8
         }
        },
        {
         "dtype": "object",
         "name": "Precision",
         "stats": {
          "categories": [
           {
            "count": 1,
            "name": "Val: 0.731, Test: 0.734"
           },
           {
            "count": 1,
            "name": "Val: 0.731, Test: 0.732"
           },
           {
            "count": 7,
            "name": "7 others"
           }
          ],
          "nan_count": 0,
          "unique_count": 9
         }
        },
        {
         "dtype": "object",
         "name": "Recall",
         "stats": {
          "categories": [
           {
            "count": 2,
            "name": "Val: 0.726, Test: 0.725"
           },
           {
            "count": 1,
            "name": "Val: 0.726, Test: 0.727"
           },
           {
            "count": 6,
            "name": "6 others"
           }
          ],
          "nan_count": 0,
          "unique_count": 8
         }
        },
        {
         "dtype": "object",
         "name": "F1-Score",
         "stats": {
          "categories": [
           {
            "count": 2,
            "name": "Val: 0.726, Test: 0.729"
           },
           {
            "count": 1,
            "name": "Val: 0.723, Test: 0.724"
           },
           {
            "count": 6,
            "name": "6 others"
           }
          ],
          "nan_count": 0,
          "unique_count": 8
         }
        },
        {
         "dtype": "int64",
         "name": "_deepnote_index_column"
        }
       ],
       "row_count": 9,
       "rows": [
        {
         "Accuracy": "Val: 0.726, Test: 0.727",
         "F1-Score": "Val: 0.723, Test: 0.724",
         "Model": "Voting Classifier",
         "Precision": "Val: 0.731, Test: 0.734",
         "Recall": "Val: 0.726, Test: 0.727",
         "_deepnote_index_column": "8"
        },
        {
         "Accuracy": "Val: 0.726, Test: 0.726",
         "F1-Score": "Val: 0.724, Test: 0.724",
         "Model": "AdaBoost Classifier Best",
         "Precision": "Val: 0.731, Test: 0.732",
         "Recall": "Val: 0.726, Test: 0.726",
         "_deepnote_index_column": "4"
        },
        {
         "Accuracy": "Val: 0.726, Test: 0.725",
         "F1-Score": "Val: 0.724, Test: 0.722",
         "Model": "Adaboost Classifier",
         "Precision": "Val: 0.730, Test: 0.730",
         "Recall": "Val: 0.726, Test: 0.725",
         "_deepnote_index_column": "1"
        },
        {
         "Accuracy": "Val: 0.726, Test: 0.725",
         "F1-Score": "Val: 0.723, Test: 0.723",
         "Model": "AdaBoost Classifier GridSearch Best",
         "Precision": "Val: 0.729, Test: 0.730",
         "Recall": "Val: 0.726, Test: 0.725",
         "_deepnote_index_column": "6"
        },
        {
         "Accuracy": "Val: 0.727, Test: 0.730",
         "F1-Score": "Val: 0.726, Test: 0.729",
         "Model": "GradientBoost Classifier Best",
         "Precision": "Val: 0.728, Test: 0.731",
         "Recall": "Val: 0.727, Test: 0.730",
         "_deepnote_index_column": "5"
        },
        {
         "Accuracy": "Val: 0.727, Test: 0.729",
         "F1-Score": "Val: 0.726, Test: 0.729",
         "Model": "Gradientboost Classifier",
         "Precision": "Val: 0.727, Test: 0.730",
         "Recall": "Val: 0.727, Test: 0.729",
         "_deepnote_index_column": "2"
        },
        {
         "Accuracy": "Val: 0.724, Test: 0.723",
         "F1-Score": "Val: 0.722, Test: 0.721",
         "Model": "Logistic Regression",
         "Precision": "Val: 0.726, Test: 0.725",
         "Recall": "Val: 0.724, Test: 0.723",
         "_deepnote_index_column": "0"
        },
        {
         "Accuracy": "Val: 0.724, Test: 0.729",
         "F1-Score": "Val: 0.723, Test: 0.728",
         "Model": "GradientBoost Classifier GridSearch Best",
         "Precision": "Val: 0.725, Test: 0.730",
         "Recall": "Val: 0.724, Test: 0.729",
         "_deepnote_index_column": "7"
        },
        {
         "Accuracy": "Val: 0.699, Test: 0.703",
         "F1-Score": "Val: 0.699, Test: 0.703",
         "Model": "Random Forest Classifier",
         "Precision": "Val: 0.699, Test: 0.703",
         "Recall": "Val: 0.699, Test: 0.703",
         "_deepnote_index_column": "3"
        }
       ]
      },
      "text/html": [
       "<div>\n",
       "<style scoped>\n",
       "    .dataframe tbody tr th:only-of-type {\n",
       "        vertical-align: middle;\n",
       "    }\n",
       "\n",
       "    .dataframe tbody tr th {\n",
       "        vertical-align: top;\n",
       "    }\n",
       "\n",
       "    .dataframe thead th {\n",
       "        text-align: right;\n",
       "    }\n",
       "</style>\n",
       "<table border=\"1\" class=\"dataframe\">\n",
       "  <thead>\n",
       "    <tr style=\"text-align: right;\">\n",
       "      <th></th>\n",
       "      <th>Model</th>\n",
       "      <th>Accuracy</th>\n",
       "      <th>Precision</th>\n",
       "      <th>Recall</th>\n",
       "      <th>F1-Score</th>\n",
       "    </tr>\n",
       "  </thead>\n",
       "  <tbody>\n",
       "    <tr>\n",
       "      <th>8</th>\n",
       "      <td>Voting Classifier</td>\n",
       "      <td>Val: 0.726, Test: 0.727</td>\n",
       "      <td>Val: 0.731, Test: 0.734</td>\n",
       "      <td>Val: 0.726, Test: 0.727</td>\n",
       "      <td>Val: 0.723, Test: 0.724</td>\n",
       "    </tr>\n",
       "    <tr>\n",
       "      <th>4</th>\n",
       "      <td>AdaBoost Classifier Best</td>\n",
       "      <td>Val: 0.726, Test: 0.726</td>\n",
       "      <td>Val: 0.731, Test: 0.732</td>\n",
       "      <td>Val: 0.726, Test: 0.726</td>\n",
       "      <td>Val: 0.724, Test: 0.724</td>\n",
       "    </tr>\n",
       "    <tr>\n",
       "      <th>1</th>\n",
       "      <td>Adaboost Classifier</td>\n",
       "      <td>Val: 0.726, Test: 0.725</td>\n",
       "      <td>Val: 0.730, Test: 0.730</td>\n",
       "      <td>Val: 0.726, Test: 0.725</td>\n",
       "      <td>Val: 0.724, Test: 0.722</td>\n",
       "    </tr>\n",
       "    <tr>\n",
       "      <th>6</th>\n",
       "      <td>AdaBoost Classifier GridSearch Best</td>\n",
       "      <td>Val: 0.726, Test: 0.725</td>\n",
       "      <td>Val: 0.729, Test: 0.730</td>\n",
       "      <td>Val: 0.726, Test: 0.725</td>\n",
       "      <td>Val: 0.723, Test: 0.723</td>\n",
       "    </tr>\n",
       "    <tr>\n",
       "      <th>5</th>\n",
       "      <td>GradientBoost Classifier Best</td>\n",
       "      <td>Val: 0.727, Test: 0.730</td>\n",
       "      <td>Val: 0.728, Test: 0.731</td>\n",
       "      <td>Val: 0.727, Test: 0.730</td>\n",
       "      <td>Val: 0.726, Test: 0.729</td>\n",
       "    </tr>\n",
       "    <tr>\n",
       "      <th>2</th>\n",
       "      <td>Gradientboost Classifier</td>\n",
       "      <td>Val: 0.727, Test: 0.729</td>\n",
       "      <td>Val: 0.727, Test: 0.730</td>\n",
       "      <td>Val: 0.727, Test: 0.729</td>\n",
       "      <td>Val: 0.726, Test: 0.729</td>\n",
       "    </tr>\n",
       "    <tr>\n",
       "      <th>0</th>\n",
       "      <td>Logistic Regression</td>\n",
       "      <td>Val: 0.724, Test: 0.723</td>\n",
       "      <td>Val: 0.726, Test: 0.725</td>\n",
       "      <td>Val: 0.724, Test: 0.723</td>\n",
       "      <td>Val: 0.722, Test: 0.721</td>\n",
       "    </tr>\n",
       "    <tr>\n",
       "      <th>7</th>\n",
       "      <td>GradientBoost Classifier GridSearch Best</td>\n",
       "      <td>Val: 0.724, Test: 0.729</td>\n",
       "      <td>Val: 0.725, Test: 0.730</td>\n",
       "      <td>Val: 0.724, Test: 0.729</td>\n",
       "      <td>Val: 0.723, Test: 0.728</td>\n",
       "    </tr>\n",
       "    <tr>\n",
       "      <th>3</th>\n",
       "      <td>Random Forest Classifier</td>\n",
       "      <td>Val: 0.699, Test: 0.703</td>\n",
       "      <td>Val: 0.699, Test: 0.703</td>\n",
       "      <td>Val: 0.699, Test: 0.703</td>\n",
       "      <td>Val: 0.699, Test: 0.703</td>\n",
       "    </tr>\n",
       "  </tbody>\n",
       "</table>\n",
       "</div>"
      ],
      "text/plain": [
       "                                      Model                 Accuracy  \\\n",
       "8                         Voting Classifier  Val: 0.726, Test: 0.727   \n",
       "4                  AdaBoost Classifier Best  Val: 0.726, Test: 0.726   \n",
       "1                       Adaboost Classifier  Val: 0.726, Test: 0.725   \n",
       "6       AdaBoost Classifier GridSearch Best  Val: 0.726, Test: 0.725   \n",
       "5             GradientBoost Classifier Best  Val: 0.727, Test: 0.730   \n",
       "2                  Gradientboost Classifier  Val: 0.727, Test: 0.729   \n",
       "0                       Logistic Regression  Val: 0.724, Test: 0.723   \n",
       "7  GradientBoost Classifier GridSearch Best  Val: 0.724, Test: 0.729   \n",
       "3                  Random Forest Classifier  Val: 0.699, Test: 0.703   \n",
       "\n",
       "                 Precision                   Recall                 F1-Score  \n",
       "8  Val: 0.731, Test: 0.734  Val: 0.726, Test: 0.727  Val: 0.723, Test: 0.724  \n",
       "4  Val: 0.731, Test: 0.732  Val: 0.726, Test: 0.726  Val: 0.724, Test: 0.724  \n",
       "1  Val: 0.730, Test: 0.730  Val: 0.726, Test: 0.725  Val: 0.724, Test: 0.722  \n",
       "6  Val: 0.729, Test: 0.730  Val: 0.726, Test: 0.725  Val: 0.723, Test: 0.723  \n",
       "5  Val: 0.728, Test: 0.731  Val: 0.727, Test: 0.730  Val: 0.726, Test: 0.729  \n",
       "2  Val: 0.727, Test: 0.730  Val: 0.727, Test: 0.729  Val: 0.726, Test: 0.729  \n",
       "0  Val: 0.726, Test: 0.725  Val: 0.724, Test: 0.723  Val: 0.722, Test: 0.721  \n",
       "7  Val: 0.725, Test: 0.730  Val: 0.724, Test: 0.729  Val: 0.723, Test: 0.728  \n",
       "3  Val: 0.699, Test: 0.703  Val: 0.699, Test: 0.703  Val: 0.699, Test: 0.703  "
      ]
     },
     "execution_count": 26,
     "metadata": {},
     "output_type": "execute_result"
    }
   ],
   "source": [
    "sorted_results_df = results_df.sort_values('Precision', ascending=False)\n",
    "sorted_results_df"
   ]
  },
  {
   "cell_type": "code",
   "execution_count": null,
   "metadata": {},
   "outputs": [],
   "source": []
  },
  {
   "cell_type": "markdown",
   "metadata": {
    "cell_id": "670b1457b3af44398025dea4586c5120",
    "deepnote_cell_type": "text-cell-h3",
    "formattedRanges": [],
    "is_collapsed": false,
    "tags": []
   },
   "source": [
    "### Transforming Data"
   ]
  },
  {
   "cell_type": "code",
   "execution_count": 4,
   "metadata": {
    "cell_id": "f76a2b0549324c2289a305376575144c",
    "deepnote_cell_type": "code",
    "deepnote_to_be_reexecuted": false,
    "execution_millis": 4,
    "execution_start": 1677486377448,
    "source_hash": "b9200f3",
    "tags": []
   },
   "outputs": [],
   "source": [
    "# Transforming the column AGE(measured in days) for Age_Bin\n",
    "# age_bin in quinquenium 5 years spam\n",
    "df['age_bin'] = pd.cut(df['age'], [0,20,30,35,40,45,50,55,60,65,70,75,80,85,90,95,100], \n",
    "                              labels=['0-20', '20-30', '30-35', '35-40','40-45','45-50','50-55','55-60','60-65','65-70','70-75','75-80','80-85','85-90','90-95','95-100'])"
   ]
  },
  {
   "cell_type": "markdown",
   "metadata": {
    "cell_id": "106fc764fb884db586f30aea140a40be",
    "deepnote_cell_type": "markdown",
    "tags": []
   },
   "source": [
    "Here, I am grouping or binning `age` column into categories based on a 5-year interval. `Age_bin` is a variable or column name that likely contains individual age values, while `quinquenium` refers to a period of 5 years.\n",
    "\n",
    "For example, if we have a dataset with age information, we can use this method to group the ages into 5-year intervals, such as 0-4 years, 5-9 years, 10-14 years, and so on. Each of these intervals can then be assigned a label or category, such as \"0-4\", \"5-9\", \"10-14\", etc., which can be used as input for statistical analyses or machine learning algorithms.\n",
    "\n",
    "This type of grouping or binning is often used in demographic or epidemiological studies to analyze trends and patterns within age groups. It can also be used as a way to simplify data analysis and make it more manageable when dealing with large datasets."
   ]
  },
  {
   "cell_type": "code",
   "execution_count": 5,
   "metadata": {
    "cell_id": "99350091a83544288a7e4b4bfd436209",
    "deepnote_cell_type": "code",
    "deepnote_to_be_reexecuted": false,
    "execution_millis": 21,
    "execution_start": 1677486382687,
    "source_hash": "17ed9960",
    "tags": []
   },
   "outputs": [],
   "source": [
    "# Transforming the column bmi in Body Mass Index Classes (1 to 6)\n",
    "\n",
    "# Adding Body Mass Index\n",
    "df['bmi'] = df['weight']/((df['height']/100)**2)\n",
    "\n",
    "rating = []\n",
    "for row in df['bmi']:\n",
    "    if row < 18.5 :    \n",
    "        rating.append(1) #UnderWeight\n",
    "    elif row > 18.5 and row  < 24.9:   \n",
    "        rating.append(2) #NormalWeight\n",
    "    elif row > 24.9 and row < 29.9:  \n",
    "        rating.append(3) #OverWeight\n",
    "    elif row > 29.9 and row < 34.9:  \n",
    "        rating.append(4) #ClassObesity_1\n",
    "    elif row > 34.9 and row < 39.9:  \n",
    "        rating.append(5) #ClassObesity_2\n",
    "    elif row > 39.9 and row < 49.9:  \n",
    "        rating.append(6) #ClassObesity_3\n",
    "    elif row > 49.9:  \n",
    "        rating.append('Error')\n",
    "        \n",
    "    else:           \n",
    "        rating.append('Not_Rated')\n",
    "\n",
    "# inserting Column\n",
    "df['BMI_Class'] = rating"
   ]
  },
  {
   "cell_type": "code",
   "execution_count": 7,
   "metadata": {
    "cell_id": "849f7bfce448408f8078148b10013853",
    "deepnote_cell_type": "code",
    "deepnote_to_be_reexecuted": false,
    "execution_millis": 33,
    "execution_start": 1677486414913,
    "source_hash": "986fc79f",
    "tags": []
   },
   "outputs": [],
   "source": [
    "# creating a Column for MAP\n",
    "df['MAP'] = ((2* df['diastolic']) + df['systolic']) / 3\n",
    "\n",
    "#Creating Classes for MAP\n",
    "map_values = []\n",
    "for row in df['MAP']:\n",
    "    if row < 69.9:    \n",
    "        map_values.append(1) #Low\n",
    "    elif row > 70 and row  < 79.9:   \n",
    "        map_values.append(2)#Normal\n",
    "    elif row > 79.9 and row < 89.9:  \n",
    "        map_values.append(3)#Normal\n",
    "    elif row > 89.9 and row < 99.9:  \n",
    "        map_values.append(4)#Normal\n",
    "    elif row > 99.9 and row < 109.9:  \n",
    "        map_values.append(5)#High\n",
    "    elif row > 109.9 and row < 119.9:  \n",
    "        map_values.append(6)#Normal\n",
    "    elif row > 119.9:  \n",
    "        map_values.append(7)\n",
    "        \n",
    "    else:           \n",
    "        map_values.append('Not_Rated')\n",
    "\n",
    "#inserting MAP_Class Column\n",
    "df['MAP_Class'] = map_values"
   ]
  },
  {
   "cell_type": "markdown",
   "metadata": {
    "cell_id": "0b35d21a2c2549bda463636a951cb55a",
    "deepnote_cell_type": "markdown",
    "tags": []
   },
   "source": [
    "Mean Arterial Pressure (MAP) = 2 Diastollic Blood Pressure + Sistolic Blood Pressure / 3\n",
    "\n",
    "The overall blood pressure as measured in the brachial artery is maintained by the cardiac output and the total peripheral resistance (TPR) to flow. The mean arterial pressure (MAP) is calculated using the formula above"
   ]
  },
  {
   "cell_type": "code",
   "execution_count": 8,
   "metadata": {
    "cell_id": "005c9c099290402398f31fce1c1f8c6e",
    "deepnote_cell_type": "code",
    "deepnote_to_be_reexecuted": false,
    "execution_millis": 56,
    "execution_start": 1677486442483,
    "source_hash": "ae6618c6",
    "tags": []
   },
   "outputs": [
    {
     "data": {
      "application/vnd.deepnote.dataframe.v3+json": {
       "column_count": 18,
       "columns": [
        {
         "dtype": "int64",
         "name": "age",
         "stats": {
          "histogram": [
           {
            "bin_end": 47.8,
            "bin_start": 47,
            "count": 1
           },
           {
            "bin_end": 48.6,
            "bin_start": 47.8,
            "count": 1
           },
           {
            "bin_end": 49.4,
            "bin_start": 48.6,
            "count": 0
           },
           {
            "bin_end": 50.2,
            "bin_start": 49.4,
            "count": 1
           },
           {
            "bin_end": 51,
            "bin_start": 50.2,
            "count": 0
           },
           {
            "bin_end": 51.8,
            "bin_start": 51,
            "count": 1
           },
           {
            "bin_end": 52.6,
            "bin_start": 51.8,
            "count": 0
           },
           {
            "bin_end": 53.4,
            "bin_start": 52.6,
            "count": 0
           },
           {
            "bin_end": 54.2,
            "bin_start": 53.4,
            "count": 0
           },
           {
            "bin_end": 55,
            "bin_start": 54.2,
            "count": 1
           }
          ],
          "max": "55",
          "min": "47",
          "nan_count": 0,
          "unique_count": 5
         }
        },
        {
         "dtype": "int64",
         "name": "gender",
         "stats": {
          "histogram": [
           {
            "bin_end": 1.1,
            "bin_start": 1,
            "count": 3
           },
           {
            "bin_end": 1.2,
            "bin_start": 1.1,
            "count": 0
           },
           {
            "bin_end": 1.3,
            "bin_start": 1.2,
            "count": 0
           },
           {
            "bin_end": 1.4,
            "bin_start": 1.3,
            "count": 0
           },
           {
            "bin_end": 1.5,
            "bin_start": 1.4,
            "count": 0
           },
           {
            "bin_end": 1.6,
            "bin_start": 1.5,
            "count": 0
           },
           {
            "bin_end": 1.7000000000000002,
            "bin_start": 1.6,
            "count": 0
           },
           {
            "bin_end": 1.8,
            "bin_start": 1.7000000000000002,
            "count": 0
           },
           {
            "bin_end": 1.9,
            "bin_start": 1.8,
            "count": 0
           },
           {
            "bin_end": 2,
            "bin_start": 1.9,
            "count": 2
           }
          ],
          "max": "2",
          "min": "1",
          "nan_count": 0,
          "unique_count": 2
         }
        },
        {
         "dtype": "int64",
         "name": "height",
         "stats": {
          "histogram": [
           {
            "bin_end": 157.3,
            "bin_start": 156,
            "count": 2
           },
           {
            "bin_end": 158.6,
            "bin_start": 157.3,
            "count": 0
           },
           {
            "bin_end": 159.9,
            "bin_start": 158.6,
            "count": 0
           },
           {
            "bin_end": 161.2,
            "bin_start": 159.9,
            "count": 0
           },
           {
            "bin_end": 162.5,
            "bin_start": 161.2,
            "count": 0
           },
           {
            "bin_end": 163.8,
            "bin_start": 162.5,
            "count": 0
           },
           {
            "bin_end": 165.1,
            "bin_start": 163.8,
            "count": 1
           },
           {
            "bin_end": 166.4,
            "bin_start": 165.1,
            "count": 0
           },
           {
            "bin_end": 167.7,
            "bin_start": 166.4,
            "count": 0
           },
           {
            "bin_end": 169,
            "bin_start": 167.7,
            "count": 2
           }
          ],
          "max": "169",
          "min": "156",
          "nan_count": 0,
          "unique_count": 4
         }
        },
        {
         "dtype": "int64",
         "name": "weight",
         "stats": {
          "histogram": [
           {
            "bin_end": 58.9,
            "bin_start": 56,
            "count": 1
           },
           {
            "bin_end": 61.8,
            "bin_start": 58.9,
            "count": 0
           },
           {
            "bin_end": 64.7,
            "bin_start": 61.8,
            "count": 2
           },
           {
            "bin_end": 67.6,
            "bin_start": 64.7,
            "count": 0
           },
           {
            "bin_end": 70.5,
            "bin_start": 67.6,
            "count": 0
           },
           {
            "bin_end": 73.4,
            "bin_start": 70.5,
            "count": 0
           },
           {
            "bin_end": 76.3,
            "bin_start": 73.4,
            "count": 0
           },
           {
            "bin_end": 79.2,
            "bin_start": 76.3,
            "count": 0
           },
           {
            "bin_end": 82.1,
            "bin_start": 79.2,
            "count": 1
           },
           {
            "bin_end": 85,
            "bin_start": 82.1,
            "count": 1
           }
          ],
          "max": "85",
          "min": "56",
          "nan_count": 0,
          "unique_count": 5
         }
        },
        {
         "dtype": "int64",
         "name": "BMI",
         "stats": {
          "histogram": [
           {
            "bin_end": 22.3,
            "bin_start": 21,
            "count": 1
           },
           {
            "bin_end": 23.6,
            "bin_start": 22.3,
            "count": 2
           },
           {
            "bin_end": 24.9,
            "bin_start": 23.6,
            "count": 0
           },
           {
            "bin_end": 26.2,
            "bin_start": 24.9,
            "count": 0
           },
           {
            "bin_end": 27.5,
            "bin_start": 26.2,
            "count": 0
           },
           {
            "bin_end": 28.8,
            "bin_start": 27.5,
            "count": 1
           },
           {
            "bin_end": 30.1,
            "bin_start": 28.8,
            "count": 0
           },
           {
            "bin_end": 31.4,
            "bin_start": 30.1,
            "count": 0
           },
           {
            "bin_end": 32.7,
            "bin_start": 31.4,
            "count": 0
           },
           {
            "bin_end": 34,
            "bin_start": 32.7,
            "count": 1
           }
          ],
          "max": "34",
          "min": "21",
          "nan_count": 0,
          "unique_count": 4
         }
        },
        {
         "dtype": "float64",
         "name": "bmi",
         "stats": {
          "histogram": [
           {
            "bin_end": 23.26317607911015,
            "bin_start": 21.9671201814059,
            "count": 2
           },
           {
            "bin_end": 24.559231976814395,
            "bin_start": 23.26317607911015,
            "count": 1
           },
           {
            "bin_end": 25.855287874518645,
            "bin_start": 24.559231976814395,
            "count": 0
           },
           {
            "bin_end": 27.151343772222894,
            "bin_start": 25.855287874518645,
            "count": 0
           },
           {
            "bin_end": 28.447399669927144,
            "bin_start": 27.151343772222894,
            "count": 0
           },
           {
            "bin_end": 29.74345556763139,
            "bin_start": 28.447399669927144,
            "count": 1
           },
           {
            "bin_end": 31.03951146533564,
            "bin_start": 29.74345556763139,
            "count": 0
           },
           {
            "bin_end": 32.335567363039885,
            "bin_start": 31.03951146533564,
            "count": 0
           },
           {
            "bin_end": 33.631623260744135,
            "bin_start": 32.335567363039885,
            "count": 0
           },
           {
            "bin_end": 34.927679158448385,
            "bin_start": 33.631623260744135,
            "count": 1
           }
          ],
          "max": "34.927679158448385",
          "min": "21.9671201814059",
          "nan_count": 0,
          "unique_count": 5
         }
        },
        {
         "dtype": "int64",
         "name": "systolic",
         "stats": {
          "histogram": [
           {
            "bin_end": 105,
            "bin_start": 100,
            "count": 1
           },
           {
            "bin_end": 110,
            "bin_start": 105,
            "count": 0
           },
           {
            "bin_end": 115,
            "bin_start": 110,
            "count": 1
           },
           {
            "bin_end": 120,
            "bin_start": 115,
            "count": 0
           },
           {
            "bin_end": 125,
            "bin_start": 120,
            "count": 0
           },
           {
            "bin_end": 130,
            "bin_start": 125,
            "count": 0
           },
           {
            "bin_end": 135,
            "bin_start": 130,
            "count": 1
           },
           {
            "bin_end": 140,
            "bin_start": 135,
            "count": 0
           },
           {
            "bin_end": 145,
            "bin_start": 140,
            "count": 1
           },
           {
            "bin_end": 150,
            "bin_start": 145,
            "count": 1
           }
          ],
          "max": "150",
          "min": "100",
          "nan_count": 0,
          "unique_count": 5
         }
        },
        {
         "dtype": "int64",
         "name": "diastolic",
         "stats": {
          "histogram": [
           {
            "bin_end": 64,
            "bin_start": 60,
            "count": 1
           },
           {
            "bin_end": 68,
            "bin_start": 64,
            "count": 0
           },
           {
            "bin_end": 72,
            "bin_start": 68,
            "count": 1
           },
           {
            "bin_end": 76,
            "bin_start": 72,
            "count": 0
           },
           {
            "bin_end": 80,
            "bin_start": 76,
            "count": 0
           },
           {
            "bin_end": 84,
            "bin_start": 80,
            "count": 1
           },
           {
            "bin_end": 88,
            "bin_start": 84,
            "count": 0
           },
           {
            "bin_end": 92,
            "bin_start": 88,
            "count": 1
           },
           {
            "bin_end": 96,
            "bin_start": 92,
            "count": 0
           },
           {
            "bin_end": 100,
            "bin_start": 96,
            "count": 1
           }
          ],
          "max": "100",
          "min": "60",
          "nan_count": 0,
          "unique_count": 5
         }
        },
        {
         "dtype": "float64",
         "name": "MAP",
         "stats": {
          "histogram": [
           {
            "bin_end": 77.66666666666666,
            "bin_start": 73.33333333333333,
            "count": 1
           },
           {
            "bin_end": 82,
            "bin_start": 77.66666666666666,
            "count": 0
           },
           {
            "bin_end": 86.33333333333333,
            "bin_start": 82,
            "count": 0
           },
           {
            "bin_end": 90.66666666666666,
            "bin_start": 86.33333333333333,
            "count": 2
           },
           {
            "bin_end": 95,
            "bin_start": 90.66666666666666,
            "count": 0
           },
           {
            "bin_end": 99.33333333333333,
            "bin_start": 95,
            "count": 0
           },
           {
            "bin_end": 103.66666666666666,
            "bin_start": 99.33333333333333,
            "count": 0
           },
           {
            "bin_end": 108,
            "bin_start": 103.66666666666666,
            "count": 1
           },
           {
            "bin_end": 112.33333333333334,
            "bin_start": 108,
            "count": 0
           },
           {
            "bin_end": 116.66666666666667,
            "bin_start": 112.33333333333334,
            "count": 1
           }
          ],
          "max": "116.66666666666667",
          "min": "73.33333333333333",
          "nan_count": 0,
          "unique_count": 4
         }
        },
        {
         "dtype": "category",
         "name": "age_bin",
         "stats": {
          "categories": [
           {
            "count": 3,
            "name": "45-50"
           },
           {
            "count": 2,
            "name": "50-55"
           }
          ],
          "nan_count": 0,
          "unique_count": 2
         }
        },
        {
         "dtype": "int64",
         "name": "BMI_Class",
         "stats": {
          "histogram": [
           {
            "bin_end": 2.3,
            "bin_start": 2,
            "count": 3
           },
           {
            "bin_end": 2.6,
            "bin_start": 2.3,
            "count": 0
           },
           {
            "bin_end": 2.9,
            "bin_start": 2.6,
            "count": 0
           },
           {
            "bin_end": 3.2,
            "bin_start": 2.9,
            "count": 1
           },
           {
            "bin_end": 3.5,
            "bin_start": 3.2,
            "count": 0
           },
           {
            "bin_end": 3.8,
            "bin_start": 3.5,
            "count": 0
           },
           {
            "bin_end": 4.1,
            "bin_start": 3.8,
            "count": 0
           },
           {
            "bin_end": 4.4,
            "bin_start": 4.1,
            "count": 0
           },
           {
            "bin_end": 4.699999999999999,
            "bin_start": 4.4,
            "count": 0
           },
           {
            "bin_end": 5,
            "bin_start": 4.699999999999999,
            "count": 1
           }
          ],
          "max": "5",
          "min": "2",
          "nan_count": 0,
          "unique_count": 3
         }
        },
        {
         "dtype": "int64",
         "name": "MAP_Class",
         "stats": {
          "histogram": [
           {
            "bin_end": 2.4,
            "bin_start": 2,
            "count": 1
           },
           {
            "bin_end": 2.8,
            "bin_start": 2.4,
            "count": 0
           },
           {
            "bin_end": 3.2,
            "bin_start": 2.8,
            "count": 0
           },
           {
            "bin_end": 3.6,
            "bin_start": 3.2,
            "count": 0
           },
           {
            "bin_end": 4,
            "bin_start": 3.6,
            "count": 0
           },
           {
            "bin_end": 4.4,
            "bin_start": 4,
            "count": 2
           },
           {
            "bin_end": 4.800000000000001,
            "bin_start": 4.4,
            "count": 0
           },
           {
            "bin_end": 5.2,
            "bin_start": 4.800000000000001,
            "count": 1
           },
           {
            "bin_end": 5.6,
            "bin_start": 5.2,
            "count": 0
           },
           {
            "bin_end": 6,
            "bin_start": 5.6,
            "count": 1
           }
          ],
          "max": "6",
          "min": "2",
          "nan_count": 0,
          "unique_count": 4
         }
        },
        {
         "dtype": "int64",
         "name": "cholesterol",
         "stats": {
          "histogram": [
           {
            "bin_end": 1.2,
            "bin_start": 1,
            "count": 3
           },
           {
            "bin_end": 1.4,
            "bin_start": 1.2,
            "count": 0
           },
           {
            "bin_end": 1.6,
            "bin_start": 1.4,
            "count": 0
           },
           {
            "bin_end": 1.8,
            "bin_start": 1.6,
            "count": 0
           },
           {
            "bin_end": 2,
            "bin_start": 1.8,
            "count": 0
           },
           {
            "bin_end": 2.2,
            "bin_start": 2,
            "count": 0
           },
           {
            "bin_end": 2.4000000000000004,
            "bin_start": 2.2,
            "count": 0
           },
           {
            "bin_end": 2.6,
            "bin_start": 2.4000000000000004,
            "count": 0
           },
           {
            "bin_end": 2.8,
            "bin_start": 2.6,
            "count": 0
           },
           {
            "bin_end": 3,
            "bin_start": 2.8,
            "count": 2
           }
          ],
          "max": "3",
          "min": "1",
          "nan_count": 0,
          "unique_count": 2
         }
        },
        {
         "dtype": "int64",
         "name": "glucose",
         "stats": {
          "histogram": [
           {
            "bin_end": 0.6,
            "bin_start": 0.5,
            "count": 0
           },
           {
            "bin_end": 0.7,
            "bin_start": 0.6,
            "count": 0
           },
           {
            "bin_end": 0.8,
            "bin_start": 0.7,
            "count": 0
           },
           {
            "bin_end": 0.9,
            "bin_start": 0.8,
            "count": 0
           },
           {
            "bin_end": 1,
            "bin_start": 0.9,
            "count": 0
           },
           {
            "bin_end": 1.1,
            "bin_start": 1,
            "count": 5
           },
           {
            "bin_end": 1.2000000000000002,
            "bin_start": 1.1,
            "count": 0
           },
           {
            "bin_end": 1.3,
            "bin_start": 1.2000000000000002,
            "count": 0
           },
           {
            "bin_end": 1.4,
            "bin_start": 1.3,
            "count": 0
           },
           {
            "bin_end": 1.5,
            "bin_start": 1.4,
            "count": 0
           }
          ],
          "max": "1",
          "min": "1",
          "nan_count": 0,
          "unique_count": 1
         }
        },
        {
         "dtype": "int64",
         "name": "smoke",
         "stats": {
          "histogram": [
           {
            "bin_end": -0.4,
            "bin_start": -0.5,
            "count": 0
           },
           {
            "bin_end": -0.3,
            "bin_start": -0.4,
            "count": 0
           },
           {
            "bin_end": -0.19999999999999996,
            "bin_start": -0.3,
            "count": 0
           },
           {
            "bin_end": -0.09999999999999998,
            "bin_start": -0.19999999999999996,
            "count": 0
           },
           {
            "bin_end": 0,
            "bin_start": -0.09999999999999998,
            "count": 0
           },
           {
            "bin_end": 0.10000000000000009,
            "bin_start": 0,
            "count": 5
           },
           {
            "bin_end": 0.20000000000000007,
            "bin_start": 0.10000000000000009,
            "count": 0
           },
           {
            "bin_end": 0.30000000000000004,
            "bin_start": 0.20000000000000007,
            "count": 0
           },
           {
            "bin_end": 0.4,
            "bin_start": 0.30000000000000004,
            "count": 0
           },
           {
            "bin_end": 0.5,
            "bin_start": 0.4,
            "count": 0
           }
          ],
          "max": "0",
          "min": "0",
          "nan_count": 0,
          "unique_count": 1
         }
        },
        {
         "dtype": "int64",
         "name": "alcohol",
         "stats": {
          "histogram": [
           {
            "bin_end": -0.4,
            "bin_start": -0.5,
            "count": 0
           },
           {
            "bin_end": -0.3,
            "bin_start": -0.4,
            "count": 0
           },
           {
            "bin_end": -0.19999999999999996,
            "bin_start": -0.3,
            "count": 0
           },
           {
            "bin_end": -0.09999999999999998,
            "bin_start": -0.19999999999999996,
            "count": 0
           },
           {
            "bin_end": 0,
            "bin_start": -0.09999999999999998,
            "count": 0
           },
           {
            "bin_end": 0.10000000000000009,
            "bin_start": 0,
            "count": 5
           },
           {
            "bin_end": 0.20000000000000007,
            "bin_start": 0.10000000000000009,
            "count": 0
           },
           {
            "bin_end": 0.30000000000000004,
            "bin_start": 0.20000000000000007,
            "count": 0
           },
           {
            "bin_end": 0.4,
            "bin_start": 0.30000000000000004,
            "count": 0
           },
           {
            "bin_end": 0.5,
            "bin_start": 0.4,
            "count": 0
           }
          ],
          "max": "0",
          "min": "0",
          "nan_count": 0,
          "unique_count": 1
         }
        },
        {
         "dtype": "int64",
         "name": "active",
         "stats": {
          "histogram": [
           {
            "bin_end": 0.1,
            "bin_start": 0,
            "count": 2
           },
           {
            "bin_end": 0.2,
            "bin_start": 0.1,
            "count": 0
           },
           {
            "bin_end": 0.30000000000000004,
            "bin_start": 0.2,
            "count": 0
           },
           {
            "bin_end": 0.4,
            "bin_start": 0.30000000000000004,
            "count": 0
           },
           {
            "bin_end": 0.5,
            "bin_start": 0.4,
            "count": 0
           },
           {
            "bin_end": 0.6000000000000001,
            "bin_start": 0.5,
            "count": 0
           },
           {
            "bin_end": 0.7000000000000001,
            "bin_start": 0.6000000000000001,
            "count": 0
           },
           {
            "bin_end": 0.8,
            "bin_start": 0.7000000000000001,
            "count": 0
           },
           {
            "bin_end": 0.9,
            "bin_start": 0.8,
            "count": 0
           },
           {
            "bin_end": 1,
            "bin_start": 0.9,
            "count": 3
           }
          ],
          "max": "1",
          "min": "0",
          "nan_count": 0,
          "unique_count": 2
         }
        },
        {
         "dtype": "int64",
         "name": "cardiovascular_disease",
         "stats": {
          "histogram": [
           {
            "bin_end": 0.1,
            "bin_start": 0,
            "count": 2
           },
           {
            "bin_end": 0.2,
            "bin_start": 0.1,
            "count": 0
           },
           {
            "bin_end": 0.30000000000000004,
            "bin_start": 0.2,
            "count": 0
           },
           {
            "bin_end": 0.4,
            "bin_start": 0.30000000000000004,
            "count": 0
           },
           {
            "bin_end": 0.5,
            "bin_start": 0.4,
            "count": 0
           },
           {
            "bin_end": 0.6000000000000001,
            "bin_start": 0.5,
            "count": 0
           },
           {
            "bin_end": 0.7000000000000001,
            "bin_start": 0.6000000000000001,
            "count": 0
           },
           {
            "bin_end": 0.8,
            "bin_start": 0.7000000000000001,
            "count": 0
           },
           {
            "bin_end": 0.9,
            "bin_start": 0.8,
            "count": 0
           },
           {
            "bin_end": 1,
            "bin_start": 0.9,
            "count": 3
           }
          ],
          "max": "1",
          "min": "0",
          "nan_count": 0,
          "unique_count": 2
         }
        },
        {
         "dtype": "int64",
         "name": "_deepnote_index_column"
        }
       ],
       "row_count": 5,
       "rows": [
        {
         "BMI": "21",
         "BMI_Class": "2",
         "MAP": "90.0",
         "MAP_Class": "4",
         "_deepnote_index_column": "0",
         "active": "1",
         "age": "50",
         "age_bin": "45-50",
         "alcohol": "0",
         "bmi": "21.9671201814059",
         "cardiovascular_disease": "0",
         "cholesterol": "1",
         "diastolic": "80",
         "gender": "2",
         "glucose": "1",
         "height": "168",
         "smoke": "0",
         "systolic": "110",
         "weight": "62"
        },
        {
         "BMI": "34",
         "BMI_Class": "5",
         "MAP": "106.66666666666667",
         "MAP_Class": "5",
         "_deepnote_index_column": "1",
         "active": "1",
         "age": "55",
         "age_bin": "50-55",
         "alcohol": "0",
         "bmi": "34.927679158448385",
         "cardiovascular_disease": "1",
         "cholesterol": "3",
         "diastolic": "90",
         "gender": "1",
         "glucose": "1",
         "height": "156",
         "smoke": "0",
         "systolic": "140",
         "weight": "85"
        },
        {
         "BMI": "23",
         "BMI_Class": "2",
         "MAP": "90.0",
         "MAP_Class": "4",
         "_deepnote_index_column": "2",
         "active": "0",
         "age": "51",
         "age_bin": "50-55",
         "alcohol": "0",
         "bmi": "23.507805325987146",
         "cardiovascular_disease": "1",
         "cholesterol": "3",
         "diastolic": "70",
         "gender": "1",
         "glucose": "1",
         "height": "165",
         "smoke": "0",
         "systolic": "130",
         "weight": "64"
        },
        {
         "BMI": "28",
         "BMI_Class": "3",
         "MAP": "116.66666666666667",
         "MAP_Class": "6",
         "_deepnote_index_column": "3",
         "active": "1",
         "age": "48",
         "age_bin": "45-50",
         "alcohol": "0",
         "bmi": "28.71047932495361",
         "cardiovascular_disease": "1",
         "cholesterol": "1",
         "diastolic": "100",
         "gender": "2",
         "glucose": "1",
         "height": "169",
         "smoke": "0",
         "systolic": "150",
         "weight": "82"
        },
        {
         "BMI": "23",
         "BMI_Class": "2",
         "MAP": "73.33333333333333",
         "MAP_Class": "2",
         "_deepnote_index_column": "4",
         "active": "0",
         "age": "47",
         "age_bin": "45-50",
         "alcohol": "0",
         "bmi": "23.011176857330703",
         "cardiovascular_disease": "0",
         "cholesterol": "1",
         "diastolic": "60",
         "gender": "1",
         "glucose": "1",
         "height": "156",
         "smoke": "0",
         "systolic": "100",
         "weight": "56"
        }
       ]
      },
      "text/html": [
       "<div>\n",
       "<style scoped>\n",
       "    .dataframe tbody tr th:only-of-type {\n",
       "        vertical-align: middle;\n",
       "    }\n",
       "\n",
       "    .dataframe tbody tr th {\n",
       "        vertical-align: top;\n",
       "    }\n",
       "\n",
       "    .dataframe thead th {\n",
       "        text-align: right;\n",
       "    }\n",
       "</style>\n",
       "<table border=\"1\" class=\"dataframe\">\n",
       "  <thead>\n",
       "    <tr style=\"text-align: right;\">\n",
       "      <th></th>\n",
       "      <th>age</th>\n",
       "      <th>gender</th>\n",
       "      <th>height</th>\n",
       "      <th>weight</th>\n",
       "      <th>BMI</th>\n",
       "      <th>bmi</th>\n",
       "      <th>systolic</th>\n",
       "      <th>diastolic</th>\n",
       "      <th>MAP</th>\n",
       "      <th>age_bin</th>\n",
       "      <th>BMI_Class</th>\n",
       "      <th>MAP_Class</th>\n",
       "      <th>cholesterol</th>\n",
       "      <th>glucose</th>\n",
       "      <th>smoke</th>\n",
       "      <th>alcohol</th>\n",
       "      <th>active</th>\n",
       "      <th>cardiovascular_disease</th>\n",
       "    </tr>\n",
       "  </thead>\n",
       "  <tbody>\n",
       "    <tr>\n",
       "      <th>0</th>\n",
       "      <td>50</td>\n",
       "      <td>2</td>\n",
       "      <td>168</td>\n",
       "      <td>62</td>\n",
       "      <td>21</td>\n",
       "      <td>21.967120</td>\n",
       "      <td>110</td>\n",
       "      <td>80</td>\n",
       "      <td>90.000000</td>\n",
       "      <td>45-50</td>\n",
       "      <td>2</td>\n",
       "      <td>4</td>\n",
       "      <td>1</td>\n",
       "      <td>1</td>\n",
       "      <td>0</td>\n",
       "      <td>0</td>\n",
       "      <td>1</td>\n",
       "      <td>0</td>\n",
       "    </tr>\n",
       "    <tr>\n",
       "      <th>1</th>\n",
       "      <td>55</td>\n",
       "      <td>1</td>\n",
       "      <td>156</td>\n",
       "      <td>85</td>\n",
       "      <td>34</td>\n",
       "      <td>34.927679</td>\n",
       "      <td>140</td>\n",
       "      <td>90</td>\n",
       "      <td>106.666667</td>\n",
       "      <td>50-55</td>\n",
       "      <td>5</td>\n",
       "      <td>5</td>\n",
       "      <td>3</td>\n",
       "      <td>1</td>\n",
       "      <td>0</td>\n",
       "      <td>0</td>\n",
       "      <td>1</td>\n",
       "      <td>1</td>\n",
       "    </tr>\n",
       "    <tr>\n",
       "      <th>2</th>\n",
       "      <td>51</td>\n",
       "      <td>1</td>\n",
       "      <td>165</td>\n",
       "      <td>64</td>\n",
       "      <td>23</td>\n",
       "      <td>23.507805</td>\n",
       "      <td>130</td>\n",
       "      <td>70</td>\n",
       "      <td>90.000000</td>\n",
       "      <td>50-55</td>\n",
       "      <td>2</td>\n",
       "      <td>4</td>\n",
       "      <td>3</td>\n",
       "      <td>1</td>\n",
       "      <td>0</td>\n",
       "      <td>0</td>\n",
       "      <td>0</td>\n",
       "      <td>1</td>\n",
       "    </tr>\n",
       "    <tr>\n",
       "      <th>3</th>\n",
       "      <td>48</td>\n",
       "      <td>2</td>\n",
       "      <td>169</td>\n",
       "      <td>82</td>\n",
       "      <td>28</td>\n",
       "      <td>28.710479</td>\n",
       "      <td>150</td>\n",
       "      <td>100</td>\n",
       "      <td>116.666667</td>\n",
       "      <td>45-50</td>\n",
       "      <td>3</td>\n",
       "      <td>6</td>\n",
       "      <td>1</td>\n",
       "      <td>1</td>\n",
       "      <td>0</td>\n",
       "      <td>0</td>\n",
       "      <td>1</td>\n",
       "      <td>1</td>\n",
       "    </tr>\n",
       "    <tr>\n",
       "      <th>4</th>\n",
       "      <td>47</td>\n",
       "      <td>1</td>\n",
       "      <td>156</td>\n",
       "      <td>56</td>\n",
       "      <td>23</td>\n",
       "      <td>23.011177</td>\n",
       "      <td>100</td>\n",
       "      <td>60</td>\n",
       "      <td>73.333333</td>\n",
       "      <td>45-50</td>\n",
       "      <td>2</td>\n",
       "      <td>2</td>\n",
       "      <td>1</td>\n",
       "      <td>1</td>\n",
       "      <td>0</td>\n",
       "      <td>0</td>\n",
       "      <td>0</td>\n",
       "      <td>0</td>\n",
       "    </tr>\n",
       "  </tbody>\n",
       "</table>\n",
       "</div>"
      ],
      "text/plain": [
       "   age  gender  height  weight  BMI        bmi  systolic  diastolic  \\\n",
       "0   50       2     168      62   21  21.967120       110         80   \n",
       "1   55       1     156      85   34  34.927679       140         90   \n",
       "2   51       1     165      64   23  23.507805       130         70   \n",
       "3   48       2     169      82   28  28.710479       150        100   \n",
       "4   47       1     156      56   23  23.011177       100         60   \n",
       "\n",
       "          MAP age_bin  BMI_Class  MAP_Class  cholesterol  glucose  smoke  \\\n",
       "0   90.000000   45-50          2          4            1        1      0   \n",
       "1  106.666667   50-55          5          5            3        1      0   \n",
       "2   90.000000   50-55          2          4            3        1      0   \n",
       "3  116.666667   45-50          3          6            1        1      0   \n",
       "4   73.333333   45-50          2          2            1        1      0   \n",
       "\n",
       "   alcohol  active  cardiovascular_disease  \n",
       "0        0       1                       0  \n",
       "1        0       1                       1  \n",
       "2        0       0                       1  \n",
       "3        0       1                       1  \n",
       "4        0       0                       0  "
      ]
     },
     "execution_count": 8,
     "metadata": {},
     "output_type": "execute_result"
    }
   ],
   "source": [
    "# Reordering Columns\n",
    "df= df[[\"age\",\"gender\",\"height\",\"weight\",\"BMI\",\"bmi\",\"systolic\",\"diastolic\",\"MAP\",\"age_bin\",\"BMI_Class\",\"MAP_Class\",\"cholesterol\",\"glucose\",\"smoke\",\"alcohol\",\"active\",\"cardiovascular_disease\"]]\n",
    "df.head()"
   ]
  },
  {
   "cell_type": "code",
   "execution_count": 11,
   "metadata": {
    "cell_id": "e40e0fb54c5f43ec93a64220ff806668",
    "deepnote_cell_type": "code",
    "deepnote_to_be_reexecuted": false,
    "execution_millis": 1058,
    "execution_start": 1677486614043,
    "source_hash": "bf6d76f4",
    "tags": []
   },
   "outputs": [
    {
     "data": {
      "application/vnd.deepnote.dataframe.v3+json": {
       "column_count": 10,
       "columns": [
        {
         "dtype": "int64",
         "name": "gender",
         "stats": {
          "histogram": [
           {
            "bin_end": 0.1,
            "bin_start": 0,
            "count": 3
           },
           {
            "bin_end": 0.2,
            "bin_start": 0.1,
            "count": 0
           },
           {
            "bin_end": 0.30000000000000004,
            "bin_start": 0.2,
            "count": 0
           },
           {
            "bin_end": 0.4,
            "bin_start": 0.30000000000000004,
            "count": 0
           },
           {
            "bin_end": 0.5,
            "bin_start": 0.4,
            "count": 0
           },
           {
            "bin_end": 0.6000000000000001,
            "bin_start": 0.5,
            "count": 0
           },
           {
            "bin_end": 0.7000000000000001,
            "bin_start": 0.6000000000000001,
            "count": 0
           },
           {
            "bin_end": 0.8,
            "bin_start": 0.7000000000000001,
            "count": 0
           },
           {
            "bin_end": 0.9,
            "bin_start": 0.8,
            "count": 0
           },
           {
            "bin_end": 1,
            "bin_start": 0.9,
            "count": 2
           }
          ],
          "max": "1",
          "min": "0",
          "nan_count": 0,
          "unique_count": 2
         }
        },
        {
         "dtype": "int64",
         "name": "age_bin",
         "stats": {
          "histogram": [
           {
            "bin_end": 3.1,
            "bin_start": 3,
            "count": 3
           },
           {
            "bin_end": 3.2,
            "bin_start": 3.1,
            "count": 0
           },
           {
            "bin_end": 3.3,
            "bin_start": 3.2,
            "count": 0
           },
           {
            "bin_end": 3.4,
            "bin_start": 3.3,
            "count": 0
           },
           {
            "bin_end": 3.5,
            "bin_start": 3.4,
            "count": 0
           },
           {
            "bin_end": 3.6,
            "bin_start": 3.5,
            "count": 0
           },
           {
            "bin_end": 3.7,
            "bin_start": 3.6,
            "count": 0
           },
           {
            "bin_end": 3.8,
            "bin_start": 3.7,
            "count": 0
           },
           {
            "bin_end": 3.9,
            "bin_start": 3.8,
            "count": 0
           },
           {
            "bin_end": 4,
            "bin_start": 3.9,
            "count": 2
           }
          ],
          "max": "4",
          "min": "3",
          "nan_count": 0,
          "unique_count": 2
         }
        },
        {
         "dtype": "int64",
         "name": "BMI_Class",
         "stats": {
          "histogram": [
           {
            "bin_end": 1.3,
            "bin_start": 1,
            "count": 3
           },
           {
            "bin_end": 1.6,
            "bin_start": 1.3,
            "count": 0
           },
           {
            "bin_end": 1.9,
            "bin_start": 1.6,
            "count": 0
           },
           {
            "bin_end": 2.2,
            "bin_start": 1.9,
            "count": 1
           },
           {
            "bin_end": 2.5,
            "bin_start": 2.2,
            "count": 0
           },
           {
            "bin_end": 2.8,
            "bin_start": 2.5,
            "count": 0
           },
           {
            "bin_end": 3.1,
            "bin_start": 2.8,
            "count": 0
           },
           {
            "bin_end": 3.4,
            "bin_start": 3.1,
            "count": 0
           },
           {
            "bin_end": 3.6999999999999997,
            "bin_start": 3.4,
            "count": 0
           },
           {
            "bin_end": 4,
            "bin_start": 3.6999999999999997,
            "count": 1
           }
          ],
          "max": "4",
          "min": "1",
          "nan_count": 0,
          "unique_count": 3
         }
        },
        {
         "dtype": "int64",
         "name": "MAP_Class",
         "stats": {
          "histogram": [
           {
            "bin_end": 0.4,
            "bin_start": 0,
            "count": 1
           },
           {
            "bin_end": 0.8,
            "bin_start": 0.4,
            "count": 0
           },
           {
            "bin_end": 1.2000000000000002,
            "bin_start": 0.8,
            "count": 0
           },
           {
            "bin_end": 1.6,
            "bin_start": 1.2000000000000002,
            "count": 0
           },
           {
            "bin_end": 2,
            "bin_start": 1.6,
            "count": 0
           },
           {
            "bin_end": 2.4000000000000004,
            "bin_start": 2,
            "count": 2
           },
           {
            "bin_end": 2.8000000000000003,
            "bin_start": 2.4000000000000004,
            "count": 0
           },
           {
            "bin_end": 3.2,
            "bin_start": 2.8000000000000003,
            "count": 1
           },
           {
            "bin_end": 3.6,
            "bin_start": 3.2,
            "count": 0
           },
           {
            "bin_end": 4,
            "bin_start": 3.6,
            "count": 1
           }
          ],
          "max": "4",
          "min": "0",
          "nan_count": 0,
          "unique_count": 4
         }
        },
        {
         "dtype": "int64",
         "name": "cholesterol",
         "stats": {
          "histogram": [
           {
            "bin_end": 0.2,
            "bin_start": 0,
            "count": 3
           },
           {
            "bin_end": 0.4,
            "bin_start": 0.2,
            "count": 0
           },
           {
            "bin_end": 0.6000000000000001,
            "bin_start": 0.4,
            "count": 0
           },
           {
            "bin_end": 0.8,
            "bin_start": 0.6000000000000001,
            "count": 0
           },
           {
            "bin_end": 1,
            "bin_start": 0.8,
            "count": 0
           },
           {
            "bin_end": 1.2000000000000002,
            "bin_start": 1,
            "count": 0
           },
           {
            "bin_end": 1.4000000000000001,
            "bin_start": 1.2000000000000002,
            "count": 0
           },
           {
            "bin_end": 1.6,
            "bin_start": 1.4000000000000001,
            "count": 0
           },
           {
            "bin_end": 1.8,
            "bin_start": 1.6,
            "count": 0
           },
           {
            "bin_end": 2,
            "bin_start": 1.8,
            "count": 2
           }
          ],
          "max": "2",
          "min": "0",
          "nan_count": 0,
          "unique_count": 2
         }
        },
        {
         "dtype": "int64",
         "name": "glucose",
         "stats": {
          "histogram": [
           {
            "bin_end": -0.4,
            "bin_start": -0.5,
            "count": 0
           },
           {
            "bin_end": -0.3,
            "bin_start": -0.4,
            "count": 0
           },
           {
            "bin_end": -0.19999999999999996,
            "bin_start": -0.3,
            "count": 0
           },
           {
            "bin_end": -0.09999999999999998,
            "bin_start": -0.19999999999999996,
            "count": 0
           },
           {
            "bin_end": 0,
            "bin_start": -0.09999999999999998,
            "count": 0
           },
           {
            "bin_end": 0.10000000000000009,
            "bin_start": 0,
            "count": 5
           },
           {
            "bin_end": 0.20000000000000007,
            "bin_start": 0.10000000000000009,
            "count": 0
           },
           {
            "bin_end": 0.30000000000000004,
            "bin_start": 0.20000000000000007,
            "count": 0
           },
           {
            "bin_end": 0.4,
            "bin_start": 0.30000000000000004,
            "count": 0
           },
           {
            "bin_end": 0.5,
            "bin_start": 0.4,
            "count": 0
           }
          ],
          "max": "0",
          "min": "0",
          "nan_count": 0,
          "unique_count": 1
         }
        },
        {
         "dtype": "int64",
         "name": "smoke",
         "stats": {
          "histogram": [
           {
            "bin_end": -0.4,
            "bin_start": -0.5,
            "count": 0
           },
           {
            "bin_end": -0.3,
            "bin_start": -0.4,
            "count": 0
           },
           {
            "bin_end": -0.19999999999999996,
            "bin_start": -0.3,
            "count": 0
           },
           {
            "bin_end": -0.09999999999999998,
            "bin_start": -0.19999999999999996,
            "count": 0
           },
           {
            "bin_end": 0,
            "bin_start": -0.09999999999999998,
            "count": 0
           },
           {
            "bin_end": 0.10000000000000009,
            "bin_start": 0,
            "count": 5
           },
           {
            "bin_end": 0.20000000000000007,
            "bin_start": 0.10000000000000009,
            "count": 0
           },
           {
            "bin_end": 0.30000000000000004,
            "bin_start": 0.20000000000000007,
            "count": 0
           },
           {
            "bin_end": 0.4,
            "bin_start": 0.30000000000000004,
            "count": 0
           },
           {
            "bin_end": 0.5,
            "bin_start": 0.4,
            "count": 0
           }
          ],
          "max": "0",
          "min": "0",
          "nan_count": 0,
          "unique_count": 1
         }
        },
        {
         "dtype": "int64",
         "name": "alcohol",
         "stats": {
          "histogram": [
           {
            "bin_end": -0.4,
            "bin_start": -0.5,
            "count": 0
           },
           {
            "bin_end": -0.3,
            "bin_start": -0.4,
            "count": 0
           },
           {
            "bin_end": -0.19999999999999996,
            "bin_start": -0.3,
            "count": 0
           },
           {
            "bin_end": -0.09999999999999998,
            "bin_start": -0.19999999999999996,
            "count": 0
           },
           {
            "bin_end": 0,
            "bin_start": -0.09999999999999998,
            "count": 0
           },
           {
            "bin_end": 0.10000000000000009,
            "bin_start": 0,
            "count": 5
           },
           {
            "bin_end": 0.20000000000000007,
            "bin_start": 0.10000000000000009,
            "count": 0
           },
           {
            "bin_end": 0.30000000000000004,
            "bin_start": 0.20000000000000007,
            "count": 0
           },
           {
            "bin_end": 0.4,
            "bin_start": 0.30000000000000004,
            "count": 0
           },
           {
            "bin_end": 0.5,
            "bin_start": 0.4,
            "count": 0
           }
          ],
          "max": "0",
          "min": "0",
          "nan_count": 0,
          "unique_count": 1
         }
        },
        {
         "dtype": "int64",
         "name": "active",
         "stats": {
          "histogram": [
           {
            "bin_end": 0.1,
            "bin_start": 0,
            "count": 2
           },
           {
            "bin_end": 0.2,
            "bin_start": 0.1,
            "count": 0
           },
           {
            "bin_end": 0.30000000000000004,
            "bin_start": 0.2,
            "count": 0
           },
           {
            "bin_end": 0.4,
            "bin_start": 0.30000000000000004,
            "count": 0
           },
           {
            "bin_end": 0.5,
            "bin_start": 0.4,
            "count": 0
           },
           {
            "bin_end": 0.6000000000000001,
            "bin_start": 0.5,
            "count": 0
           },
           {
            "bin_end": 0.7000000000000001,
            "bin_start": 0.6000000000000001,
            "count": 0
           },
           {
            "bin_end": 0.8,
            "bin_start": 0.7000000000000001,
            "count": 0
           },
           {
            "bin_end": 0.9,
            "bin_start": 0.8,
            "count": 0
           },
           {
            "bin_end": 1,
            "bin_start": 0.9,
            "count": 3
           }
          ],
          "max": "1",
          "min": "0",
          "nan_count": 0,
          "unique_count": 2
         }
        },
        {
         "dtype": "int64",
         "name": "cardiovascular_disease",
         "stats": {
          "histogram": [
           {
            "bin_end": 0.1,
            "bin_start": 0,
            "count": 2
           },
           {
            "bin_end": 0.2,
            "bin_start": 0.1,
            "count": 0
           },
           {
            "bin_end": 0.30000000000000004,
            "bin_start": 0.2,
            "count": 0
           },
           {
            "bin_end": 0.4,
            "bin_start": 0.30000000000000004,
            "count": 0
           },
           {
            "bin_end": 0.5,
            "bin_start": 0.4,
            "count": 0
           },
           {
            "bin_end": 0.6000000000000001,
            "bin_start": 0.5,
            "count": 0
           },
           {
            "bin_end": 0.7000000000000001,
            "bin_start": 0.6000000000000001,
            "count": 0
           },
           {
            "bin_end": 0.8,
            "bin_start": 0.7000000000000001,
            "count": 0
           },
           {
            "bin_end": 0.9,
            "bin_start": 0.8,
            "count": 0
           },
           {
            "bin_end": 1,
            "bin_start": 0.9,
            "count": 3
           }
          ],
          "max": "1",
          "min": "0",
          "nan_count": 0,
          "unique_count": 2
         }
        },
        {
         "dtype": "int64",
         "name": "_deepnote_index_column"
        }
       ],
       "row_count": 5,
       "rows": [
        {
         "BMI_Class": "1",
         "MAP_Class": "2",
         "_deepnote_index_column": "0",
         "active": "1",
         "age_bin": "3",
         "alcohol": "0",
         "cardiovascular_disease": "0",
         "cholesterol": "0",
         "gender": "1",
         "glucose": "0",
         "smoke": "0"
        },
        {
         "BMI_Class": "4",
         "MAP_Class": "3",
         "_deepnote_index_column": "1",
         "active": "1",
         "age_bin": "4",
         "alcohol": "0",
         "cardiovascular_disease": "1",
         "cholesterol": "2",
         "gender": "0",
         "glucose": "0",
         "smoke": "0"
        },
        {
         "BMI_Class": "1",
         "MAP_Class": "2",
         "_deepnote_index_column": "2",
         "active": "0",
         "age_bin": "4",
         "alcohol": "0",
         "cardiovascular_disease": "1",
         "cholesterol": "2",
         "gender": "0",
         "glucose": "0",
         "smoke": "0"
        },
        {
         "BMI_Class": "2",
         "MAP_Class": "4",
         "_deepnote_index_column": "3",
         "active": "1",
         "age_bin": "3",
         "alcohol": "0",
         "cardiovascular_disease": "1",
         "cholesterol": "0",
         "gender": "1",
         "glucose": "0",
         "smoke": "0"
        },
        {
         "BMI_Class": "1",
         "MAP_Class": "0",
         "_deepnote_index_column": "4",
         "active": "0",
         "age_bin": "3",
         "alcohol": "0",
         "cardiovascular_disease": "0",
         "cholesterol": "0",
         "gender": "0",
         "glucose": "0",
         "smoke": "0"
        }
       ]
      },
      "text/html": [
       "<div>\n",
       "<style scoped>\n",
       "    .dataframe tbody tr th:only-of-type {\n",
       "        vertical-align: middle;\n",
       "    }\n",
       "\n",
       "    .dataframe tbody tr th {\n",
       "        vertical-align: top;\n",
       "    }\n",
       "\n",
       "    .dataframe thead th {\n",
       "        text-align: right;\n",
       "    }\n",
       "</style>\n",
       "<table border=\"1\" class=\"dataframe\">\n",
       "  <thead>\n",
       "    <tr style=\"text-align: right;\">\n",
       "      <th></th>\n",
       "      <th>gender</th>\n",
       "      <th>age_bin</th>\n",
       "      <th>BMI_Class</th>\n",
       "      <th>MAP_Class</th>\n",
       "      <th>cholesterol</th>\n",
       "      <th>glucose</th>\n",
       "      <th>smoke</th>\n",
       "      <th>alcohol</th>\n",
       "      <th>active</th>\n",
       "      <th>cardiovascular_disease</th>\n",
       "    </tr>\n",
       "  </thead>\n",
       "  <tbody>\n",
       "    <tr>\n",
       "      <th>0</th>\n",
       "      <td>1</td>\n",
       "      <td>3</td>\n",
       "      <td>1</td>\n",
       "      <td>2</td>\n",
       "      <td>0</td>\n",
       "      <td>0</td>\n",
       "      <td>0</td>\n",
       "      <td>0</td>\n",
       "      <td>1</td>\n",
       "      <td>0</td>\n",
       "    </tr>\n",
       "    <tr>\n",
       "      <th>1</th>\n",
       "      <td>0</td>\n",
       "      <td>4</td>\n",
       "      <td>4</td>\n",
       "      <td>3</td>\n",
       "      <td>2</td>\n",
       "      <td>0</td>\n",
       "      <td>0</td>\n",
       "      <td>0</td>\n",
       "      <td>1</td>\n",
       "      <td>1</td>\n",
       "    </tr>\n",
       "    <tr>\n",
       "      <th>2</th>\n",
       "      <td>0</td>\n",
       "      <td>4</td>\n",
       "      <td>1</td>\n",
       "      <td>2</td>\n",
       "      <td>2</td>\n",
       "      <td>0</td>\n",
       "      <td>0</td>\n",
       "      <td>0</td>\n",
       "      <td>0</td>\n",
       "      <td>1</td>\n",
       "    </tr>\n",
       "    <tr>\n",
       "      <th>3</th>\n",
       "      <td>1</td>\n",
       "      <td>3</td>\n",
       "      <td>2</td>\n",
       "      <td>4</td>\n",
       "      <td>0</td>\n",
       "      <td>0</td>\n",
       "      <td>0</td>\n",
       "      <td>0</td>\n",
       "      <td>1</td>\n",
       "      <td>1</td>\n",
       "    </tr>\n",
       "    <tr>\n",
       "      <th>4</th>\n",
       "      <td>0</td>\n",
       "      <td>3</td>\n",
       "      <td>1</td>\n",
       "      <td>0</td>\n",
       "      <td>0</td>\n",
       "      <td>0</td>\n",
       "      <td>0</td>\n",
       "      <td>0</td>\n",
       "      <td>0</td>\n",
       "      <td>0</td>\n",
       "    </tr>\n",
       "  </tbody>\n",
       "</table>\n",
       "</div>"
      ],
      "text/plain": [
       "   gender  age_bin  BMI_Class  MAP_Class  cholesterol  glucose  smoke  \\\n",
       "0       1        3          1          2            0        0      0   \n",
       "1       0        4          4          3            2        0      0   \n",
       "2       0        4          1          2            2        0      0   \n",
       "3       1        3          2          4            0        0      0   \n",
       "4       0        3          1          0            0        0      0   \n",
       "\n",
       "   alcohol  active  cardiovascular_disease  \n",
       "0        0       1                       0  \n",
       "1        0       1                       1  \n",
       "2        0       0                       1  \n",
       "3        0       1                       1  \n",
       "4        0       0                       0  "
      ]
     },
     "execution_count": 11,
     "metadata": {},
     "output_type": "execute_result"
    }
   ],
   "source": [
    "# only Categorical Data Columns DataFrame\n",
    "df_cat = df[[\"gender\",\"age_bin\",\"BMI_Class\",\"MAP_Class\",\"cholesterol\",\"glucose\",\"smoke\",\"alcohol\",\"active\",\"cardiovascular_disease\"]]\n",
    "\n",
    "le = LabelEncoder()\n",
    "df_cat = df_cat.apply(le.fit_transform)\n",
    "df_cat.head()"
   ]
  },
  {
   "cell_type": "markdown",
   "metadata": {
    "cell_id": "00559cdcaaf34aa1ba42de5134ba6b5c",
    "deepnote_cell_type": "text-cell-h3",
    "formattedRanges": [],
    "is_collapsed": false,
    "tags": []
   },
   "source": [
    "### KModes Analyses"
   ]
  },
  {
   "cell_type": "code",
   "execution_count": 12,
   "metadata": {
    "cell_id": "ca4c1280c62e43cb92e71d8f353c3154",
    "deepnote_cell_type": "code",
    "deepnote_to_be_reexecuted": false,
    "execution_millis": 33,
    "execution_start": 1677486634612,
    "source_hash": "d363cba",
    "tags": []
   },
   "outputs": [
    {
     "data": {
      "application/vnd.deepnote.dataframe.v3+json": {
       "column_count": 10,
       "columns": [
        {
         "dtype": "int64",
         "name": "gender",
         "stats": {
          "histogram": [
           {
            "bin_end": -0.4,
            "bin_start": -0.5,
            "count": 0
           },
           {
            "bin_end": -0.3,
            "bin_start": -0.4,
            "count": 0
           },
           {
            "bin_end": -0.19999999999999996,
            "bin_start": -0.3,
            "count": 0
           },
           {
            "bin_end": -0.09999999999999998,
            "bin_start": -0.19999999999999996,
            "count": 0
           },
           {
            "bin_end": 0,
            "bin_start": -0.09999999999999998,
            "count": 0
           },
           {
            "bin_end": 0.10000000000000009,
            "bin_start": 0,
            "count": 5
           },
           {
            "bin_end": 0.20000000000000007,
            "bin_start": 0.10000000000000009,
            "count": 0
           },
           {
            "bin_end": 0.30000000000000004,
            "bin_start": 0.20000000000000007,
            "count": 0
           },
           {
            "bin_end": 0.4,
            "bin_start": 0.30000000000000004,
            "count": 0
           },
           {
            "bin_end": 0.5,
            "bin_start": 0.4,
            "count": 0
           }
          ],
          "max": "0",
          "min": "0",
          "nan_count": 0,
          "unique_count": 1
         }
        },
        {
         "dtype": "int64",
         "name": "age_bin",
         "stats": {
          "histogram": [
           {
            "bin_end": 3.2,
            "bin_start": 3,
            "count": 1
           },
           {
            "bin_end": 3.4,
            "bin_start": 3.2,
            "count": 0
           },
           {
            "bin_end": 3.6,
            "bin_start": 3.4,
            "count": 0
           },
           {
            "bin_end": 3.8,
            "bin_start": 3.6,
            "count": 0
           },
           {
            "bin_end": 4,
            "bin_start": 3.8,
            "count": 0
           },
           {
            "bin_end": 4.2,
            "bin_start": 4,
            "count": 2
           },
           {
            "bin_end": 4.4,
            "bin_start": 4.2,
            "count": 0
           },
           {
            "bin_end": 4.6,
            "bin_start": 4.4,
            "count": 0
           },
           {
            "bin_end": 4.8,
            "bin_start": 4.6,
            "count": 0
           },
           {
            "bin_end": 5,
            "bin_start": 4.8,
            "count": 2
           }
          ],
          "max": "5",
          "min": "3",
          "nan_count": 0,
          "unique_count": 3
         }
        },
        {
         "dtype": "int64",
         "name": "BMI_Class",
         "stats": {
          "histogram": [
           {
            "bin_end": 1.3,
            "bin_start": 1,
            "count": 2
           },
           {
            "bin_end": 1.6,
            "bin_start": 1.3,
            "count": 0
           },
           {
            "bin_end": 1.9,
            "bin_start": 1.6,
            "count": 0
           },
           {
            "bin_end": 2.2,
            "bin_start": 1.9,
            "count": 1
           },
           {
            "bin_end": 2.5,
            "bin_start": 2.2,
            "count": 0
           },
           {
            "bin_end": 2.8,
            "bin_start": 2.5,
            "count": 0
           },
           {
            "bin_end": 3.1,
            "bin_start": 2.8,
            "count": 0
           },
           {
            "bin_end": 3.4,
            "bin_start": 3.1,
            "count": 0
           },
           {
            "bin_end": 3.6999999999999997,
            "bin_start": 3.4,
            "count": 0
           },
           {
            "bin_end": 4,
            "bin_start": 3.6999999999999997,
            "count": 2
           }
          ],
          "max": "4",
          "min": "1",
          "nan_count": 0,
          "unique_count": 3
         }
        },
        {
         "dtype": "int64",
         "name": "MAP_Class",
         "stats": {
          "histogram": [
           {
            "bin_end": 0.3,
            "bin_start": 0,
            "count": 1
           },
           {
            "bin_end": 0.6,
            "bin_start": 0.3,
            "count": 0
           },
           {
            "bin_end": 0.8999999999999999,
            "bin_start": 0.6,
            "count": 0
           },
           {
            "bin_end": 1.2,
            "bin_start": 0.8999999999999999,
            "count": 0
           },
           {
            "bin_end": 1.5,
            "bin_start": 1.2,
            "count": 0
           },
           {
            "bin_end": 1.7999999999999998,
            "bin_start": 1.5,
            "count": 0
           },
           {
            "bin_end": 2.1,
            "bin_start": 1.7999999999999998,
            "count": 3
           },
           {
            "bin_end": 2.4,
            "bin_start": 2.1,
            "count": 0
           },
           {
            "bin_end": 2.6999999999999997,
            "bin_start": 2.4,
            "count": 0
           },
           {
            "bin_end": 3,
            "bin_start": 2.6999999999999997,
            "count": 1
           }
          ],
          "max": "3",
          "min": "0",
          "nan_count": 0,
          "unique_count": 3
         }
        },
        {
         "dtype": "int64",
         "name": "cholesterol",
         "stats": {
          "histogram": [
           {
            "bin_end": 0.2,
            "bin_start": 0,
            "count": 1
           },
           {
            "bin_end": 0.4,
            "bin_start": 0.2,
            "count": 0
           },
           {
            "bin_end": 0.6000000000000001,
            "bin_start": 0.4,
            "count": 0
           },
           {
            "bin_end": 0.8,
            "bin_start": 0.6000000000000001,
            "count": 0
           },
           {
            "bin_end": 1,
            "bin_start": 0.8,
            "count": 0
           },
           {
            "bin_end": 1.2000000000000002,
            "bin_start": 1,
            "count": 1
           },
           {
            "bin_end": 1.4000000000000001,
            "bin_start": 1.2000000000000002,
            "count": 0
           },
           {
            "bin_end": 1.6,
            "bin_start": 1.4000000000000001,
            "count": 0
           },
           {
            "bin_end": 1.8,
            "bin_start": 1.6,
            "count": 0
           },
           {
            "bin_end": 2,
            "bin_start": 1.8,
            "count": 3
           }
          ],
          "max": "2",
          "min": "0",
          "nan_count": 0,
          "unique_count": 3
         }
        },
        {
         "dtype": "int64",
         "name": "glucose",
         "stats": {
          "histogram": [
           {
            "bin_end": 0.1,
            "bin_start": 0,
            "count": 4
           },
           {
            "bin_end": 0.2,
            "bin_start": 0.1,
            "count": 0
           },
           {
            "bin_end": 0.30000000000000004,
            "bin_start": 0.2,
            "count": 0
           },
           {
            "bin_end": 0.4,
            "bin_start": 0.30000000000000004,
            "count": 0
           },
           {
            "bin_end": 0.5,
            "bin_start": 0.4,
            "count": 0
           },
           {
            "bin_end": 0.6000000000000001,
            "bin_start": 0.5,
            "count": 0
           },
           {
            "bin_end": 0.7000000000000001,
            "bin_start": 0.6000000000000001,
            "count": 0
           },
           {
            "bin_end": 0.8,
            "bin_start": 0.7000000000000001,
            "count": 0
           },
           {
            "bin_end": 0.9,
            "bin_start": 0.8,
            "count": 0
           },
           {
            "bin_end": 1,
            "bin_start": 0.9,
            "count": 1
           }
          ],
          "max": "1",
          "min": "0",
          "nan_count": 0,
          "unique_count": 2
         }
        },
        {
         "dtype": "int64",
         "name": "smoke",
         "stats": {
          "histogram": [
           {
            "bin_end": -0.4,
            "bin_start": -0.5,
            "count": 0
           },
           {
            "bin_end": -0.3,
            "bin_start": -0.4,
            "count": 0
           },
           {
            "bin_end": -0.19999999999999996,
            "bin_start": -0.3,
            "count": 0
           },
           {
            "bin_end": -0.09999999999999998,
            "bin_start": -0.19999999999999996,
            "count": 0
           },
           {
            "bin_end": 0,
            "bin_start": -0.09999999999999998,
            "count": 0
           },
           {
            "bin_end": 0.10000000000000009,
            "bin_start": 0,
            "count": 5
           },
           {
            "bin_end": 0.20000000000000007,
            "bin_start": 0.10000000000000009,
            "count": 0
           },
           {
            "bin_end": 0.30000000000000004,
            "bin_start": 0.20000000000000007,
            "count": 0
           },
           {
            "bin_end": 0.4,
            "bin_start": 0.30000000000000004,
            "count": 0
           },
           {
            "bin_end": 0.5,
            "bin_start": 0.4,
            "count": 0
           }
          ],
          "max": "0",
          "min": "0",
          "nan_count": 0,
          "unique_count": 1
         }
        },
        {
         "dtype": "int64",
         "name": "alcohol",
         "stats": {
          "histogram": [
           {
            "bin_end": -0.4,
            "bin_start": -0.5,
            "count": 0
           },
           {
            "bin_end": -0.3,
            "bin_start": -0.4,
            "count": 0
           },
           {
            "bin_end": -0.19999999999999996,
            "bin_start": -0.3,
            "count": 0
           },
           {
            "bin_end": -0.09999999999999998,
            "bin_start": -0.19999999999999996,
            "count": 0
           },
           {
            "bin_end": 0,
            "bin_start": -0.09999999999999998,
            "count": 0
           },
           {
            "bin_end": 0.10000000000000009,
            "bin_start": 0,
            "count": 5
           },
           {
            "bin_end": 0.20000000000000007,
            "bin_start": 0.10000000000000009,
            "count": 0
           },
           {
            "bin_end": 0.30000000000000004,
            "bin_start": 0.20000000000000007,
            "count": 0
           },
           {
            "bin_end": 0.4,
            "bin_start": 0.30000000000000004,
            "count": 0
           },
           {
            "bin_end": 0.5,
            "bin_start": 0.4,
            "count": 0
           }
          ],
          "max": "0",
          "min": "0",
          "nan_count": 0,
          "unique_count": 1
         }
        },
        {
         "dtype": "int64",
         "name": "active",
         "stats": {
          "histogram": [
           {
            "bin_end": 0.1,
            "bin_start": 0,
            "count": 3
           },
           {
            "bin_end": 0.2,
            "bin_start": 0.1,
            "count": 0
           },
           {
            "bin_end": 0.30000000000000004,
            "bin_start": 0.2,
            "count": 0
           },
           {
            "bin_end": 0.4,
            "bin_start": 0.30000000000000004,
            "count": 0
           },
           {
            "bin_end": 0.5,
            "bin_start": 0.4,
            "count": 0
           },
           {
            "bin_end": 0.6000000000000001,
            "bin_start": 0.5,
            "count": 0
           },
           {
            "bin_end": 0.7000000000000001,
            "bin_start": 0.6000000000000001,
            "count": 0
           },
           {
            "bin_end": 0.8,
            "bin_start": 0.7000000000000001,
            "count": 0
           },
           {
            "bin_end": 0.9,
            "bin_start": 0.8,
            "count": 0
           },
           {
            "bin_end": 1,
            "bin_start": 0.9,
            "count": 2
           }
          ],
          "max": "1",
          "min": "0",
          "nan_count": 0,
          "unique_count": 2
         }
        },
        {
         "dtype": "int64",
         "name": "cardiovascular_disease",
         "stats": {
          "histogram": [
           {
            "bin_end": 0.1,
            "bin_start": 0,
            "count": 3
           },
           {
            "bin_end": 0.2,
            "bin_start": 0.1,
            "count": 0
           },
           {
            "bin_end": 0.30000000000000004,
            "bin_start": 0.2,
            "count": 0
           },
           {
            "bin_end": 0.4,
            "bin_start": 0.30000000000000004,
            "count": 0
           },
           {
            "bin_end": 0.5,
            "bin_start": 0.4,
            "count": 0
           },
           {
            "bin_end": 0.6000000000000001,
            "bin_start": 0.5,
            "count": 0
           },
           {
            "bin_end": 0.7000000000000001,
            "bin_start": 0.6000000000000001,
            "count": 0
           },
           {
            "bin_end": 0.8,
            "bin_start": 0.7000000000000001,
            "count": 0
           },
           {
            "bin_end": 0.9,
            "bin_start": 0.8,
            "count": 0
           },
           {
            "bin_end": 1,
            "bin_start": 0.9,
            "count": 2
           }
          ],
          "max": "1",
          "min": "0",
          "nan_count": 0,
          "unique_count": 2
         }
        },
        {
         "dtype": "int64",
         "name": "_deepnote_index_column"
        }
       ],
       "row_count": 5,
       "rows": [
        {
         "BMI_Class": "4",
         "MAP_Class": "3",
         "_deepnote_index_column": "1",
         "active": "1",
         "age_bin": "4",
         "alcohol": "0",
         "cardiovascular_disease": "1",
         "cholesterol": "2",
         "gender": "0",
         "glucose": "0",
         "smoke": "0"
        },
        {
         "BMI_Class": "1",
         "MAP_Class": "2",
         "_deepnote_index_column": "2",
         "active": "0",
         "age_bin": "4",
         "alcohol": "0",
         "cardiovascular_disease": "1",
         "cholesterol": "2",
         "gender": "0",
         "glucose": "0",
         "smoke": "0"
        },
        {
         "BMI_Class": "1",
         "MAP_Class": "0",
         "_deepnote_index_column": "4",
         "active": "0",
         "age_bin": "3",
         "alcohol": "0",
         "cardiovascular_disease": "0",
         "cholesterol": "0",
         "gender": "0",
         "glucose": "0",
         "smoke": "0"
        },
        {
         "BMI_Class": "2",
         "MAP_Class": "2",
         "_deepnote_index_column": "5",
         "active": "0",
         "age_bin": "5",
         "alcohol": "0",
         "cardiovascular_disease": "0",
         "cholesterol": "1",
         "gender": "0",
         "glucose": "1",
         "smoke": "0"
        },
        {
         "BMI_Class": "4",
         "MAP_Class": "2",
         "_deepnote_index_column": "6",
         "active": "1",
         "age_bin": "5",
         "alcohol": "0",
         "cardiovascular_disease": "0",
         "cholesterol": "2",
         "gender": "0",
         "glucose": "0",
         "smoke": "0"
        }
       ]
      },
      "text/html": [
       "<div>\n",
       "<style scoped>\n",
       "    .dataframe tbody tr th:only-of-type {\n",
       "        vertical-align: middle;\n",
       "    }\n",
       "\n",
       "    .dataframe tbody tr th {\n",
       "        vertical-align: top;\n",
       "    }\n",
       "\n",
       "    .dataframe thead th {\n",
       "        text-align: right;\n",
       "    }\n",
       "</style>\n",
       "<table border=\"1\" class=\"dataframe\">\n",
       "  <thead>\n",
       "    <tr style=\"text-align: right;\">\n",
       "      <th></th>\n",
       "      <th>gender</th>\n",
       "      <th>age_bin</th>\n",
       "      <th>BMI_Class</th>\n",
       "      <th>MAP_Class</th>\n",
       "      <th>cholesterol</th>\n",
       "      <th>glucose</th>\n",
       "      <th>smoke</th>\n",
       "      <th>alcohol</th>\n",
       "      <th>active</th>\n",
       "      <th>cardiovascular_disease</th>\n",
       "    </tr>\n",
       "  </thead>\n",
       "  <tbody>\n",
       "    <tr>\n",
       "      <th>1</th>\n",
       "      <td>0</td>\n",
       "      <td>4</td>\n",
       "      <td>4</td>\n",
       "      <td>3</td>\n",
       "      <td>2</td>\n",
       "      <td>0</td>\n",
       "      <td>0</td>\n",
       "      <td>0</td>\n",
       "      <td>1</td>\n",
       "      <td>1</td>\n",
       "    </tr>\n",
       "    <tr>\n",
       "      <th>2</th>\n",
       "      <td>0</td>\n",
       "      <td>4</td>\n",
       "      <td>1</td>\n",
       "      <td>2</td>\n",
       "      <td>2</td>\n",
       "      <td>0</td>\n",
       "      <td>0</td>\n",
       "      <td>0</td>\n",
       "      <td>0</td>\n",
       "      <td>1</td>\n",
       "    </tr>\n",
       "    <tr>\n",
       "      <th>4</th>\n",
       "      <td>0</td>\n",
       "      <td>3</td>\n",
       "      <td>1</td>\n",
       "      <td>0</td>\n",
       "      <td>0</td>\n",
       "      <td>0</td>\n",
       "      <td>0</td>\n",
       "      <td>0</td>\n",
       "      <td>0</td>\n",
       "      <td>0</td>\n",
       "    </tr>\n",
       "    <tr>\n",
       "      <th>5</th>\n",
       "      <td>0</td>\n",
       "      <td>5</td>\n",
       "      <td>2</td>\n",
       "      <td>2</td>\n",
       "      <td>1</td>\n",
       "      <td>1</td>\n",
       "      <td>0</td>\n",
       "      <td>0</td>\n",
       "      <td>0</td>\n",
       "      <td>0</td>\n",
       "    </tr>\n",
       "    <tr>\n",
       "      <th>6</th>\n",
       "      <td>0</td>\n",
       "      <td>5</td>\n",
       "      <td>4</td>\n",
       "      <td>2</td>\n",
       "      <td>2</td>\n",
       "      <td>0</td>\n",
       "      <td>0</td>\n",
       "      <td>0</td>\n",
       "      <td>1</td>\n",
       "      <td>0</td>\n",
       "    </tr>\n",
       "  </tbody>\n",
       "</table>\n",
       "</div>"
      ],
      "text/plain": [
       "   gender  age_bin  BMI_Class  MAP_Class  cholesterol  glucose  smoke  \\\n",
       "1       0        4          4          3            2        0      0   \n",
       "2       0        4          1          2            2        0      0   \n",
       "4       0        3          1          0            0        0      0   \n",
       "5       0        5          2          2            1        1      0   \n",
       "6       0        5          4          2            2        0      0   \n",
       "\n",
       "   alcohol  active  cardiovascular_disease  \n",
       "1        0       1                       1  \n",
       "2        0       0                       1  \n",
       "4        0       0                       0  \n",
       "5        0       0                       0  \n",
       "6        0       1                       0  "
      ]
     },
     "execution_count": 12,
     "metadata": {},
     "output_type": "execute_result"
    }
   ],
   "source": [
    "# new df to work\n",
    "df_male = df_cat.query(\"gender == 0\")\n",
    "df_female = df_cat.query(\"gender == 1\")\n",
    "df_male.head()"
   ]
  },
  {
   "cell_type": "code",
   "execution_count": 13,
   "metadata": {
    "cell_id": "8c534d91e57741218a9bacb7ea5169a0",
    "deepnote_cell_type": "code",
    "deepnote_to_be_reexecuted": false,
    "execution_millis": 15,
    "execution_start": 1677486640182,
    "source_hash": "ab0fc15e",
    "tags": []
   },
   "outputs": [
    {
     "data": {
      "application/vnd.deepnote.dataframe.v3+json": {
       "column_count": 10,
       "columns": [
        {
         "dtype": "int64",
         "name": "gender",
         "stats": {
          "histogram": [
           {
            "bin_end": 0.6,
            "bin_start": 0.5,
            "count": 0
           },
           {
            "bin_end": 0.7,
            "bin_start": 0.6,
            "count": 0
           },
           {
            "bin_end": 0.8,
            "bin_start": 0.7,
            "count": 0
           },
           {
            "bin_end": 0.9,
            "bin_start": 0.8,
            "count": 0
           },
           {
            "bin_end": 1,
            "bin_start": 0.9,
            "count": 0
           },
           {
            "bin_end": 1.1,
            "bin_start": 1,
            "count": 5
           },
           {
            "bin_end": 1.2000000000000002,
            "bin_start": 1.1,
            "count": 0
           },
           {
            "bin_end": 1.3,
            "bin_start": 1.2000000000000002,
            "count": 0
           },
           {
            "bin_end": 1.4,
            "bin_start": 1.3,
            "count": 0
           },
           {
            "bin_end": 1.5,
            "bin_start": 1.4,
            "count": 0
           }
          ],
          "max": "1",
          "min": "1",
          "nan_count": 0,
          "unique_count": 1
         }
        },
        {
         "dtype": "int64",
         "name": "age_bin",
         "stats": {
          "histogram": [
           {
            "bin_end": 1.5,
            "bin_start": 1,
            "count": 1
           },
           {
            "bin_end": 2,
            "bin_start": 1.5,
            "count": 0
           },
           {
            "bin_end": 2.5,
            "bin_start": 2,
            "count": 0
           },
           {
            "bin_end": 3,
            "bin_start": 2.5,
            "count": 0
           },
           {
            "bin_end": 3.5,
            "bin_start": 3,
            "count": 2
           },
           {
            "bin_end": 4,
            "bin_start": 3.5,
            "count": 0
           },
           {
            "bin_end": 4.5,
            "bin_start": 4,
            "count": 1
           },
           {
            "bin_end": 5,
            "bin_start": 4.5,
            "count": 0
           },
           {
            "bin_end": 5.5,
            "bin_start": 5,
            "count": 0
           },
           {
            "bin_end": 6,
            "bin_start": 5.5,
            "count": 1
           }
          ],
          "max": "6",
          "min": "1",
          "nan_count": 0,
          "unique_count": 4
         }
        },
        {
         "dtype": "int64",
         "name": "BMI_Class",
         "stats": {
          "histogram": [
           {
            "bin_end": 1.2,
            "bin_start": 1,
            "count": 3
           },
           {
            "bin_end": 1.4,
            "bin_start": 1.2,
            "count": 0
           },
           {
            "bin_end": 1.6,
            "bin_start": 1.4,
            "count": 0
           },
           {
            "bin_end": 1.8,
            "bin_start": 1.6,
            "count": 0
           },
           {
            "bin_end": 2,
            "bin_start": 1.8,
            "count": 0
           },
           {
            "bin_end": 2.2,
            "bin_start": 2,
            "count": 1
           },
           {
            "bin_end": 2.4000000000000004,
            "bin_start": 2.2,
            "count": 0
           },
           {
            "bin_end": 2.6,
            "bin_start": 2.4000000000000004,
            "count": 0
           },
           {
            "bin_end": 2.8,
            "bin_start": 2.6,
            "count": 0
           },
           {
            "bin_end": 3,
            "bin_start": 2.8,
            "count": 1
           }
          ],
          "max": "3",
          "min": "1",
          "nan_count": 0,
          "unique_count": 3
         }
        },
        {
         "dtype": "int64",
         "name": "MAP_Class",
         "stats": {
          "histogram": [
           {
            "bin_end": 2.2,
            "bin_start": 2,
            "count": 3
           },
           {
            "bin_end": 2.4,
            "bin_start": 2.2,
            "count": 0
           },
           {
            "bin_end": 2.6,
            "bin_start": 2.4,
            "count": 0
           },
           {
            "bin_end": 2.8,
            "bin_start": 2.6,
            "count": 0
           },
           {
            "bin_end": 3,
            "bin_start": 2.8,
            "count": 0
           },
           {
            "bin_end": 3.2,
            "bin_start": 3,
            "count": 1
           },
           {
            "bin_end": 3.4000000000000004,
            "bin_start": 3.2,
            "count": 0
           },
           {
            "bin_end": 3.6,
            "bin_start": 3.4000000000000004,
            "count": 0
           },
           {
            "bin_end": 3.8,
            "bin_start": 3.6,
            "count": 0
           },
           {
            "bin_end": 4,
            "bin_start": 3.8,
            "count": 1
           }
          ],
          "max": "4",
          "min": "2",
          "nan_count": 0,
          "unique_count": 3
         }
        },
        {
         "dtype": "int64",
         "name": "cholesterol",
         "stats": {
          "histogram": [
           {
            "bin_end": 0.2,
            "bin_start": 0,
            "count": 4
           },
           {
            "bin_end": 0.4,
            "bin_start": 0.2,
            "count": 0
           },
           {
            "bin_end": 0.6000000000000001,
            "bin_start": 0.4,
            "count": 0
           },
           {
            "bin_end": 0.8,
            "bin_start": 0.6000000000000001,
            "count": 0
           },
           {
            "bin_end": 1,
            "bin_start": 0.8,
            "count": 0
           },
           {
            "bin_end": 1.2000000000000002,
            "bin_start": 1,
            "count": 0
           },
           {
            "bin_end": 1.4000000000000001,
            "bin_start": 1.2000000000000002,
            "count": 0
           },
           {
            "bin_end": 1.6,
            "bin_start": 1.4000000000000001,
            "count": 0
           },
           {
            "bin_end": 1.8,
            "bin_start": 1.6,
            "count": 0
           },
           {
            "bin_end": 2,
            "bin_start": 1.8,
            "count": 1
           }
          ],
          "max": "2",
          "min": "0",
          "nan_count": 0,
          "unique_count": 2
         }
        },
        {
         "dtype": "int64",
         "name": "glucose",
         "stats": {
          "histogram": [
           {
            "bin_end": 0.2,
            "bin_start": 0,
            "count": 4
           },
           {
            "bin_end": 0.4,
            "bin_start": 0.2,
            "count": 0
           },
           {
            "bin_end": 0.6000000000000001,
            "bin_start": 0.4,
            "count": 0
           },
           {
            "bin_end": 0.8,
            "bin_start": 0.6000000000000001,
            "count": 0
           },
           {
            "bin_end": 1,
            "bin_start": 0.8,
            "count": 0
           },
           {
            "bin_end": 1.2000000000000002,
            "bin_start": 1,
            "count": 0
           },
           {
            "bin_end": 1.4000000000000001,
            "bin_start": 1.2000000000000002,
            "count": 0
           },
           {
            "bin_end": 1.6,
            "bin_start": 1.4000000000000001,
            "count": 0
           },
           {
            "bin_end": 1.8,
            "bin_start": 1.6,
            "count": 0
           },
           {
            "bin_end": 2,
            "bin_start": 1.8,
            "count": 1
           }
          ],
          "max": "2",
          "min": "0",
          "nan_count": 0,
          "unique_count": 2
         }
        },
        {
         "dtype": "int64",
         "name": "smoke",
         "stats": {
          "histogram": [
           {
            "bin_end": -0.4,
            "bin_start": -0.5,
            "count": 0
           },
           {
            "bin_end": -0.3,
            "bin_start": -0.4,
            "count": 0
           },
           {
            "bin_end": -0.19999999999999996,
            "bin_start": -0.3,
            "count": 0
           },
           {
            "bin_end": -0.09999999999999998,
            "bin_start": -0.19999999999999996,
            "count": 0
           },
           {
            "bin_end": 0,
            "bin_start": -0.09999999999999998,
            "count": 0
           },
           {
            "bin_end": 0.10000000000000009,
            "bin_start": 0,
            "count": 5
           },
           {
            "bin_end": 0.20000000000000007,
            "bin_start": 0.10000000000000009,
            "count": 0
           },
           {
            "bin_end": 0.30000000000000004,
            "bin_start": 0.20000000000000007,
            "count": 0
           },
           {
            "bin_end": 0.4,
            "bin_start": 0.30000000000000004,
            "count": 0
           },
           {
            "bin_end": 0.5,
            "bin_start": 0.4,
            "count": 0
           }
          ],
          "max": "0",
          "min": "0",
          "nan_count": 0,
          "unique_count": 1
         }
        },
        {
         "dtype": "int64",
         "name": "alcohol",
         "stats": {
          "histogram": [
           {
            "bin_end": -0.4,
            "bin_start": -0.5,
            "count": 0
           },
           {
            "bin_end": -0.3,
            "bin_start": -0.4,
            "count": 0
           },
           {
            "bin_end": -0.19999999999999996,
            "bin_start": -0.3,
            "count": 0
           },
           {
            "bin_end": -0.09999999999999998,
            "bin_start": -0.19999999999999996,
            "count": 0
           },
           {
            "bin_end": 0,
            "bin_start": -0.09999999999999998,
            "count": 0
           },
           {
            "bin_end": 0.10000000000000009,
            "bin_start": 0,
            "count": 5
           },
           {
            "bin_end": 0.20000000000000007,
            "bin_start": 0.10000000000000009,
            "count": 0
           },
           {
            "bin_end": 0.30000000000000004,
            "bin_start": 0.20000000000000007,
            "count": 0
           },
           {
            "bin_end": 0.4,
            "bin_start": 0.30000000000000004,
            "count": 0
           },
           {
            "bin_end": 0.5,
            "bin_start": 0.4,
            "count": 0
           }
          ],
          "max": "0",
          "min": "0",
          "nan_count": 0,
          "unique_count": 1
         }
        },
        {
         "dtype": "int64",
         "name": "active",
         "stats": {
          "histogram": [
           {
            "bin_end": 0.1,
            "bin_start": 0,
            "count": 1
           },
           {
            "bin_end": 0.2,
            "bin_start": 0.1,
            "count": 0
           },
           {
            "bin_end": 0.30000000000000004,
            "bin_start": 0.2,
            "count": 0
           },
           {
            "bin_end": 0.4,
            "bin_start": 0.30000000000000004,
            "count": 0
           },
           {
            "bin_end": 0.5,
            "bin_start": 0.4,
            "count": 0
           },
           {
            "bin_end": 0.6000000000000001,
            "bin_start": 0.5,
            "count": 0
           },
           {
            "bin_end": 0.7000000000000001,
            "bin_start": 0.6000000000000001,
            "count": 0
           },
           {
            "bin_end": 0.8,
            "bin_start": 0.7000000000000001,
            "count": 0
           },
           {
            "bin_end": 0.9,
            "bin_start": 0.8,
            "count": 0
           },
           {
            "bin_end": 1,
            "bin_start": 0.9,
            "count": 4
           }
          ],
          "max": "1",
          "min": "0",
          "nan_count": 0,
          "unique_count": 2
         }
        },
        {
         "dtype": "int64",
         "name": "cardiovascular_disease",
         "stats": {
          "histogram": [
           {
            "bin_end": 0.1,
            "bin_start": 0,
            "count": 3
           },
           {
            "bin_end": 0.2,
            "bin_start": 0.1,
            "count": 0
           },
           {
            "bin_end": 0.30000000000000004,
            "bin_start": 0.2,
            "count": 0
           },
           {
            "bin_end": 0.4,
            "bin_start": 0.30000000000000004,
            "count": 0
           },
           {
            "bin_end": 0.5,
            "bin_start": 0.4,
            "count": 0
           },
           {
            "bin_end": 0.6000000000000001,
            "bin_start": 0.5,
            "count": 0
           },
           {
            "bin_end": 0.7000000000000001,
            "bin_start": 0.6000000000000001,
            "count": 0
           },
           {
            "bin_end": 0.8,
            "bin_start": 0.7000000000000001,
            "count": 0
           },
           {
            "bin_end": 0.9,
            "bin_start": 0.8,
            "count": 0
           },
           {
            "bin_end": 1,
            "bin_start": 0.9,
            "count": 2
           }
          ],
          "max": "1",
          "min": "0",
          "nan_count": 0,
          "unique_count": 2
         }
        },
        {
         "dtype": "int64",
         "name": "_deepnote_index_column"
        }
       ],
       "row_count": 5,
       "rows": [
        {
         "BMI_Class": "1",
         "MAP_Class": "2",
         "_deepnote_index_column": "0",
         "active": "1",
         "age_bin": "3",
         "alcohol": "0",
         "cardiovascular_disease": "0",
         "cholesterol": "0",
         "gender": "1",
         "glucose": "0",
         "smoke": "0"
        },
        {
         "BMI_Class": "2",
         "MAP_Class": "4",
         "_deepnote_index_column": "3",
         "active": "1",
         "age_bin": "3",
         "alcohol": "0",
         "cardiovascular_disease": "1",
         "cholesterol": "0",
         "gender": "1",
         "glucose": "0",
         "smoke": "0"
        },
        {
         "BMI_Class": "3",
         "MAP_Class": "3",
         "_deepnote_index_column": "7",
         "active": "1",
         "age_bin": "6",
         "alcohol": "0",
         "cardiovascular_disease": "1",
         "cholesterol": "2",
         "gender": "1",
         "glucose": "2",
         "smoke": "0"
        },
        {
         "BMI_Class": "1",
         "MAP_Class": "2",
         "_deepnote_index_column": "11",
         "active": "1",
         "age_bin": "4",
         "alcohol": "0",
         "cardiovascular_disease": "0",
         "cholesterol": "0",
         "gender": "1",
         "glucose": "0",
         "smoke": "0"
        },
        {
         "BMI_Class": "1",
         "MAP_Class": "2",
         "_deepnote_index_column": "12",
         "active": "0",
         "age_bin": "1",
         "alcohol": "0",
         "cardiovascular_disease": "0",
         "cholesterol": "0",
         "gender": "1",
         "glucose": "0",
         "smoke": "0"
        }
       ]
      },
      "text/html": [
       "<div>\n",
       "<style scoped>\n",
       "    .dataframe tbody tr th:only-of-type {\n",
       "        vertical-align: middle;\n",
       "    }\n",
       "\n",
       "    .dataframe tbody tr th {\n",
       "        vertical-align: top;\n",
       "    }\n",
       "\n",
       "    .dataframe thead th {\n",
       "        text-align: right;\n",
       "    }\n",
       "</style>\n",
       "<table border=\"1\" class=\"dataframe\">\n",
       "  <thead>\n",
       "    <tr style=\"text-align: right;\">\n",
       "      <th></th>\n",
       "      <th>gender</th>\n",
       "      <th>age_bin</th>\n",
       "      <th>BMI_Class</th>\n",
       "      <th>MAP_Class</th>\n",
       "      <th>cholesterol</th>\n",
       "      <th>glucose</th>\n",
       "      <th>smoke</th>\n",
       "      <th>alcohol</th>\n",
       "      <th>active</th>\n",
       "      <th>cardiovascular_disease</th>\n",
       "    </tr>\n",
       "  </thead>\n",
       "  <tbody>\n",
       "    <tr>\n",
       "      <th>0</th>\n",
       "      <td>1</td>\n",
       "      <td>3</td>\n",
       "      <td>1</td>\n",
       "      <td>2</td>\n",
       "      <td>0</td>\n",
       "      <td>0</td>\n",
       "      <td>0</td>\n",
       "      <td>0</td>\n",
       "      <td>1</td>\n",
       "      <td>0</td>\n",
       "    </tr>\n",
       "    <tr>\n",
       "      <th>3</th>\n",
       "      <td>1</td>\n",
       "      <td>3</td>\n",
       "      <td>2</td>\n",
       "      <td>4</td>\n",
       "      <td>0</td>\n",
       "      <td>0</td>\n",
       "      <td>0</td>\n",
       "      <td>0</td>\n",
       "      <td>1</td>\n",
       "      <td>1</td>\n",
       "    </tr>\n",
       "    <tr>\n",
       "      <th>7</th>\n",
       "      <td>1</td>\n",
       "      <td>6</td>\n",
       "      <td>3</td>\n",
       "      <td>3</td>\n",
       "      <td>2</td>\n",
       "      <td>2</td>\n",
       "      <td>0</td>\n",
       "      <td>0</td>\n",
       "      <td>1</td>\n",
       "      <td>1</td>\n",
       "    </tr>\n",
       "    <tr>\n",
       "      <th>11</th>\n",
       "      <td>1</td>\n",
       "      <td>4</td>\n",
       "      <td>1</td>\n",
       "      <td>2</td>\n",
       "      <td>0</td>\n",
       "      <td>0</td>\n",
       "      <td>0</td>\n",
       "      <td>0</td>\n",
       "      <td>1</td>\n",
       "      <td>0</td>\n",
       "    </tr>\n",
       "    <tr>\n",
       "      <th>12</th>\n",
       "      <td>1</td>\n",
       "      <td>1</td>\n",
       "      <td>1</td>\n",
       "      <td>2</td>\n",
       "      <td>0</td>\n",
       "      <td>0</td>\n",
       "      <td>0</td>\n",
       "      <td>0</td>\n",
       "      <td>0</td>\n",
       "      <td>0</td>\n",
       "    </tr>\n",
       "  </tbody>\n",
       "</table>\n",
       "</div>"
      ],
      "text/plain": [
       "    gender  age_bin  BMI_Class  MAP_Class  cholesterol  glucose  smoke  \\\n",
       "0        1        3          1          2            0        0      0   \n",
       "3        1        3          2          4            0        0      0   \n",
       "7        1        6          3          3            2        2      0   \n",
       "11       1        4          1          2            0        0      0   \n",
       "12       1        1          1          2            0        0      0   \n",
       "\n",
       "    alcohol  active  cardiovascular_disease  \n",
       "0         0       1                       0  \n",
       "3         0       1                       1  \n",
       "7         0       1                       1  \n",
       "11        0       1                       0  \n",
       "12        0       0                       0  "
      ]
     },
     "execution_count": 13,
     "metadata": {},
     "output_type": "execute_result"
    }
   ],
   "source": [
    "df_female.head()"
   ]
  },
  {
   "cell_type": "code",
   "execution_count": 14,
   "metadata": {
    "cell_id": "c74225bc24ff4d6da2628ffe4788ecae",
    "deepnote_cell_type": "code",
    "deepnote_to_be_reexecuted": false,
    "execution_millis": 285401,
    "execution_start": 1677486645641,
    "source_hash": "5322aaa4",
    "tags": []
   },
   "outputs": [
    {
     "data": {
      "image/png": "[encoded data removed]",
      "text/plain": [
       "<Figure size 640x480 with 1 Axes>"
      ]
     },
     "metadata": {
      "image/png": {
       "height": 455,
       "width": 598
      }
     },
     "output_type": "display_data"
    }
   ],
   "source": [
    "# Elbow curve to find optimal K in Huang init\n",
    "cost = []\n",
    "K = range(1,6)\n",
    "for num_clusters in list(K):\n",
    "    kmode = KModes(n_clusters=num_clusters, init = \"Huang\", n_init = 5, verbose=0)\n",
    "    kmode.fit_predict(df_cat)\n",
    "    cost.append(kmode.cost_)\n",
    "    \n",
    "plt.plot(K, cost, 'bx-')\n",
    "plt.xlabel('No. of clusters')\n",
    "plt.ylabel('Cost')\n",
    "plt.title('Elbow Method For Optimal k')\n",
    "plt.show()"
   ]
  },
  {
   "cell_type": "code",
   "execution_count": 15,
   "metadata": {
    "cell_id": "bfc556cafd9943d983d4210334cc6271",
    "deepnote_cell_type": "code",
    "deepnote_to_be_reexecuted": false,
    "execution_millis": 188966,
    "execution_start": 1677486931085,
    "source_hash": "3cc7de23",
    "tags": []
   },
   "outputs": [
    {
     "data": {
      "image/png": "[encoded data removed]",
      "text/plain": [
       "<Figure size 640x480 with 1 Axes>"
      ]
     },
     "metadata": {
      "image/png": {
       "height": 455,
       "width": 598
      }
     },
     "output_type": "display_data"
    }
   ],
   "source": [
    "# For male data\n",
    "# Elbow curve to find optimal K in Huang\n",
    "cost = []\n",
    "K = range(1,6)\n",
    "for num_clusters in list(K):\n",
    "    kmode = KModes(n_clusters=num_clusters, init = \"Huang\", n_init = 5, verbose=0)\n",
    "    kmode.fit_predict(df_male)\n",
    "    cost.append(kmode.cost_)\n",
    "    \n",
    "plt.plot(K, cost, 'bx-')\n",
    "plt.xlabel('No. of clusters')\n",
    "plt.ylabel('Cost')\n",
    "plt.title('Elbow Method For Optimal k')\n",
    "plt.show()"
   ]
  },
  {
   "cell_type": "code",
   "execution_count": 16,
   "metadata": {
    "cell_id": "d38b3d6912d34a9c9fe6960ee0e9e4a6",
    "deepnote_cell_type": "code",
    "deepnote_to_be_reexecuted": false,
    "execution_millis": 101393,
    "execution_start": 1677487120050,
    "source_hash": "bbac9588",
    "tags": []
   },
   "outputs": [
    {
     "data": {
      "image/png": "[encoded data removed]",
      "text/plain": [
       "<Figure size 640x480 with 1 Axes>"
      ]
     },
     "metadata": {
      "image/png": {
       "height": 455,
       "width": 589
      }
     },
     "output_type": "display_data"
    }
   ],
   "source": [
    "# For Female Data\n",
    "# Elbow curve to find optimal K\n",
    "cost = []\n",
    "K = range(1,6)\n",
    "for num_clusters in list(K):\n",
    "    kmode = KModes(n_clusters=num_clusters, init = \"Huang\", n_init = 5, verbose=0)\n",
    "    kmode.fit_predict(df_female)\n",
    "    cost.append(kmode.cost_)\n",
    "    \n",
    "plt.plot(K, cost, 'bx-')\n",
    "plt.xlabel('No. of clusters')\n",
    "plt.ylabel('Cost')\n",
    "plt.title('Elbow Method For Optimal k')\n",
    "plt.show()"
   ]
  },
  {
   "cell_type": "markdown",
   "metadata": {
    "cell_id": "317b33499c944c94b726abc52345daa7",
    "deepnote_cell_type": "markdown",
    "tags": []
   },
   "source": [
    "The code above is using the `Elbow method` to find the optimal number of clusters (K) for the general dataset, male and female dataset using the `Huang initialization` method in the KModes clustering algorithm. The cost of the clustering is calculated for each value of K (ranging from 1 to 5) and plotted on a graph. The code then displays the graph with the number of `clusters` on the x-axis and the cost on the y-axis. The `Elbow method` is a heuristic method used to determine the optimal number of clusters based on the point of inflection in the cost graph (i.e., the `elbow point`).\n",
    "\n",
    "* The best number os clusters for male Data in `Huang Init` is **2**\n",
    "* The best number os clusters for female Data in `Huang Init` is **2**"
   ]
  },
  {
   "cell_type": "code",
   "execution_count": 17,
   "metadata": {
    "cell_id": "09fadbfbdaf545eeb787e6acc147bab0",
    "deepnote_cell_type": "code",
    "deepnote_to_be_reexecuted": false,
    "execution_millis": 15602,
    "execution_start": 1677489141123,
    "source_hash": "1150aa9",
    "tags": []
   },
   "outputs": [
    {
     "data": {
      "text/plain": [
       "array([0, 1, 1, ..., 1, 0, 0], dtype=uint16)"
      ]
     },
     "execution_count": 17,
     "metadata": {},
     "output_type": "execute_result"
    }
   ],
   "source": [
    "# Building the model with using K-Mode with \"Huang\" initialization\n",
    "\n",
    "# female data\n",
    "km_huang = KModes(n_clusters=2, init = \"Huang\", n_init = 5, verbose=0)\n",
    "clusters_huang_1 = km_huang.fit_predict(df_female)\n",
    "clusters_huang_1"
   ]
  },
  {
   "cell_type": "code",
   "execution_count": 18,
   "metadata": {
    "cell_id": "9fb393dc7f4a47e6837b8d3762fa716a",
    "deepnote_cell_type": "code",
    "deepnote_to_be_reexecuted": false,
    "execution_millis": 25115,
    "execution_start": 1677489156731,
    "source_hash": "8ea01f69",
    "tags": []
   },
   "outputs": [
    {
     "data": {
      "text/plain": [
       "array([0, 1, 1, ..., 0, 0, 0], dtype=uint16)"
      ]
     },
     "execution_count": 18,
     "metadata": {},
     "output_type": "execute_result"
    }
   ],
   "source": [
    "# male data\n",
    "km_huang = KModes(n_clusters=2, init = \"Huang\", n_init = 5, verbose=0)\n",
    "clusters_huang_2 = km_huang.fit_predict(df_male)\n",
    "clusters_huang_2"
   ]
  },
  {
   "cell_type": "markdown",
   "metadata": {
    "cell_id": "7e17e555e6824087a88a2708c7b2e0e2",
    "deepnote_cell_type": "markdown",
    "tags": []
   },
   "source": [
    "The code above is using the KModes clustering algorithm to build a model for both male & female dataset with two clusters, using the `Huang` initialization method.\n",
    "\n",
    "The `KModes` algorithm is a clustering algorithm designed to work with categorical data. It groups together similar instances based on the similarity of their categorical attributes.\n",
    "\n",
    "The `n_init` parameter specifies the number of times the algorithm will be run with different initial centroids. The verbose parameter controls the level of output messages printed during the clustering process.\n",
    "\n",
    "The `fit_predict` method fits the model to the dataset (df_female & df_female) and returns an array of cluster assignments, where each element represents the cluster assignment for the corresponding row of the input data.\n",
    "\n",
    "The `clusters_huang_1 & clusters_huang_2` variable contains the cluster assignments for each row in the df_female & df_male dataset respectively. This variable can be used to perform further analysis of the data, such as evaluating the quality of the clustering or identifying which instances belong to which cluster."
   ]
  },
  {
   "cell_type": "code",
   "execution_count": 19,
   "metadata": {
    "cell_id": "69b5ee01b46742e1b93695073cd10d10",
    "deepnote_cell_type": "code",
    "deepnote_to_be_reexecuted": false,
    "execution_millis": 0,
    "execution_start": 1677521383217,
    "source_hash": "34496087",
    "tags": []
   },
   "outputs": [],
   "source": [
    "# Inserting clusters in DataFrame\n",
    "df_female.insert(0,\"Cluster\", clusters_huang_1, True)\n",
    "df_male.insert(0, \"Cluster\", clusters_huang_2, True)"
   ]
  },
  {
   "cell_type": "code",
   "execution_count": 20,
   "metadata": {
    "cell_id": "e305c4d83faa4d4ca78adeb614320d78",
    "deepnote_cell_type": "code",
    "deepnote_to_be_reexecuted": false,
    "execution_millis": 19,
    "execution_start": 1677521390556,
    "source_hash": "d03c7476",
    "tags": []
   },
   "outputs": [
    {
     "data": {
      "application/vnd.deepnote.dataframe.v3+json": {
       "column_count": 11,
       "columns": [
        {
         "dtype": "uint16",
         "name": "Cluster",
         "stats": {
          "histogram": [
           {
            "bin_end": 0.1,
            "bin_start": 0,
            "count": 3
           },
           {
            "bin_end": 0.2,
            "bin_start": 0.1,
            "count": 0
           },
           {
            "bin_end": 0.30000000000000004,
            "bin_start": 0.2,
            "count": 0
           },
           {
            "bin_end": 0.4,
            "bin_start": 0.30000000000000004,
            "count": 0
           },
           {
            "bin_end": 0.5,
            "bin_start": 0.4,
            "count": 0
           },
           {
            "bin_end": 0.6000000000000001,
            "bin_start": 0.5,
            "count": 0
           },
           {
            "bin_end": 0.7000000000000001,
            "bin_start": 0.6000000000000001,
            "count": 0
           },
           {
            "bin_end": 0.8,
            "bin_start": 0.7000000000000001,
            "count": 0
           },
           {
            "bin_end": 0.9,
            "bin_start": 0.8,
            "count": 0
           },
           {
            "bin_end": 1,
            "bin_start": 0.9,
            "count": 2
           }
          ],
          "max": "1",
          "min": "0",
          "nan_count": 0,
          "unique_count": 2
         }
        },
        {
         "dtype": "int64",
         "name": "gender",
         "stats": {
          "histogram": [
           {
            "bin_end": 0.6,
            "bin_start": 0.5,
            "count": 0
           },
           {
            "bin_end": 0.7,
            "bin_start": 0.6,
            "count": 0
           },
           {
            "bin_end": 0.8,
            "bin_start": 0.7,
            "count": 0
           },
           {
            "bin_end": 0.9,
            "bin_start": 0.8,
            "count": 0
           },
           {
            "bin_end": 1,
            "bin_start": 0.9,
            "count": 0
           },
           {
            "bin_end": 1.1,
            "bin_start": 1,
            "count": 5
           },
           {
            "bin_end": 1.2000000000000002,
            "bin_start": 1.1,
            "count": 0
           },
           {
            "bin_end": 1.3,
            "bin_start": 1.2000000000000002,
            "count": 0
           },
           {
            "bin_end": 1.4,
            "bin_start": 1.3,
            "count": 0
           },
           {
            "bin_end": 1.5,
            "bin_start": 1.4,
            "count": 0
           }
          ],
          "max": "1",
          "min": "1",
          "nan_count": 0,
          "unique_count": 1
         }
        },
        {
         "dtype": "int64",
         "name": "age_bin",
         "stats": {
          "histogram": [
           {
            "bin_end": 1.5,
            "bin_start": 1,
            "count": 1
           },
           {
            "bin_end": 2,
            "bin_start": 1.5,
            "count": 0
           },
           {
            "bin_end": 2.5,
            "bin_start": 2,
            "count": 0
           },
           {
            "bin_end": 3,
            "bin_start": 2.5,
            "count": 0
           },
           {
            "bin_end": 3.5,
            "bin_start": 3,
            "count": 2
           },
           {
            "bin_end": 4,
            "bin_start": 3.5,
            "count": 0
           },
           {
            "bin_end": 4.5,
            "bin_start": 4,
            "count": 1
           },
           {
            "bin_end": 5,
            "bin_start": 4.5,
            "count": 0
           },
           {
            "bin_end": 5.5,
            "bin_start": 5,
            "count": 0
           },
           {
            "bin_end": 6,
            "bin_start": 5.5,
            "count": 1
           }
          ],
          "max": "6",
          "min": "1",
          "nan_count": 0,
          "unique_count": 4
         }
        },
        {
         "dtype": "int64",
         "name": "BMI_Class",
         "stats": {
          "histogram": [
           {
            "bin_end": 1.2,
            "bin_start": 1,
            "count": 3
           },
           {
            "bin_end": 1.4,
            "bin_start": 1.2,
            "count": 0
           },
           {
            "bin_end": 1.6,
            "bin_start": 1.4,
            "count": 0
           },
           {
            "bin_end": 1.8,
            "bin_start": 1.6,
            "count": 0
           },
           {
            "bin_end": 2,
            "bin_start": 1.8,
            "count": 0
           },
           {
            "bin_end": 2.2,
            "bin_start": 2,
            "count": 1
           },
           {
            "bin_end": 2.4000000000000004,
            "bin_start": 2.2,
            "count": 0
           },
           {
            "bin_end": 2.6,
            "bin_start": 2.4000000000000004,
            "count": 0
           },
           {
            "bin_end": 2.8,
            "bin_start": 2.6,
            "count": 0
           },
           {
            "bin_end": 3,
            "bin_start": 2.8,
            "count": 1
           }
          ],
          "max": "3",
          "min": "1",
          "nan_count": 0,
          "unique_count": 3
         }
        },
        {
         "dtype": "int64",
         "name": "MAP_Class",
         "stats": {
          "histogram": [
           {
            "bin_end": 2.2,
            "bin_start": 2,
            "count": 3
           },
           {
            "bin_end": 2.4,
            "bin_start": 2.2,
            "count": 0
           },
           {
            "bin_end": 2.6,
            "bin_start": 2.4,
            "count": 0
           },
           {
            "bin_end": 2.8,
            "bin_start": 2.6,
            "count": 0
           },
           {
            "bin_end": 3,
            "bin_start": 2.8,
            "count": 0
           },
           {
            "bin_end": 3.2,
            "bin_start": 3,
            "count": 1
           },
           {
            "bin_end": 3.4000000000000004,
            "bin_start": 3.2,
            "count": 0
           },
           {
            "bin_end": 3.6,
            "bin_start": 3.4000000000000004,
            "count": 0
           },
           {
            "bin_end": 3.8,
            "bin_start": 3.6,
            "count": 0
           },
           {
            "bin_end": 4,
            "bin_start": 3.8,
            "count": 1
           }
          ],
          "max": "4",
          "min": "2",
          "nan_count": 0,
          "unique_count": 3
         }
        },
        {
         "dtype": "int64",
         "name": "cholesterol",
         "stats": {
          "histogram": [
           {
            "bin_end": 0.2,
            "bin_start": 0,
            "count": 4
           },
           {
            "bin_end": 0.4,
            "bin_start": 0.2,
            "count": 0
           },
           {
            "bin_end": 0.6000000000000001,
            "bin_start": 0.4,
            "count": 0
           },
           {
            "bin_end": 0.8,
            "bin_start": 0.6000000000000001,
            "count": 0
           },
           {
            "bin_end": 1,
            "bin_start": 0.8,
            "count": 0
           },
           {
            "bin_end": 1.2000000000000002,
            "bin_start": 1,
            "count": 0
           },
           {
            "bin_end": 1.4000000000000001,
            "bin_start": 1.2000000000000002,
            "count": 0
           },
           {
            "bin_end": 1.6,
            "bin_start": 1.4000000000000001,
            "count": 0
           },
           {
            "bin_end": 1.8,
            "bin_start": 1.6,
            "count": 0
           },
           {
            "bin_end": 2,
            "bin_start": 1.8,
            "count": 1
           }
          ],
          "max": "2",
          "min": "0",
          "nan_count": 0,
          "unique_count": 2
         }
        },
        {
         "dtype": "int64",
         "name": "glucose",
         "stats": {
          "histogram": [
           {
            "bin_end": 0.2,
            "bin_start": 0,
            "count": 4
           },
           {
            "bin_end": 0.4,
            "bin_start": 0.2,
            "count": 0
           },
           {
            "bin_end": 0.6000000000000001,
            "bin_start": 0.4,
            "count": 0
           },
           {
            "bin_end": 0.8,
            "bin_start": 0.6000000000000001,
            "count": 0
           },
           {
            "bin_end": 1,
            "bin_start": 0.8,
            "count": 0
           },
           {
            "bin_end": 1.2000000000000002,
            "bin_start": 1,
            "count": 0
           },
           {
            "bin_end": 1.4000000000000001,
            "bin_start": 1.2000000000000002,
            "count": 0
           },
           {
            "bin_end": 1.6,
            "bin_start": 1.4000000000000001,
            "count": 0
           },
           {
            "bin_end": 1.8,
            "bin_start": 1.6,
            "count": 0
           },
           {
            "bin_end": 2,
            "bin_start": 1.8,
            "count": 1
           }
          ],
          "max": "2",
          "min": "0",
          "nan_count": 0,
          "unique_count": 2
         }
        },
        {
         "dtype": "int64",
         "name": "smoke",
         "stats": {
          "histogram": [
           {
            "bin_end": -0.4,
            "bin_start": -0.5,
            "count": 0
           },
           {
            "bin_end": -0.3,
            "bin_start": -0.4,
            "count": 0
           },
           {
            "bin_end": -0.19999999999999996,
            "bin_start": -0.3,
            "count": 0
           },
           {
            "bin_end": -0.09999999999999998,
            "bin_start": -0.19999999999999996,
            "count": 0
           },
           {
            "bin_end": 0,
            "bin_start": -0.09999999999999998,
            "count": 0
           },
           {
            "bin_end": 0.10000000000000009,
            "bin_start": 0,
            "count": 5
           },
           {
            "bin_end": 0.20000000000000007,
            "bin_start": 0.10000000000000009,
            "count": 0
           },
           {
            "bin_end": 0.30000000000000004,
            "bin_start": 0.20000000000000007,
            "count": 0
           },
           {
            "bin_end": 0.4,
            "bin_start": 0.30000000000000004,
            "count": 0
           },
           {
            "bin_end": 0.5,
            "bin_start": 0.4,
            "count": 0
           }
          ],
          "max": "0",
          "min": "0",
          "nan_count": 0,
          "unique_count": 1
         }
        },
        {
         "dtype": "int64",
         "name": "alcohol",
         "stats": {
          "histogram": [
           {
            "bin_end": -0.4,
            "bin_start": -0.5,
            "count": 0
           },
           {
            "bin_end": -0.3,
            "bin_start": -0.4,
            "count": 0
           },
           {
            "bin_end": -0.19999999999999996,
            "bin_start": -0.3,
            "count": 0
           },
           {
            "bin_end": -0.09999999999999998,
            "bin_start": -0.19999999999999996,
            "count": 0
           },
           {
            "bin_end": 0,
            "bin_start": -0.09999999999999998,
            "count": 0
           },
           {
            "bin_end": 0.10000000000000009,
            "bin_start": 0,
            "count": 5
           },
           {
            "bin_end": 0.20000000000000007,
            "bin_start": 0.10000000000000009,
            "count": 0
           },
           {
            "bin_end": 0.30000000000000004,
            "bin_start": 0.20000000000000007,
            "count": 0
           },
           {
            "bin_end": 0.4,
            "bin_start": 0.30000000000000004,
            "count": 0
           },
           {
            "bin_end": 0.5,
            "bin_start": 0.4,
            "count": 0
           }
          ],
          "max": "0",
          "min": "0",
          "nan_count": 0,
          "unique_count": 1
         }
        },
        {
         "dtype": "int64",
         "name": "active",
         "stats": {
          "histogram": [
           {
            "bin_end": 0.1,
            "bin_start": 0,
            "count": 1
           },
           {
            "bin_end": 0.2,
            "bin_start": 0.1,
            "count": 0
           },
           {
            "bin_end": 0.30000000000000004,
            "bin_start": 0.2,
            "count": 0
           },
           {
            "bin_end": 0.4,
            "bin_start": 0.30000000000000004,
            "count": 0
           },
           {
            "bin_end": 0.5,
            "bin_start": 0.4,
            "count": 0
           },
           {
            "bin_end": 0.6000000000000001,
            "bin_start": 0.5,
            "count": 0
           },
           {
            "bin_end": 0.7000000000000001,
            "bin_start": 0.6000000000000001,
            "count": 0
           },
           {
            "bin_end": 0.8,
            "bin_start": 0.7000000000000001,
            "count": 0
           },
           {
            "bin_end": 0.9,
            "bin_start": 0.8,
            "count": 0
           },
           {
            "bin_end": 1,
            "bin_start": 0.9,
            "count": 4
           }
          ],
          "max": "1",
          "min": "0",
          "nan_count": 0,
          "unique_count": 2
         }
        },
        {
         "dtype": "int64",
         "name": "cardiovascular_disease",
         "stats": {
          "histogram": [
           {
            "bin_end": 0.1,
            "bin_start": 0,
            "count": 3
           },
           {
            "bin_end": 0.2,
            "bin_start": 0.1,
            "count": 0
           },
           {
            "bin_end": 0.30000000000000004,
            "bin_start": 0.2,
            "count": 0
           },
           {
            "bin_end": 0.4,
            "bin_start": 0.30000000000000004,
            "count": 0
           },
           {
            "bin_end": 0.5,
            "bin_start": 0.4,
            "count": 0
           },
           {
            "bin_end": 0.6000000000000001,
            "bin_start": 0.5,
            "count": 0
           },
           {
            "bin_end": 0.7000000000000001,
            "bin_start": 0.6000000000000001,
            "count": 0
           },
           {
            "bin_end": 0.8,
            "bin_start": 0.7000000000000001,
            "count": 0
           },
           {
            "bin_end": 0.9,
            "bin_start": 0.8,
            "count": 0
           },
           {
            "bin_end": 1,
            "bin_start": 0.9,
            "count": 2
           }
          ],
          "max": "1",
          "min": "0",
          "nan_count": 0,
          "unique_count": 2
         }
        },
        {
         "dtype": "int64",
         "name": "_deepnote_index_column"
        }
       ],
       "row_count": 5,
       "rows": [
        {
         "BMI_Class": "1",
         "Cluster": "0",
         "MAP_Class": "2",
         "_deepnote_index_column": "0",
         "active": "1",
         "age_bin": "3",
         "alcohol": "0",
         "cardiovascular_disease": "0",
         "cholesterol": "0",
         "gender": "1",
         "glucose": "0",
         "smoke": "0"
        },
        {
         "BMI_Class": "2",
         "Cluster": "1",
         "MAP_Class": "4",
         "_deepnote_index_column": "3",
         "active": "1",
         "age_bin": "3",
         "alcohol": "0",
         "cardiovascular_disease": "1",
         "cholesterol": "0",
         "gender": "1",
         "glucose": "0",
         "smoke": "0"
        },
        {
         "BMI_Class": "3",
         "Cluster": "1",
         "MAP_Class": "3",
         "_deepnote_index_column": "7",
         "active": "1",
         "age_bin": "6",
         "alcohol": "0",
         "cardiovascular_disease": "1",
         "cholesterol": "2",
         "gender": "1",
         "glucose": "2",
         "smoke": "0"
        },
        {
         "BMI_Class": "1",
         "Cluster": "0",
         "MAP_Class": "2",
         "_deepnote_index_column": "11",
         "active": "1",
         "age_bin": "4",
         "alcohol": "0",
         "cardiovascular_disease": "0",
         "cholesterol": "0",
         "gender": "1",
         "glucose": "0",
         "smoke": "0"
        },
        {
         "BMI_Class": "1",
         "Cluster": "0",
         "MAP_Class": "2",
         "_deepnote_index_column": "12",
         "active": "0",
         "age_bin": "1",
         "alcohol": "0",
         "cardiovascular_disease": "0",
         "cholesterol": "0",
         "gender": "1",
         "glucose": "0",
         "smoke": "0"
        }
       ]
      },
      "text/html": [
       "<div>\n",
       "<style scoped>\n",
       "    .dataframe tbody tr th:only-of-type {\n",
       "        vertical-align: middle;\n",
       "    }\n",
       "\n",
       "    .dataframe tbody tr th {\n",
       "        vertical-align: top;\n",
       "    }\n",
       "\n",
       "    .dataframe thead th {\n",
       "        text-align: right;\n",
       "    }\n",
       "</style>\n",
       "<table border=\"1\" class=\"dataframe\">\n",
       "  <thead>\n",
       "    <tr style=\"text-align: right;\">\n",
       "      <th></th>\n",
       "      <th>Cluster</th>\n",
       "      <th>gender</th>\n",
       "      <th>age_bin</th>\n",
       "      <th>BMI_Class</th>\n",
       "      <th>MAP_Class</th>\n",
       "      <th>cholesterol</th>\n",
       "      <th>glucose</th>\n",
       "      <th>smoke</th>\n",
       "      <th>alcohol</th>\n",
       "      <th>active</th>\n",
       "      <th>cardiovascular_disease</th>\n",
       "    </tr>\n",
       "  </thead>\n",
       "  <tbody>\n",
       "    <tr>\n",
       "      <th>0</th>\n",
       "      <td>0</td>\n",
       "      <td>1</td>\n",
       "      <td>3</td>\n",
       "      <td>1</td>\n",
       "      <td>2</td>\n",
       "      <td>0</td>\n",
       "      <td>0</td>\n",
       "      <td>0</td>\n",
       "      <td>0</td>\n",
       "      <td>1</td>\n",
       "      <td>0</td>\n",
       "    </tr>\n",
       "    <tr>\n",
       "      <th>3</th>\n",
       "      <td>1</td>\n",
       "      <td>1</td>\n",
       "      <td>3</td>\n",
       "      <td>2</td>\n",
       "      <td>4</td>\n",
       "      <td>0</td>\n",
       "      <td>0</td>\n",
       "      <td>0</td>\n",
       "      <td>0</td>\n",
       "      <td>1</td>\n",
       "      <td>1</td>\n",
       "    </tr>\n",
       "    <tr>\n",
       "      <th>7</th>\n",
       "      <td>1</td>\n",
       "      <td>1</td>\n",
       "      <td>6</td>\n",
       "      <td>3</td>\n",
       "      <td>3</td>\n",
       "      <td>2</td>\n",
       "      <td>2</td>\n",
       "      <td>0</td>\n",
       "      <td>0</td>\n",
       "      <td>1</td>\n",
       "      <td>1</td>\n",
       "    </tr>\n",
       "    <tr>\n",
       "      <th>11</th>\n",
       "      <td>0</td>\n",
       "      <td>1</td>\n",
       "      <td>4</td>\n",
       "      <td>1</td>\n",
       "      <td>2</td>\n",
       "      <td>0</td>\n",
       "      <td>0</td>\n",
       "      <td>0</td>\n",
       "      <td>0</td>\n",
       "      <td>1</td>\n",
       "      <td>0</td>\n",
       "    </tr>\n",
       "    <tr>\n",
       "      <th>12</th>\n",
       "      <td>0</td>\n",
       "      <td>1</td>\n",
       "      <td>1</td>\n",
       "      <td>1</td>\n",
       "      <td>2</td>\n",
       "      <td>0</td>\n",
       "      <td>0</td>\n",
       "      <td>0</td>\n",
       "      <td>0</td>\n",
       "      <td>0</td>\n",
       "      <td>0</td>\n",
       "    </tr>\n",
       "  </tbody>\n",
       "</table>\n",
       "</div>"
      ],
      "text/plain": [
       "    Cluster  gender  age_bin  BMI_Class  MAP_Class  cholesterol  glucose  \\\n",
       "0         0       1        3          1          2            0        0   \n",
       "3         1       1        3          2          4            0        0   \n",
       "7         1       1        6          3          3            2        2   \n",
       "11        0       1        4          1          2            0        0   \n",
       "12        0       1        1          1          2            0        0   \n",
       "\n",
       "    smoke  alcohol  active  cardiovascular_disease  \n",
       "0       0        0       1                       0  \n",
       "3       0        0       1                       1  \n",
       "7       0        0       1                       1  \n",
       "11      0        0       1                       0  \n",
       "12      0        0       0                       0  "
      ]
     },
     "execution_count": 20,
     "metadata": {},
     "output_type": "execute_result"
    }
   ],
   "source": [
    "# female DataFrame with Clusters\n",
    "df_female.head()"
   ]
  },
  {
   "cell_type": "code",
   "execution_count": 21,
   "metadata": {
    "cell_id": "d6107fcc3ae54c82ab1e995306a90c66",
    "deepnote_cell_type": "code",
    "deepnote_to_be_reexecuted": false,
    "execution_millis": 10,
    "execution_start": 1677521402943,
    "source_hash": "7ab6a3da",
    "tags": []
   },
   "outputs": [
    {
     "data": {
      "application/vnd.deepnote.dataframe.v3+json": {
       "column_count": 11,
       "columns": [
        {
         "dtype": "uint16",
         "name": "Cluster",
         "stats": {
          "histogram": [
           {
            "bin_end": 0.1,
            "bin_start": 0,
            "count": 3
           },
           {
            "bin_end": 0.2,
            "bin_start": 0.1,
            "count": 0
           },
           {
            "bin_end": 0.30000000000000004,
            "bin_start": 0.2,
            "count": 0
           },
           {
            "bin_end": 0.4,
            "bin_start": 0.30000000000000004,
            "count": 0
           },
           {
            "bin_end": 0.5,
            "bin_start": 0.4,
            "count": 0
           },
           {
            "bin_end": 0.6000000000000001,
            "bin_start": 0.5,
            "count": 0
           },
           {
            "bin_end": 0.7000000000000001,
            "bin_start": 0.6000000000000001,
            "count": 0
           },
           {
            "bin_end": 0.8,
            "bin_start": 0.7000000000000001,
            "count": 0
           },
           {
            "bin_end": 0.9,
            "bin_start": 0.8,
            "count": 0
           },
           {
            "bin_end": 1,
            "bin_start": 0.9,
            "count": 2
           }
          ],
          "max": "1",
          "min": "0",
          "nan_count": 0,
          "unique_count": 2
         }
        },
        {
         "dtype": "int64",
         "name": "gender",
         "stats": {
          "histogram": [
           {
            "bin_end": -0.4,
            "bin_start": -0.5,
            "count": 0
           },
           {
            "bin_end": -0.3,
            "bin_start": -0.4,
            "count": 0
           },
           {
            "bin_end": -0.19999999999999996,
            "bin_start": -0.3,
            "count": 0
           },
           {
            "bin_end": -0.09999999999999998,
            "bin_start": -0.19999999999999996,
            "count": 0
           },
           {
            "bin_end": 0,
            "bin_start": -0.09999999999999998,
            "count": 0
           },
           {
            "bin_end": 0.10000000000000009,
            "bin_start": 0,
            "count": 5
           },
           {
            "bin_end": 0.20000000000000007,
            "bin_start": 0.10000000000000009,
            "count": 0
           },
           {
            "bin_end": 0.30000000000000004,
            "bin_start": 0.20000000000000007,
            "count": 0
           },
           {
            "bin_end": 0.4,
            "bin_start": 0.30000000000000004,
            "count": 0
           },
           {
            "bin_end": 0.5,
            "bin_start": 0.4,
            "count": 0
           }
          ],
          "max": "0",
          "min": "0",
          "nan_count": 0,
          "unique_count": 1
         }
        },
        {
         "dtype": "int64",
         "name": "age_bin",
         "stats": {
          "histogram": [
           {
            "bin_end": 3.2,
            "bin_start": 3,
            "count": 1
           },
           {
            "bin_end": 3.4,
            "bin_start": 3.2,
            "count": 0
           },
           {
            "bin_end": 3.6,
            "bin_start": 3.4,
            "count": 0
           },
           {
            "bin_end": 3.8,
            "bin_start": 3.6,
            "count": 0
           },
           {
            "bin_end": 4,
            "bin_start": 3.8,
            "count": 0
           },
           {
            "bin_end": 4.2,
            "bin_start": 4,
            "count": 2
           },
           {
            "bin_end": 4.4,
            "bin_start": 4.2,
            "count": 0
           },
           {
            "bin_end": 4.6,
            "bin_start": 4.4,
            "count": 0
           },
           {
            "bin_end": 4.8,
            "bin_start": 4.6,
            "count": 0
           },
           {
            "bin_end": 5,
            "bin_start": 4.8,
            "count": 2
           }
          ],
          "max": "5",
          "min": "3",
          "nan_count": 0,
          "unique_count": 3
         }
        },
        {
         "dtype": "int64",
         "name": "BMI_Class",
         "stats": {
          "histogram": [
           {
            "bin_end": 1.3,
            "bin_start": 1,
            "count": 2
           },
           {
            "bin_end": 1.6,
            "bin_start": 1.3,
            "count": 0
           },
           {
            "bin_end": 1.9,
            "bin_start": 1.6,
            "count": 0
           },
           {
            "bin_end": 2.2,
            "bin_start": 1.9,
            "count": 1
           },
           {
            "bin_end": 2.5,
            "bin_start": 2.2,
            "count": 0
           },
           {
            "bin_end": 2.8,
            "bin_start": 2.5,
            "count": 0
           },
           {
            "bin_end": 3.1,
            "bin_start": 2.8,
            "count": 0
           },
           {
            "bin_end": 3.4,
            "bin_start": 3.1,
            "count": 0
           },
           {
            "bin_end": 3.6999999999999997,
            "bin_start": 3.4,
            "count": 0
           },
           {
            "bin_end": 4,
            "bin_start": 3.6999999999999997,
            "count": 2
           }
          ],
          "max": "4",
          "min": "1",
          "nan_count": 0,
          "unique_count": 3
         }
        },
        {
         "dtype": "int64",
         "name": "MAP_Class",
         "stats": {
          "histogram": [
           {
            "bin_end": 0.3,
            "bin_start": 0,
            "count": 1
           },
           {
            "bin_end": 0.6,
            "bin_start": 0.3,
            "count": 0
           },
           {
            "bin_end": 0.8999999999999999,
            "bin_start": 0.6,
            "count": 0
           },
           {
            "bin_end": 1.2,
            "bin_start": 0.8999999999999999,
            "count": 0
           },
           {
            "bin_end": 1.5,
            "bin_start": 1.2,
            "count": 0
           },
           {
            "bin_end": 1.7999999999999998,
            "bin_start": 1.5,
            "count": 0
           },
           {
            "bin_end": 2.1,
            "bin_start": 1.7999999999999998,
            "count": 3
           },
           {
            "bin_end": 2.4,
            "bin_start": 2.1,
            "count": 0
           },
           {
            "bin_end": 2.6999999999999997,
            "bin_start": 2.4,
            "count": 0
           },
           {
            "bin_end": 3,
            "bin_start": 2.6999999999999997,
            "count": 1
           }
          ],
          "max": "3",
          "min": "0",
          "nan_count": 0,
          "unique_count": 3
         }
        },
        {
         "dtype": "int64",
         "name": "cholesterol",
         "stats": {
          "histogram": [
           {
            "bin_end": 0.2,
            "bin_start": 0,
            "count": 1
           },
           {
            "bin_end": 0.4,
            "bin_start": 0.2,
            "count": 0
           },
           {
            "bin_end": 0.6000000000000001,
            "bin_start": 0.4,
            "count": 0
           },
           {
            "bin_end": 0.8,
            "bin_start": 0.6000000000000001,
            "count": 0
           },
           {
            "bin_end": 1,
            "bin_start": 0.8,
            "count": 0
           },
           {
            "bin_end": 1.2000000000000002,
            "bin_start": 1,
            "count": 1
           },
           {
            "bin_end": 1.4000000000000001,
            "bin_start": 1.2000000000000002,
            "count": 0
           },
           {
            "bin_end": 1.6,
            "bin_start": 1.4000000000000001,
            "count": 0
           },
           {
            "bin_end": 1.8,
            "bin_start": 1.6,
            "count": 0
           },
           {
            "bin_end": 2,
            "bin_start": 1.8,
            "count": 3
           }
          ],
          "max": "2",
          "min": "0",
          "nan_count": 0,
          "unique_count": 3
         }
        },
        {
         "dtype": "int64",
         "name": "glucose",
         "stats": {
          "histogram": [
           {
            "bin_end": 0.1,
            "bin_start": 0,
            "count": 4
           },
           {
            "bin_end": 0.2,
            "bin_start": 0.1,
            "count": 0
           },
           {
            "bin_end": 0.30000000000000004,
            "bin_start": 0.2,
            "count": 0
           },
           {
            "bin_end": 0.4,
            "bin_start": 0.30000000000000004,
            "count": 0
           },
           {
            "bin_end": 0.5,
            "bin_start": 0.4,
            "count": 0
           },
           {
            "bin_end": 0.6000000000000001,
            "bin_start": 0.5,
            "count": 0
           },
           {
            "bin_end": 0.7000000000000001,
            "bin_start": 0.6000000000000001,
            "count": 0
           },
           {
            "bin_end": 0.8,
            "bin_start": 0.7000000000000001,
            "count": 0
           },
           {
            "bin_end": 0.9,
            "bin_start": 0.8,
            "count": 0
           },
           {
            "bin_end": 1,
            "bin_start": 0.9,
            "count": 1
           }
          ],
          "max": "1",
          "min": "0",
          "nan_count": 0,
          "unique_count": 2
         }
        },
        {
         "dtype": "int64",
         "name": "smoke",
         "stats": {
          "histogram": [
           {
            "bin_end": -0.4,
            "bin_start": -0.5,
            "count": 0
           },
           {
            "bin_end": -0.3,
            "bin_start": -0.4,
            "count": 0
           },
           {
            "bin_end": -0.19999999999999996,
            "bin_start": -0.3,
            "count": 0
           },
           {
            "bin_end": -0.09999999999999998,
            "bin_start": -0.19999999999999996,
            "count": 0
           },
           {
            "bin_end": 0,
            "bin_start": -0.09999999999999998,
            "count": 0
           },
           {
            "bin_end": 0.10000000000000009,
            "bin_start": 0,
            "count": 5
           },
           {
            "bin_end": 0.20000000000000007,
            "bin_start": 0.10000000000000009,
            "count": 0
           },
           {
            "bin_end": 0.30000000000000004,
            "bin_start": 0.20000000000000007,
            "count": 0
           },
           {
            "bin_end": 0.4,
            "bin_start": 0.30000000000000004,
            "count": 0
           },
           {
            "bin_end": 0.5,
            "bin_start": 0.4,
            "count": 0
           }
          ],
          "max": "0",
          "min": "0",
          "nan_count": 0,
          "unique_count": 1
         }
        },
        {
         "dtype": "int64",
         "name": "alcohol",
         "stats": {
          "histogram": [
           {
            "bin_end": -0.4,
            "bin_start": -0.5,
            "count": 0
           },
           {
            "bin_end": -0.3,
            "bin_start": -0.4,
            "count": 0
           },
           {
            "bin_end": -0.19999999999999996,
            "bin_start": -0.3,
            "count": 0
           },
           {
            "bin_end": -0.09999999999999998,
            "bin_start": -0.19999999999999996,
            "count": 0
           },
           {
            "bin_end": 0,
            "bin_start": -0.09999999999999998,
            "count": 0
           },
           {
            "bin_end": 0.10000000000000009,
            "bin_start": 0,
            "count": 5
           },
           {
            "bin_end": 0.20000000000000007,
            "bin_start": 0.10000000000000009,
            "count": 0
           },
           {
            "bin_end": 0.30000000000000004,
            "bin_start": 0.20000000000000007,
            "count": 0
           },
           {
            "bin_end": 0.4,
            "bin_start": 0.30000000000000004,
            "count": 0
           },
           {
            "bin_end": 0.5,
            "bin_start": 0.4,
            "count": 0
           }
          ],
          "max": "0",
          "min": "0",
          "nan_count": 0,
          "unique_count": 1
         }
        },
        {
         "dtype": "int64",
         "name": "active",
         "stats": {
          "histogram": [
           {
            "bin_end": 0.1,
            "bin_start": 0,
            "count": 3
           },
           {
            "bin_end": 0.2,
            "bin_start": 0.1,
            "count": 0
           },
           {
            "bin_end": 0.30000000000000004,
            "bin_start": 0.2,
            "count": 0
           },
           {
            "bin_end": 0.4,
            "bin_start": 0.30000000000000004,
            "count": 0
           },
           {
            "bin_end": 0.5,
            "bin_start": 0.4,
            "count": 0
           },
           {
            "bin_end": 0.6000000000000001,
            "bin_start": 0.5,
            "count": 0
           },
           {
            "bin_end": 0.7000000000000001,
            "bin_start": 0.6000000000000001,
            "count": 0
           },
           {
            "bin_end": 0.8,
            "bin_start": 0.7000000000000001,
            "count": 0
           },
           {
            "bin_end": 0.9,
            "bin_start": 0.8,
            "count": 0
           },
           {
            "bin_end": 1,
            "bin_start": 0.9,
            "count": 2
           }
          ],
          "max": "1",
          "min": "0",
          "nan_count": 0,
          "unique_count": 2
         }
        },
        {
         "dtype": "int64",
         "name": "cardiovascular_disease",
         "stats": {
          "histogram": [
           {
            "bin_end": 0.1,
            "bin_start": 0,
            "count": 3
           },
           {
            "bin_end": 0.2,
            "bin_start": 0.1,
            "count": 0
           },
           {
            "bin_end": 0.30000000000000004,
            "bin_start": 0.2,
            "count": 0
           },
           {
            "bin_end": 0.4,
            "bin_start": 0.30000000000000004,
            "count": 0
           },
           {
            "bin_end": 0.5,
            "bin_start": 0.4,
            "count": 0
           },
           {
            "bin_end": 0.6000000000000001,
            "bin_start": 0.5,
            "count": 0
           },
           {
            "bin_end": 0.7000000000000001,
            "bin_start": 0.6000000000000001,
            "count": 0
           },
           {
            "bin_end": 0.8,
            "bin_start": 0.7000000000000001,
            "count": 0
           },
           {
            "bin_end": 0.9,
            "bin_start": 0.8,
            "count": 0
           },
           {
            "bin_end": 1,
            "bin_start": 0.9,
            "count": 2
           }
          ],
          "max": "1",
          "min": "0",
          "nan_count": 0,
          "unique_count": 2
         }
        },
        {
         "dtype": "int64",
         "name": "_deepnote_index_column"
        }
       ],
       "row_count": 5,
       "rows": [
        {
         "BMI_Class": "4",
         "Cluster": "0",
         "MAP_Class": "3",
         "_deepnote_index_column": "1",
         "active": "1",
         "age_bin": "4",
         "alcohol": "0",
         "cardiovascular_disease": "1",
         "cholesterol": "2",
         "gender": "0",
         "glucose": "0",
         "smoke": "0"
        },
        {
         "BMI_Class": "1",
         "Cluster": "1",
         "MAP_Class": "2",
         "_deepnote_index_column": "2",
         "active": "0",
         "age_bin": "4",
         "alcohol": "0",
         "cardiovascular_disease": "1",
         "cholesterol": "2",
         "gender": "0",
         "glucose": "0",
         "smoke": "0"
        },
        {
         "BMI_Class": "1",
         "Cluster": "1",
         "MAP_Class": "0",
         "_deepnote_index_column": "4",
         "active": "0",
         "age_bin": "3",
         "alcohol": "0",
         "cardiovascular_disease": "0",
         "cholesterol": "0",
         "gender": "0",
         "glucose": "0",
         "smoke": "0"
        },
        {
         "BMI_Class": "2",
         "Cluster": "0",
         "MAP_Class": "2",
         "_deepnote_index_column": "5",
         "active": "0",
         "age_bin": "5",
         "alcohol": "0",
         "cardiovascular_disease": "0",
         "cholesterol": "1",
         "gender": "0",
         "glucose": "1",
         "smoke": "0"
        },
        {
         "BMI_Class": "4",
         "Cluster": "0",
         "MAP_Class": "2",
         "_deepnote_index_column": "6",
         "active": "1",
         "age_bin": "5",
         "alcohol": "0",
         "cardiovascular_disease": "0",
         "cholesterol": "2",
         "gender": "0",
         "glucose": "0",
         "smoke": "0"
        }
       ]
      },
      "text/html": [
       "<div>\n",
       "<style scoped>\n",
       "    .dataframe tbody tr th:only-of-type {\n",
       "        vertical-align: middle;\n",
       "    }\n",
       "\n",
       "    .dataframe tbody tr th {\n",
       "        vertical-align: top;\n",
       "    }\n",
       "\n",
       "    .dataframe thead th {\n",
       "        text-align: right;\n",
       "    }\n",
       "</style>\n",
       "<table border=\"1\" class=\"dataframe\">\n",
       "  <thead>\n",
       "    <tr style=\"text-align: right;\">\n",
       "      <th></th>\n",
       "      <th>Cluster</th>\n",
       "      <th>gender</th>\n",
       "      <th>age_bin</th>\n",
       "      <th>BMI_Class</th>\n",
       "      <th>MAP_Class</th>\n",
       "      <th>cholesterol</th>\n",
       "      <th>glucose</th>\n",
       "      <th>smoke</th>\n",
       "      <th>alcohol</th>\n",
       "      <th>active</th>\n",
       "      <th>cardiovascular_disease</th>\n",
       "    </tr>\n",
       "  </thead>\n",
       "  <tbody>\n",
       "    <tr>\n",
       "      <th>1</th>\n",
       "      <td>0</td>\n",
       "      <td>0</td>\n",
       "      <td>4</td>\n",
       "      <td>4</td>\n",
       "      <td>3</td>\n",
       "      <td>2</td>\n",
       "      <td>0</td>\n",
       "      <td>0</td>\n",
       "      <td>0</td>\n",
       "      <td>1</td>\n",
       "      <td>1</td>\n",
       "    </tr>\n",
       "    <tr>\n",
       "      <th>2</th>\n",
       "      <td>1</td>\n",
       "      <td>0</td>\n",
       "      <td>4</td>\n",
       "      <td>1</td>\n",
       "      <td>2</td>\n",
       "      <td>2</td>\n",
       "      <td>0</td>\n",
       "      <td>0</td>\n",
       "      <td>0</td>\n",
       "      <td>0</td>\n",
       "      <td>1</td>\n",
       "    </tr>\n",
       "    <tr>\n",
       "      <th>4</th>\n",
       "      <td>1</td>\n",
       "      <td>0</td>\n",
       "      <td>3</td>\n",
       "      <td>1</td>\n",
       "      <td>0</td>\n",
       "      <td>0</td>\n",
       "      <td>0</td>\n",
       "      <td>0</td>\n",
       "      <td>0</td>\n",
       "      <td>0</td>\n",
       "      <td>0</td>\n",
       "    </tr>\n",
       "    <tr>\n",
       "      <th>5</th>\n",
       "      <td>0</td>\n",
       "      <td>0</td>\n",
       "      <td>5</td>\n",
       "      <td>2</td>\n",
       "      <td>2</td>\n",
       "      <td>1</td>\n",
       "      <td>1</td>\n",
       "      <td>0</td>\n",
       "      <td>0</td>\n",
       "      <td>0</td>\n",
       "      <td>0</td>\n",
       "    </tr>\n",
       "    <tr>\n",
       "      <th>6</th>\n",
       "      <td>0</td>\n",
       "      <td>0</td>\n",
       "      <td>5</td>\n",
       "      <td>4</td>\n",
       "      <td>2</td>\n",
       "      <td>2</td>\n",
       "      <td>0</td>\n",
       "      <td>0</td>\n",
       "      <td>0</td>\n",
       "      <td>1</td>\n",
       "      <td>0</td>\n",
       "    </tr>\n",
       "  </tbody>\n",
       "</table>\n",
       "</div>"
      ],
      "text/plain": [
       "   Cluster  gender  age_bin  BMI_Class  MAP_Class  cholesterol  glucose  \\\n",
       "1        0       0        4          4          3            2        0   \n",
       "2        1       0        4          1          2            2        0   \n",
       "4        1       0        3          1          0            0        0   \n",
       "5        0       0        5          2          2            1        1   \n",
       "6        0       0        5          4          2            2        0   \n",
       "\n",
       "   smoke  alcohol  active  cardiovascular_disease  \n",
       "1      0        0       1                       1  \n",
       "2      0        0       0                       1  \n",
       "4      0        0       0                       0  \n",
       "5      0        0       0                       0  \n",
       "6      0        0       1                       0  "
      ]
     },
     "execution_count": 21,
     "metadata": {},
     "output_type": "execute_result"
    }
   ],
   "source": [
    "# female DataFrame with Clusters\n",
    "df_male.head()"
   ]
  },
  {
   "cell_type": "code",
   "execution_count": 22,
   "metadata": {
    "cell_id": "6c00aa22c2cb48ac8dc3770994e31f9c",
    "deepnote_cell_type": "code",
    "deepnote_to_be_reexecuted": false,
    "execution_millis": 42,
    "execution_start": 1677521516524,
    "source_hash": "857809b",
    "tags": []
   },
   "outputs": [
    {
     "data": {
      "application/vnd.deepnote.dataframe.v3+json": {
       "column_count": 11,
       "columns": [
        {
         "dtype": "int64",
         "name": "Cluster",
         "stats": {
          "histogram": [
           {
            "bin_end": 2.1,
            "bin_start": 2,
            "count": 3
           },
           {
            "bin_end": 2.2,
            "bin_start": 2.1,
            "count": 0
           },
           {
            "bin_end": 2.3,
            "bin_start": 2.2,
            "count": 0
           },
           {
            "bin_end": 2.4,
            "bin_start": 2.3,
            "count": 0
           },
           {
            "bin_end": 2.5,
            "bin_start": 2.4,
            "count": 0
           },
           {
            "bin_end": 2.6,
            "bin_start": 2.5,
            "count": 0
           },
           {
            "bin_end": 2.7,
            "bin_start": 2.6,
            "count": 0
           },
           {
            "bin_end": 2.8,
            "bin_start": 2.7,
            "count": 0
           },
           {
            "bin_end": 2.9,
            "bin_start": 2.8,
            "count": 0
           },
           {
            "bin_end": 3,
            "bin_start": 2.9,
            "count": 2
           }
          ],
          "max": "3",
          "min": "2",
          "nan_count": 0,
          "unique_count": 2
         }
        },
        {
         "dtype": "int64",
         "name": "gender",
         "stats": {
          "histogram": [
           {
            "bin_end": -0.4,
            "bin_start": -0.5,
            "count": 0
           },
           {
            "bin_end": -0.3,
            "bin_start": -0.4,
            "count": 0
           },
           {
            "bin_end": -0.19999999999999996,
            "bin_start": -0.3,
            "count": 0
           },
           {
            "bin_end": -0.09999999999999998,
            "bin_start": -0.19999999999999996,
            "count": 0
           },
           {
            "bin_end": 0,
            "bin_start": -0.09999999999999998,
            "count": 0
           },
           {
            "bin_end": 0.10000000000000009,
            "bin_start": 0,
            "count": 5
           },
           {
            "bin_end": 0.20000000000000007,
            "bin_start": 0.10000000000000009,
            "count": 0
           },
           {
            "bin_end": 0.30000000000000004,
            "bin_start": 0.20000000000000007,
            "count": 0
           },
           {
            "bin_end": 0.4,
            "bin_start": 0.30000000000000004,
            "count": 0
           },
           {
            "bin_end": 0.5,
            "bin_start": 0.4,
            "count": 0
           }
          ],
          "max": "0",
          "min": "0",
          "nan_count": 0,
          "unique_count": 1
         }
        },
        {
         "dtype": "int64",
         "name": "age_bin",
         "stats": {
          "histogram": [
           {
            "bin_end": 3.2,
            "bin_start": 3,
            "count": 1
           },
           {
            "bin_end": 3.4,
            "bin_start": 3.2,
            "count": 0
           },
           {
            "bin_end": 3.6,
            "bin_start": 3.4,
            "count": 0
           },
           {
            "bin_end": 3.8,
            "bin_start": 3.6,
            "count": 0
           },
           {
            "bin_end": 4,
            "bin_start": 3.8,
            "count": 0
           },
           {
            "bin_end": 4.2,
            "bin_start": 4,
            "count": 2
           },
           {
            "bin_end": 4.4,
            "bin_start": 4.2,
            "count": 0
           },
           {
            "bin_end": 4.6,
            "bin_start": 4.4,
            "count": 0
           },
           {
            "bin_end": 4.8,
            "bin_start": 4.6,
            "count": 0
           },
           {
            "bin_end": 5,
            "bin_start": 4.8,
            "count": 2
           }
          ],
          "max": "5",
          "min": "3",
          "nan_count": 0,
          "unique_count": 3
         }
        },
        {
         "dtype": "int64",
         "name": "BMI_Class",
         "stats": {
          "histogram": [
           {
            "bin_end": 1.3,
            "bin_start": 1,
            "count": 2
           },
           {
            "bin_end": 1.6,
            "bin_start": 1.3,
            "count": 0
           },
           {
            "bin_end": 1.9,
            "bin_start": 1.6,
            "count": 0
           },
           {
            "bin_end": 2.2,
            "bin_start": 1.9,
            "count": 1
           },
           {
            "bin_end": 2.5,
            "bin_start": 2.2,
            "count": 0
           },
           {
            "bin_end": 2.8,
            "bin_start": 2.5,
            "count": 0
           },
           {
            "bin_end": 3.1,
            "bin_start": 2.8,
            "count": 0
           },
           {
            "bin_end": 3.4,
            "bin_start": 3.1,
            "count": 0
           },
           {
            "bin_end": 3.6999999999999997,
            "bin_start": 3.4,
            "count": 0
           },
           {
            "bin_end": 4,
            "bin_start": 3.6999999999999997,
            "count": 2
           }
          ],
          "max": "4",
          "min": "1",
          "nan_count": 0,
          "unique_count": 3
         }
        },
        {
         "dtype": "int64",
         "name": "MAP_Class",
         "stats": {
          "histogram": [
           {
            "bin_end": 0.3,
            "bin_start": 0,
            "count": 1
           },
           {
            "bin_end": 0.6,
            "bin_start": 0.3,
            "count": 0
           },
           {
            "bin_end": 0.8999999999999999,
            "bin_start": 0.6,
            "count": 0
           },
           {
            "bin_end": 1.2,
            "bin_start": 0.8999999999999999,
            "count": 0
           },
           {
            "bin_end": 1.5,
            "bin_start": 1.2,
            "count": 0
           },
           {
            "bin_end": 1.7999999999999998,
            "bin_start": 1.5,
            "count": 0
           },
           {
            "bin_end": 2.1,
            "bin_start": 1.7999999999999998,
            "count": 3
           },
           {
            "bin_end": 2.4,
            "bin_start": 2.1,
            "count": 0
           },
           {
            "bin_end": 2.6999999999999997,
            "bin_start": 2.4,
            "count": 0
           },
           {
            "bin_end": 3,
            "bin_start": 2.6999999999999997,
            "count": 1
           }
          ],
          "max": "3",
          "min": "0",
          "nan_count": 0,
          "unique_count": 3
         }
        },
        {
         "dtype": "int64",
         "name": "cholesterol",
         "stats": {
          "histogram": [
           {
            "bin_end": 0.2,
            "bin_start": 0,
            "count": 1
           },
           {
            "bin_end": 0.4,
            "bin_start": 0.2,
            "count": 0
           },
           {
            "bin_end": 0.6000000000000001,
            "bin_start": 0.4,
            "count": 0
           },
           {
            "bin_end": 0.8,
            "bin_start": 0.6000000000000001,
            "count": 0
           },
           {
            "bin_end": 1,
            "bin_start": 0.8,
            "count": 0
           },
           {
            "bin_end": 1.2000000000000002,
            "bin_start": 1,
            "count": 1
           },
           {
            "bin_end": 1.4000000000000001,
            "bin_start": 1.2000000000000002,
            "count": 0
           },
           {
            "bin_end": 1.6,
            "bin_start": 1.4000000000000001,
            "count": 0
           },
           {
            "bin_end": 1.8,
            "bin_start": 1.6,
            "count": 0
           },
           {
            "bin_end": 2,
            "bin_start": 1.8,
            "count": 3
           }
          ],
          "max": "2",
          "min": "0",
          "nan_count": 0,
          "unique_count": 3
         }
        },
        {
         "dtype": "int64",
         "name": "glucose",
         "stats": {
          "histogram": [
           {
            "bin_end": 0.1,
            "bin_start": 0,
            "count": 4
           },
           {
            "bin_end": 0.2,
            "bin_start": 0.1,
            "count": 0
           },
           {
            "bin_end": 0.30000000000000004,
            "bin_start": 0.2,
            "count": 0
           },
           {
            "bin_end": 0.4,
            "bin_start": 0.30000000000000004,
            "count": 0
           },
           {
            "bin_end": 0.5,
            "bin_start": 0.4,
            "count": 0
           },
           {
            "bin_end": 0.6000000000000001,
            "bin_start": 0.5,
            "count": 0
           },
           {
            "bin_end": 0.7000000000000001,
            "bin_start": 0.6000000000000001,
            "count": 0
           },
           {
            "bin_end": 0.8,
            "bin_start": 0.7000000000000001,
            "count": 0
           },
           {
            "bin_end": 0.9,
            "bin_start": 0.8,
            "count": 0
           },
           {
            "bin_end": 1,
            "bin_start": 0.9,
            "count": 1
           }
          ],
          "max": "1",
          "min": "0",
          "nan_count": 0,
          "unique_count": 2
         }
        },
        {
         "dtype": "int64",
         "name": "smoke",
         "stats": {
          "histogram": [
           {
            "bin_end": -0.4,
            "bin_start": -0.5,
            "count": 0
           },
           {
            "bin_end": -0.3,
            "bin_start": -0.4,
            "count": 0
           },
           {
            "bin_end": -0.19999999999999996,
            "bin_start": -0.3,
            "count": 0
           },
           {
            "bin_end": -0.09999999999999998,
            "bin_start": -0.19999999999999996,
            "count": 0
           },
           {
            "bin_end": 0,
            "bin_start": -0.09999999999999998,
            "count": 0
           },
           {
            "bin_end": 0.10000000000000009,
            "bin_start": 0,
            "count": 5
           },
           {
            "bin_end": 0.20000000000000007,
            "bin_start": 0.10000000000000009,
            "count": 0
           },
           {
            "bin_end": 0.30000000000000004,
            "bin_start": 0.20000000000000007,
            "count": 0
           },
           {
            "bin_end": 0.4,
            "bin_start": 0.30000000000000004,
            "count": 0
           },
           {
            "bin_end": 0.5,
            "bin_start": 0.4,
            "count": 0
           }
          ],
          "max": "0",
          "min": "0",
          "nan_count": 0,
          "unique_count": 1
         }
        },
        {
         "dtype": "int64",
         "name": "alcohol",
         "stats": {
          "histogram": [
           {
            "bin_end": -0.4,
            "bin_start": -0.5,
            "count": 0
           },
           {
            "bin_end": -0.3,
            "bin_start": -0.4,
            "count": 0
           },
           {
            "bin_end": -0.19999999999999996,
            "bin_start": -0.3,
            "count": 0
           },
           {
            "bin_end": -0.09999999999999998,
            "bin_start": -0.19999999999999996,
            "count": 0
           },
           {
            "bin_end": 0,
            "bin_start": -0.09999999999999998,
            "count": 0
           },
           {
            "bin_end": 0.10000000000000009,
            "bin_start": 0,
            "count": 5
           },
           {
            "bin_end": 0.20000000000000007,
            "bin_start": 0.10000000000000009,
            "count": 0
           },
           {
            "bin_end": 0.30000000000000004,
            "bin_start": 0.20000000000000007,
            "count": 0
           },
           {
            "bin_end": 0.4,
            "bin_start": 0.30000000000000004,
            "count": 0
           },
           {
            "bin_end": 0.5,
            "bin_start": 0.4,
            "count": 0
           }
          ],
          "max": "0",
          "min": "0",
          "nan_count": 0,
          "unique_count": 1
         }
        },
        {
         "dtype": "int64",
         "name": "active",
         "stats": {
          "histogram": [
           {
            "bin_end": 0.1,
            "bin_start": 0,
            "count": 3
           },
           {
            "bin_end": 0.2,
            "bin_start": 0.1,
            "count": 0
           },
           {
            "bin_end": 0.30000000000000004,
            "bin_start": 0.2,
            "count": 0
           },
           {
            "bin_end": 0.4,
            "bin_start": 0.30000000000000004,
            "count": 0
           },
           {
            "bin_end": 0.5,
            "bin_start": 0.4,
            "count": 0
           },
           {
            "bin_end": 0.6000000000000001,
            "bin_start": 0.5,
            "count": 0
           },
           {
            "bin_end": 0.7000000000000001,
            "bin_start": 0.6000000000000001,
            "count": 0
           },
           {
            "bin_end": 0.8,
            "bin_start": 0.7000000000000001,
            "count": 0
           },
           {
            "bin_end": 0.9,
            "bin_start": 0.8,
            "count": 0
           },
           {
            "bin_end": 1,
            "bin_start": 0.9,
            "count": 2
           }
          ],
          "max": "1",
          "min": "0",
          "nan_count": 0,
          "unique_count": 2
         }
        },
        {
         "dtype": "int64",
         "name": "cardiovascular_disease",
         "stats": {
          "histogram": [
           {
            "bin_end": 0.1,
            "bin_start": 0,
            "count": 3
           },
           {
            "bin_end": 0.2,
            "bin_start": 0.1,
            "count": 0
           },
           {
            "bin_end": 0.30000000000000004,
            "bin_start": 0.2,
            "count": 0
           },
           {
            "bin_end": 0.4,
            "bin_start": 0.30000000000000004,
            "count": 0
           },
           {
            "bin_end": 0.5,
            "bin_start": 0.4,
            "count": 0
           },
           {
            "bin_end": 0.6000000000000001,
            "bin_start": 0.5,
            "count": 0
           },
           {
            "bin_end": 0.7000000000000001,
            "bin_start": 0.6000000000000001,
            "count": 0
           },
           {
            "bin_end": 0.8,
            "bin_start": 0.7000000000000001,
            "count": 0
           },
           {
            "bin_end": 0.9,
            "bin_start": 0.8,
            "count": 0
           },
           {
            "bin_end": 1,
            "bin_start": 0.9,
            "count": 2
           }
          ],
          "max": "1",
          "min": "0",
          "nan_count": 0,
          "unique_count": 2
         }
        },
        {
         "dtype": "int64",
         "name": "_deepnote_index_column"
        }
       ],
       "row_count": 5,
       "rows": [
        {
         "BMI_Class": "4",
         "Cluster": "2",
         "MAP_Class": "3",
         "_deepnote_index_column": "1",
         "active": "1",
         "age_bin": "4",
         "alcohol": "0",
         "cardiovascular_disease": "1",
         "cholesterol": "2",
         "gender": "0",
         "glucose": "0",
         "smoke": "0"
        },
        {
         "BMI_Class": "1",
         "Cluster": "3",
         "MAP_Class": "2",
         "_deepnote_index_column": "2",
         "active": "0",
         "age_bin": "4",
         "alcohol": "0",
         "cardiovascular_disease": "1",
         "cholesterol": "2",
         "gender": "0",
         "glucose": "0",
         "smoke": "0"
        },
        {
         "BMI_Class": "1",
         "Cluster": "3",
         "MAP_Class": "0",
         "_deepnote_index_column": "4",
         "active": "0",
         "age_bin": "3",
         "alcohol": "0",
         "cardiovascular_disease": "0",
         "cholesterol": "0",
         "gender": "0",
         "glucose": "0",
         "smoke": "0"
        },
        {
         "BMI_Class": "2",
         "Cluster": "2",
         "MAP_Class": "2",
         "_deepnote_index_column": "5",
         "active": "0",
         "age_bin": "5",
         "alcohol": "0",
         "cardiovascular_disease": "0",
         "cholesterol": "1",
         "gender": "0",
         "glucose": "1",
         "smoke": "0"
        },
        {
         "BMI_Class": "4",
         "Cluster": "2",
         "MAP_Class": "2",
         "_deepnote_index_column": "6",
         "active": "1",
         "age_bin": "5",
         "alcohol": "0",
         "cardiovascular_disease": "0",
         "cholesterol": "2",
         "gender": "0",
         "glucose": "0",
         "smoke": "0"
        }
       ]
      },
      "text/html": [
       "<div>\n",
       "<style scoped>\n",
       "    .dataframe tbody tr th:only-of-type {\n",
       "        vertical-align: middle;\n",
       "    }\n",
       "\n",
       "    .dataframe tbody tr th {\n",
       "        vertical-align: top;\n",
       "    }\n",
       "\n",
       "    .dataframe thead th {\n",
       "        text-align: right;\n",
       "    }\n",
       "</style>\n",
       "<table border=\"1\" class=\"dataframe\">\n",
       "  <thead>\n",
       "    <tr style=\"text-align: right;\">\n",
       "      <th></th>\n",
       "      <th>Cluster</th>\n",
       "      <th>gender</th>\n",
       "      <th>age_bin</th>\n",
       "      <th>BMI_Class</th>\n",
       "      <th>MAP_Class</th>\n",
       "      <th>cholesterol</th>\n",
       "      <th>glucose</th>\n",
       "      <th>smoke</th>\n",
       "      <th>alcohol</th>\n",
       "      <th>active</th>\n",
       "      <th>cardiovascular_disease</th>\n",
       "    </tr>\n",
       "  </thead>\n",
       "  <tbody>\n",
       "    <tr>\n",
       "      <th>1</th>\n",
       "      <td>2</td>\n",
       "      <td>0</td>\n",
       "      <td>4</td>\n",
       "      <td>4</td>\n",
       "      <td>3</td>\n",
       "      <td>2</td>\n",
       "      <td>0</td>\n",
       "      <td>0</td>\n",
       "      <td>0</td>\n",
       "      <td>1</td>\n",
       "      <td>1</td>\n",
       "    </tr>\n",
       "    <tr>\n",
       "      <th>2</th>\n",
       "      <td>3</td>\n",
       "      <td>0</td>\n",
       "      <td>4</td>\n",
       "      <td>1</td>\n",
       "      <td>2</td>\n",
       "      <td>2</td>\n",
       "      <td>0</td>\n",
       "      <td>0</td>\n",
       "      <td>0</td>\n",
       "      <td>0</td>\n",
       "      <td>1</td>\n",
       "    </tr>\n",
       "    <tr>\n",
       "      <th>4</th>\n",
       "      <td>3</td>\n",
       "      <td>0</td>\n",
       "      <td>3</td>\n",
       "      <td>1</td>\n",
       "      <td>0</td>\n",
       "      <td>0</td>\n",
       "      <td>0</td>\n",
       "      <td>0</td>\n",
       "      <td>0</td>\n",
       "      <td>0</td>\n",
       "      <td>0</td>\n",
       "    </tr>\n",
       "    <tr>\n",
       "      <th>5</th>\n",
       "      <td>2</td>\n",
       "      <td>0</td>\n",
       "      <td>5</td>\n",
       "      <td>2</td>\n",
       "      <td>2</td>\n",
       "      <td>1</td>\n",
       "      <td>1</td>\n",
       "      <td>0</td>\n",
       "      <td>0</td>\n",
       "      <td>0</td>\n",
       "      <td>0</td>\n",
       "    </tr>\n",
       "    <tr>\n",
       "      <th>6</th>\n",
       "      <td>2</td>\n",
       "      <td>0</td>\n",
       "      <td>5</td>\n",
       "      <td>4</td>\n",
       "      <td>2</td>\n",
       "      <td>2</td>\n",
       "      <td>0</td>\n",
       "      <td>0</td>\n",
       "      <td>0</td>\n",
       "      <td>1</td>\n",
       "      <td>0</td>\n",
       "    </tr>\n",
       "  </tbody>\n",
       "</table>\n",
       "</div>"
      ],
      "text/plain": [
       "   Cluster  gender  age_bin  BMI_Class  MAP_Class  cholesterol  glucose  \\\n",
       "1        2       0        4          4          3            2        0   \n",
       "2        3       0        4          1          2            2        0   \n",
       "4        3       0        3          1          0            0        0   \n",
       "5        2       0        5          2          2            1        1   \n",
       "6        2       0        5          4          2            2        0   \n",
       "\n",
       "   smoke  alcohol  active  cardiovascular_disease  \n",
       "1      0        0       1                       1  \n",
       "2      0        0       0                       1  \n",
       "4      0        0       0                       0  \n",
       "5      0        0       0                       0  \n",
       "6      0        0       1                       0  "
      ]
     },
     "execution_count": 22,
     "metadata": {},
     "output_type": "execute_result"
    }
   ],
   "source": [
    "# replacing cluster column values to merge dataframes after\n",
    "df_male[\"Cluster\"].replace({0:2, 1:3}, inplace=True)\n",
    "df_male.head()"
   ]
  },
  {
   "cell_type": "code",
   "execution_count": 23,
   "metadata": {
    "cell_id": "fb23f1b1e62246a7bc5dc5db11157d3f",
    "deepnote_cell_type": "code",
    "deepnote_to_be_reexecuted": false,
    "execution_millis": 26,
    "execution_start": 1677521552885,
    "source_hash": "37bbd320",
    "tags": []
   },
   "outputs": [
    {
     "data": {
      "application/vnd.deepnote.dataframe.v3+json": {
       "column_count": 11,
       "columns": [
        {
         "dtype": "int64",
         "name": "Cluster",
         "stats": {
          "histogram": [
           {
            "bin_end": 0.1,
            "bin_start": 0,
            "count": 7
           },
           {
            "bin_end": 0.2,
            "bin_start": 0.1,
            "count": 0
           },
           {
            "bin_end": 0.30000000000000004,
            "bin_start": 0.2,
            "count": 0
           },
           {
            "bin_end": 0.4,
            "bin_start": 0.30000000000000004,
            "count": 0
           },
           {
            "bin_end": 0.5,
            "bin_start": 0.4,
            "count": 0
           },
           {
            "bin_end": 0.6000000000000001,
            "bin_start": 0.5,
            "count": 0
           },
           {
            "bin_end": 0.7000000000000001,
            "bin_start": 0.6000000000000001,
            "count": 0
           },
           {
            "bin_end": 0.8,
            "bin_start": 0.7000000000000001,
            "count": 0
           },
           {
            "bin_end": 0.9,
            "bin_start": 0.8,
            "count": 0
           },
           {
            "bin_end": 1,
            "bin_start": 0.9,
            "count": 3
           }
          ],
          "max": "1",
          "min": "0",
          "nan_count": 0,
          "unique_count": 2
         }
        },
        {
         "dtype": "int64",
         "name": "gender",
         "stats": {
          "histogram": [
           {
            "bin_end": 0.6,
            "bin_start": 0.5,
            "count": 0
           },
           {
            "bin_end": 0.7,
            "bin_start": 0.6,
            "count": 0
           },
           {
            "bin_end": 0.8,
            "bin_start": 0.7,
            "count": 0
           },
           {
            "bin_end": 0.9,
            "bin_start": 0.8,
            "count": 0
           },
           {
            "bin_end": 1,
            "bin_start": 0.9,
            "count": 0
           },
           {
            "bin_end": 1.1,
            "bin_start": 1,
            "count": 10
           },
           {
            "bin_end": 1.2000000000000002,
            "bin_start": 1.1,
            "count": 0
           },
           {
            "bin_end": 1.3,
            "bin_start": 1.2000000000000002,
            "count": 0
           },
           {
            "bin_end": 1.4,
            "bin_start": 1.3,
            "count": 0
           },
           {
            "bin_end": 1.5,
            "bin_start": 1.4,
            "count": 0
           }
          ],
          "max": "1",
          "min": "1",
          "nan_count": 0,
          "unique_count": 1
         }
        },
        {
         "dtype": "int64",
         "name": "age_bin",
         "stats": {
          "histogram": [
           {
            "bin_end": 1.5,
            "bin_start": 1,
            "count": 2
           },
           {
            "bin_end": 2,
            "bin_start": 1.5,
            "count": 0
           },
           {
            "bin_end": 2.5,
            "bin_start": 2,
            "count": 0
           },
           {
            "bin_end": 3,
            "bin_start": 2.5,
            "count": 0
           },
           {
            "bin_end": 3.5,
            "bin_start": 3,
            "count": 2
           },
           {
            "bin_end": 4,
            "bin_start": 3.5,
            "count": 0
           },
           {
            "bin_end": 4.5,
            "bin_start": 4,
            "count": 2
           },
           {
            "bin_end": 5,
            "bin_start": 4.5,
            "count": 0
           },
           {
            "bin_end": 5.5,
            "bin_start": 5,
            "count": 3
           },
           {
            "bin_end": 6,
            "bin_start": 5.5,
            "count": 1
           }
          ],
          "max": "6",
          "min": "1",
          "nan_count": 0,
          "unique_count": 5
         }
        },
        {
         "dtype": "int64",
         "name": "BMI_Class",
         "stats": {
          "histogram": [
           {
            "bin_end": 1.2,
            "bin_start": 1,
            "count": 5
           },
           {
            "bin_end": 1.4,
            "bin_start": 1.2,
            "count": 0
           },
           {
            "bin_end": 1.6,
            "bin_start": 1.4,
            "count": 0
           },
           {
            "bin_end": 1.8,
            "bin_start": 1.6,
            "count": 0
           },
           {
            "bin_end": 2,
            "bin_start": 1.8,
            "count": 0
           },
           {
            "bin_end": 2.2,
            "bin_start": 2,
            "count": 3
           },
           {
            "bin_end": 2.4000000000000004,
            "bin_start": 2.2,
            "count": 0
           },
           {
            "bin_end": 2.6,
            "bin_start": 2.4000000000000004,
            "count": 0
           },
           {
            "bin_end": 2.8,
            "bin_start": 2.6,
            "count": 0
           },
           {
            "bin_end": 3,
            "bin_start": 2.8,
            "count": 2
           }
          ],
          "max": "3",
          "min": "1",
          "nan_count": 0,
          "unique_count": 3
         }
        },
        {
         "dtype": "int64",
         "name": "MAP_Class",
         "stats": {
          "histogram": [
           {
            "bin_end": 1.3,
            "bin_start": 1,
            "count": 1
           },
           {
            "bin_end": 1.6,
            "bin_start": 1.3,
            "count": 0
           },
           {
            "bin_end": 1.9,
            "bin_start": 1.6,
            "count": 0
           },
           {
            "bin_end": 2.2,
            "bin_start": 1.9,
            "count": 6
           },
           {
            "bin_end": 2.5,
            "bin_start": 2.2,
            "count": 0
           },
           {
            "bin_end": 2.8,
            "bin_start": 2.5,
            "count": 0
           },
           {
            "bin_end": 3.1,
            "bin_start": 2.8,
            "count": 2
           },
           {
            "bin_end": 3.4,
            "bin_start": 3.1,
            "count": 0
           },
           {
            "bin_end": 3.6999999999999997,
            "bin_start": 3.4,
            "count": 0
           },
           {
            "bin_end": 4,
            "bin_start": 3.6999999999999997,
            "count": 1
           }
          ],
          "max": "4",
          "min": "1",
          "nan_count": 0,
          "unique_count": 4
         }
        },
        {
         "dtype": "int64",
         "name": "cholesterol",
         "stats": {
          "histogram": [
           {
            "bin_end": 0.2,
            "bin_start": 0,
            "count": 8
           },
           {
            "bin_end": 0.4,
            "bin_start": 0.2,
            "count": 0
           },
           {
            "bin_end": 0.6000000000000001,
            "bin_start": 0.4,
            "count": 0
           },
           {
            "bin_end": 0.8,
            "bin_start": 0.6000000000000001,
            "count": 0
           },
           {
            "bin_end": 1,
            "bin_start": 0.8,
            "count": 0
           },
           {
            "bin_end": 1.2000000000000002,
            "bin_start": 1,
            "count": 0
           },
           {
            "bin_end": 1.4000000000000001,
            "bin_start": 1.2000000000000002,
            "count": 0
           },
           {
            "bin_end": 1.6,
            "bin_start": 1.4000000000000001,
            "count": 0
           },
           {
            "bin_end": 1.8,
            "bin_start": 1.6,
            "count": 0
           },
           {
            "bin_end": 2,
            "bin_start": 1.8,
            "count": 2
           }
          ],
          "max": "2",
          "min": "0",
          "nan_count": 0,
          "unique_count": 2
         }
        },
        {
         "dtype": "int64",
         "name": "glucose",
         "stats": {
          "histogram": [
           {
            "bin_end": 0.2,
            "bin_start": 0,
            "count": 8
           },
           {
            "bin_end": 0.4,
            "bin_start": 0.2,
            "count": 0
           },
           {
            "bin_end": 0.6000000000000001,
            "bin_start": 0.4,
            "count": 0
           },
           {
            "bin_end": 0.8,
            "bin_start": 0.6000000000000001,
            "count": 0
           },
           {
            "bin_end": 1,
            "bin_start": 0.8,
            "count": 0
           },
           {
            "bin_end": 1.2000000000000002,
            "bin_start": 1,
            "count": 0
           },
           {
            "bin_end": 1.4000000000000001,
            "bin_start": 1.2000000000000002,
            "count": 0
           },
           {
            "bin_end": 1.6,
            "bin_start": 1.4000000000000001,
            "count": 0
           },
           {
            "bin_end": 1.8,
            "bin_start": 1.6,
            "count": 0
           },
           {
            "bin_end": 2,
            "bin_start": 1.8,
            "count": 2
           }
          ],
          "max": "2",
          "min": "0",
          "nan_count": 0,
          "unique_count": 2
         }
        },
        {
         "dtype": "int64",
         "name": "smoke",
         "stats": {
          "histogram": [
           {
            "bin_end": 0.1,
            "bin_start": 0,
            "count": 9
           },
           {
            "bin_end": 0.2,
            "bin_start": 0.1,
            "count": 0
           },
           {
            "bin_end": 0.30000000000000004,
            "bin_start": 0.2,
            "count": 0
           },
           {
            "bin_end": 0.4,
            "bin_start": 0.30000000000000004,
            "count": 0
           },
           {
            "bin_end": 0.5,
            "bin_start": 0.4,
            "count": 0
           },
           {
            "bin_end": 0.6000000000000001,
            "bin_start": 0.5,
            "count": 0
           },
           {
            "bin_end": 0.7000000000000001,
            "bin_start": 0.6000000000000001,
            "count": 0
           },
           {
            "bin_end": 0.8,
            "bin_start": 0.7000000000000001,
            "count": 0
           },
           {
            "bin_end": 0.9,
            "bin_start": 0.8,
            "count": 0
           },
           {
            "bin_end": 1,
            "bin_start": 0.9,
            "count": 1
           }
          ],
          "max": "1",
          "min": "0",
          "nan_count": 0,
          "unique_count": 2
         }
        },
        {
         "dtype": "int64",
         "name": "alcohol",
         "stats": {
          "histogram": [
           {
            "bin_end": -0.4,
            "bin_start": -0.5,
            "count": 0
           },
           {
            "bin_end": -0.3,
            "bin_start": -0.4,
            "count": 0
           },
           {
            "bin_end": -0.19999999999999996,
            "bin_start": -0.3,
            "count": 0
           },
           {
            "bin_end": -0.09999999999999998,
            "bin_start": -0.19999999999999996,
            "count": 0
           },
           {
            "bin_end": 0,
            "bin_start": -0.09999999999999998,
            "count": 0
           },
           {
            "bin_end": 0.10000000000000009,
            "bin_start": 0,
            "count": 10
           },
           {
            "bin_end": 0.20000000000000007,
            "bin_start": 0.10000000000000009,
            "count": 0
           },
           {
            "bin_end": 0.30000000000000004,
            "bin_start": 0.20000000000000007,
            "count": 0
           },
           {
            "bin_end": 0.4,
            "bin_start": 0.30000000000000004,
            "count": 0
           },
           {
            "bin_end": 0.5,
            "bin_start": 0.4,
            "count": 0
           }
          ],
          "max": "0",
          "min": "0",
          "nan_count": 0,
          "unique_count": 1
         }
        },
        {
         "dtype": "int64",
         "name": "active",
         "stats": {
          "histogram": [
           {
            "bin_end": 0.1,
            "bin_start": 0,
            "count": 3
           },
           {
            "bin_end": 0.2,
            "bin_start": 0.1,
            "count": 0
           },
           {
            "bin_end": 0.30000000000000004,
            "bin_start": 0.2,
            "count": 0
           },
           {
            "bin_end": 0.4,
            "bin_start": 0.30000000000000004,
            "count": 0
           },
           {
            "bin_end": 0.5,
            "bin_start": 0.4,
            "count": 0
           },
           {
            "bin_end": 0.6000000000000001,
            "bin_start": 0.5,
            "count": 0
           },
           {
            "bin_end": 0.7000000000000001,
            "bin_start": 0.6000000000000001,
            "count": 0
           },
           {
            "bin_end": 0.8,
            "bin_start": 0.7000000000000001,
            "count": 0
           },
           {
            "bin_end": 0.9,
            "bin_start": 0.8,
            "count": 0
           },
           {
            "bin_end": 1,
            "bin_start": 0.9,
            "count": 7
           }
          ],
          "max": "1",
          "min": "0",
          "nan_count": 0,
          "unique_count": 2
         }
        },
        {
         "dtype": "int64",
         "name": "cardiovascular_disease",
         "stats": {
          "histogram": [
           {
            "bin_end": 0.1,
            "bin_start": 0,
            "count": 7
           },
           {
            "bin_end": 0.2,
            "bin_start": 0.1,
            "count": 0
           },
           {
            "bin_end": 0.30000000000000004,
            "bin_start": 0.2,
            "count": 0
           },
           {
            "bin_end": 0.4,
            "bin_start": 0.30000000000000004,
            "count": 0
           },
           {
            "bin_end": 0.5,
            "bin_start": 0.4,
            "count": 0
           },
           {
            "bin_end": 0.6000000000000001,
            "bin_start": 0.5,
            "count": 0
           },
           {
            "bin_end": 0.7000000000000001,
            "bin_start": 0.6000000000000001,
            "count": 0
           },
           {
            "bin_end": 0.8,
            "bin_start": 0.7000000000000001,
            "count": 0
           },
           {
            "bin_end": 0.9,
            "bin_start": 0.8,
            "count": 0
           },
           {
            "bin_end": 1,
            "bin_start": 0.9,
            "count": 3
           }
          ],
          "max": "1",
          "min": "0",
          "nan_count": 0,
          "unique_count": 2
         }
        },
        {
         "dtype": "int64",
         "name": "_deepnote_index_column"
        }
       ],
       "row_count": 10,
       "rows": [
        {
         "BMI_Class": "1",
         "Cluster": "0",
         "MAP_Class": "2",
         "_deepnote_index_column": "0",
         "active": "1",
         "age_bin": "3",
         "alcohol": "0",
         "cardiovascular_disease": "0",
         "cholesterol": "0",
         "gender": "1",
         "glucose": "0",
         "smoke": "0"
        },
        {
         "BMI_Class": "2",
         "Cluster": "1",
         "MAP_Class": "4",
         "_deepnote_index_column": "1",
         "active": "1",
         "age_bin": "3",
         "alcohol": "0",
         "cardiovascular_disease": "1",
         "cholesterol": "0",
         "gender": "1",
         "glucose": "0",
         "smoke": "0"
        },
        {
         "BMI_Class": "3",
         "Cluster": "1",
         "MAP_Class": "3",
         "_deepnote_index_column": "2",
         "active": "1",
         "age_bin": "6",
         "alcohol": "0",
         "cardiovascular_disease": "1",
         "cholesterol": "2",
         "gender": "1",
         "glucose": "2",
         "smoke": "0"
        },
        {
         "BMI_Class": "1",
         "Cluster": "0",
         "MAP_Class": "2",
         "_deepnote_index_column": "3",
         "active": "1",
         "age_bin": "4",
         "alcohol": "0",
         "cardiovascular_disease": "0",
         "cholesterol": "0",
         "gender": "1",
         "glucose": "0",
         "smoke": "0"
        },
        {
         "BMI_Class": "1",
         "Cluster": "0",
         "MAP_Class": "2",
         "_deepnote_index_column": "4",
         "active": "0",
         "age_bin": "1",
         "alcohol": "0",
         "cardiovascular_disease": "0",
         "cholesterol": "0",
         "gender": "1",
         "glucose": "0",
         "smoke": "0"
        },
        {
         "BMI_Class": "1",
         "Cluster": "0",
         "MAP_Class": "1",
         "_deepnote_index_column": "5",
         "active": "1",
         "age_bin": "5",
         "alcohol": "0",
         "cardiovascular_disease": "0",
         "cholesterol": "0",
         "gender": "1",
         "glucose": "0",
         "smoke": "1"
        },
        {
         "BMI_Class": "3",
         "Cluster": "0",
         "MAP_Class": "2",
         "_deepnote_index_column": "6",
         "active": "1",
         "age_bin": "4",
         "alcohol": "0",
         "cardiovascular_disease": "0",
         "cholesterol": "0",
         "gender": "1",
         "glucose": "0",
         "smoke": "0"
        },
        {
         "BMI_Class": "1",
         "Cluster": "0",
         "MAP_Class": "2",
         "_deepnote_index_column": "7",
         "active": "1",
         "age_bin": "1",
         "alcohol": "0",
         "cardiovascular_disease": "0",
         "cholesterol": "0",
         "gender": "1",
         "glucose": "0",
         "smoke": "0"
        },
        {
         "BMI_Class": "2",
         "Cluster": "0",
         "MAP_Class": "2",
         "_deepnote_index_column": "8",
         "active": "0",
         "age_bin": "5",
         "alcohol": "0",
         "cardiovascular_disease": "0",
         "cholesterol": "0",
         "gender": "1",
         "glucose": "2",
         "smoke": "0"
        },
        {
         "BMI_Class": "2",
         "Cluster": "1",
         "MAP_Class": "3",
         "_deepnote_index_column": "9",
         "active": "0",
         "age_bin": "5",
         "alcohol": "0",
         "cardiovascular_disease": "1",
         "cholesterol": "2",
         "gender": "1",
         "glucose": "0",
         "smoke": "0"
        }
       ]
      },
      "text/html": [
       "<div>\n",
       "<style scoped>\n",
       "    .dataframe tbody tr th:only-of-type {\n",
       "        vertical-align: middle;\n",
       "    }\n",
       "\n",
       "    .dataframe tbody tr th {\n",
       "        vertical-align: top;\n",
       "    }\n",
       "\n",
       "    .dataframe thead th {\n",
       "        text-align: right;\n",
       "    }\n",
       "</style>\n",
       "<table border=\"1\" class=\"dataframe\">\n",
       "  <thead>\n",
       "    <tr style=\"text-align: right;\">\n",
       "      <th></th>\n",
       "      <th>Cluster</th>\n",
       "      <th>gender</th>\n",
       "      <th>age_bin</th>\n",
       "      <th>BMI_Class</th>\n",
       "      <th>MAP_Class</th>\n",
       "      <th>cholesterol</th>\n",
       "      <th>glucose</th>\n",
       "      <th>smoke</th>\n",
       "      <th>alcohol</th>\n",
       "      <th>active</th>\n",
       "      <th>cardiovascular_disease</th>\n",
       "    </tr>\n",
       "  </thead>\n",
       "  <tbody>\n",
       "    <tr>\n",
       "      <th>0</th>\n",
       "      <td>0</td>\n",
       "      <td>1</td>\n",
       "      <td>3</td>\n",
       "      <td>1</td>\n",
       "      <td>2</td>\n",
       "      <td>0</td>\n",
       "      <td>0</td>\n",
       "      <td>0</td>\n",
       "      <td>0</td>\n",
       "      <td>1</td>\n",
       "      <td>0</td>\n",
       "    </tr>\n",
       "    <tr>\n",
       "      <th>1</th>\n",
       "      <td>1</td>\n",
       "      <td>1</td>\n",
       "      <td>3</td>\n",
       "      <td>2</td>\n",
       "      <td>4</td>\n",
       "      <td>0</td>\n",
       "      <td>0</td>\n",
       "      <td>0</td>\n",
       "      <td>0</td>\n",
       "      <td>1</td>\n",
       "      <td>1</td>\n",
       "    </tr>\n",
       "    <tr>\n",
       "      <th>2</th>\n",
       "      <td>1</td>\n",
       "      <td>1</td>\n",
       "      <td>6</td>\n",
       "      <td>3</td>\n",
       "      <td>3</td>\n",
       "      <td>2</td>\n",
       "      <td>2</td>\n",
       "      <td>0</td>\n",
       "      <td>0</td>\n",
       "      <td>1</td>\n",
       "      <td>1</td>\n",
       "    </tr>\n",
       "    <tr>\n",
       "      <th>3</th>\n",
       "      <td>0</td>\n",
       "      <td>1</td>\n",
       "      <td>4</td>\n",
       "      <td>1</td>\n",
       "      <td>2</td>\n",
       "      <td>0</td>\n",
       "      <td>0</td>\n",
       "      <td>0</td>\n",
       "      <td>0</td>\n",
       "      <td>1</td>\n",
       "      <td>0</td>\n",
       "    </tr>\n",
       "    <tr>\n",
       "      <th>4</th>\n",
       "      <td>0</td>\n",
       "      <td>1</td>\n",
       "      <td>1</td>\n",
       "      <td>1</td>\n",
       "      <td>2</td>\n",
       "      <td>0</td>\n",
       "      <td>0</td>\n",
       "      <td>0</td>\n",
       "      <td>0</td>\n",
       "      <td>0</td>\n",
       "      <td>0</td>\n",
       "    </tr>\n",
       "    <tr>\n",
       "      <th>5</th>\n",
       "      <td>0</td>\n",
       "      <td>1</td>\n",
       "      <td>5</td>\n",
       "      <td>1</td>\n",
       "      <td>1</td>\n",
       "      <td>0</td>\n",
       "      <td>0</td>\n",
       "      <td>1</td>\n",
       "      <td>0</td>\n",
       "      <td>1</td>\n",
       "      <td>0</td>\n",
       "    </tr>\n",
       "    <tr>\n",
       "      <th>6</th>\n",
       "      <td>0</td>\n",
       "      <td>1</td>\n",
       "      <td>4</td>\n",
       "      <td>3</td>\n",
       "      <td>2</td>\n",
       "      <td>0</td>\n",
       "      <td>0</td>\n",
       "      <td>0</td>\n",
       "      <td>0</td>\n",
       "      <td>1</td>\n",
       "      <td>0</td>\n",
       "    </tr>\n",
       "    <tr>\n",
       "      <th>7</th>\n",
       "      <td>0</td>\n",
       "      <td>1</td>\n",
       "      <td>1</td>\n",
       "      <td>1</td>\n",
       "      <td>2</td>\n",
       "      <td>0</td>\n",
       "      <td>0</td>\n",
       "      <td>0</td>\n",
       "      <td>0</td>\n",
       "      <td>1</td>\n",
       "      <td>0</td>\n",
       "    </tr>\n",
       "    <tr>\n",
       "      <th>8</th>\n",
       "      <td>0</td>\n",
       "      <td>1</td>\n",
       "      <td>5</td>\n",
       "      <td>2</td>\n",
       "      <td>2</td>\n",
       "      <td>0</td>\n",
       "      <td>2</td>\n",
       "      <td>0</td>\n",
       "      <td>0</td>\n",
       "      <td>0</td>\n",
       "      <td>0</td>\n",
       "    </tr>\n",
       "    <tr>\n",
       "      <th>9</th>\n",
       "      <td>1</td>\n",
       "      <td>1</td>\n",
       "      <td>5</td>\n",
       "      <td>2</td>\n",
       "      <td>3</td>\n",
       "      <td>2</td>\n",
       "      <td>0</td>\n",
       "      <td>0</td>\n",
       "      <td>0</td>\n",
       "      <td>0</td>\n",
       "      <td>1</td>\n",
       "    </tr>\n",
       "  </tbody>\n",
       "</table>\n",
       "</div>"
      ],
      "text/plain": [
       "   Cluster  gender  age_bin  BMI_Class  MAP_Class  cholesterol  glucose  \\\n",
       "0        0       1        3          1          2            0        0   \n",
       "1        1       1        3          2          4            0        0   \n",
       "2        1       1        6          3          3            2        2   \n",
       "3        0       1        4          1          2            0        0   \n",
       "4        0       1        1          1          2            0        0   \n",
       "5        0       1        5          1          1            0        0   \n",
       "6        0       1        4          3          2            0        0   \n",
       "7        0       1        1          1          2            0        0   \n",
       "8        0       1        5          2          2            0        2   \n",
       "9        1       1        5          2          3            2        0   \n",
       "\n",
       "   smoke  alcohol  active  cardiovascular_disease  \n",
       "0      0        0       1                       0  \n",
       "1      0        0       1                       1  \n",
       "2      0        0       1                       1  \n",
       "3      0        0       1                       0  \n",
       "4      0        0       0                       0  \n",
       "5      1        0       1                       0  \n",
       "6      0        0       1                       0  \n",
       "7      0        0       1                       0  \n",
       "8      0        0       0                       0  \n",
       "9      0        0       0                       1  "
      ]
     },
     "execution_count": 23,
     "metadata": {},
     "output_type": "execute_result"
    }
   ],
   "source": [
    "# merging female and male data\n",
    "df_clusters = pd.concat([df_female, df_male], ignore_index=True, sort=False)\n",
    "df_clusters.head(10)"
   ]
  },
  {
   "cell_type": "code",
   "execution_count": 25,
   "metadata": {
    "cell_id": "75132d00652c4cadbb60d1459e68a0c0",
    "deepnote_cell_type": "code",
    "deepnote_to_be_reexecuted": false,
    "execution_millis": 553,
    "execution_start": 1677521690597,
    "source_hash": "72744d34",
    "tags": []
   },
   "outputs": [
    {
     "data": {
      "image/png": "[encoded data removed]",
      "text/plain": [
       "<Figure size 2000x1000 with 2 Axes>"
      ]
     },
     "metadata": {
      "image/png": {
       "height": 960,
       "width": 1101
      }
     },
     "output_type": "display_data"
    }
   ],
   "source": [
    "# Correlation\n",
    "corr = df_clusters.corr()\n",
    "cmap = sns.diverging_palette(2, 15, as_cmap=True)\n",
    "# Generate a mask for the upper triangle\n",
    "mask = np.zeros_like(corr, dtype=np.bool)\n",
    "mask[np.triu_indices_from(mask)] = True\n",
    "\n",
    "# Set up the matplotlib figure\n",
    "f, ax = plt.subplots(figsize=(20, 10))\n",
    "# Draw the heatmap with the mask and correct aspect ratio\n",
    "sns.heatmap(corr, mask=mask, cmap=cmap, vmax=.7, center=0,annot = True,\n",
    "            square=True, linewidths=.5, cbar_kws={\"shrink\": .5});"
   ]
  },
  {
   "cell_type": "markdown",
   "metadata": {
    "cell_id": "0c9ecb3b31c04f18bf25c0afe587f53f",
    "deepnote_cell_type": "text-cell-h3",
    "formattedRanges": [],
    "is_collapsed": false,
    "tags": []
   },
   "source": [
    "### Machine Learning"
   ]
  },
  {
   "cell_type": "code",
   "execution_count": 26,
   "metadata": {
    "cell_id": "c4d93b7bf910457fa40b1abf15167777",
    "deepnote_cell_type": "code",
    "deepnote_to_be_reexecuted": false,
    "execution_millis": 94,
    "execution_start": 1677522463274,
    "source_hash": "52bc02bd",
    "tags": []
   },
   "outputs": [
    {
     "data": {
      "application/vnd.deepnote.dataframe.v3+json": {
       "column_count": 11,
       "columns": [
        {
         "dtype": "float64",
         "name": "Cluster",
         "stats": {
          "histogram": [
           {
            "bin_end": 6014.4,
            "bin_start": 0,
            "count": 7
           },
           {
            "bin_end": 12028.8,
            "bin_start": 6014.4,
            "count": 0
           },
           {
            "bin_end": 18043.199999999997,
            "bin_start": 12028.8,
            "count": 0
           },
           {
            "bin_end": 24057.6,
            "bin_start": 18043.199999999997,
            "count": 0
           },
           {
            "bin_end": 30072,
            "bin_start": 24057.6,
            "count": 0
           },
           {
            "bin_end": 36086.399999999994,
            "bin_start": 30072,
            "count": 0
           },
           {
            "bin_end": 42100.799999999996,
            "bin_start": 36086.399999999994,
            "count": 0
           },
           {
            "bin_end": 48115.2,
            "bin_start": 42100.799999999996,
            "count": 0
           },
           {
            "bin_end": 54129.6,
            "bin_start": 48115.2,
            "count": 0
           },
           {
            "bin_end": 60144,
            "bin_start": 54129.6,
            "count": 1
           }
          ],
          "max": "60144.0",
          "min": "0.0",
          "nan_count": 0,
          "unique_count": 7
         }
        },
        {
         "dtype": "float64",
         "name": "gender",
         "stats": {
          "histogram": [
           {
            "bin_end": 6014.4,
            "bin_start": 0,
            "count": 7
           },
           {
            "bin_end": 12028.8,
            "bin_start": 6014.4,
            "count": 0
           },
           {
            "bin_end": 18043.199999999997,
            "bin_start": 12028.8,
            "count": 0
           },
           {
            "bin_end": 24057.6,
            "bin_start": 18043.199999999997,
            "count": 0
           },
           {
            "bin_end": 30072,
            "bin_start": 24057.6,
            "count": 0
           },
           {
            "bin_end": 36086.399999999994,
            "bin_start": 30072,
            "count": 0
           },
           {
            "bin_end": 42100.799999999996,
            "bin_start": 36086.399999999994,
            "count": 0
           },
           {
            "bin_end": 48115.2,
            "bin_start": 42100.799999999996,
            "count": 0
           },
           {
            "bin_end": 54129.6,
            "bin_start": 48115.2,
            "count": 0
           },
           {
            "bin_end": 60144,
            "bin_start": 54129.6,
            "count": 1
           }
          ],
          "max": "60144.0",
          "min": "0.0",
          "nan_count": 0,
          "unique_count": 5
         }
        },
        {
         "dtype": "float64",
         "name": "age_bin",
         "stats": {
          "histogram": [
           {
            "bin_end": 6014.4,
            "bin_start": 0,
            "count": 7
           },
           {
            "bin_end": 12028.8,
            "bin_start": 6014.4,
            "count": 0
           },
           {
            "bin_end": 18043.199999999997,
            "bin_start": 12028.8,
            "count": 0
           },
           {
            "bin_end": 24057.6,
            "bin_start": 18043.199999999997,
            "count": 0
           },
           {
            "bin_end": 30072,
            "bin_start": 24057.6,
            "count": 0
           },
           {
            "bin_end": 36086.399999999994,
            "bin_start": 30072,
            "count": 0
           },
           {
            "bin_end": 42100.799999999996,
            "bin_start": 36086.399999999994,
            "count": 0
           },
           {
            "bin_end": 48115.2,
            "bin_start": 42100.799999999996,
            "count": 0
           },
           {
            "bin_end": 54129.6,
            "bin_start": 48115.2,
            "count": 0
           },
           {
            "bin_end": 60144,
            "bin_start": 54129.6,
            "count": 1
           }
          ],
          "max": "60144.0",
          "min": "0.0",
          "nan_count": 0,
          "unique_count": 8
         }
        },
        {
         "dtype": "float64",
         "name": "BMI_Class",
         "stats": {
          "histogram": [
           {
            "bin_end": 6014.4,
            "bin_start": 0,
            "count": 7
           },
           {
            "bin_end": 12028.8,
            "bin_start": 6014.4,
            "count": 0
           },
           {
            "bin_end": 18043.199999999997,
            "bin_start": 12028.8,
            "count": 0
           },
           {
            "bin_end": 24057.6,
            "bin_start": 18043.199999999997,
            "count": 0
           },
           {
            "bin_end": 30072,
            "bin_start": 24057.6,
            "count": 0
           },
           {
            "bin_end": 36086.399999999994,
            "bin_start": 30072,
            "count": 0
           },
           {
            "bin_end": 42100.799999999996,
            "bin_start": 36086.399999999994,
            "count": 0
           },
           {
            "bin_end": 48115.2,
            "bin_start": 42100.799999999996,
            "count": 0
           },
           {
            "bin_end": 54129.6,
            "bin_start": 48115.2,
            "count": 0
           },
           {
            "bin_end": 60144,
            "bin_start": 54129.6,
            "count": 1
           }
          ],
          "max": "60144.0",
          "min": "0.0",
          "nan_count": 0,
          "unique_count": 7
         }
        },
        {
         "dtype": "float64",
         "name": "MAP_Class",
         "stats": {
          "histogram": [
           {
            "bin_end": 6014.4,
            "bin_start": 0,
            "count": 7
           },
           {
            "bin_end": 12028.8,
            "bin_start": 6014.4,
            "count": 0
           },
           {
            "bin_end": 18043.199999999997,
            "bin_start": 12028.8,
            "count": 0
           },
           {
            "bin_end": 24057.6,
            "bin_start": 18043.199999999997,
            "count": 0
           },
           {
            "bin_end": 30072,
            "bin_start": 24057.6,
            "count": 0
           },
           {
            "bin_end": 36086.399999999994,
            "bin_start": 30072,
            "count": 0
           },
           {
            "bin_end": 42100.799999999996,
            "bin_start": 36086.399999999994,
            "count": 0
           },
           {
            "bin_end": 48115.2,
            "bin_start": 42100.799999999996,
            "count": 0
           },
           {
            "bin_end": 54129.6,
            "bin_start": 48115.2,
            "count": 0
           },
           {
            "bin_end": 60144,
            "bin_start": 54129.6,
            "count": 1
           }
          ],
          "max": "60144.0",
          "min": "0.0",
          "nan_count": 0,
          "unique_count": 7
         }
        },
        {
         "dtype": "float64",
         "name": "cholesterol",
         "stats": {
          "histogram": [
           {
            "bin_end": 6014.4,
            "bin_start": 0,
            "count": 7
           },
           {
            "bin_end": 12028.8,
            "bin_start": 6014.4,
            "count": 0
           },
           {
            "bin_end": 18043.199999999997,
            "bin_start": 12028.8,
            "count": 0
           },
           {
            "bin_end": 24057.6,
            "bin_start": 18043.199999999997,
            "count": 0
           },
           {
            "bin_end": 30072,
            "bin_start": 24057.6,
            "count": 0
           },
           {
            "bin_end": 36086.399999999994,
            "bin_start": 30072,
            "count": 0
           },
           {
            "bin_end": 42100.799999999996,
            "bin_start": 36086.399999999994,
            "count": 0
           },
           {
            "bin_end": 48115.2,
            "bin_start": 42100.799999999996,
            "count": 0
           },
           {
            "bin_end": 54129.6,
            "bin_start": 48115.2,
            "count": 0
           },
           {
            "bin_end": 60144,
            "bin_start": 54129.6,
            "count": 1
           }
          ],
          "max": "60144.0",
          "min": "0.0",
          "nan_count": 0,
          "unique_count": 5
         }
        },
        {
         "dtype": "float64",
         "name": "glucose",
         "stats": {
          "histogram": [
           {
            "bin_end": 6014.4,
            "bin_start": 0,
            "count": 7
           },
           {
            "bin_end": 12028.8,
            "bin_start": 6014.4,
            "count": 0
           },
           {
            "bin_end": 18043.199999999997,
            "bin_start": 12028.8,
            "count": 0
           },
           {
            "bin_end": 24057.6,
            "bin_start": 18043.199999999997,
            "count": 0
           },
           {
            "bin_end": 30072,
            "bin_start": 24057.6,
            "count": 0
           },
           {
            "bin_end": 36086.399999999994,
            "bin_start": 30072,
            "count": 0
           },
           {
            "bin_end": 42100.799999999996,
            "bin_start": 36086.399999999994,
            "count": 0
           },
           {
            "bin_end": 48115.2,
            "bin_start": 42100.799999999996,
            "count": 0
           },
           {
            "bin_end": 54129.6,
            "bin_start": 48115.2,
            "count": 0
           },
           {
            "bin_end": 60144,
            "bin_start": 54129.6,
            "count": 1
           }
          ],
          "max": "60144.0",
          "min": "0.0",
          "nan_count": 0,
          "unique_count": 5
         }
        },
        {
         "dtype": "float64",
         "name": "smoke",
         "stats": {
          "histogram": [
           {
            "bin_end": 6014.4,
            "bin_start": 0,
            "count": 7
           },
           {
            "bin_end": 12028.8,
            "bin_start": 6014.4,
            "count": 0
           },
           {
            "bin_end": 18043.199999999997,
            "bin_start": 12028.8,
            "count": 0
           },
           {
            "bin_end": 24057.6,
            "bin_start": 18043.199999999997,
            "count": 0
           },
           {
            "bin_end": 30072,
            "bin_start": 24057.6,
            "count": 0
           },
           {
            "bin_end": 36086.399999999994,
            "bin_start": 30072,
            "count": 0
           },
           {
            "bin_end": 42100.799999999996,
            "bin_start": 36086.399999999994,
            "count": 0
           },
           {
            "bin_end": 48115.2,
            "bin_start": 42100.799999999996,
            "count": 0
           },
           {
            "bin_end": 54129.6,
            "bin_start": 48115.2,
            "count": 0
           },
           {
            "bin_end": 60144,
            "bin_start": 54129.6,
            "count": 1
           }
          ],
          "max": "60144.0",
          "min": "0.0",
          "nan_count": 0,
          "unique_count": 5
         }
        },
        {
         "dtype": "float64",
         "name": "alcohol",
         "stats": {
          "histogram": [
           {
            "bin_end": 6014.4,
            "bin_start": 0,
            "count": 7
           },
           {
            "bin_end": 12028.8,
            "bin_start": 6014.4,
            "count": 0
           },
           {
            "bin_end": 18043.199999999997,
            "bin_start": 12028.8,
            "count": 0
           },
           {
            "bin_end": 24057.6,
            "bin_start": 18043.199999999997,
            "count": 0
           },
           {
            "bin_end": 30072,
            "bin_start": 24057.6,
            "count": 0
           },
           {
            "bin_end": 36086.399999999994,
            "bin_start": 30072,
            "count": 0
           },
           {
            "bin_end": 42100.799999999996,
            "bin_start": 36086.399999999994,
            "count": 0
           },
           {
            "bin_end": 48115.2,
            "bin_start": 42100.799999999996,
            "count": 0
           },
           {
            "bin_end": 54129.6,
            "bin_start": 48115.2,
            "count": 0
           },
           {
            "bin_end": 60144,
            "bin_start": 54129.6,
            "count": 1
           }
          ],
          "max": "60144.0",
          "min": "0.0",
          "nan_count": 0,
          "unique_count": 5
         }
        },
        {
         "dtype": "float64",
         "name": "active",
         "stats": {
          "histogram": [
           {
            "bin_end": 6014.4,
            "bin_start": 0,
            "count": 7
           },
           {
            "bin_end": 12028.8,
            "bin_start": 6014.4,
            "count": 0
           },
           {
            "bin_end": 18043.199999999997,
            "bin_start": 12028.8,
            "count": 0
           },
           {
            "bin_end": 24057.6,
            "bin_start": 18043.199999999997,
            "count": 0
           },
           {
            "bin_end": 30072,
            "bin_start": 24057.6,
            "count": 0
           },
           {
            "bin_end": 36086.399999999994,
            "bin_start": 30072,
            "count": 0
           },
           {
            "bin_end": 42100.799999999996,
            "bin_start": 36086.399999999994,
            "count": 0
           },
           {
            "bin_end": 48115.2,
            "bin_start": 42100.799999999996,
            "count": 0
           },
           {
            "bin_end": 54129.6,
            "bin_start": 48115.2,
            "count": 0
           },
           {
            "bin_end": 60144,
            "bin_start": 54129.6,
            "count": 1
           }
          ],
          "max": "60144.0",
          "min": "0.0",
          "nan_count": 0,
          "unique_count": 5
         }
        },
        {
         "dtype": "float64",
         "name": "cardiovascular_disease",
         "stats": {
          "histogram": [
           {
            "bin_end": 6014.4,
            "bin_start": 0,
            "count": 7
           },
           {
            "bin_end": 12028.8,
            "bin_start": 6014.4,
            "count": 0
           },
           {
            "bin_end": 18043.199999999997,
            "bin_start": 12028.8,
            "count": 0
           },
           {
            "bin_end": 24057.6,
            "bin_start": 18043.199999999997,
            "count": 0
           },
           {
            "bin_end": 30072,
            "bin_start": 24057.6,
            "count": 0
           },
           {
            "bin_end": 36086.399999999994,
            "bin_start": 30072,
            "count": 0
           },
           {
            "bin_end": 42100.799999999996,
            "bin_start": 36086.399999999994,
            "count": 0
           },
           {
            "bin_end": 48115.2,
            "bin_start": 42100.799999999996,
            "count": 0
           },
           {
            "bin_end": 54129.6,
            "bin_start": 48115.2,
            "count": 0
           },
           {
            "bin_end": 60144,
            "bin_start": 54129.6,
            "count": 1
           }
          ],
          "max": "60144.0",
          "min": "0.0",
          "nan_count": 0,
          "unique_count": 5
         }
        },
        {
         "dtype": "object",
         "name": "_deepnote_index_column"
        }
       ],
       "row_count": 8,
       "rows": [
        {
         "BMI_Class": "60144.0",
         "Cluster": "60144.0",
         "MAP_Class": "60144.0",
         "_deepnote_index_column": "count",
         "active": "60144.0",
         "age_bin": "60144.0",
         "alcohol": "60144.0",
         "cardiovascular_disease": "60144.0",
         "cholesterol": "60144.0",
         "gender": "60144.0",
         "glucose": "60144.0",
         "smoke": "60144.0"
        },
        {
         "BMI_Class": "1.9521315509444002",
         "Cluster": "1.677324421388667",
         "MAP_Class": "2.237646315509444",
         "_deepnote_index_column": "mean",
         "active": "0.8036545623836127",
         "age_bin": "3.9534783187017823",
         "alcohol": "0.05189212556530992",
         "cardiovascular_disease": "0.48824487895716945",
         "cholesterol": "0.35097432827879754",
         "gender": "0.3472998137802607",
         "glucose": "0.22022146847565843",
         "smoke": "0.08562782654961426"
        },
        {
         "BMI_Class": "0.9236628699751597",
         "Cluster": "1.0795075414420037",
         "MAP_Class": "0.9386189980344097",
         "_deepnote_index_column": "std",
         "active": "0.39723611415509646",
         "age_bin": "1.386595913494752",
         "alcohol": "0.22181107030273542",
         "cardiovascular_disease": "0.49986595362298786",
         "cholesterol": "0.6701003776618653",
         "gender": "0.4761159755666116",
         "glucose": "0.5675986931290558",
         "smoke": "0.27981601758241686"
        },
        {
         "BMI_Class": "0.0",
         "Cluster": "0.0",
         "MAP_Class": "0.0",
         "_deepnote_index_column": "min",
         "active": "0.0",
         "age_bin": "0.0",
         "alcohol": "0.0",
         "cardiovascular_disease": "0.0",
         "cholesterol": "0.0",
         "gender": "0.0",
         "glucose": "0.0",
         "smoke": "0.0"
        },
        {
         "BMI_Class": "1.0",
         "Cluster": "1.0",
         "MAP_Class": "2.0",
         "_deepnote_index_column": "25%",
         "active": "1.0",
         "age_bin": "3.0",
         "alcohol": "0.0",
         "cardiovascular_disease": "0.0",
         "cholesterol": "0.0",
         "gender": "0.0",
         "glucose": "0.0",
         "smoke": "0.0"
        },
        {
         "BMI_Class": "2.0",
         "Cluster": "2.0",
         "MAP_Class": "2.0",
         "_deepnote_index_column": "50%",
         "active": "1.0",
         "age_bin": "4.0",
         "alcohol": "0.0",
         "cardiovascular_disease": "0.0",
         "cholesterol": "0.0",
         "gender": "0.0",
         "glucose": "0.0",
         "smoke": "0.0"
        },
        {
         "BMI_Class": "2.0",
         "Cluster": "2.0",
         "MAP_Class": "3.0",
         "_deepnote_index_column": "75%",
         "active": "1.0",
         "age_bin": "5.0",
         "alcohol": "0.0",
         "cardiovascular_disease": "1.0",
         "cholesterol": "0.0",
         "gender": "1.0",
         "glucose": "0.0",
         "smoke": "0.0"
        },
        {
         "BMI_Class": "5.0",
         "Cluster": "3.0",
         "MAP_Class": "5.0",
         "_deepnote_index_column": "max",
         "active": "1.0",
         "age_bin": "6.0",
         "alcohol": "1.0",
         "cardiovascular_disease": "1.0",
         "cholesterol": "2.0",
         "gender": "1.0",
         "glucose": "2.0",
         "smoke": "1.0"
        }
       ]
      },
      "text/html": [
       "<div>\n",
       "<style scoped>\n",
       "    .dataframe tbody tr th:only-of-type {\n",
       "        vertical-align: middle;\n",
       "    }\n",
       "\n",
       "    .dataframe tbody tr th {\n",
       "        vertical-align: top;\n",
       "    }\n",
       "\n",
       "    .dataframe thead th {\n",
       "        text-align: right;\n",
       "    }\n",
       "</style>\n",
       "<table border=\"1\" class=\"dataframe\">\n",
       "  <thead>\n",
       "    <tr style=\"text-align: right;\">\n",
       "      <th></th>\n",
       "      <th>Cluster</th>\n",
       "      <th>gender</th>\n",
       "      <th>age_bin</th>\n",
       "      <th>BMI_Class</th>\n",
       "      <th>MAP_Class</th>\n",
       "      <th>cholesterol</th>\n",
       "      <th>glucose</th>\n",
       "      <th>smoke</th>\n",
       "      <th>alcohol</th>\n",
       "      <th>active</th>\n",
       "      <th>cardiovascular_disease</th>\n",
       "    </tr>\n",
       "  </thead>\n",
       "  <tbody>\n",
       "    <tr>\n",
       "      <th>count</th>\n",
       "      <td>60144.000000</td>\n",
       "      <td>60144.000000</td>\n",
       "      <td>60144.000000</td>\n",
       "      <td>60144.000000</td>\n",
       "      <td>60144.000000</td>\n",
       "      <td>60144.000000</td>\n",
       "      <td>60144.000000</td>\n",
       "      <td>60144.000000</td>\n",
       "      <td>60144.000000</td>\n",
       "      <td>60144.000000</td>\n",
       "      <td>60144.000000</td>\n",
       "    </tr>\n",
       "    <tr>\n",
       "      <th>mean</th>\n",
       "      <td>1.677324</td>\n",
       "      <td>0.347300</td>\n",
       "      <td>3.953478</td>\n",
       "      <td>1.952132</td>\n",
       "      <td>2.237646</td>\n",
       "      <td>0.350974</td>\n",
       "      <td>0.220221</td>\n",
       "      <td>0.085628</td>\n",
       "      <td>0.051892</td>\n",
       "      <td>0.803655</td>\n",
       "      <td>0.488245</td>\n",
       "    </tr>\n",
       "    <tr>\n",
       "      <th>std</th>\n",
       "      <td>1.079508</td>\n",
       "      <td>0.476116</td>\n",
       "      <td>1.386596</td>\n",
       "      <td>0.923663</td>\n",
       "      <td>0.938619</td>\n",
       "      <td>0.670100</td>\n",
       "      <td>0.567599</td>\n",
       "      <td>0.279816</td>\n",
       "      <td>0.221811</td>\n",
       "      <td>0.397236</td>\n",
       "      <td>0.499866</td>\n",
       "    </tr>\n",
       "    <tr>\n",
       "      <th>min</th>\n",
       "      <td>0.000000</td>\n",
       "      <td>0.000000</td>\n",
       "      <td>0.000000</td>\n",
       "      <td>0.000000</td>\n",
       "      <td>0.000000</td>\n",
       "      <td>0.000000</td>\n",
       "      <td>0.000000</td>\n",
       "      <td>0.000000</td>\n",
       "      <td>0.000000</td>\n",
       "      <td>0.000000</td>\n",
       "      <td>0.000000</td>\n",
       "    </tr>\n",
       "    <tr>\n",
       "      <th>25%</th>\n",
       "      <td>1.000000</td>\n",
       "      <td>0.000000</td>\n",
       "      <td>3.000000</td>\n",
       "      <td>1.000000</td>\n",
       "      <td>2.000000</td>\n",
       "      <td>0.000000</td>\n",
       "      <td>0.000000</td>\n",
       "      <td>0.000000</td>\n",
       "      <td>0.000000</td>\n",
       "      <td>1.000000</td>\n",
       "      <td>0.000000</td>\n",
       "    </tr>\n",
       "    <tr>\n",
       "      <th>50%</th>\n",
       "      <td>2.000000</td>\n",
       "      <td>0.000000</td>\n",
       "      <td>4.000000</td>\n",
       "      <td>2.000000</td>\n",
       "      <td>2.000000</td>\n",
       "      <td>0.000000</td>\n",
       "      <td>0.000000</td>\n",
       "      <td>0.000000</td>\n",
       "      <td>0.000000</td>\n",
       "      <td>1.000000</td>\n",
       "      <td>0.000000</td>\n",
       "    </tr>\n",
       "    <tr>\n",
       "      <th>75%</th>\n",
       "      <td>2.000000</td>\n",
       "      <td>1.000000</td>\n",
       "      <td>5.000000</td>\n",
       "      <td>2.000000</td>\n",
       "      <td>3.000000</td>\n",
       "      <td>0.000000</td>\n",
       "      <td>0.000000</td>\n",
       "      <td>0.000000</td>\n",
       "      <td>0.000000</td>\n",
       "      <td>1.000000</td>\n",
       "      <td>1.000000</td>\n",
       "    </tr>\n",
       "    <tr>\n",
       "      <th>max</th>\n",
       "      <td>3.000000</td>\n",
       "      <td>1.000000</td>\n",
       "      <td>6.000000</td>\n",
       "      <td>5.000000</td>\n",
       "      <td>5.000000</td>\n",
       "      <td>2.000000</td>\n",
       "      <td>2.000000</td>\n",
       "      <td>1.000000</td>\n",
       "      <td>1.000000</td>\n",
       "      <td>1.000000</td>\n",
       "      <td>1.000000</td>\n",
       "    </tr>\n",
       "  </tbody>\n",
       "</table>\n",
       "</div>"
      ],
      "text/plain": [
       "            Cluster        gender       age_bin     BMI_Class     MAP_Class  \\\n",
       "count  60144.000000  60144.000000  60144.000000  60144.000000  60144.000000   \n",
       "mean       1.677324      0.347300      3.953478      1.952132      2.237646   \n",
       "std        1.079508      0.476116      1.386596      0.923663      0.938619   \n",
       "min        0.000000      0.000000      0.000000      0.000000      0.000000   \n",
       "25%        1.000000      0.000000      3.000000      1.000000      2.000000   \n",
       "50%        2.000000      0.000000      4.000000      2.000000      2.000000   \n",
       "75%        2.000000      1.000000      5.000000      2.000000      3.000000   \n",
       "max        3.000000      1.000000      6.000000      5.000000      5.000000   \n",
       "\n",
       "        cholesterol       glucose         smoke       alcohol        active  \\\n",
       "count  60144.000000  60144.000000  60144.000000  60144.000000  60144.000000   \n",
       "mean       0.350974      0.220221      0.085628      0.051892      0.803655   \n",
       "std        0.670100      0.567599      0.279816      0.221811      0.397236   \n",
       "min        0.000000      0.000000      0.000000      0.000000      0.000000   \n",
       "25%        0.000000      0.000000      0.000000      0.000000      1.000000   \n",
       "50%        0.000000      0.000000      0.000000      0.000000      1.000000   \n",
       "75%        0.000000      0.000000      0.000000      0.000000      1.000000   \n",
       "max        2.000000      2.000000      1.000000      1.000000      1.000000   \n",
       "\n",
       "       cardiovascular_disease  \n",
       "count            60144.000000  \n",
       "mean                 0.488245  \n",
       "std                  0.499866  \n",
       "min                  0.000000  \n",
       "25%                  0.000000  \n",
       "50%                  0.000000  \n",
       "75%                  1.000000  \n",
       "max                  1.000000  "
      ]
     },
     "execution_count": 26,
     "metadata": {},
     "output_type": "execute_result"
    }
   ],
   "source": [
    "le = LabelEncoder()\n",
    "df_ml = df_clusters.apply(le.fit_transform)\n",
    "df_ml.describe()"
   ]
  },
  {
   "cell_type": "code",
   "execution_count": 28,
   "metadata": {
    "cell_id": "e6e6336e246840e08a2e4d99e3ff185c",
    "deepnote_cell_type": "code",
    "deepnote_to_be_reexecuted": false,
    "execution_millis": 15,
    "execution_start": 1677523102370,
    "source_hash": "92ee054a",
    "tags": []
   },
   "outputs": [],
   "source": [
    "X = df_clusters.drop('cardiovascular_disease', axis=1)\n",
    "y = df_clusters['cardiovascular_disease']\n",
    "\n",
    "# Split the data into training and testing sets. 80% of data is training data, set aside other 20% for test\n",
    "X_train_val, X_test, y_train_val, y_test = train_test_split(X, y, test_size=0.2, random_state=42)\n",
    "\n",
    "# Remaining 80% is split into valuation and test sets. \n",
    "X_train, X_val, y_train, y_val = train_test_split(X_train_val, y_train_val, test_size=0.25, random_state=42)"
   ]
  },
  {
   "cell_type": "code",
   "execution_count": 33,
   "metadata": {
    "cell_id": "22299ca966674c088d64540abb6bf6cb",
    "deepnote_cell_type": "code",
    "deepnote_to_be_reexecuted": false,
    "execution_millis": 2,
    "execution_start": 1677524274232,
    "source_hash": "42dec7b3",
    "tags": []
   },
   "outputs": [],
   "source": [
    "# Instantiate the models\n",
    "decision_tree = DecisionTreeClassifier()\n",
    "logreg_kmodes = LogisticRegression()\n",
    "ada_kmodes = AdaBoostClassifier()\n",
    "gb_kmodes = GradientBoostingClassifier()\n",
    "rf_kmodes = RandomForestClassifier()"
   ]
  },
  {
   "cell_type": "code",
   "execution_count": 34,
   "metadata": {
    "cell_id": "afe0c27a5c1544fca4c23a8969c6a35f",
    "deepnote_cell_type": "code",
    "deepnote_to_be_reexecuted": false,
    "execution_millis": 191,
    "execution_start": 1677524283865,
    "source_hash": "6116c055",
    "tags": []
   },
   "outputs": [
    {
     "name": "stdout",
     "output_type": "stream",
     "text": [
      "DecisionTree Classifier\n",
      "Accuracy on validation set: 0.8510266855100175\n",
      "Accuracy on test set: 0.8567628231773214\n",
      "Cross-validation score: 0.8513769094876859\n",
      "Confusion matrix:\n",
      "[[5524  648]\n",
      " [1075 4782]]\n",
      "Classification report:\n",
      "              precision    recall  f1-score   support\n",
      "\n",
      "           0       0.84      0.90      0.87      6172\n",
      "           1       0.88      0.82      0.85      5857\n",
      "\n",
      "    accuracy                           0.86     12029\n",
      "   macro avg       0.86      0.86      0.86     12029\n",
      "weighted avg       0.86      0.86      0.86     12029\n",
      "\n",
      "\n"
     ]
    }
   ],
   "source": [
    "# Fit and evaluate the DecisionTree Classifier model\n",
    "decision_tree.fit(X_train, y_train)\n",
    "y_val_pred = decision_tree.predict(X_val)\n",
    "y_test_pred = decision_tree.predict(X_test)\n",
    "cv_scores = cross_val_score(decision_tree, X_train_val, y_train_val, cv=5).mean()\n",
    "print(\"DecisionTree Classifier\")\n",
    "print(f\"Accuracy on validation set: {accuracy_score(y_val, y_val_pred)}\")\n",
    "print(f\"Accuracy on test set: {accuracy_score(y_test, y_test_pred)}\")\n",
    "print(f\"Cross-validation score: {cv_scores}\")\n",
    "print(f\"Confusion matrix:\\n{confusion_matrix(y_test, y_test_pred)}\")\n",
    "print(f\"Classification report:\\n{classification_report(y_test, y_test_pred)}\\n\")"
   ]
  },
  {
   "cell_type": "code",
   "execution_count": 35,
   "metadata": {
    "cell_id": "4afca2083738492ba8e3066ccc9df709",
    "deepnote_cell_type": "code",
    "deepnote_to_be_reexecuted": false,
    "execution_millis": 211,
    "execution_start": 1677524408905,
    "source_hash": "10cfd0dc",
    "tags": []
   },
   "outputs": [
    {
     "data": {
      "image/png": "[encoded data removed]",
      "text/plain": [
       "<Figure size 640x480 with 2 Axes>"
      ]
     },
     "metadata": {
      "image/png": {
       "height": 432,
       "width": 515
      }
     },
     "output_type": "display_data"
    }
   ],
   "source": [
    "plot_confusion_matrix(decision_tree, X_test, y_test);"
   ]
  },
  {
   "cell_type": "code",
   "execution_count": 36,
   "metadata": {
    "cell_id": "5e2714a7e062495aad95f741a832b947",
    "deepnote_cell_type": "code",
    "deepnote_to_be_reexecuted": false,
    "execution_millis": 5138,
    "execution_start": 1677524478924,
    "source_hash": "ee10e801",
    "tags": []
   },
   "outputs": [
    {
     "name": "stdout",
     "output_type": "stream",
     "text": [
      "Logistic Regression\n",
      "Accuracy on validation set: 0.7181810624324549\n",
      "Accuracy on test set: 0.7193449164519079\n",
      "Cross-validation score: 0.7134365582458694\n",
      "Confusion matrix:\n",
      "[[4525 1647]\n",
      " [1729 4128]]\n",
      "Classification report:\n",
      "              precision    recall  f1-score   support\n",
      "\n",
      "           0       0.72      0.73      0.73      6172\n",
      "           1       0.71      0.70      0.71      5857\n",
      "\n",
      "    accuracy                           0.72     12029\n",
      "   macro avg       0.72      0.72      0.72     12029\n",
      "weighted avg       0.72      0.72      0.72     12029\n",
      "\n",
      "\n"
     ]
    }
   ],
   "source": [
    "# Fit and evaluate the Logistic Regression model\n",
    "logreg_kmodes.fit(X_train, y_train)\n",
    "y_val_pred = logreg_kmodes.predict(X_val)\n",
    "y_test_pred = logreg_kmodes.predict(X_test)\n",
    "cv_scores = cross_val_score(logreg_kmodes, X_train_val, y_train_val, cv=5).mean()\n",
    "print(\"Logistic Regression\")\n",
    "print(f\"Accuracy on validation set: {accuracy_score(y_val, y_val_pred)}\")\n",
    "print(f\"Accuracy on test set: {accuracy_score(y_test, y_test_pred)}\")\n",
    "print(f\"Cross-validation score: {cv_scores}\")\n",
    "print(f\"Confusion matrix:\\n{confusion_matrix(y_test, y_test_pred)}\")\n",
    "print(f\"Classification report:\\n{classification_report(y_test, y_test_pred)}\\n\")"
   ]
  },
  {
   "cell_type": "code",
   "execution_count": 37,
   "metadata": {
    "cell_id": "20c283fa7a90433388f6ab0a785e7859",
    "deepnote_cell_type": "code",
    "deepnote_to_be_reexecuted": false,
    "execution_millis": 298,
    "execution_start": 1677524552788,
    "source_hash": "577489a2",
    "tags": []
   },
   "outputs": [
    {
     "data": {
      "image/png": "[encoded data removed]",
      "text/plain": [
       "<Figure size 640x480 with 2 Axes>"
      ]
     },
     "metadata": {
      "image/png": {
       "height": 435,
       "width": 515
      }
     },
     "output_type": "display_data"
    }
   ],
   "source": [
    "plot_confusion_matrix(logreg_kmodes, X_test, y_test);"
   ]
  },
  {
   "cell_type": "code",
   "execution_count": 38,
   "metadata": {
    "cell_id": "deae40d267634438a1265d24bfbe4403",
    "deepnote_cell_type": "code",
    "deepnote_to_be_reexecuted": false,
    "execution_millis": 3436,
    "execution_start": 1677524658341,
    "source_hash": "6d548e4f",
    "tags": []
   },
   "outputs": [
    {
     "name": "stdout",
     "output_type": "stream",
     "text": [
      "Adaboost Classifier\n",
      "Accuracy on validation set: 0.8368941724166598\n",
      "Accuracy on test set: 0.8411339263446671\n",
      "Cross-validation score: 0.8338148186636184\n",
      "Confusion matrix:\n",
      "[[5269  903]\n",
      " [1008 4849]]\n",
      "Classification report:\n",
      "              precision    recall  f1-score   support\n",
      "\n",
      "           0       0.84      0.85      0.85      6172\n",
      "           1       0.84      0.83      0.84      5857\n",
      "\n",
      "    accuracy                           0.84     12029\n",
      "   macro avg       0.84      0.84      0.84     12029\n",
      "weighted avg       0.84      0.84      0.84     12029\n",
      "\n",
      "\n"
     ]
    }
   ],
   "source": [
    "# Fit and evaluate the Adaboost Classifier model\n",
    "ada_kmodes.fit(X_train, y_train)\n",
    "y_val_pred = ada_kmodes.predict(X_val)\n",
    "y_test_pred = ada_kmodes.predict(X_test)\n",
    "cv_scores = cross_val_score(ada_kmodes, X_train_val, y_train_val, cv=5).mean()\n",
    "print(\"Adaboost Classifier\")\n",
    "print(f\"Accuracy on validation set: {accuracy_score(y_val, y_val_pred)}\")\n",
    "print(f\"Accuracy on test set: {accuracy_score(y_test, y_test_pred)}\")\n",
    "print(f\"Cross-validation score: {cv_scores}\")\n",
    "print(f\"Confusion matrix:\\n{confusion_matrix(y_test, y_test_pred)}\")\n",
    "print(f\"Classification report:\\n{classification_report(y_test, y_test_pred)}\\n\")"
   ]
  },
  {
   "cell_type": "code",
   "execution_count": 39,
   "metadata": {
    "cell_id": "59e50161d773467b8728d1a42b937991",
    "deepnote_cell_type": "code",
    "deepnote_to_be_reexecuted": false,
    "execution_millis": 302,
    "execution_start": 1677524674927,
    "source_hash": "e803c915",
    "tags": []
   },
   "outputs": [
    {
     "data": {
      "image/png": "[encoded data removed]",
      "text/plain": [
       "<Figure size 640x480 with 2 Axes>"
      ]
     },
     "metadata": {
      "image/png": {
       "height": 432,
       "width": 515
      }
     },
     "output_type": "display_data"
    }
   ],
   "source": [
    "plot_confusion_matrix(ada_kmodes, X_test, y_test);"
   ]
  },
  {
   "cell_type": "code",
   "execution_count": 41,
   "metadata": {
    "cell_id": "7a519bf6f8b54ccb8327390ace482622",
    "deepnote_cell_type": "code",
    "deepnote_to_be_reexecuted": false,
    "execution_millis": 8212,
    "execution_start": 1677524761949,
    "source_hash": "d814aeb7",
    "tags": []
   },
   "outputs": [
    {
     "name": "stdout",
     "output_type": "stream",
     "text": [
      "Gradientboost Classifier\n",
      "Accuracy on validation set: 0.852606201679275\n",
      "Accuracy on test set: 0.8539363205586499\n",
      "Cross-validation score: 0.8525823547750182\n",
      "Classification report:\n",
      "              precision    recall  f1-score   support\n",
      "\n",
      "           0       0.86      0.85      0.86      6172\n",
      "           1       0.85      0.85      0.85      5857\n",
      "\n",
      "    accuracy                           0.85     12029\n",
      "   macro avg       0.85      0.85      0.85     12029\n",
      "weighted avg       0.85      0.85      0.85     12029\n",
      "\n",
      "\n"
     ]
    }
   ],
   "source": [
    "# Fit and evaluate the Gradientboost Classifier model\n",
    "gb_kmodes.fit(X_train, y_train)\n",
    "y_val_pred = gb_kmodes.predict(X_val)\n",
    "y_test_pred = gb_kmodes.predict(X_test)\n",
    "cv_scores = cross_val_score(gb_kmodes, X_train_val, y_train_val, cv=5).mean()\n",
    "print(\"Gradientboost Classifier\")\n",
    "print(f\"Accuracy on validation set: {accuracy_score(y_val, y_val_pred)}\")\n",
    "print(f\"Accuracy on test set: {accuracy_score(y_test, y_test_pred)}\")\n",
    "print(f\"Cross-validation score: {cv_scores}\")\n",
    "print(f\"Classification report:\\n{classification_report(y_test, y_test_pred)}\\n\")"
   ]
  },
  {
   "cell_type": "code",
   "execution_count": 42,
   "metadata": {
    "cell_id": "d4d093184fe24f0589b3a207a0f7eea8",
    "deepnote_cell_type": "code",
    "deepnote_to_be_reexecuted": false,
    "execution_millis": 269,
    "execution_start": 1677524873448,
    "source_hash": "a5297eeb",
    "tags": []
   },
   "outputs": [
    {
     "data": {
      "image/png": "[encoded data removed]",
      "text/plain": [
       "<Figure size 640x480 with 2 Axes>"
      ]
     },
     "metadata": {
      "image/png": {
       "height": 432,
       "width": 515
      }
     },
     "output_type": "display_data"
    }
   ],
   "source": [
    "plot_confusion_matrix(gb_kmodes, X_test, y_test);"
   ]
  },
  {
   "cell_type": "code",
   "execution_count": 43,
   "metadata": {
    "cell_id": "a117c3f54d98495fad6c5be741975e2a",
    "deepnote_cell_type": "code",
    "deepnote_to_be_reexecuted": false,
    "execution_millis": 7106,
    "execution_start": 1677524929445,
    "source_hash": "5a925dc8",
    "tags": []
   },
   "outputs": [
    {
     "name": "stdout",
     "output_type": "stream",
     "text": [
      "Random Forest Classifier\n",
      "Accuracy on validation set: 0.8529387313991188\n",
      "Accuracy on test set: 0.8608363122454069\n",
      "Cross-validation score: 0.8536630988257301\n",
      "Classification report:\n",
      "              precision    recall  f1-score   support\n",
      "\n",
      "           0       0.85      0.89      0.87      6172\n",
      "           1       0.88      0.83      0.85      5857\n",
      "\n",
      "    accuracy                           0.86     12029\n",
      "   macro avg       0.86      0.86      0.86     12029\n",
      "weighted avg       0.86      0.86      0.86     12029\n",
      "\n",
      "\n"
     ]
    }
   ],
   "source": [
    "# Fit and evaluate the Random Forest Classifier model\n",
    "rf_kmodes.fit(X_train, y_train)\n",
    "y_val_pred = rf_kmodes.predict(X_val)\n",
    "y_test_pred = rf_kmodes.predict(X_test)\n",
    "cv_scores = cross_val_score(rf_kmodes, X_train_val, y_train_val, cv=5).mean()\n",
    "print(\"Random Forest Classifier\")\n",
    "print(f\"Accuracy on validation set: {accuracy_score(y_val, y_val_pred)}\")\n",
    "print(f\"Accuracy on test set: {accuracy_score(y_test, y_test_pred)}\")\n",
    "print(f\"Cross-validation score: {cv_scores}\")\n",
    "print(f\"Classification report:\\n{classification_report(y_test, y_test_pred)}\\n\")"
   ]
  },
  {
   "cell_type": "code",
   "execution_count": 44,
   "metadata": {
    "cell_id": "e1216d7d4f8f45109072767956e9ee76",
    "deepnote_cell_type": "code",
    "deepnote_to_be_reexecuted": false,
    "execution_millis": 364,
    "execution_start": 1677525016192,
    "source_hash": "3ada505a",
    "tags": []
   },
   "outputs": [
    {
     "data": {
      "image/png": "[encoded data removed]",
      "text/plain": [
       "<Figure size 640x480 with 2 Axes>"
      ]
     },
     "metadata": {
      "image/png": {
       "height": 432,
       "width": 515
      }
     },
     "output_type": "display_data"
    }
   ],
   "source": [
    "plot_confusion_matrix(rf_kmodes, X_test, y_test);"
   ]
  },
  {
   "cell_type": "markdown",
   "metadata": {
    "cell_id": "8ad159d57da6455ab3b346410c19df8d",
    "deepnote_cell_type": "text-cell-h3",
    "formattedRanges": [],
    "is_collapsed": false,
    "tags": []
   },
   "source": [
    "### Appending Results"
   ]
  },
  {
   "cell_type": "code",
   "execution_count": null,
   "metadata": {
    "cell_id": "8257cbca23654072a9e79f0065f43dd8",
    "deepnote_cell_type": "code",
    "tags": []
   },
   "outputs": [],
   "source": []
  },
  {
   "cell_type": "markdown",
   "metadata": {
    "created_in_deepnote_cell": true,
    "deepnote_cell_type": "markdown",
    "tags": []
   },
   "source": [
    "<a style='text-decoration:none;line-height:16px;display:flex;color:#5B5B62;padding:10px;justify-content:end;' href='https://deepnote.com?utm_source=created-in-deepnote-cell&projectId=ce76747e-b0f1-459f-822a-5c7e53ff363d' target=\"_blank\">\n",
    "<img alt='Created in deepnote.com' style='display:inline;max-height:16px;margin:0px;margin-right:7.5px;' src='data:image/svg+xml;base64,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' > </img>\n",
    "Created in <span style='font-weight:600;margin-left:4px;'>Deepnote</span></a>"
   ]
  }
 ],
 "metadata": {
  "deepnote": {},
  "deepnote_execution_queue": [],
  "deepnote_notebook_id": "456c3ad6c87b4840939da90a98f9afdd",
  "kernelspec": {
   "display_name": "Python 3 (ipykernel)",
   "language": "python",
   "name": "python3"
  },
  "language_info": {
   "codemirror_mode": {
    "name": "ipython",
    "version": 3
   },
   "file_extension": ".py",
   "mimetype": "text/x-python",
   "name": "python",
   "nbconvert_exporter": "python",
   "pygments_lexer": "ipython3",
   "version": "3.9.13"
  }
 },
 "nbformat": 4,
 "nbformat_minor": 4
}
